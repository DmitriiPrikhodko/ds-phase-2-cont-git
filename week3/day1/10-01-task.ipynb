{
 "cells": [
  {
   "attachments": {},
   "cell_type": "markdown",
   "id": "97fe2913",
   "metadata": {
    "papermill": {
     "duration": 0.028457,
     "end_time": "2021-07-23T09:52:04.610203",
     "exception": false,
     "start_time": "2021-07-23T09:52:04.581746",
     "status": "completed"
    },
    "tags": []
   },
   "source": [
    "# Фаза 2 • Неделя 10 • Понедельник\n",
    "## Обработка естественного языка\n",
    "### Рекуррентные нейронные сети • RNN & LSTM"
   ]
  },
  {
   "cell_type": "code",
   "execution_count": 1,
   "id": "539bf435",
   "metadata": {
    "execution": {
     "iopub.execute_input": "2021-07-23T09:52:04.839482Z",
     "iopub.status.busy": "2021-07-23T09:52:04.838356Z",
     "iopub.status.idle": "2021-07-23T09:52:08.754663Z",
     "shell.execute_reply": "2021-07-23T09:52:08.753596Z",
     "shell.execute_reply.started": "2021-07-23T09:49:55.817337Z"
    },
    "papermill": {
     "duration": 3.983566,
     "end_time": "2021-07-23T09:52:08.754832",
     "exception": false,
     "start_time": "2021-07-23T09:52:04.771266",
     "status": "completed"
    },
    "tags": []
   },
   "outputs": [],
   "source": [
    "import os\n",
    "import numpy as np\n",
    "import pandas as pd\n",
    "\n",
    "import matplotlib.pyplot as plt\n",
    "\n",
    "import re\n",
    "import string\n",
    "from collections import Counter\n",
    "from nltk.corpus import stopwords\n",
    "stop_words = set(stopwords.words('english'))\n",
    "\n",
    "from sklearn.model_selection import train_test_split\n",
    "\n",
    "import torch\n",
    "from torch.utils.data import DataLoader, TensorDataset\n",
    "import torch.nn as nn\n",
    "import torchutils as tu\n",
    "from torchmetrics.classification import BinaryAccuracy"
   ]
  },
  {
   "cell_type": "code",
   "execution_count": 2,
   "id": "a38585fc",
   "metadata": {
    "execution": {
     "iopub.execute_input": "2021-07-23T09:52:08.868628Z",
     "iopub.status.busy": "2021-07-23T09:52:08.867588Z",
     "iopub.status.idle": "2021-07-23T09:52:10.384886Z",
     "shell.execute_reply": "2021-07-23T09:52:10.384199Z",
     "shell.execute_reply.started": "2021-07-23T09:49:55.826424Z"
    },
    "papermill": {
     "duration": 1.549223,
     "end_time": "2021-07-23T09:52:10.385044",
     "exception": false,
     "start_time": "2021-07-23T09:52:08.835821",
     "status": "completed"
    },
    "tags": []
   },
   "outputs": [
    {
     "data": {
      "text/html": [
       "<div>\n",
       "<style scoped>\n",
       "    .dataframe tbody tr th:only-of-type {\n",
       "        vertical-align: middle;\n",
       "    }\n",
       "\n",
       "    .dataframe tbody tr th {\n",
       "        vertical-align: top;\n",
       "    }\n",
       "\n",
       "    .dataframe thead th {\n",
       "        text-align: right;\n",
       "    }\n",
       "</style>\n",
       "<table border=\"1\" class=\"dataframe\">\n",
       "  <thead>\n",
       "    <tr style=\"text-align: right;\">\n",
       "      <th></th>\n",
       "      <th>review</th>\n",
       "      <th>sentiment</th>\n",
       "    </tr>\n",
       "  </thead>\n",
       "  <tbody>\n",
       "    <tr>\n",
       "      <th>0</th>\n",
       "      <td>One of the other reviewers has mentioned that ...</td>\n",
       "      <td>positive</td>\n",
       "    </tr>\n",
       "    <tr>\n",
       "      <th>1</th>\n",
       "      <td>A wonderful little production. &lt;br /&gt;&lt;br /&gt;The...</td>\n",
       "      <td>positive</td>\n",
       "    </tr>\n",
       "    <tr>\n",
       "      <th>2</th>\n",
       "      <td>I thought this was a wonderful way to spend ti...</td>\n",
       "      <td>positive</td>\n",
       "    </tr>\n",
       "    <tr>\n",
       "      <th>3</th>\n",
       "      <td>Basically there's a family where a little boy ...</td>\n",
       "      <td>negative</td>\n",
       "    </tr>\n",
       "    <tr>\n",
       "      <th>4</th>\n",
       "      <td>Petter Mattei's \"Love in the Time of Money\" is...</td>\n",
       "      <td>positive</td>\n",
       "    </tr>\n",
       "  </tbody>\n",
       "</table>\n",
       "</div>"
      ],
      "text/plain": [
       "                                              review sentiment\n",
       "0  One of the other reviewers has mentioned that ...  positive\n",
       "1  A wonderful little production. <br /><br />The...  positive\n",
       "2  I thought this was a wonderful way to spend ti...  positive\n",
       "3  Basically there's a family where a little boy ...  negative\n",
       "4  Petter Mattei's \"Love in the Time of Money\" is...  positive"
      ]
     },
     "execution_count": 2,
     "metadata": {},
     "output_type": "execute_result"
    }
   ],
   "source": [
    "df = pd.read_csv('data/imdb.csv')\n",
    "df.head()"
   ]
  },
  {
   "cell_type": "code",
   "execution_count": 3,
   "id": "2e87b56c",
   "metadata": {
    "execution": {
     "iopub.execute_input": "2021-07-23T09:52:10.513374Z",
     "iopub.status.busy": "2021-07-23T09:52:10.508155Z",
     "iopub.status.idle": "2021-07-23T09:52:22.103970Z",
     "shell.execute_reply": "2021-07-23T09:52:22.103452Z",
     "shell.execute_reply.started": "2021-07-23T09:49:56.420577Z"
    },
    "papermill": {
     "duration": 11.637556,
     "end_time": "2021-07-23T09:52:22.104155",
     "exception": false,
     "start_time": "2021-07-23T09:52:10.466599",
     "status": "completed"
    },
    "tags": []
   },
   "outputs": [],
   "source": [
    "def data_preprocessing(text: str) -> str:\n",
    "    \"\"\"preprocessing string: lowercase, removing html-tags, punctuation and stopwords\n",
    "\n",
    "    Args:\n",
    "        text (str): input string for preprocessing\n",
    "\n",
    "    Returns:\n",
    "        str: preprocessed string\n",
    "    \"\"\"    \n",
    "\n",
    "    text = text.lower()\n",
    "    text = re.sub('<.*?>', '', text) # html tags\n",
    "    text = ''.join([c for c in text if c not in string.punctuation])# Remove punctuation\n",
    "    text = [word for word in text.split() if word not in stop_words] \n",
    "    text = ' '.join(text)\n",
    "    return text\n",
    "\n",
    "df['cleaned_reviews'] = df['review'].apply(data_preprocessing)"
   ]
  },
  {
   "cell_type": "code",
   "execution_count": 4,
   "id": "a9524d1d",
   "metadata": {
    "execution": {
     "iopub.execute_input": "2021-07-23T09:52:22.253826Z",
     "iopub.status.busy": "2021-07-23T09:52:22.243890Z",
     "iopub.status.idle": "2021-07-23T09:52:24.478610Z",
     "shell.execute_reply": "2021-07-23T09:52:24.477963Z",
     "shell.execute_reply.started": "2021-07-23T09:50:06.613771Z"
    },
    "papermill": {
     "duration": 2.291446,
     "end_time": "2021-07-23T09:52:24.478756",
     "exception": false,
     "start_time": "2021-07-23T09:52:22.187310",
     "status": "completed"
    },
    "tags": []
   },
   "outputs": [],
   "source": [
    "corpus = [word for text in df['cleaned_reviews'] for word in text.split()]\n",
    "count_words = Counter(corpus)\n",
    "\n",
    "sorted_words = count_words.most_common()\n"
   ]
  },
  {
   "cell_type": "code",
   "execution_count": 5,
   "id": "6f7ef773",
   "metadata": {},
   "outputs": [],
   "source": [
    "def get_words_by_freq(sorted_words: list, n: int = 10) -> list:\n",
    "    return list(filter(lambda x: x[1] > n, sorted_words))"
   ]
  },
  {
   "cell_type": "code",
   "execution_count": 6,
   "id": "ab041eeb",
   "metadata": {
    "execution": {
     "iopub.execute_input": "2021-07-23T09:52:25.023413Z",
     "iopub.status.busy": "2021-07-23T09:52:25.013381Z",
     "iopub.status.idle": "2021-07-23T09:52:27.759090Z",
     "shell.execute_reply": "2021-07-23T09:52:27.759922Z",
     "shell.execute_reply.started": "2021-07-23T09:50:08.831473Z"
    },
    "papermill": {
     "duration": 2.809878,
     "end_time": "2021-07-23T09:52:27.760196",
     "exception": false,
     "start_time": "2021-07-23T09:52:24.950318",
     "status": "completed"
    },
    "tags": []
   },
   "outputs": [],
   "source": [
    "vocab_to_int = {w:i+1 for i, (w,c) in enumerate(sorted_words)}"
   ]
  },
  {
   "cell_type": "code",
   "execution_count": 7,
   "id": "c42c2fa9",
   "metadata": {},
   "outputs": [],
   "source": [
    "reviews_int = []\n",
    "for text in df['cleaned_reviews']:\n",
    "\n",
    "    r = [vocab_to_int[word] for word in text.split() if vocab_to_int.get(word)]\n",
    "    reviews_int.append(r)"
   ]
  },
  {
   "cell_type": "code",
   "execution_count": 8,
   "id": "8263d028",
   "metadata": {
    "execution": {
     "iopub.execute_input": "2021-07-23T09:52:27.886351Z",
     "iopub.status.busy": "2021-07-23T09:52:27.885219Z",
     "iopub.status.idle": "2021-07-23T09:52:27.942336Z",
     "shell.execute_reply": "2021-07-23T09:52:27.942893Z",
     "shell.execute_reply.started": "2021-07-23T09:50:10.805745Z"
    },
    "papermill": {
     "duration": 0.095364,
     "end_time": "2021-07-23T09:52:27.943132",
     "exception": false,
     "start_time": "2021-07-23T09:52:27.847768",
     "status": "completed"
    },
    "tags": []
   },
   "outputs": [],
   "source": [
    "df['sentiment'] = df['sentiment'].apply(lambda x: 1 if x == 'positive' else 0)"
   ]
  },
  {
   "cell_type": "code",
   "execution_count": 9,
   "id": "1382fda8",
   "metadata": {
    "execution": {
     "iopub.execute_input": "2021-07-23T09:52:28.091758Z",
     "iopub.status.busy": "2021-07-23T09:52:28.070225Z",
     "iopub.status.idle": "2021-07-23T09:52:28.113559Z",
     "shell.execute_reply": "2021-07-23T09:52:28.114105Z",
     "shell.execute_reply.started": "2021-07-23T09:50:10.859851Z"
    },
    "papermill": {
     "duration": 0.082938,
     "end_time": "2021-07-23T09:52:28.114317",
     "exception": false,
     "start_time": "2021-07-23T09:52:28.031379",
     "status": "completed"
    },
    "tags": []
   },
   "outputs": [
    {
     "data": {
      "text/html": [
       "<div>\n",
       "<style scoped>\n",
       "    .dataframe tbody tr th:only-of-type {\n",
       "        vertical-align: middle;\n",
       "    }\n",
       "\n",
       "    .dataframe tbody tr th {\n",
       "        vertical-align: top;\n",
       "    }\n",
       "\n",
       "    .dataframe thead th {\n",
       "        text-align: right;\n",
       "    }\n",
       "</style>\n",
       "<table border=\"1\" class=\"dataframe\">\n",
       "  <thead>\n",
       "    <tr style=\"text-align: right;\">\n",
       "      <th></th>\n",
       "      <th>review</th>\n",
       "      <th>sentiment</th>\n",
       "      <th>cleaned_reviews</th>\n",
       "      <th>Review len</th>\n",
       "    </tr>\n",
       "  </thead>\n",
       "  <tbody>\n",
       "    <tr>\n",
       "      <th>0</th>\n",
       "      <td>One of the other reviewers has mentioned that ...</td>\n",
       "      <td>1</td>\n",
       "      <td>one reviewers mentioned watching 1 oz episode ...</td>\n",
       "      <td>168</td>\n",
       "    </tr>\n",
       "    <tr>\n",
       "      <th>1</th>\n",
       "      <td>A wonderful little production. &lt;br /&gt;&lt;br /&gt;The...</td>\n",
       "      <td>1</td>\n",
       "      <td>wonderful little production filming technique ...</td>\n",
       "      <td>84</td>\n",
       "    </tr>\n",
       "    <tr>\n",
       "      <th>2</th>\n",
       "      <td>I thought this was a wonderful way to spend ti...</td>\n",
       "      <td>1</td>\n",
       "      <td>thought wonderful way spend time hot summer we...</td>\n",
       "      <td>86</td>\n",
       "    </tr>\n",
       "    <tr>\n",
       "      <th>3</th>\n",
       "      <td>Basically there's a family where a little boy ...</td>\n",
       "      <td>0</td>\n",
       "      <td>basically theres family little boy jake thinks...</td>\n",
       "      <td>67</td>\n",
       "    </tr>\n",
       "    <tr>\n",
       "      <th>4</th>\n",
       "      <td>Petter Mattei's \"Love in the Time of Money\" is...</td>\n",
       "      <td>1</td>\n",
       "      <td>petter matteis love time money visually stunni...</td>\n",
       "      <td>125</td>\n",
       "    </tr>\n",
       "  </tbody>\n",
       "</table>\n",
       "</div>"
      ],
      "text/plain": [
       "                                              review  sentiment   \n",
       "0  One of the other reviewers has mentioned that ...          1  \\\n",
       "1  A wonderful little production. <br /><br />The...          1   \n",
       "2  I thought this was a wonderful way to spend ti...          1   \n",
       "3  Basically there's a family where a little boy ...          0   \n",
       "4  Petter Mattei's \"Love in the Time of Money\" is...          1   \n",
       "\n",
       "                                     cleaned_reviews  Review len  \n",
       "0  one reviewers mentioned watching 1 oz episode ...         168  \n",
       "1  wonderful little production filming technique ...          84  \n",
       "2  thought wonderful way spend time hot summer we...          86  \n",
       "3  basically theres family little boy jake thinks...          67  \n",
       "4  petter matteis love time money visually stunni...         125  "
      ]
     },
     "execution_count": 9,
     "metadata": {},
     "output_type": "execute_result"
    }
   ],
   "source": [
    "review_len = [len(x) for x in reviews_int]\n",
    "df['Review len'] = review_len\n",
    "df.head()"
   ]
  },
  {
   "cell_type": "code",
   "execution_count": 10,
   "id": "d0d5e3b9",
   "metadata": {
    "execution": {
     "iopub.execute_input": "2021-07-23T09:52:28.642045Z",
     "iopub.status.busy": "2021-07-23T09:52:28.641069Z",
     "iopub.status.idle": "2021-07-23T09:52:28.644854Z",
     "shell.execute_reply": "2021-07-23T09:52:28.644306Z",
     "shell.execute_reply.started": "2021-07-23T09:50:11.098471Z"
    },
    "papermill": {
     "duration": 0.041961,
     "end_time": "2021-07-23T09:52:28.645008",
     "exception": false,
     "start_time": "2021-07-23T09:52:28.603047",
     "status": "completed"
    },
    "tags": []
   },
   "outputs": [],
   "source": [
    "def padding(review_int: list, seq_len: int) -> np.array:\n",
    "    \"\"\"Make left-sided padding for input list of tokens\n",
    "\n",
    "    Args:\n",
    "        review_int (list): input list of tokens\n",
    "        seq_len (int): max length of sequence, it len(review_int[i]) > seq_len it will be trimmed, else it will be padded by zeros\n",
    "\n",
    "    Returns:\n",
    "        np.array: padded sequences\n",
    "    \"\"\"    \n",
    "    features = np.zeros((len(reviews_int), seq_len), dtype = int)\n",
    "    for i, review in enumerate(review_int):\n",
    "        if len(review) <= seq_len:\n",
    "            zeros = list(np.zeros(seq_len - len(review)))\n",
    "            new = zeros + review\n",
    "        else:\n",
    "            new = review[: seq_len]\n",
    "        features[i, :] = np.array(new)\n",
    "            \n",
    "    return features"
   ]
  },
  {
   "cell_type": "code",
   "execution_count": 11,
   "id": "3b30d122",
   "metadata": {},
   "outputs": [],
   "source": [
    "def preprocess_single_string(input_string: str, seq_len: int, vocab_to_int: dict = vocab_to_int) -> list:\n",
    "    \"\"\"Function for all preprocessing steps on a single string\n",
    "\n",
    "    Args:\n",
    "        input_string (str): input single string for preprocessing\n",
    "        seq_len (int): max length of sequence, it len(review_int[i]) > seq_len it will be trimmed, else it will be padded by zeros\n",
    "        vocab_to_int (dict, optional): word corpus {'word' : int index}. Defaults to vocab_to_int.\n",
    "\n",
    "    Returns:\n",
    "        list: preprocessed string\n",
    "    \"\"\"    \n",
    "\n",
    "    preprocessed_string = data_preprocessing(input_string)\n",
    "    result_list = []\n",
    "    for word in preprocessed_string.split():\n",
    "        try: \n",
    "            result_list.append(vocab_to_int[word])\n",
    "        except KeyError as e:\n",
    "            print(f'{e}: not in dictionary!')\n",
    "    result_padded = padding([result_list], seq_len)[0]\n",
    "\n",
    "    return torch.tensor(result_padded)"
   ]
  },
  {
   "cell_type": "code",
   "execution_count": 12,
   "id": "b41c8263",
   "metadata": {
    "execution": {
     "iopub.execute_input": "2021-07-23T09:52:28.723054Z",
     "iopub.status.busy": "2021-07-23T09:52:28.721963Z",
     "iopub.status.idle": "2021-07-23T09:52:31.910961Z",
     "shell.execute_reply": "2021-07-23T09:52:31.910376Z",
     "shell.execute_reply.started": "2021-07-23T09:50:11.107162Z"
    },
    "papermill": {
     "duration": 3.234973,
     "end_time": "2021-07-23T09:52:31.911139",
     "exception": false,
     "start_time": "2021-07-23T09:52:28.676166",
     "status": "completed"
    },
    "tags": []
   },
   "outputs": [
    {
     "name": "stdout",
     "output_type": "stream",
     "text": [
      "[  572   124   136    37   327  3493  1071   124   908  4207   630   883\n",
      " 13189     1  7877  1794  1248   958  3493   933   302  5835   380 83236\n",
      "    19   215    70    23     2   110   993   653]\n"
     ]
    }
   ],
   "source": [
    "SEQ_LEN = 32\n",
    "features = padding(reviews_int, SEQ_LEN)\n",
    "print(features[3, :])"
   ]
  },
  {
   "cell_type": "code",
   "execution_count": 13,
   "id": "a70e52a0",
   "metadata": {
    "execution": {
     "iopub.execute_input": "2021-07-23T09:52:32.049182Z",
     "iopub.status.busy": "2021-07-23T09:52:32.047626Z",
     "iopub.status.idle": "2021-07-23T09:52:32.100156Z",
     "shell.execute_reply": "2021-07-23T09:52:32.099509Z",
     "shell.execute_reply.started": "2021-07-23T09:50:14.783770Z"
    },
    "papermill": {
     "duration": 0.093378,
     "end_time": "2021-07-23T09:52:32.100338",
     "exception": false,
     "start_time": "2021-07-23T09:52:32.006960",
     "status": "completed"
    },
    "tags": []
   },
   "outputs": [],
   "source": [
    "X_train, X_valid, y_train, y_valid = train_test_split(features, df['sentiment'].to_numpy(), test_size=0.2, random_state=1)"
   ]
  },
  {
   "cell_type": "code",
   "execution_count": 16,
   "id": "4d0db1d1",
   "metadata": {
    "execution": {
     "iopub.execute_input": "2021-07-23T09:52:32.249896Z",
     "iopub.status.busy": "2021-07-23T09:52:32.248717Z",
     "iopub.status.idle": "2021-07-23T09:52:32.252460Z",
     "shell.execute_reply": "2021-07-23T09:52:32.251867Z",
     "shell.execute_reply.started": "2021-07-23T09:50:14.831880Z"
    },
    "papermill": {
     "duration": 0.055896,
     "end_time": "2021-07-23T09:52:32.252613",
     "exception": false,
     "start_time": "2021-07-23T09:52:32.196717",
     "status": "completed"
    },
    "tags": []
   },
   "outputs": [],
   "source": [
    "\n",
    "train_data = TensorDataset(torch.from_numpy(X_train), torch.from_numpy(y_train))\n",
    "valid_data = TensorDataset(torch.from_numpy(X_valid), torch.from_numpy(y_valid))\n",
    "\n",
    "\n",
    "BATCH_SIZE = 32\n",
    "\n",
    "train_loader = DataLoader(train_data, shuffle=True, batch_size=BATCH_SIZE, drop_last=True)\n",
    "valid_loader = DataLoader(valid_data, shuffle=True, batch_size=BATCH_SIZE, drop_last=True)"
   ]
  },
  {
   "cell_type": "code",
   "execution_count": 18,
   "id": "f56bcc42",
   "metadata": {},
   "outputs": [],
   "source": [
    "VOCAB_SIZE = len(vocab_to_int)+1 "
   ]
  },
  {
   "cell_type": "code",
   "execution_count": 20,
   "id": "276b257c",
   "metadata": {
    "execution": {
     "iopub.execute_input": "2021-07-23T09:52:32.324350Z",
     "iopub.status.busy": "2021-07-23T09:52:32.323590Z",
     "iopub.status.idle": "2021-07-23T09:52:32.378319Z",
     "shell.execute_reply": "2021-07-23T09:52:32.378921Z",
     "shell.execute_reply.started": "2021-07-23T09:50:14.840911Z"
    },
    "papermill": {
     "duration": 0.095343,
     "end_time": "2021-07-23T09:52:32.379148",
     "exception": false,
     "start_time": "2021-07-23T09:52:32.283805",
     "status": "completed"
    },
    "tags": []
   },
   "outputs": [],
   "source": [
    "dataiter = iter(train_loader)\n",
    "sample_x, sample_y = next(dataiter)"
   ]
  },
  {
   "cell_type": "code",
   "execution_count": 33,
   "id": "00b9cfd6",
   "metadata": {},
   "outputs": [],
   "source": [
    "device='cpu'"
   ]
  },
  {
   "attachments": {},
   "cell_type": "markdown",
   "id": "ffeef357",
   "metadata": {},
   "source": [
    "PyTorch: [docs](https://pytorch.org/docs/stable/generated/torch.nn.RNN.html)"
   ]
  },
  {
   "attachments": {},
   "cell_type": "markdown",
   "id": "d67302ff",
   "metadata": {},
   "source": [
    "#### Задание 1\n",
    "\n",
    "Создай модель со следующими параметрами и примени `get_model_summary`: \n",
    "- два RNN-слоя (это параметр в слое, а не отдельные компоненты сети)\n",
    "- 32 - размер hidden state\n",
    "- 16 - размер эмбеддинг-слоя "
   ]
  },
  {
   "cell_type": "code",
   "execution_count": null,
   "id": "8dd34bad",
   "metadata": {},
   "outputs": [],
   "source": [
    "tu.get_model_summary(\n",
    "    ...\n",
    ")"
   ]
  },
  {
   "attachments": {},
   "cell_type": "markdown",
   "id": "93ee1cda",
   "metadata": {},
   "source": [
    "Задай функцию потерь, оптимизаторы и реализуй обучающий цикл. \n",
    "В цикле: \n",
    "* сохраняй промежуточные веса модели, чтобы потом не терять время на новом обучении\n",
    "* замеряй время обучения текущей модели для сравнения с LSTM-моделью\n",
    "* зафиксируй число эпох: 7-10 (в зависимости от ресурсов компьютера)"
   ]
  },
  {
   "cell_type": "code",
   "execution_count": null,
   "id": "40a8aa48",
   "metadata": {},
   "outputs": [],
   "source": [
    "# оптимизатор, функция потерь, метрика\n",
    "pass\n",
    "\n",
    "# цикл обучения и валидации\n",
    "\n",
    "pass"
   ]
  },
  {
   "attachments": {},
   "cell_type": "markdown",
   "id": "cca2cb51",
   "metadata": {},
   "source": [
    "Распечатай кривые обучения и изменения метрики. "
   ]
  },
  {
   "cell_type": "code",
   "execution_count": null,
   "id": "5a71e38e",
   "metadata": {},
   "outputs": [],
   "source": [
    "pass"
   ]
  },
  {
   "cell_type": "markdown",
   "id": "9ac192cf",
   "metadata": {},
   "source": [
    "Сохрани модель и историю изменения лоссов и метрик. "
   ]
  },
  {
   "cell_type": "code",
   "execution_count": null,
   "id": "67dd0b98",
   "metadata": {},
   "outputs": [],
   "source": [
    "pass "
   ]
  },
  {
   "cell_type": "markdown",
   "metadata": {},
   "source": [
    "#### Задание 2\n",
    "\n",
    "Создай двунаправленную двуслойную LSTM-сеть и реши задачу классификации. \n",
    "\n",
    "Распечатай кривые обучения обеих моделей и значения метрик во время обучения. Примерный результат должен выглядеть так (с поправкой на твою архитектуру в заголовке):\n",
    "\n",
    "![](aux/10-01-results.png)\n",
    "\n",
    "Отправь полученный график в канал группы в Slack!"
   ]
  },
  {
   "cell_type": "markdown",
   "id": "2e2a6a4c",
   "metadata": {},
   "source": [
    "#### Задание 2.1\n",
    "\n",
    "Попробуй обрезать отзывы до максимальной длины с другой стороны. В функции `padding` в случае превышения отзывом порога `seq_len` происходит обрезка – остаются только первые `seq_len` слов. Возможно, что стоит обрезать сообщения с другой стороны (оставлять только «хвост» отзыва)? \n",
    "\n",
    "Попробуй модифицировать функцию, обучи модель и проверь, отличается ли результат. "
   ]
  },
  {
   "cell_type": "code",
   "execution_count": null,
   "id": "1516deea",
   "metadata": {},
   "outputs": [],
   "source": []
  },
  {
   "attachments": {},
   "cell_type": "markdown",
   "id": "87e1efb7",
   "metadata": {},
   "source": [
    "#### Задание 3\n",
    "\n",
    "Реализуй функцию, которая принимает на вход текстовое сообщение и классифицирует его обученной моделью. "
   ]
  },
  {
   "cell_type": "code",
   "execution_count": null,
   "metadata": {},
   "outputs": [],
   "source": [
    "def predict_sentence(text: str, model: nn.Module) -> str:\n",
    "    pass\n",
    "    return result"
   ]
  },
  {
   "cell_type": "code",
   "execution_count": null,
   "id": "701c4662",
   "metadata": {},
   "outputs": [],
   "source": []
  },
  {
   "attachments": {},
   "cell_type": "markdown",
   "id": "b2a25436",
   "metadata": {},
   "source": [
    "❗️ Сделай push на гитхаб!"
   ]
  },
  {
   "cell_type": "code",
   "execution_count": null,
   "id": "6c985b7a",
   "metadata": {},
   "outputs": [],
   "source": [
    "# code"
   ]
  },
  {
   "attachments": {},
   "cell_type": "markdown",
   "id": "88e525e4",
   "metadata": {},
   "source": [
    "#### Задание 4\n",
    "\n",
    "Создай telegram-бота, который принимает на вход пользовательское сообщение и классифицирует его. "
   ]
  }
 ],
 "metadata": {
  "kernelspec": {
   "display_name": "Python 3.8.13 ('pt')",
   "language": "python",
   "name": "python3"
  },
  "language_info": {
   "codemirror_mode": {
    "name": "ipython",
    "version": 3
   },
   "file_extension": ".py",
   "mimetype": "text/x-python",
   "name": "python",
   "nbconvert_exporter": "python",
   "pygments_lexer": "ipython3",
   "version": "3.9.15"
  },
  "papermill": {
   "default_parameters": {},
   "duration": 119.96947,
   "end_time": "2021-07-23T09:53:55.779323",
   "environment_variables": {},
   "exception": null,
   "input_path": "__notebook__.ipynb",
   "output_path": "__notebook__.ipynb",
   "parameters": {},
   "start_time": "2021-07-23T09:51:55.809853",
   "version": "2.3.3"
  },
  "vscode": {
   "interpreter": {
    "hash": "a7df815f77bf8edb0a6a656480e7ee3c360a4b494ba862a12bd6032824eda046"
   }
  }
 },
 "nbformat": 4,
 "nbformat_minor": 5
}
