{
 "cells": [
  {
   "attachments": {},
   "cell_type": "markdown",
   "id": "97fe2913",
   "metadata": {
    "papermill": {
     "duration": 0.028457,
     "end_time": "2021-07-23T09:52:04.610203",
     "exception": false,
     "start_time": "2021-07-23T09:52:04.581746",
     "status": "completed"
    },
    "tags": []
   },
   "source": [
    "# Фаза 2 • Неделя 10 • Понедельник\n",
    "## Обработка естественного языка\n",
    "### Рекуррентные нейронные сети • RNN • LSTM"
   ]
  },
  {
   "cell_type": "code",
   "execution_count": 61,
   "id": "6ee349de",
   "metadata": {},
   "outputs": [
    {
     "name": "stdout",
     "output_type": "stream",
     "text": [
      "The autoreload extension is already loaded. To reload it, use:\n",
      "  %reload_ext autoreload\n"
     ]
    }
   ],
   "source": [
    "%load_ext autoreload\n",
    "%autoreload 2"
   ]
  },
  {
   "cell_type": "code",
   "execution_count": 62,
   "id": "539bf435",
   "metadata": {
    "execution": {
     "iopub.execute_input": "2021-07-23T09:52:04.839482Z",
     "iopub.status.busy": "2021-07-23T09:52:04.838356Z",
     "iopub.status.idle": "2021-07-23T09:52:08.754663Z",
     "shell.execute_reply": "2021-07-23T09:52:08.753596Z",
     "shell.execute_reply.started": "2021-07-23T09:49:55.817337Z"
    },
    "papermill": {
     "duration": 3.983566,
     "end_time": "2021-07-23T09:52:08.754832",
     "exception": false,
     "start_time": "2021-07-23T09:52:04.771266",
     "status": "completed"
    },
    "tags": []
   },
   "outputs": [],
   "source": [
    "import os\n",
    "import numpy as np\n",
    "import pandas as pd\n",
    "\n",
    "import matplotlib.pyplot as plt\n",
    "\n",
    "import re\n",
    "import string\n",
    "from collections import Counter\n",
    "\n",
    "from nltk.corpus import stopwords\n",
    "\n",
    "stop_words = set(stopwords.words(\"english\"))\n",
    "\n",
    "from sklearn.model_selection import train_test_split\n",
    "from tqdm.notebook import tqdm\n",
    "\n",
    "import torch\n",
    "from torch.utils.data import DataLoader, TensorDataset\n",
    "import torch.nn as nn\n",
    "import torchutils as tu\n",
    "from torchmetrics.classification import BinaryAccuracy\n",
    "\n",
    "from dataclasses import dataclass\n",
    "from typing import Union\n",
    "from src.train_rnn import train\n",
    "from src.rnn_preprocessing import preprocess_single_string"
   ]
  },
  {
   "cell_type": "code",
   "execution_count": 63,
   "id": "a38585fc",
   "metadata": {
    "execution": {
     "iopub.execute_input": "2021-07-23T09:52:08.868628Z",
     "iopub.status.busy": "2021-07-23T09:52:08.867588Z",
     "iopub.status.idle": "2021-07-23T09:52:10.384886Z",
     "shell.execute_reply": "2021-07-23T09:52:10.384199Z",
     "shell.execute_reply.started": "2021-07-23T09:49:55.826424Z"
    },
    "papermill": {
     "duration": 1.549223,
     "end_time": "2021-07-23T09:52:10.385044",
     "exception": false,
     "start_time": "2021-07-23T09:52:08.835821",
     "status": "completed"
    },
    "tags": []
   },
   "outputs": [
    {
     "data": {
      "text/html": [
       "<div>\n",
       "<style scoped>\n",
       "    .dataframe tbody tr th:only-of-type {\n",
       "        vertical-align: middle;\n",
       "    }\n",
       "\n",
       "    .dataframe tbody tr th {\n",
       "        vertical-align: top;\n",
       "    }\n",
       "\n",
       "    .dataframe thead th {\n",
       "        text-align: right;\n",
       "    }\n",
       "</style>\n",
       "<table border=\"1\" class=\"dataframe\">\n",
       "  <thead>\n",
       "    <tr style=\"text-align: right;\">\n",
       "      <th></th>\n",
       "      <th>review</th>\n",
       "      <th>sentiment</th>\n",
       "    </tr>\n",
       "  </thead>\n",
       "  <tbody>\n",
       "    <tr>\n",
       "      <th>0</th>\n",
       "      <td>One of the other reviewers has mentioned that ...</td>\n",
       "      <td>positive</td>\n",
       "    </tr>\n",
       "    <tr>\n",
       "      <th>1</th>\n",
       "      <td>A wonderful little production. &lt;br /&gt;&lt;br /&gt;The...</td>\n",
       "      <td>positive</td>\n",
       "    </tr>\n",
       "    <tr>\n",
       "      <th>2</th>\n",
       "      <td>I thought this was a wonderful way to spend ti...</td>\n",
       "      <td>positive</td>\n",
       "    </tr>\n",
       "    <tr>\n",
       "      <th>3</th>\n",
       "      <td>Basically there's a family where a little boy ...</td>\n",
       "      <td>negative</td>\n",
       "    </tr>\n",
       "    <tr>\n",
       "      <th>4</th>\n",
       "      <td>Petter Mattei's \"Love in the Time of Money\" is...</td>\n",
       "      <td>positive</td>\n",
       "    </tr>\n",
       "  </tbody>\n",
       "</table>\n",
       "</div>"
      ],
      "text/plain": [
       "                                              review sentiment\n",
       "0  One of the other reviewers has mentioned that ...  positive\n",
       "1  A wonderful little production. <br /><br />The...  positive\n",
       "2  I thought this was a wonderful way to spend ti...  positive\n",
       "3  Basically there's a family where a little boy ...  negative\n",
       "4  Petter Mattei's \"Love in the Time of Money\" is...  positive"
      ]
     },
     "execution_count": 63,
     "metadata": {},
     "output_type": "execute_result"
    }
   ],
   "source": [
    "df = pd.read_csv('data/imdb.csv')\n",
    "df.head()"
   ]
  },
  {
   "cell_type": "code",
   "execution_count": 64,
   "id": "2e87b56c",
   "metadata": {
    "execution": {
     "iopub.execute_input": "2021-07-23T09:52:10.513374Z",
     "iopub.status.busy": "2021-07-23T09:52:10.508155Z",
     "iopub.status.idle": "2021-07-23T09:52:22.103970Z",
     "shell.execute_reply": "2021-07-23T09:52:22.103452Z",
     "shell.execute_reply.started": "2021-07-23T09:49:56.420577Z"
    },
    "papermill": {
     "duration": 11.637556,
     "end_time": "2021-07-23T09:52:22.104155",
     "exception": false,
     "start_time": "2021-07-23T09:52:10.466599",
     "status": "completed"
    },
    "tags": []
   },
   "outputs": [
    {
     "data": {
      "text/html": [
       "<div>\n",
       "<style scoped>\n",
       "    .dataframe tbody tr th:only-of-type {\n",
       "        vertical-align: middle;\n",
       "    }\n",
       "\n",
       "    .dataframe tbody tr th {\n",
       "        vertical-align: top;\n",
       "    }\n",
       "\n",
       "    .dataframe thead th {\n",
       "        text-align: right;\n",
       "    }\n",
       "</style>\n",
       "<table border=\"1\" class=\"dataframe\">\n",
       "  <thead>\n",
       "    <tr style=\"text-align: right;\">\n",
       "      <th></th>\n",
       "      <th>review</th>\n",
       "      <th>sentiment</th>\n",
       "      <th>cleaned_reviews</th>\n",
       "    </tr>\n",
       "  </thead>\n",
       "  <tbody>\n",
       "    <tr>\n",
       "      <th>0</th>\n",
       "      <td>One of the other reviewers has mentioned that ...</td>\n",
       "      <td>positive</td>\n",
       "      <td>one reviewers mentioned watching 1 oz episode ...</td>\n",
       "    </tr>\n",
       "    <tr>\n",
       "      <th>1</th>\n",
       "      <td>A wonderful little production. &lt;br /&gt;&lt;br /&gt;The...</td>\n",
       "      <td>positive</td>\n",
       "      <td>wonderful little production filming technique ...</td>\n",
       "    </tr>\n",
       "    <tr>\n",
       "      <th>2</th>\n",
       "      <td>I thought this was a wonderful way to spend ti...</td>\n",
       "      <td>positive</td>\n",
       "      <td>thought wonderful way spend time hot summer we...</td>\n",
       "    </tr>\n",
       "    <tr>\n",
       "      <th>3</th>\n",
       "      <td>Basically there's a family where a little boy ...</td>\n",
       "      <td>negative</td>\n",
       "      <td>basically theres family little boy jake thinks...</td>\n",
       "    </tr>\n",
       "    <tr>\n",
       "      <th>4</th>\n",
       "      <td>Petter Mattei's \"Love in the Time of Money\" is...</td>\n",
       "      <td>positive</td>\n",
       "      <td>petter matteis love time money visually stunni...</td>\n",
       "    </tr>\n",
       "  </tbody>\n",
       "</table>\n",
       "</div>"
      ],
      "text/plain": [
       "                                              review sentiment   \n",
       "0  One of the other reviewers has mentioned that ...  positive  \\\n",
       "1  A wonderful little production. <br /><br />The...  positive   \n",
       "2  I thought this was a wonderful way to spend ti...  positive   \n",
       "3  Basically there's a family where a little boy ...  negative   \n",
       "4  Petter Mattei's \"Love in the Time of Money\" is...  positive   \n",
       "\n",
       "                                     cleaned_reviews  \n",
       "0  one reviewers mentioned watching 1 oz episode ...  \n",
       "1  wonderful little production filming technique ...  \n",
       "2  thought wonderful way spend time hot summer we...  \n",
       "3  basically theres family little boy jake thinks...  \n",
       "4  petter matteis love time money visually stunni...  "
      ]
     },
     "execution_count": 64,
     "metadata": {},
     "output_type": "execute_result"
    }
   ],
   "source": [
    "def data_preprocessing(text: str) -> str:\n",
    "    \"\"\"preprocessing string: lowercase, removing html-tags, punctuation and stopwords\n",
    "\n",
    "    Args:\n",
    "        text (str): input string for preprocessing\n",
    "\n",
    "    Returns:\n",
    "        str: preprocessed string\n",
    "    \"\"\"\n",
    "\n",
    "    text = text.lower()\n",
    "    text = re.sub(\"<.*?>\", \"\", text)  # html tags\n",
    "    text = \"\".join([c for c in text if c not in string.punctuation])\n",
    "    splitted_text = [word for word in text.split() if word not in stop_words]\n",
    "    text = \" \".join(splitted_text)\n",
    "    return text\n",
    "\n",
    "\n",
    "df[\"cleaned_reviews\"] = df[\"review\"].apply(data_preprocessing)\n",
    "df.head()"
   ]
  },
  {
   "cell_type": "markdown",
   "id": "e2a4cf55",
   "metadata": {
    "papermill": {
     "duration": 0.027136,
     "end_time": "2021-07-23T09:52:22.159748",
     "exception": false,
     "start_time": "2021-07-23T09:52:22.132612",
     "status": "completed"
    },
    "tags": []
   },
   "source": [
    "Обычно при токенизации и сопоставлении целых чисел словам принцип такой: наиболее популярным словам соответсвуют меньшие индексы (но ноль зарезервирован – `pad`)."
   ]
  },
  {
   "cell_type": "code",
   "execution_count": 65,
   "id": "a9524d1d",
   "metadata": {
    "execution": {
     "iopub.execute_input": "2021-07-23T09:52:22.253826Z",
     "iopub.status.busy": "2021-07-23T09:52:22.243890Z",
     "iopub.status.idle": "2021-07-23T09:52:24.478610Z",
     "shell.execute_reply": "2021-07-23T09:52:24.477963Z",
     "shell.execute_reply.started": "2021-07-23T09:50:06.613771Z"
    },
    "papermill": {
     "duration": 2.291446,
     "end_time": "2021-07-23T09:52:24.478756",
     "exception": false,
     "start_time": "2021-07-23T09:52:22.187310",
     "status": "completed"
    },
    "tags": []
   },
   "outputs": [],
   "source": [
    "corpus = [word for text in df['cleaned_reviews'] for word in text.split()]\n",
    "count_words = Counter(corpus)\n",
    "# print(count_words)\n",
    "sorted_words = count_words.most_common()"
   ]
  },
  {
   "cell_type": "code",
   "execution_count": 66,
   "id": "47e7842a",
   "metadata": {},
   "outputs": [
    {
     "name": "stdout",
     "output_type": "stream",
     "text": [
      "[('frenchonly', 1), ('terminalannie', 1), ('bumi', 1), ('clatter', 1), ('superbi', 1), ('horriblecatwoman', 1), ('theirsall', 1), ('originalif', 1), ('goodat', 1), ('yosemitei', 1)]\n"
     ]
    }
   ],
   "source": [
    "print(sorted_words[-10:])\n",
    "# print(sorted_words[:10])"
   ]
  },
  {
   "cell_type": "code",
   "execution_count": 67,
   "id": "6f7ef773",
   "metadata": {},
   "outputs": [],
   "source": [
    "# Можем взять только слова, которые чаще всего встречаются в данных, \n",
    "# но это гиперпараметр\n",
    "def get_words_by_freq(sorted_words: list, n: int = 10) -> list:\n",
    "    return list(filter(lambda x: x[1] > n, sorted_words))"
   ]
  },
  {
   "cell_type": "code",
   "execution_count": 68,
   "id": "82881354",
   "metadata": {
    "execution": {
     "iopub.execute_input": "2021-07-23T09:52:24.559244Z",
     "iopub.status.busy": "2021-07-23T09:52:24.558418Z",
     "iopub.status.idle": "2021-07-23T09:52:24.863720Z",
     "shell.execute_reply": "2021-07-23T09:52:24.864253Z",
     "shell.execute_reply.started": "2021-07-23T09:50:08.594811Z"
    },
    "papermill": {
     "duration": 0.357807,
     "end_time": "2021-07-23T09:52:24.864435",
     "exception": false,
     "start_time": "2021-07-23T09:52:24.506628",
     "status": "completed"
    },
    "tags": []
   },
   "outputs": [],
   "source": [
    "sorted_words = get_words_by_freq(sorted_words, 1000)"
   ]
  },
  {
   "cell_type": "code",
   "execution_count": 69,
   "id": "84a91381",
   "metadata": {},
   "outputs": [
    {
     "data": {
      "text/plain": [
       "[('suddenly', 1006),\n",
       " ('convincing', 1006),\n",
       " ('biggest', 1006),\n",
       " ('follows', 1006),\n",
       " ('younger', 1005),\n",
       " ('rate', 1004),\n",
       " ('office', 1003),\n",
       " ('portrayal', 1003),\n",
       " ('moves', 1002),\n",
       " ('former', 1001)]"
      ]
     },
     "execution_count": 69,
     "metadata": {},
     "output_type": "execute_result"
    }
   ],
   "source": [
    "sorted_words[-10:]"
   ]
  },
  {
   "cell_type": "markdown",
   "id": "dcbcb6c1",
   "metadata": {
    "papermill": {
     "duration": 0.027864,
     "end_time": "2021-07-23T09:52:24.920804",
     "exception": false,
     "start_time": "2021-07-23T09:52:24.892940",
     "status": "completed"
    },
    "tags": []
   },
   "source": [
    "Сопоставляем каждому слову в словаре целое число – эти данные пойдут в нейросеть. "
   ]
  },
  {
   "cell_type": "code",
   "execution_count": 70,
   "id": "ab041eeb",
   "metadata": {
    "execution": {
     "iopub.execute_input": "2021-07-23T09:52:25.023413Z",
     "iopub.status.busy": "2021-07-23T09:52:25.013381Z",
     "iopub.status.idle": "2021-07-23T09:52:27.759090Z",
     "shell.execute_reply": "2021-07-23T09:52:27.759922Z",
     "shell.execute_reply.started": "2021-07-23T09:50:08.831473Z"
    },
    "papermill": {
     "duration": 2.809878,
     "end_time": "2021-07-23T09:52:27.760196",
     "exception": false,
     "start_time": "2021-07-23T09:52:24.950318",
     "status": "completed"
    },
    "tags": []
   },
   "outputs": [
    {
     "name": "stdout",
     "output_type": "stream",
     "text": [
      "movie: 1\n",
      "cool : 476\n",
      "film : 2\n",
      "good : 5\n"
     ]
    }
   ],
   "source": [
    "vocab_to_int = {w:i+1 for i, (w,c) in enumerate(sorted_words)}\n",
    "print(f\"movie: {vocab_to_int['movie']}\")\n",
    "print(f\"cool : {vocab_to_int['cool']}\")\n",
    "print(f\"film : {vocab_to_int['film']}\")\n",
    "print(f\"good : {vocab_to_int['good']}\")"
   ]
  },
  {
   "cell_type": "code",
   "execution_count": 103,
   "id": "9052ae71",
   "metadata": {},
   "outputs": [],
   "source": [
    "import json \n",
    "with open('vocab2int.json', 'w') as f:\n",
    "    json.dump(vocab_to_int, f)"
   ]
  },
  {
   "cell_type": "code",
   "execution_count": 111,
   "id": "58bfb27c",
   "metadata": {},
   "outputs": [],
   "source": [
    "stop_words_txt = ','.join([str(i) for i in stop_words])\n",
    "with open('stop_words.txt', 'w') as f:\n",
    "    f.write(stop_words_txt)"
   ]
  },
  {
   "cell_type": "code",
   "execution_count": 71,
   "id": "1fa0173f",
   "metadata": {},
   "outputs": [
    {
     "data": {
      "text/plain": [
       "'mario fan long remember fond memories playing super mario world kid game brought back many memories adding something new super mario galaxy latest installment amazing mario franchise much different game mario still keeping intact greatest elements mario first noticeable difference story takes place spacethe story begins much like mario game mario receives letter princess peach inviting celebration castle mushroom kingdom upon arriving peachs castle mario finds bowser son bowser jr attacking castle airships bowser kidnaps princess peach lifts castle space midst castle lifted space mario falls lands unknown planet mario found talking star named luma taken back lumas home floating space station mario meets many lumas also meets leader woman named rosalina rosalina tells mario bowser taken away space stations power stars scattered across universe mario help lumas find save peach thus adventure beginsthe way play game flying space station galaxies galaxy consists multiple planets mario travels amongst levels via shooting stars retrieve power stars mario many times walk way around planets without losing gravity planets small others big many planets similar classic mario environments best thing game controls stuff like jumping still wiimote used many unique ways game shake remote mario perform spin used primary attack game well activate shooting stars also point remote screen use pointer fire star bits enemies objects environment graphics far best graphics wii hard describe great game looks could probably almost say looks good 360 gamesmy minor gripes going upside effect takes getting used also story pretty weak worst part lose lives turn game matter many last quit restart 4 lives still minor problems aside superb game highly entertaining challenging type game weve waiting wiia perfect 10 10'"
      ]
     },
     "execution_count": 71,
     "metadata": {},
     "output_type": "execute_result"
    }
   ],
   "source": [
    "df[\"cleaned_reviews\"].iloc[99]"
   ]
  },
  {
   "cell_type": "code",
   "execution_count": 72,
   "id": "c42c2fa9",
   "metadata": {},
   "outputs": [
    {
     "name": "stdout",
     "output_type": "stream",
     "text": [
      "[214, 102, 265, 278, 92, 427, 362, 672, 53, 30, 51, 73, 375, 12, 164, 362, 46, 654, 664, 19, 11, 192, 170, 11, 696, 12, 4, 362, 559, 544, 388, 632, 632, 605, 145, 560, 235, 638, 466, 53, 236, 632, 764, 30, 17, 764, 152, 638, 580, 466, 140, 632, 545, 304, 478, 229, 67, 457, 26, 185, 362, 632, 304, 545, 304, 30, 114, 26, 87, 101, 287, 272, 94, 30, 607, 246, 39, 57, 362, 405, 4, 46, 217, 30, 818, 644, 362, 217, 362, 13, 304, 17, 122, 178, 233, 865, 235, 126, 39, 158, 15, 362, 171, 25, 135, 111, 45, 171, 5, 70, 808, 192, 262, 217, 17, 11, 84, 712, 143, 77, 356, 358, 362, 395, 30, 133, 576, 356, 46, 575, 785, 362, 428, 318, 456, 362, 909, 290, 193, 193]\n"
     ]
    }
   ],
   "source": [
    "reviews_int = []\n",
    "for text in df[\"cleaned_reviews\"]:\n",
    "    r = [vocab_to_int[word] for word in text.split() if vocab_to_int.get(word)]\n",
    "    reviews_int.append(r)\n",
    "print([i for i in reviews_int[99]])"
   ]
  },
  {
   "cell_type": "code",
   "execution_count": 73,
   "id": "8263d028",
   "metadata": {
    "execution": {
     "iopub.execute_input": "2021-07-23T09:52:27.886351Z",
     "iopub.status.busy": "2021-07-23T09:52:27.885219Z",
     "iopub.status.idle": "2021-07-23T09:52:27.942336Z",
     "shell.execute_reply": "2021-07-23T09:52:27.942893Z",
     "shell.execute_reply.started": "2021-07-23T09:50:10.805745Z"
    },
    "papermill": {
     "duration": 0.095364,
     "end_time": "2021-07-23T09:52:27.943132",
     "exception": false,
     "start_time": "2021-07-23T09:52:27.847768",
     "status": "completed"
    },
    "tags": []
   },
   "outputs": [
    {
     "data": {
      "text/html": [
       "<div>\n",
       "<style scoped>\n",
       "    .dataframe tbody tr th:only-of-type {\n",
       "        vertical-align: middle;\n",
       "    }\n",
       "\n",
       "    .dataframe tbody tr th {\n",
       "        vertical-align: top;\n",
       "    }\n",
       "\n",
       "    .dataframe thead th {\n",
       "        text-align: right;\n",
       "    }\n",
       "</style>\n",
       "<table border=\"1\" class=\"dataframe\">\n",
       "  <thead>\n",
       "    <tr style=\"text-align: right;\">\n",
       "      <th></th>\n",
       "      <th>review</th>\n",
       "      <th>sentiment</th>\n",
       "      <th>cleaned_reviews</th>\n",
       "    </tr>\n",
       "  </thead>\n",
       "  <tbody>\n",
       "    <tr>\n",
       "      <th>0</th>\n",
       "      <td>One of the other reviewers has mentioned that ...</td>\n",
       "      <td>1</td>\n",
       "      <td>one reviewers mentioned watching 1 oz episode ...</td>\n",
       "    </tr>\n",
       "    <tr>\n",
       "      <th>1</th>\n",
       "      <td>A wonderful little production. &lt;br /&gt;&lt;br /&gt;The...</td>\n",
       "      <td>1</td>\n",
       "      <td>wonderful little production filming technique ...</td>\n",
       "    </tr>\n",
       "    <tr>\n",
       "      <th>2</th>\n",
       "      <td>I thought this was a wonderful way to spend ti...</td>\n",
       "      <td>1</td>\n",
       "      <td>thought wonderful way spend time hot summer we...</td>\n",
       "    </tr>\n",
       "    <tr>\n",
       "      <th>3</th>\n",
       "      <td>Basically there's a family where a little boy ...</td>\n",
       "      <td>0</td>\n",
       "      <td>basically theres family little boy jake thinks...</td>\n",
       "    </tr>\n",
       "    <tr>\n",
       "      <th>4</th>\n",
       "      <td>Petter Mattei's \"Love in the Time of Money\" is...</td>\n",
       "      <td>1</td>\n",
       "      <td>petter matteis love time money visually stunni...</td>\n",
       "    </tr>\n",
       "  </tbody>\n",
       "</table>\n",
       "</div>"
      ],
      "text/plain": [
       "                                              review  sentiment   \n",
       "0  One of the other reviewers has mentioned that ...          1  \\\n",
       "1  A wonderful little production. <br /><br />The...          1   \n",
       "2  I thought this was a wonderful way to spend ti...          1   \n",
       "3  Basically there's a family where a little boy ...          0   \n",
       "4  Petter Mattei's \"Love in the Time of Money\" is...          1   \n",
       "\n",
       "                                     cleaned_reviews  \n",
       "0  one reviewers mentioned watching 1 oz episode ...  \n",
       "1  wonderful little production filming technique ...  \n",
       "2  thought wonderful way spend time hot summer we...  \n",
       "3  basically theres family little boy jake thinks...  \n",
       "4  petter matteis love time money visually stunni...  "
      ]
     },
     "execution_count": 73,
     "metadata": {},
     "output_type": "execute_result"
    }
   ],
   "source": [
    "# Label Encoding\n",
    "df['sentiment'] = df['sentiment'].apply(lambda x: 1 if x == 'positive' else 0)\n",
    "df.head()"
   ]
  },
  {
   "cell_type": "markdown",
   "id": "8780bb73",
   "metadata": {
    "papermill": {
     "duration": 0.029019,
     "end_time": "2021-07-23T09:52:28.001568",
     "exception": false,
     "start_time": "2021-07-23T09:52:27.972549",
     "status": "completed"
    },
    "tags": []
   },
   "source": [
    "Все отзывы состоят из разного числа слова: для удобства можно подсчитать длину всех отзывов: "
   ]
  },
  {
   "cell_type": "code",
   "execution_count": 74,
   "id": "1382fda8",
   "metadata": {
    "execution": {
     "iopub.execute_input": "2021-07-23T09:52:28.091758Z",
     "iopub.status.busy": "2021-07-23T09:52:28.070225Z",
     "iopub.status.idle": "2021-07-23T09:52:28.113559Z",
     "shell.execute_reply": "2021-07-23T09:52:28.114105Z",
     "shell.execute_reply.started": "2021-07-23T09:50:10.859851Z"
    },
    "papermill": {
     "duration": 0.082938,
     "end_time": "2021-07-23T09:52:28.114317",
     "exception": false,
     "start_time": "2021-07-23T09:52:28.031379",
     "status": "completed"
    },
    "tags": []
   },
   "outputs": [
    {
     "data": {
      "text/html": [
       "<div>\n",
       "<style scoped>\n",
       "    .dataframe tbody tr th:only-of-type {\n",
       "        vertical-align: middle;\n",
       "    }\n",
       "\n",
       "    .dataframe tbody tr th {\n",
       "        vertical-align: top;\n",
       "    }\n",
       "\n",
       "    .dataframe thead th {\n",
       "        text-align: right;\n",
       "    }\n",
       "</style>\n",
       "<table border=\"1\" class=\"dataframe\">\n",
       "  <thead>\n",
       "    <tr style=\"text-align: right;\">\n",
       "      <th></th>\n",
       "      <th>review</th>\n",
       "      <th>sentiment</th>\n",
       "      <th>cleaned_reviews</th>\n",
       "      <th>Review len</th>\n",
       "    </tr>\n",
       "  </thead>\n",
       "  <tbody>\n",
       "    <tr>\n",
       "      <th>0</th>\n",
       "      <td>One of the other reviewers has mentioned that ...</td>\n",
       "      <td>1</td>\n",
       "      <td>one reviewers mentioned watching 1 oz episode ...</td>\n",
       "      <td>78</td>\n",
       "    </tr>\n",
       "    <tr>\n",
       "      <th>1</th>\n",
       "      <td>A wonderful little production. &lt;br /&gt;&lt;br /&gt;The...</td>\n",
       "      <td>1</td>\n",
       "      <td>wonderful little production filming technique ...</td>\n",
       "      <td>43</td>\n",
       "    </tr>\n",
       "    <tr>\n",
       "      <th>2</th>\n",
       "      <td>I thought this was a wonderful way to spend ti...</td>\n",
       "      <td>1</td>\n",
       "      <td>thought wonderful way spend time hot summer we...</td>\n",
       "      <td>43</td>\n",
       "    </tr>\n",
       "    <tr>\n",
       "      <th>3</th>\n",
       "      <td>Basically there's a family where a little boy ...</td>\n",
       "      <td>0</td>\n",
       "      <td>basically theres family little boy jake thinks...</td>\n",
       "      <td>43</td>\n",
       "    </tr>\n",
       "    <tr>\n",
       "      <th>4</th>\n",
       "      <td>Petter Mattei's \"Love in the Time of Money\" is...</td>\n",
       "      <td>1</td>\n",
       "      <td>petter matteis love time money visually stunni...</td>\n",
       "      <td>79</td>\n",
       "    </tr>\n",
       "  </tbody>\n",
       "</table>\n",
       "</div>"
      ],
      "text/plain": [
       "                                              review  sentiment   \n",
       "0  One of the other reviewers has mentioned that ...          1  \\\n",
       "1  A wonderful little production. <br /><br />The...          1   \n",
       "2  I thought this was a wonderful way to spend ti...          1   \n",
       "3  Basically there's a family where a little boy ...          0   \n",
       "4  Petter Mattei's \"Love in the Time of Money\" is...          1   \n",
       "\n",
       "                                     cleaned_reviews  Review len  \n",
       "0  one reviewers mentioned watching 1 oz episode ...          78  \n",
       "1  wonderful little production filming technique ...          43  \n",
       "2  thought wonderful way spend time hot summer we...          43  \n",
       "3  basically theres family little boy jake thinks...          43  \n",
       "4  petter matteis love time money visually stunni...          79  "
      ]
     },
     "execution_count": 74,
     "metadata": {},
     "output_type": "execute_result"
    }
   ],
   "source": [
    "review_len = [len(x) for x in reviews_int]\n",
    "df['Review len'] = review_len\n",
    "df.head()"
   ]
  },
  {
   "cell_type": "code",
   "execution_count": 75,
   "id": "68156755",
   "metadata": {
    "execution": {
     "iopub.execute_input": "2021-07-23T09:52:28.181398Z",
     "iopub.status.busy": "2021-07-23T09:52:28.180332Z",
     "iopub.status.idle": "2021-07-23T09:52:28.446370Z",
     "shell.execute_reply": "2021-07-23T09:52:28.446946Z",
     "shell.execute_reply.started": "2021-07-23T09:50:10.908235Z"
    },
    "papermill": {
     "duration": 0.302567,
     "end_time": "2021-07-23T09:52:28.447127",
     "exception": false,
     "start_time": "2021-07-23T09:52:28.144560",
     "status": "completed"
    },
    "tags": []
   },
   "outputs": [
    {
     "name": "stdout",
     "output_type": "stream",
     "text": [
      "count    50000.000000\n",
      "mean        66.094540\n",
      "std         45.719724\n",
      "min          0.000000\n",
      "25%         38.000000\n",
      "50%         52.000000\n",
      "75%         80.000000\n",
      "max        595.000000\n",
      "Name: Review len, dtype: float64\n"
     ]
    }
   ],
   "source": [
    "print(df['Review len'].describe())"
   ]
  },
  {
   "cell_type": "markdown",
   "id": "54d59a65",
   "metadata": {
    "papermill": {
     "duration": 0.031339,
     "end_time": "2021-07-23T09:52:28.509408",
     "exception": false,
     "start_time": "2021-07-23T09:52:28.478069",
     "status": "completed"
    },
    "tags": []
   },
   "source": [
    "Есть и очень длинные отзывы, возмножно с ними стоит поработать отдельно, чтобы посмотреть, какую часть отзыва можно убрать из объекта. "
   ]
  },
  {
   "cell_type": "markdown",
   "id": "e2f918cb",
   "metadata": {
    "papermill": {
     "duration": 0.030986,
     "end_time": "2021-07-23T09:52:28.572067",
     "exception": false,
     "start_time": "2021-07-23T09:52:28.541081",
     "status": "completed"
    },
    "tags": []
   },
   "source": [
    "### Padding\n",
    "\n",
    "При работе с текстом почти всегда применяется `padding` – дополнение нулями до фиксированной длины. Это необходимо для сохранения размерностей. \n",
    "Если последовательность слишком длинная, то мы вынуждены обрезать ее. "
   ]
  },
  {
   "cell_type": "code",
   "execution_count": 76,
   "id": "d0d5e3b9",
   "metadata": {
    "execution": {
     "iopub.execute_input": "2021-07-23T09:52:28.642045Z",
     "iopub.status.busy": "2021-07-23T09:52:28.641069Z",
     "iopub.status.idle": "2021-07-23T09:52:28.644854Z",
     "shell.execute_reply": "2021-07-23T09:52:28.644306Z",
     "shell.execute_reply.started": "2021-07-23T09:50:11.098471Z"
    },
    "papermill": {
     "duration": 0.041961,
     "end_time": "2021-07-23T09:52:28.645008",
     "exception": false,
     "start_time": "2021-07-23T09:52:28.603047",
     "status": "completed"
    },
    "tags": []
   },
   "outputs": [],
   "source": [
    "def padding(review_int: list, seq_len: int) -> np.ndarray:\n",
    "    \"\"\"Make left-sided padding for input list of tokens\n",
    "\n",
    "    Args:\n",
    "        review_int (list): input list of tokens\n",
    "        seq_len (int): max length of sequence, it len(review_int[i]) > seq_len it will be trimmed, else it will be padded by zeros\n",
    "\n",
    "    Returns:\n",
    "        np.array: padded sequences\n",
    "    \"\"\"\n",
    "    features = np.zeros((len(reviews_int), seq_len), dtype=int)\n",
    "    for i, review in enumerate(review_int):\n",
    "        if len(review) <= seq_len:\n",
    "            zeros = list(np.zeros(seq_len - len(review)))\n",
    "            new = zeros + review\n",
    "        else:\n",
    "            new = review[:seq_len]\n",
    "        features[i, :] = np.array(new)\n",
    "    return features"
   ]
  },
  {
   "cell_type": "code",
   "execution_count": 77,
   "id": "b41c8263",
   "metadata": {
    "execution": {
     "iopub.execute_input": "2021-07-23T09:52:28.723054Z",
     "iopub.status.busy": "2021-07-23T09:52:28.721963Z",
     "iopub.status.idle": "2021-07-23T09:52:31.910961Z",
     "shell.execute_reply": "2021-07-23T09:52:31.910376Z",
     "shell.execute_reply.started": "2021-07-23T09:50:11.107162Z"
    },
    "papermill": {
     "duration": 3.234973,
     "end_time": "2021-07-23T09:52:31.911139",
     "exception": false,
     "start_time": "2021-07-23T09:52:28.676166",
     "status": "completed"
    },
    "tags": []
   },
   "outputs": [
    {
     "name": "stdout",
     "output_type": "stream",
     "text": [
      "[277  37 252 283 407 176 310 299  60 433  13 387  88 247  10 675  13 165\n",
      "  56 319 299 252   3  15 115  42   9 157 236  37  83 946]\n"
     ]
    }
   ],
   "source": [
    "# SEQ_LEN – гиперпараметр, от длины будет зависеть качество\n",
    "SEQ_LEN = 32\n",
    "features = padding(reviews_int, SEQ_LEN)\n",
    "print(features[1, :])"
   ]
  },
  {
   "cell_type": "code",
   "execution_count": 78,
   "id": "4d1ebb8f",
   "metadata": {},
   "outputs": [
    {
     "data": {
      "text/plain": [
       "array([  0,   0,  19,   5,   3,  67, 322, 635, 280, 672,  76, 851, 372,\n",
       "       206, 508,  78,  91,   2, 637, 124, 484, 581, 271, 180, 116,  57,\n",
       "       163, 222,   1, 490,   1, 280])"
      ]
     },
     "execution_count": 78,
     "metadata": {},
     "output_type": "execute_result"
    }
   ],
   "source": [
    "features[32]"
   ]
  },
  {
   "cell_type": "code",
   "execution_count": 79,
   "id": "a70e52a0",
   "metadata": {
    "execution": {
     "iopub.execute_input": "2021-07-23T09:52:32.049182Z",
     "iopub.status.busy": "2021-07-23T09:52:32.047626Z",
     "iopub.status.idle": "2021-07-23T09:52:32.100156Z",
     "shell.execute_reply": "2021-07-23T09:52:32.099509Z",
     "shell.execute_reply.started": "2021-07-23T09:50:14.783770Z"
    },
    "papermill": {
     "duration": 0.093378,
     "end_time": "2021-07-23T09:52:32.100338",
     "exception": false,
     "start_time": "2021-07-23T09:52:32.006960",
     "status": "completed"
    },
    "tags": []
   },
   "outputs": [],
   "source": [
    "X_train, X_valid, y_train, y_valid = train_test_split(features, df['sentiment'].to_numpy(), test_size=0.2, random_state=1)"
   ]
  },
  {
   "cell_type": "code",
   "execution_count": 80,
   "id": "a8d8d04d",
   "metadata": {},
   "outputs": [
    {
     "name": "stdout",
     "output_type": "stream",
     "text": [
      "[[  2 957 472 ... 341 594 741]\n",
      " [  0   0   0 ... 302 339 787]\n",
      " [915  21 886 ...  78  52 253]\n",
      " ...\n",
      " [910 701  37 ... 436  49 824]\n",
      " [ 11 332 633 ... 358 243 121]\n",
      " [180 242  75 ...  36 713   8]]\n",
      "[0 1 1 ... 0 0 1]\n"
     ]
    }
   ],
   "source": [
    "print(X_train)\n",
    "print(y_train)"
   ]
  },
  {
   "cell_type": "code",
   "execution_count": 81,
   "id": "4d0db1d1",
   "metadata": {
    "execution": {
     "iopub.execute_input": "2021-07-23T09:52:32.249896Z",
     "iopub.status.busy": "2021-07-23T09:52:32.248717Z",
     "iopub.status.idle": "2021-07-23T09:52:32.252460Z",
     "shell.execute_reply": "2021-07-23T09:52:32.251867Z",
     "shell.execute_reply.started": "2021-07-23T09:50:14.831880Z"
    },
    "papermill": {
     "duration": 0.055896,
     "end_time": "2021-07-23T09:52:32.252613",
     "exception": false,
     "start_time": "2021-07-23T09:52:32.196717",
     "status": "completed"
    },
    "tags": []
   },
   "outputs": [],
   "source": [
    "# create tensor dataset\n",
    "train_data = TensorDataset(torch.from_numpy(X_train), torch.from_numpy(y_train))\n",
    "valid_data = TensorDataset(torch.from_numpy(X_valid), torch.from_numpy(y_valid))\n",
    "\n",
    "# dataloaders\n",
    "BATCH_SIZE = 48\n",
    "\n",
    "train_loader = DataLoader(train_data, shuffle=True, batch_size=BATCH_SIZE)\n",
    "valid_loader = DataLoader(valid_data, shuffle=True, batch_size=BATCH_SIZE)"
   ]
  },
  {
   "cell_type": "code",
   "execution_count": 82,
   "id": "276b257c",
   "metadata": {
    "execution": {
     "iopub.execute_input": "2021-07-23T09:52:32.324350Z",
     "iopub.status.busy": "2021-07-23T09:52:32.323590Z",
     "iopub.status.idle": "2021-07-23T09:52:32.378319Z",
     "shell.execute_reply": "2021-07-23T09:52:32.378921Z",
     "shell.execute_reply.started": "2021-07-23T09:50:14.840911Z"
    },
    "papermill": {
     "duration": 0.095343,
     "end_time": "2021-07-23T09:52:32.379148",
     "exception": false,
     "start_time": "2021-07-23T09:52:32.283805",
     "status": "completed"
    },
    "tags": []
   },
   "outputs": [
    {
     "name": "stdout",
     "output_type": "stream",
     "text": [
      "Sample input size: BATCH_SIZE x SEQ_LEN torch.Size([48, 32])\n",
      "Sample input: \n",
      " tensor([[  3, 566,   3,  ...,  25, 346, 180],\n",
      "        [ 39, 578, 113,  ..., 224, 113,  29],\n",
      "        [  3,  21,  82,  ..., 776, 671, 758],\n",
      "        ...,\n",
      "        [  0,   0,   0,  ..., 798, 206, 583],\n",
      "        [ 68,   9, 471,  ..., 805,  30, 114],\n",
      "        [  0,   0,   0,  ..., 789, 905, 624]])\n",
      "Sample input: \n",
      " tensor([0, 1, 1, 1, 0, 0, 1, 1, 0, 1, 0, 0, 1, 1, 1, 0, 0, 1, 1, 0, 0, 0, 1, 1,\n",
      "        1, 1, 0, 1, 0, 1, 0, 0, 0, 0, 0, 1, 1, 0, 0, 1, 1, 0, 0, 0, 1, 1, 0, 1])\n"
     ]
    }
   ],
   "source": [
    "# посмотрим, что внутри\n",
    "dataiter = iter(train_loader)\n",
    "sample_x, sample_y = next(dataiter)\n",
    "\n",
    "print('Sample input size: BATCH_SIZE x SEQ_LEN', sample_x.size()) # batch_size, seq_length\n",
    "print('Sample input: \\n', sample_x)\n",
    "print('Sample input: \\n', sample_y)"
   ]
  },
  {
   "attachments": {},
   "cell_type": "markdown",
   "id": "fb0774c8",
   "metadata": {
    "papermill": {
     "duration": 0.033004,
     "end_time": "2021-07-23T09:52:32.444943",
     "exception": false,
     "start_time": "2021-07-23T09:52:32.411939",
     "status": "completed"
    },
    "tags": []
   },
   "source": [
    "### Simple RNN model"
   ]
  },
  {
   "cell_type": "markdown",
   "id": "648029ff",
   "metadata": {},
   "source": [
    "Создадим dataclass для хранения конфигурации сети: теперь параметров больше, их можно задать и константами, но мы используем немного более сложный подход. Подробнее о dataclasses: https://habr.com/ru/articles/415829/"
   ]
  },
  {
   "cell_type": "code",
   "execution_count": 83,
   "id": "a3b1c57f",
   "metadata": {},
   "outputs": [],
   "source": [
    "@dataclass\n",
    "class ConfigRNN:\n",
    "    vocab_size: int\n",
    "    device: str\n",
    "    n_layers: int\n",
    "    embedding_dim: int\n",
    "    hidden_size: int\n",
    "    seq_len: int\n",
    "    bidirectional: Union[bool, int]"
   ]
  },
  {
   "cell_type": "code",
   "execution_count": 84,
   "id": "285fde6c",
   "metadata": {},
   "outputs": [
    {
     "data": {
      "text/plain": [
       "ConfigRNN(vocab_size=968, device='cpu', n_layers=1, embedding_dim=8, hidden_size=16, seq_len=32, bidirectional=False)"
      ]
     },
     "execution_count": 84,
     "metadata": {},
     "output_type": "execute_result"
    }
   ],
   "source": [
    "net_config = ConfigRNN(\n",
    "    vocab_size=len(vocab_to_int) + 1,\n",
    "    device=\"cpu\",\n",
    "    n_layers=1,\n",
    "    embedding_dim=8,\n",
    "    hidden_size=16,\n",
    "    seq_len=SEQ_LEN,\n",
    "    bidirectional=False,\n",
    ")\n",
    "net_config"
   ]
  },
  {
   "attachments": {},
   "cell_type": "markdown",
   "id": "ffeef357",
   "metadata": {},
   "source": [
    "PyTorch: [docs](https://pytorch.org/docs/stable/generated/torch.nn.RNN.html)"
   ]
  },
  {
   "cell_type": "code",
   "execution_count": 85,
   "id": "bdedc031",
   "metadata": {},
   "outputs": [
    {
     "name": "stdout",
     "output_type": "stream",
     "text": [
      "=================================================================\n",
      "Layer                Kernel        Output      Params       FLOPs\n",
      "=================================================================\n",
      "0_embedding          [8, 968]    [48, 32, 8]    7,744       1,536\n",
      "1_rnn_cell                  -   [48, 32, 16]      416   6,021,120\n",
      "2_linear.Linear_0   [512, 16]       [48, 16]    8,208     785,664\n",
      "3_linear.Tanh_1             -       [48, 16]        0       3,840\n",
      "4_linear.Linear_2     [16, 1]        [48, 1]       17       1,488\n",
      "=================================================================\n",
      "Total params: 16,385\n",
      "Trainable params: 16,385\n",
      "Non-trainable params: 0\n",
      "Total FLOPs: 6,813,648 / 6.81 MFLOPs\n",
      "-----------------------------------------------------------------\n",
      "Input size (MB): 0.01\n",
      "Forward/backward pass size (MB): 0.29\n",
      "Params size (MB): 0.06\n",
      "Estimated Total Size (MB): 0.37\n",
      "=================================================================\n"
     ]
    }
   ],
   "source": [
    "class RNNNet(nn.Module):\n",
    "    \"\"\"\n",
    "    vocab_size: int, размер словаря (аргумент embedding-слоя)\n",
    "    emb_size:   int, размер вектора для описания каждого элемента последовательности\n",
    "    hidden_dim: int, размер вектора скрытого состояния, default 0\n",
    "    batch_size: int, размер batch\n",
    "    \"\"\"\n",
    "\n",
    "    def __init__(self, rnn_conf=net_config) -> None:\n",
    "        super().__init__()\n",
    "        self.rnn_conf = rnn_conf\n",
    "        self.seq_len = rnn_conf.seq_len\n",
    "        self.emb_size = rnn_conf.embedding_dim\n",
    "        self.hidden_dim = rnn_conf.hidden_size\n",
    "        self.n_layers = rnn_conf.n_layers\n",
    "        self.vocab_size = rnn_conf.vocab_size\n",
    "        self.bidirectional = bool(rnn_conf.bidirectional)\n",
    "\n",
    "        self.embedding = nn.Embedding(self.vocab_size, self.emb_size)\n",
    "        self.rnn_cell = nn.RNN(\n",
    "            input_size=self.emb_size,\n",
    "            hidden_size=self.hidden_dim,\n",
    "            batch_first=True,\n",
    "            bidirectional=self.bidirectional,\n",
    "            num_layers=self.n_layers,\n",
    "        )\n",
    "        self.bidirect_factor = 2 if self.bidirectional == 1 else 1\n",
    "        self.linear = nn.Sequential(\n",
    "            nn.Linear(self.hidden_dim * self.seq_len * self.bidirect_factor, 16),\n",
    "            nn.Tanh(),\n",
    "            nn.Linear(16, 1)\n",
    "        )\n",
    "\n",
    "    def model_description(self):\n",
    "        direction = \"bidirect\" if self.bidirectional else \"onedirect\"\n",
    "        return f\"rnn_{direction}_{self.n_layers}\"\n",
    "\n",
    "    def forward(self, x: torch.Tensor) -> torch.Tensor:\n",
    "        x = self.embedding(x.to(self.rnn_conf.device))\n",
    "        output, _ = self.rnn_cell(x)  # Забираем hidden states со всех промежуточных состояний, второй выход отправляем в _\n",
    "        output = output.contiguous().view(output.size(0), -1)\n",
    "        out = self.linear(output)\n",
    "        return out\n",
    "\n",
    "\n",
    "model_rnn = RNNNet(net_config)\n",
    "tu.get_model_summary(model_rnn, sample_x.to(net_config.device))"
   ]
  },
  {
   "cell_type": "code",
   "execution_count": 86,
   "id": "93ee1cda",
   "metadata": {},
   "outputs": [],
   "source": [
    "criterion = nn.BCEWithLogitsLoss()\n",
    "optimizer_rnn = torch.optim.Adam(model_rnn.parameters())\n",
    "metric = BinaryAccuracy()"
   ]
  },
  {
   "cell_type": "code",
   "execution_count": 87,
   "id": "4a18aade",
   "metadata": {},
   "outputs": [
    {
     "name": "stdout",
     "output_type": "stream",
     "text": [
      "Epoch 1\n",
      "train_loss : 0.6418 val_loss : 0.5729\n",
      "train_accuracy : 0.61 val_accuracy : 0.71\n",
      "==================================================\n"
     ]
    }
   ],
   "source": [
    "train_losses, val_losses, train_metric, val_metric, rnn_time = train(\n",
    "    epochs=1,\n",
    "    model=model_rnn,\n",
    "    train_loader=train_loader,\n",
    "    valid_loader=valid_loader,\n",
    "    optimizer=optimizer_rnn,\n",
    "    rnn_conf=net_config,\n",
    "    criterion=criterion,\n",
    "    metric=metric,\n",
    ")"
   ]
  },
  {
   "cell_type": "markdown",
   "id": "74784237",
   "metadata": {},
   "source": [
    "### LSTM-модель"
   ]
  },
  {
   "cell_type": "markdown",
   "id": "34316daa",
   "metadata": {},
   "source": [
    "Весь процесс останется прежним, мы изменим только саму модель"
   ]
  },
  {
   "cell_type": "code",
   "execution_count": 88,
   "id": "69cc30c5",
   "metadata": {},
   "outputs": [
    {
     "name": "stdout",
     "output_type": "stream",
     "text": [
      "===============================================================\n",
      "Layer              Kernel       Output      Params        FLOPs\n",
      "===============================================================\n",
      "0_embedding       [8, 968]    [48, 32, 8]    7,744        1,536\n",
      "1_lstm                   -   [48, 32, 16]    1,664   20,692,992\n",
      "2_clf.Linear_0    [16, 32]       [48, 32]      544       47,616\n",
      "3_clf.Tanh_1             -       [48, 32]        0        7,680\n",
      "4_clf.Dropout_2          -       [48, 32]        0            0\n",
      "5_clf.Linear_3     [32, 1]        [48, 1]       33        3,024\n",
      "===============================================================\n",
      "Total params: 9,985\n",
      "Trainable params: 9,985\n",
      "Non-trainable params: 0\n",
      "Total FLOPs: 20,752,848 / 20.75 MFLOPs\n",
      "---------------------------------------------------------------\n",
      "Input size (MB): 0.01\n",
      "Forward/backward pass size (MB): 0.32\n",
      "Params size (MB): 0.04\n",
      "Estimated Total Size (MB): 0.37\n",
      "===============================================================\n"
     ]
    }
   ],
   "source": [
    "class LSTMClassifier(nn.Module):\n",
    "    def __init__(self, rnn_conf=net_config) -> None:\n",
    "        super().__init__()\n",
    "\n",
    "        self.embedding_dim = rnn_conf.embedding_dim\n",
    "        self.hidden_size = rnn_conf.hidden_size\n",
    "        self.bidirectional = rnn_conf.bidirectional\n",
    "        self.n_layers = rnn_conf.n_layers\n",
    "\n",
    "        self.embedding = nn.Embedding(rnn_conf.vocab_size, self.embedding_dim)\n",
    "        self.lstm = nn.LSTM(\n",
    "            input_size=self.embedding_dim,\n",
    "            hidden_size=self.hidden_size,\n",
    "            bidirectional=self.bidirectional,\n",
    "            batch_first=True,\n",
    "            num_layers=self.n_layers,\n",
    "        )\n",
    "        self.bidirect_factor = 2 if self.bidirectional else 1\n",
    "        self.clf = nn.Sequential(\n",
    "            nn.Linear(self.hidden_size * self.bidirect_factor, 32),\n",
    "            nn.Tanh(),\n",
    "            nn.Dropout(),\n",
    "            nn.Linear(32, 1)\n",
    "        )\n",
    "\n",
    "    def model_description(self):\n",
    "        direction = \"bidirect\" if self.bidirectional else \"onedirect\"\n",
    "        return f\"lstm_{direction}_{self.n_layers}\"\n",
    "\n",
    "    def forward(self, x: torch.Tensor):\n",
    "        embeddings = self.embedding(x)\n",
    "        out, _ = self.lstm(embeddings)\n",
    "        # print(out.shape)\n",
    "        out = out[:, -1, :]  # [все элементы батча, последний h_n, все элементы последнего h_n]\n",
    "        # print(out.shape)\n",
    "        out = self.clf(out)\n",
    "        return out\n",
    "\n",
    "\n",
    "model_lstm = LSTMClassifier(net_config)\n",
    "tu.get_model_summary(model_lstm, sample_x)"
   ]
  },
  {
   "cell_type": "code",
   "execution_count": 89,
   "id": "2ebadbe7",
   "metadata": {},
   "outputs": [],
   "source": [
    "optimizer_lstm = torch.optim.Adam(model_lstm.parameters(), lr=0.005)"
   ]
  },
  {
   "cell_type": "code",
   "execution_count": 90,
   "id": "3d87c879",
   "metadata": {},
   "outputs": [
    {
     "name": "stdout",
     "output_type": "stream",
     "text": [
      "Epoch 1\n",
      "train_loss : 0.5675 val_loss : 0.4795\n",
      "train_accuracy : 0.69 val_accuracy : 0.77\n",
      "==================================================\n"
     ]
    }
   ],
   "source": [
    "train_losses, val_losses, train_metric, val_metric, lstm_time = train(\n",
    "    epochs=1, \n",
    "    model=model_lstm, \n",
    "    train_loader=train_loader,\n",
    "    valid_loader=valid_loader,\n",
    "    optimizer=optimizer_lstm,\n",
    "    rnn_conf=net_config,\n",
    "    criterion=criterion,\n",
    "    metric=metric\n",
    "    )"
   ]
  },
  {
   "cell_type": "code",
   "execution_count": 91,
   "id": "a0ab26fe",
   "metadata": {},
   "outputs": [
    {
     "data": {
      "text/plain": [
       "tensor([ 0,  0,  0,  0,  0,  0,  0,  0,  0,  0,  0,  0,  0,  0,  0,  0,  0,  0,\n",
       "         0,  0,  0,  0,  0,  0,  0,  0,  0,  0,  0,  0, 15,  1])"
      ]
     },
     "execution_count": 91,
     "metadata": {},
     "output_type": "execute_result"
    }
   ],
   "source": [
    "## Используем функцию для препроцессинга отдельной строки\n",
    "preprocess_single_string(\"great movie\", net_config.seq_len, vocab_to_int)"
   ]
  },
  {
   "cell_type": "code",
   "execution_count": 92,
   "id": "692c26ad",
   "metadata": {},
   "outputs": [],
   "source": [
    "model_rnn.eval();\n",
    "model_lstm.eval();"
   ]
  },
  {
   "cell_type": "code",
   "execution_count": 93,
   "metadata": {},
   "outputs": [
    {
     "data": {
      "text/plain": [
       "tensor([  0,   0,   0,   0,   0,   0,   0,   0,   0,   0,   0,   0,   0,   0,\n",
       "          0,   0,   0,   0,   0,   0,   0,   0,   0,   0,   0,   0,   0,   0,\n",
       "          5,  16, 258,   2])"
      ]
     },
     "execution_count": 93,
     "metadata": {},
     "output_type": "execute_result"
    }
   ],
   "source": [
    "preprocess_single_string('good bad start film', net_config.seq_len, vocab_to_int)"
   ]
  },
  {
   "cell_type": "code",
   "execution_count": 94,
   "id": "82269ed1",
   "metadata": {},
   "outputs": [],
   "source": [
    "def predict_review(review_text: str, seq_len: int = net_config.seq_len) -> torch.tensor:\n",
    "    sample = preprocess_single_string(review_text, seq_len, vocab_to_int)\n",
    "    probability_rnn = model_rnn(sample.unsqueeze(0)).to(net_config.device).sigmoid()\n",
    "    probability_lstm = model_lstm(sample.unsqueeze(0)).to(net_config.device).sigmoid()\n",
    "    print(f\"RNN: {probability_rnn.item():.3f} LSTM: {probability_lstm.item():.3f}\")"
   ]
  },
  {
   "cell_type": "code",
   "execution_count": 95,
   "id": "f250815a",
   "metadata": {},
   "outputs": [],
   "source": [
    "positive_reviews = [\n",
    "    \"This film is a masterpiece! The storytelling is captivating, the acting is phenomenal, and the visuals are breathtaking. I couldn't take my eyes off the screen.\",\n",
    "    \"I absolutely loved this movie. It's a rollercoaster of emotions, and the characters are so relatable. The ending left me in tears, but in the best way possible.\",\n",
    "    \"What a gem of a film! It's heartwarming and filled with humor. I left the theater with a big smile on my face, and I can't wait to watch it again.\",\n",
    "    \"Incredible cinematography and a thought-provoking plot make this movie a must-see. I was glued to my seat the entire time, and it left me thinking about it for days.\",\n",
    "    \"This film is a true work of art. The music, the visuals, and the performances all come together to create an unforgettable cinematic experience. I highly recommend it to everyone.\"\n",
    "]\n",
    "\n",
    "negative_reviews = [\n",
    "    \"I couldn't stand this movie. The plot was convoluted, and the characters were one-dimensional. It was a complete waste of my time.\",\n",
    "    \"The acting in this film was cringe-worthy. I couldn't connect with any of the characters, and the dialogue felt forced and unrealistic.\",\n",
    "    \"I had high hopes for this movie, but it was a major disappointment. The pacing was off, and I found myself checking my watch throughout the entire film.\",\n",
    "    \"This film is just another generic Hollywood cash grab. It's full of clichés, and the story is completely predictable. I wish I had skipped it.\",\n",
    "    \"I can't believe the hype around this movie. It was boring, and the ending was so unsatisfying. I wouldn't recommend it to anyone.\"\n",
    "]\n"
   ]
  },
  {
   "cell_type": "code",
   "execution_count": 96,
   "id": "bcb6c2a8",
   "metadata": {},
   "outputs": [
    {
     "name": "stdout",
     "output_type": "stream",
     "text": [
      "RNN: 0.492 LSTM: 0.721\n",
      "RNN: 0.625 LSTM: 0.797\n",
      "RNN: 0.573 LSTM: 0.675\n",
      "RNN: 0.696 LSTM: 0.583\n",
      "RNN: 0.874 LSTM: 0.888\n",
      "RNN: 0.424 LSTM: 0.154\n",
      "RNN: 0.527 LSTM: 0.387\n",
      "RNN: 0.746 LSTM: 0.625\n",
      "RNN: 0.648 LSTM: 0.341\n",
      "RNN: 0.260 LSTM: 0.256\n"
     ]
    }
   ],
   "source": [
    "for i in positive_reviews+negative_reviews:\n",
    "    predict_review(i)"
   ]
  },
  {
   "cell_type": "code",
   "execution_count": null,
   "id": "9a5f769b",
   "metadata": {},
   "outputs": [],
   "source": []
  }
 ],
 "metadata": {
  "kernelspec": {
   "display_name": "Python 3.8.13 ('pt')",
   "language": "python",
   "name": "python3"
  },
  "language_info": {
   "codemirror_mode": {
    "name": "ipython",
    "version": 3
   },
   "file_extension": ".py",
   "mimetype": "text/x-python",
   "name": "python",
   "nbconvert_exporter": "python",
   "pygments_lexer": "ipython3",
   "version": "3.9.15"
  },
  "papermill": {
   "default_parameters": {},
   "duration": 119.96947,
   "end_time": "2021-07-23T09:53:55.779323",
   "environment_variables": {},
   "exception": null,
   "input_path": "__notebook__.ipynb",
   "output_path": "__notebook__.ipynb",
   "parameters": {},
   "start_time": "2021-07-23T09:51:55.809853",
   "version": "2.3.3"
  },
  "vscode": {
   "interpreter": {
    "hash": "a7df815f77bf8edb0a6a656480e7ee3c360a4b494ba862a12bd6032824eda046"
   }
  }
 },
 "nbformat": 4,
 "nbformat_minor": 5
}
