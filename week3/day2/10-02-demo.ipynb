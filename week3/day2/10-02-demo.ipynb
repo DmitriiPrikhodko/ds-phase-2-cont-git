{
 "cells": [
  {
   "cell_type": "markdown",
   "metadata": {},
   "source": [
    "# Фаза 2 • Неделя 10 • Вторник\n",
    "## Обработка естественного языка\n",
    "#### Word2Vec • LSTM • Attention"
   ]
  },
  {
   "cell_type": "code",
   "execution_count": 3,
   "metadata": {},
   "outputs": [],
   "source": [
    "%load_ext autoreload\n",
    "%autoreload 2"
   ]
  },
  {
   "cell_type": "code",
   "execution_count": 4,
   "metadata": {},
   "outputs": [],
   "source": [
    "import numpy as np\n",
    "import pandas as pd\n",
    "from typing import Tuple\n",
    "import matplotlib.pyplot as plt\n",
    "\n",
    "#### Word2Vec\n",
    "import gensim\n",
    "from gensim.models import Word2Vec\n",
    "\n",
    "####\n",
    "import torch\n",
    "from torch.utils.data import DataLoader, TensorDataset\n",
    "import torch.nn.functional as F\n",
    "import torch.nn as nn\n",
    "import torchutils as tu\n",
    "from sklearn.model_selection import train_test_split\n",
    "from collections import Counter\n",
    "\n",
    "from torchmetrics.classification import BinaryAccuracy\n",
    "from src.rnn_preprocessing import (\n",
    "                                data_preprocessing, \n",
    "                                preprocess_single_string, \n",
    "                                padding, \n",
    "                                get_words_by_freq\n",
    "                                )\n",
    "from src.train_rnn import train_attention_lstm"
   ]
  },
  {
   "cell_type": "code",
   "execution_count": 5,
   "metadata": {},
   "outputs": [
    {
     "name": "stdout",
     "output_type": "stream",
     "text": [
      "4.3.1\n"
     ]
    }
   ],
   "source": [
    "# Лучше всего установить такую же версию\n",
    "print(gensim.__version__)"
   ]
  },
  {
   "cell_type": "markdown",
   "metadata": {},
   "source": [
    "## Загрузка и препроцессинг данных\n",
    "\n",
    "Общая схема обычная: \n",
    "1. Загружаем данные\n",
    "2. Столбец с отзывами предобрабатываем (стоп-слова, числа, теги – все гиперпараметр)\n",
    "3. Обучаем `word2vec` на наших данных и создаем собственный `embedding`-слой из векторов `w2v`\n",
    "4. Преобразуем слова в индексы и делаем `padding`\n",
    "5. Разделяем на обучение и валидацию"
   ]
  },
  {
   "cell_type": "code",
   "execution_count": 6,
   "metadata": {},
   "outputs": [],
   "source": [
    "df = pd.read_csv('data/imdb.csv')\n",
    "reviews = df['review'].tolist()\n",
    "preprocessed = [data_preprocessing(review) for review in reviews]"
   ]
  },
  {
   "cell_type": "code",
   "execution_count": 7,
   "metadata": {},
   "outputs": [
    {
     "data": {
      "text/plain": [
       "'phil alien one quirky films humour based around oddness everything rather actual punchlinesat first odd pretty funny movie progressed didnt find jokes oddness funny anymoreits low budget film thats never problem pretty interesting characters eventually lost interesti imagine film would appeal stoner currently partakingfor something similar better try brother another planet'"
      ]
     },
     "execution_count": 7,
     "metadata": {},
     "output_type": "execute_result"
    }
   ],
   "source": [
    "preprocessed[10]"
   ]
  },
  {
   "cell_type": "code",
   "execution_count": 8,
   "metadata": {},
   "outputs": [
    {
     "data": {
      "text/plain": [
       "[('loads', 201),\n",
       " ('myers', 201),\n",
       " ('walken', 201),\n",
       " ('failing', 201),\n",
       " ('honesty', 201),\n",
       " ('dozens', 201),\n",
       " ('superficial', 201),\n",
       " ('reunion', 201),\n",
       " ('vegas', 201),\n",
       " ('todd', 201)]"
      ]
     },
     "execution_count": 8,
     "metadata": {},
     "output_type": "execute_result"
    }
   ],
   "source": [
    "# Анализируем частоты слов и выбираем только те, которые встречаются чаще порога\n",
    "corpus = [word for text in preprocessed for word in text.split()]\n",
    "sorted_words = Counter(corpus).most_common()\n",
    "sorted_words = get_words_by_freq(sorted_words, 200)\n",
    "sorted_words[-10:]"
   ]
  },
  {
   "cell_type": "code",
   "execution_count": 9,
   "metadata": {},
   "outputs": [],
   "source": [
    "# Создаем словарь слово: индекс\n",
    "vocab_to_int = {w:i+1 for i, (w,c) in enumerate(sorted_words)}\n",
    "# vocab_to_int"
   ]
  },
  {
   "cell_type": "code",
   "execution_count": 10,
   "metadata": {},
   "outputs": [
    {
     "data": {
      "text/plain": [
       "[('movie', 1),\n",
       " ('film', 2),\n",
       " ('one', 3),\n",
       " ('like', 4),\n",
       " ('good', 5),\n",
       " ('even', 6),\n",
       " ('would', 7),\n",
       " ('time', 8),\n",
       " ('really', 9),\n",
       " ('see', 10)]"
      ]
     },
     "execution_count": 10,
     "metadata": {},
     "output_type": "execute_result"
    }
   ],
   "source": [
    "list(vocab_to_int.items())[:10]"
   ]
  },
  {
   "cell_type": "code",
   "execution_count": 11,
   "metadata": {},
   "outputs": [
    {
     "name": "stdout",
     "output_type": "stream",
     "text": [
      "[3, 1792, 934, 56, 3185, 284, 347, 2997, 107, 478, 467, 19, 57, 3068, 3185, 50, 469, 180, 107, 545, 52, 1589, 41, 41, 2338, 1324, 274, 469, 3227, 244, 231, 351, 3185, 238, 2396, 932, 2460, 1234, 418, 2354, 1070, 2804, 296, 211, 3533, 418, 234, 2299, 222, 34, 126, 7, 45, 166, 1160, 41, 547, 91, 159, 154, 432, 2818, 698, 84, 1131, 2332, 968, 698, 1269, 698, 58, 846, 87, 19, 284, 43, 103, 3068, 1435, 2049, 286, 45, 1406, 174, 1321, 1110, 3185, 88, 211, 1931, 1943, 469, 469, 2774, 377, 496, 14, 140, 13, 627, 688, 539, 1070, 547, 435, 802, 1842, 1070, 440, 56, 3185, 98, 300, 3566, 3085, 14, 1073, 3822, 389]\n",
      "one reviewers mentioned watching oz episode youll hooked right exactly happened methe first thing struck oz brutality unflinching scenes violence set right word go trust show faint hearted timid show pulls punches regards drugs sex violence hardcore classic use wordit called oz nickname given oswald maximum security state penitentary focuses mainly emerald city experimental section prison cells glass fronts face inwards privacy high agenda em city home manyaryans muslims gangstas latinos christians italians irish moreso scuffles death stares dodgy dealings shady agreements never far awayi would say main appeal show due fact goes shows wouldnt dare forget pretty pictures painted mainstream audiences forget charm forget romanceoz doesnt mess around first episode ever saw struck nasty surreal couldnt say ready watched developed taste oz got accustomed high levels graphic violence violence injustice crooked guards wholl sold nickel inmates wholl kill order get away well mannered middle class inmates turned prison bitches due lack street skills prison experience watching oz may become comfortable uncomfortable viewingthats get touch darker side\n"
     ]
    }
   ],
   "source": [
    "# Конвертируем слова в индексы\n",
    "reviews_int = []\n",
    "for text in preprocessed:\n",
    "    r = [vocab_to_int[word] for word in text.split() if vocab_to_int.get(word)]\n",
    "    reviews_int.append(r)\n",
    "print([i for i in reviews_int[0]])\n",
    "print(preprocessed[0])"
   ]
  },
  {
   "cell_type": "markdown",
   "metadata": {},
   "source": [
    "Формируем вход для Word2Vec – это вложенный список формата: \n",
    "\n",
    "```python\n",
    "[\n",
    "    ['это', 'первый', 'отзыв'],\n",
    "    ['это', 'второй', 'отзыв']\n",
    "]\n",
    "```"
   ]
  },
  {
   "cell_type": "markdown",
   "metadata": {},
   "source": [
    "Формируем данные для обучения word2vec. Будем бежать по всем отзывам и словам внутри отзывов, если они есть в словаре – добавляем их в список, если нет – пропускаем. "
   ]
  },
  {
   "cell_type": "code",
   "execution_count": 12,
   "metadata": {},
   "outputs": [
    {
     "name": "stdout",
     "output_type": "stream",
     "text": [
      "Total reviews: 50000\n",
      "Random review for word2vec: ['love', 'war', 'happen', 'side', 'iron', 'looking', 'love', 'strong', 'west', 'war', 'often', 'poignant', 'say', 'realistic', 'film', 'much', 'war', 'love', 'soviet', 'mr', 'era', 'also', 'reminds', 'us', 'best', 'war', 'movies', 'necessarily', 'made', 'millions', 'spent', 'special', 'effects', 'movie', 'classic', 'soviet', 'cinema', 'outstanding', 'picture', 'one', 'greatest', 'human', 'war']\n"
     ]
    }
   ],
   "source": [
    "w2v_input = []\n",
    "for review in preprocessed:\n",
    "    cur_review = []\n",
    "    for word in review.split():\n",
    "        if vocab_to_int.get(word):\n",
    "            cur_review.append(word)\n",
    "    w2v_input.append(cur_review)\n",
    "print(f'Total reviews: {len(w2v_input)}')\n",
    "print(f'Random review for word2vec: {w2v_input[np.random.randint(0, 50000)]}')"
   ]
  },
  {
   "cell_type": "code",
   "execution_count": 13,
   "metadata": {},
   "outputs": [],
   "source": [
    "VOCAB_SIZE = len(vocab_to_int) + 1  # размер словаря вместе с токеном padding\n",
    "EMBEDDING_DIM = 64 # embedding_dim "
   ]
  },
  {
   "cell_type": "code",
   "execution_count": 14,
   "metadata": {},
   "outputs": [
    {
     "name": "stdout",
     "output_type": "stream",
     "text": [
      "Total reviews: 50000\n"
     ]
    }
   ],
   "source": [
    "# Обучим Word2Vec\n",
    "wv = Word2Vec(\n",
    "    vector_size=EMBEDDING_DIM # размерность вектора для слова\n",
    "    )\n",
    "# Сначала word2vec составляет словарь\n",
    "wv.build_vocab(w2v_input)\n",
    "print(f'Total reviews: {wv.corpus_count}')"
   ]
  },
  {
   "cell_type": "code",
   "execution_count": 15,
   "metadata": {},
   "outputs": [],
   "source": [
    "# Далее обучаем\n",
    "wv.train(\n",
    "    corpus_iterable=w2v_input, \n",
    "    total_examples=wv.corpus_count, \n",
    "    epochs=10\n",
    "    );"
   ]
  },
  {
   "cell_type": "code",
   "execution_count": 16,
   "metadata": {},
   "outputs": [
    {
     "name": "stdout",
     "output_type": "stream",
     "text": [
      "0.7811417\n",
      "-0.23555078\n",
      "0.7504934\n",
      "[('film', 0.7811416387557983), ('moviei', 0.7725147604942322), ('flick', 0.692772388458252), ('movies', 0.6665305495262146), ('really', 0.5904151201248169), ('thing', 0.5849486589431763), ('moviethe', 0.5822253227233887), ('honestly', 0.5431023240089417), ('sequel', 0.5270323753356934), ('actually', 0.5249571204185486)]\n"
     ]
    }
   ],
   "source": [
    "# Похожесть слов\n",
    "print(wv.wv.similarity('film', 'movie'))\n",
    "print(wv.wv.similarity('film', 'car'))\n",
    "print(wv.wv.similarity('cat', 'dog'))\n",
    "\n",
    "# Близкие слова\n",
    "print(wv.wv.similar_by_word('movie'))"
   ]
  },
  {
   "cell_type": "markdown",
   "metadata": {},
   "source": [
    "Теперь нам нужно зафиксировать векторы, которые для нас построила модель выше, и передать их на «хранение» в слой Embedding. В таком случае, если вектора уже получены, слой не будет обучаться, а будет по запросу «доставать векторы из тех данных, которые мы в него передадим». "
   ]
  },
  {
   "cell_type": "code",
   "execution_count": 17,
   "metadata": {},
   "outputs": [
    {
     "data": {
      "text/plain": [
       "array([-1.0492187 ,  1.7325034 ,  1.0122901 , -1.7775537 , -0.15206759,\n",
       "       -0.34927136,  1.5709175 , -0.80328715, -1.9341474 ,  0.77999204,\n",
       "       -1.4403139 , -0.1366844 , -1.2678053 , -0.03769841,  2.8276155 ,\n",
       "       -1.8530195 , -0.7339546 ,  0.29023632,  0.05289092, -0.0946172 ,\n",
       "        0.20760712,  0.9329735 ,  1.1278582 , -1.688406  , -1.845838  ,\n",
       "        3.2809277 , -1.556249  , -0.5533643 , -1.1487509 ,  0.34349734,\n",
       "       -1.8408974 , -1.3578523 ,  1.3001295 , -0.6027932 , -0.13170649,\n",
       "       -0.6242253 , -2.1248076 ,  2.4099467 , -1.9206221 , -1.1574667 ,\n",
       "       -0.56492776,  0.96797067,  0.18334982,  0.8265372 , -0.0909607 ,\n",
       "       -0.00466083,  0.24533461,  1.2160232 ,  0.5724257 , -0.09939807,\n",
       "       -0.08588637,  0.34014767,  1.8308814 ,  1.0176563 , -1.2642443 ,\n",
       "        1.4774233 ,  0.21195787, -0.05716217, -0.50203365,  4.0636263 ,\n",
       "       -1.4624686 , -0.37801266, -0.7134766 , -0.32143584], dtype=float32)"
      ]
     },
     "execution_count": 17,
     "metadata": {},
     "output_type": "execute_result"
    }
   ],
   "source": [
    "wv.wv['cat']"
   ]
  },
  {
   "cell_type": "code",
   "execution_count": 18,
   "metadata": {},
   "outputs": [
    {
     "data": {
      "text/plain": [
       "dict_items([('movie', 1), ('film', 2), ('one', 3), ('like', 4), ('good', 5), ('even', 6), ('would', 7), ('time', 8), ('really', 9), ('see', 10), ('story', 11), ('much', 12), ('well', 13), ('get', 14), ('great', 15), ('bad', 16), ('also', 17), ('people', 18), ('first', 19), ('dont', 20), ('movies', 21), ('made', 22), ('make', 23), ('films', 24), ('could', 25), ('way', 26), ('characters', 27), ('think', 28), ('watch', 29), ('many', 30), ('seen', 31), ('two', 32), ('character', 33), ('never', 34), ('love', 35), ('acting', 36), ('little', 37), ('plot', 38), ('best', 39), ('know', 40), ('show', 41), ('life', 42), ('ever', 43), ('better', 44), ('say', 45), ('still', 46), ('scene', 47), ('end', 48), ('man', 49), ('scenes', 50), ('something', 51), ('go', 52), ('back', 53), ('real', 54), ('im', 55), ('watching', 56), ('thing', 57), ('doesnt', 58), ('didnt', 59), ('actors', 60), ('years', 61), ('actually', 62), ('though', 63), ('funny', 64), ('makes', 65), ('another', 66), ('find', 67), ('nothing', 68), ('look', 69), ('going', 70), ('work', 71), ('lot', 72), ('new', 73), ('every', 74), ('old', 75), ('us', 76), ('part', 77), ('cant', 78), ('director', 79), ('want', 80), ('quite', 81), ('thats', 82), ('things', 83), ('pretty', 84), ('cast', 85), ('seems', 86), ('around', 87), ('got', 88), ('young', 89), ('take', 90), ('fact', 91), ('world', 92), ('enough', 93), ('big', 94), ('horror', 95), ('thought', 96), ('give', 97), ('may', 98), ('ive', 99), ('however', 100), ('without', 101), ('long', 102), ('saw', 103), ('isnt', 104), ('always', 105), ('gets', 106), ('right', 107), ('music', 108), ('original', 109), ('must', 110), ('almost', 111), ('come', 112), ('series', 113), ('times', 114), ('comedy', 115), ('whole', 116), ('role', 117), ('least', 118), ('interesting', 119), ('guy', 120), ('action', 121), ('point', 122), ('bit', 123), ('theres', 124), ('done', 125), ('far', 126), ('might', 127), ('hes', 128), ('minutes', 129), ('script', 130), ('feel', 131), ('anything', 132), ('last', 133), ('since', 134), ('probably', 135), ('family', 136), ('kind', 137), ('performance', 138), ('tv', 139), ('away', 140), ('rather', 141), ('yet', 142), ('worst', 143), ('fun', 144), ('found', 145), ('anyone', 146), ('sure', 147), ('played', 148), ('girl', 149), ('making', 150), ('believe', 151), ('woman', 152), ('trying', 153), ('shows', 154), ('especially', 155), ('course', 156), ('comes', 157), ('hard', 158), ('goes', 159), ('day', 160), ('put', 161), ('although', 162), ('everything', 163), ('different', 164), ('worth', 165), ('main', 166), ('looking', 167), ('dvd', 168), ('ending', 169), ('place', 170), ('looks', 171), ('wasnt', 172), ('book', 173), ('watched', 174), ('maybe', 175), ('sense', 176), ('reason', 177), ('screen', 178), ('three', 179), ('set', 180), ('effects', 181), ('someone', 182), ('true', 183), ('plays', 184), ('play', 185), ('job', 186), ('money', 187), ('together', 188), ('actor', 189), ('said', 190), ('seem', 191), ('takes', 192), ('american', 193), ('everyone', 194), ('instead', 195), ('beautiful', 196), ('special', 197), ('seeing', 198), ('later', 199), ('left', 200), ('audience', 201), ('war', 202), ('version', 203), ('excellent', 204), ('john', 205), ('idea', 206), ('night', 207), ('shot', 208), ('black', 209), ('simply', 210), ('high', 211), ('fan', 212), ('youre', 213), ('completely', 214), ('used', 215), ('house', 216), ('nice', 217), ('read', 218), ('poor', 219), ('else', 220), ('wife', 221), ('death', 222), ('kids', 223), ('friends', 224), ('short', 225), ('along', 226), ('help', 227), ('men', 228), ('second', 229), ('mind', 230), ('use', 231), ('less', 232), ('star', 233), ('home', 234), ('need', 235), ('try', 236), ('half', 237), ('given', 238), ('enjoy', 239), ('year', 240), ('boring', 241), ('rest', 242), ('either', 243), ('classic', 244), ('truly', 245), ('performances', 246), ('recommend', 247), ('dead', 248), ('couple', 249), ('production', 250), ('wrong', 251), ('stupid', 252), ('line', 253), ('father', 254), ('hollywood', 255), ('start', 256), ('next', 257), ('tell', 258), ('came', 259), ('getting', 260), ('women', 261), ('understand', 262), ('remember', 263), ('full', 264), ('let', 265), ('school', 266), ('keep', 267), ('camera', 268), ('terrible', 269), ('others', 270), ('awful', 271), ('moments', 272), ('mean', 273), ('sex', 274), ('wonderful', 275), ('playing', 276), ('perhaps', 277), ('video', 278), ('name', 279), ('human', 280), ('gives', 281), ('often', 282), ('budget', 283), ('episode', 284), ('small', 285), ('couldnt', 286), ('definitely', 287), ('perfect', 288), ('early', 289), ('person', 290), ('top', 291), ('went', 292), ('lines', 293), ('dialogue', 294), ('absolutely', 295), ('face', 296), ('piece', 297), ('guys', 298), ('certainly', 299), ('become', 300), ('liked', 301), ('stars', 302), ('case', 303), ('sort', 304), ('head', 305), ('loved', 306), ('hope', 307), ('entire', 308), ('felt', 309), ('supposed', 310), ('lost', 311), ('several', 312), ('live', 313), ('style', 314), ('mother', 315), ('entertaining', 316), ('written', 317), ('worse', 318), ('picture', 319), ('title', 320), ('laugh', 321), ('finally', 322), ('waste', 323), ('problem', 324), ('boy', 325), ('friend', 326), ('totally', 327), ('sound', 328), ('shes', 329), ('beginning', 330), ('seemed', 331), ('wanted', 332), ('yes', 333), ('based', 334), ('cinema', 335), ('mr', 336), ('dark', 337), ('care', 338), ('becomes', 339), ('humor', 340), ('wont', 341), ('already', 342), ('fans', 343), ('lead', 344), ('example', 345), ('guess', 346), ('youll', 347), ('final', 348), ('children', 349), ('evil', 350), ('called', 351), ('direction', 352), ('lives', 353), ('able', 354), ('turn', 355), ('low', 356), ('id', 357), ('throughout', 358), ('game', 359), ('drama', 360), ('white', 361), ('wants', 362), ('oh', 363), ('girls', 364), ('days', 365), ('fine', 366), ('despite', 367), ('\\x96', 368), ('quality', 369), ('horrible', 370), ('theyre', 371), ('amazing', 372), ('writing', 373), ('history', 374), ('tries', 375), ('works', 376), ('kill', 377), ('enjoyed', 378), ('turns', 379), ('gave', 380), ('killer', 381), ('act', 382), ('unfortunately', 383), ('michael', 384), ('son', 385), ('past', 386), ('parts', 387), ('favorite', 388), ('side', 389), ('flick', 390), ('behind', 391), ('matter', 392), ('expect', 393), ('car', 394), ('brilliant', 395), ('town', 396), ('eyes', 397), ('run', 398), ('starts', 399), ('ones', 400), ('stuff', 401), ('obviously', 402), ('sometimes', 403), ('killed', 404), ('viewer', 405), ('says', 406), ('thinking', 407), ('took', 408), ('soon', 409), ('overall', 410), ('group', 411), ('directed', 412), ('decent', 413), ('actress', 414), ('heart', 415), ('late', 416), ('art', 417), ('city', 418), ('heard', 419), ('genre', 420), ('happens', 421), ('feeling', 422), ('kid', 423), ('highly', 424), ('hell', 425), ('fight', 426), ('except', 427), ('child', 428), ('extremely', 429), ('ill', 430), ('leave', 431), ('wouldnt', 432), ('cannot', 433), ('told', 434), ('lack', 435), ('blood', 436), ('close', 437), ('etc', 438), ('police', 439), ('experience', 440), ('moment', 441), ('hour', 442), ('coming', 443), ('wonder', 444), ('looked', 445), ('stories', 446), ('involved', 447), ('chance', 448), ('strong', 449), ('hand', 450), ('particularly', 451), ('type', 452), ('save', 453), ('score', 454), ('daughter', 455), ('living', 456), ('including', 457), ('attempt', 458), ('complete', 459), ('shown', 460), ('serious', 461), ('taken', 462), ('simple', 463), ('obvious', 464), ('god', 465), ('roles', 466), ('happened', 467), ('hilarious', 468), ('violence', 469), ('stop', 470), ('happen', 471), ('cool', 472), ('james', 473), ('across', 474), ('murder', 475), ('voice', 476), ('known', 477), ('exactly', 478), ('song', 479), ('opening', 480), ('ago', 481), ('number', 482), ('usually', 483), ('robert', 484), ('released', 485), ('slow', 486), ('saying', 487), ('huge', 488), ('david', 489), ('wish', 490), ('jokes', 491), ('ok', 492), ('reality', 493), ('interest', 494), ('whose', 495), ('order', 496), ('hours', 497), ('cinematography', 498), ('english', 499), ('crap', 500), ('relationship', 501), ('sad', 502), ('hit', 503), ('alone', 504), ('none', 505), ('lets', 506), ('running', 507), ('shots', 508), ('possible', 509), ('talent', 510), ('annoying', 511), ('seriously', 512), ('gore', 513), ('started', 514), ('cut', 515), ('age', 516), ('major', 517), ('career', 518), ('call', 519), ('today', 520), ('please', 521), ('female', 522), ('brother', 523), ('somewhat', 524), ('taking', 525), ('ends', 526), ('usual', 527), ('ridiculous', 528), ('knew', 529), ('hero', 530), ('beyond', 531), ('mostly', 532), ('important', 533), ('change', 534), ('view', 535), ('knows', 536), ('documentary', 537), ('body', 538), ('turned', 539), ('finds', 540), ('power', 541), ('opinion', 542), ('words', 543), ('silly', 544), ('word', 545), ('strange', 546), ('due', 547), ('novel', 548), ('husband', 549), ('scary', 550), ('anyway', 551), ('apparently', 552), ('local', 553), ('upon', 554), ('talking', 555), ('attention', 556), ('happy', 557), ('directors', 558), ('clearly', 559), ('cheap', 560), ('episodes', 561), ('musical', 562), ('arent', 563), ('country', 564), ('four', 565), ('room', 566), ('basically', 567), ('single', 568), ('level', 569), ('problems', 570), ('disappointed', 571), ('television', 572), ('british', 573), ('tells', 574), ('sequence', 575), ('events', 576), ('miss', 577), ('jack', 578), ('modern', 579), ('talk', 580), ('light', 581), ('songs', 582), ('whats', 583), ('french', 584), ('whether', 585), ('appears', 586), ('sets', 587), ('predictable', 588), ('bring', 589), ('easily', 590), ('giving', 591), ('havent', 592), ('review', 593), ('rating', 594), ('supporting', 595), ('add', 596), ('dialog', 597), ('mention', 598), ('falls', 599), ('lots', 600), ('similar', 601), ('soundtrack', 602), ('needs', 603), ('viewers', 604), ('romantic', 605), ('bunch', 606), ('team', 607), ('ten', 608), ('enjoyable', 609), ('hate', 610), ('future', 611), ('showing', 612), ('george', 613), ('within', 614), ('tried', 615), ('message', 616), ('five', 617), ('entertainment', 618), ('certain', 619), ('surprised', 620), ('moving', 621), ('clear', 622), ('earth', 623), ('parents', 624), ('comic', 625), ('space', 626), ('middle', 627), ('storyline', 628), ('among', 629), ('filmed', 630), ('dull', 631), ('named', 632), ('fall', 633), ('theme', 634), ('sequel', 635), ('easy', 636), ('theater', 637), ('ways', 638), ('feels', 639), ('kept', 640), ('king', 641), ('release', 642), ('typical', 643), ('near', 644), ('stay', 645), ('using', 646), ('thriller', 647), ('greatest', 648), ('buy', 649), ('comments', 650), ('gone', 651), ('doubt', 652), ('working', 653), ('effort', 654), ('nearly', 655), ('sorry', 656), ('writer', 657), ('elements', 658), ('actual', 659), ('deal', 660), ('means', 661), ('monster', 662), ('tale', 663), ('subject', 664), ('suspense', 665), ('brought', 666), ('fantastic', 667), ('80s', 668), ('editing', 669), ('famous', 670), ('straight', 671), ('die', 672), ('boys', 673), ('realistic', 674), ('lady', 675), ('rock', 676), ('points', 677), ('dr', 678), ('general', 679), ('leads', 680), ('youve', 681), ('sister', 682), ('feature', 683), ('imagine', 684), ('peter', 685), ('viewing', 686), ('move', 687), ('class', 688), ('form', 689), ('begins', 690), ('richard', 691), ('mystery', 692), ('reviews', 693), ('somehow', 694), ('hear', 695), ('material', 696), ('check', 697), ('forget', 698), ('dog', 699), ('learn', 700), ('figure', 701), ('whos', 702), ('rent', 703), ('sit', 704), ('particular', 705), ('weak', 706), ('animation', 707), ('period', 708), ('premise', 709), ('surprise', 710), ('believable', 711), ('killing', 712), ('sequences', 713), ('expected', 714), ('decided', 715), ('eventually', 716), ('atmosphere', 717), ('crime', 718), ('avoid', 719), ('paul', 720), ('difficult', 721), ('wait', 722), ('york', 723), ('deep', 724), ('fast', 725), ('red', 726), ('okay', 727), ('leaves', 728), ('became', 729), ('truth', 730), ('tom', 731), ('possibly', 732), ('emotional', 733), ('indeed', 734), ('average', 735), ('poorly', 736), ('situation', 737), ('eye', 738), ('follow', 739), ('lame', 740), ('dance', 741), ('forced', 742), ('stand', 743), ('meet', 744), ('needed', 745), ('footage', 746), ('shame', 747), ('begin', 748), ('whatever', 749), ('crew', 750), ('memorable', 751), ('scifi', 752), ('minute', 753), ('open', 754), ('oscar', 755), ('sexual', 756), ('reading', 757), ('meets', 758), ('features', 759), ('write', 760), ('season', 761), ('writers', 762), ('previous', 763), ('question', 764), ('doctor', 765), ('filmmakers', 766), ('interested', 767), ('credits', 768), ('beauty', 769), ('romance', 770), ('cheesy', 771), ('gay', 772), ('personal', 773), ('imdb', 774), ('keeps', 775), ('hot', 776), ('third', 777), ('unless', 778), ('superb', 779), ('nature', 780), ('total', 781), ('inside', 782), ('western', 783), ('otherwise', 784), ('hands', 785), ('society', 786), ('towards', 787), ('male', 788), ('incredibly', 789), ('perfectly', 790), ('screenplay', 791), ('note', 792), ('box', 793), ('comment', 794), ('sounds', 795), ('weird', 796), ('de', 797), ('result', 798), ('quickly', 799), ('realize', 800), ('effect', 801), ('street', 802), ('japanese', 803), ('island', 804), ('battle', 805), ('laughs', 806), ('masterpiece', 807), ('plus', 808), ('worked', 809), ('badly', 810), ('unique', 811), ('copy', 812), ('earlier', 813), ('older', 814), ('various', 815), ('crazy', 816), ('brings', 817), ('america', 818), ('air', 819), ('stage', 820), ('plenty', 821), ('background', 822), ('appear', 823), ('setting', 824), ('free', 825), ('admit', 826), ('ask', 827), ('fairly', 828), ('b', 829), ('powerful', 830), ('lee', 831), ('spent', 832), ('portrayed', 833), ('front', 834), ('leading', 835), ('business', 836), ('following', 837), ('creepy', 838), ('directing', 839), ('dramatic', 840), ('forward', 841), ('mark', 842), ('acted', 843), ('baby', 844), ('joe', 845), ('mess', 846), ('remake', 847), ('rich', 848), ('development', 849), ('pay', 850), ('dumb', 851), ('outside', 852), ('meant', 853), ('attempts', 854), ('deserves', 855), ('manages', 856), ('political', 857), ('fire', 858), ('fails', 859), ('expecting', 860), ('water', 861), ('wasted', 862), ('bill', 863), ('joke', 864), ('70s', 865), ('create', 866), ('ideas', 867), ('la', 868), ('caught', 869), ('agree', 870), ('hardly', 871), ('cover', 872), ('reasons', 873), ('return', 874), ('missing', 875), ('fighting', 876), ('cop', 877), ('success', 878), ('recently', 879), ('present', 880), ('apart', 881), ('twist', 882), ('party', 883), ('large', 884), ('secret', 885), ('girlfriend', 886), ('plain', 887), ('brothers', 888), ('william', 889), ('members', 890), ('clever', 891), ('ended', 892), ('talented', 893), ('cute', 894), ('dream', 895), ('telling', 896), ('laughing', 897), ('pure', 898), ('escape', 899), ('german', 900), ('zombie', 901), ('waiting', 902), ('odd', 903), ('potential', 904), ('break', 905), ('created', 906), ('disney', 907), ('gun', 908), ('missed', 909), ('pace', 910), ('visual', 911), ('casting', 912), ('hold', 913), ('married', 914), ('sees', 915), ('unlike', 916), ('cause', 917), ('slightly', 918), ('incredible', 919), ('villain', 920), ('match', 921), ('italian', 922), ('van', 923), ('public', 924), ('nudity', 925), ('decides', 926), ('uses', 927), ('familiar', 928), ('considering', 929), ('died', 930), ('cartoon', 931), ('state', 932), ('speak', 933), ('mentioned', 934), ('entirely', 935), ('popular', 936), ('list', 937), ('wrote', 938), ('fantasy', 939), ('era', 940), ('appreciate', 941), ('credit', 942), ('amount', 943), ('train', 944), ('produced', 945), ('bored', 946), ('fit', 947), ('company', 948), ('neither', 949), ('compared', 950), ('suddenly', 951), ('convincing', 952), ('biggest', 953), ('follows', 954), ('younger', 955), ('rate', 956), ('office', 957), ('portrayal', 958), ('moves', 959), ('former', 960), ('tension', 961), ('common', 962), ('producers', 963), ('flat', 964), ('sadly', 965), ('intelligent', 966), ('store', 967), ('audiences', 968), ('dancing', 969), ('value', 970), ('images', 971), ('trouble', 972), ('sweet', 973), ('science', 974), ('violent', 975), ('language', 976), ('social', 977), ('choice', 978), ('college', 979), ('filled', 980), ('spend', 981), ('successful', 982), ('cold', 983), ('kills', 984), ('force', 985), ('decide', 986), ('fear', 987), ('recent', 988), ('concept', 989), ('mad', 990), ('bizarre', 991), ('hair', 992), ('century', 993), ('longer', 994), ('focus', 995), ('basic', 996), ('situations', 997), ('alive', 998), ('likes', 999), ('christmas', 1000), ('positive', 1001), ('band', 1002), ('project', 1003), ('werent', 1004), ('amusing', 1005), ('scott', 1006), ('consider', 1007), ('exciting', 1008), ('sick', 1009), ('depth', 1010), ('involving', 1011), ('pointless', 1012), ('barely', 1013), ('showed', 1014), ('questions', 1015), ('solid', 1016), ('spirit', 1017), ('control', 1018), ('books', 1019), ('fake', 1020), ('singing', 1021), ('pathetic', 1022), ('soldiers', 1023), ('impossible', 1024), ('effective', 1025), ('honest', 1026), ('jane', 1027), ('leaving', 1028), ('ultimately', 1029), ('awesome', 1030), ('changed', 1031), ('values', 1032), ('impressive', 1033), ('humour', 1034), ('recommended', 1035), ('respect', 1036), ('master', 1037), ('yeah', 1038), ('alien', 1039), ('bought', 1040), ('walk', 1041), ('chemistry', 1042), ('considered', 1043), ('studio', 1044), ('literally', 1045), ('meaning', 1046), ('revenge', 1047), ('immediately', 1048), ('failed', 1049), ('somewhere', 1050), ('accent', 1051), ('channel', 1052), ('brain', 1053), ('shooting', 1054), ('adult', 1055), ('sitting', 1056), ('gang', 1057), ('pick', 1058), ('garbage', 1059), ('trash', 1060), ('runs', 1061), ('thinks', 1062), ('charles', 1063), ('ability', 1064), ('glad', 1065), ('surprisingly', 1066), ('culture', 1067), ('fair', 1068), ('genius', 1069), ('prison', 1070), ('south', 1071), ('ben', 1072), ('touch', 1073), ('explain', 1074), ('normal', 1075), ('road', 1076), ('aside', 1077), ('added', 1078), ('camp', 1079), ('win', 1080), ('journey', 1081), ('disturbing', 1082), ('mood', 1083), ('trip', 1084), ('starring', 1085), ('twists', 1086), ('vampire', 1087), ('army', 1088), ('bother', 1089), ('west', 1090), ('fiction', 1091), ('likely', 1092), ('cat', 1093), ('issues', 1094), ('tone', 1095), ('drug', 1096), ('honestly', 1097), ('sexy', 1098), ('stick', 1099), ('adventure', 1100), ('blue', 1101), ('thanks', 1102), ('remains', 1103), ('tough', 1104), ('cinematic', 1105), ('silent', 1106), ('purpose', 1107), ('nobody', 1108), ('park', 1109), ('taste', 1110), ('bed', 1111), ('aspect', 1112), ('terms', 1113), ('subtle', 1114), ('animated', 1115), ('nowhere', 1116), ('utterly', 1117), ('beautifully', 1118), ('generally', 1119), ('chase', 1120), ('shoot', 1121), ('week', 1122), ('complex', 1123), ('available', 1124), ('jim', 1125), ('loves', 1126), ('personally', 1127), ('cult', 1128), ('managed', 1129), ('appearance', 1130), ('pictures', 1131), ('sam', 1132), ('naked', 1133), ('standard', 1134), ('historical', 1135), ('frank', 1136), ('lovely', 1137), ('conclusion', 1138), ('slasher', 1139), ('charming', 1140), ('natural', 1141), ('presence', 1142), ('photography', 1143), ('thrown', 1144), ('constantly', 1145), ('plan', 1146), ('changes', 1147), ('catch', 1148), ('adaptation', 1149), ('terrific', 1150), ('innocent', 1151), ('military', 1152), ('planet', 1153), ('giant', 1154), ('suppose', 1155), ('comedies', 1156), ('knowing', 1157), ('computer', 1158), ('walking', 1159), ('appeal', 1160), ('emotions', 1161), ('rare', 1162), ('government', 1163), ('scenery', 1164), ('indian', 1165), ('names', 1166), ('edge', 1167), ('smart', 1168), ('ride', 1169), ('magic', 1170), ('london', 1171), ('mary', 1172), ('slowly', 1173), ('stands', 1174), ('pass', 1175), ('door', 1176), ('details', 1177), ('narrative', 1178), ('pieces', 1179), ('places', 1180), ('puts', 1181), ('contains', 1182), ('soul', 1183), ('spoilers', 1184), ('painful', 1185), ('zombies', 1186), ('excuse', 1187), ('self', 1188), ('steve', 1189), ('disappointing', 1190), ('touching', 1191), ('attack', 1192), ('wild', 1193), ('jones', 1194), ('impression', 1195), ('track', 1196), ('date', 1197), ('ghost', 1198), ('costumes', 1199), ('minor', 1200), ('intended', 1201), ('dad', 1202), ('presented', 1203), ('critics', 1204), ('laughable', 1205), ('brief', 1206), ('makers', 1207), ('land', 1208), ('hoping', 1209), ('chris', 1210), ('feelings', 1211), ('everybody', 1212), ('equally', 1213), ('makeup', 1214), ('central', 1215), ('thus', 1216), ('hey', 1217), ('mysterious', 1218), ('acts', 1219), ('themes', 1220), ('filming', 1221), ('throw', 1222), ('building', 1223), ('unbelievable', 1224), ('surely', 1225), ('sent', 1226), ('festival', 1227), ('law', 1228), ('paris', 1229), ('detective', 1230), ('bond', 1231), ('youd', 1232), ('outstanding', 1233), ('mainly', 1234), ('opera', 1235), ('fully', 1236), ('aspects', 1237), ('stunning', 1238), ('tired', 1239), ('students', 1240), ('ray', 1241), ('finish', 1242), ('harry', 1243), ('climax', 1244), ('club', 1245), ('boyfriend', 1246), ('laughed', 1247), ('thank', 1248), ('race', 1249), ('ed', 1250), ('image', 1251), ('notice', 1252), ('opportunity', 1253), ('victim', 1254), ('expectations', 1255), ('emotion', 1256), ('hurt', 1257), ('loud', 1258), ('manner', 1259), ('finding', 1260), ('woods', 1261), ('support', 1262), ('mistake', 1263), ('fascinating', 1264), ('hospital', 1265), ('suggest', 1266), ('include', 1267), ('award', 1268), ('charm', 1269), ('victims', 1270), ('bruce', 1271), ('producer', 1272), ('confusing', 1273), ('random', 1274), ('charlie', 1275), ('faces', 1276), ('confused', 1277), ('pain', 1278), ('forever', 1279), ('cops', 1280), ('green', 1281), ('offer', 1282), ('fresh', 1283), ('cry', 1284), ('ship', 1285), ('mans', 1286), ('tony', 1287), ('student', 1288), ('disappointment', 1289), ('fell', 1290), ('justice', 1291), ('dreams', 1292), ('besides', 1293), ('lived', 1294), ('news', 1295), ('pull', 1296), ('motion', 1297), ('answer', 1298), ('million', 1299), ('holes', 1300), ('lacks', 1301), ('falling', 1302), ('boss', 1303), ('flicks', 1304), ('color', 1305), ('christopher', 1306), ('twice', 1307), ('content', 1308), ('seemingly', 1309), ('bottom', 1310), ('marriage', 1311), ('adds', 1312), ('relationships', 1313), ('happening', 1314), ('heavy', 1315), ('location', 1316), ('smith', 1317), ('exception', 1318), ('difference', 1319), ('supposedly', 1320), ('developed', 1321), ('compelling', 1322), ('helps', 1323), ('drugs', 1324), ('lighting', 1325), ('wow', 1326), ('appeared', 1327), ('likable', 1328), ('ahead', 1329), ('funniest', 1330), ('share', 1331), ('creative', 1332), ('summer', 1333), ('moral', 1334), ('impressed', 1335), ('delivers', 1336), ('folks', 1337), ('extreme', 1338), ('agent', 1339), ('affair', 1340), ('martin', 1341), ('paid', 1342), ('dies', 1343), ('born', 1344), ('approach', 1345), ('hasnt', 1346), ('rated', 1347), ('gem', 1348), ('wondering', 1349), ('batman', 1350), ('radio', 1351), ('shock', 1352), ('information', 1353), ('russian', 1354), ('putting', 1355), ('drive', 1356), ('intense', 1357), ('billy', 1358), ('rented', 1359), ('merely', 1360), ('vs', 1361), ('element', 1362), ('trailer', 1363), ('offers', 1364), ('led', 1365), ('gorgeous', 1366), ('followed', 1367), ('allowed', 1368), ('bar', 1369), ('plane', 1370), ('teen', 1371), ('collection', 1372), ('reminded', 1373), ('provides', 1374), ('detail', 1375), ('ii', 1376), ('shouldnt', 1377), ('six', 1378), ('key', 1379), ('industry', 1380), ('becoming', 1381), ('therefore', 1382), ('speaking', 1383), ('beat', 1384), ('onto', 1385), ('absolute', 1386), ('ugly', 1387), ('stuck', 1388), ('mediocre', 1389), ('negative', 1390), ('adults', 1391), ('animals', 1392), ('mix', 1393), ('drawn', 1394), ('americans', 1395), ('impact', 1396), ('attractive', 1397), ('flaws', 1398), ('serial', 1399), ('system', 1400), ('machine', 1401), ('shocking', 1402), ('games', 1403), ('lover', 1404), ('forgotten', 1405), ('ready', 1406), ('picked', 1407), ('christian', 1408), ('area', 1409), ('captain', 1410), ('hotel', 1411), ('mom', 1412), ('ground', 1413), ('suicide', 1414), ('porn', 1415), ('lies', 1416), ('event', 1417), ('compare', 1418), ('damn', 1419), ('worthy', 1420), ('super', 1421), ('ms', 1422), ('turning', 1423), ('filmmaking', 1424), ('imagination', 1425), ('grace', 1426), ('teenage', 1427), ('dirty', 1428), ('count', 1429), ('fellow', 1430), ('angry', 1431), ('thoroughly', 1432), ('church', 1433), ('returns', 1434), ('nasty', 1435), ('standards', 1436), ('soldier', 1437), ('proves', 1438), ('helped', 1439), ('spot', 1440), ('states', 1441), ('tragic', 1442), ('cliché', 1443), ('phone', 1444), ('artistic', 1445), ('addition', 1446), ('murders', 1447), ('moved', 1448), ('personality', 1449), ('wooden', 1450), ('deliver', 1451), ('quick', 1452), ('lose', 1453), ('station', 1454), ('seconds', 1455), ('cgi', 1456), ('epic', 1457), ('creature', 1458), ('stewart', 1459), ('anymore', 1460), ('search', 1461), ('direct', 1462), ('wearing', 1463), ('actresses', 1464), ('latter', 1465), ('carry', 1466), ('childhood', 1467), ('flying', 1468), ('tragedy', 1469), ('disaster', 1470), ('member', 1471), ('inspired', 1472), ('passion', 1473), ('asked', 1474), ('actions', 1475), ('grade', 1476), ('torture', 1477), ('continue', 1478), ('listen', 1479), ('willing', 1480), ('afraid', 1481), ('provide', 1482), ('kevin', 1483), ('commentary', 1484), ('fashion', 1485), ('scientist', 1486), ('wanting', 1487), ('process', 1488), ('spoiler', 1489), ('describe', 1490), ('held', 1491), ('favourite', 1492), ('dying', 1493), ('began', 1494), ('theatre', 1495), ('bits', 1496), ('realized', 1497), ('professional', 1498), ('extra', 1499), ('teacher', 1500), ('physical', 1501), ('whatsoever', 1502), ('struggle', 1503), ('accident', 1504), ('redeeming', 1505), ('rarely', 1506), ('apartment', 1507), ('introduced', 1508), ('queen', 1509), ('todays', 1510), ('accept', 1511), ('monsters', 1512), ('independent', 1513), ('sea', 1514), ('kelly', 1515), ('wars', 1516), ('jason', 1517), ('hidden', 1518), ('asks', 1519), ('clichés', 1520), ('allow', 1521), ('henry', 1522), ('judge', 1523), ('filmmaker', 1524), ('bloody', 1525), ('pop', 1526), ('food', 1527), ('energy', 1528), ('williams', 1529), ('holds', 1530), ('arts', 1531), ('calls', 1532), ('pleasure', 1533), ('noir', 1534), ('intriguing', 1535), ('step', 1536), ('intelligence', 1537), ('numbers', 1538), ('suspect', 1539), ('clothes', 1540), ('seven', 1541), ('wall', 1542), ('thomas', 1543), ('comedic', 1544), ('dangerous', 1545), ('zero', 1546), ('design', 1547), ('sucks', 1548), ('chinese', 1549), ('deeply', 1550), ('tim', 1551), ('tears', 1552), ('reminds', 1553), ('deserve', 1554), ('necessary', 1555), ('surprising', 1556), ('sight', 1557), ('jerry', 1558), ('60s', 1559), ('superior', 1560), ('includes', 1561), ('religious', 1562), ('fat', 1563), ('memory', 1564), ('martial', 1565), ('blame', 1566), ('sat', 1567), ('wonderfully', 1568), ('sleep', 1569), ('animal', 1570), ('double', 1571), ('watchable', 1572), ('accurate', 1573), ('rape', 1574), ('anywhere', 1575), ('explanation', 1576), ('heroes', 1577), ('ryan', 1578), ('hated', 1579), ('ie', 1580), ('mouth', 1581), ('understanding', 1582), ('apparent', 1583), ('limited', 1584), ('thin', 1585), ('unknown', 1586), ('horse', 1587), ('anybody', 1588), ('trust', 1589), ('brutal', 1590), ('fox', 1591), ('plots', 1592), ('unusual', 1593), ('gold', 1594), ('danny', 1595), ('remarkable', 1596), ('friendship', 1597), ('wood', 1598), ('pacing', 1599), ('desert', 1600), ('lord', 1601), ('jr', 1602), ('captured', 1603), ('criminal', 1604), ('joy', 1605), ('ring', 1606), ('opposite', 1607), ('heads', 1608), ('gags', 1609), ('moon', 1610), ('driving', 1611), ('nicely', 1612), ('met', 1613), ('grand', 1614), ('build', 1615), ('desperate', 1616), ('scared', 1617), ('loose', 1618), ('discover', 1619), ('academy', 1620), ('mental', 1621), ('johnny', 1622), ('noticed', 1623), ('stephen', 1624), ('months', 1625), ('learned', 1626), ('vhs', 1627), ('mine', 1628), ('mike', 1629), ('lovers', 1630), ('villains', 1631), ('memories', 1632), ('locations', 1633), ('whilst', 1634), ('leader', 1635), ('boat', 1636), ('stock', 1637), ('engaging', 1638), ('treat', 1639), ('golden', 1640), ('creating', 1641), ('responsible', 1642), ('powers', 1643), ('officer', 1644), ('references', 1645), ('knowledge', 1646), ('brian', 1647), ('uncle', 1648), ('constant', 1649), ('humans', 1650), ('vision', 1651), ('jean', 1652), ('players', 1653), ('keeping', 1654), ('issue', 1655), ('treated', 1656), ('community', 1657), ('somebody', 1658), ('alan', 1659), ('board', 1660), ('cars', 1661), ('ordinary', 1662), ('starting', 1663), ('jackson', 1664), ('national', 1665), ('hadnt', 1666), ('technical', 1667), ('warning', 1668), ('arthur', 1669), ('unnecessary', 1670), ('manage', 1671), ('lowbudget', 1672), ('artist', 1673), ('al', 1674), ('hits', 1675), ('current', 1676), ('wind', 1677), ('sisters', 1678), ('prove', 1679), ('growing', 1680), ('lacking', 1681), ('finished', 1682), ('page', 1683), ('conflict', 1684), ('connection', 1685), ('mrs', 1686), ('fights', 1687), ('eddie', 1688), ('magnificent', 1689), ('price', 1690), ('smile', 1691), ('gotten', 1692), ('absurd', 1693), ('numerous', 1694), ('loving', 1695), ('occasionally', 1696), ('normally', 1697), ('player', 1698), ('record', 1699), ('explained', 1700), ('bigger', 1701), ('humanity', 1702), ('capture', 1703), ('crappy', 1704), ('mission', 1705), ('witty', 1706), ('killers', 1707), ('bright', 1708), ('floor', 1709), ('hopes', 1710), ('ford', 1711), ('genuine', 1712), ('according', 1713), ('field', 1714), ('murdered', 1715), ('deserved', 1716), ('saving', 1717), ('faith', 1718), ('private', 1719), ('forces', 1720), ('bob', 1721), ('finest', 1722), ('hitchcock', 1723), ('deals', 1724), ('legend', 1725), ('fail', 1726), ('window', 1727), ('originally', 1728), ('loss', 1729), ('brown', 1730), ('length', 1731), ('skip', 1732), ('generation', 1733), ('behavior', 1734), ('desire', 1735), ('anne', 1736), ('realism', 1737), ('included', 1738), ('efforts', 1739), ('dressed', 1740), ('robin', 1741), ('instance', 1742), ('kinda', 1743), ('morning', 1744), ('sean', 1745), ('broken', 1746), ('shop', 1747), ('bland', 1748), ('dealing', 1749), ('eat', 1750), ('pilot', 1751), ('terribly', 1752), ('mixed', 1753), ('pulled', 1754), ('foreign', 1755), ('tape', 1756), ('singer', 1757), ('cuts', 1758), ('guns', 1759), ('humorous', 1760), ('aware', 1761), ('exist', 1762), ('whenever', 1763), ('howard', 1764), ('media', 1765), ('witch', 1766), ('toward', 1767), ('stone', 1768), ('comparison', 1769), ('c', 1770), ('naturally', 1771), ('relate', 1772), ('regular', 1773), ('advice', 1774), ('survive', 1775), ('jump', 1776), ('soap', 1777), ('quiet', 1778), ('teenagers', 1779), ('psychological', 1780), ('sheer', 1781), ('european', 1782), ('weve', 1783), ('featuring', 1784), ('unfunny', 1785), ('roll', 1786), ('buddy', 1787), ('pair', 1788), ('empty', 1789), ('essentially', 1790), ('discovered', 1791), ('reviewers', 1792), ('davis', 1793), ('jennifer', 1794), ('rubbish', 1795), ('streets', 1796), ('revealed', 1797), ('nonsense', 1798), ('international', 1799), ('genuinely', 1800), ('saved', 1801), ('cable', 1802), ('priest', 1803), ('texas', 1804), ('insane', 1805), ('cross', 1806), ('blind', 1807), ('favor', 1808), ('stereotypes', 1809), ('river', 1810), ('partner', 1811), ('higher', 1812), ('england', 1813), ('received', 1814), ('winning', 1815), ('feet', 1816), ('spanish', 1817), ('village', 1818), ('castle', 1819), ('miles', 1820), ('peoples', 1821), ('max', 1822), ('joan', 1823), ('frankly', 1824), ('suit', 1825), ('portray', 1826), ('underrated', 1827), ('heroine', 1828), ('moore', 1829), ('sign', 1830), ('study', 1831), ('utter', 1832), ('talents', 1833), ('unable', 1834), ('vampires', 1835), ('breaks', 1836), ('concerned', 1837), ('program', 1838), ('range', 1839), ('scream', 1840), ('president', 1841), ('skills', 1842), ('opens', 1843), ('steal', 1844), ('jeff', 1845), ('drunk', 1846), ('twenty', 1847), ('screaming', 1848), ('aliens', 1849), ('gary', 1850), ('reach', 1851), ('visit', 1852), ('ultimate', 1853), ('worlds', 1854), ('sing', 1855), ('dated', 1856), ('anthony', 1857), ('remembered', 1858), ('youth', 1859), ('continues', 1860), ('described', 1861), ('lucky', 1862), ('awkward', 1863), ('attitude', 1864), ('nightmare', 1865), ('results', 1866), ('context', 1867), ('reaction', 1868), ('owner', 1869), ('fate', 1870), ('debut', 1871), ('flashbacks', 1872), ('fame', 1873), ('vote', 1874), ('grow', 1875), ('evidence', 1876), ('dreadful', 1877), ('visuals', 1878), ('strength', 1879), ('1950s', 1880), ('classics', 1881), ('ran', 1882), ('creatures', 1883), ('lesson', 1884), ('taylor', 1885), ('spectacular', 1886), ('travel', 1887), ('protagonist', 1888), ('post', 1889), ('irritating', 1890), ('sucked', 1891), ('wedding', 1892), ('ball', 1893), ('crowd', 1894), ('nick', 1895), ('unexpected', 1896), ('australian', 1897), ('allen', 1898), ('football', 1899), ('discovers', 1900), ('satire', 1901), ('edited', 1902), ('finale', 1903), ('heres', 1904), ('pretentious', 1905), ('unrealistic', 1906), ('shallow', 1907), ('corny', 1908), ('parody', 1909), ('gonna', 1910), ('cameo', 1911), ('failure', 1912), ('provided', 1913), ('adam', 1914), ('hunter', 1915), ('theyve', 1916), ('ladies', 1917), ('native', 1918), ('involves', 1919), ('sell', 1920), ('dogs', 1921), ('frame', 1922), ('grew', 1923), ('fault', 1924), ('commercial', 1925), ('identity', 1926), ('gory', 1927), ('site', 1928), ('curious', 1929), ('choose', 1930), ('levels', 1931), ('kick', 1932), ('heaven', 1933), ('wide', 1934), ('france', 1935), ('decision', 1936), ('tiny', 1937), ('logic', 1938), ('heck', 1939), ('freedom', 1940), ('fly', 1941), ('meeting', 1942), ('graphic', 1943), ('decade', 1944), ('contrived', 1945), ('delivered', 1946), ('lewis', 1947), ('cost', 1948), ('asking', 1949), ('endless', 1950), ('bringing', 1951), ('bomb', 1952), ('jimmy', 1953), ('delightful', 1954), ('allows', 1955), ('ice', 1956), ('luck', 1957), ('rescue', 1958), ('existence', 1959), ('assume', 1960), ('andy', 1961), ('steven', 1962), ('fill', 1963), ('combination', 1964), ('eating', 1965), ('douglas', 1966), ('loses', 1967), ('remain', 1968), ('proved', 1969), ('perspective', 1970), ('bank', 1971), ('aka', 1972), ('capable', 1973), ('types', 1974), ('creates', 1975), ('gangster', 1976), ('standing', 1977), ('talks', 1978), ('destroy', 1979), ('drag', 1980), ('ages', 1981), ('emotionally', 1982), ('recall', 1983), ('bodies', 1984), ('traditional', 1985), ('sake', 1986), ('beach', 1987), ('relief', 1988), ('teenager', 1989), ('trek', 1990), ('eric', 1991), ('brilliantly', 1992), ('majority', 1993), ('believes', 1994), ('formula', 1995), ('rules', 1996), ('contrast', 1997), ('theaters', 1998), ('families', 1999), ('disgusting', 2000), ('asian', 2001), ('visually', 2002), ('north', 2003), ('barbara', 2004), ('julie', 2005), ('overly', 2006), ('speech', 2007), ('individual', 2008), ('90s', 2009), ('portrays', 2010), ('sympathetic', 2011), ('europe', 2012), ('product', 2013), ('steals', 2014), ('reviewer', 2015), ('enemy', 2016), ('chick', 2017), ('promise', 2018), ('round', 2019), ('fathers', 2020), ('develop', 2021), ('ancient', 2022), ('seat', 2023), ('clean', 2024), ('horribly', 2025), ('cares', 2026), ('fred', 2027), ('wise', 2028), ('strongly', 2029), ('center', 2030), ('built', 2031), ('test', 2032), ('proper', 2033), ('author', 2034), ('viewed', 2035), ('halloween', 2036), ('jesus', 2037), ('treatment', 2038), ('united', 2039), ('shakespeare', 2040), ('cash', 2041), ('executed', 2042), ('crash', 2043), ('laughter', 2044), ('handsome', 2045), ('walked', 2046), ('sheriff', 2047), ('sudden', 2048), ('surreal', 2049), ('caused', 2050), ('research', 2051), ('dollars', 2052), ('walks', 2053), ('facts', 2054), ('meanwhile', 2055), ('correct', 2056), ('blonde', 2057), ('weeks', 2058), ('rise', 2059), ('dick', 2060), ('voices', 2061), ('sequels', 2062), ('candy', 2063), ('thoughts', 2064), ('dan', 2065), ('shocked', 2066), ('terror', 2067), ('kong', 2068), ('model', 2069), ('awards', 2070), ('theatrical', 2071), ('gene', 2072), ('embarrassing', 2073), ('portraying', 2074), ('clue', 2075), ('losing', 2076), ('alex', 2077), ('gratuitous', 2078), ('excited', 2079), ('tedious', 2080), ('matt', 2081), ('contemporary', 2082), ('1970s', 2083), ('sky', 2084), ('japan', 2085), ('hopefully', 2086), ('studios', 2087), ('insult', 2088), ('dubbed', 2089), ('uk', 2090), ('matters', 2091), ('hall', 2092), ('50s', 2093), ('produce', 2094), ('slapstick', 2095), ('rob', 2096), ('lousy', 2097), ('source', 2098), ('speed', 2099), ('r', 2100), ('network', 2101), ('soft', 2102), ('subtitles', 2103), ('largely', 2104), ('ann', 2105), ('passed', 2106), ('surface', 2107), ('core', 2108), ('alice', 2109), ('stopped', 2110), ('pleasant', 2111), ('chosen', 2112), ('hearing', 2113), ('experienced', 2114), ('suffering', 2115), ('twisted', 2116), ('depressing', 2117), ('send', 2118), ('learns', 2119), ('evening', 2120), ('cartoons', 2121), ('wayne', 2122), ('teens', 2123), ('extras', 2124), ('circumstances', 2125), ('darkness', 2126), ('painfully', 2127), ('marry', 2128), ('bet', 2129), ('technology', 2130), ('till', 2131), ('rose', 2132), ('wit', 2133), ('religion', 2134), ('bear', 2135), ('devil', 2136), ('fits', 2137), ('plans', 2138), ('depicted', 2139), ('costs', 2140), ('vehicle', 2141), ('pity', 2142), ('driver', 2143), ('nevertheless', 2144), ('committed', 2145), ('virtually', 2146), ('chief', 2147), ('sharp', 2148), ('larry', 2149), ('spends', 2150), ('mask', 2151), ('ruined', 2152), ('versions', 2153), ('rental', 2154), ('louis', 2155), ('spoil', 2156), ('prince', 2157), ('entertained', 2158), ('harris', 2159), ('flesh', 2160), ('amateurish', 2161), ('propaganda', 2162), ('lesbian', 2163), ('grown', 2164), ('relatively', 2165), ('witness', 2166), ('latest', 2167), ('paper', 2168), ('werewolf', 2169), ('sports', 2170), ('recognize', 2171), ('enter', 2172), ('tend', 2173), ('anna', 2174), ('exploitation', 2175), ('qualities', 2176), ('universal', 2177), ('service', 2178), ('saturday', 2179), ('influence', 2180), ('angles', 2181), ('jackie', 2182), ('factor', 2183), ('practically', 2184), ('holding', 2185), ('hunt', 2186), ('germany', 2187), ('convince', 2188), ('haunting', 2189), ('scare', 2190), ('bmovie', 2191), ('lake', 2192), ('bbc', 2193), ('lynch', 2194), ('halfway', 2195), ('albert', 2196), ('claim', 2197), ('patrick', 2198), ('ass', 2199), ('dennis', 2200), ('blow', 2201), ('angel', 2202), ('nominated', 2203), ('daughters', 2204), ('captures', 2205), ('universe', 2206), ('guilty', 2207), ('variety', 2208), ('segment', 2209), ('performed', 2210), ('skin', 2211), ('suffers', 2212), ('speaks', 2213), ('table', 2214), ('veteran', 2215), ('demons', 2216), ('sympathy', 2217), ('experiences', 2218), ('target', 2219), ('canadian', 2220), ('promising', 2221), ('asleep', 2222), ('professor', 2223), ('psycho', 2224), ('jungle', 2225), ('appropriate', 2226), ('extraordinary', 2227), ('substance', 2228), ('training', 2229), ('accidentally', 2230), ('previously', 2231), ('costume', 2232), ('jewish', 2233), ('conversation', 2234), ('hide', 2235), ('dry', 2236), ('morgan', 2237), ('presents', 2238), ('satisfying', 2239), ('calling', 2240), ('unfortunate', 2241), ('display', 2242), ('obsessed', 2243), ('appealing', 2244), ('truck', 2245), ('childrens', 2246), ('edward', 2247), ('harsh', 2248), ('featured', 2249), ('holmes', 2250), ('hanging', 2251), ('worthwhile', 2252), ('gordon', 2253), ('minds', 2254), ('handled', 2255), ('suspenseful', 2256), ('danger', 2257), ('friday', 2258), ('seasons', 2259), ('excitement', 2260), ('roberts', 2261), ('supernatural', 2262), ('keaton', 2263), ('department', 2264), ('joseph', 2265), ('movement', 2266), ('chose', 2267), ('f', 2268), ('robot', 2269), ('roger', 2270), ('cage', 2271), ('draw', 2272), ('hill', 2273), ('washington', 2274), ('reveal', 2275), ('breaking', 2276), ('idiot', 2277), ('tarzan', 2278), ('amateur', 2279), ('clichéd', 2280), ('deadly', 2281), ('continuity', 2282), ('figured', 2283), ('structure', 2284), ('turkey', 2285), ('haunted', 2286), ('directly', 2287), ('warm', 2288), ('massive', 2289), ('vietnam', 2290), ('encounter', 2291), ('claims', 2292), ('initial', 2293), ('regret', 2294), ('touches', 2295), ('trapped', 2296), ('adventures', 2297), ('routine', 2298), ('irish', 2299), ('prime', 2300), ('drop', 2301), ('cruel', 2302), ('abuse', 2303), ('offensive', 2304), ('broadway', 2305), ('bothered', 2306), ('serves', 2307), ('patient', 2308), ('andor', 2309), ('safe', 2310), ('accents', 2311), ('believed', 2312), ('winner', 2313), ('cutting', 2314), ('stereotypical', 2315), ('exact', 2316), ('closer', 2317), ('forgot', 2318), ('crying', 2319), ('mountain', 2320), ('degree', 2321), ('foot', 2322), ('statement', 2323), ('donald', 2324), ('destroyed', 2325), ('realizes', 2326), ('weekend', 2327), ('overthetop', 2328), ('refreshing', 2329), ('1980s', 2330), ('lights', 2331), ('mainstream', 2332), ('lower', 2333), ('prepared', 2334), ('aint', 2335), ('peace', 2336), ('prior', 2337), ('pulls', 2338), ('naive', 2339), ('lane', 2340), ('deaths', 2341), ('covered', 2342), ('abandoned', 2343), ('favorites', 2344), ('westerns', 2345), ('sir', 2346), ('surprises', 2347), ('storytelling', 2348), ('unlikely', 2349), ('politics', 2350), ('amazingly', 2351), ('express', 2352), ('trilogy', 2353), ('section', 2354), ('kate', 2355), ('required', 2356), ('insight', 2357), ('colors', 2358), ('praise', 2359), ('kiss', 2360), ('scale', 2361), ('dude', 2362), ('interview', 2363), ('forth', 2364), ('elizabeth', 2365), ('remotely', 2366), ('seagal', 2367), ('market', 2368), ('stolen', 2369), ('anime', 2370), ('legendary', 2371), ('reporter', 2372), ('proud', 2373), ('interviews', 2374), ('melodrama', 2375), ('african', 2376), ('category', 2377), ('rule', 2378), ('gritty', 2379), ('prefer', 2380), ('effectively', 2381), ('wear', 2382), ('sorts', 2383), ('roy', 2384), ('africa', 2385), ('nurse', 2386), ('dean', 2387), ('urban', 2388), ('repeated', 2389), ('sons', 2390), ('walter', 2391), ('sides', 2392), ('greater', 2393), ('fish', 2394), ('inner', 2395), ('security', 2396), ('print', 2397), ('account', 2398), ('multiple', 2399), ('frightening', 2400), ('paced', 2401), ('hired', 2402), ('downright', 2403), ('occasional', 2404), ('highlight', 2405), ('execution', 2406), ('flashback', 2407), ('focused', 2408), ('spoof', 2409), ('reputation', 2410), ('explains', 2411), ('renting', 2412), ('everywhere', 2413), ('critical', 2414), ('wouldve', 2415), ('rights', 2416), ('wilson', 2417), ('artists', 2418), ('pile', 2419), ('southern', 2420), ('sounded', 2421), ('china', 2422), ('mexican', 2423), ('forgettable', 2424), ('narration', 2425), ('via', 2426), ('belief', 2427), ('grant', 2428), ('mistakes', 2429), ('hitler', 2430), ('mildly', 2431), ('quirky', 2432), ('magical', 2433), ('eight', 2434), ('rip', 2435), ('anderson', 2436), ('brooks', 2437), ('california', 2438), ('driven', 2439), ('simon', 2440), ('convinced', 2441), ('forest', 2442), ('welcome', 2443), ('deeper', 2444), ('raised', 2445), ('depiction', 2446), ('thankfully', 2447), ('stayed', 2448), ('false', 2449), ('junk', 2450), ('lifetime', 2451), ('parker', 2452), ('arrives', 2453), ('flight', 2454), ('heavily', 2455), ('productions', 2456), ('east', 2457), ('sun', 2458), ('fool', 2459), ('focuses', 2460), ('cell', 2461), ('whoever', 2462), ('weapons', 2463), ('position', 2464), ('paying', 2465), ('underground', 2466), ('necessarily', 2467), ('russell', 2468), ('fare', 2469), ('arms', 2470), ('alright', 2471), ('demon', 2472), ('closing', 2473), ('julia', 2474), ('designed', 2475), ('granted', 2476), ('ruin', 2477), ('johnson', 2478), ('serve', 2479), ('placed', 2480), ('ted', 2481), ('ripoff', 2482), ('figures', 2483), ('stranger', 2484), ('reveals', 2485), ('chaplin', 2486), ('rough', 2487), ('expression', 2488), ('dozen', 2489), ('usa', 2490), ('grave', 2491), ('tight', 2492), ('imagery', 2493), ('regarding', 2494), ('throws', 2495), ('sensitive', 2496), ('spite', 2497), ('superman', 2498), ('summary', 2499), ('listening', 2500), ('offered', 2501), ('miniseries', 2502), ('changing', 2503), ('atrocious', 2504), ('theory', 2505), ('buying', 2506), ('victor', 2507), ('hat', 2508), ('amazed', 2509), ('hed', 2510), ('shorts', 2511), ('curse', 2512), ('carries', 2513), ('throwing', 2514), ('blown', 2515), ('kinds', 2516), ('combined', 2517), ('campy', 2518), ('erotic', 2519), ('blockbuster', 2520), ('u', 2521), ('princess', 2522), ('bus', 2523), ('lonely', 2524), ('status', 2525), ('choices', 2526), ('path', 2527), ('decades', 2528), ('helen', 2529), ('drew', 2530), ('teeth', 2531), ('understood', 2532), ('scenario', 2533), ('jail', 2534), ('device', 2535), ('mature', 2536), ('dress', 2537), ('seek', 2538), ('subplot', 2539), ('task', 2540), ('birth', 2541), ('civil', 2542), ('mickey', 2543), ('couldve', 2544), ('passing', 2545), ('dracula', 2546), ('anger', 2547), ('indie', 2548), ('screening', 2549), ('brave', 2550), ('unconvincing', 2551), ('treasure', 2552), ('mere', 2553), ('lie', 2554), ('rolling', 2555), ('funnier', 2556), ('facial', 2557), ('significant', 2558), ('baseball', 2559), ('environment', 2560), ('st', 2561), ('ignore', 2562), ('skill', 2563), ('daniel', 2564), ('uninteresting', 2565), ('rain', 2566), ('chan', 2567), ('nude', 2568), ('massacre', 2569), ('stays', 2570), ('kim', 2571), ('sitcom', 2572), ('everyday', 2573), ('desperately', 2574), ('originality', 2575), ('goofy', 2576), ('wins', 2577), ('india', 2578), ('initially', 2579), ('served', 2580), ('flow', 2581), ('attempting', 2582), ('fu', 2583), ('join', 2584), ('nuclear', 2585), ('examples', 2586), ('entertain', 2587), ('causes', 2588), ('term', 2589), ('pregnant', 2590), ('struggling', 2591), ('complicated', 2592), ('laura', 2593), ('bugs', 2594), ('murphy', 2595), ('barry', 2596), ('lawyer', 2597), ('inept', 2598), ('base', 2599), ('charge', 2600), ('concert', 2601), ('j', 2602), ('succeeds', 2603), ('suck', 2604), ('timing', 2605), ('dinner', 2606), ('purely', 2607), ('faithful', 2608), ('scares', 2609), ('suffer', 2610), ('beast', 2611), ('gruesome', 2612), ('fbi', 2613), ('contain', 2614), ('jobs', 2615), ('reminiscent', 2616), ('hole', 2617), ('raw', 2618), ('criticism', 2619), ('metal', 2620), ('angle', 2621), ('warned', 2622), ('adding', 2623), ('paint', 2624), ('views', 2625), ('handle', 2626), ('learning', 2627), ('drinking', 2628), ('beloved', 2629), ('racism', 2630), ('carried', 2631), ('bore', 2632), ('rings', 2633), ('helping', 2634), ('murderer', 2635), ('remote', 2636), ('delivery', 2637), ('description', 2638), ('hong', 2639), ('mob', 2640), ('amongst', 2641), ('sleeping', 2642), ('touched', 2643), ('gas', 2644), ('novels', 2645), ('spy', 2646), ('nights', 2647), ('protagonists', 2648), ('drives', 2649), ('sarah', 2650), ('daily', 2651), ('racist', 2652), ('shadow', 2653), ('luke', 2654), ('separate', 2655), ('introduction', 2656), ('guest', 2657), ('code', 2658), ('medical', 2659), ('kane', 2660), ('crude', 2661), ('eg', 2662), ('perform', 2663), ('writerdirector', 2664), ('starred', 2665), ('inspiration', 2666), ('achieve', 2667), ('sunday', 2668), ('answers', 2669), ('cultural', 2670), ('dollar', 2671), ('wolf', 2672), ('host', 2673), ('enjoying', 2674), ('comical', 2675), ('drink', 2676), ('expressions', 2677), ('scientists', 2678), ('vacation', 2679), ('quest', 2680), ('afternoon', 2681), ('welles', 2682), ('blah', 2683), ('mothers', 2684), ('accepted', 2685), ('intellectual', 2686), ('internet', 2687), ('league', 2688), ('wwii', 2689), ('controversial', 2690), ('tree', 2691), ('disbelief', 2692), ('susan', 2693), ('retarded', 2694), ('scripts', 2695), ('related', 2696), ('santa', 2697), ('properly', 2698), ('wears', 2699), ('court', 2700), ('betty', 2701), ('obnoxious', 2702), ('determined', 2703), ('reference', 2704), ('ludicrous', 2705), ('assistant', 2706), ('bollywood', 2707), ('attacks', 2708), ('titles', 2709), ('flawed', 2710), ('contact', 2711), ('hence', 2712), ('oliver', 2713), ('hood', 2714), ('fourth', 2715), ('appreciated', 2716), ('tommy', 2717), ('extent', 2718), ('cowboy', 2719), ('tales', 2720), ('stupidity', 2721), ('arm', 2722), ('format', 2723), ('interpretation', 2724), ('picks', 2725), ('nonexistent', 2726), ('lisa', 2727), ('basis', 2728), ('protect', 2729), ('blair', 2730), ('punch', 2731), ('shut', 2732), ('thousands', 2733), ('criminals', 2734), ('albeit', 2735), ('caring', 2736), ('settings', 2737), ('le', 2738), ('revolves', 2739), ('fictional', 2740), ('carrying', 2741), ('experiment', 2742), ('mentally', 2743), ('ghosts', 2744), ('madness', 2745), ('notable', 2746), ('comedian', 2747), ('fabulous', 2748), ('entry', 2749), ('sum', 2750), ('von', 2751), ('breathtaking', 2752), ('ashamed', 2753), ('letting', 2754), ('mgm', 2755), ('tense', 2756), ('lazy', 2757), ('videos', 2758), ('greatly', 2759), ('strangely', 2760), ('gods', 2761), ('letter', 2762), ('catherine', 2763), ('credible', 2764), ('attacked', 2765), ('mindless', 2766), ('wealthy', 2767), ('ironic', 2768), ('par', 2769), ('los', 2770), ('struggles', 2771), ('breath', 2772), ('replaced', 2773), ('sold', 2774), ('fallen', 2775), ('credibility', 2776), ('sinister', 2777), ('vincent', 2778), ('escapes', 2779), ('woody', 2780), ('nonetheless', 2781), ('sleazy', 2782), ('chilling', 2783), ('convey', 2784), ('ron', 2785), ('san', 2786), ('stealing', 2787), ('balance', 2788), ('whereas', 2789), ('happiness', 2790), ('jon', 2791), ('challenge', 2792), ('gripping', 2793), ('topic', 2794), ('revolution', 2795), ('filmthe', 2796), ('steps', 2797), ('innocence', 2798), ('upset', 2799), ('warner', 2800), ('frequently', 2801), ('itthe', 2802), ('columbo', 2803), ('glass', 2804), ('risk', 2805), ('ratings', 2806), ('countries', 2807), ('tradition', 2808), ('opened', 2809), ('manager', 2810), ('honor', 2811), ('moviethe', 2812), ('michelle', 2813), ('cousin', 2814), ('idiotic', 2815), ('poignant', 2816), ('miller', 2817), ('dare', 2818), ('guard', 2819), ('lessons', 2820), ('socalled', 2821), ('flaw', 2822), ('storm', 2823), ('x', 2824), ('cynical', 2825), ('authentic', 2826), ('lloyd', 2827), ('union', 2828), ('raise', 2829), ('cheese', 2830), ('chuck', 2831), ('disagree', 2832), ('stops', 2833), ('lovable', 2834), ('exists', 2835), ('intensity', 2836), ('embarrassed', 2837), ('weapon', 2838), ('technique', 2839), ('cases', 2840), ('guessing', 2841), ('hundred', 2842), ('screenwriter', 2843), ('regard', 2844), ('graphics', 2845), ('stomach', 2846), ('clips', 2847), ('chair', 2848), ('advantage', 2849), ('horrific', 2850), ('confusion', 2851), ('exceptional', 2852), ('nowadays', 2853), ('hoffman', 2854), ('angels', 2855), ('proof', 2856), ('delight', 2857), ('courage', 2858), ('consists', 2859), ('clark', 2860), ('hang', 2861), ('bag', 2862), ('sword', 2863), ('matrix', 2864), ('hint', 2865), ('dear', 2866), ('suggests', 2867), ('rival', 2868), ('millions', 2869), ('creation', 2870), ('plastic', 2871), ('dislike', 2872), ('mexico', 2873), ('searching', 2874), ('hearts', 2875), ('bound', 2876), ('1930s', 2877), ('friendly', 2878), ('cooper', 2879), ('repeat', 2880), ('greek', 2881), ('slight', 2882), ('dragon', 2883), ('tune', 2884), ('noted', 2885), ('kung', 2886), ('hiding', 2887), ('wasting', 2888), ('sexuality', 2889), ('snow', 2890), ('italy', 2891), ('franchise', 2892), ('seeking', 2893), ('attempted', 2894), ('jumps', 2895), ('obsession', 2896), ('midnight', 2897), ('riding', 2898), ('worry', 2899), ('sinatra', 2900), ('farm', 2901), ('remind', 2902), ('tour', 2903), ('mirror', 2904), ('jay', 2905), ('instantly', 2906), ('regardless', 2907), ('suffered', 2908), ('warn', 2909), ('tribute', 2910), ('soviet', 2911), ('appearances', 2912), ('dave', 2913), ('eastwood', 2914), ('bitter', 2915), ('thousand', 2916), ('walker', 2917), ('guide', 2918), ('jamie', 2919), ('stylish', 2920), ('lying', 2921), ('musicals', 2922), ('karen', 2923), ('stunts', 2924), ('marvelous', 2925), ('sings', 2926), ('hundreds', 2927), ('saves', 2928), ('troubled', 2929), ('silence', 2930), ('surrounding', 2931), ('nazi', 2932), ('1960s', 2933), ('object', 2934), ('presentation', 2935), ('succeed', 2936), ('aired', 2937), ('mst3k', 2938), ('physically', 2939), ('appearing', 2940), ('refuses', 2941), ('technically', 2942), ('trick', 2943), ('spoken', 2944), ('coach', 2945), ('established', 2946), ('legs', 2947), ('maria', 2948), ('text', 2949), ('nazis', 2950), ('trial', 2951), ('closely', 2952), ('thief', 2953), ('ripped', 2954), ('invisible', 2955), ('reynolds', 2956), ('achieved', 2957), ('belongs', 2958), ('australia', 2959), ('brad', 2960), ('chases', 2961), ('teach', 2962), ('holiday', 2963), ('performers', 2964), ('meaningful', 2965), ('expert', 2966), ('n', 2967), ('sends', 2968), ('bridge', 2969), ('specific', 2970), ('burt', 2971), ('shines', 2972), ('dramas', 2973), ('overcome', 2974), ('techniques', 2975), ('tied', 2976), ('row', 2977), ('sutherland', 2978), ('attraction', 2979), ('rush', 2980), ('toy', 2981), ('andrews', 2982), ('non', 2983), ('successfully', 2984), ('germans', 2985), ('sally', 2986), ('adapted', 2987), ('checking', 2988), ('womans', 2989), ('bucks', 2990), ('equal', 2991), ('competent', 2992), ('alas', 2993), ('bobby', 2994), ('leslie', 2995), ('ninja', 2996), ('hooked', 2997), ('silver', 2998), ('condition', 2999), ('broke', 3000), ('suits', 3001), ('gross', 3002), ('lacked', 3003), ('iti', 3004), ('hardy', 3005), ('horses', 3006), ('birthday', 3007), ('exercise', 3008), ('fx', 3009), ('hills', 3010), ('notorious', 3011), ('solve', 3012), ('chasing', 3013), ('gotta', 3014), ('essence', 3015), ('useless', 3016), ('snakes', 3017), ('masters', 3018), ('grim', 3019), ('profound', 3020), ('imaginative', 3021), ('spending', 3022), ('fairy', 3023), ('torn', 3024), ('kidnapped', 3025), ('ha', 3026), ('navy', 3027), ('dawn', 3028), ('cameron', 3029), ('homage', 3030), ('burns', 3031), ('glimpse', 3032), ('flash', 3033), ('nose', 3034), ('crafted', 3035), ('dealt', 3036), ('consequences', 3037), ('briefly', 3038), ('irony', 3039), ('nine', 3040), ('fortunately', 3041), ('unforgettable', 3042), ('kennedy', 3043), ('quote', 3044), ('gag', 3045), ('nancy', 3046), ('caine', 3047), ('marie', 3048), ('busy', 3049), ('colorful', 3050), ('spots', 3051), ('shoots', 3052), ('intentions', 3053), ('moviei', 3054), ('wishes', 3055), ('concerns', 3056), ('jessica', 3057), ('importantly', 3058), ('thrilling', 3059), ('outer', 3060), ('crimes', 3061), ('aged', 3062), ('corner', 3063), ('opposed', 3064), ('individuals', 3065), ('aunt', 3066), ('dvds', 3067), ('struck', 3068), ('essential', 3069), ('identify', 3070), ('blows', 3071), ('guts', 3072), ('miscast', 3073), ('atmospheric', 3074), ('develops', 3075), ('perfection', 3076), ('needless', 3077), ('uninspired', 3078), ('shed', 3079), ('portrait', 3080), ('connected', 3081), ('persons', 3082), ('personalities', 3083), ('lone', 3084), ('uncomfortable', 3085), ('wanna', 3086), ('glory', 3087), ('shall', 3088), ('incident', 3089), ('outrageous', 3090), ('shape', 3091), ('repeatedly', 3092), ('annoyed', 3093), ('lesser', 3094), ('dialogs', 3095), ('drags', 3096), ('competition', 3097), ('faced', 3098), ('grows', 3099), ('pool', 3100), ('theyd', 3101), ('setup', 3102), ('oddly', 3103), ('shower', 3104), ('thrillers', 3105), ('jonathan', 3106), ('monkey', 3107), ('kicks', 3108), ('corrupt', 3109), ('doctors', 3110), ('subplots', 3111), ('husbands', 3112), ('striking', 3113), ('souls', 3114), ('stanwyck', 3115), ('stretch', 3116), ('pet', 3117), ('happily', 3118), ('freddy', 3119), ('enjoyment', 3120), ('trap', 3121), ('ad', 3122), ('revelation', 3123), ('rachel', 3124), ('knife', 3125), ('indians', 3126), ('returning', 3127), ('talked', 3128), ('korean', 3129), ('boredom', 3130), ('locked', 3131), ('infamous', 3132), ('ensemble', 3133), ('pat', 3134), ('rushed', 3135), ('suspects', 3136), ('cardboard', 3137), ('g', 3138), ('wave', 3139), ('carefully', 3140), ('beings', 3141), ('pack', 3142), ('neat', 3143), ('basement', 3144), ('blade', 3145), ('creators', 3146), ('camerawork', 3147), ('tricks', 3148), ('stan', 3149), ('acceptable', 3150), ('meat', 3151), ('revealing', 3152), ('stood', 3153), ('zone', 3154), ('shadows', 3155), ('string', 3156), ('ambitious', 3157), ('selling', 3158), ('20th', 3159), ('increasingly', 3160), ('heist', 3161), ('encounters', 3162), ('notch', 3163), ('pride', 3164), ('elsewhere', 3165), ('precious', 3166), ('melodramatic', 3167), ('remaining', 3168), ('destruction', 3169), ('piano', 3170), ('stunt', 3171), ('nation', 3172), ('dragged', 3173), ('mouse', 3174), ('admire', 3175), ('cats', 3176), ('sophisticated', 3177), ('dropped', 3178), ('pacino', 3179), ('norman', 3180), ('weight', 3181), ('mass', 3182), ('emily', 3183), ('laid', 3184), ('oz', 3185), ('ralph', 3186), ('easier', 3187), ('philip', 3188), ('horrors', 3189), ('cameos', 3190), ('health', 3191), ('pulp', 3192), ('push', 3193), ('freeman', 3194), ('oneliners', 3195), ('oscars', 3196), ('godfather', 3197), ('pointed', 3198), ('mel', 3199), ('snake', 3200), ('victoria', 3201), ('reallife', 3202), ('foster', 3203), ('brand', 3204), ('toilet', 3205), ('cure', 3206), ('powell', 3207), ('hoped', 3208), ('dubbing', 3209), ('unintentionally', 3210), ('sentimental', 3211), ('handful', 3212), ('trite', 3213), ('attracted', 3214), ('bible', 3215), ('threw', 3216), ('gain', 3217), ('rogers', 3218), ('hunting', 3219), ('oil', 3220), ('1st', 3221), ('accused', 3222), ('typically', 3223), ('magazine', 3224), ('redemption', 3225), ('territory', 3226), ('hardcore', 3227), ('performing', 3228), ('rid', 3229), ('curiosity', 3230), ('crisis', 3231), ('expensive', 3232), ('forgive', 3233), ('hbo', 3234), ('shark', 3235), ('jumping', 3236), ('battles', 3237), ('lion', 3238), ('buck', 3239), ('doors', 3240), ('minimal', 3241), ('packed', 3242), ('requires', 3243), ('intention', 3244), ('fifteen', 3245), ('library', 3246), ('beer', 3247), ('stole', 3248), ('response', 3249), ('pitch', 3250), ('relevant', 3251), ('khan', 3252), ('tremendous', 3253), ('importance', 3254), ('travels', 3255), ('ignored', 3256), ('size', 3257), ('sandra', 3258), ('horrendous', 3259), ('reasonable', 3260), ('rocks', 3261), ('engaged', 3262), ('thirty', 3263), ('eerie', 3264), ('stated', 3265), ('wicked', 3266), ('jerk', 3267), ('emma', 3268), ('commit', 3269), ('wonders', 3270), ('guilt', 3271), ('gothic', 3272), ('highlights', 3273), ('tons', 3274), ('backdrop', 3275), ('closeups', 3276), ('charisma', 3277), ('appalling', 3278), ('arnold', 3279), ('endearing', 3280), ('raped', 3281), ('clues', 3282), ('clint', 3283), ('bat', 3284), ('pulling', 3285), ('per', 3286), ('neighborhood', 3287), ('40s', 3288), ('britain', 3289), ('inevitable', 3290), ('wake', 3291), ('argue', 3292), ('hype', 3293), ('breasts', 3294), ('dig', 3295), ('mid', 3296), ('month', 3297), ('sexually', 3298), ('pitt', 3299), ('brazil', 3300), ('laurel', 3301), ('demands', 3302), ('cave', 3303), ('mitchell', 3304), ('watches', 3305), ('allowing', 3306), ('burning', 3307), ('miserably', 3308), ('associated', 3309), ('restaurant', 3310), ('linda', 3311), ('countless', 3312), ('realise', 3313), ('beating', 3314), ('diane', 3315), ('providing', 3316), ('discovery', 3317), ('angeles', 3318), ('investigation', 3319), ('repetitive', 3320), ('intent', 3321), ('predator', 3322), ('30s', 3323), ('loosely', 3324), ('shoes', 3325), ('elderly', 3326), ('messages', 3327), ('split', 3328), ('tall', 3329), ('dancer', 3330), ('colour', 3331), ('inspector', 3332), ('cabin', 3333), ('fortune', 3334), ('surrounded', 3335), ('lucy', 3336), ('bird', 3337), ('smoking', 3338), ('waters', 3339), ('believing', 3340), ('incoherent', 3341), ('cried', 3342), ('motivation', 3343), ('card', 3344), ('marks', 3345), ('sin', 3346), ('heat', 3347), ('documentaries', 3348), ('sidney', 3349), ('horrid', 3350), ('distant', 3351), ('officers', 3352), ('killings', 3353), ('fulci', 3354), ('shortly', 3355), ('possessed', 3356), ('characterization', 3357), ('subsequent', 3358), ('sub', 3359), ('staff', 3360), ('definite', 3361), ('someones', 3362), ('loser', 3363), ('catholic', 3364), ('broadcast', 3365), ('noble', 3366), ('hal', 3367), ('interaction', 3368), ('theyll', 3369), ('burton', 3370), ('ex', 3371), ('ranks', 3372), ('threat', 3373), ('commercials', 3374), ('occurs', 3375), ('poster', 3376), ('reasonably', 3377), ('detailed', 3378), ('corpse', 3379), ('displays', 3380), ('ocean', 3381), ('goal', 3382), ('shy', 3383), ('spoiled', 3384), ('vague', 3385), ('aforementioned', 3386), ('reactions', 3387), ('hitting', 3388), ('directorial', 3389), ('chicago', 3390), ('frustrated', 3391), ('burn', 3392), ('beaten', 3393), ('tortured', 3394), ('subjects', 3395), ('explosions', 3396), ('enters', 3397), ('trade', 3398), ('beats', 3399), ('press', 3400), ('factory', 3401), ('alexander', 3402), ('prevent', 3403), ('holly', 3404), ('audio', 3405), ('noise', 3406), ('concerning', 3407), ('eve', 3408), ('pushed', 3409), ('flynn', 3410), ('fears', 3411), ('pleasantly', 3412), ('escaped', 3413), ('causing', 3414), ('strikes', 3415), ('superbly', 3416), ('spiritual', 3417), ('fancy', 3418), ('medium', 3419), ('hip', 3420), ('bears', 3421), ('idiots', 3422), ('mansion', 3423), ('swedish', 3424), ('brilliance', 3425), ('currently', 3426), ('kings', 3427), ('chances', 3428), ('wondered', 3429), ('builds', 3430), ('picking', 3431), ('returned', 3432), ('arrive', 3433), ('aimed', 3434), ('buried', 3435), ('puppet', 3436), ('hire', 3437), ('charismatic', 3438), ('pleased', 3439), ('smoke', 3440), ('christ', 3441), ('resembles', 3442), ('areas', 3443), ('root', 3444), ('segments', 3445), ('extended', 3446), ('daring', 3447), ('neck', 3448), ('attached', 3449), ('notes', 3450), ('receive', 3451), ('stiff', 3452), ('stanley', 3453), ('arrested', 3454), ('hanks', 3455), ('outcome', 3456), ('jake', 3457), ('prisoners', 3458), ('carpenter', 3459), ('stronger', 3460), ('accomplished', 3461), ('wrestling', 3462), ('photographed', 3463), ('gift', 3464), ('matthau', 3465), ('walls', 3466), ('maker', 3467), ('presumably', 3468), ('groups', 3469), ('symbolism', 3470), ('thrills', 3471), ('button', 3472), ('virgin', 3473), ('spooky', 3474), ('evident', 3475), ('digital', 3476), ('lawrence', 3477), ('merit', 3478), ('bare', 3479), ('spare', 3480), ('load', 3481), ('represents', 3482), ('hysterical', 3483), ('heroic', 3484), ('strictly', 3485), ('larger', 3486), ('thumbs', 3487), ('continued', 3488), ('liking', 3489), ('grandfather', 3490), ('mustsee', 3491), ('connery', 3492), ('luckily', 3493), ('sole', 3494), ('flawless', 3495), ('pink', 3496), ('persona', 3497), ('virus', 3498), ('hamlet', 3499), ('willis', 3500), ('nearby', 3501), ('matthew', 3502), ('jealous', 3503), ('ridiculously', 3504), ('iii', 3505), ('glenn', 3506), ('rural', 3507), ('fitting', 3508), ('carl', 3509), ('ken', 3510), ('couples', 3511), ('connect', 3512), ('complaint', 3513), ('planning', 3514), ('afterwards', 3515), ('affected', 3516), ('genres', 3517), ('landscape', 3518), ('doll', 3519), ('critic', 3520), ('farce', 3521), ('delivering', 3522), ('signs', 3523), ('stooges', 3524), ('pie', 3525), ('cared', 3526), ('cia', 3527), ('worried', 3528), ('covers', 3529), ('tunes', 3530), ('cinderella', 3531), ('valley', 3532), ('em', 3533), ('trail', 3534), ('conspiracy', 3535), ('citizen', 3536), ('listed', 3537), ('editor', 3538), ('sticks', 3539), ('savage', 3540), ('bride', 3541), ('ups', 3542), ('disjointed', 3543), ('et', 3544), ('sadistic', 3545), ('occur', 3546), ('poverty', 3547), ('logical', 3548), ('amanda', 3549), ('timeless', 3550), ('possibility', 3551), ('draws', 3552), ('hatred', 3553), ('distance', 3554), ('brains', 3555), ('grey', 3556), ('admittedly', 3557), ('freak', 3558), ('agents', 3559), ('argument', 3560), ('strip', 3561), ('itll', 3562), ('ward', 3563), ('hudson', 3564), ('funeral', 3565), ('comfortable', 3566), ('resolution', 3567), ('dorothy', 3568), ('notably', 3569), ('terrifying', 3570), ('everyones', 3571), ('ian', 3572), ('abilities', 3573), ('cook', 3574), ('secrets', 3575), ('h', 3576), ('lab', 3577), ('devoid', 3578), ('broad', 3579), ('duty', 3580), ('generous', 3581), ('jeremy', 3582), ('bone', 3583), ('conversations', 3584), ('alltime', 3585), ('andrew', 3586), ('bergman', 3587), ('insulting', 3588), ('offering', 3589), ('worthless', 3590), ('kudos', 3591), ('bleak', 3592), ('claire', 3593), ('burned', 3594), ('chaos', 3595), ('bell', 3596), ('vast', 3597), ('inspiring', 3598), ('explicit', 3599), ('explore', 3600), ('improved', 3601), ('offended', 3602), ('swear', 3603), ('overacting', 3604), ('nelson', 3605), ('survival', 3606), ('projects', 3607), ('menacing', 3608), ('university', 3609), ('cup', 3610), ('twin', 3611), ('staying', 3612), ('adams', 3613), ('scientific', 3614), ('combat', 3615), ('w', 3616), ('mild', 3617), ('painting', 3618), ('airplane', 3619), ('celluloid', 3620), ('discussion', 3621), ('airport', 3622), ('drunken', 3623), ('morality', 3624), ('l', 3625), ('primarily', 3626), ('screams', 3627), ('obscure', 3628), ('generic', 3629), ('titanic', 3630), ('sidekick', 3631), ('gradually', 3632), ('bush', 3633), ('fired', 3634), ('achievement', 3635), ('roman', 3636), ('comics', 3637), ('traveling', 3638), ('overlooked', 3639), ('blend', 3640), ('unbelievably', 3641), ('dialogues', 3642), ('neighbor', 3643), ('overrated', 3644), ('alike', 3645), ('ireland', 3646), ('wallace', 3647), ('meaningless', 3648), ('dinosaurs', 3649), ('altogether', 3650), ('investigate', 3651), ('implausible', 3652), ('antics', 3653), ('butt', 3654), ('finger', 3655), ('scripted', 3656), ('gray', 3657), ('rick', 3658), ('scarlett', 3659), ('carol', 3660), ('craig', 3661), ('isolated', 3662), ('web', 3663), ('cameras', 3664), ('reached', 3665), ('disease', 3666), ('warrior', 3667), ('unpleasant', 3668), ('dedicated', 3669), ('eccentric', 3670), ('jazz', 3671), ('juvenile', 3672), ('lugosi', 3673), ('installment', 3674), ('overdone', 3675), ('hammer', 3676), ('russia', 3677), ('involvement', 3678), ('secretary', 3679), ('punk', 3680), ('shining', 3681), ('strike', 3682), ('chain', 3683), ('lou', 3684), ('spin', 3685), ('ironically', 3686), ('harder', 3687), ('devoted', 3688), ('careers', 3689), ('mile', 3690), ('differences', 3691), ('trio', 3692), ('cole', 3693), ('craft', 3694), ('murderous', 3695), ('sentence', 3696), ('wreck', 3697), ('goodness', 3698), ('dire', 3699), ('gentle', 3700), ('removed', 3701), ('contrary', 3702), ('plague', 3703), ('bathroom', 3704), ('sadness', 3705), ('specifically', 3706), ('wannabe', 3707), ('pretend', 3708), ('angela', 3709), ('executive', 3710), ('tarantino', 3711), ('mummy', 3712), ('politically', 3713), ('benefit', 3714), ('disturbed', 3715), ('bates', 3716), ('lyrics', 3717), ('rendition', 3718), ('ticket', 3719), ('yellow', 3720), ('judging', 3721), ('randy', 3722), ('porno', 3723), ('spike', 3724), ('popcorn', 3725), ('newspaper', 3726), ('influenced', 3727), ('mixture', 3728), ('orders', 3729), ('upper', 3730), ('buddies', 3731), ('baker', 3732), ('headed', 3733), ('ships', 3734), ('fighter', 3735), ('blues', 3736), ('frankenstein', 3737), ('prostitute', 3738), ('winds', 3739), ('crack', 3740), ('movements', 3741), ('absence', 3742), ('conventional', 3743), ('slightest', 3744), ('misses', 3745), ('racial', 3746), ('exaggerated', 3747), ('doomed', 3748), ('prisoner', 3749), ('canada', 3750), ('explaining', 3751), ('depression', 3752), ('beneath', 3753), ('kitchen', 3754), ('assassin', 3755), ('winter', 3756), ('cruise', 3757), ('ideal', 3758), ('duke', 3759), ('complain', 3760), ('recorded', 3761), ('partly', 3762), ('wax', 3763), ('elaborate', 3764), ('recognition', 3765), ('bullets', 3766), ('mario', 3767), ('holy', 3768), ('psychotic', 3769), ('stereotype', 3770), ('sloppy', 3771), ('models', 3772), ('museum', 3773), ('vicious', 3774), ('commented', 3775), ('staged', 3776), ('fields', 3777), ('aging', 3778), ('classical', 3779), ('robbery', 3780), ('francis', 3781), ('decisions', 3782), ('terrorist', 3783), ('relies', 3784), ('bin', 3785), ('subtlety', 3786), ('tracks', 3787), ('reduced', 3788), ('errors', 3789), ('relative', 3790), ('lifestyle', 3791), ('opinions', 3792), ('intrigued', 3793), ('pushing', 3794), ('clumsy', 3795), ('intrigue', 3796), ('unwatchable', 3797), ('liberal', 3798), ('titled', 3799), ('translation', 3800), ('producing', 3801), ('arrogant', 3802), ('ned', 3803), ('fatal', 3804), ('proceedings', 3805), ('satan', 3806), ('2nd', 3807), ('e', 3808), ('lighthearted', 3809), ('rage', 3810), ('empire', 3811), ('shell', 3812), ('estate', 3813), ('highest', 3814), ('reaches', 3815), ('represent', 3816), ('convoluted', 3817), ('spell', 3818), ('preview', 3819), ('justin', 3820), ('enormous', 3821), ('darker', 3822), ('1940s', 3823), ('sport', 3824), ('tear', 3825), ('explosion', 3826), ('ought', 3827), ('duo', 3828), ('coffee', 3829), ('afford', 3830), ('buildings', 3831), ('bands', 3832), ('pays', 3833), ('simplistic', 3834), ('owen', 3835), ('hopper', 3836), ('blatant', 3837), ('rank', 3838), ('drivel', 3839), ('carter', 3840), ('threatening', 3841), ('neil', 3842), ('poetry', 3843), ('agreed', 3844), ('cards', 3845), ('bruno', 3846), ('official', 3847), ('ruins', 3848), ('strangers', 3849), ('odds', 3850), ('versus', 3851), ('solely', 3852), ('planned', 3853), ('introduces', 3854), ('primary', 3855), ('iron', 3856), ('selfish', 3857), ('boot', 3858), ('franco', 3859), ('measure', 3860), ('manhattan', 3861), ('depicts', 3862), ('innovative', 3863), ('describes', 3864), ('gangsters', 3865), ('ruthless', 3866), ('involve', 3867), ('damage', 3868), ('illegal', 3869), ('tea', 3870), ('motives', 3871), ('inventive', 3872), ('scarecrow', 3873), ('hook', 3874), ('catches', 3875), ('fingers', 3876), ('unintentional', 3877), ('trees', 3878), ('tracy', 3879), ('workers', 3880), ('exposed', 3881), ('hitchcocks', 3882), ('philosophy', 3883), ('dignity', 3884), ('stinker', 3885), ('depressed', 3886), ('kidding', 3887), ('homosexual', 3888), ('recognized', 3889), ('captivating', 3890), ('garden', 3891), ('undoubtedly', 3892), ('eva', 3893), ('disc', 3894), ('lips', 3895), ('passes', 3896), ('lucas', 3897), ('splendid', 3898), ('narrator', 3899), ('thrill', 3900), ('murray', 3901), ('martha', 3902), ('onscreen', 3903), ('loads', 3904), ('myers', 3905), ('walken', 3906), ('failing', 3907), ('honesty', 3908), ('dozens', 3909), ('superficial', 3910), ('reunion', 3911), ('vegas', 3912), ('todd', 3913)])"
      ]
     },
     "execution_count": 18,
     "metadata": {},
     "output_type": "execute_result"
    }
   ],
   "source": [
    "vocab_to_int.items()"
   ]
  },
  {
   "cell_type": "code",
   "execution_count": 19,
   "metadata": {},
   "outputs": [
    {
     "name": "stdout",
     "output_type": "stream",
     "text": [
      "Number of words x EMEDDING_DIM: (3914, 64)\n"
     ]
    }
   ],
   "source": [
    "# Создаем слой эмбеддинга\n",
    "embedding_matrix = np.zeros((VOCAB_SIZE, EMBEDDING_DIM))\n",
    "\n",
    "# Бежим по всем словам словаря: если слово есть в word2vec, \n",
    "# достаем его вектор; если слова нет, то распечатываем его и пропускаем\n",
    "for word, i in vocab_to_int.items():\n",
    "    try:\n",
    "        embedding_vector = wv.wv[word]\n",
    "        embedding_matrix[i] = embedding_vector\n",
    "    except KeyError as e:\n",
    "        pass\n",
    "        print(f'{e}: word: {word}')\n",
    "        \n",
    "# Создаем предобученный эмбеддинг – этот слой в нашей сети обучаться не будет\n",
    "embedding_layer = nn.Embedding.from_pretrained(torch.FloatTensor(embedding_matrix))\n",
    "print(f'Number of words x EMEDDING_DIM: {embedding_matrix.shape}')"
   ]
  },
  {
   "cell_type": "code",
   "execution_count": 20,
   "metadata": {},
   "outputs": [
    {
     "name": "stdout",
     "output_type": "stream",
     "text": [
      "[   0    0    0    0    0    0    0    0    0    0    0    0    0    0\n",
      "    0    0    0    0    0    0  135 3585  388    1   11 3366  917  241\n",
      "   34  106   75  367   31  114  133   61  720  138  817 1552  397 1793\n",
      "    3  245 2011  466 2857  223  406    4  349   65  144   29 2684  486\n",
      "  583 1314   92  711 2489 3487 3101    1]\n"
     ]
    }
   ],
   "source": [
    "# Применяем padding\n",
    "padded = padding(review_int=reviews_int, seq_len=64)\n",
    "print(padded[5])"
   ]
  },
  {
   "cell_type": "code",
   "execution_count": 21,
   "metadata": {},
   "outputs": [],
   "source": [
    "# train_test split + label encoding \n",
    "X_train, X_valid, y_train, y_valid = train_test_split(\n",
    "    np.array(padded),\n",
    "    pd.get_dummies(\n",
    "        df['sentiment'], \n",
    "        drop_first=True\n",
    "    ).values.astype('int'), test_size=0.2, random_state=1)"
   ]
  },
  {
   "cell_type": "code",
   "execution_count": 22,
   "metadata": {},
   "outputs": [],
   "source": [
    "BATCH_SIZE = 64\n",
    "\n",
    "train_data = TensorDataset(torch.from_numpy(X_train), torch.from_numpy(y_train))\n",
    "valid_data = TensorDataset(torch.from_numpy(X_valid), torch.from_numpy(y_valid))\n",
    "train_loader = DataLoader(train_data, shuffle=True, batch_size=BATCH_SIZE)\n",
    "valid_loader = DataLoader(valid_data, shuffle=True, batch_size=BATCH_SIZE)"
   ]
  },
  {
   "cell_type": "code",
   "execution_count": 23,
   "metadata": {},
   "outputs": [
    {
     "name": "stdout",
     "output_type": "stream",
     "text": [
      "Sample input size: BATCH_SIZE x SEQ_LEN torch.Size([64, 64])\n",
      "Sample input: \n",
      " tensor([[   0,    0,    0,  ...,  135,    9,  239],\n",
      "        [ 317, 1677,  982,  ...,    3,   10, 1164],\n",
      "        [  78,  262,  715,  ..., 2151,  413,    2],\n",
      "        ...,\n",
      "        [   0,    0,    0,  ..., 3870,   84,   13],\n",
      "        [2371, 1526,  233,  ...,    4,  630, 2168],\n",
      "        [1333,   17, 3017,  ...,   76,  124,   54]])\n",
      "Sample input: \n",
      " tensor([[1],\n",
      "        [1],\n",
      "        [1],\n",
      "        [0],\n",
      "        [1],\n",
      "        [0],\n",
      "        [1],\n",
      "        [0],\n",
      "        [1],\n",
      "        [1]])\n"
     ]
    }
   ],
   "source": [
    "# посмотрим, что внутри\n",
    "dataiter = iter(train_loader)\n",
    "sample_x, sample_y = next(dataiter)\n",
    "\n",
    "print('Sample input size: BATCH_SIZE x SEQ_LEN', sample_x.size()) # batch_size, seq_length\n",
    "print('Sample input: \\n', sample_x)\n",
    "print('Sample input: \\n', sample_y[:10])"
   ]
  },
  {
   "cell_type": "code",
   "execution_count": 24,
   "metadata": {},
   "outputs": [],
   "source": [
    "device = 'cpu' #cuda' if torch.cuda.is_available() else 'cpu'"
   ]
  },
  {
   "cell_type": "code",
   "execution_count": 25,
   "metadata": {},
   "outputs": [],
   "source": [
    "HIDDEN_SIZE = 32"
   ]
  },
  {
   "cell_type": "code",
   "execution_count": 26,
   "metadata": {},
   "outputs": [
    {
     "data": {
      "text/plain": [
       "(tensor([[ 0.5946, -0.6372,  0.2139,  ...,  0.7159,  0.3768,  0.2386],\n",
       "         [-0.7760, -0.9092,  0.1157,  ...,  0.8526,  0.4341,  0.4526],\n",
       "         [-0.1349, -0.5675, -0.8992,  ...,  0.1740,  0.2960,  0.0788],\n",
       "         ...,\n",
       "         [ 0.5309, -0.6548,  0.0998,  ...,  0.3640,  0.2889,  0.3814],\n",
       "         [-0.1983, -0.6369, -0.2053,  ...,  0.1122, -0.2241, -0.6981],\n",
       "         [ 0.0043, -0.3869, -0.3175,  ..., -0.2167,  0.7095, -0.7202]],\n",
       "        grad_fn=<TanhBackward0>),\n",
       " tensor([[[1.3212e-03],\n",
       "          [2.9416e-04],\n",
       "          [2.9200e-04],\n",
       "          ...,\n",
       "          [4.0518e-02],\n",
       "          [3.8909e-03],\n",
       "          [5.8072e-02]],\n",
       " \n",
       "         [[4.1186e-07],\n",
       "          [4.4530e-06],\n",
       "          [1.7786e-04],\n",
       "          ...,\n",
       "          [4.4715e-05],\n",
       "          [3.4884e-07],\n",
       "          [1.4395e-04]],\n",
       " \n",
       "         [[3.2075e-05],\n",
       "          [7.9766e-04],\n",
       "          [5.6402e-05],\n",
       "          ...,\n",
       "          [3.8752e-05],\n",
       "          [8.1030e-05],\n",
       "          [5.5502e-05]],\n",
       " \n",
       "         ...,\n",
       " \n",
       "         [[1.6870e-02],\n",
       "          [3.1345e-04],\n",
       "          [7.9038e-04],\n",
       "          ...,\n",
       "          [1.8068e-05],\n",
       "          [2.1523e-03],\n",
       "          [6.6643e-04]],\n",
       " \n",
       "         [[2.4944e-05],\n",
       "          [2.1503e-03],\n",
       "          [3.7055e-02],\n",
       "          ...,\n",
       "          [1.9399e-03],\n",
       "          [6.7036e-03],\n",
       "          [2.7630e-03]],\n",
       " \n",
       "         [[1.4743e-06],\n",
       "          [2.5621e-06],\n",
       "          [1.2444e-03],\n",
       "          ...,\n",
       "          [1.0424e-08],\n",
       "          [1.7275e-08],\n",
       "          [7.5478e-05]]], grad_fn=<SoftmaxBackward0>))"
      ]
     },
     "execution_count": 26,
     "metadata": {},
     "output_type": "execute_result"
    }
   ],
   "source": [
    "class ConcatAttention(nn.Module):\n",
    "    def __init__(\n",
    "            self, \n",
    "            hidden_size: int = HIDDEN_SIZE\n",
    "            ) -> None:\n",
    "        \n",
    "        super().__init__()\n",
    "        self.hidden_size = hidden_size\n",
    "        self.linear = nn.Linear(self.hidden_size, self.hidden_size)\n",
    "        self.align  = nn.Linear(self.hidden_size * 2, self.hidden_size)\n",
    "        self.tanh   = nn.Tanh()\n",
    "\n",
    "    def forward(\n",
    "            self, \n",
    "            lstm_outputs: torch.Tensor, # BATCH_SIZE x SEQ_LEN x HIDDEN_SIZE\n",
    "            final_hidden: torch.Tensor  # BATCH_SIZE x HIDDEN_SIZE\n",
    "            ) -> Tuple[torch.Tensor, torch.Tensor]:\n",
    "        \n",
    "        att_weights = self.linear(lstm_outputs)\n",
    "        # print(f'After linear: {att_weights.shape, final_hidden.unsqueeze(2).shape}')\n",
    "        att_weights = torch.bmm(att_weights, final_hidden.unsqueeze(2))\n",
    "        # print(f'After bmm: {att_weights.shape}')\n",
    "        att_weights = F.softmax(att_weights, dim=1)\n",
    "        # print(f'Ouputs shape: {lstm_outputs.transpose(1, 2).shape}, After softmax: {att_weights.unsqueeze(2).shape}')\n",
    "        cntxt       = torch.bmm(lstm_outputs.transpose(1, 2), att_weights)\n",
    "        # print(f'Context: {cntxt.shape}, final shape: {final_hidden.unsqueeze(2).shape}')\n",
    "        concatted   = torch.cat((cntxt, final_hidden.unsqueeze(2)), dim=1)\n",
    "        # print(f'Concatted: {concatted.shape}')\n",
    "        att_hidden  = self.tanh(self.align(concatted.squeeze(-1)))\n",
    "        # print(f'Att Hidden: {att_hidden.shape}')\n",
    "        return att_hidden, att_weights\n",
    "\n",
    "# Test on random numbers\n",
    "ConcatAttention()(torch.randn(BATCH_SIZE, 64, HIDDEN_SIZE), torch.randn(BATCH_SIZE, HIDDEN_SIZE))"
   ]
  },
  {
   "cell_type": "code",
   "execution_count": 27,
   "metadata": {},
   "outputs": [],
   "source": [
    "attention = ConcatAttention(HIDDEN_SIZE)"
   ]
  },
  {
   "cell_type": "code",
   "execution_count": 28,
   "metadata": {},
   "outputs": [
    {
     "name": "stdout",
     "output_type": "stream",
     "text": [
      "=======================================================\n",
      "Layer       Kernel       Output      Params       FLOPs\n",
      "=======================================================\n",
      "0_linear   [32, 32]   [16, 32, 32]    1,056   1,032,192\n",
      "1_align    [64, 32]       [16, 32]    2,080      65,024\n",
      "2_tanh            -       [16, 32]        0       2,560\n",
      "=======================================================\n",
      "Total params: 3,136\n",
      "Trainable params: 3,136\n",
      "Non-trainable params: 0\n",
      "Total FLOPs: 1,099,776 / 1.10 MFLOPs\n",
      "-------------------------------------------------------\n",
      "Input size (MB): 0.06\n",
      "Forward/backward pass size (MB): 0.13\n",
      "Params size (MB): 0.01\n",
      "Estimated Total Size (MB): 0.21\n",
      "=======================================================\n"
     ]
    }
   ],
   "source": [
    "tu.get_model_summary(attention, torch.randn(16, 32, HIDDEN_SIZE), torch.randn(16, HIDDEN_SIZE))"
   ]
  },
  {
   "cell_type": "code",
   "execution_count": 29,
   "metadata": {},
   "outputs": [],
   "source": [
    "SEQ_LEN = 32"
   ]
  },
  {
   "cell_type": "code",
   "execution_count": 30,
   "metadata": {},
   "outputs": [],
   "source": [
    "class LSTMConcatAttention(nn.Module):\n",
    "    def __init__(self) -> None:\n",
    "        super().__init__()\n",
    "\n",
    "        # self.embedding = nn.Embedding(VOCAB_SIZE, EMBEDDING_DIM)\n",
    "        self.embedding = embedding_layer\n",
    "        self.lstm = nn.LSTM(EMBEDDING_DIM, HIDDEN_SIZE, batch_first=True)\n",
    "        self.attn = ConcatAttention(HIDDEN_SIZE)\n",
    "        self.clf = nn.Sequential(\n",
    "            nn.Linear(HIDDEN_SIZE, 128),\n",
    "            nn.Dropout(),\n",
    "            nn.Tanh(),\n",
    "            nn.Linear(128, 1)\n",
    "        )\n",
    "    \n",
    "    def forward(self, x):\n",
    "        embeddings = self.embedding(x)\n",
    "        outputs, (h_n, _) = self.lstm(embeddings)\n",
    "        att_hidden, att_weights = self.attn(outputs, h_n.squeeze(0))\n",
    "        out = self.clf(att_hidden)\n",
    "        return out, att_weights"
   ]
  },
  {
   "cell_type": "code",
   "execution_count": 31,
   "metadata": {},
   "outputs": [],
   "source": [
    "model_concat = LSTMConcatAttention()\n",
    "DEVICE='cpu'\n",
    "criterion = nn.BCEWithLogitsLoss()\n",
    "optimizer_concat = torch.optim.RMSprop(model_concat.parameters(), lr=0.001)\n",
    "\n",
    "metric = BinaryAccuracy() #BinaryAccuracy().to(device)"
   ]
  },
  {
   "cell_type": "code",
   "execution_count": 32,
   "metadata": {},
   "outputs": [
    {
     "name": "stdout",
     "output_type": "stream",
     "text": [
      "Epoch 1\n",
      "train_loss : 0.3758 val_loss : 0.3403\n",
      "train_accuracy : 0.83 val_accuracy : 0.85\n",
      "==================================================\n",
      "Epoch 2\n",
      "train_loss : 0.3331 val_loss : 0.3377\n",
      "train_accuracy : 0.86 val_accuracy : 0.85\n",
      "==================================================\n",
      "Epoch 3\n",
      "train_loss : 0.3168 val_loss : 0.3400\n",
      "train_accuracy : 0.86 val_accuracy : 0.86\n",
      "==================================================\n"
     ]
    }
   ],
   "source": [
    "train_losses, val_losses, train_metric, val_metric, rnn_time = train_attention_lstm(\n",
    "    3, model_concat, train_loader, valid_loader, optimizer_concat, criterion, metric\n",
    ")"
   ]
  },
  {
   "cell_type": "code",
   "execution_count": 35,
   "metadata": {},
   "outputs": [],
   "source": [
    "vocab_to_int['<pad>'] = 0"
   ]
  },
  {
   "cell_type": "code",
   "execution_count": 36,
   "metadata": {},
   "outputs": [],
   "source": [
    "int_to_vocab = {j:i for i, j in vocab_to_int.items()}"
   ]
  },
  {
   "cell_type": "code",
   "execution_count": 62,
   "metadata": {},
   "outputs": [],
   "source": [
    "def plot_and_predict(review: str, SEQ_LEN: int, model: nn.Module):\n",
    "    \"\"\"Predict class and draw word attention scores \n",
    "\n",
    "    Args:\n",
    "        review (str): Review text\n",
    "        SEQ_LEN (int): sequence length\n",
    "        model (nn.Module): trained model\n",
    "    \"\"\"\n",
    "    print(f'Initial sequence: {review}')\n",
    "    inp = preprocess_single_string(review, SEQ_LEN, vocab_to_int)\n",
    "    print(f'Preprocessed sequence: {inp}')\n",
    "    model.eval()\n",
    "    with torch.inference_mode():\n",
    "        pred, att_scores = model(inp.long().unsqueeze(0))\n",
    "    print(f'Attention scores: {att_scores.cpu().numpy().flatten()}')\n",
    "    \n",
    "    # create figure\n",
    "    plt.figure(figsize=(12, 4))\n",
    "    # draw barplot\n",
    "    plt.bar(np.arange(len(inp)), att_scores.cpu().numpy().flatten())\n",
    "    # set ylimits\n",
    "    plt.ylim(0, max(att_scores.cpu().numpy()[0])+.2)\n",
    "    # set xticks: seq_len positions with words as labels\n",
    "    plt.xticks(\n",
    "        ticks = np.arange(len(inp)), \n",
    "        labels = [int_to_vocab[x.item()] for x in inp]  # type: ignore\n",
    "        );\n",
    "    # Plot title\n",
    "    plt.title(f'Pred class {pred.sigmoid().round().item()}')\n",
    "    # set positions and labels under bars\n",
    "    score_label_shift = len(inp)*.02\n",
    "    for x, y in zip(np.arange(len(inp)), att_scores.detach().cpu().numpy()[0]):\n",
    "        plt.text(x-score_label_shift, y+.005, s=f'{y[0]:.2f}')"
   ]
  },
  {
   "cell_type": "code",
   "execution_count": 63,
   "metadata": {},
   "outputs": [
    {
     "name": "stdout",
     "output_type": "stream",
     "text": [
      "Initial sequence: Worst movie I have ever seen\n",
      "Preprocessed sequence: tensor([  0.,   0., 143.,   1.,  43.,  31.])\n",
      "Attention scores: [0.0867497  0.07859637 0.17828535 0.23698421 0.18648814 0.23289628]\n"
     ]
    },
    {
     "data": {
      "image/png": "[encoded data removed]",
      "text/plain": [
       "<Figure size 1200x400 with 1 Axes>"
      ]
     },
     "metadata": {},
     "output_type": "display_data"
    }
   ],
   "source": [
    "review = \"Worst movie I have ever seen\"\n",
    "plot_and_predict(\n",
    "    review = review, \n",
    "    SEQ_LEN=len(review.split()),\n",
    "    model = model_concat\n",
    ")\n"
   ]
  },
  {
   "cell_type": "code",
   "execution_count": null,
   "metadata": {},
   "outputs": [],
   "source": []
  }
 ],
 "metadata": {
  "kernelspec": {
   "display_name": "pt",
   "language": "python",
   "name": "python3"
  },
  "language_info": {
   "codemirror_mode": {
    "name": "ipython",
    "version": 3
   },
   "file_extension": ".py",
   "mimetype": "text/x-python",
   "name": "python",
   "nbconvert_exporter": "python",
   "pygments_lexer": "ipython3",
   "version": "3.9.15"
  },
  "orig_nbformat": 4
 },
 "nbformat": 4,
 "nbformat_minor": 2
}
