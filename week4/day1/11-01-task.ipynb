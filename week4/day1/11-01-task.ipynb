{
 "cells": [
  {
   "attachments": {},
   "cell_type": "markdown",
   "id": "edb22a57-8b82-4757-a8b1-bfe5177b6e86",
   "metadata": {},
   "source": [
    "# Фаза 2 • Неделя 11 • Понедельник\n",
    "## Рекомендательные системы\n",
    "### Классические подходы "
   ]
  },
  {
   "cell_type": "markdown",
   "id": "9723b1f4-d955-48b6-a613-8d350afb4df3",
   "metadata": {},
   "source": [
    "### Задание"
   ]
  },
  {
   "cell_type": "code",
   "execution_count": 212,
   "id": "57c03570",
   "metadata": {},
   "outputs": [],
   "source": [
    "import pandas as pd\n",
    "import numpy as np\n",
    "import matplotlib.pyplot as plt\n",
    "import seaborn as sns\n",
    "import os\n",
    "import plotly.express as px\n",
    "import scipy"
   ]
  },
  {
   "cell_type": "markdown",
   "id": "08de911b",
   "metadata": {},
   "source": [
    "### Загрузка данных\n",
    "\n",
    "Запусти ячейку ниже, чтобы загрузить данные. "
   ]
  },
  {
   "cell_type": "code",
   "execution_count": 2,
   "id": "f29c4acf",
   "metadata": {},
   "outputs": [],
   "source": [
    "CURR_PATH = os.path.dirname(\"__name__\")"
   ]
  },
  {
   "cell_type": "code",
   "execution_count": 154,
   "id": "533018e5",
   "metadata": {},
   "outputs": [],
   "source": [
    "# 1. Users dataset\n",
    "u_cols = [\"user_id\", \"age\", \"sex\", \"occupation\", \"zip_code\"]\n",
    "users = pd.read_csv(\n",
    "    os.path.join(CURR_PATH, \"data\", \"ml-100k\", \"u.user\"),\n",
    "    sep=\"|\",\n",
    "    names=u_cols,\n",
    "    encoding=\"latin-1\",\n",
    "    parse_dates=True,\n",
    "    header=None,\n",
    ")\n",
    "# 2. Rating dataset\n",
    "r_cols = [\"user_id\", \"movie_id\", \"rating\", \"unix_timestamp\"]\n",
    "ratings = pd.read_csv(\n",
    "    os.path.join(CURR_PATH, \"data\", \"ml-100k\", \"u.data\"),\n",
    "    sep=\"\\t\",\n",
    "    names=r_cols,\n",
    "    encoding=\"latin-1\",\n",
    ")\n",
    "\n",
    "# 3.Movies Dataset\n",
    "m_cols = [\n",
    "    \"movie_id\",\n",
    "    \"title\",\n",
    "    \"release_date\",\n",
    "    \"video_release_date\",\n",
    "    \"imdb_url\",\n",
    "    \"unknown\",\n",
    "    \"Action\",\n",
    "    \"Adventure\",\n",
    "    \"Animation\",\n",
    "    \"Children's\",\n",
    "    \"Comedy\",\n",
    "    \"Crime\",\n",
    "    \"Documentary\",\n",
    "    \"Drama\",\n",
    "    \"Fantasy\",\n",
    "    \"Film-Noir\",\n",
    "    \"Horror\",\n",
    "    \"Musical\",\n",
    "    \"Mystery\",\n",
    "    \"Romance\",\n",
    "    \"Sci-Fi\",\n",
    "    \"Thriller\",\n",
    "    \"War\",\n",
    "    \"Western\",\n",
    "]\n",
    "movies = pd.read_csv(\n",
    "    os.path.join(CURR_PATH, \"data\", \"ml-100k\", \"u.item\"),\n",
    "    sep=\"|\",\n",
    "    names=m_cols,\n",
    "    encoding=\"latin-1\",\n",
    ").drop([\"video_release_date\", \"unknown\"], axis=1)\n",
    "\n",
    "ratings = ratings.merge(movies[[\"movie_id\", \"title\"]], how=\"left\", on=\"movie_id\")"
   ]
  },
  {
   "cell_type": "code",
   "execution_count": 152,
   "id": "6dd5f105",
   "metadata": {},
   "outputs": [
    {
     "data": {
      "text/plain": [
       "((943, 5), (100000, 4), (1682, 22))"
      ]
     },
     "execution_count": 152,
     "metadata": {},
     "output_type": "execute_result"
    }
   ],
   "source": [
    "users.shape, ratings.shape, movies.shape"
   ]
  },
  {
   "cell_type": "code",
   "execution_count": 5,
   "id": "ccfaac4e",
   "metadata": {},
   "outputs": [
    {
     "data": {
      "text/html": [
       "<div>\n",
       "<style scoped>\n",
       "    .dataframe tbody tr th:only-of-type {\n",
       "        vertical-align: middle;\n",
       "    }\n",
       "\n",
       "    .dataframe tbody tr th {\n",
       "        vertical-align: top;\n",
       "    }\n",
       "\n",
       "    .dataframe thead th {\n",
       "        text-align: right;\n",
       "    }\n",
       "</style>\n",
       "<table border=\"1\" class=\"dataframe\">\n",
       "  <thead>\n",
       "    <tr style=\"text-align: right;\">\n",
       "      <th></th>\n",
       "      <th>user_id</th>\n",
       "      <th>age</th>\n",
       "      <th>sex</th>\n",
       "      <th>occupation</th>\n",
       "      <th>zip_code</th>\n",
       "    </tr>\n",
       "  </thead>\n",
       "  <tbody>\n",
       "    <tr>\n",
       "      <th>0</th>\n",
       "      <td>1</td>\n",
       "      <td>24</td>\n",
       "      <td>M</td>\n",
       "      <td>technician</td>\n",
       "      <td>85711</td>\n",
       "    </tr>\n",
       "    <tr>\n",
       "      <th>1</th>\n",
       "      <td>2</td>\n",
       "      <td>53</td>\n",
       "      <td>F</td>\n",
       "      <td>other</td>\n",
       "      <td>94043</td>\n",
       "    </tr>\n",
       "    <tr>\n",
       "      <th>2</th>\n",
       "      <td>3</td>\n",
       "      <td>23</td>\n",
       "      <td>M</td>\n",
       "      <td>writer</td>\n",
       "      <td>32067</td>\n",
       "    </tr>\n",
       "    <tr>\n",
       "      <th>3</th>\n",
       "      <td>4</td>\n",
       "      <td>24</td>\n",
       "      <td>M</td>\n",
       "      <td>technician</td>\n",
       "      <td>43537</td>\n",
       "    </tr>\n",
       "    <tr>\n",
       "      <th>4</th>\n",
       "      <td>5</td>\n",
       "      <td>33</td>\n",
       "      <td>F</td>\n",
       "      <td>other</td>\n",
       "      <td>15213</td>\n",
       "    </tr>\n",
       "  </tbody>\n",
       "</table>\n",
       "</div>"
      ],
      "text/plain": [
       "   user_id  age sex  occupation zip_code\n",
       "0        1   24   M  technician    85711\n",
       "1        2   53   F       other    94043\n",
       "2        3   23   M      writer    32067\n",
       "3        4   24   M  technician    43537\n",
       "4        5   33   F       other    15213"
      ]
     },
     "execution_count": 5,
     "metadata": {},
     "output_type": "execute_result"
    }
   ],
   "source": [
    "users.head()"
   ]
  },
  {
   "cell_type": "code",
   "execution_count": 162,
   "id": "9a22d5d5",
   "metadata": {},
   "outputs": [
    {
     "data": {
      "text/plain": [
       "943"
      ]
     },
     "execution_count": 162,
     "metadata": {},
     "output_type": "execute_result"
    }
   ],
   "source": [
    "users[\"user_id\"].nunique()"
   ]
  },
  {
   "cell_type": "code",
   "execution_count": 155,
   "id": "497ebbc2",
   "metadata": {
    "scrolled": true
   },
   "outputs": [
    {
     "data": {
      "text/html": [
       "<div>\n",
       "<style scoped>\n",
       "    .dataframe tbody tr th:only-of-type {\n",
       "        vertical-align: middle;\n",
       "    }\n",
       "\n",
       "    .dataframe tbody tr th {\n",
       "        vertical-align: top;\n",
       "    }\n",
       "\n",
       "    .dataframe thead th {\n",
       "        text-align: right;\n",
       "    }\n",
       "</style>\n",
       "<table border=\"1\" class=\"dataframe\">\n",
       "  <thead>\n",
       "    <tr style=\"text-align: right;\">\n",
       "      <th></th>\n",
       "      <th>user_id</th>\n",
       "      <th>movie_id</th>\n",
       "      <th>rating</th>\n",
       "      <th>unix_timestamp</th>\n",
       "      <th>title</th>\n",
       "    </tr>\n",
       "  </thead>\n",
       "  <tbody>\n",
       "    <tr>\n",
       "      <th>0</th>\n",
       "      <td>196</td>\n",
       "      <td>242</td>\n",
       "      <td>3</td>\n",
       "      <td>881250949</td>\n",
       "      <td>Kolya (1996)</td>\n",
       "    </tr>\n",
       "    <tr>\n",
       "      <th>1</th>\n",
       "      <td>186</td>\n",
       "      <td>302</td>\n",
       "      <td>3</td>\n",
       "      <td>891717742</td>\n",
       "      <td>L.A. Confidential (1997)</td>\n",
       "    </tr>\n",
       "    <tr>\n",
       "      <th>2</th>\n",
       "      <td>22</td>\n",
       "      <td>377</td>\n",
       "      <td>1</td>\n",
       "      <td>878887116</td>\n",
       "      <td>Heavyweights (1994)</td>\n",
       "    </tr>\n",
       "    <tr>\n",
       "      <th>3</th>\n",
       "      <td>244</td>\n",
       "      <td>51</td>\n",
       "      <td>2</td>\n",
       "      <td>880606923</td>\n",
       "      <td>Legends of the Fall (1994)</td>\n",
       "    </tr>\n",
       "    <tr>\n",
       "      <th>4</th>\n",
       "      <td>166</td>\n",
       "      <td>346</td>\n",
       "      <td>1</td>\n",
       "      <td>886397596</td>\n",
       "      <td>Jackie Brown (1997)</td>\n",
       "    </tr>\n",
       "  </tbody>\n",
       "</table>\n",
       "</div>"
      ],
      "text/plain": [
       "   user_id  movie_id  rating  unix_timestamp                       title\n",
       "0      196       242       3       881250949                Kolya (1996)\n",
       "1      186       302       3       891717742    L.A. Confidential (1997)\n",
       "2       22       377       1       878887116         Heavyweights (1994)\n",
       "3      244        51       2       880606923  Legends of the Fall (1994)\n",
       "4      166       346       1       886397596         Jackie Brown (1997)"
      ]
     },
     "execution_count": 155,
     "metadata": {},
     "output_type": "execute_result"
    }
   ],
   "source": [
    "ratings.head()"
   ]
  },
  {
   "cell_type": "markdown",
   "id": "a8fda787",
   "metadata": {},
   "source": [
    "## 📊 Exploratory data analysis / Разведывательный анализ данных"
   ]
  },
  {
   "cell_type": "markdown",
   "id": "e25ca298-fee8-483f-bcbf-951dcadb7826",
   "metadata": {},
   "source": [
    "Чтобы что-то рекомендовать, всегда стоит узнать о пользователях побольше. В этом разделе тебе необходимо визуализировать распределения разных признаков твоей рекомендательной системы. "
   ]
  },
  {
   "cell_type": "code",
   "execution_count": 144,
   "id": "4a4c1b19",
   "metadata": {},
   "outputs": [],
   "source": [
    "def configure_plotly_theme(fig):\n",
    "    \"\"\"Функция для применения единого стиля ко всем графикам\"\"\"\n",
    "    fig.update_layout(\n",
    "        plot_bgcolor=\"white\",\n",
    "        paper_bgcolor=\"white\",\n",
    "        font=dict(size=14),\n",
    "        xaxis=dict(\n",
    "            title_font=dict(\n",
    "                size=20,\n",
    "                family=\"Arial\",\n",
    "            ),\n",
    "            tickfont=dict(size=16),\n",
    "            gridcolor=\"lightgray\",\n",
    "            gridwidth=1,\n",
    "            griddash=\"dash\",\n",
    "            showline=True,\n",
    "            linecolor=\"black\",\n",
    "            linewidth=1,\n",
    "        ),\n",
    "        yaxis=dict(\n",
    "            title_font=dict(\n",
    "                size=20,\n",
    "                family=\"Arial\",\n",
    "            ),\n",
    "            tickfont=dict(size=16),\n",
    "            gridcolor=\"lightgray\",\n",
    "            gridwidth=1,\n",
    "            griddash=\"dash\",\n",
    "            showline=True,\n",
    "            linecolor=\"black\",\n",
    "            linewidth=1,\n",
    "        ),\n",
    "        title_font=dict(size=24, family=\"Arial\", weight=\"bold\"),\n",
    "    )\n",
    "    fig.update_xaxes(\n",
    "        # title_text=\"Название оси X\",\n",
    "        title_font=dict(size=20, family=\"Arial\")\n",
    "    )\n",
    "    fig.update_yaxes(\n",
    "        # title_text=\"Название оси Y\",\n",
    "        title_font=dict(size=20, family=\"Arial\")\n",
    "    )\n",
    "\n",
    "    return fig"
   ]
  },
  {
   "cell_type": "markdown",
   "id": "475240ff-cad7-400f-9fda-064c891dcec4",
   "metadata": {},
   "source": [
    "### Пользователь 👨\n",
    "\n",
    "Визуализируй следующие распределения: \n",
    "- пола (`barplot`)"
   ]
  },
  {
   "cell_type": "code",
   "execution_count": 145,
   "id": "018efd24-743d-4a56-9797-71e5b4a07d63",
   "metadata": {},
   "outputs": [
    {
     "data": {
      "application/vnd.plotly.v1+json": {
       "config": {
        "plotlyServerURL": "https://plot.ly"
       },
       "data": [
        {
         "hovertemplate": "x=%{x}<br>y=%{y}<extra></extra>",
         "legendgroup": "",
         "marker": {
          "color": "#636efa",
          "line": {
           "color": "black",
           "width": 2
          },
          "pattern": {
           "shape": ""
          }
         },
         "name": "",
         "orientation": "v",
         "showlegend": false,
         "textfont": {
          "color": "black",
          "family": "Arial",
          "size": 18
         },
         "textposition": "outside",
         "texttemplate": "%{y}",
         "type": "bar",
         "x": [
          "F",
          "M"
         ],
         "xaxis": "x",
         "y": {
          "bdata": "EQGeAg==",
          "dtype": "i2"
         },
         "yaxis": "y"
        }
       ],
       "layout": {
        "barmode": "relative",
        "font": {
         "size": 14
        },
        "height": 600,
        "legend": {
         "tracegroupgap": 0
        },
        "paper_bgcolor": "white",
        "plot_bgcolor": "white",
        "template": {
         "data": {
          "bar": [
           {
            "error_x": {
             "color": "#2a3f5f"
            },
            "error_y": {
             "color": "#2a3f5f"
            },
            "marker": {
             "line": {
              "color": "#E5ECF6",
              "width": 0.5
             },
             "pattern": {
              "fillmode": "overlay",
              "size": 10,
              "solidity": 0.2
             }
            },
            "type": "bar"
           }
          ],
          "barpolar": [
           {
            "marker": {
             "line": {
              "color": "#E5ECF6",
              "width": 0.5
             },
             "pattern": {
              "fillmode": "overlay",
              "size": 10,
              "solidity": 0.2
             }
            },
            "type": "barpolar"
           }
          ],
          "carpet": [
           {
            "aaxis": {
             "endlinecolor": "#2a3f5f",
             "gridcolor": "white",
             "linecolor": "white",
             "minorgridcolor": "white",
             "startlinecolor": "#2a3f5f"
            },
            "baxis": {
             "endlinecolor": "#2a3f5f",
             "gridcolor": "white",
             "linecolor": "white",
             "minorgridcolor": "white",
             "startlinecolor": "#2a3f5f"
            },
            "type": "carpet"
           }
          ],
          "choropleth": [
           {
            "colorbar": {
             "outlinewidth": 0,
             "ticks": ""
            },
            "type": "choropleth"
           }
          ],
          "contour": [
           {
            "colorbar": {
             "outlinewidth": 0,
             "ticks": ""
            },
            "colorscale": [
             [
              0,
              "#0d0887"
             ],
             [
              0.1111111111111111,
              "#46039f"
             ],
             [
              0.2222222222222222,
              "#7201a8"
             ],
             [
              0.3333333333333333,
              "#9c179e"
             ],
             [
              0.4444444444444444,
              "#bd3786"
             ],
             [
              0.5555555555555556,
              "#d8576b"
             ],
             [
              0.6666666666666666,
              "#ed7953"
             ],
             [
              0.7777777777777778,
              "#fb9f3a"
             ],
             [
              0.8888888888888888,
              "#fdca26"
             ],
             [
              1,
              "#f0f921"
             ]
            ],
            "type": "contour"
           }
          ],
          "contourcarpet": [
           {
            "colorbar": {
             "outlinewidth": 0,
             "ticks": ""
            },
            "type": "contourcarpet"
           }
          ],
          "heatmap": [
           {
            "colorbar": {
             "outlinewidth": 0,
             "ticks": ""
            },
            "colorscale": [
             [
              0,
              "#0d0887"
             ],
             [
              0.1111111111111111,
              "#46039f"
             ],
             [
              0.2222222222222222,
              "#7201a8"
             ],
             [
              0.3333333333333333,
              "#9c179e"
             ],
             [
              0.4444444444444444,
              "#bd3786"
             ],
             [
              0.5555555555555556,
              "#d8576b"
             ],
             [
              0.6666666666666666,
              "#ed7953"
             ],
             [
              0.7777777777777778,
              "#fb9f3a"
             ],
             [
              0.8888888888888888,
              "#fdca26"
             ],
             [
              1,
              "#f0f921"
             ]
            ],
            "type": "heatmap"
           }
          ],
          "histogram": [
           {
            "marker": {
             "pattern": {
              "fillmode": "overlay",
              "size": 10,
              "solidity": 0.2
             }
            },
            "type": "histogram"
           }
          ],
          "histogram2d": [
           {
            "colorbar": {
             "outlinewidth": 0,
             "ticks": ""
            },
            "colorscale": [
             [
              0,
              "#0d0887"
             ],
             [
              0.1111111111111111,
              "#46039f"
             ],
             [
              0.2222222222222222,
              "#7201a8"
             ],
             [
              0.3333333333333333,
              "#9c179e"
             ],
             [
              0.4444444444444444,
              "#bd3786"
             ],
             [
              0.5555555555555556,
              "#d8576b"
             ],
             [
              0.6666666666666666,
              "#ed7953"
             ],
             [
              0.7777777777777778,
              "#fb9f3a"
             ],
             [
              0.8888888888888888,
              "#fdca26"
             ],
             [
              1,
              "#f0f921"
             ]
            ],
            "type": "histogram2d"
           }
          ],
          "histogram2dcontour": [
           {
            "colorbar": {
             "outlinewidth": 0,
             "ticks": ""
            },
            "colorscale": [
             [
              0,
              "#0d0887"
             ],
             [
              0.1111111111111111,
              "#46039f"
             ],
             [
              0.2222222222222222,
              "#7201a8"
             ],
             [
              0.3333333333333333,
              "#9c179e"
             ],
             [
              0.4444444444444444,
              "#bd3786"
             ],
             [
              0.5555555555555556,
              "#d8576b"
             ],
             [
              0.6666666666666666,
              "#ed7953"
             ],
             [
              0.7777777777777778,
              "#fb9f3a"
             ],
             [
              0.8888888888888888,
              "#fdca26"
             ],
             [
              1,
              "#f0f921"
             ]
            ],
            "type": "histogram2dcontour"
           }
          ],
          "mesh3d": [
           {
            "colorbar": {
             "outlinewidth": 0,
             "ticks": ""
            },
            "type": "mesh3d"
           }
          ],
          "parcoords": [
           {
            "line": {
             "colorbar": {
              "outlinewidth": 0,
              "ticks": ""
             }
            },
            "type": "parcoords"
           }
          ],
          "pie": [
           {
            "automargin": true,
            "type": "pie"
           }
          ],
          "scatter": [
           {
            "fillpattern": {
             "fillmode": "overlay",
             "size": 10,
             "solidity": 0.2
            },
            "type": "scatter"
           }
          ],
          "scatter3d": [
           {
            "line": {
             "colorbar": {
              "outlinewidth": 0,
              "ticks": ""
             }
            },
            "marker": {
             "colorbar": {
              "outlinewidth": 0,
              "ticks": ""
             }
            },
            "type": "scatter3d"
           }
          ],
          "scattercarpet": [
           {
            "marker": {
             "colorbar": {
              "outlinewidth": 0,
              "ticks": ""
             }
            },
            "type": "scattercarpet"
           }
          ],
          "scattergeo": [
           {
            "marker": {
             "colorbar": {
              "outlinewidth": 0,
              "ticks": ""
             }
            },
            "type": "scattergeo"
           }
          ],
          "scattergl": [
           {
            "marker": {
             "colorbar": {
              "outlinewidth": 0,
              "ticks": ""
             }
            },
            "type": "scattergl"
           }
          ],
          "scattermap": [
           {
            "marker": {
             "colorbar": {
              "outlinewidth": 0,
              "ticks": ""
             }
            },
            "type": "scattermap"
           }
          ],
          "scattermapbox": [
           {
            "marker": {
             "colorbar": {
              "outlinewidth": 0,
              "ticks": ""
             }
            },
            "type": "scattermapbox"
           }
          ],
          "scatterpolar": [
           {
            "marker": {
             "colorbar": {
              "outlinewidth": 0,
              "ticks": ""
             }
            },
            "type": "scatterpolar"
           }
          ],
          "scatterpolargl": [
           {
            "marker": {
             "colorbar": {
              "outlinewidth": 0,
              "ticks": ""
             }
            },
            "type": "scatterpolargl"
           }
          ],
          "scatterternary": [
           {
            "marker": {
             "colorbar": {
              "outlinewidth": 0,
              "ticks": ""
             }
            },
            "type": "scatterternary"
           }
          ],
          "surface": [
           {
            "colorbar": {
             "outlinewidth": 0,
             "ticks": ""
            },
            "colorscale": [
             [
              0,
              "#0d0887"
             ],
             [
              0.1111111111111111,
              "#46039f"
             ],
             [
              0.2222222222222222,
              "#7201a8"
             ],
             [
              0.3333333333333333,
              "#9c179e"
             ],
             [
              0.4444444444444444,
              "#bd3786"
             ],
             [
              0.5555555555555556,
              "#d8576b"
             ],
             [
              0.6666666666666666,
              "#ed7953"
             ],
             [
              0.7777777777777778,
              "#fb9f3a"
             ],
             [
              0.8888888888888888,
              "#fdca26"
             ],
             [
              1,
              "#f0f921"
             ]
            ],
            "type": "surface"
           }
          ],
          "table": [
           {
            "cells": {
             "fill": {
              "color": "#EBF0F8"
             },
             "line": {
              "color": "white"
             }
            },
            "header": {
             "fill": {
              "color": "#C8D4E3"
             },
             "line": {
              "color": "white"
             }
            },
            "type": "table"
           }
          ]
         },
         "layout": {
          "annotationdefaults": {
           "arrowcolor": "#2a3f5f",
           "arrowhead": 0,
           "arrowwidth": 1
          },
          "autotypenumbers": "strict",
          "coloraxis": {
           "colorbar": {
            "outlinewidth": 0,
            "ticks": ""
           }
          },
          "colorscale": {
           "diverging": [
            [
             0,
             "#8e0152"
            ],
            [
             0.1,
             "#c51b7d"
            ],
            [
             0.2,
             "#de77ae"
            ],
            [
             0.3,
             "#f1b6da"
            ],
            [
             0.4,
             "#fde0ef"
            ],
            [
             0.5,
             "#f7f7f7"
            ],
            [
             0.6,
             "#e6f5d0"
            ],
            [
             0.7,
             "#b8e186"
            ],
            [
             0.8,
             "#7fbc41"
            ],
            [
             0.9,
             "#4d9221"
            ],
            [
             1,
             "#276419"
            ]
           ],
           "sequential": [
            [
             0,
             "#0d0887"
            ],
            [
             0.1111111111111111,
             "#46039f"
            ],
            [
             0.2222222222222222,
             "#7201a8"
            ],
            [
             0.3333333333333333,
             "#9c179e"
            ],
            [
             0.4444444444444444,
             "#bd3786"
            ],
            [
             0.5555555555555556,
             "#d8576b"
            ],
            [
             0.6666666666666666,
             "#ed7953"
            ],
            [
             0.7777777777777778,
             "#fb9f3a"
            ],
            [
             0.8888888888888888,
             "#fdca26"
            ],
            [
             1,
             "#f0f921"
            ]
           ],
           "sequentialminus": [
            [
             0,
             "#0d0887"
            ],
            [
             0.1111111111111111,
             "#46039f"
            ],
            [
             0.2222222222222222,
             "#7201a8"
            ],
            [
             0.3333333333333333,
             "#9c179e"
            ],
            [
             0.4444444444444444,
             "#bd3786"
            ],
            [
             0.5555555555555556,
             "#d8576b"
            ],
            [
             0.6666666666666666,
             "#ed7953"
            ],
            [
             0.7777777777777778,
             "#fb9f3a"
            ],
            [
             0.8888888888888888,
             "#fdca26"
            ],
            [
             1,
             "#f0f921"
            ]
           ]
          },
          "colorway": [
           "#636efa",
           "#EF553B",
           "#00cc96",
           "#ab63fa",
           "#FFA15A",
           "#19d3f3",
           "#FF6692",
           "#B6E880",
           "#FF97FF",
           "#FECB52"
          ],
          "font": {
           "color": "#2a3f5f"
          },
          "geo": {
           "bgcolor": "white",
           "lakecolor": "white",
           "landcolor": "#E5ECF6",
           "showlakes": true,
           "showland": true,
           "subunitcolor": "white"
          },
          "hoverlabel": {
           "align": "left"
          },
          "hovermode": "closest",
          "mapbox": {
           "style": "light"
          },
          "paper_bgcolor": "white",
          "plot_bgcolor": "#E5ECF6",
          "polar": {
           "angularaxis": {
            "gridcolor": "white",
            "linecolor": "white",
            "ticks": ""
           },
           "bgcolor": "#E5ECF6",
           "radialaxis": {
            "gridcolor": "white",
            "linecolor": "white",
            "ticks": ""
           }
          },
          "scene": {
           "xaxis": {
            "backgroundcolor": "#E5ECF6",
            "gridcolor": "white",
            "gridwidth": 2,
            "linecolor": "white",
            "showbackground": true,
            "ticks": "",
            "zerolinecolor": "white"
           },
           "yaxis": {
            "backgroundcolor": "#E5ECF6",
            "gridcolor": "white",
            "gridwidth": 2,
            "linecolor": "white",
            "showbackground": true,
            "ticks": "",
            "zerolinecolor": "white"
           },
           "zaxis": {
            "backgroundcolor": "#E5ECF6",
            "gridcolor": "white",
            "gridwidth": 2,
            "linecolor": "white",
            "showbackground": true,
            "ticks": "",
            "zerolinecolor": "white"
           }
          },
          "shapedefaults": {
           "line": {
            "color": "#2a3f5f"
           }
          },
          "ternary": {
           "aaxis": {
            "gridcolor": "white",
            "linecolor": "white",
            "ticks": ""
           },
           "baxis": {
            "gridcolor": "white",
            "linecolor": "white",
            "ticks": ""
           },
           "bgcolor": "#E5ECF6",
           "caxis": {
            "gridcolor": "white",
            "linecolor": "white",
            "ticks": ""
           }
          },
          "title": {
           "x": 0.05
          },
          "xaxis": {
           "automargin": true,
           "gridcolor": "white",
           "linecolor": "white",
           "ticks": "",
           "title": {
            "standoff": 15
           },
           "zerolinecolor": "white",
           "zerolinewidth": 2
          },
          "yaxis": {
           "automargin": true,
           "gridcolor": "white",
           "linecolor": "white",
           "ticks": "",
           "title": {
            "standoff": 15
           },
           "zerolinecolor": "white",
           "zerolinewidth": 2
          }
         }
        },
        "title": {
         "font": {
          "family": "Arial",
          "size": 24,
          "weight": "bold"
         },
         "text": "Распределение пола"
        },
        "width": 800,
        "xaxis": {
         "anchor": "y",
         "domain": [
          0,
          1
         ],
         "gridcolor": "lightgray",
         "griddash": "dash",
         "gridwidth": 1,
         "linecolor": "black",
         "linewidth": 1,
         "showline": true,
         "showticklabels": true,
         "tickfont": {
          "size": 16
         },
         "title": {
          "font": {
           "family": "Arial",
           "size": 20
          },
          "text": "Пол"
         }
        },
        "yaxis": {
         "anchor": "x",
         "domain": [
          0,
          1
         ],
         "dtick": 100,
         "gridcolor": "lightgray",
         "griddash": "dash",
         "gridwidth": 1,
         "linecolor": "black",
         "linewidth": 1,
         "showline": true,
         "showticklabels": true,
         "tickfont": {
          "size": 16
         },
         "ticklen": 6,
         "tickmode": "linear",
         "ticks": "inside",
         "tickwidth": 2,
         "title": {
          "font": {
           "family": "Arial",
           "size": 20
          },
          "text": "Количество пользователей"
         }
        }
       }
      }
     },
     "metadata": {},
     "output_type": "display_data"
    }
   ],
   "source": [
    "sex_distrib = users.groupby(\"sex\").count()[\"user_id\"]\n",
    "fig_1 = px.bar(x=sex_distrib.index, y=sex_distrib, title=\"Распределение пола\")\n",
    "fig_1.update_layout(\n",
    "    width=800,  # ширина в пикселях\n",
    "    height=600,  # высота в пикселях\n",
    "    # autosize=False,  # отключаем авторазмер\n",
    "    xaxis_title=\"Пол\",\n",
    "    yaxis_title=\"Количество пользователей\",\n",
    "    # title_font=dict(size=24, family=\"Arial\", weight=\"bold\"),\n",
    ")\n",
    "fig_1 = configure_plotly_theme(fig_1)\n",
    "fig_1.update_traces(marker=dict(line=dict(width=2, color=\"black\")))\n",
    "fig_1.update_traces(\n",
    "    texttemplate=\"%{y}\",  # Формат текста (значение y)\n",
    "    textposition=\"outside\",  # Положение: 'outside', 'inside', 'auto', 'none'\n",
    "    textfont=dict(\n",
    "        size=18, family=\"Arial\", color=\"black\"\n",
    "    ),  # Размер шрифта  # Цвет текста\n",
    ")\n",
    "fig_1.update_layout(\n",
    "    xaxis=dict(\n",
    "        showticklabels=True,\n",
    "        # tickmode=\"linear\",\n",
    "        # ticks=\"outside\",  # Ticks снаружи: 'outside', 'inside', ''\n",
    "        # ticklen=6,  # Длина ticks\n",
    "        # tickwidth=2,  # Толщина ticks\n",
    "        # tickcolor=\"black\",  # Цвет ticks\n",
    "        # dtick=100,\n",
    "        # tickmode='array',  # Режим ручной установки\n",
    "        # tickvals=[0, 1, 2, 3],  # Позиции ticks\n",
    "        # ticktext=['Категория A', 'Категория B', 'Категория C', 'Категория D']  # Подписи\n",
    "    ),\n",
    "    yaxis=dict(\n",
    "        showticklabels=True,\n",
    "        tickmode=\"linear\",\n",
    "        dtick=100,\n",
    "        ticks=\"inside\",  # Ticks снаружи: 'outside', 'inside', ''\n",
    "        ticklen=6,  # Длина ticks\n",
    "        tickwidth=2,  # Толщина ticks\n",
    "        # tickmode=\"linear\",\n",
    "        # dtick=5\n",
    "    ),\n",
    ")\n",
    "fig_1.show()"
   ]
  },
  {
   "cell_type": "markdown",
   "id": "beb8097a-d1ed-491e-9b02-1634fed10ae6",
   "metadata": {},
   "source": [
    "- возраста (`hist`)"
   ]
  },
  {
   "cell_type": "code",
   "execution_count": 224,
   "id": "9efe06a8-3995-47d2-97a1-7512d7c4cded",
   "metadata": {},
   "outputs": [
    {
     "data": {
      "application/vnd.plotly.v1+json": {
       "config": {
        "plotlyServerURL": "https://plot.ly"
       },
       "data": [
        {
         "bingroup": "x",
         "hovertemplate": "variable=age<br>value=%{x}<br>count=%{y}<extra></extra>",
         "legendgroup": "age",
         "marker": {
          "color": "#636efa",
          "line": {
           "color": "black",
           "width": 1
          },
          "pattern": {
           "shape": ""
          }
         },
         "name": "age",
         "nbinsx": 70,
         "orientation": "v",
         "showlegend": true,
         "type": "histogram",
         "x": {
          "bdata": "GDUXGCEqOSQdNSccLy0xFR4jKCoaGR4VJzEoICkHGBwXJhQTFxwpJiEeHRodGzUtFxUcEhoWJRkQGzEyJBsfIDMXERMYGycwGCcYFB4aJyIVMiggMxovMSs8NyAwGh8ZKzEUJA8mGhsYPScsHRM5Hi8bHygUFSAvNiAwIh4cIRgkFDsYNR8XMzIuFB4xDSo1Hy0oISMUJiEZGSAZOTIXGzIZMS8ULyUwNDUwNzgeGhwUGg8WGiQhJTUnGiogHiEqHSYqMTcVHigbKRk0Lw4nKyEnQjEhGiMWFiUgHhMdEx8zHC4VHRwwLSY8JSwxKicXGiEhHBYTHBkZHRwqGiwXIxETFSgcEykkGj4XGB8SMyEyFCYVIyUhHg8WHCgZGxUiCygTIxgiHysdLB0aGCoTFhctGTwoJSAwKRQfKxZBJhMxFBUVMCkWMzAjIRQvIC0XJScjLhEZKx4cIhIYRCA9JRkdGSAaKBYzFiMUPx0UERIYNCQZGCQRHBYjLCAhLSo0JCQhHywqFzQTGSs5ESgZIS4eJR0WNB0XMB4iGTcYJxQbNyU1JhpAJBM3MxwbJhgWGxAYHhszFx4yFiMzFTkeFxcjECMSOTAYIS8WLA8TMDwgFh0cPBgKGB0zHhwXHR45SRIdGywnFjA3HSs5FiYdFRQaKhwWFjIoGy4SGxciFh0rGzU1GDEWPhMkMjgbHiESLx0eFCsULSYkHzUcExUhLBskMjMqEBktOiAdIx44RSAXNidBKBQYJyIaIjNEOCEwJB8gECURLBlFFBoSFTI5Eh8uGRQXKBYiEy8VJyEcMRYNFi4kJTYmNxsPERIRGTITGxcYDS4aEhIjJxYvHi0qFBgSJzMbESgrFCpBIx8bMjAaIR8aHDcaHhksIx0lHhU2Mw0iHhQyFCEsFyocICAfJRkjIiIrPBo3GRwsETMlGjMVFzgaFRMWFioaFSQYKiUxGDIaHxUZGToTHykcLBkdMB4jIxkZIx8jKhkTHCEcGDw4OyweGhsUIxEgGxsfKkYdJxwaMhQeLh4/Ih8xFBUeLyAkEjMdGx8oFiAeICwoMRkWI0YnGxspLTI3KBYOHiAiExw7FiUdGx8sHBccMC4VGCIaLCwkFyYnLSgjFkAbHS4PIhIuMR01KyM/EkYmGREbGS0YFR4WHxMwJBgpHjIhDScjMSweFA4pGCAzJBkvHxweFyA8Ji0cERstGSwyHCUzGywyGxYoGR4UHRUdEjEXFSwcPDocPSoYMCYaIBQwFg==",
          "dtype": "i1"
         },
         "xaxis": "x",
         "yaxis": "y"
        }
       ],
       "layout": {
        "barmode": "relative",
        "font": {
         "size": 14
        },
        "height": 600,
        "legend": {
         "title": {
          "text": "variable"
         },
         "tracegroupgap": 0
        },
        "paper_bgcolor": "white",
        "plot_bgcolor": "white",
        "showlegend": false,
        "template": {
         "data": {
          "bar": [
           {
            "error_x": {
             "color": "#2a3f5f"
            },
            "error_y": {
             "color": "#2a3f5f"
            },
            "marker": {
             "line": {
              "color": "#E5ECF6",
              "width": 0.5
             },
             "pattern": {
              "fillmode": "overlay",
              "size": 10,
              "solidity": 0.2
             }
            },
            "type": "bar"
           }
          ],
          "barpolar": [
           {
            "marker": {
             "line": {
              "color": "#E5ECF6",
              "width": 0.5
             },
             "pattern": {
              "fillmode": "overlay",
              "size": 10,
              "solidity": 0.2
             }
            },
            "type": "barpolar"
           }
          ],
          "carpet": [
           {
            "aaxis": {
             "endlinecolor": "#2a3f5f",
             "gridcolor": "white",
             "linecolor": "white",
             "minorgridcolor": "white",
             "startlinecolor": "#2a3f5f"
            },
            "baxis": {
             "endlinecolor": "#2a3f5f",
             "gridcolor": "white",
             "linecolor": "white",
             "minorgridcolor": "white",
             "startlinecolor": "#2a3f5f"
            },
            "type": "carpet"
           }
          ],
          "choropleth": [
           {
            "colorbar": {
             "outlinewidth": 0,
             "ticks": ""
            },
            "type": "choropleth"
           }
          ],
          "contour": [
           {
            "colorbar": {
             "outlinewidth": 0,
             "ticks": ""
            },
            "colorscale": [
             [
              0,
              "#0d0887"
             ],
             [
              0.1111111111111111,
              "#46039f"
             ],
             [
              0.2222222222222222,
              "#7201a8"
             ],
             [
              0.3333333333333333,
              "#9c179e"
             ],
             [
              0.4444444444444444,
              "#bd3786"
             ],
             [
              0.5555555555555556,
              "#d8576b"
             ],
             [
              0.6666666666666666,
              "#ed7953"
             ],
             [
              0.7777777777777778,
              "#fb9f3a"
             ],
             [
              0.8888888888888888,
              "#fdca26"
             ],
             [
              1,
              "#f0f921"
             ]
            ],
            "type": "contour"
           }
          ],
          "contourcarpet": [
           {
            "colorbar": {
             "outlinewidth": 0,
             "ticks": ""
            },
            "type": "contourcarpet"
           }
          ],
          "heatmap": [
           {
            "colorbar": {
             "outlinewidth": 0,
             "ticks": ""
            },
            "colorscale": [
             [
              0,
              "#0d0887"
             ],
             [
              0.1111111111111111,
              "#46039f"
             ],
             [
              0.2222222222222222,
              "#7201a8"
             ],
             [
              0.3333333333333333,
              "#9c179e"
             ],
             [
              0.4444444444444444,
              "#bd3786"
             ],
             [
              0.5555555555555556,
              "#d8576b"
             ],
             [
              0.6666666666666666,
              "#ed7953"
             ],
             [
              0.7777777777777778,
              "#fb9f3a"
             ],
             [
              0.8888888888888888,
              "#fdca26"
             ],
             [
              1,
              "#f0f921"
             ]
            ],
            "type": "heatmap"
           }
          ],
          "histogram": [
           {
            "marker": {
             "pattern": {
              "fillmode": "overlay",
              "size": 10,
              "solidity": 0.2
             }
            },
            "type": "histogram"
           }
          ],
          "histogram2d": [
           {
            "colorbar": {
             "outlinewidth": 0,
             "ticks": ""
            },
            "colorscale": [
             [
              0,
              "#0d0887"
             ],
             [
              0.1111111111111111,
              "#46039f"
             ],
             [
              0.2222222222222222,
              "#7201a8"
             ],
             [
              0.3333333333333333,
              "#9c179e"
             ],
             [
              0.4444444444444444,
              "#bd3786"
             ],
             [
              0.5555555555555556,
              "#d8576b"
             ],
             [
              0.6666666666666666,
              "#ed7953"
             ],
             [
              0.7777777777777778,
              "#fb9f3a"
             ],
             [
              0.8888888888888888,
              "#fdca26"
             ],
             [
              1,
              "#f0f921"
             ]
            ],
            "type": "histogram2d"
           }
          ],
          "histogram2dcontour": [
           {
            "colorbar": {
             "outlinewidth": 0,
             "ticks": ""
            },
            "colorscale": [
             [
              0,
              "#0d0887"
             ],
             [
              0.1111111111111111,
              "#46039f"
             ],
             [
              0.2222222222222222,
              "#7201a8"
             ],
             [
              0.3333333333333333,
              "#9c179e"
             ],
             [
              0.4444444444444444,
              "#bd3786"
             ],
             [
              0.5555555555555556,
              "#d8576b"
             ],
             [
              0.6666666666666666,
              "#ed7953"
             ],
             [
              0.7777777777777778,
              "#fb9f3a"
             ],
             [
              0.8888888888888888,
              "#fdca26"
             ],
             [
              1,
              "#f0f921"
             ]
            ],
            "type": "histogram2dcontour"
           }
          ],
          "mesh3d": [
           {
            "colorbar": {
             "outlinewidth": 0,
             "ticks": ""
            },
            "type": "mesh3d"
           }
          ],
          "parcoords": [
           {
            "line": {
             "colorbar": {
              "outlinewidth": 0,
              "ticks": ""
             }
            },
            "type": "parcoords"
           }
          ],
          "pie": [
           {
            "automargin": true,
            "type": "pie"
           }
          ],
          "scatter": [
           {
            "fillpattern": {
             "fillmode": "overlay",
             "size": 10,
             "solidity": 0.2
            },
            "type": "scatter"
           }
          ],
          "scatter3d": [
           {
            "line": {
             "colorbar": {
              "outlinewidth": 0,
              "ticks": ""
             }
            },
            "marker": {
             "colorbar": {
              "outlinewidth": 0,
              "ticks": ""
             }
            },
            "type": "scatter3d"
           }
          ],
          "scattercarpet": [
           {
            "marker": {
             "colorbar": {
              "outlinewidth": 0,
              "ticks": ""
             }
            },
            "type": "scattercarpet"
           }
          ],
          "scattergeo": [
           {
            "marker": {
             "colorbar": {
              "outlinewidth": 0,
              "ticks": ""
             }
            },
            "type": "scattergeo"
           }
          ],
          "scattergl": [
           {
            "marker": {
             "colorbar": {
              "outlinewidth": 0,
              "ticks": ""
             }
            },
            "type": "scattergl"
           }
          ],
          "scattermap": [
           {
            "marker": {
             "colorbar": {
              "outlinewidth": 0,
              "ticks": ""
             }
            },
            "type": "scattermap"
           }
          ],
          "scattermapbox": [
           {
            "marker": {
             "colorbar": {
              "outlinewidth": 0,
              "ticks": ""
             }
            },
            "type": "scattermapbox"
           }
          ],
          "scatterpolar": [
           {
            "marker": {
             "colorbar": {
              "outlinewidth": 0,
              "ticks": ""
             }
            },
            "type": "scatterpolar"
           }
          ],
          "scatterpolargl": [
           {
            "marker": {
             "colorbar": {
              "outlinewidth": 0,
              "ticks": ""
             }
            },
            "type": "scatterpolargl"
           }
          ],
          "scatterternary": [
           {
            "marker": {
             "colorbar": {
              "outlinewidth": 0,
              "ticks": ""
             }
            },
            "type": "scatterternary"
           }
          ],
          "surface": [
           {
            "colorbar": {
             "outlinewidth": 0,
             "ticks": ""
            },
            "colorscale": [
             [
              0,
              "#0d0887"
             ],
             [
              0.1111111111111111,
              "#46039f"
             ],
             [
              0.2222222222222222,
              "#7201a8"
             ],
             [
              0.3333333333333333,
              "#9c179e"
             ],
             [
              0.4444444444444444,
              "#bd3786"
             ],
             [
              0.5555555555555556,
              "#d8576b"
             ],
             [
              0.6666666666666666,
              "#ed7953"
             ],
             [
              0.7777777777777778,
              "#fb9f3a"
             ],
             [
              0.8888888888888888,
              "#fdca26"
             ],
             [
              1,
              "#f0f921"
             ]
            ],
            "type": "surface"
           }
          ],
          "table": [
           {
            "cells": {
             "fill": {
              "color": "#EBF0F8"
             },
             "line": {
              "color": "white"
             }
            },
            "header": {
             "fill": {
              "color": "#C8D4E3"
             },
             "line": {
              "color": "white"
             }
            },
            "type": "table"
           }
          ]
         },
         "layout": {
          "annotationdefaults": {
           "arrowcolor": "#2a3f5f",
           "arrowhead": 0,
           "arrowwidth": 1
          },
          "autotypenumbers": "strict",
          "coloraxis": {
           "colorbar": {
            "outlinewidth": 0,
            "ticks": ""
           }
          },
          "colorscale": {
           "diverging": [
            [
             0,
             "#8e0152"
            ],
            [
             0.1,
             "#c51b7d"
            ],
            [
             0.2,
             "#de77ae"
            ],
            [
             0.3,
             "#f1b6da"
            ],
            [
             0.4,
             "#fde0ef"
            ],
            [
             0.5,
             "#f7f7f7"
            ],
            [
             0.6,
             "#e6f5d0"
            ],
            [
             0.7,
             "#b8e186"
            ],
            [
             0.8,
             "#7fbc41"
            ],
            [
             0.9,
             "#4d9221"
            ],
            [
             1,
             "#276419"
            ]
           ],
           "sequential": [
            [
             0,
             "#0d0887"
            ],
            [
             0.1111111111111111,
             "#46039f"
            ],
            [
             0.2222222222222222,
             "#7201a8"
            ],
            [
             0.3333333333333333,
             "#9c179e"
            ],
            [
             0.4444444444444444,
             "#bd3786"
            ],
            [
             0.5555555555555556,
             "#d8576b"
            ],
            [
             0.6666666666666666,
             "#ed7953"
            ],
            [
             0.7777777777777778,
             "#fb9f3a"
            ],
            [
             0.8888888888888888,
             "#fdca26"
            ],
            [
             1,
             "#f0f921"
            ]
           ],
           "sequentialminus": [
            [
             0,
             "#0d0887"
            ],
            [
             0.1111111111111111,
             "#46039f"
            ],
            [
             0.2222222222222222,
             "#7201a8"
            ],
            [
             0.3333333333333333,
             "#9c179e"
            ],
            [
             0.4444444444444444,
             "#bd3786"
            ],
            [
             0.5555555555555556,
             "#d8576b"
            ],
            [
             0.6666666666666666,
             "#ed7953"
            ],
            [
             0.7777777777777778,
             "#fb9f3a"
            ],
            [
             0.8888888888888888,
             "#fdca26"
            ],
            [
             1,
             "#f0f921"
            ]
           ]
          },
          "colorway": [
           "#636efa",
           "#EF553B",
           "#00cc96",
           "#ab63fa",
           "#FFA15A",
           "#19d3f3",
           "#FF6692",
           "#B6E880",
           "#FF97FF",
           "#FECB52"
          ],
          "font": {
           "color": "#2a3f5f"
          },
          "geo": {
           "bgcolor": "white",
           "lakecolor": "white",
           "landcolor": "#E5ECF6",
           "showlakes": true,
           "showland": true,
           "subunitcolor": "white"
          },
          "hoverlabel": {
           "align": "left"
          },
          "hovermode": "closest",
          "mapbox": {
           "style": "light"
          },
          "paper_bgcolor": "white",
          "plot_bgcolor": "#E5ECF6",
          "polar": {
           "angularaxis": {
            "gridcolor": "white",
            "linecolor": "white",
            "ticks": ""
           },
           "bgcolor": "#E5ECF6",
           "radialaxis": {
            "gridcolor": "white",
            "linecolor": "white",
            "ticks": ""
           }
          },
          "scene": {
           "xaxis": {
            "backgroundcolor": "#E5ECF6",
            "gridcolor": "white",
            "gridwidth": 2,
            "linecolor": "white",
            "showbackground": true,
            "ticks": "",
            "zerolinecolor": "white"
           },
           "yaxis": {
            "backgroundcolor": "#E5ECF6",
            "gridcolor": "white",
            "gridwidth": 2,
            "linecolor": "white",
            "showbackground": true,
            "ticks": "",
            "zerolinecolor": "white"
           },
           "zaxis": {
            "backgroundcolor": "#E5ECF6",
            "gridcolor": "white",
            "gridwidth": 2,
            "linecolor": "white",
            "showbackground": true,
            "ticks": "",
            "zerolinecolor": "white"
           }
          },
          "shapedefaults": {
           "line": {
            "color": "#2a3f5f"
           }
          },
          "ternary": {
           "aaxis": {
            "gridcolor": "white",
            "linecolor": "white",
            "ticks": ""
           },
           "baxis": {
            "gridcolor": "white",
            "linecolor": "white",
            "ticks": ""
           },
           "bgcolor": "#E5ECF6",
           "caxis": {
            "gridcolor": "white",
            "linecolor": "white",
            "ticks": ""
           }
          },
          "title": {
           "x": 0.05
          },
          "xaxis": {
           "automargin": true,
           "gridcolor": "white",
           "linecolor": "white",
           "ticks": "",
           "title": {
            "standoff": 15
           },
           "zerolinecolor": "white",
           "zerolinewidth": 2
          },
          "yaxis": {
           "automargin": true,
           "gridcolor": "white",
           "linecolor": "white",
           "ticks": "",
           "title": {
            "standoff": 15
           },
           "zerolinecolor": "white",
           "zerolinewidth": 2
          }
         }
        },
        "title": {
         "font": {
          "family": "Arial",
          "size": 24,
          "weight": "bold"
         },
         "text": "Распределение возраста"
        },
        "width": 800,
        "xaxis": {
         "anchor": "y",
         "domain": [
          0,
          1
         ],
         "dtick": 10,
         "gridcolor": "lightgray",
         "griddash": "dash",
         "gridwidth": 1,
         "linecolor": "black",
         "linewidth": 1,
         "showline": true,
         "showticklabels": true,
         "tickcolor": "black",
         "tickfont": {
          "size": 16
         },
         "ticklen": 6,
         "tickmode": "linear",
         "ticks": "outside",
         "tickwidth": 2,
         "title": {
          "font": {
           "family": "Arial",
           "size": 20
          },
          "text": "Возраст"
         }
        },
        "yaxis": {
         "anchor": "x",
         "domain": [
          0,
          1
         ],
         "dtick": 5,
         "gridcolor": "lightgray",
         "griddash": "dash",
         "gridwidth": 1,
         "linecolor": "black",
         "linewidth": 1,
         "showline": true,
         "showticklabels": true,
         "tickfont": {
          "size": 16
         },
         "ticklen": 6,
         "tickmode": "linear",
         "ticks": "outside",
         "tickwidth": 2,
         "title": {
          "font": {
           "family": "Arial",
           "size": 20
          },
          "text": "Количество пользователей"
         }
        }
       }
      }
     },
     "metadata": {},
     "output_type": "display_data"
    }
   ],
   "source": [
    "fig_2 = px.histogram(users[\"age\"].astype(int), nbins=70, title=\"Распределение возраста\")\n",
    "fig_2.update_layout(\n",
    "    width=800,  # ширина в пикселях\n",
    "    height=600,  # высота в пикселях\n",
    "    # autosize=False,  # отключаем авторазмер\n",
    "    xaxis_title=\"Возраст\",\n",
    "    yaxis_title=\"Количество пользователей\",\n",
    "    # title_font=dict(size=24, family=\"Arial\", weight=\"bold\"),\n",
    "    showlegend=False,\n",
    ")\n",
    "fig_2.update_layout(\n",
    "    xaxis=dict(\n",
    "        showticklabels=True,\n",
    "        tickmode=\"linear\",\n",
    "        ticks=\"outside\",  # Ticks снаружи: 'outside', 'inside', ''\n",
    "        ticklen=6,  # Длина ticks\n",
    "        tickwidth=2,  # Толщина ticks\n",
    "        tickcolor=\"black\",  # Цвет ticks\n",
    "        dtick=10,\n",
    "        # tickmode='array',  # Режим ручной установки\n",
    "        # tickvals=[0, 1, 2, 3],  # Позиции ticks\n",
    "        # ticktext=['Категория A', 'Категория B', 'Категория C', 'Категория D']  # Подписи\n",
    "    ),\n",
    "    yaxis=dict(\n",
    "        showticklabels=True,\n",
    "        tickmode=\"linear\",\n",
    "        dtick=5,\n",
    "        ticks=\"outside\",  # Ticks снаружи: 'outside', 'inside', ''\n",
    "        ticklen=6,  # Длина ticks\n",
    "        tickwidth=2,  # Толщина ticks\n",
    "        # tickmode=\"linear\",\n",
    "        # dtick=5\n",
    "    ),\n",
    ")\n",
    "fig_2 = configure_plotly_theme(fig_2)\n",
    "fig_2.update_traces(marker=dict(line=dict(width=1, color=\"black\")))\n",
    "fig_2.show()"
   ]
  },
  {
   "cell_type": "markdown",
   "id": "fea08558-0e7d-4cee-ac99-aa17b48eb0b2",
   "metadata": {},
   "source": [
    "- профессии (`barplot`)"
   ]
  },
  {
   "cell_type": "code",
   "execution_count": 147,
   "id": "e47309c1-d100-4796-9896-5babc2f5abd2",
   "metadata": {},
   "outputs": [
    {
     "data": {
      "application/vnd.plotly.v1+json": {
       "config": {
        "plotlyServerURL": "https://plot.ly"
       },
       "data": [
        {
         "hovertemplate": "x=%{x}<br>y=%{y}<extra></extra>",
         "legendgroup": "",
         "marker": {
          "color": "#636efa",
          "line": {
           "color": "black",
           "width": 1.5
          },
          "pattern": {
           "shape": ""
          }
         },
         "name": "",
         "orientation": "v",
         "showlegend": false,
         "textfont": {
          "color": "black",
          "family": "Arial",
          "size": 14
         },
         "textposition": "outside",
         "texttemplate": "%{y}",
         "type": "bar",
         "x": [
          "student",
          "other",
          "educator",
          "administrator",
          "engineer",
          "programmer",
          "librarian",
          "writer",
          "executive",
          "scientist",
          "artist",
          "technician",
          "marketing",
          "entertainment",
          "healthcare",
          "retired",
          "lawyer",
          "salesman",
          "none",
          "doctor",
          "homemaker"
         ],
         "xaxis": "x",
         "y": {
          "bdata": "xABpAF8ATwBDAEIAMwAtACAAHwAcABsAGgASABAADgAMAAwACQAHAAcA",
          "dtype": "i2"
         },
         "yaxis": "y"
        }
       ],
       "layout": {
        "barmode": "relative",
        "font": {
         "size": 14
        },
        "height": 600,
        "legend": {
         "tracegroupgap": 0
        },
        "paper_bgcolor": "white",
        "plot_bgcolor": "white",
        "template": {
         "data": {
          "bar": [
           {
            "error_x": {
             "color": "#2a3f5f"
            },
            "error_y": {
             "color": "#2a3f5f"
            },
            "marker": {
             "line": {
              "color": "#E5ECF6",
              "width": 0.5
             },
             "pattern": {
              "fillmode": "overlay",
              "size": 10,
              "solidity": 0.2
             }
            },
            "type": "bar"
           }
          ],
          "barpolar": [
           {
            "marker": {
             "line": {
              "color": "#E5ECF6",
              "width": 0.5
             },
             "pattern": {
              "fillmode": "overlay",
              "size": 10,
              "solidity": 0.2
             }
            },
            "type": "barpolar"
           }
          ],
          "carpet": [
           {
            "aaxis": {
             "endlinecolor": "#2a3f5f",
             "gridcolor": "white",
             "linecolor": "white",
             "minorgridcolor": "white",
             "startlinecolor": "#2a3f5f"
            },
            "baxis": {
             "endlinecolor": "#2a3f5f",
             "gridcolor": "white",
             "linecolor": "white",
             "minorgridcolor": "white",
             "startlinecolor": "#2a3f5f"
            },
            "type": "carpet"
           }
          ],
          "choropleth": [
           {
            "colorbar": {
             "outlinewidth": 0,
             "ticks": ""
            },
            "type": "choropleth"
           }
          ],
          "contour": [
           {
            "colorbar": {
             "outlinewidth": 0,
             "ticks": ""
            },
            "colorscale": [
             [
              0,
              "#0d0887"
             ],
             [
              0.1111111111111111,
              "#46039f"
             ],
             [
              0.2222222222222222,
              "#7201a8"
             ],
             [
              0.3333333333333333,
              "#9c179e"
             ],
             [
              0.4444444444444444,
              "#bd3786"
             ],
             [
              0.5555555555555556,
              "#d8576b"
             ],
             [
              0.6666666666666666,
              "#ed7953"
             ],
             [
              0.7777777777777778,
              "#fb9f3a"
             ],
             [
              0.8888888888888888,
              "#fdca26"
             ],
             [
              1,
              "#f0f921"
             ]
            ],
            "type": "contour"
           }
          ],
          "contourcarpet": [
           {
            "colorbar": {
             "outlinewidth": 0,
             "ticks": ""
            },
            "type": "contourcarpet"
           }
          ],
          "heatmap": [
           {
            "colorbar": {
             "outlinewidth": 0,
             "ticks": ""
            },
            "colorscale": [
             [
              0,
              "#0d0887"
             ],
             [
              0.1111111111111111,
              "#46039f"
             ],
             [
              0.2222222222222222,
              "#7201a8"
             ],
             [
              0.3333333333333333,
              "#9c179e"
             ],
             [
              0.4444444444444444,
              "#bd3786"
             ],
             [
              0.5555555555555556,
              "#d8576b"
             ],
             [
              0.6666666666666666,
              "#ed7953"
             ],
             [
              0.7777777777777778,
              "#fb9f3a"
             ],
             [
              0.8888888888888888,
              "#fdca26"
             ],
             [
              1,
              "#f0f921"
             ]
            ],
            "type": "heatmap"
           }
          ],
          "histogram": [
           {
            "marker": {
             "pattern": {
              "fillmode": "overlay",
              "size": 10,
              "solidity": 0.2
             }
            },
            "type": "histogram"
           }
          ],
          "histogram2d": [
           {
            "colorbar": {
             "outlinewidth": 0,
             "ticks": ""
            },
            "colorscale": [
             [
              0,
              "#0d0887"
             ],
             [
              0.1111111111111111,
              "#46039f"
             ],
             [
              0.2222222222222222,
              "#7201a8"
             ],
             [
              0.3333333333333333,
              "#9c179e"
             ],
             [
              0.4444444444444444,
              "#bd3786"
             ],
             [
              0.5555555555555556,
              "#d8576b"
             ],
             [
              0.6666666666666666,
              "#ed7953"
             ],
             [
              0.7777777777777778,
              "#fb9f3a"
             ],
             [
              0.8888888888888888,
              "#fdca26"
             ],
             [
              1,
              "#f0f921"
             ]
            ],
            "type": "histogram2d"
           }
          ],
          "histogram2dcontour": [
           {
            "colorbar": {
             "outlinewidth": 0,
             "ticks": ""
            },
            "colorscale": [
             [
              0,
              "#0d0887"
             ],
             [
              0.1111111111111111,
              "#46039f"
             ],
             [
              0.2222222222222222,
              "#7201a8"
             ],
             [
              0.3333333333333333,
              "#9c179e"
             ],
             [
              0.4444444444444444,
              "#bd3786"
             ],
             [
              0.5555555555555556,
              "#d8576b"
             ],
             [
              0.6666666666666666,
              "#ed7953"
             ],
             [
              0.7777777777777778,
              "#fb9f3a"
             ],
             [
              0.8888888888888888,
              "#fdca26"
             ],
             [
              1,
              "#f0f921"
             ]
            ],
            "type": "histogram2dcontour"
           }
          ],
          "mesh3d": [
           {
            "colorbar": {
             "outlinewidth": 0,
             "ticks": ""
            },
            "type": "mesh3d"
           }
          ],
          "parcoords": [
           {
            "line": {
             "colorbar": {
              "outlinewidth": 0,
              "ticks": ""
             }
            },
            "type": "parcoords"
           }
          ],
          "pie": [
           {
            "automargin": true,
            "type": "pie"
           }
          ],
          "scatter": [
           {
            "fillpattern": {
             "fillmode": "overlay",
             "size": 10,
             "solidity": 0.2
            },
            "type": "scatter"
           }
          ],
          "scatter3d": [
           {
            "line": {
             "colorbar": {
              "outlinewidth": 0,
              "ticks": ""
             }
            },
            "marker": {
             "colorbar": {
              "outlinewidth": 0,
              "ticks": ""
             }
            },
            "type": "scatter3d"
           }
          ],
          "scattercarpet": [
           {
            "marker": {
             "colorbar": {
              "outlinewidth": 0,
              "ticks": ""
             }
            },
            "type": "scattercarpet"
           }
          ],
          "scattergeo": [
           {
            "marker": {
             "colorbar": {
              "outlinewidth": 0,
              "ticks": ""
             }
            },
            "type": "scattergeo"
           }
          ],
          "scattergl": [
           {
            "marker": {
             "colorbar": {
              "outlinewidth": 0,
              "ticks": ""
             }
            },
            "type": "scattergl"
           }
          ],
          "scattermap": [
           {
            "marker": {
             "colorbar": {
              "outlinewidth": 0,
              "ticks": ""
             }
            },
            "type": "scattermap"
           }
          ],
          "scattermapbox": [
           {
            "marker": {
             "colorbar": {
              "outlinewidth": 0,
              "ticks": ""
             }
            },
            "type": "scattermapbox"
           }
          ],
          "scatterpolar": [
           {
            "marker": {
             "colorbar": {
              "outlinewidth": 0,
              "ticks": ""
             }
            },
            "type": "scatterpolar"
           }
          ],
          "scatterpolargl": [
           {
            "marker": {
             "colorbar": {
              "outlinewidth": 0,
              "ticks": ""
             }
            },
            "type": "scatterpolargl"
           }
          ],
          "scatterternary": [
           {
            "marker": {
             "colorbar": {
              "outlinewidth": 0,
              "ticks": ""
             }
            },
            "type": "scatterternary"
           }
          ],
          "surface": [
           {
            "colorbar": {
             "outlinewidth": 0,
             "ticks": ""
            },
            "colorscale": [
             [
              0,
              "#0d0887"
             ],
             [
              0.1111111111111111,
              "#46039f"
             ],
             [
              0.2222222222222222,
              "#7201a8"
             ],
             [
              0.3333333333333333,
              "#9c179e"
             ],
             [
              0.4444444444444444,
              "#bd3786"
             ],
             [
              0.5555555555555556,
              "#d8576b"
             ],
             [
              0.6666666666666666,
              "#ed7953"
             ],
             [
              0.7777777777777778,
              "#fb9f3a"
             ],
             [
              0.8888888888888888,
              "#fdca26"
             ],
             [
              1,
              "#f0f921"
             ]
            ],
            "type": "surface"
           }
          ],
          "table": [
           {
            "cells": {
             "fill": {
              "color": "#EBF0F8"
             },
             "line": {
              "color": "white"
             }
            },
            "header": {
             "fill": {
              "color": "#C8D4E3"
             },
             "line": {
              "color": "white"
             }
            },
            "type": "table"
           }
          ]
         },
         "layout": {
          "annotationdefaults": {
           "arrowcolor": "#2a3f5f",
           "arrowhead": 0,
           "arrowwidth": 1
          },
          "autotypenumbers": "strict",
          "coloraxis": {
           "colorbar": {
            "outlinewidth": 0,
            "ticks": ""
           }
          },
          "colorscale": {
           "diverging": [
            [
             0,
             "#8e0152"
            ],
            [
             0.1,
             "#c51b7d"
            ],
            [
             0.2,
             "#de77ae"
            ],
            [
             0.3,
             "#f1b6da"
            ],
            [
             0.4,
             "#fde0ef"
            ],
            [
             0.5,
             "#f7f7f7"
            ],
            [
             0.6,
             "#e6f5d0"
            ],
            [
             0.7,
             "#b8e186"
            ],
            [
             0.8,
             "#7fbc41"
            ],
            [
             0.9,
             "#4d9221"
            ],
            [
             1,
             "#276419"
            ]
           ],
           "sequential": [
            [
             0,
             "#0d0887"
            ],
            [
             0.1111111111111111,
             "#46039f"
            ],
            [
             0.2222222222222222,
             "#7201a8"
            ],
            [
             0.3333333333333333,
             "#9c179e"
            ],
            [
             0.4444444444444444,
             "#bd3786"
            ],
            [
             0.5555555555555556,
             "#d8576b"
            ],
            [
             0.6666666666666666,
             "#ed7953"
            ],
            [
             0.7777777777777778,
             "#fb9f3a"
            ],
            [
             0.8888888888888888,
             "#fdca26"
            ],
            [
             1,
             "#f0f921"
            ]
           ],
           "sequentialminus": [
            [
             0,
             "#0d0887"
            ],
            [
             0.1111111111111111,
             "#46039f"
            ],
            [
             0.2222222222222222,
             "#7201a8"
            ],
            [
             0.3333333333333333,
             "#9c179e"
            ],
            [
             0.4444444444444444,
             "#bd3786"
            ],
            [
             0.5555555555555556,
             "#d8576b"
            ],
            [
             0.6666666666666666,
             "#ed7953"
            ],
            [
             0.7777777777777778,
             "#fb9f3a"
            ],
            [
             0.8888888888888888,
             "#fdca26"
            ],
            [
             1,
             "#f0f921"
            ]
           ]
          },
          "colorway": [
           "#636efa",
           "#EF553B",
           "#00cc96",
           "#ab63fa",
           "#FFA15A",
           "#19d3f3",
           "#FF6692",
           "#B6E880",
           "#FF97FF",
           "#FECB52"
          ],
          "font": {
           "color": "#2a3f5f"
          },
          "geo": {
           "bgcolor": "white",
           "lakecolor": "white",
           "landcolor": "#E5ECF6",
           "showlakes": true,
           "showland": true,
           "subunitcolor": "white"
          },
          "hoverlabel": {
           "align": "left"
          },
          "hovermode": "closest",
          "mapbox": {
           "style": "light"
          },
          "paper_bgcolor": "white",
          "plot_bgcolor": "#E5ECF6",
          "polar": {
           "angularaxis": {
            "gridcolor": "white",
            "linecolor": "white",
            "ticks": ""
           },
           "bgcolor": "#E5ECF6",
           "radialaxis": {
            "gridcolor": "white",
            "linecolor": "white",
            "ticks": ""
           }
          },
          "scene": {
           "xaxis": {
            "backgroundcolor": "#E5ECF6",
            "gridcolor": "white",
            "gridwidth": 2,
            "linecolor": "white",
            "showbackground": true,
            "ticks": "",
            "zerolinecolor": "white"
           },
           "yaxis": {
            "backgroundcolor": "#E5ECF6",
            "gridcolor": "white",
            "gridwidth": 2,
            "linecolor": "white",
            "showbackground": true,
            "ticks": "",
            "zerolinecolor": "white"
           },
           "zaxis": {
            "backgroundcolor": "#E5ECF6",
            "gridcolor": "white",
            "gridwidth": 2,
            "linecolor": "white",
            "showbackground": true,
            "ticks": "",
            "zerolinecolor": "white"
           }
          },
          "shapedefaults": {
           "line": {
            "color": "#2a3f5f"
           }
          },
          "ternary": {
           "aaxis": {
            "gridcolor": "white",
            "linecolor": "white",
            "ticks": ""
           },
           "baxis": {
            "gridcolor": "white",
            "linecolor": "white",
            "ticks": ""
           },
           "bgcolor": "#E5ECF6",
           "caxis": {
            "gridcolor": "white",
            "linecolor": "white",
            "ticks": ""
           }
          },
          "title": {
           "x": 0.05
          },
          "xaxis": {
           "automargin": true,
           "gridcolor": "white",
           "linecolor": "white",
           "ticks": "",
           "title": {
            "standoff": 15
           },
           "zerolinecolor": "white",
           "zerolinewidth": 2
          },
          "yaxis": {
           "automargin": true,
           "gridcolor": "white",
           "linecolor": "white",
           "ticks": "",
           "title": {
            "standoff": 15
           },
           "zerolinecolor": "white",
           "zerolinewidth": 2
          }
         }
        },
        "title": {
         "font": {
          "family": "Arial",
          "size": 24,
          "weight": "bold"
         },
         "text": "Распределение профессий"
        },
        "width": 800,
        "xaxis": {
         "anchor": "y",
         "domain": [
          0,
          1
         ],
         "gridcolor": "lightgray",
         "griddash": "dash",
         "gridwidth": 1,
         "linecolor": "black",
         "linewidth": 1,
         "showline": true,
         "showticklabels": true,
         "tickangle": -45,
         "tickfont": {
          "size": 16
         },
         "title": {
          "font": {
           "family": "Arial",
           "size": 20
          },
          "text": "Профессия"
         }
        },
        "yaxis": {
         "anchor": "x",
         "domain": [
          0,
          1
         ],
         "dtick": 50,
         "gridcolor": "lightgray",
         "griddash": "dash",
         "gridwidth": 1,
         "linecolor": "black",
         "linewidth": 1,
         "showline": true,
         "showticklabels": true,
         "tickfont": {
          "size": 16
         },
         "ticklen": 6,
         "tickmode": "linear",
         "ticks": "outside",
         "tickwidth": 2,
         "title": {
          "font": {
           "family": "Arial",
           "size": 20
          },
          "text": "Количество пользователей"
         }
        }
       }
      }
     },
     "metadata": {},
     "output_type": "display_data"
    }
   ],
   "source": [
    "occupations_distrib = users.groupby(\"occupation\").count()[\"user_id\"]\n",
    "occupations_distrib = occupations_distrib.sort_values(ascending=False)\n",
    "fig_3 = px.bar(\n",
    "    x=occupations_distrib.index, y=occupations_distrib, title=\"Распределение профессий\"\n",
    ")\n",
    "fig_3.update_layout(\n",
    "    width=800,  # ширина в пикселях\n",
    "    height=600,  # высота в пикселях\n",
    "    # autosize=False,  # отключаем авторазмер\n",
    "    xaxis_title=\"Профессия\",\n",
    "    yaxis_title=\"Количество пользователей\",\n",
    "    # title_font=dict(size=24, family=\"Arial\", weight=\"bold\"),\n",
    ")\n",
    "fig_3.update_traces(\n",
    "    marker=dict(line=dict(width=1.5, color=\"black\"))  # Толщина рамки  # Цвет рамки\n",
    ")\n",
    "fig_3.update_layout(\n",
    "    xaxis=dict(tickangle=-45)  # Поворот на 45 градусов против часовой стрелки\n",
    ")\n",
    "fig_3.update_traces(\n",
    "    texttemplate=\"%{y}\",  # Формат текста (значение y)\n",
    "    textposition=\"outside\",  # Положение: 'outside', 'inside', 'auto', 'none'\n",
    "    textfont=dict(\n",
    "        size=14, family=\"Arial\", color=\"black\"\n",
    "    ),  # Размер шрифта  # Цвет текста\n",
    ")\n",
    "fig_3.update_layout(\n",
    "    xaxis=dict(\n",
    "        showticklabels=True,\n",
    "        # tickmode=\"linear\",\n",
    "        # ticks=\"outside\",  # Ticks снаружи: 'outside', 'inside', ''\n",
    "        # ticklen=6,  # Длина ticks\n",
    "        # tickwidth=2,  # Толщина ticks\n",
    "        # tickcolor=\"black\",  # Цвет ticks\n",
    "        # dtick=10,\n",
    "        # tickmode='array',  # Режим ручной установки\n",
    "        # tickvals=[0, 1, 2, 3],  # Позиции ticks\n",
    "        # ticktext=['Категория A', 'Категория B', 'Категория C', 'Категория D']  # Подписи\n",
    "    ),\n",
    "    yaxis=dict(\n",
    "        showticklabels=True,\n",
    "        tickmode=\"linear\",\n",
    "        dtick=50,\n",
    "        ticks=\"outside\",  # Ticks снаружи: 'outside', 'inside', ''\n",
    "        ticklen=6,  # Длина ticks\n",
    "        tickwidth=2,  # Толщина ticks\n",
    "        # tickmode=\"linear\",\n",
    "        # dtick=5\n",
    "    ),\n",
    ")\n",
    "fig_3 = configure_plotly_theme(fig_3)\n",
    "fig_3.show()"
   ]
  },
  {
   "cell_type": "markdown",
   "id": "e30a4995-b443-443a-9f10-ce44858eb4b9",
   "metadata": {},
   "source": [
    "### Фильмы 🎥\n",
    "\n",
    "Визуализируй следующие распределения: \n",
    "\n",
    "- количество фильмов каждого жанра (у нас есть много жанров фильмов: сколько фильмов у каждого жанра?)"
   ]
  },
  {
   "cell_type": "code",
   "execution_count": null,
   "id": "1b1f8cab",
   "metadata": {},
   "outputs": [
    {
     "data": {
      "text/html": [
       "<div>\n",
       "<style scoped>\n",
       "    .dataframe tbody tr th:only-of-type {\n",
       "        vertical-align: middle;\n",
       "    }\n",
       "\n",
       "    .dataframe tbody tr th {\n",
       "        vertical-align: top;\n",
       "    }\n",
       "\n",
       "    .dataframe thead th {\n",
       "        text-align: right;\n",
       "    }\n",
       "</style>\n",
       "<table border=\"1\" class=\"dataframe\">\n",
       "  <thead>\n",
       "    <tr style=\"text-align: right;\">\n",
       "      <th></th>\n",
       "      <th>movie_id</th>\n",
       "      <th>title</th>\n",
       "      <th>release_date</th>\n",
       "      <th>imdb_url</th>\n",
       "      <th>Action</th>\n",
       "      <th>Adventure</th>\n",
       "      <th>Animation</th>\n",
       "      <th>Children's</th>\n",
       "      <th>Comedy</th>\n",
       "      <th>Crime</th>\n",
       "      <th>...</th>\n",
       "      <th>Fantasy</th>\n",
       "      <th>Film-Noir</th>\n",
       "      <th>Horror</th>\n",
       "      <th>Musical</th>\n",
       "      <th>Mystery</th>\n",
       "      <th>Romance</th>\n",
       "      <th>Sci-Fi</th>\n",
       "      <th>Thriller</th>\n",
       "      <th>War</th>\n",
       "      <th>Western</th>\n",
       "    </tr>\n",
       "  </thead>\n",
       "  <tbody>\n",
       "    <tr>\n",
       "      <th>0</th>\n",
       "      <td>1</td>\n",
       "      <td>Toy Story (1995)</td>\n",
       "      <td>01-Jan-1995</td>\n",
       "      <td>http://us.imdb.com/M/title-exact?Toy%20Story%2...</td>\n",
       "      <td>0</td>\n",
       "      <td>0</td>\n",
       "      <td>1</td>\n",
       "      <td>1</td>\n",
       "      <td>1</td>\n",
       "      <td>0</td>\n",
       "      <td>...</td>\n",
       "      <td>0</td>\n",
       "      <td>0</td>\n",
       "      <td>0</td>\n",
       "      <td>0</td>\n",
       "      <td>0</td>\n",
       "      <td>0</td>\n",
       "      <td>0</td>\n",
       "      <td>0</td>\n",
       "      <td>0</td>\n",
       "      <td>0</td>\n",
       "    </tr>\n",
       "    <tr>\n",
       "      <th>1</th>\n",
       "      <td>2</td>\n",
       "      <td>GoldenEye (1995)</td>\n",
       "      <td>01-Jan-1995</td>\n",
       "      <td>http://us.imdb.com/M/title-exact?GoldenEye%20(...</td>\n",
       "      <td>1</td>\n",
       "      <td>1</td>\n",
       "      <td>0</td>\n",
       "      <td>0</td>\n",
       "      <td>0</td>\n",
       "      <td>0</td>\n",
       "      <td>...</td>\n",
       "      <td>0</td>\n",
       "      <td>0</td>\n",
       "      <td>0</td>\n",
       "      <td>0</td>\n",
       "      <td>0</td>\n",
       "      <td>0</td>\n",
       "      <td>0</td>\n",
       "      <td>1</td>\n",
       "      <td>0</td>\n",
       "      <td>0</td>\n",
       "    </tr>\n",
       "    <tr>\n",
       "      <th>2</th>\n",
       "      <td>3</td>\n",
       "      <td>Four Rooms (1995)</td>\n",
       "      <td>01-Jan-1995</td>\n",
       "      <td>http://us.imdb.com/M/title-exact?Four%20Rooms%...</td>\n",
       "      <td>0</td>\n",
       "      <td>0</td>\n",
       "      <td>0</td>\n",
       "      <td>0</td>\n",
       "      <td>0</td>\n",
       "      <td>0</td>\n",
       "      <td>...</td>\n",
       "      <td>0</td>\n",
       "      <td>0</td>\n",
       "      <td>0</td>\n",
       "      <td>0</td>\n",
       "      <td>0</td>\n",
       "      <td>0</td>\n",
       "      <td>0</td>\n",
       "      <td>1</td>\n",
       "      <td>0</td>\n",
       "      <td>0</td>\n",
       "    </tr>\n",
       "    <tr>\n",
       "      <th>3</th>\n",
       "      <td>4</td>\n",
       "      <td>Get Shorty (1995)</td>\n",
       "      <td>01-Jan-1995</td>\n",
       "      <td>http://us.imdb.com/M/title-exact?Get%20Shorty%...</td>\n",
       "      <td>1</td>\n",
       "      <td>0</td>\n",
       "      <td>0</td>\n",
       "      <td>0</td>\n",
       "      <td>1</td>\n",
       "      <td>0</td>\n",
       "      <td>...</td>\n",
       "      <td>0</td>\n",
       "      <td>0</td>\n",
       "      <td>0</td>\n",
       "      <td>0</td>\n",
       "      <td>0</td>\n",
       "      <td>0</td>\n",
       "      <td>0</td>\n",
       "      <td>0</td>\n",
       "      <td>0</td>\n",
       "      <td>0</td>\n",
       "    </tr>\n",
       "    <tr>\n",
       "      <th>4</th>\n",
       "      <td>5</td>\n",
       "      <td>Copycat (1995)</td>\n",
       "      <td>01-Jan-1995</td>\n",
       "      <td>http://us.imdb.com/M/title-exact?Copycat%20(1995)</td>\n",
       "      <td>0</td>\n",
       "      <td>0</td>\n",
       "      <td>0</td>\n",
       "      <td>0</td>\n",
       "      <td>0</td>\n",
       "      <td>1</td>\n",
       "      <td>...</td>\n",
       "      <td>0</td>\n",
       "      <td>0</td>\n",
       "      <td>0</td>\n",
       "      <td>0</td>\n",
       "      <td>0</td>\n",
       "      <td>0</td>\n",
       "      <td>0</td>\n",
       "      <td>1</td>\n",
       "      <td>0</td>\n",
       "      <td>0</td>\n",
       "    </tr>\n",
       "  </tbody>\n",
       "</table>\n",
       "<p>5 rows × 22 columns</p>\n",
       "</div>"
      ],
      "text/plain": [
       "   movie_id              title release_date  \\\n",
       "0         1   Toy Story (1995)  01-Jan-1995   \n",
       "1         2   GoldenEye (1995)  01-Jan-1995   \n",
       "2         3  Four Rooms (1995)  01-Jan-1995   \n",
       "3         4  Get Shorty (1995)  01-Jan-1995   \n",
       "4         5     Copycat (1995)  01-Jan-1995   \n",
       "\n",
       "                                            imdb_url  Action  Adventure  \\\n",
       "0  http://us.imdb.com/M/title-exact?Toy%20Story%2...       0          0   \n",
       "1  http://us.imdb.com/M/title-exact?GoldenEye%20(...       1          1   \n",
       "2  http://us.imdb.com/M/title-exact?Four%20Rooms%...       0          0   \n",
       "3  http://us.imdb.com/M/title-exact?Get%20Shorty%...       1          0   \n",
       "4  http://us.imdb.com/M/title-exact?Copycat%20(1995)       0          0   \n",
       "\n",
       "   Animation  Children's  Comedy  Crime  ...  Fantasy  Film-Noir  Horror  \\\n",
       "0          1           1       1      0  ...        0          0       0   \n",
       "1          0           0       0      0  ...        0          0       0   \n",
       "2          0           0       0      0  ...        0          0       0   \n",
       "3          0           0       1      0  ...        0          0       0   \n",
       "4          0           0       0      1  ...        0          0       0   \n",
       "\n",
       "   Musical  Mystery  Romance  Sci-Fi  Thriller  War  Western  \n",
       "0        0        0        0       0         0    0        0  \n",
       "1        0        0        0       0         1    0        0  \n",
       "2        0        0        0       0         1    0        0  \n",
       "3        0        0        0       0         0    0        0  \n",
       "4        0        0        0       0         1    0        0  \n",
       "\n",
       "[5 rows x 22 columns]"
      ]
     },
     "metadata": {},
     "output_type": "display_data"
    }
   ],
   "source": [
    "movies.head()"
   ]
  },
  {
   "cell_type": "code",
   "execution_count": 59,
   "id": "58b43065-1475-478f-b01b-72a622763fc7",
   "metadata": {},
   "outputs": [
    {
     "name": "stdout",
     "output_type": "stream",
     "text": [
      "(1682, 18)\n"
     ]
    }
   ],
   "source": [
    "genres = movies.iloc[:, 4:]\n",
    "print(genres.shape)\n",
    "genres_film_count = genres.copy().apply(sum)\n",
    "genres_film_count = genres_film_count.sort_values(ascending=False)"
   ]
  },
  {
   "cell_type": "code",
   "execution_count": 148,
   "id": "e250700c",
   "metadata": {},
   "outputs": [
    {
     "data": {
      "application/vnd.plotly.v1+json": {
       "config": {
        "plotlyServerURL": "https://plot.ly"
       },
       "data": [
        {
         "hovertemplate": "x=%{x}<br>y=%{y}<extra></extra>",
         "legendgroup": "",
         "marker": {
          "color": "#636efa",
          "line": {
           "color": "black",
           "width": 1.5
          },
          "pattern": {
           "shape": ""
          }
         },
         "name": "",
         "orientation": "v",
         "showlegend": false,
         "textfont": {
          "color": "black",
          "family": "Arial",
          "size": 14
         },
         "textposition": "outside",
         "texttemplate": "%{y}",
         "type": "bar",
         "x": [
          "Drama",
          "Comedy",
          "Thriller",
          "Action",
          "Romance",
          "Adventure",
          "Children's",
          "Crime",
          "Sci-Fi",
          "Horror",
          "War",
          "Mystery",
          "Musical",
          "Documentary",
          "Animation",
          "Western",
          "Film-Noir",
          "Fantasy"
         ],
         "xaxis": "x",
         "y": {
          "bdata": "1QL5AfsA+wD3AIcAegBtAGUAXABHAD0AOAAyACoAGwAYABYA",
          "dtype": "i2"
         },
         "yaxis": "y"
        }
       ],
       "layout": {
        "barmode": "relative",
        "font": {
         "size": 14
        },
        "height": 600,
        "legend": {
         "tracegroupgap": 0
        },
        "paper_bgcolor": "white",
        "plot_bgcolor": "white",
        "template": {
         "data": {
          "bar": [
           {
            "error_x": {
             "color": "#2a3f5f"
            },
            "error_y": {
             "color": "#2a3f5f"
            },
            "marker": {
             "line": {
              "color": "#E5ECF6",
              "width": 0.5
             },
             "pattern": {
              "fillmode": "overlay",
              "size": 10,
              "solidity": 0.2
             }
            },
            "type": "bar"
           }
          ],
          "barpolar": [
           {
            "marker": {
             "line": {
              "color": "#E5ECF6",
              "width": 0.5
             },
             "pattern": {
              "fillmode": "overlay",
              "size": 10,
              "solidity": 0.2
             }
            },
            "type": "barpolar"
           }
          ],
          "carpet": [
           {
            "aaxis": {
             "endlinecolor": "#2a3f5f",
             "gridcolor": "white",
             "linecolor": "white",
             "minorgridcolor": "white",
             "startlinecolor": "#2a3f5f"
            },
            "baxis": {
             "endlinecolor": "#2a3f5f",
             "gridcolor": "white",
             "linecolor": "white",
             "minorgridcolor": "white",
             "startlinecolor": "#2a3f5f"
            },
            "type": "carpet"
           }
          ],
          "choropleth": [
           {
            "colorbar": {
             "outlinewidth": 0,
             "ticks": ""
            },
            "type": "choropleth"
           }
          ],
          "contour": [
           {
            "colorbar": {
             "outlinewidth": 0,
             "ticks": ""
            },
            "colorscale": [
             [
              0,
              "#0d0887"
             ],
             [
              0.1111111111111111,
              "#46039f"
             ],
             [
              0.2222222222222222,
              "#7201a8"
             ],
             [
              0.3333333333333333,
              "#9c179e"
             ],
             [
              0.4444444444444444,
              "#bd3786"
             ],
             [
              0.5555555555555556,
              "#d8576b"
             ],
             [
              0.6666666666666666,
              "#ed7953"
             ],
             [
              0.7777777777777778,
              "#fb9f3a"
             ],
             [
              0.8888888888888888,
              "#fdca26"
             ],
             [
              1,
              "#f0f921"
             ]
            ],
            "type": "contour"
           }
          ],
          "contourcarpet": [
           {
            "colorbar": {
             "outlinewidth": 0,
             "ticks": ""
            },
            "type": "contourcarpet"
           }
          ],
          "heatmap": [
           {
            "colorbar": {
             "outlinewidth": 0,
             "ticks": ""
            },
            "colorscale": [
             [
              0,
              "#0d0887"
             ],
             [
              0.1111111111111111,
              "#46039f"
             ],
             [
              0.2222222222222222,
              "#7201a8"
             ],
             [
              0.3333333333333333,
              "#9c179e"
             ],
             [
              0.4444444444444444,
              "#bd3786"
             ],
             [
              0.5555555555555556,
              "#d8576b"
             ],
             [
              0.6666666666666666,
              "#ed7953"
             ],
             [
              0.7777777777777778,
              "#fb9f3a"
             ],
             [
              0.8888888888888888,
              "#fdca26"
             ],
             [
              1,
              "#f0f921"
             ]
            ],
            "type": "heatmap"
           }
          ],
          "histogram": [
           {
            "marker": {
             "pattern": {
              "fillmode": "overlay",
              "size": 10,
              "solidity": 0.2
             }
            },
            "type": "histogram"
           }
          ],
          "histogram2d": [
           {
            "colorbar": {
             "outlinewidth": 0,
             "ticks": ""
            },
            "colorscale": [
             [
              0,
              "#0d0887"
             ],
             [
              0.1111111111111111,
              "#46039f"
             ],
             [
              0.2222222222222222,
              "#7201a8"
             ],
             [
              0.3333333333333333,
              "#9c179e"
             ],
             [
              0.4444444444444444,
              "#bd3786"
             ],
             [
              0.5555555555555556,
              "#d8576b"
             ],
             [
              0.6666666666666666,
              "#ed7953"
             ],
             [
              0.7777777777777778,
              "#fb9f3a"
             ],
             [
              0.8888888888888888,
              "#fdca26"
             ],
             [
              1,
              "#f0f921"
             ]
            ],
            "type": "histogram2d"
           }
          ],
          "histogram2dcontour": [
           {
            "colorbar": {
             "outlinewidth": 0,
             "ticks": ""
            },
            "colorscale": [
             [
              0,
              "#0d0887"
             ],
             [
              0.1111111111111111,
              "#46039f"
             ],
             [
              0.2222222222222222,
              "#7201a8"
             ],
             [
              0.3333333333333333,
              "#9c179e"
             ],
             [
              0.4444444444444444,
              "#bd3786"
             ],
             [
              0.5555555555555556,
              "#d8576b"
             ],
             [
              0.6666666666666666,
              "#ed7953"
             ],
             [
              0.7777777777777778,
              "#fb9f3a"
             ],
             [
              0.8888888888888888,
              "#fdca26"
             ],
             [
              1,
              "#f0f921"
             ]
            ],
            "type": "histogram2dcontour"
           }
          ],
          "mesh3d": [
           {
            "colorbar": {
             "outlinewidth": 0,
             "ticks": ""
            },
            "type": "mesh3d"
           }
          ],
          "parcoords": [
           {
            "line": {
             "colorbar": {
              "outlinewidth": 0,
              "ticks": ""
             }
            },
            "type": "parcoords"
           }
          ],
          "pie": [
           {
            "automargin": true,
            "type": "pie"
           }
          ],
          "scatter": [
           {
            "fillpattern": {
             "fillmode": "overlay",
             "size": 10,
             "solidity": 0.2
            },
            "type": "scatter"
           }
          ],
          "scatter3d": [
           {
            "line": {
             "colorbar": {
              "outlinewidth": 0,
              "ticks": ""
             }
            },
            "marker": {
             "colorbar": {
              "outlinewidth": 0,
              "ticks": ""
             }
            },
            "type": "scatter3d"
           }
          ],
          "scattercarpet": [
           {
            "marker": {
             "colorbar": {
              "outlinewidth": 0,
              "ticks": ""
             }
            },
            "type": "scattercarpet"
           }
          ],
          "scattergeo": [
           {
            "marker": {
             "colorbar": {
              "outlinewidth": 0,
              "ticks": ""
             }
            },
            "type": "scattergeo"
           }
          ],
          "scattergl": [
           {
            "marker": {
             "colorbar": {
              "outlinewidth": 0,
              "ticks": ""
             }
            },
            "type": "scattergl"
           }
          ],
          "scattermap": [
           {
            "marker": {
             "colorbar": {
              "outlinewidth": 0,
              "ticks": ""
             }
            },
            "type": "scattermap"
           }
          ],
          "scattermapbox": [
           {
            "marker": {
             "colorbar": {
              "outlinewidth": 0,
              "ticks": ""
             }
            },
            "type": "scattermapbox"
           }
          ],
          "scatterpolar": [
           {
            "marker": {
             "colorbar": {
              "outlinewidth": 0,
              "ticks": ""
             }
            },
            "type": "scatterpolar"
           }
          ],
          "scatterpolargl": [
           {
            "marker": {
             "colorbar": {
              "outlinewidth": 0,
              "ticks": ""
             }
            },
            "type": "scatterpolargl"
           }
          ],
          "scatterternary": [
           {
            "marker": {
             "colorbar": {
              "outlinewidth": 0,
              "ticks": ""
             }
            },
            "type": "scatterternary"
           }
          ],
          "surface": [
           {
            "colorbar": {
             "outlinewidth": 0,
             "ticks": ""
            },
            "colorscale": [
             [
              0,
              "#0d0887"
             ],
             [
              0.1111111111111111,
              "#46039f"
             ],
             [
              0.2222222222222222,
              "#7201a8"
             ],
             [
              0.3333333333333333,
              "#9c179e"
             ],
             [
              0.4444444444444444,
              "#bd3786"
             ],
             [
              0.5555555555555556,
              "#d8576b"
             ],
             [
              0.6666666666666666,
              "#ed7953"
             ],
             [
              0.7777777777777778,
              "#fb9f3a"
             ],
             [
              0.8888888888888888,
              "#fdca26"
             ],
             [
              1,
              "#f0f921"
             ]
            ],
            "type": "surface"
           }
          ],
          "table": [
           {
            "cells": {
             "fill": {
              "color": "#EBF0F8"
             },
             "line": {
              "color": "white"
             }
            },
            "header": {
             "fill": {
              "color": "#C8D4E3"
             },
             "line": {
              "color": "white"
             }
            },
            "type": "table"
           }
          ]
         },
         "layout": {
          "annotationdefaults": {
           "arrowcolor": "#2a3f5f",
           "arrowhead": 0,
           "arrowwidth": 1
          },
          "autotypenumbers": "strict",
          "coloraxis": {
           "colorbar": {
            "outlinewidth": 0,
            "ticks": ""
           }
          },
          "colorscale": {
           "diverging": [
            [
             0,
             "#8e0152"
            ],
            [
             0.1,
             "#c51b7d"
            ],
            [
             0.2,
             "#de77ae"
            ],
            [
             0.3,
             "#f1b6da"
            ],
            [
             0.4,
             "#fde0ef"
            ],
            [
             0.5,
             "#f7f7f7"
            ],
            [
             0.6,
             "#e6f5d0"
            ],
            [
             0.7,
             "#b8e186"
            ],
            [
             0.8,
             "#7fbc41"
            ],
            [
             0.9,
             "#4d9221"
            ],
            [
             1,
             "#276419"
            ]
           ],
           "sequential": [
            [
             0,
             "#0d0887"
            ],
            [
             0.1111111111111111,
             "#46039f"
            ],
            [
             0.2222222222222222,
             "#7201a8"
            ],
            [
             0.3333333333333333,
             "#9c179e"
            ],
            [
             0.4444444444444444,
             "#bd3786"
            ],
            [
             0.5555555555555556,
             "#d8576b"
            ],
            [
             0.6666666666666666,
             "#ed7953"
            ],
            [
             0.7777777777777778,
             "#fb9f3a"
            ],
            [
             0.8888888888888888,
             "#fdca26"
            ],
            [
             1,
             "#f0f921"
            ]
           ],
           "sequentialminus": [
            [
             0,
             "#0d0887"
            ],
            [
             0.1111111111111111,
             "#46039f"
            ],
            [
             0.2222222222222222,
             "#7201a8"
            ],
            [
             0.3333333333333333,
             "#9c179e"
            ],
            [
             0.4444444444444444,
             "#bd3786"
            ],
            [
             0.5555555555555556,
             "#d8576b"
            ],
            [
             0.6666666666666666,
             "#ed7953"
            ],
            [
             0.7777777777777778,
             "#fb9f3a"
            ],
            [
             0.8888888888888888,
             "#fdca26"
            ],
            [
             1,
             "#f0f921"
            ]
           ]
          },
          "colorway": [
           "#636efa",
           "#EF553B",
           "#00cc96",
           "#ab63fa",
           "#FFA15A",
           "#19d3f3",
           "#FF6692",
           "#B6E880",
           "#FF97FF",
           "#FECB52"
          ],
          "font": {
           "color": "#2a3f5f"
          },
          "geo": {
           "bgcolor": "white",
           "lakecolor": "white",
           "landcolor": "#E5ECF6",
           "showlakes": true,
           "showland": true,
           "subunitcolor": "white"
          },
          "hoverlabel": {
           "align": "left"
          },
          "hovermode": "closest",
          "mapbox": {
           "style": "light"
          },
          "paper_bgcolor": "white",
          "plot_bgcolor": "#E5ECF6",
          "polar": {
           "angularaxis": {
            "gridcolor": "white",
            "linecolor": "white",
            "ticks": ""
           },
           "bgcolor": "#E5ECF6",
           "radialaxis": {
            "gridcolor": "white",
            "linecolor": "white",
            "ticks": ""
           }
          },
          "scene": {
           "xaxis": {
            "backgroundcolor": "#E5ECF6",
            "gridcolor": "white",
            "gridwidth": 2,
            "linecolor": "white",
            "showbackground": true,
            "ticks": "",
            "zerolinecolor": "white"
           },
           "yaxis": {
            "backgroundcolor": "#E5ECF6",
            "gridcolor": "white",
            "gridwidth": 2,
            "linecolor": "white",
            "showbackground": true,
            "ticks": "",
            "zerolinecolor": "white"
           },
           "zaxis": {
            "backgroundcolor": "#E5ECF6",
            "gridcolor": "white",
            "gridwidth": 2,
            "linecolor": "white",
            "showbackground": true,
            "ticks": "",
            "zerolinecolor": "white"
           }
          },
          "shapedefaults": {
           "line": {
            "color": "#2a3f5f"
           }
          },
          "ternary": {
           "aaxis": {
            "gridcolor": "white",
            "linecolor": "white",
            "ticks": ""
           },
           "baxis": {
            "gridcolor": "white",
            "linecolor": "white",
            "ticks": ""
           },
           "bgcolor": "#E5ECF6",
           "caxis": {
            "gridcolor": "white",
            "linecolor": "white",
            "ticks": ""
           }
          },
          "title": {
           "x": 0.05
          },
          "xaxis": {
           "automargin": true,
           "gridcolor": "white",
           "linecolor": "white",
           "ticks": "",
           "title": {
            "standoff": 15
           },
           "zerolinecolor": "white",
           "zerolinewidth": 2
          },
          "yaxis": {
           "automargin": true,
           "gridcolor": "white",
           "linecolor": "white",
           "ticks": "",
           "title": {
            "standoff": 15
           },
           "zerolinecolor": "white",
           "zerolinewidth": 2
          }
         }
        },
        "title": {
         "font": {
          "family": "Arial",
          "size": 24,
          "weight": "bold"
         },
         "text": "Распределение фильмов по жанрам"
        },
        "width": 1000,
        "xaxis": {
         "anchor": "y",
         "domain": [
          0,
          1
         ],
         "dtick": 1,
         "gridcolor": "lightgray",
         "griddash": "dash",
         "gridwidth": 1,
         "linecolor": "black",
         "linewidth": 1,
         "showline": true,
         "showticklabels": true,
         "tickangle": -45,
         "tickcolor": "black",
         "tickfont": {
          "size": 16
         },
         "ticklen": 6,
         "tickmode": "linear",
         "ticks": "outside",
         "tickwidth": 2,
         "title": {
          "font": {
           "family": "Arial",
           "size": 20
          },
          "text": "Жанры"
         }
        },
        "yaxis": {
         "anchor": "x",
         "domain": [
          0,
          1
         ],
         "dtick": 100,
         "gridcolor": "lightgray",
         "griddash": "dash",
         "gridwidth": 1,
         "linecolor": "black",
         "linewidth": 1,
         "showline": true,
         "showticklabels": true,
         "tickfont": {
          "size": 16
         },
         "ticklen": 6,
         "tickmode": "linear",
         "ticks": "outside",
         "tickwidth": 2,
         "title": {
          "font": {
           "family": "Arial",
           "size": 20
          },
          "text": "Количество фильмов"
         }
        }
       }
      }
     },
     "metadata": {},
     "output_type": "display_data"
    }
   ],
   "source": [
    "fig_4 = px.bar(\n",
    "    x=genres_film_count.index,\n",
    "    y=genres_film_count,\n",
    "    title=\"Распределение фильмов по жанрам\",\n",
    ")\n",
    "fig_4.update_layout(\n",
    "    width=1000,  # ширина в пикселях\n",
    "    height=600,  # высота в пикселях\n",
    "    # autosize=False,  # отключаем авторазмер\n",
    "    xaxis_title=\"Жанры\",\n",
    "    yaxis_title=\"Количество фильмов\",\n",
    "    title_font=dict(size=24, family=\"Arial\", weight=\"bold\"),\n",
    ")\n",
    "fig_4.update_traces(\n",
    "    marker=dict(line=dict(width=1.5, color=\"black\"))  # Толщина рамки  # Цвет рамки\n",
    ")\n",
    "fig_4.update_layout(\n",
    "    xaxis=dict(tickangle=-45)  # Поворот на 45 градусов против часовой стрелки\n",
    ")\n",
    "fig_4.update_traces(\n",
    "    texttemplate=\"%{y}\",  # Формат текста (значение y)\n",
    "    textposition=\"outside\",  # Положение: 'outside', 'inside', 'auto', 'none'\n",
    "    textfont=dict(\n",
    "        size=14, family=\"Arial\", color=\"black\"\n",
    "    ),  # Размер шрифта  # Цвет текста\n",
    ")\n",
    "fig_4.update_layout(\n",
    "    xaxis=dict(\n",
    "        showticklabels=True,\n",
    "        tickmode=\"linear\",\n",
    "        ticks=\"outside\",  # Ticks снаружи: 'outside', 'inside', ''\n",
    "        ticklen=6,  # Длина ticks\n",
    "        tickwidth=2,  # Толщина ticks\n",
    "        tickcolor=\"black\",  # Цвет ticks\n",
    "        dtick=1,\n",
    "        # tickmode='array',  # Режим ручной установки\n",
    "        # tickvals=[0, 1, 2, 3],  # Позиции ticks\n",
    "        # ticktext=['Категория A', 'Категория B', 'Категория C', 'Категория D']  # Подписи\n",
    "    ),\n",
    "    yaxis=dict(\n",
    "        showticklabels=True,\n",
    "        tickmode=\"linear\",\n",
    "        dtick=100,\n",
    "        ticks=\"outside\",  # Ticks снаружи: 'outside', 'inside', ''\n",
    "        ticklen=6,  # Длина ticks\n",
    "        tickwidth=2,  # Толщина ticks\n",
    "        # tickmode=\"linear\",\n",
    "        # dtick=5\n",
    "    ),\n",
    ")\n",
    "fig_4 = configure_plotly_theme(fig_4)\n",
    "fig_4.show()"
   ]
  },
  {
   "cell_type": "markdown",
   "id": "a36689b9-9e04-4714-9c85-db27f943cf0c",
   "metadata": {},
   "source": [
    "- распределение количества жанров у разных фильмов (какие-то фильмы принадлежат одному жанру, какие-то сразу нескольким)"
   ]
  },
  {
   "cell_type": "code",
   "execution_count": 89,
   "id": "63a52a5d",
   "metadata": {},
   "outputs": [
    {
     "data": {
      "text/html": [
       "<div>\n",
       "<style scoped>\n",
       "    .dataframe tbody tr th:only-of-type {\n",
       "        vertical-align: middle;\n",
       "    }\n",
       "\n",
       "    .dataframe tbody tr th {\n",
       "        vertical-align: top;\n",
       "    }\n",
       "\n",
       "    .dataframe thead th {\n",
       "        text-align: right;\n",
       "    }\n",
       "</style>\n",
       "<table border=\"1\" class=\"dataframe\">\n",
       "  <thead>\n",
       "    <tr style=\"text-align: right;\">\n",
       "      <th></th>\n",
       "      <th>id</th>\n",
       "      <th>0</th>\n",
       "    </tr>\n",
       "  </thead>\n",
       "  <tbody>\n",
       "    <tr>\n",
       "      <th>0</th>\n",
       "      <td>1</td>\n",
       "      <td>3</td>\n",
       "    </tr>\n",
       "    <tr>\n",
       "      <th>1</th>\n",
       "      <td>2</td>\n",
       "      <td>3</td>\n",
       "    </tr>\n",
       "    <tr>\n",
       "      <th>2</th>\n",
       "      <td>3</td>\n",
       "      <td>1</td>\n",
       "    </tr>\n",
       "    <tr>\n",
       "      <th>3</th>\n",
       "      <td>4</td>\n",
       "      <td>3</td>\n",
       "    </tr>\n",
       "    <tr>\n",
       "      <th>4</th>\n",
       "      <td>5</td>\n",
       "      <td>3</td>\n",
       "    </tr>\n",
       "  </tbody>\n",
       "</table>\n",
       "</div>"
      ],
      "text/plain": [
       "   id  0\n",
       "0   1  3\n",
       "1   2  3\n",
       "2   3  1\n",
       "3   4  3\n",
       "4   5  3"
      ]
     },
     "execution_count": 89,
     "metadata": {},
     "output_type": "execute_result"
    }
   ],
   "source": [
    "genres_distrib = genres.copy()\n",
    "genres_distrib[\"id\"] = movies[\"movie_id\"]\n",
    "genres_distrib.set_index(\"id\", inplace=True)\n",
    "genres_distrib = genres_distrib.T\n",
    "# genres_distrib.reset_index(inplace=True)\n",
    "genres_distrib.head()\n",
    "genres_sum = genres_distrib.apply(sum)\n",
    "genres_sum = genres_sum.reset_index()\n",
    "genres_sum.head()"
   ]
  },
  {
   "cell_type": "code",
   "execution_count": 91,
   "id": "b83a4de0",
   "metadata": {},
   "outputs": [
    {
     "data": {
      "text/html": [
       "<div>\n",
       "<style scoped>\n",
       "    .dataframe tbody tr th:only-of-type {\n",
       "        vertical-align: middle;\n",
       "    }\n",
       "\n",
       "    .dataframe tbody tr th {\n",
       "        vertical-align: top;\n",
       "    }\n",
       "\n",
       "    .dataframe thead th {\n",
       "        text-align: right;\n",
       "    }\n",
       "</style>\n",
       "<table border=\"1\" class=\"dataframe\">\n",
       "  <thead>\n",
       "    <tr style=\"text-align: right;\">\n",
       "      <th></th>\n",
       "      <th>id</th>\n",
       "    </tr>\n",
       "    <tr>\n",
       "      <th>0</th>\n",
       "      <th></th>\n",
       "    </tr>\n",
       "  </thead>\n",
       "  <tbody>\n",
       "    <tr>\n",
       "      <th>0</th>\n",
       "      <td>2</td>\n",
       "    </tr>\n",
       "    <tr>\n",
       "      <th>1</th>\n",
       "      <td>831</td>\n",
       "    </tr>\n",
       "    <tr>\n",
       "      <th>2</th>\n",
       "      <td>569</td>\n",
       "    </tr>\n",
       "    <tr>\n",
       "      <th>3</th>\n",
       "      <td>215</td>\n",
       "    </tr>\n",
       "    <tr>\n",
       "      <th>4</th>\n",
       "      <td>51</td>\n",
       "    </tr>\n",
       "    <tr>\n",
       "      <th>5</th>\n",
       "      <td>11</td>\n",
       "    </tr>\n",
       "    <tr>\n",
       "      <th>6</th>\n",
       "      <td>3</td>\n",
       "    </tr>\n",
       "  </tbody>\n",
       "</table>\n",
       "</div>"
      ],
      "text/plain": [
       "    id\n",
       "0     \n",
       "0    2\n",
       "1  831\n",
       "2  569\n",
       "3  215\n",
       "4   51\n",
       "5   11\n",
       "6    3"
      ]
     },
     "execution_count": 91,
     "metadata": {},
     "output_type": "execute_result"
    }
   ],
   "source": [
    "for_barplot = genres_sum.groupby(0).count()\n",
    "for_barplot"
   ]
  },
  {
   "cell_type": "code",
   "execution_count": 149,
   "id": "24c620d4",
   "metadata": {},
   "outputs": [
    {
     "data": {
      "application/vnd.plotly.v1+json": {
       "config": {
        "plotlyServerURL": "https://plot.ly"
       },
       "data": [
        {
         "hovertemplate": "x=%{x}<br>y=%{y}<extra></extra>",
         "legendgroup": "",
         "marker": {
          "color": "#636efa",
          "line": {
           "color": "black",
           "width": 1.5
          },
          "pattern": {
           "shape": ""
          }
         },
         "name": "",
         "orientation": "v",
         "showlegend": false,
         "textfont": {
          "color": "black",
          "family": "Arial",
          "size": 14
         },
         "textposition": "outside",
         "texttemplate": "%{y}",
         "type": "bar",
         "x": {
          "bdata": "AAECAwQFBg==",
          "dtype": "i1"
         },
         "xaxis": "x",
         "y": {
          "bdata": "AgA/AzkC1wAzAAsAAwA=",
          "dtype": "i2"
         },
         "yaxis": "y"
        }
       ],
       "layout": {
        "barmode": "relative",
        "font": {
         "size": 14
        },
        "height": 600,
        "legend": {
         "tracegroupgap": 0
        },
        "paper_bgcolor": "white",
        "plot_bgcolor": "white",
        "template": {
         "data": {
          "bar": [
           {
            "error_x": {
             "color": "#2a3f5f"
            },
            "error_y": {
             "color": "#2a3f5f"
            },
            "marker": {
             "line": {
              "color": "#E5ECF6",
              "width": 0.5
             },
             "pattern": {
              "fillmode": "overlay",
              "size": 10,
              "solidity": 0.2
             }
            },
            "type": "bar"
           }
          ],
          "barpolar": [
           {
            "marker": {
             "line": {
              "color": "#E5ECF6",
              "width": 0.5
             },
             "pattern": {
              "fillmode": "overlay",
              "size": 10,
              "solidity": 0.2
             }
            },
            "type": "barpolar"
           }
          ],
          "carpet": [
           {
            "aaxis": {
             "endlinecolor": "#2a3f5f",
             "gridcolor": "white",
             "linecolor": "white",
             "minorgridcolor": "white",
             "startlinecolor": "#2a3f5f"
            },
            "baxis": {
             "endlinecolor": "#2a3f5f",
             "gridcolor": "white",
             "linecolor": "white",
             "minorgridcolor": "white",
             "startlinecolor": "#2a3f5f"
            },
            "type": "carpet"
           }
          ],
          "choropleth": [
           {
            "colorbar": {
             "outlinewidth": 0,
             "ticks": ""
            },
            "type": "choropleth"
           }
          ],
          "contour": [
           {
            "colorbar": {
             "outlinewidth": 0,
             "ticks": ""
            },
            "colorscale": [
             [
              0,
              "#0d0887"
             ],
             [
              0.1111111111111111,
              "#46039f"
             ],
             [
              0.2222222222222222,
              "#7201a8"
             ],
             [
              0.3333333333333333,
              "#9c179e"
             ],
             [
              0.4444444444444444,
              "#bd3786"
             ],
             [
              0.5555555555555556,
              "#d8576b"
             ],
             [
              0.6666666666666666,
              "#ed7953"
             ],
             [
              0.7777777777777778,
              "#fb9f3a"
             ],
             [
              0.8888888888888888,
              "#fdca26"
             ],
             [
              1,
              "#f0f921"
             ]
            ],
            "type": "contour"
           }
          ],
          "contourcarpet": [
           {
            "colorbar": {
             "outlinewidth": 0,
             "ticks": ""
            },
            "type": "contourcarpet"
           }
          ],
          "heatmap": [
           {
            "colorbar": {
             "outlinewidth": 0,
             "ticks": ""
            },
            "colorscale": [
             [
              0,
              "#0d0887"
             ],
             [
              0.1111111111111111,
              "#46039f"
             ],
             [
              0.2222222222222222,
              "#7201a8"
             ],
             [
              0.3333333333333333,
              "#9c179e"
             ],
             [
              0.4444444444444444,
              "#bd3786"
             ],
             [
              0.5555555555555556,
              "#d8576b"
             ],
             [
              0.6666666666666666,
              "#ed7953"
             ],
             [
              0.7777777777777778,
              "#fb9f3a"
             ],
             [
              0.8888888888888888,
              "#fdca26"
             ],
             [
              1,
              "#f0f921"
             ]
            ],
            "type": "heatmap"
           }
          ],
          "histogram": [
           {
            "marker": {
             "pattern": {
              "fillmode": "overlay",
              "size": 10,
              "solidity": 0.2
             }
            },
            "type": "histogram"
           }
          ],
          "histogram2d": [
           {
            "colorbar": {
             "outlinewidth": 0,
             "ticks": ""
            },
            "colorscale": [
             [
              0,
              "#0d0887"
             ],
             [
              0.1111111111111111,
              "#46039f"
             ],
             [
              0.2222222222222222,
              "#7201a8"
             ],
             [
              0.3333333333333333,
              "#9c179e"
             ],
             [
              0.4444444444444444,
              "#bd3786"
             ],
             [
              0.5555555555555556,
              "#d8576b"
             ],
             [
              0.6666666666666666,
              "#ed7953"
             ],
             [
              0.7777777777777778,
              "#fb9f3a"
             ],
             [
              0.8888888888888888,
              "#fdca26"
             ],
             [
              1,
              "#f0f921"
             ]
            ],
            "type": "histogram2d"
           }
          ],
          "histogram2dcontour": [
           {
            "colorbar": {
             "outlinewidth": 0,
             "ticks": ""
            },
            "colorscale": [
             [
              0,
              "#0d0887"
             ],
             [
              0.1111111111111111,
              "#46039f"
             ],
             [
              0.2222222222222222,
              "#7201a8"
             ],
             [
              0.3333333333333333,
              "#9c179e"
             ],
             [
              0.4444444444444444,
              "#bd3786"
             ],
             [
              0.5555555555555556,
              "#d8576b"
             ],
             [
              0.6666666666666666,
              "#ed7953"
             ],
             [
              0.7777777777777778,
              "#fb9f3a"
             ],
             [
              0.8888888888888888,
              "#fdca26"
             ],
             [
              1,
              "#f0f921"
             ]
            ],
            "type": "histogram2dcontour"
           }
          ],
          "mesh3d": [
           {
            "colorbar": {
             "outlinewidth": 0,
             "ticks": ""
            },
            "type": "mesh3d"
           }
          ],
          "parcoords": [
           {
            "line": {
             "colorbar": {
              "outlinewidth": 0,
              "ticks": ""
             }
            },
            "type": "parcoords"
           }
          ],
          "pie": [
           {
            "automargin": true,
            "type": "pie"
           }
          ],
          "scatter": [
           {
            "fillpattern": {
             "fillmode": "overlay",
             "size": 10,
             "solidity": 0.2
            },
            "type": "scatter"
           }
          ],
          "scatter3d": [
           {
            "line": {
             "colorbar": {
              "outlinewidth": 0,
              "ticks": ""
             }
            },
            "marker": {
             "colorbar": {
              "outlinewidth": 0,
              "ticks": ""
             }
            },
            "type": "scatter3d"
           }
          ],
          "scattercarpet": [
           {
            "marker": {
             "colorbar": {
              "outlinewidth": 0,
              "ticks": ""
             }
            },
            "type": "scattercarpet"
           }
          ],
          "scattergeo": [
           {
            "marker": {
             "colorbar": {
              "outlinewidth": 0,
              "ticks": ""
             }
            },
            "type": "scattergeo"
           }
          ],
          "scattergl": [
           {
            "marker": {
             "colorbar": {
              "outlinewidth": 0,
              "ticks": ""
             }
            },
            "type": "scattergl"
           }
          ],
          "scattermap": [
           {
            "marker": {
             "colorbar": {
              "outlinewidth": 0,
              "ticks": ""
             }
            },
            "type": "scattermap"
           }
          ],
          "scattermapbox": [
           {
            "marker": {
             "colorbar": {
              "outlinewidth": 0,
              "ticks": ""
             }
            },
            "type": "scattermapbox"
           }
          ],
          "scatterpolar": [
           {
            "marker": {
             "colorbar": {
              "outlinewidth": 0,
              "ticks": ""
             }
            },
            "type": "scatterpolar"
           }
          ],
          "scatterpolargl": [
           {
            "marker": {
             "colorbar": {
              "outlinewidth": 0,
              "ticks": ""
             }
            },
            "type": "scatterpolargl"
           }
          ],
          "scatterternary": [
           {
            "marker": {
             "colorbar": {
              "outlinewidth": 0,
              "ticks": ""
             }
            },
            "type": "scatterternary"
           }
          ],
          "surface": [
           {
            "colorbar": {
             "outlinewidth": 0,
             "ticks": ""
            },
            "colorscale": [
             [
              0,
              "#0d0887"
             ],
             [
              0.1111111111111111,
              "#46039f"
             ],
             [
              0.2222222222222222,
              "#7201a8"
             ],
             [
              0.3333333333333333,
              "#9c179e"
             ],
             [
              0.4444444444444444,
              "#bd3786"
             ],
             [
              0.5555555555555556,
              "#d8576b"
             ],
             [
              0.6666666666666666,
              "#ed7953"
             ],
             [
              0.7777777777777778,
              "#fb9f3a"
             ],
             [
              0.8888888888888888,
              "#fdca26"
             ],
             [
              1,
              "#f0f921"
             ]
            ],
            "type": "surface"
           }
          ],
          "table": [
           {
            "cells": {
             "fill": {
              "color": "#EBF0F8"
             },
             "line": {
              "color": "white"
             }
            },
            "header": {
             "fill": {
              "color": "#C8D4E3"
             },
             "line": {
              "color": "white"
             }
            },
            "type": "table"
           }
          ]
         },
         "layout": {
          "annotationdefaults": {
           "arrowcolor": "#2a3f5f",
           "arrowhead": 0,
           "arrowwidth": 1
          },
          "autotypenumbers": "strict",
          "coloraxis": {
           "colorbar": {
            "outlinewidth": 0,
            "ticks": ""
           }
          },
          "colorscale": {
           "diverging": [
            [
             0,
             "#8e0152"
            ],
            [
             0.1,
             "#c51b7d"
            ],
            [
             0.2,
             "#de77ae"
            ],
            [
             0.3,
             "#f1b6da"
            ],
            [
             0.4,
             "#fde0ef"
            ],
            [
             0.5,
             "#f7f7f7"
            ],
            [
             0.6,
             "#e6f5d0"
            ],
            [
             0.7,
             "#b8e186"
            ],
            [
             0.8,
             "#7fbc41"
            ],
            [
             0.9,
             "#4d9221"
            ],
            [
             1,
             "#276419"
            ]
           ],
           "sequential": [
            [
             0,
             "#0d0887"
            ],
            [
             0.1111111111111111,
             "#46039f"
            ],
            [
             0.2222222222222222,
             "#7201a8"
            ],
            [
             0.3333333333333333,
             "#9c179e"
            ],
            [
             0.4444444444444444,
             "#bd3786"
            ],
            [
             0.5555555555555556,
             "#d8576b"
            ],
            [
             0.6666666666666666,
             "#ed7953"
            ],
            [
             0.7777777777777778,
             "#fb9f3a"
            ],
            [
             0.8888888888888888,
             "#fdca26"
            ],
            [
             1,
             "#f0f921"
            ]
           ],
           "sequentialminus": [
            [
             0,
             "#0d0887"
            ],
            [
             0.1111111111111111,
             "#46039f"
            ],
            [
             0.2222222222222222,
             "#7201a8"
            ],
            [
             0.3333333333333333,
             "#9c179e"
            ],
            [
             0.4444444444444444,
             "#bd3786"
            ],
            [
             0.5555555555555556,
             "#d8576b"
            ],
            [
             0.6666666666666666,
             "#ed7953"
            ],
            [
             0.7777777777777778,
             "#fb9f3a"
            ],
            [
             0.8888888888888888,
             "#fdca26"
            ],
            [
             1,
             "#f0f921"
            ]
           ]
          },
          "colorway": [
           "#636efa",
           "#EF553B",
           "#00cc96",
           "#ab63fa",
           "#FFA15A",
           "#19d3f3",
           "#FF6692",
           "#B6E880",
           "#FF97FF",
           "#FECB52"
          ],
          "font": {
           "color": "#2a3f5f"
          },
          "geo": {
           "bgcolor": "white",
           "lakecolor": "white",
           "landcolor": "#E5ECF6",
           "showlakes": true,
           "showland": true,
           "subunitcolor": "white"
          },
          "hoverlabel": {
           "align": "left"
          },
          "hovermode": "closest",
          "mapbox": {
           "style": "light"
          },
          "paper_bgcolor": "white",
          "plot_bgcolor": "#E5ECF6",
          "polar": {
           "angularaxis": {
            "gridcolor": "white",
            "linecolor": "white",
            "ticks": ""
           },
           "bgcolor": "#E5ECF6",
           "radialaxis": {
            "gridcolor": "white",
            "linecolor": "white",
            "ticks": ""
           }
          },
          "scene": {
           "xaxis": {
            "backgroundcolor": "#E5ECF6",
            "gridcolor": "white",
            "gridwidth": 2,
            "linecolor": "white",
            "showbackground": true,
            "ticks": "",
            "zerolinecolor": "white"
           },
           "yaxis": {
            "backgroundcolor": "#E5ECF6",
            "gridcolor": "white",
            "gridwidth": 2,
            "linecolor": "white",
            "showbackground": true,
            "ticks": "",
            "zerolinecolor": "white"
           },
           "zaxis": {
            "backgroundcolor": "#E5ECF6",
            "gridcolor": "white",
            "gridwidth": 2,
            "linecolor": "white",
            "showbackground": true,
            "ticks": "",
            "zerolinecolor": "white"
           }
          },
          "shapedefaults": {
           "line": {
            "color": "#2a3f5f"
           }
          },
          "ternary": {
           "aaxis": {
            "gridcolor": "white",
            "linecolor": "white",
            "ticks": ""
           },
           "baxis": {
            "gridcolor": "white",
            "linecolor": "white",
            "ticks": ""
           },
           "bgcolor": "#E5ECF6",
           "caxis": {
            "gridcolor": "white",
            "linecolor": "white",
            "ticks": ""
           }
          },
          "title": {
           "x": 0.05
          },
          "xaxis": {
           "automargin": true,
           "gridcolor": "white",
           "linecolor": "white",
           "ticks": "",
           "title": {
            "standoff": 15
           },
           "zerolinecolor": "white",
           "zerolinewidth": 2
          },
          "yaxis": {
           "automargin": true,
           "gridcolor": "white",
           "linecolor": "white",
           "ticks": "",
           "title": {
            "standoff": 15
           },
           "zerolinecolor": "white",
           "zerolinewidth": 2
          }
         }
        },
        "title": {
         "font": {
          "family": "Arial",
          "size": 24,
          "weight": "bold"
         },
         "text": "Распределение количества жанров"
        },
        "width": 1000,
        "xaxis": {
         "anchor": "y",
         "domain": [
          0,
          1
         ],
         "dtick": 1,
         "gridcolor": "lightgray",
         "griddash": "dash",
         "gridwidth": 1,
         "linecolor": "black",
         "linewidth": 1,
         "showline": true,
         "showticklabels": true,
         "tickcolor": "black",
         "tickfont": {
          "size": 16
         },
         "ticklen": 6,
         "tickmode": "linear",
         "ticks": "outside",
         "tickwidth": 2,
         "title": {
          "font": {
           "family": "Arial",
           "size": 20
          },
          "text": "Количество жанров"
         }
        },
        "yaxis": {
         "anchor": "x",
         "domain": [
          0,
          1
         ],
         "dtick": 100,
         "gridcolor": "lightgray",
         "griddash": "dash",
         "gridwidth": 1,
         "linecolor": "black",
         "linewidth": 1,
         "showline": true,
         "showticklabels": true,
         "tickfont": {
          "size": 16
         },
         "ticklen": 6,
         "tickmode": "linear",
         "ticks": "outside",
         "tickwidth": 2,
         "title": {
          "font": {
           "family": "Arial",
           "size": 20
          },
          "text": "Количество фильмов"
         }
        }
       }
      }
     },
     "metadata": {},
     "output_type": "display_data"
    }
   ],
   "source": [
    "# genres_sum.head()\n",
    "fig_5 = px.bar(\n",
    "    x=for_barplot.index,\n",
    "    y=for_barplot[\"id\"],\n",
    "    title=\"Распределение количества жанров\",\n",
    ")\n",
    "fig_5.update_layout(\n",
    "    width=1000,  # ширина в пикселях\n",
    "    height=600,  # высота в пикселях\n",
    "    # autosize=False,  # отключаем авторазмер\n",
    "    xaxis_title=\"Количество жанров\",\n",
    "    yaxis_title=\"Количество фильмов\",\n",
    "    # title_font=dict(size=24, family=\"Arial\", weight=\"bold\"),\n",
    ")\n",
    "fig_5.update_traces(\n",
    "    marker=dict(line=dict(width=1.5, color=\"black\"))  # Толщина рамки  # Цвет рамки\n",
    ")\n",
    "# fig_5.update_layout(\n",
    "#     xaxis=dict(tickangle=-45)  # Поворот на 45 градусов против часовой стрелки\n",
    "# )\n",
    "fig_5.update_traces(\n",
    "    texttemplate=\"%{y}\",  # Формат текста (значение y)\n",
    "    textposition=\"outside\",  # Положение: 'outside', 'inside', 'auto', 'none'\n",
    "    textfont=dict(\n",
    "        size=14, family=\"Arial\", color=\"black\"\n",
    "    ),  # Размер шрифта  # Цвет текста\n",
    ")\n",
    "fig_5.update_layout(\n",
    "    xaxis=dict(\n",
    "        showticklabels=True,\n",
    "        tickmode=\"linear\",\n",
    "        ticks=\"outside\",  # Ticks снаружи: 'outside', 'inside', ''\n",
    "        ticklen=6,  # Длина ticks\n",
    "        tickwidth=2,  # Толщина ticks\n",
    "        tickcolor=\"black\",  # Цвет ticks\n",
    "        dtick=1,\n",
    "        # tickmode='array',  # Режим ручной установки\n",
    "        # tickvals=[0, 1, 2, 3],  # Позиции ticks\n",
    "        # ticktext=['Категория A', 'Категория B', 'Категория C', 'Категория D']  # Подписи\n",
    "    ),\n",
    "    yaxis=dict(\n",
    "        showticklabels=True,\n",
    "        tickmode=\"linear\",\n",
    "        dtick=100,\n",
    "        ticks=\"outside\",  # Ticks снаружи: 'outside', 'inside', ''\n",
    "        ticklen=6,  # Длина ticks\n",
    "        tickwidth=2,  # Толщина ticks\n",
    "        # tickmode=\"linear\",\n",
    "        # dtick=5\n",
    "    ),\n",
    ")\n",
    "fig_5 = configure_plotly_theme(fig_5)\n",
    "fig_5.show()"
   ]
  },
  {
   "cell_type": "markdown",
   "id": "ee0c11c3-511e-4e08-861b-c0ec496f5fc9",
   "metadata": {},
   "source": [
    "- корреляцонная матрица жанров (какие-то жанры близки между собой, а какие-то противоречивы, корреляционная матрица поможет понять, какие жанры связаны между собой больше всего)"
   ]
  },
  {
   "cell_type": "code",
   "execution_count": 129,
   "id": "49136f19-9597-4c09-a01f-97c7c3a4d8c5",
   "metadata": {},
   "outputs": [
    {
     "data": {
      "text/html": [
       "<div>\n",
       "<style scoped>\n",
       "    .dataframe tbody tr th:only-of-type {\n",
       "        vertical-align: middle;\n",
       "    }\n",
       "\n",
       "    .dataframe tbody tr th {\n",
       "        vertical-align: top;\n",
       "    }\n",
       "\n",
       "    .dataframe thead th {\n",
       "        text-align: right;\n",
       "    }\n",
       "</style>\n",
       "<table border=\"1\" class=\"dataframe\">\n",
       "  <thead>\n",
       "    <tr style=\"text-align: right;\">\n",
       "      <th></th>\n",
       "      <th>Action</th>\n",
       "      <th>Adventure</th>\n",
       "      <th>Animation</th>\n",
       "      <th>Children's</th>\n",
       "      <th>Comedy</th>\n",
       "      <th>Crime</th>\n",
       "      <th>Documentary</th>\n",
       "      <th>Drama</th>\n",
       "      <th>Fantasy</th>\n",
       "      <th>Film-Noir</th>\n",
       "      <th>Horror</th>\n",
       "      <th>Musical</th>\n",
       "      <th>Mystery</th>\n",
       "      <th>Romance</th>\n",
       "      <th>Sci-Fi</th>\n",
       "      <th>Thriller</th>\n",
       "      <th>War</th>\n",
       "      <th>Western</th>\n",
       "    </tr>\n",
       "  </thead>\n",
       "  <tbody>\n",
       "    <tr>\n",
       "      <th>0</th>\n",
       "      <td>0</td>\n",
       "      <td>0</td>\n",
       "      <td>1</td>\n",
       "      <td>1</td>\n",
       "      <td>1</td>\n",
       "      <td>0</td>\n",
       "      <td>0</td>\n",
       "      <td>0</td>\n",
       "      <td>0</td>\n",
       "      <td>0</td>\n",
       "      <td>0</td>\n",
       "      <td>0</td>\n",
       "      <td>0</td>\n",
       "      <td>0</td>\n",
       "      <td>0</td>\n",
       "      <td>0</td>\n",
       "      <td>0</td>\n",
       "      <td>0</td>\n",
       "    </tr>\n",
       "    <tr>\n",
       "      <th>1</th>\n",
       "      <td>1</td>\n",
       "      <td>1</td>\n",
       "      <td>0</td>\n",
       "      <td>0</td>\n",
       "      <td>0</td>\n",
       "      <td>0</td>\n",
       "      <td>0</td>\n",
       "      <td>0</td>\n",
       "      <td>0</td>\n",
       "      <td>0</td>\n",
       "      <td>0</td>\n",
       "      <td>0</td>\n",
       "      <td>0</td>\n",
       "      <td>0</td>\n",
       "      <td>0</td>\n",
       "      <td>1</td>\n",
       "      <td>0</td>\n",
       "      <td>0</td>\n",
       "    </tr>\n",
       "    <tr>\n",
       "      <th>2</th>\n",
       "      <td>0</td>\n",
       "      <td>0</td>\n",
       "      <td>0</td>\n",
       "      <td>0</td>\n",
       "      <td>0</td>\n",
       "      <td>0</td>\n",
       "      <td>0</td>\n",
       "      <td>0</td>\n",
       "      <td>0</td>\n",
       "      <td>0</td>\n",
       "      <td>0</td>\n",
       "      <td>0</td>\n",
       "      <td>0</td>\n",
       "      <td>0</td>\n",
       "      <td>0</td>\n",
       "      <td>1</td>\n",
       "      <td>0</td>\n",
       "      <td>0</td>\n",
       "    </tr>\n",
       "    <tr>\n",
       "      <th>3</th>\n",
       "      <td>1</td>\n",
       "      <td>0</td>\n",
       "      <td>0</td>\n",
       "      <td>0</td>\n",
       "      <td>1</td>\n",
       "      <td>0</td>\n",
       "      <td>0</td>\n",
       "      <td>1</td>\n",
       "      <td>0</td>\n",
       "      <td>0</td>\n",
       "      <td>0</td>\n",
       "      <td>0</td>\n",
       "      <td>0</td>\n",
       "      <td>0</td>\n",
       "      <td>0</td>\n",
       "      <td>0</td>\n",
       "      <td>0</td>\n",
       "      <td>0</td>\n",
       "    </tr>\n",
       "    <tr>\n",
       "      <th>4</th>\n",
       "      <td>0</td>\n",
       "      <td>0</td>\n",
       "      <td>0</td>\n",
       "      <td>0</td>\n",
       "      <td>0</td>\n",
       "      <td>1</td>\n",
       "      <td>0</td>\n",
       "      <td>1</td>\n",
       "      <td>0</td>\n",
       "      <td>0</td>\n",
       "      <td>0</td>\n",
       "      <td>0</td>\n",
       "      <td>0</td>\n",
       "      <td>0</td>\n",
       "      <td>0</td>\n",
       "      <td>1</td>\n",
       "      <td>0</td>\n",
       "      <td>0</td>\n",
       "    </tr>\n",
       "  </tbody>\n",
       "</table>\n",
       "</div>"
      ],
      "text/plain": [
       "   Action  Adventure  Animation  Children's  Comedy  Crime  Documentary  \\\n",
       "0       0          0          1           1       1      0            0   \n",
       "1       1          1          0           0       0      0            0   \n",
       "2       0          0          0           0       0      0            0   \n",
       "3       1          0          0           0       1      0            0   \n",
       "4       0          0          0           0       0      1            0   \n",
       "\n",
       "   Drama  Fantasy  Film-Noir  Horror  Musical  Mystery  Romance  Sci-Fi  \\\n",
       "0      0        0          0       0        0        0        0       0   \n",
       "1      0        0          0       0        0        0        0       0   \n",
       "2      0        0          0       0        0        0        0       0   \n",
       "3      1        0          0       0        0        0        0       0   \n",
       "4      1        0          0       0        0        0        0       0   \n",
       "\n",
       "   Thriller  War  Western  \n",
       "0         0    0        0  \n",
       "1         1    0        0  \n",
       "2         1    0        0  \n",
       "3         0    0        0  \n",
       "4         1    0        0  "
      ]
     },
     "execution_count": 129,
     "metadata": {},
     "output_type": "execute_result"
    }
   ],
   "source": [
    "genres.head()"
   ]
  },
  {
   "cell_type": "code",
   "execution_count": 150,
   "id": "0c19b288",
   "metadata": {},
   "outputs": [
    {
     "data": {
      "application/vnd.plotly.v1+json": {
       "config": {
        "plotlyServerURL": "https://plot.ly"
       },
       "data": [
        {
         "coloraxis": "coloraxis",
         "hovertemplate": "x: %{x}<br>y: %{y}<br>color: %{z}<extra></extra>",
         "name": "0",
         "texttemplate": "%{z:.2f}",
         "type": "heatmap",
         "x": [
          "Action",
          "Adventure",
          "Animation",
          "Children's",
          "Comedy",
          "Crime",
          "Documentary",
          "Drama",
          "Fantasy",
          "Film-Noir",
          "Horror",
          "Musical",
          "Mystery",
          "Romance",
          "Sci-Fi",
          "Thriller",
          "War",
          "Western"
         ],
         "xaxis": "x",
         "y": [
          "Action",
          "Adventure",
          "Animation",
          "Children's",
          "Comedy",
          "Crime",
          "Documentary",
          "Drama",
          "Fantasy",
          "Film-Noir",
          "Horror",
          "Musical",
          "Mystery",
          "Romance",
          "Sci-Fi",
          "Thriller",
          "War",
          "Western"
         ],
         "yaxis": "y",
         "z": {
          "bdata": "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",
          "dtype": "f8",
          "shape": "18, 18"
         }
        }
       ],
       "layout": {
        "coloraxis": {
         "cmax": 1,
         "cmin": -1,
         "colorscale": [
          [
           0,
           "blue"
          ],
          [
           0.5,
           "white"
          ],
          [
           1,
           "red"
          ]
         ]
        },
        "font": {
         "size": 16
        },
        "height": 1000,
        "paper_bgcolor": "white",
        "plot_bgcolor": "white",
        "template": {
         "data": {
          "bar": [
           {
            "error_x": {
             "color": "#2a3f5f"
            },
            "error_y": {
             "color": "#2a3f5f"
            },
            "marker": {
             "line": {
              "color": "#E5ECF6",
              "width": 0.5
             },
             "pattern": {
              "fillmode": "overlay",
              "size": 10,
              "solidity": 0.2
             }
            },
            "type": "bar"
           }
          ],
          "barpolar": [
           {
            "marker": {
             "line": {
              "color": "#E5ECF6",
              "width": 0.5
             },
             "pattern": {
              "fillmode": "overlay",
              "size": 10,
              "solidity": 0.2
             }
            },
            "type": "barpolar"
           }
          ],
          "carpet": [
           {
            "aaxis": {
             "endlinecolor": "#2a3f5f",
             "gridcolor": "white",
             "linecolor": "white",
             "minorgridcolor": "white",
             "startlinecolor": "#2a3f5f"
            },
            "baxis": {
             "endlinecolor": "#2a3f5f",
             "gridcolor": "white",
             "linecolor": "white",
             "minorgridcolor": "white",
             "startlinecolor": "#2a3f5f"
            },
            "type": "carpet"
           }
          ],
          "choropleth": [
           {
            "colorbar": {
             "outlinewidth": 0,
             "ticks": ""
            },
            "type": "choropleth"
           }
          ],
          "contour": [
           {
            "colorbar": {
             "outlinewidth": 0,
             "ticks": ""
            },
            "colorscale": [
             [
              0,
              "#0d0887"
             ],
             [
              0.1111111111111111,
              "#46039f"
             ],
             [
              0.2222222222222222,
              "#7201a8"
             ],
             [
              0.3333333333333333,
              "#9c179e"
             ],
             [
              0.4444444444444444,
              "#bd3786"
             ],
             [
              0.5555555555555556,
              "#d8576b"
             ],
             [
              0.6666666666666666,
              "#ed7953"
             ],
             [
              0.7777777777777778,
              "#fb9f3a"
             ],
             [
              0.8888888888888888,
              "#fdca26"
             ],
             [
              1,
              "#f0f921"
             ]
            ],
            "type": "contour"
           }
          ],
          "contourcarpet": [
           {
            "colorbar": {
             "outlinewidth": 0,
             "ticks": ""
            },
            "type": "contourcarpet"
           }
          ],
          "heatmap": [
           {
            "colorbar": {
             "outlinewidth": 0,
             "ticks": ""
            },
            "colorscale": [
             [
              0,
              "#0d0887"
             ],
             [
              0.1111111111111111,
              "#46039f"
             ],
             [
              0.2222222222222222,
              "#7201a8"
             ],
             [
              0.3333333333333333,
              "#9c179e"
             ],
             [
              0.4444444444444444,
              "#bd3786"
             ],
             [
              0.5555555555555556,
              "#d8576b"
             ],
             [
              0.6666666666666666,
              "#ed7953"
             ],
             [
              0.7777777777777778,
              "#fb9f3a"
             ],
             [
              0.8888888888888888,
              "#fdca26"
             ],
             [
              1,
              "#f0f921"
             ]
            ],
            "type": "heatmap"
           }
          ],
          "histogram": [
           {
            "marker": {
             "pattern": {
              "fillmode": "overlay",
              "size": 10,
              "solidity": 0.2
             }
            },
            "type": "histogram"
           }
          ],
          "histogram2d": [
           {
            "colorbar": {
             "outlinewidth": 0,
             "ticks": ""
            },
            "colorscale": [
             [
              0,
              "#0d0887"
             ],
             [
              0.1111111111111111,
              "#46039f"
             ],
             [
              0.2222222222222222,
              "#7201a8"
             ],
             [
              0.3333333333333333,
              "#9c179e"
             ],
             [
              0.4444444444444444,
              "#bd3786"
             ],
             [
              0.5555555555555556,
              "#d8576b"
             ],
             [
              0.6666666666666666,
              "#ed7953"
             ],
             [
              0.7777777777777778,
              "#fb9f3a"
             ],
             [
              0.8888888888888888,
              "#fdca26"
             ],
             [
              1,
              "#f0f921"
             ]
            ],
            "type": "histogram2d"
           }
          ],
          "histogram2dcontour": [
           {
            "colorbar": {
             "outlinewidth": 0,
             "ticks": ""
            },
            "colorscale": [
             [
              0,
              "#0d0887"
             ],
             [
              0.1111111111111111,
              "#46039f"
             ],
             [
              0.2222222222222222,
              "#7201a8"
             ],
             [
              0.3333333333333333,
              "#9c179e"
             ],
             [
              0.4444444444444444,
              "#bd3786"
             ],
             [
              0.5555555555555556,
              "#d8576b"
             ],
             [
              0.6666666666666666,
              "#ed7953"
             ],
             [
              0.7777777777777778,
              "#fb9f3a"
             ],
             [
              0.8888888888888888,
              "#fdca26"
             ],
             [
              1,
              "#f0f921"
             ]
            ],
            "type": "histogram2dcontour"
           }
          ],
          "mesh3d": [
           {
            "colorbar": {
             "outlinewidth": 0,
             "ticks": ""
            },
            "type": "mesh3d"
           }
          ],
          "parcoords": [
           {
            "line": {
             "colorbar": {
              "outlinewidth": 0,
              "ticks": ""
             }
            },
            "type": "parcoords"
           }
          ],
          "pie": [
           {
            "automargin": true,
            "type": "pie"
           }
          ],
          "scatter": [
           {
            "fillpattern": {
             "fillmode": "overlay",
             "size": 10,
             "solidity": 0.2
            },
            "type": "scatter"
           }
          ],
          "scatter3d": [
           {
            "line": {
             "colorbar": {
              "outlinewidth": 0,
              "ticks": ""
             }
            },
            "marker": {
             "colorbar": {
              "outlinewidth": 0,
              "ticks": ""
             }
            },
            "type": "scatter3d"
           }
          ],
          "scattercarpet": [
           {
            "marker": {
             "colorbar": {
              "outlinewidth": 0,
              "ticks": ""
             }
            },
            "type": "scattercarpet"
           }
          ],
          "scattergeo": [
           {
            "marker": {
             "colorbar": {
              "outlinewidth": 0,
              "ticks": ""
             }
            },
            "type": "scattergeo"
           }
          ],
          "scattergl": [
           {
            "marker": {
             "colorbar": {
              "outlinewidth": 0,
              "ticks": ""
             }
            },
            "type": "scattergl"
           }
          ],
          "scattermap": [
           {
            "marker": {
             "colorbar": {
              "outlinewidth": 0,
              "ticks": ""
             }
            },
            "type": "scattermap"
           }
          ],
          "scattermapbox": [
           {
            "marker": {
             "colorbar": {
              "outlinewidth": 0,
              "ticks": ""
             }
            },
            "type": "scattermapbox"
           }
          ],
          "scatterpolar": [
           {
            "marker": {
             "colorbar": {
              "outlinewidth": 0,
              "ticks": ""
             }
            },
            "type": "scatterpolar"
           }
          ],
          "scatterpolargl": [
           {
            "marker": {
             "colorbar": {
              "outlinewidth": 0,
              "ticks": ""
             }
            },
            "type": "scatterpolargl"
           }
          ],
          "scatterternary": [
           {
            "marker": {
             "colorbar": {
              "outlinewidth": 0,
              "ticks": ""
             }
            },
            "type": "scatterternary"
           }
          ],
          "surface": [
           {
            "colorbar": {
             "outlinewidth": 0,
             "ticks": ""
            },
            "colorscale": [
             [
              0,
              "#0d0887"
             ],
             [
              0.1111111111111111,
              "#46039f"
             ],
             [
              0.2222222222222222,
              "#7201a8"
             ],
             [
              0.3333333333333333,
              "#9c179e"
             ],
             [
              0.4444444444444444,
              "#bd3786"
             ],
             [
              0.5555555555555556,
              "#d8576b"
             ],
             [
              0.6666666666666666,
              "#ed7953"
             ],
             [
              0.7777777777777778,
              "#fb9f3a"
             ],
             [
              0.8888888888888888,
              "#fdca26"
             ],
             [
              1,
              "#f0f921"
             ]
            ],
            "type": "surface"
           }
          ],
          "table": [
           {
            "cells": {
             "fill": {
              "color": "#EBF0F8"
             },
             "line": {
              "color": "white"
             }
            },
            "header": {
             "fill": {
              "color": "#C8D4E3"
             },
             "line": {
              "color": "white"
             }
            },
            "type": "table"
           }
          ]
         },
         "layout": {
          "annotationdefaults": {
           "arrowcolor": "#2a3f5f",
           "arrowhead": 0,
           "arrowwidth": 1
          },
          "autotypenumbers": "strict",
          "coloraxis": {
           "colorbar": {
            "outlinewidth": 0,
            "ticks": ""
           }
          },
          "colorscale": {
           "diverging": [
            [
             0,
             "#8e0152"
            ],
            [
             0.1,
             "#c51b7d"
            ],
            [
             0.2,
             "#de77ae"
            ],
            [
             0.3,
             "#f1b6da"
            ],
            [
             0.4,
             "#fde0ef"
            ],
            [
             0.5,
             "#f7f7f7"
            ],
            [
             0.6,
             "#e6f5d0"
            ],
            [
             0.7,
             "#b8e186"
            ],
            [
             0.8,
             "#7fbc41"
            ],
            [
             0.9,
             "#4d9221"
            ],
            [
             1,
             "#276419"
            ]
           ],
           "sequential": [
            [
             0,
             "#0d0887"
            ],
            [
             0.1111111111111111,
             "#46039f"
            ],
            [
             0.2222222222222222,
             "#7201a8"
            ],
            [
             0.3333333333333333,
             "#9c179e"
            ],
            [
             0.4444444444444444,
             "#bd3786"
            ],
            [
             0.5555555555555556,
             "#d8576b"
            ],
            [
             0.6666666666666666,
             "#ed7953"
            ],
            [
             0.7777777777777778,
             "#fb9f3a"
            ],
            [
             0.8888888888888888,
             "#fdca26"
            ],
            [
             1,
             "#f0f921"
            ]
           ],
           "sequentialminus": [
            [
             0,
             "#0d0887"
            ],
            [
             0.1111111111111111,
             "#46039f"
            ],
            [
             0.2222222222222222,
             "#7201a8"
            ],
            [
             0.3333333333333333,
             "#9c179e"
            ],
            [
             0.4444444444444444,
             "#bd3786"
            ],
            [
             0.5555555555555556,
             "#d8576b"
            ],
            [
             0.6666666666666666,
             "#ed7953"
            ],
            [
             0.7777777777777778,
             "#fb9f3a"
            ],
            [
             0.8888888888888888,
             "#fdca26"
            ],
            [
             1,
             "#f0f921"
            ]
           ]
          },
          "colorway": [
           "#636efa",
           "#EF553B",
           "#00cc96",
           "#ab63fa",
           "#FFA15A",
           "#19d3f3",
           "#FF6692",
           "#B6E880",
           "#FF97FF",
           "#FECB52"
          ],
          "font": {
           "color": "#2a3f5f"
          },
          "geo": {
           "bgcolor": "white",
           "lakecolor": "white",
           "landcolor": "#E5ECF6",
           "showlakes": true,
           "showland": true,
           "subunitcolor": "white"
          },
          "hoverlabel": {
           "align": "left"
          },
          "hovermode": "closest",
          "mapbox": {
           "style": "light"
          },
          "paper_bgcolor": "white",
          "plot_bgcolor": "#E5ECF6",
          "polar": {
           "angularaxis": {
            "gridcolor": "white",
            "linecolor": "white",
            "ticks": ""
           },
           "bgcolor": "#E5ECF6",
           "radialaxis": {
            "gridcolor": "white",
            "linecolor": "white",
            "ticks": ""
           }
          },
          "scene": {
           "xaxis": {
            "backgroundcolor": "#E5ECF6",
            "gridcolor": "white",
            "gridwidth": 2,
            "linecolor": "white",
            "showbackground": true,
            "ticks": "",
            "zerolinecolor": "white"
           },
           "yaxis": {
            "backgroundcolor": "#E5ECF6",
            "gridcolor": "white",
            "gridwidth": 2,
            "linecolor": "white",
            "showbackground": true,
            "ticks": "",
            "zerolinecolor": "white"
           },
           "zaxis": {
            "backgroundcolor": "#E5ECF6",
            "gridcolor": "white",
            "gridwidth": 2,
            "linecolor": "white",
            "showbackground": true,
            "ticks": "",
            "zerolinecolor": "white"
           }
          },
          "shapedefaults": {
           "line": {
            "color": "#2a3f5f"
           }
          },
          "ternary": {
           "aaxis": {
            "gridcolor": "white",
            "linecolor": "white",
            "ticks": ""
           },
           "baxis": {
            "gridcolor": "white",
            "linecolor": "white",
            "ticks": ""
           },
           "bgcolor": "#E5ECF6",
           "caxis": {
            "gridcolor": "white",
            "linecolor": "white",
            "ticks": ""
           }
          },
          "title": {
           "x": 0.05
          },
          "xaxis": {
           "automargin": true,
           "gridcolor": "white",
           "linecolor": "white",
           "ticks": "",
           "title": {
            "standoff": 15
           },
           "zerolinecolor": "white",
           "zerolinewidth": 2
          },
          "yaxis": {
           "automargin": true,
           "gridcolor": "white",
           "linecolor": "white",
           "ticks": "",
           "title": {
            "standoff": 15
           },
           "zerolinecolor": "white",
           "zerolinewidth": 2
          }
         }
        },
        "title": {
         "font": {
          "family": "Arial",
          "size": 24,
          "weight": "bold"
         },
         "text": "Корреляционная матрица"
        },
        "width": 1000,
        "xaxis": {
         "anchor": "y",
         "constrain": "domain",
         "domain": [
          0,
          1
         ],
         "scaleanchor": "y",
         "tickfont": {
          "size": 16
         },
         "title": {
          "font": {
           "family": "Arial",
           "size": 20
          }
         }
        },
        "yaxis": {
         "anchor": "x",
         "autorange": "reversed",
         "constrain": "domain",
         "domain": [
          0,
          1
         ],
         "tickfont": {
          "size": 16
         },
         "title": {
          "font": {
           "family": "Arial",
           "size": 20
          }
         }
        }
       }
      }
     },
     "metadata": {},
     "output_type": "display_data"
    }
   ],
   "source": [
    "corr_matrix = genres.corr()\n",
    "\n",
    "fig_6 = px.imshow(\n",
    "    corr_matrix,\n",
    "    text_auto=\".2f\",  # Формат чисел с 2 знаками после запятой\n",
    "    color_continuous_scale=[\"blue\", \"white\", \"red\"],\n",
    "    zmin=-1,  # Минимальное значение шкалы\n",
    "    zmax=1,  # Максимальное значение шкалы\n",
    "    title=\"Корреляционная матрица\",\n",
    ")\n",
    "\n",
    "# Настройка внешнего вида\n",
    "fig_6.update_layout(\n",
    "    width=1000,\n",
    "    height=1000,\n",
    "    # xaxis_title=\"Переменные\", yaxis_title=\"Переменные\"\n",
    ")\n",
    "fig_6.update_layout(\n",
    "    plot_bgcolor=\"white\",\n",
    "    paper_bgcolor=\"white\",\n",
    "    font=dict(size=16),\n",
    "    xaxis=dict(\n",
    "        title_font=dict(size=20),\n",
    "        tickfont=dict(size=16),\n",
    "        # gridcolor=\"lightgray\",\n",
    "        # gridwidth=1,\n",
    "        # griddash=\"dash\",\n",
    "        # showline=True,\n",
    "        # linecolor=\"black\",\n",
    "        # linewidth=1,\n",
    "    ),\n",
    "    yaxis=dict(\n",
    "        title_font=dict(size=20),\n",
    "        tickfont=dict(size=16),\n",
    "        # gridcolor=\"lightgray\",\n",
    "        # gridwidth=1,\n",
    "        # griddash=\"dash\",\n",
    "        # showline=True,\n",
    "        # linecolor=\"black\",\n",
    "        # linewidth=1,\n",
    "    ),\n",
    "    title_font=dict(size=24, family=\"Arial\", weight=\"bold\"),\n",
    ")\n",
    "fig_6.update_xaxes(\n",
    "    # title_text=\"Название оси X\",\n",
    "    title_font=dict(size=20, family=\"Arial\")\n",
    ")\n",
    "fig_6.update_yaxes(\n",
    "    # title_text=\"Название оси Y\",\n",
    "    title_font=dict(size=20, family=\"Arial\")\n",
    ")\n",
    "fig_6.show()"
   ]
  },
  {
   "cell_type": "markdown",
   "id": "1ff33cfa-a490-4ed9-8e9c-939d763bd8f2",
   "metadata": {},
   "source": [
    "# ❓\n",
    "\n",
    "Найди два жанра, которые больше всего близки друг к другу и запиши ответ в ячейку ниже"
   ]
  },
  {
   "cell_type": "markdown",
   "id": "98dd39ff-6279-448a-98f3-3434fc697636",
   "metadata": {},
   "source": [
    "> Children и Animation"
   ]
  },
  {
   "cell_type": "markdown",
   "id": "5d5b719c-3350-4a0c-843a-e975a5acee15",
   "metadata": {},
   "source": [
    "<img src=\"https://icons.iconarchive.com/icons/icons8/windows-8/256/Programming-Github-icon.png\" width=32 /> Пора сохранить изменения для __github__. После пуша распечатай результат команды `!git status` в ячейке ниже."
   ]
  },
  {
   "cell_type": "code",
   "execution_count": 33,
   "id": "a1ddc9f3-9352-433b-b73c-cf89a51fb974",
   "metadata": {},
   "outputs": [],
   "source": [
    "# code"
   ]
  },
  {
   "cell_type": "markdown",
   "id": "44549035-c506-45ee-9f2a-83938ae4bba8",
   "metadata": {},
   "source": [
    "### Анализ рейтинга 🔢\n",
    "Рейтинг - самое информативное, что у тебя есть. \n",
    "\n",
    "1. Построй распределение количества оценок, поставленных пользователем. Это должна быть функция, которая принимает на вход `user_id`, а на выходе возвращает словарь вида: \n",
    "    \n",
    "`{1: <число оценок 1, 2: <число оценок 2>, ..., 5 <число оценок 5>}`\n",
    "\n",
    "На основе этой результата данной функции должен строиться словарь. "
   ]
  },
  {
   "cell_type": "code",
   "execution_count": 156,
   "id": "82e75730",
   "metadata": {},
   "outputs": [
    {
     "data": {
      "text/html": [
       "<div>\n",
       "<style scoped>\n",
       "    .dataframe tbody tr th:only-of-type {\n",
       "        vertical-align: middle;\n",
       "    }\n",
       "\n",
       "    .dataframe tbody tr th {\n",
       "        vertical-align: top;\n",
       "    }\n",
       "\n",
       "    .dataframe thead th {\n",
       "        text-align: right;\n",
       "    }\n",
       "</style>\n",
       "<table border=\"1\" class=\"dataframe\">\n",
       "  <thead>\n",
       "    <tr style=\"text-align: right;\">\n",
       "      <th></th>\n",
       "      <th>user_id</th>\n",
       "      <th>movie_id</th>\n",
       "      <th>rating</th>\n",
       "      <th>unix_timestamp</th>\n",
       "      <th>title</th>\n",
       "    </tr>\n",
       "  </thead>\n",
       "  <tbody>\n",
       "    <tr>\n",
       "      <th>0</th>\n",
       "      <td>196</td>\n",
       "      <td>242</td>\n",
       "      <td>3</td>\n",
       "      <td>881250949</td>\n",
       "      <td>Kolya (1996)</td>\n",
       "    </tr>\n",
       "    <tr>\n",
       "      <th>1</th>\n",
       "      <td>186</td>\n",
       "      <td>302</td>\n",
       "      <td>3</td>\n",
       "      <td>891717742</td>\n",
       "      <td>L.A. Confidential (1997)</td>\n",
       "    </tr>\n",
       "    <tr>\n",
       "      <th>2</th>\n",
       "      <td>22</td>\n",
       "      <td>377</td>\n",
       "      <td>1</td>\n",
       "      <td>878887116</td>\n",
       "      <td>Heavyweights (1994)</td>\n",
       "    </tr>\n",
       "    <tr>\n",
       "      <th>3</th>\n",
       "      <td>244</td>\n",
       "      <td>51</td>\n",
       "      <td>2</td>\n",
       "      <td>880606923</td>\n",
       "      <td>Legends of the Fall (1994)</td>\n",
       "    </tr>\n",
       "    <tr>\n",
       "      <th>4</th>\n",
       "      <td>166</td>\n",
       "      <td>346</td>\n",
       "      <td>1</td>\n",
       "      <td>886397596</td>\n",
       "      <td>Jackie Brown (1997)</td>\n",
       "    </tr>\n",
       "  </tbody>\n",
       "</table>\n",
       "</div>"
      ],
      "text/plain": [
       "   user_id  movie_id  rating  unix_timestamp                       title\n",
       "0      196       242       3       881250949                Kolya (1996)\n",
       "1      186       302       3       891717742    L.A. Confidential (1997)\n",
       "2       22       377       1       878887116         Heavyweights (1994)\n",
       "3      244        51       2       880606923  Legends of the Fall (1994)\n",
       "4      166       346       1       886397596         Jackie Brown (1997)"
      ]
     },
     "execution_count": 156,
     "metadata": {},
     "output_type": "execute_result"
    }
   ],
   "source": [
    "ratings.head()"
   ]
  },
  {
   "cell_type": "code",
   "execution_count": 170,
   "id": "cab236a5",
   "metadata": {},
   "outputs": [
    {
     "data": {
      "text/html": [
       "<div>\n",
       "<style scoped>\n",
       "    .dataframe tbody tr th:only-of-type {\n",
       "        vertical-align: middle;\n",
       "    }\n",
       "\n",
       "    .dataframe tbody tr th {\n",
       "        vertical-align: top;\n",
       "    }\n",
       "\n",
       "    .dataframe thead th {\n",
       "        text-align: right;\n",
       "    }\n",
       "</style>\n",
       "<table border=\"1\" class=\"dataframe\">\n",
       "  <thead>\n",
       "    <tr style=\"text-align: right;\">\n",
       "      <th></th>\n",
       "      <th>user_id</th>\n",
       "      <th>movie_id</th>\n",
       "      <th>rating</th>\n",
       "      <th>unix_timestamp</th>\n",
       "      <th>title</th>\n",
       "    </tr>\n",
       "  </thead>\n",
       "  <tbody>\n",
       "    <tr>\n",
       "      <th>41842</th>\n",
       "      <td>1</td>\n",
       "      <td>46</td>\n",
       "      <td>4</td>\n",
       "      <td>876893230</td>\n",
       "      <td>Exotica (1994)</td>\n",
       "    </tr>\n",
       "    <tr>\n",
       "      <th>38751</th>\n",
       "      <td>1</td>\n",
       "      <td>257</td>\n",
       "      <td>4</td>\n",
       "      <td>874965954</td>\n",
       "      <td>Men in Black (1997)</td>\n",
       "    </tr>\n",
       "    <tr>\n",
       "      <th>8976</th>\n",
       "      <td>1</td>\n",
       "      <td>12</td>\n",
       "      <td>5</td>\n",
       "      <td>878542960</td>\n",
       "      <td>Usual Suspects, The (1995)</td>\n",
       "    </tr>\n",
       "    <tr>\n",
       "      <th>3248</th>\n",
       "      <td>1</td>\n",
       "      <td>74</td>\n",
       "      <td>1</td>\n",
       "      <td>889751736</td>\n",
       "      <td>Faster Pussycat! Kill! Kill! (1965)</td>\n",
       "    </tr>\n",
       "    <tr>\n",
       "      <th>3260</th>\n",
       "      <td>1</td>\n",
       "      <td>134</td>\n",
       "      <td>4</td>\n",
       "      <td>875073067</td>\n",
       "      <td>Citizen Kane (1941)</td>\n",
       "    </tr>\n",
       "    <tr>\n",
       "      <th>...</th>\n",
       "      <td>...</td>\n",
       "      <td>...</td>\n",
       "      <td>...</td>\n",
       "      <td>...</td>\n",
       "      <td>...</td>\n",
       "    </tr>\n",
       "    <tr>\n",
       "      <th>95594</th>\n",
       "      <td>943</td>\n",
       "      <td>217</td>\n",
       "      <td>3</td>\n",
       "      <td>888640067</td>\n",
       "      <td>Bram Stoker's Dracula (1992)</td>\n",
       "    </tr>\n",
       "    <tr>\n",
       "      <th>77956</th>\n",
       "      <td>943</td>\n",
       "      <td>94</td>\n",
       "      <td>4</td>\n",
       "      <td>888639929</td>\n",
       "      <td>Home Alone (1990)</td>\n",
       "    </tr>\n",
       "    <tr>\n",
       "      <th>76855</th>\n",
       "      <td>943</td>\n",
       "      <td>943</td>\n",
       "      <td>5</td>\n",
       "      <td>888639614</td>\n",
       "      <td>Killing Zoe (1994)</td>\n",
       "    </tr>\n",
       "    <tr>\n",
       "      <th>94966</th>\n",
       "      <td>943</td>\n",
       "      <td>566</td>\n",
       "      <td>4</td>\n",
       "      <td>888639886</td>\n",
       "      <td>Clear and Present Danger (1994)</td>\n",
       "    </tr>\n",
       "    <tr>\n",
       "      <th>90134</th>\n",
       "      <td>943</td>\n",
       "      <td>2</td>\n",
       "      <td>5</td>\n",
       "      <td>888639953</td>\n",
       "      <td>GoldenEye (1995)</td>\n",
       "    </tr>\n",
       "  </tbody>\n",
       "</table>\n",
       "<p>100000 rows × 5 columns</p>\n",
       "</div>"
      ],
      "text/plain": [
       "       user_id  movie_id  rating  unix_timestamp  \\\n",
       "41842        1        46       4       876893230   \n",
       "38751        1       257       4       874965954   \n",
       "8976         1        12       5       878542960   \n",
       "3248         1        74       1       889751736   \n",
       "3260         1       134       4       875073067   \n",
       "...        ...       ...     ...             ...   \n",
       "95594      943       217       3       888640067   \n",
       "77956      943        94       4       888639929   \n",
       "76855      943       943       5       888639614   \n",
       "94966      943       566       4       888639886   \n",
       "90134      943         2       5       888639953   \n",
       "\n",
       "                                     title  \n",
       "41842                       Exotica (1994)  \n",
       "38751                  Men in Black (1997)  \n",
       "8976            Usual Suspects, The (1995)  \n",
       "3248   Faster Pussycat! Kill! Kill! (1965)  \n",
       "3260                   Citizen Kane (1941)  \n",
       "...                                    ...  \n",
       "95594         Bram Stoker's Dracula (1992)  \n",
       "77956                    Home Alone (1990)  \n",
       "76855                   Killing Zoe (1994)  \n",
       "94966      Clear and Present Danger (1994)  \n",
       "90134                     GoldenEye (1995)  \n",
       "\n",
       "[100000 rows x 5 columns]"
      ]
     },
     "execution_count": 170,
     "metadata": {},
     "output_type": "execute_result"
    }
   ],
   "source": [
    "ratings.sort_values(\"user_id\")"
   ]
  },
  {
   "cell_type": "code",
   "execution_count": 159,
   "id": "ca934862",
   "metadata": {},
   "outputs": [
    {
     "data": {
      "text/plain": [
       "5"
      ]
     },
     "execution_count": 159,
     "metadata": {},
     "output_type": "execute_result"
    }
   ],
   "source": [
    "ratings[\"rating\"].nunique()"
   ]
  },
  {
   "cell_type": "code",
   "execution_count": 189,
   "id": "be0b1a87",
   "metadata": {},
   "outputs": [
    {
     "data": {
      "text/plain": [
       "np.int64(10)"
      ]
     },
     "execution_count": 189,
     "metadata": {},
     "output_type": "execute_result"
    }
   ],
   "source": [
    "temp = ratings.groupby([\"user_id\", \"rating\"]).count()[\"movie_id\"]\n",
    "# user_ratings = {}\n",
    "# user_ratings[1] = temp[1][1]\n",
    "# user_ratings\n",
    "temp[8][3]\n",
    "# temp"
   ]
  },
  {
   "cell_type": "code",
   "execution_count": 203,
   "id": "06eda556",
   "metadata": {},
   "outputs": [],
   "source": [
    "def get_user_ratings(user_id: int) -> dict:\n",
    "    # temp = ratings.groupby([\"user_id\", \"rating\"]).count()[\"movie_id\"]\n",
    "    user_ratings = {}\n",
    "    user_series = temp.loc[user_id]\n",
    "    for i in range(1, 6):\n",
    "        user_ratings[i] = user_series.get(i, 0)\n",
    "    return user_ratings"
   ]
  },
  {
   "cell_type": "code",
   "execution_count": 204,
   "id": "d4c7b1e9-6cd1-46a3-b0ff-fb2f8aee5f3e",
   "metadata": {},
   "outputs": [
    {
     "data": {
      "text/plain": [
       "{1: np.int64(5),\n",
       " 2: np.int64(19),\n",
       " 3: np.int64(81),\n",
       " 4: np.int64(96),\n",
       " 5: np.int64(16)}"
      ]
     },
     "execution_count": 204,
     "metadata": {},
     "output_type": "execute_result"
    }
   ],
   "source": [
    "get_user_ratings(456)"
   ]
  },
  {
   "cell_type": "markdown",
   "id": "b74f141c-a492-466a-a1ef-96ad03b54e2e",
   "metadata": {},
   "source": [
    "2. Построй распределение средней оценки по пользователям. Для этого нужно узнать, какая средняя оценка у каждого пользователя, а после этого построить распределение. "
   ]
  },
  {
   "cell_type": "code",
   "execution_count": null,
   "id": "103bc657",
   "metadata": {},
   "outputs": [],
   "source": [
    "def get_mean_rating(user_id: int) -> np.float64:\n",
    "    user_ratings = get_user_ratings(user_id)\n",
    "    sum_for_mean = 0\n",
    "    for i in user_ratings.keys():\n",
    "        sum_for_mean += user_ratings[i] * i\n",
    "    return sum_for_mean / sum(user_ratings.values())"
   ]
  },
  {
   "cell_type": "code",
   "execution_count": null,
   "id": "8d0a9fc9",
   "metadata": {},
   "outputs": [
    {
     "data": {
      "text/plain": [
       "np.float64(3.610294117647059)"
      ]
     },
     "metadata": {},
     "output_type": "display_data"
    }
   ],
   "source": [
    "get_mean_rating(1)"
   ]
  },
  {
   "cell_type": "code",
   "execution_count": null,
   "id": "30fb1468",
   "metadata": {},
   "outputs": [],
   "source": [
    "aver_rating_distrib = users[\"user_id\"].copy().reset_index()\n",
    "# aver_rating_distrib[\"nunique_ratings\"] = aver_rating_distrib[\"user_id\"].map(\n",
    "#     lambda x: len(get_user_ratings(x).keys())\n",
    "# )\n",
    "aver_rating_distrib[\"mean_rating\"] = aver_rating_distrib[\"user_id\"].map(get_mean_rating)\n",
    "# get_mean_rating(aver_rating_distrib.loc[0, \"user_id\"])"
   ]
  },
  {
   "cell_type": "code",
   "execution_count": null,
   "id": "8a56bfa4",
   "metadata": {},
   "outputs": [
    {
     "data": {
      "text/html": [
       "<div>\n",
       "<style scoped>\n",
       "    .dataframe tbody tr th:only-of-type {\n",
       "        vertical-align: middle;\n",
       "    }\n",
       "\n",
       "    .dataframe tbody tr th {\n",
       "        vertical-align: top;\n",
       "    }\n",
       "\n",
       "    .dataframe thead th {\n",
       "        text-align: right;\n",
       "    }\n",
       "</style>\n",
       "<table border=\"1\" class=\"dataframe\">\n",
       "  <thead>\n",
       "    <tr style=\"text-align: right;\">\n",
       "      <th></th>\n",
       "      <th>index</th>\n",
       "      <th>user_id</th>\n",
       "      <th>mean_rating</th>\n",
       "    </tr>\n",
       "  </thead>\n",
       "  <tbody>\n",
       "    <tr>\n",
       "      <th>0</th>\n",
       "      <td>0</td>\n",
       "      <td>1</td>\n",
       "      <td>3.610294</td>\n",
       "    </tr>\n",
       "    <tr>\n",
       "      <th>1</th>\n",
       "      <td>1</td>\n",
       "      <td>2</td>\n",
       "      <td>3.709677</td>\n",
       "    </tr>\n",
       "    <tr>\n",
       "      <th>2</th>\n",
       "      <td>2</td>\n",
       "      <td>3</td>\n",
       "      <td>2.796296</td>\n",
       "    </tr>\n",
       "    <tr>\n",
       "      <th>3</th>\n",
       "      <td>3</td>\n",
       "      <td>4</td>\n",
       "      <td>4.333333</td>\n",
       "    </tr>\n",
       "    <tr>\n",
       "      <th>4</th>\n",
       "      <td>4</td>\n",
       "      <td>5</td>\n",
       "      <td>2.874286</td>\n",
       "    </tr>\n",
       "    <tr>\n",
       "      <th>...</th>\n",
       "      <td>...</td>\n",
       "      <td>...</td>\n",
       "      <td>...</td>\n",
       "    </tr>\n",
       "    <tr>\n",
       "      <th>938</th>\n",
       "      <td>938</td>\n",
       "      <td>939</td>\n",
       "      <td>4.265306</td>\n",
       "    </tr>\n",
       "    <tr>\n",
       "      <th>939</th>\n",
       "      <td>939</td>\n",
       "      <td>940</td>\n",
       "      <td>3.457944</td>\n",
       "    </tr>\n",
       "    <tr>\n",
       "      <th>940</th>\n",
       "      <td>940</td>\n",
       "      <td>941</td>\n",
       "      <td>4.045455</td>\n",
       "    </tr>\n",
       "    <tr>\n",
       "      <th>941</th>\n",
       "      <td>941</td>\n",
       "      <td>942</td>\n",
       "      <td>4.265823</td>\n",
       "    </tr>\n",
       "    <tr>\n",
       "      <th>942</th>\n",
       "      <td>942</td>\n",
       "      <td>943</td>\n",
       "      <td>3.410714</td>\n",
       "    </tr>\n",
       "  </tbody>\n",
       "</table>\n",
       "<p>943 rows × 3 columns</p>\n",
       "</div>"
      ],
      "text/plain": [
       "     index  user_id  mean_rating\n",
       "0        0        1     3.610294\n",
       "1        1        2     3.709677\n",
       "2        2        3     2.796296\n",
       "3        3        4     4.333333\n",
       "4        4        5     2.874286\n",
       "..     ...      ...          ...\n",
       "938    938      939     4.265306\n",
       "939    939      940     3.457944\n",
       "940    940      941     4.045455\n",
       "941    941      942     4.265823\n",
       "942    942      943     3.410714\n",
       "\n",
       "[943 rows x 3 columns]"
      ]
     },
     "metadata": {},
     "output_type": "display_data"
    }
   ],
   "source": [
    "aver_rating_distrib"
   ]
  },
  {
   "cell_type": "code",
   "execution_count": 223,
   "id": "59d62630-998f-421e-b9f3-a36189b596fb",
   "metadata": {},
   "outputs": [
    {
     "data": {
      "application/vnd.plotly.v1+json": {
       "config": {
        "plotlyServerURL": "https://plot.ly"
       },
       "data": [
        {
         "hovertemplate": "x=%{x}<br>density=%{y}<extra></extra>",
         "legendgroup": "",
         "line": {
          "color": "#636efa",
          "dash": "solid"
         },
         "marker": {
          "line": {
           "color": "black",
           "width": 1
          },
          "symbol": "circle"
         },
         "mode": "lines",
         "name": "",
         "orientation": "v",
         "showlegend": false,
         "type": "scatter",
         "x": {
          "bdata": "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",
          "dtype": "f8"
         },
         "xaxis": "x",
         "y": {
          "bdata": "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",
          "dtype": "f8"
         },
         "yaxis": "y"
        }
       ],
       "layout": {
        "font": {
         "size": 14
        },
        "height": 600,
        "legend": {
         "tracegroupgap": 0
        },
        "paper_bgcolor": "white",
        "plot_bgcolor": "white",
        "showlegend": false,
        "template": {
         "data": {
          "bar": [
           {
            "error_x": {
             "color": "#2a3f5f"
            },
            "error_y": {
             "color": "#2a3f5f"
            },
            "marker": {
             "line": {
              "color": "#E5ECF6",
              "width": 0.5
             },
             "pattern": {
              "fillmode": "overlay",
              "size": 10,
              "solidity": 0.2
             }
            },
            "type": "bar"
           }
          ],
          "barpolar": [
           {
            "marker": {
             "line": {
              "color": "#E5ECF6",
              "width": 0.5
             },
             "pattern": {
              "fillmode": "overlay",
              "size": 10,
              "solidity": 0.2
             }
            },
            "type": "barpolar"
           }
          ],
          "carpet": [
           {
            "aaxis": {
             "endlinecolor": "#2a3f5f",
             "gridcolor": "white",
             "linecolor": "white",
             "minorgridcolor": "white",
             "startlinecolor": "#2a3f5f"
            },
            "baxis": {
             "endlinecolor": "#2a3f5f",
             "gridcolor": "white",
             "linecolor": "white",
             "minorgridcolor": "white",
             "startlinecolor": "#2a3f5f"
            },
            "type": "carpet"
           }
          ],
          "choropleth": [
           {
            "colorbar": {
             "outlinewidth": 0,
             "ticks": ""
            },
            "type": "choropleth"
           }
          ],
          "contour": [
           {
            "colorbar": {
             "outlinewidth": 0,
             "ticks": ""
            },
            "colorscale": [
             [
              0,
              "#0d0887"
             ],
             [
              0.1111111111111111,
              "#46039f"
             ],
             [
              0.2222222222222222,
              "#7201a8"
             ],
             [
              0.3333333333333333,
              "#9c179e"
             ],
             [
              0.4444444444444444,
              "#bd3786"
             ],
             [
              0.5555555555555556,
              "#d8576b"
             ],
             [
              0.6666666666666666,
              "#ed7953"
             ],
             [
              0.7777777777777778,
              "#fb9f3a"
             ],
             [
              0.8888888888888888,
              "#fdca26"
             ],
             [
              1,
              "#f0f921"
             ]
            ],
            "type": "contour"
           }
          ],
          "contourcarpet": [
           {
            "colorbar": {
             "outlinewidth": 0,
             "ticks": ""
            },
            "type": "contourcarpet"
           }
          ],
          "heatmap": [
           {
            "colorbar": {
             "outlinewidth": 0,
             "ticks": ""
            },
            "colorscale": [
             [
              0,
              "#0d0887"
             ],
             [
              0.1111111111111111,
              "#46039f"
             ],
             [
              0.2222222222222222,
              "#7201a8"
             ],
             [
              0.3333333333333333,
              "#9c179e"
             ],
             [
              0.4444444444444444,
              "#bd3786"
             ],
             [
              0.5555555555555556,
              "#d8576b"
             ],
             [
              0.6666666666666666,
              "#ed7953"
             ],
             [
              0.7777777777777778,
              "#fb9f3a"
             ],
             [
              0.8888888888888888,
              "#fdca26"
             ],
             [
              1,
              "#f0f921"
             ]
            ],
            "type": "heatmap"
           }
          ],
          "histogram": [
           {
            "marker": {
             "pattern": {
              "fillmode": "overlay",
              "size": 10,
              "solidity": 0.2
             }
            },
            "type": "histogram"
           }
          ],
          "histogram2d": [
           {
            "colorbar": {
             "outlinewidth": 0,
             "ticks": ""
            },
            "colorscale": [
             [
              0,
              "#0d0887"
             ],
             [
              0.1111111111111111,
              "#46039f"
             ],
             [
              0.2222222222222222,
              "#7201a8"
             ],
             [
              0.3333333333333333,
              "#9c179e"
             ],
             [
              0.4444444444444444,
              "#bd3786"
             ],
             [
              0.5555555555555556,
              "#d8576b"
             ],
             [
              0.6666666666666666,
              "#ed7953"
             ],
             [
              0.7777777777777778,
              "#fb9f3a"
             ],
             [
              0.8888888888888888,
              "#fdca26"
             ],
             [
              1,
              "#f0f921"
             ]
            ],
            "type": "histogram2d"
           }
          ],
          "histogram2dcontour": [
           {
            "colorbar": {
             "outlinewidth": 0,
             "ticks": ""
            },
            "colorscale": [
             [
              0,
              "#0d0887"
             ],
             [
              0.1111111111111111,
              "#46039f"
             ],
             [
              0.2222222222222222,
              "#7201a8"
             ],
             [
              0.3333333333333333,
              "#9c179e"
             ],
             [
              0.4444444444444444,
              "#bd3786"
             ],
             [
              0.5555555555555556,
              "#d8576b"
             ],
             [
              0.6666666666666666,
              "#ed7953"
             ],
             [
              0.7777777777777778,
              "#fb9f3a"
             ],
             [
              0.8888888888888888,
              "#fdca26"
             ],
             [
              1,
              "#f0f921"
             ]
            ],
            "type": "histogram2dcontour"
           }
          ],
          "mesh3d": [
           {
            "colorbar": {
             "outlinewidth": 0,
             "ticks": ""
            },
            "type": "mesh3d"
           }
          ],
          "parcoords": [
           {
            "line": {
             "colorbar": {
              "outlinewidth": 0,
              "ticks": ""
             }
            },
            "type": "parcoords"
           }
          ],
          "pie": [
           {
            "automargin": true,
            "type": "pie"
           }
          ],
          "scatter": [
           {
            "fillpattern": {
             "fillmode": "overlay",
             "size": 10,
             "solidity": 0.2
            },
            "type": "scatter"
           }
          ],
          "scatter3d": [
           {
            "line": {
             "colorbar": {
              "outlinewidth": 0,
              "ticks": ""
             }
            },
            "marker": {
             "colorbar": {
              "outlinewidth": 0,
              "ticks": ""
             }
            },
            "type": "scatter3d"
           }
          ],
          "scattercarpet": [
           {
            "marker": {
             "colorbar": {
              "outlinewidth": 0,
              "ticks": ""
             }
            },
            "type": "scattercarpet"
           }
          ],
          "scattergeo": [
           {
            "marker": {
             "colorbar": {
              "outlinewidth": 0,
              "ticks": ""
             }
            },
            "type": "scattergeo"
           }
          ],
          "scattergl": [
           {
            "marker": {
             "colorbar": {
              "outlinewidth": 0,
              "ticks": ""
             }
            },
            "type": "scattergl"
           }
          ],
          "scattermap": [
           {
            "marker": {
             "colorbar": {
              "outlinewidth": 0,
              "ticks": ""
             }
            },
            "type": "scattermap"
           }
          ],
          "scattermapbox": [
           {
            "marker": {
             "colorbar": {
              "outlinewidth": 0,
              "ticks": ""
             }
            },
            "type": "scattermapbox"
           }
          ],
          "scatterpolar": [
           {
            "marker": {
             "colorbar": {
              "outlinewidth": 0,
              "ticks": ""
             }
            },
            "type": "scatterpolar"
           }
          ],
          "scatterpolargl": [
           {
            "marker": {
             "colorbar": {
              "outlinewidth": 0,
              "ticks": ""
             }
            },
            "type": "scatterpolargl"
           }
          ],
          "scatterternary": [
           {
            "marker": {
             "colorbar": {
              "outlinewidth": 0,
              "ticks": ""
             }
            },
            "type": "scatterternary"
           }
          ],
          "surface": [
           {
            "colorbar": {
             "outlinewidth": 0,
             "ticks": ""
            },
            "colorscale": [
             [
              0,
              "#0d0887"
             ],
             [
              0.1111111111111111,
              "#46039f"
             ],
             [
              0.2222222222222222,
              "#7201a8"
             ],
             [
              0.3333333333333333,
              "#9c179e"
             ],
             [
              0.4444444444444444,
              "#bd3786"
             ],
             [
              0.5555555555555556,
              "#d8576b"
             ],
             [
              0.6666666666666666,
              "#ed7953"
             ],
             [
              0.7777777777777778,
              "#fb9f3a"
             ],
             [
              0.8888888888888888,
              "#fdca26"
             ],
             [
              1,
              "#f0f921"
             ]
            ],
            "type": "surface"
           }
          ],
          "table": [
           {
            "cells": {
             "fill": {
              "color": "#EBF0F8"
             },
             "line": {
              "color": "white"
             }
            },
            "header": {
             "fill": {
              "color": "#C8D4E3"
             },
             "line": {
              "color": "white"
             }
            },
            "type": "table"
           }
          ]
         },
         "layout": {
          "annotationdefaults": {
           "arrowcolor": "#2a3f5f",
           "arrowhead": 0,
           "arrowwidth": 1
          },
          "autotypenumbers": "strict",
          "coloraxis": {
           "colorbar": {
            "outlinewidth": 0,
            "ticks": ""
           }
          },
          "colorscale": {
           "diverging": [
            [
             0,
             "#8e0152"
            ],
            [
             0.1,
             "#c51b7d"
            ],
            [
             0.2,
             "#de77ae"
            ],
            [
             0.3,
             "#f1b6da"
            ],
            [
             0.4,
             "#fde0ef"
            ],
            [
             0.5,
             "#f7f7f7"
            ],
            [
             0.6,
             "#e6f5d0"
            ],
            [
             0.7,
             "#b8e186"
            ],
            [
             0.8,
             "#7fbc41"
            ],
            [
             0.9,
             "#4d9221"
            ],
            [
             1,
             "#276419"
            ]
           ],
           "sequential": [
            [
             0,
             "#0d0887"
            ],
            [
             0.1111111111111111,
             "#46039f"
            ],
            [
             0.2222222222222222,
             "#7201a8"
            ],
            [
             0.3333333333333333,
             "#9c179e"
            ],
            [
             0.4444444444444444,
             "#bd3786"
            ],
            [
             0.5555555555555556,
             "#d8576b"
            ],
            [
             0.6666666666666666,
             "#ed7953"
            ],
            [
             0.7777777777777778,
             "#fb9f3a"
            ],
            [
             0.8888888888888888,
             "#fdca26"
            ],
            [
             1,
             "#f0f921"
            ]
           ],
           "sequentialminus": [
            [
             0,
             "#0d0887"
            ],
            [
             0.1111111111111111,
             "#46039f"
            ],
            [
             0.2222222222222222,
             "#7201a8"
            ],
            [
             0.3333333333333333,
             "#9c179e"
            ],
            [
             0.4444444444444444,
             "#bd3786"
            ],
            [
             0.5555555555555556,
             "#d8576b"
            ],
            [
             0.6666666666666666,
             "#ed7953"
            ],
            [
             0.7777777777777778,
             "#fb9f3a"
            ],
            [
             0.8888888888888888,
             "#fdca26"
            ],
            [
             1,
             "#f0f921"
            ]
           ]
          },
          "colorway": [
           "#636efa",
           "#EF553B",
           "#00cc96",
           "#ab63fa",
           "#FFA15A",
           "#19d3f3",
           "#FF6692",
           "#B6E880",
           "#FF97FF",
           "#FECB52"
          ],
          "font": {
           "color": "#2a3f5f"
          },
          "geo": {
           "bgcolor": "white",
           "lakecolor": "white",
           "landcolor": "#E5ECF6",
           "showlakes": true,
           "showland": true,
           "subunitcolor": "white"
          },
          "hoverlabel": {
           "align": "left"
          },
          "hovermode": "closest",
          "mapbox": {
           "style": "light"
          },
          "paper_bgcolor": "white",
          "plot_bgcolor": "#E5ECF6",
          "polar": {
           "angularaxis": {
            "gridcolor": "white",
            "linecolor": "white",
            "ticks": ""
           },
           "bgcolor": "#E5ECF6",
           "radialaxis": {
            "gridcolor": "white",
            "linecolor": "white",
            "ticks": ""
           }
          },
          "scene": {
           "xaxis": {
            "backgroundcolor": "#E5ECF6",
            "gridcolor": "white",
            "gridwidth": 2,
            "linecolor": "white",
            "showbackground": true,
            "ticks": "",
            "zerolinecolor": "white"
           },
           "yaxis": {
            "backgroundcolor": "#E5ECF6",
            "gridcolor": "white",
            "gridwidth": 2,
            "linecolor": "white",
            "showbackground": true,
            "ticks": "",
            "zerolinecolor": "white"
           },
           "zaxis": {
            "backgroundcolor": "#E5ECF6",
            "gridcolor": "white",
            "gridwidth": 2,
            "linecolor": "white",
            "showbackground": true,
            "ticks": "",
            "zerolinecolor": "white"
           }
          },
          "shapedefaults": {
           "line": {
            "color": "#2a3f5f"
           }
          },
          "ternary": {
           "aaxis": {
            "gridcolor": "white",
            "linecolor": "white",
            "ticks": ""
           },
           "baxis": {
            "gridcolor": "white",
            "linecolor": "white",
            "ticks": ""
           },
           "bgcolor": "#E5ECF6",
           "caxis": {
            "gridcolor": "white",
            "linecolor": "white",
            "ticks": ""
           }
          },
          "title": {
           "x": 0.05
          },
          "xaxis": {
           "automargin": true,
           "gridcolor": "white",
           "linecolor": "white",
           "ticks": "",
           "title": {
            "standoff": 15
           },
           "zerolinecolor": "white",
           "zerolinewidth": 2
          },
          "yaxis": {
           "automargin": true,
           "gridcolor": "white",
           "linecolor": "white",
           "ticks": "",
           "title": {
            "standoff": 15
           },
           "zerolinecolor": "white",
           "zerolinewidth": 2
          }
         }
        },
        "title": {
         "font": {
          "family": "Arial",
          "size": 24,
          "weight": "bold"
         },
         "text": "Распределение средних оценок"
        },
        "width": 800,
        "xaxis": {
         "anchor": "y",
         "domain": [
          0,
          1
         ],
         "dtick": 1,
         "gridcolor": "lightgray",
         "griddash": "dash",
         "gridwidth": 1,
         "linecolor": "black",
         "linewidth": 1,
         "showline": true,
         "showticklabels": true,
         "tickcolor": "black",
         "tickfont": {
          "size": 16
         },
         "ticklen": 6,
         "tickmode": "linear",
         "ticks": "outside",
         "tickwidth": 2,
         "title": {
          "font": {
           "family": "Arial",
           "size": 20
          },
          "text": "Оценка"
         }
        },
        "yaxis": {
         "anchor": "x",
         "domain": [
          0,
          1
         ],
         "dtick": 0.1,
         "gridcolor": "lightgray",
         "griddash": "dash",
         "gridwidth": 1,
         "linecolor": "black",
         "linewidth": 1,
         "showline": true,
         "showticklabels": true,
         "tickfont": {
          "size": 16
         },
         "ticklen": 6,
         "tickmode": "linear",
         "ticks": "inside",
         "tickwidth": 2,
         "title": {
          "font": {
           "family": "Arial",
           "size": 20
          },
          "text": "Нормированное кол-во оценок"
         }
        }
       }
      }
     },
     "metadata": {},
     "output_type": "display_data"
    }
   ],
   "source": [
    "kde = scipy.stats.gaussian_kde(aver_rating_distrib[\"mean_rating\"])\n",
    "x = np.linspace(\n",
    "    min(aver_rating_distrib[\"mean_rating\"]),\n",
    "    max(aver_rating_distrib[\"mean_rating\"]),\n",
    "    200,\n",
    ")\n",
    "y_vals = kde(x)\n",
    "df_kde = pd.DataFrame({\"x\": x, \"density\": y_vals})\n",
    "fig_7 = px.line(df_kde, x=\"x\", y=\"density\", title=\"Распределение средних оценок\")\n",
    "fig_7.update_layout(\n",
    "    width=800,  # ширина в пикселях\n",
    "    height=600,  # высота в пикселях\n",
    "    # autosize=False,  # отключаем авторазмер\n",
    "    xaxis_title=\"Оценка\",\n",
    "    yaxis_title=\"Нормированное кол-во оценок\",\n",
    "    # title_font=dict(size=24, family=\"Arial\", weight=\"bold\"),\n",
    "    showlegend=False,\n",
    ")\n",
    "fig_7.update_layout(\n",
    "    xaxis=dict(\n",
    "        showticklabels=True,\n",
    "        tickmode=\"linear\",\n",
    "        ticks=\"outside\",  # Ticks снаружи: 'outside', 'inside', ''\n",
    "        ticklen=6,  # Длина ticks\n",
    "        tickwidth=2,  # Толщина ticks\n",
    "        tickcolor=\"black\",  # Цвет ticks\n",
    "        dtick=1,\n",
    "        # tickmode='array',  # Режим ручной установки\n",
    "        # tickvals=[0, 1, 2, 3],  # Позиции ticks\n",
    "        # ticktext=['Категория A', 'Категория B', 'Категория C', 'Категория D']  # Подписи\n",
    "    ),\n",
    "    yaxis=dict(\n",
    "        showticklabels=True,\n",
    "        tickmode=\"linear\",\n",
    "        dtick=0.1,\n",
    "        ticks=\"inside\",  # Ticks снаружи: 'outside', 'inside', ''\n",
    "        ticklen=6,  # Длина ticks\n",
    "        tickwidth=2,  # Толщина ticks\n",
    "        # tickmode=\"linear\",\n",
    "        # dtick=5\n",
    "    ),\n",
    ")\n",
    "fig_7 = configure_plotly_theme(fig_7)\n",
    "fig_7.update_traces(marker=dict(line=dict(width=1, color=\"black\")))\n",
    "fig_7.show()"
   ]
  },
  {
   "cell_type": "code",
   "execution_count": 221,
   "id": "f7989875",
   "metadata": {},
   "outputs": [
    {
     "name": "stdout",
     "output_type": "stream",
     "text": [
      "Площадь под кривой: 0.9982\n"
     ]
    }
   ],
   "source": [
    "area = np.trapezoid(y_vals, x)\n",
    "print(f\"Площадь под кривой: {area:.4f}\")"
   ]
  },
  {
   "cell_type": "markdown",
   "id": "d360e57a-87f9-4a66-b35b-b949bc3c57ee",
   "metadata": {},
   "source": [
    "3. Построй распределение количества оценок, поставленных фильму. Каждый фильм оценен разное количество раз. Узнай, сколько оценок у каждого фильма, а после визуализируй это на гистограмме.  "
   ]
  },
  {
   "cell_type": "code",
   "execution_count": 248,
   "id": "90346414-afe2-4fe0-b84e-4796cf224281",
   "metadata": {},
   "outputs": [
    {
     "name": "stdout",
     "output_type": "stream",
     "text": [
      "1664\n",
      "0\n",
      "1682\n"
     ]
    },
    {
     "data": {
      "text/html": [
       "<div>\n",
       "<style scoped>\n",
       "    .dataframe tbody tr th:only-of-type {\n",
       "        vertical-align: middle;\n",
       "    }\n",
       "\n",
       "    .dataframe tbody tr th {\n",
       "        vertical-align: top;\n",
       "    }\n",
       "\n",
       "    .dataframe thead th {\n",
       "        text-align: right;\n",
       "    }\n",
       "</style>\n",
       "<table border=\"1\" class=\"dataframe\">\n",
       "  <thead>\n",
       "    <tr style=\"text-align: right;\">\n",
       "      <th></th>\n",
       "      <th>user_id</th>\n",
       "      <th>movie_id</th>\n",
       "      <th>rating</th>\n",
       "      <th>unix_timestamp</th>\n",
       "      <th>title</th>\n",
       "    </tr>\n",
       "  </thead>\n",
       "  <tbody>\n",
       "    <tr>\n",
       "      <th>0</th>\n",
       "      <td>196</td>\n",
       "      <td>242</td>\n",
       "      <td>3</td>\n",
       "      <td>881250949</td>\n",
       "      <td>Kolya (1996)</td>\n",
       "    </tr>\n",
       "    <tr>\n",
       "      <th>1</th>\n",
       "      <td>186</td>\n",
       "      <td>302</td>\n",
       "      <td>3</td>\n",
       "      <td>891717742</td>\n",
       "      <td>L.A. Confidential (1997)</td>\n",
       "    </tr>\n",
       "  </tbody>\n",
       "</table>\n",
       "</div>"
      ],
      "text/plain": [
       "   user_id  movie_id  rating  unix_timestamp                     title\n",
       "0      196       242       3       881250949              Kolya (1996)\n",
       "1      186       302       3       891717742  L.A. Confidential (1997)"
      ]
     },
     "execution_count": 248,
     "metadata": {},
     "output_type": "execute_result"
    }
   ],
   "source": [
    "print(ratings[\"title\"].nunique())\n",
    "print(ratings[\"title\"].isna().sum())\n",
    "print(ratings[\"movie_id\"].nunique())\n",
    "ratings.head(2)"
   ]
  },
  {
   "cell_type": "code",
   "execution_count": 239,
   "id": "b04904a6",
   "metadata": {},
   "outputs": [
    {
     "data": {
      "text/plain": [
       "movie_id\n",
       "1    452\n",
       "2    131\n",
       "3     90\n",
       "4    209\n",
       "5     86\n",
       "Name: user_id, dtype: int64"
      ]
     },
     "execution_count": 239,
     "metadata": {},
     "output_type": "execute_result"
    }
   ],
   "source": [
    "movies_ratings_count = ratings.groupby(\"movie_id\").count()[\"user_id\"]\n",
    "movies_ratings_count = movies_ratings_count.sort_index()\n",
    "movies_ratings_count.head(5)"
   ]
  },
  {
   "cell_type": "code",
   "execution_count": 241,
   "id": "3926b34a",
   "metadata": {},
   "outputs": [
    {
     "data": {
      "text/plain": [
       "movie_id\n",
       "50     583\n",
       "100    508\n",
       "181    507\n",
       "258    509\n",
       "Name: user_id, dtype: int64"
      ]
     },
     "execution_count": 241,
     "metadata": {},
     "output_type": "execute_result"
    }
   ],
   "source": [
    "movies_ratings_count[movies_ratings_count > 500]"
   ]
  },
  {
   "cell_type": "code",
   "execution_count": 245,
   "id": "5d60f5cf",
   "metadata": {},
   "outputs": [
    {
     "data": {
      "application/vnd.plotly.v1+json": {
       "config": {
        "plotlyServerURL": "https://plot.ly"
       },
       "data": [
        {
         "bingroup": "x",
         "hovertemplate": "variable=user_id<br>value=%{x}<br>count=%{y}<extra></extra>",
         "legendgroup": "user_id",
         "marker": {
          "color": "#636efa",
          "line": {
           "color": "black",
           "width": 1
          },
          "pattern": {
           "shape": ""
          }
         },
         "name": "user_id",
         "nbinsx": 200,
         "orientation": "v",
         "showlegend": true,
         "type": "histogram",
         "x": {
          "bdata": "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",
          "dtype": "i2"
         },
         "xaxis": "x",
         "yaxis": "y"
        }
       ],
       "layout": {
        "barmode": "relative",
        "font": {
         "size": 14
        },
        "height": 600,
        "legend": {
         "title": {
          "text": "variable"
         },
         "tracegroupgap": 0
        },
        "paper_bgcolor": "white",
        "plot_bgcolor": "white",
        "showlegend": false,
        "template": {
         "data": {
          "bar": [
           {
            "error_x": {
             "color": "#2a3f5f"
            },
            "error_y": {
             "color": "#2a3f5f"
            },
            "marker": {
             "line": {
              "color": "#E5ECF6",
              "width": 0.5
             },
             "pattern": {
              "fillmode": "overlay",
              "size": 10,
              "solidity": 0.2
             }
            },
            "type": "bar"
           }
          ],
          "barpolar": [
           {
            "marker": {
             "line": {
              "color": "#E5ECF6",
              "width": 0.5
             },
             "pattern": {
              "fillmode": "overlay",
              "size": 10,
              "solidity": 0.2
             }
            },
            "type": "barpolar"
           }
          ],
          "carpet": [
           {
            "aaxis": {
             "endlinecolor": "#2a3f5f",
             "gridcolor": "white",
             "linecolor": "white",
             "minorgridcolor": "white",
             "startlinecolor": "#2a3f5f"
            },
            "baxis": {
             "endlinecolor": "#2a3f5f",
             "gridcolor": "white",
             "linecolor": "white",
             "minorgridcolor": "white",
             "startlinecolor": "#2a3f5f"
            },
            "type": "carpet"
           }
          ],
          "choropleth": [
           {
            "colorbar": {
             "outlinewidth": 0,
             "ticks": ""
            },
            "type": "choropleth"
           }
          ],
          "contour": [
           {
            "colorbar": {
             "outlinewidth": 0,
             "ticks": ""
            },
            "colorscale": [
             [
              0,
              "#0d0887"
             ],
             [
              0.1111111111111111,
              "#46039f"
             ],
             [
              0.2222222222222222,
              "#7201a8"
             ],
             [
              0.3333333333333333,
              "#9c179e"
             ],
             [
              0.4444444444444444,
              "#bd3786"
             ],
             [
              0.5555555555555556,
              "#d8576b"
             ],
             [
              0.6666666666666666,
              "#ed7953"
             ],
             [
              0.7777777777777778,
              "#fb9f3a"
             ],
             [
              0.8888888888888888,
              "#fdca26"
             ],
             [
              1,
              "#f0f921"
             ]
            ],
            "type": "contour"
           }
          ],
          "contourcarpet": [
           {
            "colorbar": {
             "outlinewidth": 0,
             "ticks": ""
            },
            "type": "contourcarpet"
           }
          ],
          "heatmap": [
           {
            "colorbar": {
             "outlinewidth": 0,
             "ticks": ""
            },
            "colorscale": [
             [
              0,
              "#0d0887"
             ],
             [
              0.1111111111111111,
              "#46039f"
             ],
             [
              0.2222222222222222,
              "#7201a8"
             ],
             [
              0.3333333333333333,
              "#9c179e"
             ],
             [
              0.4444444444444444,
              "#bd3786"
             ],
             [
              0.5555555555555556,
              "#d8576b"
             ],
             [
              0.6666666666666666,
              "#ed7953"
             ],
             [
              0.7777777777777778,
              "#fb9f3a"
             ],
             [
              0.8888888888888888,
              "#fdca26"
             ],
             [
              1,
              "#f0f921"
             ]
            ],
            "type": "heatmap"
           }
          ],
          "histogram": [
           {
            "marker": {
             "pattern": {
              "fillmode": "overlay",
              "size": 10,
              "solidity": 0.2
             }
            },
            "type": "histogram"
           }
          ],
          "histogram2d": [
           {
            "colorbar": {
             "outlinewidth": 0,
             "ticks": ""
            },
            "colorscale": [
             [
              0,
              "#0d0887"
             ],
             [
              0.1111111111111111,
              "#46039f"
             ],
             [
              0.2222222222222222,
              "#7201a8"
             ],
             [
              0.3333333333333333,
              "#9c179e"
             ],
             [
              0.4444444444444444,
              "#bd3786"
             ],
             [
              0.5555555555555556,
              "#d8576b"
             ],
             [
              0.6666666666666666,
              "#ed7953"
             ],
             [
              0.7777777777777778,
              "#fb9f3a"
             ],
             [
              0.8888888888888888,
              "#fdca26"
             ],
             [
              1,
              "#f0f921"
             ]
            ],
            "type": "histogram2d"
           }
          ],
          "histogram2dcontour": [
           {
            "colorbar": {
             "outlinewidth": 0,
             "ticks": ""
            },
            "colorscale": [
             [
              0,
              "#0d0887"
             ],
             [
              0.1111111111111111,
              "#46039f"
             ],
             [
              0.2222222222222222,
              "#7201a8"
             ],
             [
              0.3333333333333333,
              "#9c179e"
             ],
             [
              0.4444444444444444,
              "#bd3786"
             ],
             [
              0.5555555555555556,
              "#d8576b"
             ],
             [
              0.6666666666666666,
              "#ed7953"
             ],
             [
              0.7777777777777778,
              "#fb9f3a"
             ],
             [
              0.8888888888888888,
              "#fdca26"
             ],
             [
              1,
              "#f0f921"
             ]
            ],
            "type": "histogram2dcontour"
           }
          ],
          "mesh3d": [
           {
            "colorbar": {
             "outlinewidth": 0,
             "ticks": ""
            },
            "type": "mesh3d"
           }
          ],
          "parcoords": [
           {
            "line": {
             "colorbar": {
              "outlinewidth": 0,
              "ticks": ""
             }
            },
            "type": "parcoords"
           }
          ],
          "pie": [
           {
            "automargin": true,
            "type": "pie"
           }
          ],
          "scatter": [
           {
            "fillpattern": {
             "fillmode": "overlay",
             "size": 10,
             "solidity": 0.2
            },
            "type": "scatter"
           }
          ],
          "scatter3d": [
           {
            "line": {
             "colorbar": {
              "outlinewidth": 0,
              "ticks": ""
             }
            },
            "marker": {
             "colorbar": {
              "outlinewidth": 0,
              "ticks": ""
             }
            },
            "type": "scatter3d"
           }
          ],
          "scattercarpet": [
           {
            "marker": {
             "colorbar": {
              "outlinewidth": 0,
              "ticks": ""
             }
            },
            "type": "scattercarpet"
           }
          ],
          "scattergeo": [
           {
            "marker": {
             "colorbar": {
              "outlinewidth": 0,
              "ticks": ""
             }
            },
            "type": "scattergeo"
           }
          ],
          "scattergl": [
           {
            "marker": {
             "colorbar": {
              "outlinewidth": 0,
              "ticks": ""
             }
            },
            "type": "scattergl"
           }
          ],
          "scattermap": [
           {
            "marker": {
             "colorbar": {
              "outlinewidth": 0,
              "ticks": ""
             }
            },
            "type": "scattermap"
           }
          ],
          "scattermapbox": [
           {
            "marker": {
             "colorbar": {
              "outlinewidth": 0,
              "ticks": ""
             }
            },
            "type": "scattermapbox"
           }
          ],
          "scatterpolar": [
           {
            "marker": {
             "colorbar": {
              "outlinewidth": 0,
              "ticks": ""
             }
            },
            "type": "scatterpolar"
           }
          ],
          "scatterpolargl": [
           {
            "marker": {
             "colorbar": {
              "outlinewidth": 0,
              "ticks": ""
             }
            },
            "type": "scatterpolargl"
           }
          ],
          "scatterternary": [
           {
            "marker": {
             "colorbar": {
              "outlinewidth": 0,
              "ticks": ""
             }
            },
            "type": "scatterternary"
           }
          ],
          "surface": [
           {
            "colorbar": {
             "outlinewidth": 0,
             "ticks": ""
            },
            "colorscale": [
             [
              0,
              "#0d0887"
             ],
             [
              0.1111111111111111,
              "#46039f"
             ],
             [
              0.2222222222222222,
              "#7201a8"
             ],
             [
              0.3333333333333333,
              "#9c179e"
             ],
             [
              0.4444444444444444,
              "#bd3786"
             ],
             [
              0.5555555555555556,
              "#d8576b"
             ],
             [
              0.6666666666666666,
              "#ed7953"
             ],
             [
              0.7777777777777778,
              "#fb9f3a"
             ],
             [
              0.8888888888888888,
              "#fdca26"
             ],
             [
              1,
              "#f0f921"
             ]
            ],
            "type": "surface"
           }
          ],
          "table": [
           {
            "cells": {
             "fill": {
              "color": "#EBF0F8"
             },
             "line": {
              "color": "white"
             }
            },
            "header": {
             "fill": {
              "color": "#C8D4E3"
             },
             "line": {
              "color": "white"
             }
            },
            "type": "table"
           }
          ]
         },
         "layout": {
          "annotationdefaults": {
           "arrowcolor": "#2a3f5f",
           "arrowhead": 0,
           "arrowwidth": 1
          },
          "autotypenumbers": "strict",
          "coloraxis": {
           "colorbar": {
            "outlinewidth": 0,
            "ticks": ""
           }
          },
          "colorscale": {
           "diverging": [
            [
             0,
             "#8e0152"
            ],
            [
             0.1,
             "#c51b7d"
            ],
            [
             0.2,
             "#de77ae"
            ],
            [
             0.3,
             "#f1b6da"
            ],
            [
             0.4,
             "#fde0ef"
            ],
            [
             0.5,
             "#f7f7f7"
            ],
            [
             0.6,
             "#e6f5d0"
            ],
            [
             0.7,
             "#b8e186"
            ],
            [
             0.8,
             "#7fbc41"
            ],
            [
             0.9,
             "#4d9221"
            ],
            [
             1,
             "#276419"
            ]
           ],
           "sequential": [
            [
             0,
             "#0d0887"
            ],
            [
             0.1111111111111111,
             "#46039f"
            ],
            [
             0.2222222222222222,
             "#7201a8"
            ],
            [
             0.3333333333333333,
             "#9c179e"
            ],
            [
             0.4444444444444444,
             "#bd3786"
            ],
            [
             0.5555555555555556,
             "#d8576b"
            ],
            [
             0.6666666666666666,
             "#ed7953"
            ],
            [
             0.7777777777777778,
             "#fb9f3a"
            ],
            [
             0.8888888888888888,
             "#fdca26"
            ],
            [
             1,
             "#f0f921"
            ]
           ],
           "sequentialminus": [
            [
             0,
             "#0d0887"
            ],
            [
             0.1111111111111111,
             "#46039f"
            ],
            [
             0.2222222222222222,
             "#7201a8"
            ],
            [
             0.3333333333333333,
             "#9c179e"
            ],
            [
             0.4444444444444444,
             "#bd3786"
            ],
            [
             0.5555555555555556,
             "#d8576b"
            ],
            [
             0.6666666666666666,
             "#ed7953"
            ],
            [
             0.7777777777777778,
             "#fb9f3a"
            ],
            [
             0.8888888888888888,
             "#fdca26"
            ],
            [
             1,
             "#f0f921"
            ]
           ]
          },
          "colorway": [
           "#636efa",
           "#EF553B",
           "#00cc96",
           "#ab63fa",
           "#FFA15A",
           "#19d3f3",
           "#FF6692",
           "#B6E880",
           "#FF97FF",
           "#FECB52"
          ],
          "font": {
           "color": "#2a3f5f"
          },
          "geo": {
           "bgcolor": "white",
           "lakecolor": "white",
           "landcolor": "#E5ECF6",
           "showlakes": true,
           "showland": true,
           "subunitcolor": "white"
          },
          "hoverlabel": {
           "align": "left"
          },
          "hovermode": "closest",
          "mapbox": {
           "style": "light"
          },
          "paper_bgcolor": "white",
          "plot_bgcolor": "#E5ECF6",
          "polar": {
           "angularaxis": {
            "gridcolor": "white",
            "linecolor": "white",
            "ticks": ""
           },
           "bgcolor": "#E5ECF6",
           "radialaxis": {
            "gridcolor": "white",
            "linecolor": "white",
            "ticks": ""
           }
          },
          "scene": {
           "xaxis": {
            "backgroundcolor": "#E5ECF6",
            "gridcolor": "white",
            "gridwidth": 2,
            "linecolor": "white",
            "showbackground": true,
            "ticks": "",
            "zerolinecolor": "white"
           },
           "yaxis": {
            "backgroundcolor": "#E5ECF6",
            "gridcolor": "white",
            "gridwidth": 2,
            "linecolor": "white",
            "showbackground": true,
            "ticks": "",
            "zerolinecolor": "white"
           },
           "zaxis": {
            "backgroundcolor": "#E5ECF6",
            "gridcolor": "white",
            "gridwidth": 2,
            "linecolor": "white",
            "showbackground": true,
            "ticks": "",
            "zerolinecolor": "white"
           }
          },
          "shapedefaults": {
           "line": {
            "color": "#2a3f5f"
           }
          },
          "ternary": {
           "aaxis": {
            "gridcolor": "white",
            "linecolor": "white",
            "ticks": ""
           },
           "baxis": {
            "gridcolor": "white",
            "linecolor": "white",
            "ticks": ""
           },
           "bgcolor": "#E5ECF6",
           "caxis": {
            "gridcolor": "white",
            "linecolor": "white",
            "ticks": ""
           }
          },
          "title": {
           "x": 0.05
          },
          "xaxis": {
           "automargin": true,
           "gridcolor": "white",
           "linecolor": "white",
           "ticks": "",
           "title": {
            "standoff": 15
           },
           "zerolinecolor": "white",
           "zerolinewidth": 2
          },
          "yaxis": {
           "automargin": true,
           "gridcolor": "white",
           "linecolor": "white",
           "ticks": "",
           "title": {
            "standoff": 15
           },
           "zerolinecolor": "white",
           "zerolinewidth": 2
          }
         }
        },
        "title": {
         "font": {
          "family": "Arial",
          "size": 24,
          "weight": "bold"
         },
         "text": "Распределение количества оценок у фильма"
        },
        "width": 800,
        "xaxis": {
         "anchor": "y",
         "domain": [
          0,
          1
         ],
         "dtick": 100,
         "gridcolor": "lightgray",
         "griddash": "dash",
         "gridwidth": 1,
         "linecolor": "black",
         "linewidth": 1,
         "showline": true,
         "showticklabels": true,
         "tickcolor": "black",
         "tickfont": {
          "size": 16
         },
         "ticklen": 6,
         "tickmode": "linear",
         "ticks": "outside",
         "tickwidth": 2,
         "title": {
          "font": {
           "family": "Arial",
           "size": 20
          },
          "text": "Количество оценок"
         }
        },
        "yaxis": {
         "anchor": "x",
         "domain": [
          0,
          1
         ],
         "dtick": 50,
         "gridcolor": "lightgray",
         "griddash": "dash",
         "gridwidth": 1,
         "linecolor": "black",
         "linewidth": 1,
         "showline": true,
         "showticklabels": true,
         "tickfont": {
          "size": 16
         },
         "ticklen": 6,
         "tickmode": "linear",
         "ticks": "outside",
         "tickwidth": 2,
         "title": {
          "font": {
           "family": "Arial",
           "size": 20
          },
          "text": "Количество фильмов"
         }
        }
       }
      }
     },
     "metadata": {},
     "output_type": "display_data"
    }
   ],
   "source": [
    "fig_8 = px.histogram(\n",
    "    movies_ratings_count, nbins=200, title=\"Распределение количества оценок у фильма\"\n",
    ")\n",
    "fig_8.update_layout(\n",
    "    width=800,  # ширина в пикселях\n",
    "    height=600,  # высота в пикселях\n",
    "    # autosize=False,  # отключаем авторазмер\n",
    "    xaxis_title=\"Количество оценок\",\n",
    "    yaxis_title=\"Количество фильмов\",\n",
    "    # title_font=dict(size=24, family=\"Arial\", weight=\"bold\"),\n",
    "    showlegend=False,\n",
    ")\n",
    "fig_8.update_layout(\n",
    "    xaxis=dict(\n",
    "        showticklabels=True,\n",
    "        tickmode=\"linear\",\n",
    "        ticks=\"outside\",  # Ticks снаружи: 'outside', 'inside', ''\n",
    "        ticklen=6,  # Длина ticks\n",
    "        tickwidth=2,  # Толщина ticks\n",
    "        tickcolor=\"black\",  # Цвет ticks\n",
    "        dtick=100,\n",
    "        # tickmode='array',  # Режим ручной установки\n",
    "        # tickvals=[0, 1, 2, 3],  # Позиции ticks\n",
    "        # ticktext=['Категория A', 'Категория B', 'Категория C', 'Категория D']  # Подписи\n",
    "    ),\n",
    "    yaxis=dict(\n",
    "        showticklabels=True,\n",
    "        tickmode=\"linear\",\n",
    "        dtick=50,\n",
    "        ticks=\"outside\",  # Ticks снаружи: 'outside', 'inside', ''\n",
    "        ticklen=6,  # Длина ticks\n",
    "        tickwidth=2,  # Толщина ticks\n",
    "        # tickmode=\"linear\",\n",
    "        # dtick=5\n",
    "    ),\n",
    ")\n",
    "fig_8 = configure_plotly_theme(fig_8)\n",
    "fig_8.update_traces(marker=dict(line=dict(width=1, color=\"black\")))\n",
    "fig_8.show()"
   ]
  },
  {
   "cell_type": "markdown",
   "id": "988fdacd-7180-4fb8-8713-14b44cdedd29",
   "metadata": {},
   "source": [
    "4. Построй распределение средней оценки по фильмам. "
   ]
  },
  {
   "cell_type": "code",
   "execution_count": 250,
   "id": "d25f1ae7-587d-4ad8-a6da-fad4ab93e982",
   "metadata": {},
   "outputs": [
    {
     "data": {
      "text/plain": [
       "movie_id  rating\n",
       "1         1           8\n",
       "          2          27\n",
       "          3          96\n",
       "          4         202\n",
       "          5         119\n",
       "                   ... \n",
       "1678      1           1\n",
       "1679      3           1\n",
       "1680      2           1\n",
       "1681      3           1\n",
       "1682      3           1\n",
       "Name: user_id, Length: 6714, dtype: int64"
      ]
     },
     "execution_count": 250,
     "metadata": {},
     "output_type": "execute_result"
    }
   ],
   "source": [
    "movies_rating = ratings.groupby([\"movie_id\", \"rating\"]).count()[\"user_id\"]\n",
    "movies_rating"
   ]
  },
  {
   "cell_type": "code",
   "execution_count": 251,
   "id": "3ca64ee7",
   "metadata": {},
   "outputs": [],
   "source": [
    "def mean_movie_rating(id: int):\n",
    "    movie_dict = {}\n",
    "    movie_series = movies_rating[id]\n",
    "    for i in range(1, 6):\n",
    "        movie_dict[i] = movie_series.get(i, 0)\n",
    "    sum_for_mean = 0\n",
    "    for i in range(1, 6):\n",
    "        sum_for_mean += movie_dict[i] * i\n",
    "    return sum_for_mean / sum(movie_dict.values())"
   ]
  },
  {
   "cell_type": "code",
   "execution_count": 252,
   "id": "6e235baf",
   "metadata": {},
   "outputs": [
    {
     "data": {
      "text/html": [
       "<div>\n",
       "<style scoped>\n",
       "    .dataframe tbody tr th:only-of-type {\n",
       "        vertical-align: middle;\n",
       "    }\n",
       "\n",
       "    .dataframe tbody tr th {\n",
       "        vertical-align: top;\n",
       "    }\n",
       "\n",
       "    .dataframe thead th {\n",
       "        text-align: right;\n",
       "    }\n",
       "</style>\n",
       "<table border=\"1\" class=\"dataframe\">\n",
       "  <thead>\n",
       "    <tr style=\"text-align: right;\">\n",
       "      <th></th>\n",
       "      <th>movie_id</th>\n",
       "      <th>user_id</th>\n",
       "      <th>mean_rating</th>\n",
       "    </tr>\n",
       "  </thead>\n",
       "  <tbody>\n",
       "    <tr>\n",
       "      <th>0</th>\n",
       "      <td>1</td>\n",
       "      <td>452</td>\n",
       "      <td>3.878319</td>\n",
       "    </tr>\n",
       "    <tr>\n",
       "      <th>1</th>\n",
       "      <td>2</td>\n",
       "      <td>131</td>\n",
       "      <td>3.206107</td>\n",
       "    </tr>\n",
       "    <tr>\n",
       "      <th>2</th>\n",
       "      <td>3</td>\n",
       "      <td>90</td>\n",
       "      <td>3.033333</td>\n",
       "    </tr>\n",
       "    <tr>\n",
       "      <th>3</th>\n",
       "      <td>4</td>\n",
       "      <td>209</td>\n",
       "      <td>3.550239</td>\n",
       "    </tr>\n",
       "    <tr>\n",
       "      <th>4</th>\n",
       "      <td>5</td>\n",
       "      <td>86</td>\n",
       "      <td>3.302326</td>\n",
       "    </tr>\n",
       "  </tbody>\n",
       "</table>\n",
       "</div>"
      ],
      "text/plain": [
       "   movie_id  user_id  mean_rating\n",
       "0         1      452     3.878319\n",
       "1         2      131     3.206107\n",
       "2         3       90     3.033333\n",
       "3         4      209     3.550239\n",
       "4         5       86     3.302326"
      ]
     },
     "execution_count": 252,
     "metadata": {},
     "output_type": "execute_result"
    }
   ],
   "source": [
    "mean_rating = movies_ratings_count.reset_index()\n",
    "mean_rating[\"mean_rating\"] = mean_rating[\"movie_id\"].map(mean_movie_rating)\n",
    "mean_rating.head()"
   ]
  },
  {
   "cell_type": "code",
   "execution_count": 256,
   "id": "afe3d844",
   "metadata": {},
   "outputs": [
    {
     "data": {
      "application/vnd.plotly.v1+json": {
       "config": {
        "plotlyServerURL": "https://plot.ly"
       },
       "data": [
        {
         "hovertemplate": "x=%{x}<br>density=%{y}<extra></extra>",
         "legendgroup": "",
         "line": {
          "color": "#636efa",
          "dash": "solid"
         },
         "marker": {
          "line": {
           "color": "black",
           "width": 1
          },
          "symbol": "circle"
         },
         "mode": "lines",
         "name": "",
         "orientation": "v",
         "showlegend": false,
         "type": "scatter",
         "x": {
          "bdata": "AAAAAAAA8D9Cy47nVFLwP4OWHc+ppPA/xWGstv728D8GLTueU0nxP0j4yYWom/E/isNYbf3t8T/LjudUUkDyPw1adjynkvI/TiUFJPzk8j+Q8JMLUTfzP9K7IvOlifM/E4ex2vrb8z9VUkDCTy70P5Ydz6mkgPQ/2OhdkfnS9D8atOx4TiX1P1t/e2Cjd/U/nUoKSPjJ9T/eFZkvTRz2PyDhJxeibvY/Yqy2/vbA9j+kd0XmSxP3P+VC1M2gZfc/Jg5jtfW39z9o2fGcSgr4P6qkgISfXPg/7G8PbPSu+D8tO55TSQH5P24GLTueU/k/sNG7IvOl+T/ynEoKSPj5PzRo2fGcSvo/dTNo2fGc+j+2/vbARu/6P/jJhaibQfs/OpUUkPCT+z98YKN3Reb7P70rMl+aOPw///bARu+K/D9Awk8uRN38P4KN3hWZL/0/xFht/e2B/T8FJPzkQtT9P0fvisyXJv4/iLoZtOx4/j/KhaibQcv+PwxRN4OWHf8/TRzGautv/z+P51RSQML/P2jZ8ZxKCgBACT+5EHUzAECqpICEn1wAQEoKSPjJhQBA7G8PbPSuAECM1dbfHtgAQC07nlNJAQFAzqBlx3MqAUBuBi07nlMBQBBs9K7IfAFAsNG7IvOlAUBRN4OWHc8BQPKcSgpI+AFAkgISfnIhAkA0aNnxnEoCQNTNoGXHcwJAdTNo2fGcAkAWmS9NHMYCQLb+9sBG7wJAWGS+NHEYA0D4yYWom0EDQJkvTRzGagNAOpUUkPCTA0Da+tsDG70DQHxgo3dF5gNAHMZq628PBEC9KzJfmjgEQF6R+dLEYQRA//bARu+KBECgXIi6GbQEQEDCTy5E3QRA4ScXom4GBUCCjd4VmS8FQCPzpYnDWAVAxFht/e2BBUBkvjRxGKsFQAUk/ORC1AVAponDWG39BUBH74rMlyYGQOhUUkDCTwZAiLoZtOx4BkApIOEnF6IGQMqFqJtBywZAa+tvD2z0BkAMUTeDlh0HQKy2/vbARgdATRzGautvB0DugY3eFZkHQI/nVFJAwgdAME0cxmrrB0DQsuM5lRQIQHEYq62/PQhAEn5yIepmCECz4zmVFJAIQFRJAQk/uQhA9K7IfGniCECVFJDwkwsJQDZ6V2S+NAlA198e2OhdCUB4ReZLE4cJQBmrrb89sAlAuRB1M2jZCUBadjynkgIKQPvbAxu9KwpAnEHLjudUCkA9p5ICEn4KQN0MWnY8pwpAfnIh6mbQCkAf2OhdkfkKQMA9sNG7IgtAYaN3ReZLC0ABCT+5EHULQKJuBi07ngtAQ9TNoGXHC0DkOZUUkPALQIWfXIi6GQxAJQUk/ORCDEDGautvD2wMQGfQsuM5lQxACDZ6V2S+DECpm0HLjucMQEkBCT+5EA1A6mbQsuM5DUCLzJcmDmMNQCwyX5o4jA1AzZcmDmO1DUBt/e2Bjd4NQA5jtfW3Bw5Ar8h8aeIwDkBQLkTdDFoOQPGTC1E3gw5AkfnSxGGsDkAyX5o4jNUOQNPEYay2/g5AdCopIOEnD0AVkPCTC1EPQLX1twc2eg9AVlt/e2CjD0D3wEbviswPQJgmDmO19Q9AHMZq628PEEDteE4lBSQQQL0rMl+aOBBAjt4VmS9NEEBekfnSxGEQQC5E3QxadhBA//bARu+KEEDPqaSAhJ8QQKBciLoZtBBAcA9s9K7IEEBAwk8uRN0QQBF1M2jZ8RBA4ScXom4GEUCy2vrbAxsRQIKN3hWZLxFAUkDCTy5EEUAj86WJw1gRQPOlicNYbRFAxFht/e2BEUCUC1E3g5YRQGS+NHEYqxFANXEYq62/EUAFJPzkQtQRQNbW3x7Y6BFAponDWG39EUB2PKeSAhISQEfvisyXJhJAF6JuBi07EkDoVFJAwk8SQLgHNnpXZBJAiLoZtOx4EkBZbf3tgY0SQCkg4ScXohJA+tLEYay2EkDKhaibQcsSQJo4jNXW3xJAa+tvD2z0EkA7nlNJAQkTQAxRN4OWHRNA3AMbvSsyE0Cstv72wEYTQH1p4jBWWxNATRzGautvE0Aez6mkgIQTQO6Bjd4VmRNAvjRxGKutE0CP51RSQMITQGCaOIzV1hNAME0cxmrrE0AAAAAAAAAUQA==",
          "dtype": "f8"
         },
         "xaxis": "x",
         "y": {
          "bdata": "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",
          "dtype": "f8"
         },
         "yaxis": "y"
        }
       ],
       "layout": {
        "font": {
         "size": 14
        },
        "height": 600,
        "legend": {
         "tracegroupgap": 0
        },
        "paper_bgcolor": "white",
        "plot_bgcolor": "white",
        "showlegend": false,
        "template": {
         "data": {
          "bar": [
           {
            "error_x": {
             "color": "#2a3f5f"
            },
            "error_y": {
             "color": "#2a3f5f"
            },
            "marker": {
             "line": {
              "color": "#E5ECF6",
              "width": 0.5
             },
             "pattern": {
              "fillmode": "overlay",
              "size": 10,
              "solidity": 0.2
             }
            },
            "type": "bar"
           }
          ],
          "barpolar": [
           {
            "marker": {
             "line": {
              "color": "#E5ECF6",
              "width": 0.5
             },
             "pattern": {
              "fillmode": "overlay",
              "size": 10,
              "solidity": 0.2
             }
            },
            "type": "barpolar"
           }
          ],
          "carpet": [
           {
            "aaxis": {
             "endlinecolor": "#2a3f5f",
             "gridcolor": "white",
             "linecolor": "white",
             "minorgridcolor": "white",
             "startlinecolor": "#2a3f5f"
            },
            "baxis": {
             "endlinecolor": "#2a3f5f",
             "gridcolor": "white",
             "linecolor": "white",
             "minorgridcolor": "white",
             "startlinecolor": "#2a3f5f"
            },
            "type": "carpet"
           }
          ],
          "choropleth": [
           {
            "colorbar": {
             "outlinewidth": 0,
             "ticks": ""
            },
            "type": "choropleth"
           }
          ],
          "contour": [
           {
            "colorbar": {
             "outlinewidth": 0,
             "ticks": ""
            },
            "colorscale": [
             [
              0,
              "#0d0887"
             ],
             [
              0.1111111111111111,
              "#46039f"
             ],
             [
              0.2222222222222222,
              "#7201a8"
             ],
             [
              0.3333333333333333,
              "#9c179e"
             ],
             [
              0.4444444444444444,
              "#bd3786"
             ],
             [
              0.5555555555555556,
              "#d8576b"
             ],
             [
              0.6666666666666666,
              "#ed7953"
             ],
             [
              0.7777777777777778,
              "#fb9f3a"
             ],
             [
              0.8888888888888888,
              "#fdca26"
             ],
             [
              1,
              "#f0f921"
             ]
            ],
            "type": "contour"
           }
          ],
          "contourcarpet": [
           {
            "colorbar": {
             "outlinewidth": 0,
             "ticks": ""
            },
            "type": "contourcarpet"
           }
          ],
          "heatmap": [
           {
            "colorbar": {
             "outlinewidth": 0,
             "ticks": ""
            },
            "colorscale": [
             [
              0,
              "#0d0887"
             ],
             [
              0.1111111111111111,
              "#46039f"
             ],
             [
              0.2222222222222222,
              "#7201a8"
             ],
             [
              0.3333333333333333,
              "#9c179e"
             ],
             [
              0.4444444444444444,
              "#bd3786"
             ],
             [
              0.5555555555555556,
              "#d8576b"
             ],
             [
              0.6666666666666666,
              "#ed7953"
             ],
             [
              0.7777777777777778,
              "#fb9f3a"
             ],
             [
              0.8888888888888888,
              "#fdca26"
             ],
             [
              1,
              "#f0f921"
             ]
            ],
            "type": "heatmap"
           }
          ],
          "histogram": [
           {
            "marker": {
             "pattern": {
              "fillmode": "overlay",
              "size": 10,
              "solidity": 0.2
             }
            },
            "type": "histogram"
           }
          ],
          "histogram2d": [
           {
            "colorbar": {
             "outlinewidth": 0,
             "ticks": ""
            },
            "colorscale": [
             [
              0,
              "#0d0887"
             ],
             [
              0.1111111111111111,
              "#46039f"
             ],
             [
              0.2222222222222222,
              "#7201a8"
             ],
             [
              0.3333333333333333,
              "#9c179e"
             ],
             [
              0.4444444444444444,
              "#bd3786"
             ],
             [
              0.5555555555555556,
              "#d8576b"
             ],
             [
              0.6666666666666666,
              "#ed7953"
             ],
             [
              0.7777777777777778,
              "#fb9f3a"
             ],
             [
              0.8888888888888888,
              "#fdca26"
             ],
             [
              1,
              "#f0f921"
             ]
            ],
            "type": "histogram2d"
           }
          ],
          "histogram2dcontour": [
           {
            "colorbar": {
             "outlinewidth": 0,
             "ticks": ""
            },
            "colorscale": [
             [
              0,
              "#0d0887"
             ],
             [
              0.1111111111111111,
              "#46039f"
             ],
             [
              0.2222222222222222,
              "#7201a8"
             ],
             [
              0.3333333333333333,
              "#9c179e"
             ],
             [
              0.4444444444444444,
              "#bd3786"
             ],
             [
              0.5555555555555556,
              "#d8576b"
             ],
             [
              0.6666666666666666,
              "#ed7953"
             ],
             [
              0.7777777777777778,
              "#fb9f3a"
             ],
             [
              0.8888888888888888,
              "#fdca26"
             ],
             [
              1,
              "#f0f921"
             ]
            ],
            "type": "histogram2dcontour"
           }
          ],
          "mesh3d": [
           {
            "colorbar": {
             "outlinewidth": 0,
             "ticks": ""
            },
            "type": "mesh3d"
           }
          ],
          "parcoords": [
           {
            "line": {
             "colorbar": {
              "outlinewidth": 0,
              "ticks": ""
             }
            },
            "type": "parcoords"
           }
          ],
          "pie": [
           {
            "automargin": true,
            "type": "pie"
           }
          ],
          "scatter": [
           {
            "fillpattern": {
             "fillmode": "overlay",
             "size": 10,
             "solidity": 0.2
            },
            "type": "scatter"
           }
          ],
          "scatter3d": [
           {
            "line": {
             "colorbar": {
              "outlinewidth": 0,
              "ticks": ""
             }
            },
            "marker": {
             "colorbar": {
              "outlinewidth": 0,
              "ticks": ""
             }
            },
            "type": "scatter3d"
           }
          ],
          "scattercarpet": [
           {
            "marker": {
             "colorbar": {
              "outlinewidth": 0,
              "ticks": ""
             }
            },
            "type": "scattercarpet"
           }
          ],
          "scattergeo": [
           {
            "marker": {
             "colorbar": {
              "outlinewidth": 0,
              "ticks": ""
             }
            },
            "type": "scattergeo"
           }
          ],
          "scattergl": [
           {
            "marker": {
             "colorbar": {
              "outlinewidth": 0,
              "ticks": ""
             }
            },
            "type": "scattergl"
           }
          ],
          "scattermap": [
           {
            "marker": {
             "colorbar": {
              "outlinewidth": 0,
              "ticks": ""
             }
            },
            "type": "scattermap"
           }
          ],
          "scattermapbox": [
           {
            "marker": {
             "colorbar": {
              "outlinewidth": 0,
              "ticks": ""
             }
            },
            "type": "scattermapbox"
           }
          ],
          "scatterpolar": [
           {
            "marker": {
             "colorbar": {
              "outlinewidth": 0,
              "ticks": ""
             }
            },
            "type": "scatterpolar"
           }
          ],
          "scatterpolargl": [
           {
            "marker": {
             "colorbar": {
              "outlinewidth": 0,
              "ticks": ""
             }
            },
            "type": "scatterpolargl"
           }
          ],
          "scatterternary": [
           {
            "marker": {
             "colorbar": {
              "outlinewidth": 0,
              "ticks": ""
             }
            },
            "type": "scatterternary"
           }
          ],
          "surface": [
           {
            "colorbar": {
             "outlinewidth": 0,
             "ticks": ""
            },
            "colorscale": [
             [
              0,
              "#0d0887"
             ],
             [
              0.1111111111111111,
              "#46039f"
             ],
             [
              0.2222222222222222,
              "#7201a8"
             ],
             [
              0.3333333333333333,
              "#9c179e"
             ],
             [
              0.4444444444444444,
              "#bd3786"
             ],
             [
              0.5555555555555556,
              "#d8576b"
             ],
             [
              0.6666666666666666,
              "#ed7953"
             ],
             [
              0.7777777777777778,
              "#fb9f3a"
             ],
             [
              0.8888888888888888,
              "#fdca26"
             ],
             [
              1,
              "#f0f921"
             ]
            ],
            "type": "surface"
           }
          ],
          "table": [
           {
            "cells": {
             "fill": {
              "color": "#EBF0F8"
             },
             "line": {
              "color": "white"
             }
            },
            "header": {
             "fill": {
              "color": "#C8D4E3"
             },
             "line": {
              "color": "white"
             }
            },
            "type": "table"
           }
          ]
         },
         "layout": {
          "annotationdefaults": {
           "arrowcolor": "#2a3f5f",
           "arrowhead": 0,
           "arrowwidth": 1
          },
          "autotypenumbers": "strict",
          "coloraxis": {
           "colorbar": {
            "outlinewidth": 0,
            "ticks": ""
           }
          },
          "colorscale": {
           "diverging": [
            [
             0,
             "#8e0152"
            ],
            [
             0.1,
             "#c51b7d"
            ],
            [
             0.2,
             "#de77ae"
            ],
            [
             0.3,
             "#f1b6da"
            ],
            [
             0.4,
             "#fde0ef"
            ],
            [
             0.5,
             "#f7f7f7"
            ],
            [
             0.6,
             "#e6f5d0"
            ],
            [
             0.7,
             "#b8e186"
            ],
            [
             0.8,
             "#7fbc41"
            ],
            [
             0.9,
             "#4d9221"
            ],
            [
             1,
             "#276419"
            ]
           ],
           "sequential": [
            [
             0,
             "#0d0887"
            ],
            [
             0.1111111111111111,
             "#46039f"
            ],
            [
             0.2222222222222222,
             "#7201a8"
            ],
            [
             0.3333333333333333,
             "#9c179e"
            ],
            [
             0.4444444444444444,
             "#bd3786"
            ],
            [
             0.5555555555555556,
             "#d8576b"
            ],
            [
             0.6666666666666666,
             "#ed7953"
            ],
            [
             0.7777777777777778,
             "#fb9f3a"
            ],
            [
             0.8888888888888888,
             "#fdca26"
            ],
            [
             1,
             "#f0f921"
            ]
           ],
           "sequentialminus": [
            [
             0,
             "#0d0887"
            ],
            [
             0.1111111111111111,
             "#46039f"
            ],
            [
             0.2222222222222222,
             "#7201a8"
            ],
            [
             0.3333333333333333,
             "#9c179e"
            ],
            [
             0.4444444444444444,
             "#bd3786"
            ],
            [
             0.5555555555555556,
             "#d8576b"
            ],
            [
             0.6666666666666666,
             "#ed7953"
            ],
            [
             0.7777777777777778,
             "#fb9f3a"
            ],
            [
             0.8888888888888888,
             "#fdca26"
            ],
            [
             1,
             "#f0f921"
            ]
           ]
          },
          "colorway": [
           "#636efa",
           "#EF553B",
           "#00cc96",
           "#ab63fa",
           "#FFA15A",
           "#19d3f3",
           "#FF6692",
           "#B6E880",
           "#FF97FF",
           "#FECB52"
          ],
          "font": {
           "color": "#2a3f5f"
          },
          "geo": {
           "bgcolor": "white",
           "lakecolor": "white",
           "landcolor": "#E5ECF6",
           "showlakes": true,
           "showland": true,
           "subunitcolor": "white"
          },
          "hoverlabel": {
           "align": "left"
          },
          "hovermode": "closest",
          "mapbox": {
           "style": "light"
          },
          "paper_bgcolor": "white",
          "plot_bgcolor": "#E5ECF6",
          "polar": {
           "angularaxis": {
            "gridcolor": "white",
            "linecolor": "white",
            "ticks": ""
           },
           "bgcolor": "#E5ECF6",
           "radialaxis": {
            "gridcolor": "white",
            "linecolor": "white",
            "ticks": ""
           }
          },
          "scene": {
           "xaxis": {
            "backgroundcolor": "#E5ECF6",
            "gridcolor": "white",
            "gridwidth": 2,
            "linecolor": "white",
            "showbackground": true,
            "ticks": "",
            "zerolinecolor": "white"
           },
           "yaxis": {
            "backgroundcolor": "#E5ECF6",
            "gridcolor": "white",
            "gridwidth": 2,
            "linecolor": "white",
            "showbackground": true,
            "ticks": "",
            "zerolinecolor": "white"
           },
           "zaxis": {
            "backgroundcolor": "#E5ECF6",
            "gridcolor": "white",
            "gridwidth": 2,
            "linecolor": "white",
            "showbackground": true,
            "ticks": "",
            "zerolinecolor": "white"
           }
          },
          "shapedefaults": {
           "line": {
            "color": "#2a3f5f"
           }
          },
          "ternary": {
           "aaxis": {
            "gridcolor": "white",
            "linecolor": "white",
            "ticks": ""
           },
           "baxis": {
            "gridcolor": "white",
            "linecolor": "white",
            "ticks": ""
           },
           "bgcolor": "#E5ECF6",
           "caxis": {
            "gridcolor": "white",
            "linecolor": "white",
            "ticks": ""
           }
          },
          "title": {
           "x": 0.05
          },
          "xaxis": {
           "automargin": true,
           "gridcolor": "white",
           "linecolor": "white",
           "ticks": "",
           "title": {
            "standoff": 15
           },
           "zerolinecolor": "white",
           "zerolinewidth": 2
          },
          "yaxis": {
           "automargin": true,
           "gridcolor": "white",
           "linecolor": "white",
           "ticks": "",
           "title": {
            "standoff": 15
           },
           "zerolinecolor": "white",
           "zerolinewidth": 2
          }
         }
        },
        "title": {
         "font": {
          "family": "Arial",
          "size": 24,
          "weight": "bold"
         },
         "text": "Распределение средних оценок фильмов"
        },
        "width": 800,
        "xaxis": {
         "anchor": "y",
         "domain": [
          0,
          1
         ],
         "dtick": 1,
         "gridcolor": "lightgray",
         "griddash": "dash",
         "gridwidth": 1,
         "linecolor": "black",
         "linewidth": 1,
         "showline": true,
         "showticklabels": true,
         "tickcolor": "black",
         "tickfont": {
          "size": 16
         },
         "ticklen": 6,
         "tickmode": "linear",
         "ticks": "outside",
         "tickwidth": 2,
         "title": {
          "font": {
           "family": "Arial",
           "size": 20
          },
          "text": "Оценка"
         }
        },
        "yaxis": {
         "anchor": "x",
         "domain": [
          0,
          1
         ],
         "dtick": 0.1,
         "gridcolor": "lightgray",
         "griddash": "dash",
         "gridwidth": 1,
         "linecolor": "black",
         "linewidth": 1,
         "showline": true,
         "showticklabels": true,
         "tickfont": {
          "size": 16
         },
         "ticklen": 6,
         "tickmode": "linear",
         "ticks": "inside",
         "tickwidth": 2,
         "title": {
          "font": {
           "family": "Arial",
           "size": 20
          },
          "text": "Нормированное кол-во оценок"
         }
        }
       }
      }
     },
     "metadata": {},
     "output_type": "display_data"
    }
   ],
   "source": [
    "kde_2 = scipy.stats.gaussian_kde(mean_rating[\"mean_rating\"])\n",
    "x_2 = np.linspace(\n",
    "    min(mean_rating[\"mean_rating\"]),\n",
    "    max(mean_rating[\"mean_rating\"]),\n",
    "    200,\n",
    ")\n",
    "y_2 = kde_2(x_2)\n",
    "df_kde_2 = pd.DataFrame({\"x\": x_2, \"density\": y_2})\n",
    "fig_9 = px.line(\n",
    "    df_kde_2, x=\"x\", y=\"density\", title=\"Распределение средних оценок фильмов\"\n",
    ")\n",
    "fig_9.update_layout(\n",
    "    width=800,  # ширина в пикселях\n",
    "    height=600,  # высота в пикселях\n",
    "    # autosize=False,  # отключаем авторазмер\n",
    "    xaxis_title=\"Оценка\",\n",
    "    yaxis_title=\"Нормированное кол-во оценок\",\n",
    "    # title_font=dict(size=24, family=\"Arial\", weight=\"bold\"),\n",
    "    showlegend=False,\n",
    ")\n",
    "fig_9.update_layout(\n",
    "    xaxis=dict(\n",
    "        showticklabels=True,\n",
    "        tickmode=\"linear\",\n",
    "        ticks=\"outside\",  # Ticks снаружи: 'outside', 'inside', ''\n",
    "        ticklen=6,  # Длина ticks\n",
    "        tickwidth=2,  # Толщина ticks\n",
    "        tickcolor=\"black\",  # Цвет ticks\n",
    "        dtick=1,\n",
    "        # tickmode='array',  # Режим ручной установки\n",
    "        # tickvals=[0, 1, 2, 3],  # Позиции ticks\n",
    "        # ticktext=['Категория A', 'Категория B', 'Категория C', 'Категория D']  # Подписи\n",
    "    ),\n",
    "    yaxis=dict(\n",
    "        showticklabels=True,\n",
    "        tickmode=\"linear\",\n",
    "        dtick=0.1,\n",
    "        ticks=\"inside\",  # Ticks снаружи: 'outside', 'inside', ''\n",
    "        ticklen=6,  # Длина ticks\n",
    "        tickwidth=2,  # Толщина ticks\n",
    "        # tickmode=\"linear\",\n",
    "        # dtick=5\n",
    "    ),\n",
    ")\n",
    "fig_9 = configure_plotly_theme(fig_9)\n",
    "fig_9.update_traces(marker=dict(line=dict(width=1, color=\"black\")))\n",
    "fig_9.show()"
   ]
  },
  {
   "cell_type": "code",
   "execution_count": 257,
   "id": "13396474",
   "metadata": {},
   "outputs": [
    {
     "data": {
      "application/vnd.plotly.v1+json": {
       "config": {
        "plotlyServerURL": "https://plot.ly"
       },
       "data": [
        {
         "bingroup": "x",
         "hovertemplate": "variable=mean_rating<br>value=%{x}<br>count=%{y}<extra></extra>",
         "legendgroup": "mean_rating",
         "marker": {
          "color": "#636efa",
          "line": {
           "color": "black",
           "width": 1
          },
          "pattern": {
           "shape": ""
          }
         },
         "name": "mean_rating",
         "nbinsx": 200,
         "orientation": "v",
         "showlegend": true,
         "type": "histogram",
         "x": {
          "bdata": "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",
          "dtype": "f8"
         },
         "xaxis": "x",
         "yaxis": "y"
        }
       ],
       "layout": {
        "barmode": "relative",
        "font": {
         "size": 14
        },
        "height": 600,
        "legend": {
         "title": {
          "text": "variable"
         },
         "tracegroupgap": 0
        },
        "paper_bgcolor": "white",
        "plot_bgcolor": "white",
        "showlegend": false,
        "template": {
         "data": {
          "bar": [
           {
            "error_x": {
             "color": "#2a3f5f"
            },
            "error_y": {
             "color": "#2a3f5f"
            },
            "marker": {
             "line": {
              "color": "#E5ECF6",
              "width": 0.5
             },
             "pattern": {
              "fillmode": "overlay",
              "size": 10,
              "solidity": 0.2
             }
            },
            "type": "bar"
           }
          ],
          "barpolar": [
           {
            "marker": {
             "line": {
              "color": "#E5ECF6",
              "width": 0.5
             },
             "pattern": {
              "fillmode": "overlay",
              "size": 10,
              "solidity": 0.2
             }
            },
            "type": "barpolar"
           }
          ],
          "carpet": [
           {
            "aaxis": {
             "endlinecolor": "#2a3f5f",
             "gridcolor": "white",
             "linecolor": "white",
             "minorgridcolor": "white",
             "startlinecolor": "#2a3f5f"
            },
            "baxis": {
             "endlinecolor": "#2a3f5f",
             "gridcolor": "white",
             "linecolor": "white",
             "minorgridcolor": "white",
             "startlinecolor": "#2a3f5f"
            },
            "type": "carpet"
           }
          ],
          "choropleth": [
           {
            "colorbar": {
             "outlinewidth": 0,
             "ticks": ""
            },
            "type": "choropleth"
           }
          ],
          "contour": [
           {
            "colorbar": {
             "outlinewidth": 0,
             "ticks": ""
            },
            "colorscale": [
             [
              0,
              "#0d0887"
             ],
             [
              0.1111111111111111,
              "#46039f"
             ],
             [
              0.2222222222222222,
              "#7201a8"
             ],
             [
              0.3333333333333333,
              "#9c179e"
             ],
             [
              0.4444444444444444,
              "#bd3786"
             ],
             [
              0.5555555555555556,
              "#d8576b"
             ],
             [
              0.6666666666666666,
              "#ed7953"
             ],
             [
              0.7777777777777778,
              "#fb9f3a"
             ],
             [
              0.8888888888888888,
              "#fdca26"
             ],
             [
              1,
              "#f0f921"
             ]
            ],
            "type": "contour"
           }
          ],
          "contourcarpet": [
           {
            "colorbar": {
             "outlinewidth": 0,
             "ticks": ""
            },
            "type": "contourcarpet"
           }
          ],
          "heatmap": [
           {
            "colorbar": {
             "outlinewidth": 0,
             "ticks": ""
            },
            "colorscale": [
             [
              0,
              "#0d0887"
             ],
             [
              0.1111111111111111,
              "#46039f"
             ],
             [
              0.2222222222222222,
              "#7201a8"
             ],
             [
              0.3333333333333333,
              "#9c179e"
             ],
             [
              0.4444444444444444,
              "#bd3786"
             ],
             [
              0.5555555555555556,
              "#d8576b"
             ],
             [
              0.6666666666666666,
              "#ed7953"
             ],
             [
              0.7777777777777778,
              "#fb9f3a"
             ],
             [
              0.8888888888888888,
              "#fdca26"
             ],
             [
              1,
              "#f0f921"
             ]
            ],
            "type": "heatmap"
           }
          ],
          "histogram": [
           {
            "marker": {
             "pattern": {
              "fillmode": "overlay",
              "size": 10,
              "solidity": 0.2
             }
            },
            "type": "histogram"
           }
          ],
          "histogram2d": [
           {
            "colorbar": {
             "outlinewidth": 0,
             "ticks": ""
            },
            "colorscale": [
             [
              0,
              "#0d0887"
             ],
             [
              0.1111111111111111,
              "#46039f"
             ],
             [
              0.2222222222222222,
              "#7201a8"
             ],
             [
              0.3333333333333333,
              "#9c179e"
             ],
             [
              0.4444444444444444,
              "#bd3786"
             ],
             [
              0.5555555555555556,
              "#d8576b"
             ],
             [
              0.6666666666666666,
              "#ed7953"
             ],
             [
              0.7777777777777778,
              "#fb9f3a"
             ],
             [
              0.8888888888888888,
              "#fdca26"
             ],
             [
              1,
              "#f0f921"
             ]
            ],
            "type": "histogram2d"
           }
          ],
          "histogram2dcontour": [
           {
            "colorbar": {
             "outlinewidth": 0,
             "ticks": ""
            },
            "colorscale": [
             [
              0,
              "#0d0887"
             ],
             [
              0.1111111111111111,
              "#46039f"
             ],
             [
              0.2222222222222222,
              "#7201a8"
             ],
             [
              0.3333333333333333,
              "#9c179e"
             ],
             [
              0.4444444444444444,
              "#bd3786"
             ],
             [
              0.5555555555555556,
              "#d8576b"
             ],
             [
              0.6666666666666666,
              "#ed7953"
             ],
             [
              0.7777777777777778,
              "#fb9f3a"
             ],
             [
              0.8888888888888888,
              "#fdca26"
             ],
             [
              1,
              "#f0f921"
             ]
            ],
            "type": "histogram2dcontour"
           }
          ],
          "mesh3d": [
           {
            "colorbar": {
             "outlinewidth": 0,
             "ticks": ""
            },
            "type": "mesh3d"
           }
          ],
          "parcoords": [
           {
            "line": {
             "colorbar": {
              "outlinewidth": 0,
              "ticks": ""
             }
            },
            "type": "parcoords"
           }
          ],
          "pie": [
           {
            "automargin": true,
            "type": "pie"
           }
          ],
          "scatter": [
           {
            "fillpattern": {
             "fillmode": "overlay",
             "size": 10,
             "solidity": 0.2
            },
            "type": "scatter"
           }
          ],
          "scatter3d": [
           {
            "line": {
             "colorbar": {
              "outlinewidth": 0,
              "ticks": ""
             }
            },
            "marker": {
             "colorbar": {
              "outlinewidth": 0,
              "ticks": ""
             }
            },
            "type": "scatter3d"
           }
          ],
          "scattercarpet": [
           {
            "marker": {
             "colorbar": {
              "outlinewidth": 0,
              "ticks": ""
             }
            },
            "type": "scattercarpet"
           }
          ],
          "scattergeo": [
           {
            "marker": {
             "colorbar": {
              "outlinewidth": 0,
              "ticks": ""
             }
            },
            "type": "scattergeo"
           }
          ],
          "scattergl": [
           {
            "marker": {
             "colorbar": {
              "outlinewidth": 0,
              "ticks": ""
             }
            },
            "type": "scattergl"
           }
          ],
          "scattermap": [
           {
            "marker": {
             "colorbar": {
              "outlinewidth": 0,
              "ticks": ""
             }
            },
            "type": "scattermap"
           }
          ],
          "scattermapbox": [
           {
            "marker": {
             "colorbar": {
              "outlinewidth": 0,
              "ticks": ""
             }
            },
            "type": "scattermapbox"
           }
          ],
          "scatterpolar": [
           {
            "marker": {
             "colorbar": {
              "outlinewidth": 0,
              "ticks": ""
             }
            },
            "type": "scatterpolar"
           }
          ],
          "scatterpolargl": [
           {
            "marker": {
             "colorbar": {
              "outlinewidth": 0,
              "ticks": ""
             }
            },
            "type": "scatterpolargl"
           }
          ],
          "scatterternary": [
           {
            "marker": {
             "colorbar": {
              "outlinewidth": 0,
              "ticks": ""
             }
            },
            "type": "scatterternary"
           }
          ],
          "surface": [
           {
            "colorbar": {
             "outlinewidth": 0,
             "ticks": ""
            },
            "colorscale": [
             [
              0,
              "#0d0887"
             ],
             [
              0.1111111111111111,
              "#46039f"
             ],
             [
              0.2222222222222222,
              "#7201a8"
             ],
             [
              0.3333333333333333,
              "#9c179e"
             ],
             [
              0.4444444444444444,
              "#bd3786"
             ],
             [
              0.5555555555555556,
              "#d8576b"
             ],
             [
              0.6666666666666666,
              "#ed7953"
             ],
             [
              0.7777777777777778,
              "#fb9f3a"
             ],
             [
              0.8888888888888888,
              "#fdca26"
             ],
             [
              1,
              "#f0f921"
             ]
            ],
            "type": "surface"
           }
          ],
          "table": [
           {
            "cells": {
             "fill": {
              "color": "#EBF0F8"
             },
             "line": {
              "color": "white"
             }
            },
            "header": {
             "fill": {
              "color": "#C8D4E3"
             },
             "line": {
              "color": "white"
             }
            },
            "type": "table"
           }
          ]
         },
         "layout": {
          "annotationdefaults": {
           "arrowcolor": "#2a3f5f",
           "arrowhead": 0,
           "arrowwidth": 1
          },
          "autotypenumbers": "strict",
          "coloraxis": {
           "colorbar": {
            "outlinewidth": 0,
            "ticks": ""
           }
          },
          "colorscale": {
           "diverging": [
            [
             0,
             "#8e0152"
            ],
            [
             0.1,
             "#c51b7d"
            ],
            [
             0.2,
             "#de77ae"
            ],
            [
             0.3,
             "#f1b6da"
            ],
            [
             0.4,
             "#fde0ef"
            ],
            [
             0.5,
             "#f7f7f7"
            ],
            [
             0.6,
             "#e6f5d0"
            ],
            [
             0.7,
             "#b8e186"
            ],
            [
             0.8,
             "#7fbc41"
            ],
            [
             0.9,
             "#4d9221"
            ],
            [
             1,
             "#276419"
            ]
           ],
           "sequential": [
            [
             0,
             "#0d0887"
            ],
            [
             0.1111111111111111,
             "#46039f"
            ],
            [
             0.2222222222222222,
             "#7201a8"
            ],
            [
             0.3333333333333333,
             "#9c179e"
            ],
            [
             0.4444444444444444,
             "#bd3786"
            ],
            [
             0.5555555555555556,
             "#d8576b"
            ],
            [
             0.6666666666666666,
             "#ed7953"
            ],
            [
             0.7777777777777778,
             "#fb9f3a"
            ],
            [
             0.8888888888888888,
             "#fdca26"
            ],
            [
             1,
             "#f0f921"
            ]
           ],
           "sequentialminus": [
            [
             0,
             "#0d0887"
            ],
            [
             0.1111111111111111,
             "#46039f"
            ],
            [
             0.2222222222222222,
             "#7201a8"
            ],
            [
             0.3333333333333333,
             "#9c179e"
            ],
            [
             0.4444444444444444,
             "#bd3786"
            ],
            [
             0.5555555555555556,
             "#d8576b"
            ],
            [
             0.6666666666666666,
             "#ed7953"
            ],
            [
             0.7777777777777778,
             "#fb9f3a"
            ],
            [
             0.8888888888888888,
             "#fdca26"
            ],
            [
             1,
             "#f0f921"
            ]
           ]
          },
          "colorway": [
           "#636efa",
           "#EF553B",
           "#00cc96",
           "#ab63fa",
           "#FFA15A",
           "#19d3f3",
           "#FF6692",
           "#B6E880",
           "#FF97FF",
           "#FECB52"
          ],
          "font": {
           "color": "#2a3f5f"
          },
          "geo": {
           "bgcolor": "white",
           "lakecolor": "white",
           "landcolor": "#E5ECF6",
           "showlakes": true,
           "showland": true,
           "subunitcolor": "white"
          },
          "hoverlabel": {
           "align": "left"
          },
          "hovermode": "closest",
          "mapbox": {
           "style": "light"
          },
          "paper_bgcolor": "white",
          "plot_bgcolor": "#E5ECF6",
          "polar": {
           "angularaxis": {
            "gridcolor": "white",
            "linecolor": "white",
            "ticks": ""
           },
           "bgcolor": "#E5ECF6",
           "radialaxis": {
            "gridcolor": "white",
            "linecolor": "white",
            "ticks": ""
           }
          },
          "scene": {
           "xaxis": {
            "backgroundcolor": "#E5ECF6",
            "gridcolor": "white",
            "gridwidth": 2,
            "linecolor": "white",
            "showbackground": true,
            "ticks": "",
            "zerolinecolor": "white"
           },
           "yaxis": {
            "backgroundcolor": "#E5ECF6",
            "gridcolor": "white",
            "gridwidth": 2,
            "linecolor": "white",
            "showbackground": true,
            "ticks": "",
            "zerolinecolor": "white"
           },
           "zaxis": {
            "backgroundcolor": "#E5ECF6",
            "gridcolor": "white",
            "gridwidth": 2,
            "linecolor": "white",
            "showbackground": true,
            "ticks": "",
            "zerolinecolor": "white"
           }
          },
          "shapedefaults": {
           "line": {
            "color": "#2a3f5f"
           }
          },
          "ternary": {
           "aaxis": {
            "gridcolor": "white",
            "linecolor": "white",
            "ticks": ""
           },
           "baxis": {
            "gridcolor": "white",
            "linecolor": "white",
            "ticks": ""
           },
           "bgcolor": "#E5ECF6",
           "caxis": {
            "gridcolor": "white",
            "linecolor": "white",
            "ticks": ""
           }
          },
          "title": {
           "x": 0.05
          },
          "xaxis": {
           "automargin": true,
           "gridcolor": "white",
           "linecolor": "white",
           "ticks": "",
           "title": {
            "standoff": 15
           },
           "zerolinecolor": "white",
           "zerolinewidth": 2
          },
          "yaxis": {
           "automargin": true,
           "gridcolor": "white",
           "linecolor": "white",
           "ticks": "",
           "title": {
            "standoff": 15
           },
           "zerolinecolor": "white",
           "zerolinewidth": 2
          }
         }
        },
        "title": {
         "font": {
          "family": "Arial",
          "size": 24,
          "weight": "bold"
         },
         "text": "Распределение средних оценок у фильмов"
        },
        "width": 800,
        "xaxis": {
         "anchor": "y",
         "domain": [
          0,
          1
         ],
         "dtick": 100,
         "gridcolor": "lightgray",
         "griddash": "dash",
         "gridwidth": 1,
         "linecolor": "black",
         "linewidth": 1,
         "showline": true,
         "showticklabels": true,
         "tickcolor": "black",
         "tickfont": {
          "size": 16
         },
         "ticklen": 6,
         "tickmode": "linear",
         "ticks": "outside",
         "tickwidth": 2,
         "title": {
          "font": {
           "family": "Arial",
           "size": 20
          },
          "text": "Количество оценок"
         }
        },
        "yaxis": {
         "anchor": "x",
         "domain": [
          0,
          1
         ],
         "dtick": 50,
         "gridcolor": "lightgray",
         "griddash": "dash",
         "gridwidth": 1,
         "linecolor": "black",
         "linewidth": 1,
         "showline": true,
         "showticklabels": true,
         "tickfont": {
          "size": 16
         },
         "ticklen": 6,
         "tickmode": "linear",
         "ticks": "outside",
         "tickwidth": 2,
         "title": {
          "font": {
           "family": "Arial",
           "size": 20
          },
          "text": "Количество фильмов"
         }
        }
       }
      }
     },
     "metadata": {},
     "output_type": "display_data"
    }
   ],
   "source": [
    "fig_10 = px.histogram(\n",
    "    mean_rating[\"mean_rating\"],\n",
    "    nbins=200,\n",
    "    title=\"Распределение средних оценок у фильмов\",\n",
    ")\n",
    "fig_10.update_layout(\n",
    "    width=800,  # ширина в пикселях\n",
    "    height=600,  # высота в пикселях\n",
    "    # autosize=False,  # отключаем авторазмер\n",
    "    xaxis_title=\"Количество оценок\",\n",
    "    yaxis_title=\"Количество фильмов\",\n",
    "    # title_font=dict(size=24, family=\"Arial\", weight=\"bold\"),\n",
    "    showlegend=False,\n",
    ")\n",
    "fig_10.update_layout(\n",
    "    xaxis=dict(\n",
    "        showticklabels=True,\n",
    "        tickmode=\"linear\",\n",
    "        ticks=\"outside\",  # Ticks снаружи: 'outside', 'inside', ''\n",
    "        ticklen=6,  # Длина ticks\n",
    "        tickwidth=2,  # Толщина ticks\n",
    "        tickcolor=\"black\",  # Цвет ticks\n",
    "        dtick=100,\n",
    "        # tickmode='array',  # Режим ручной установки\n",
    "        # tickvals=[0, 1, 2, 3],  # Позиции ticks\n",
    "        # ticktext=['Категория A', 'Категория B', 'Категория C', 'Категория D']  # Подписи\n",
    "    ),\n",
    "    yaxis=dict(\n",
    "        showticklabels=True,\n",
    "        tickmode=\"linear\",\n",
    "        dtick=50,\n",
    "        ticks=\"outside\",  # Ticks снаружи: 'outside', 'inside', ''\n",
    "        ticklen=6,  # Длина ticks\n",
    "        tickwidth=2,  # Толщина ticks\n",
    "        # tickmode=\"linear\",\n",
    "        # dtick=5\n",
    "    ),\n",
    ")\n",
    "fig_10 = configure_plotly_theme(fig_10)\n",
    "fig_10.update_traces(marker=dict(line=dict(width=1, color=\"black\")))\n",
    "fig_10.show()"
   ]
  },
  {
   "cell_type": "markdown",
   "id": "c4d6ceb2-10a0-4742-b6e3-da9b8dd4ef39",
   "metadata": {},
   "source": [
    "<img src=\"https://icons.iconarchive.com/icons/icons8/windows-8/256/Programming-Github-icon.png\" width=32 /> Пора сохранить изменения для __github__. После пуша распечатай результат команды `!git status` в ячейке ниже."
   ]
  },
  {
   "cell_type": "code",
   "execution_count": 34,
   "id": "75a95b57-2302-448a-b035-c0cd3aedbed7",
   "metadata": {},
   "outputs": [],
   "source": [
    "# code"
   ]
  },
  {
   "cell_type": "markdown",
   "id": "857f215e",
   "metadata": {},
   "source": [
    "### Рекомендации по популярности 🔝"
   ]
  },
  {
   "cell_type": "markdown",
   "id": "9d1975e1-660d-424c-989f-d4618276cea1",
   "metadata": {},
   "source": [
    "Мы хотим рекомендовать фильмы с самой большой оценкой, которые при этом смотрели достаточно часто. Для этого нужно оценить величину, которую мы назовем __score__, значение которой будет вычисляться как логарифм числа оценок фильма, умноженный на среднюю оценку: \n",
    "$$score_{film} = \\log n * \\bar{r}_{film},$$\n",
    "где $n$ - число оценок для фильма, $\\bar{r}_{film}$ - средний рейтинг фильма. \n",
    "\n",
    "# ❓\n",
    "Зачем мы берем логарифм от числа оценок фильма?"
   ]
  },
  {
   "cell_type": "markdown",
   "id": "60282eba-26b1-4d23-9af7-5bd66f662635",
   "metadata": {},
   "source": [
    "> ответ тут"
   ]
  },
  {
   "cell_type": "markdown",
   "id": "4f9f1793-9352-4ca8-8a65-d80c4fe4c9d9",
   "metadata": {},
   "source": [
    "Добавь колонки `num_ratings, mean_rating, score` в датафрейм `ratings` и найди топ-10 фильмов, которые всем точно стоит посмотреть."
   ]
  },
  {
   "cell_type": "code",
   "execution_count": null,
   "id": "4f2c8d7a",
   "metadata": {},
   "outputs": [],
   "source": [
    "# code"
   ]
  },
  {
   "cell_type": "markdown",
   "id": "30a9ca2e",
   "metadata": {},
   "source": [
    "## Контентный подход\n",
    "\n",
    "### Похожесть фильмов между собой 🎥 - 🎥\n",
    "\n",
    "Посчитай меры похожести каждой пары фильмов по жанрам. Будем рекомендовать фильмы, похожие на какой-нибудь из фильмов, который понравился пользователю. В результате должна получиться функция `recommend(user_id, top=10)`, которая должна выдавать `list` или `pd.DataFrame` из `<top>` фильмов, которые мы будем рекомендовать пользователю.\n",
    "\n",
    "<details>\n",
    "<summary>Что такое похожесть в текущем контексте?</summary>\n",
    "Каждый фильм может быть представлен вектором, описывающим его принадлежность к жанрам. Близость этих векторов можно использовать как меру сходства двух фильмов. \n",
    "</details>\n"
   ]
  },
  {
   "cell_type": "code",
   "execution_count": null,
   "id": "3ed9f6cf",
   "metadata": {},
   "outputs": [],
   "source": [
    "def recommend(user_id, top=10):\n",
    "    pass\n",
    "    return top_films"
   ]
  },
  {
   "cell_type": "markdown",
   "id": "53740811",
   "metadata": {},
   "source": [
    "### Похожесть пользователей между собой 🥸 - 🥴\n",
    "\n",
    "Найди 10 самых похожих пользователей и рекомендуй текущему пользователю то, что понравилось наиболее близким к нему пользователям. В результате должна получиться функция `recommend_by_user(user_id, top=10)`, которая должна выдавать `list` или `pd.DataFrame` из `<top>` фильмов, которые мы будем рекомендовать пользователю. "
   ]
  },
  {
   "cell_type": "code",
   "execution_count": null,
   "id": "9ee3e6d5",
   "metadata": {},
   "outputs": [],
   "source": [
    "def recommend_by_user(user_id, top=10):\n",
    "    pass\n",
    "    return top_films"
   ]
  },
  {
   "cell_type": "markdown",
   "id": "b6ac827b",
   "metadata": {},
   "source": [
    "### scikit-surprice\n"
   ]
  },
  {
   "cell_type": "markdown",
   "id": "e125ed69",
   "metadata": {},
   "source": [
    "Создай `user-item` матрицу (по строкам – пользователи, по столбцам – фильмы, на пересечении – оценки). Примени `SVD` для решения задачи прогнозирования оценки. \n",
    "\n",
    "> https://surpriselib.com/"
   ]
  },
  {
   "cell_type": "code",
   "execution_count": null,
   "id": "faf6be41",
   "metadata": {},
   "outputs": [],
   "source": []
  },
  {
   "cell_type": "markdown",
   "id": "5fb53c44",
   "metadata": {},
   "source": [
    "\n",
    "Реализуй предсказание рейтинга пользователя с помощью алгоритма [Nonnegative Matrix Factorization](https://surprise.readthedocs.io/en/stable/matrix_factorization.html#surprise.prediction_algorithms.matrix_factorization.NMF). Для этого понадобится библиотека [scikit-surpice](https://surprise.readthedocs.io/en/stable/index.html)"
   ]
  },
  {
   "cell_type": "code",
   "execution_count": null,
   "id": "6faf5a46",
   "metadata": {},
   "outputs": [],
   "source": [
    "# code"
   ]
  },
  {
   "cell_type": "markdown",
   "id": "d407ffb4",
   "metadata": {},
   "source": [
    "### Slope One\n",
    "\n",
    "Реализуй подход Slope One (пример есть в слайдах лекции или в [статье](https://www.researchgate.net/publication/1960789_Slope_One_Predictors_for_Online_Rating-Based_Collaborative_Filtering))"
   ]
  },
  {
   "cell_type": "code",
   "execution_count": null,
   "id": "4d600b97",
   "metadata": {},
   "outputs": [],
   "source": [
    "# code"
   ]
  },
  {
   "cell_type": "markdown",
   "id": "6cc223a7-f955-4122-ac09-b0d23cfbc887",
   "metadata": {},
   "source": [
    "<img src=\"https://icons.iconarchive.com/icons/icons8/windows-8/256/Programming-Github-icon.png\" width=32 /> Сделай `commit + push` на  __github__. "
   ]
  },
  {
   "cell_type": "code",
   "execution_count": null,
   "id": "12a5f2f4-edc1-42fe-b58d-1f10bf5b8819",
   "metadata": {},
   "outputs": [],
   "source": [
    "# code"
   ]
  }
 ],
 "metadata": {
  "kernelspec": {
   "display_name": ".venv (3.12.10)",
   "language": "python",
   "name": "python3"
  },
  "language_info": {
   "codemirror_mode": {
    "name": "ipython",
    "version": 3
   },
   "file_extension": ".py",
   "mimetype": "text/x-python",
   "name": "python",
   "nbconvert_exporter": "python",
   "pygments_lexer": "ipython3",
   "version": "3.12.10"
  }
 },
 "nbformat": 4,
 "nbformat_minor": 5
}
