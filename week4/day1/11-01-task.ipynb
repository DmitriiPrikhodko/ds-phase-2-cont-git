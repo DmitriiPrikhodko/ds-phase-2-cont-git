{
 "cells": [
  {
   "attachments": {},
   "cell_type": "markdown",
   "id": "edb22a57-8b82-4757-a8b1-bfe5177b6e86",
   "metadata": {},
   "source": [
    "# Фаза 2 • Неделя 11 • Понедельник\n",
    "## Рекомендательные системы\n",
    "### Классические подходы "
   ]
  },
  {
   "cell_type": "markdown",
   "id": "9723b1f4-d955-48b6-a613-8d350afb4df3",
   "metadata": {},
   "source": [
    "### Задание"
   ]
  },
  {
   "cell_type": "code",
   "execution_count": 1,
   "id": "57c03570",
   "metadata": {},
   "outputs": [],
   "source": [
    "import pandas as pd\n",
    "import numpy as np\n",
    "import matplotlib.pyplot as plt\n",
    "import seaborn as sns\n",
    "import os\n",
    "import plotly.express as px\n",
    "import scipy"
   ]
  },
  {
   "cell_type": "markdown",
   "id": "08de911b",
   "metadata": {},
   "source": [
    "### Загрузка данных\n",
    "\n",
    "Запусти ячейку ниже, чтобы загрузить данные. "
   ]
  },
  {
   "cell_type": "code",
   "execution_count": 2,
   "id": "f29c4acf",
   "metadata": {},
   "outputs": [],
   "source": [
    "CURR_PATH = os.path.dirname(\"__name__\")"
   ]
  },
  {
   "cell_type": "code",
   "execution_count": 3,
   "id": "533018e5",
   "metadata": {},
   "outputs": [],
   "source": [
    "# 1. Users dataset\n",
    "u_cols = [\"user_id\", \"age\", \"sex\", \"occupation\", \"zip_code\"]\n",
    "users = pd.read_csv(\n",
    "    os.path.join(CURR_PATH, \"data\", \"ml-100k\", \"u.user\"),\n",
    "    sep=\"|\",\n",
    "    names=u_cols,\n",
    "    encoding=\"latin-1\",\n",
    "    parse_dates=True,\n",
    "    header=None,\n",
    ")\n",
    "# 2. Rating dataset\n",
    "r_cols = [\"user_id\", \"movie_id\", \"rating\", \"unix_timestamp\"]\n",
    "ratings = pd.read_csv(\n",
    "    os.path.join(CURR_PATH, \"data\", \"ml-100k\", \"u.data\"),\n",
    "    sep=\"\\t\",\n",
    "    names=r_cols,\n",
    "    encoding=\"latin-1\",\n",
    ")\n",
    "\n",
    "# 3.Movies Dataset\n",
    "m_cols = [\n",
    "    \"movie_id\",\n",
    "    \"title\",\n",
    "    \"release_date\",\n",
    "    \"video_release_date\",\n",
    "    \"imdb_url\",\n",
    "    \"unknown\",\n",
    "    \"Action\",\n",
    "    \"Adventure\",\n",
    "    \"Animation\",\n",
    "    \"Children's\",\n",
    "    \"Comedy\",\n",
    "    \"Crime\",\n",
    "    \"Documentary\",\n",
    "    \"Drama\",\n",
    "    \"Fantasy\",\n",
    "    \"Film-Noir\",\n",
    "    \"Horror\",\n",
    "    \"Musical\",\n",
    "    \"Mystery\",\n",
    "    \"Romance\",\n",
    "    \"Sci-Fi\",\n",
    "    \"Thriller\",\n",
    "    \"War\",\n",
    "    \"Western\",\n",
    "]\n",
    "movies = pd.read_csv(\n",
    "    os.path.join(CURR_PATH, \"data\", \"ml-100k\", \"u.item\"),\n",
    "    sep=\"|\",\n",
    "    names=m_cols,\n",
    "    encoding=\"latin-1\",\n",
    ").drop([\"video_release_date\", \"unknown\"], axis=1)\n",
    "\n",
    "ratings = ratings.merge(movies[[\"movie_id\", \"title\"]], how=\"left\", on=\"movie_id\")"
   ]
  },
  {
   "cell_type": "code",
   "execution_count": 4,
   "id": "6dd5f105",
   "metadata": {},
   "outputs": [
    {
     "data": {
      "text/plain": [
       "((943, 5), (100000, 5), (1682, 22))"
      ]
     },
     "execution_count": 4,
     "metadata": {},
     "output_type": "execute_result"
    }
   ],
   "source": [
    "users.shape, ratings.shape, movies.shape"
   ]
  },
  {
   "cell_type": "code",
   "execution_count": 5,
   "id": "ccfaac4e",
   "metadata": {},
   "outputs": [
    {
     "data": {
      "text/html": [
       "<div>\n",
       "<style scoped>\n",
       "    .dataframe tbody tr th:only-of-type {\n",
       "        vertical-align: middle;\n",
       "    }\n",
       "\n",
       "    .dataframe tbody tr th {\n",
       "        vertical-align: top;\n",
       "    }\n",
       "\n",
       "    .dataframe thead th {\n",
       "        text-align: right;\n",
       "    }\n",
       "</style>\n",
       "<table border=\"1\" class=\"dataframe\">\n",
       "  <thead>\n",
       "    <tr style=\"text-align: right;\">\n",
       "      <th></th>\n",
       "      <th>user_id</th>\n",
       "      <th>age</th>\n",
       "      <th>sex</th>\n",
       "      <th>occupation</th>\n",
       "      <th>zip_code</th>\n",
       "    </tr>\n",
       "  </thead>\n",
       "  <tbody>\n",
       "    <tr>\n",
       "      <th>0</th>\n",
       "      <td>1</td>\n",
       "      <td>24</td>\n",
       "      <td>M</td>\n",
       "      <td>technician</td>\n",
       "      <td>85711</td>\n",
       "    </tr>\n",
       "    <tr>\n",
       "      <th>1</th>\n",
       "      <td>2</td>\n",
       "      <td>53</td>\n",
       "      <td>F</td>\n",
       "      <td>other</td>\n",
       "      <td>94043</td>\n",
       "    </tr>\n",
       "    <tr>\n",
       "      <th>2</th>\n",
       "      <td>3</td>\n",
       "      <td>23</td>\n",
       "      <td>M</td>\n",
       "      <td>writer</td>\n",
       "      <td>32067</td>\n",
       "    </tr>\n",
       "    <tr>\n",
       "      <th>3</th>\n",
       "      <td>4</td>\n",
       "      <td>24</td>\n",
       "      <td>M</td>\n",
       "      <td>technician</td>\n",
       "      <td>43537</td>\n",
       "    </tr>\n",
       "    <tr>\n",
       "      <th>4</th>\n",
       "      <td>5</td>\n",
       "      <td>33</td>\n",
       "      <td>F</td>\n",
       "      <td>other</td>\n",
       "      <td>15213</td>\n",
       "    </tr>\n",
       "  </tbody>\n",
       "</table>\n",
       "</div>"
      ],
      "text/plain": [
       "   user_id  age sex  occupation zip_code\n",
       "0        1   24   M  technician    85711\n",
       "1        2   53   F       other    94043\n",
       "2        3   23   M      writer    32067\n",
       "3        4   24   M  technician    43537\n",
       "4        5   33   F       other    15213"
      ]
     },
     "execution_count": 5,
     "metadata": {},
     "output_type": "execute_result"
    }
   ],
   "source": [
    "users.head()"
   ]
  },
  {
   "cell_type": "code",
   "execution_count": 6,
   "id": "9a22d5d5",
   "metadata": {},
   "outputs": [
    {
     "data": {
      "text/plain": [
       "943"
      ]
     },
     "execution_count": 6,
     "metadata": {},
     "output_type": "execute_result"
    }
   ],
   "source": [
    "users[\"user_id\"].nunique()"
   ]
  },
  {
   "cell_type": "code",
   "execution_count": 7,
   "id": "497ebbc2",
   "metadata": {
    "scrolled": true
   },
   "outputs": [
    {
     "data": {
      "text/html": [
       "<div>\n",
       "<style scoped>\n",
       "    .dataframe tbody tr th:only-of-type {\n",
       "        vertical-align: middle;\n",
       "    }\n",
       "\n",
       "    .dataframe tbody tr th {\n",
       "        vertical-align: top;\n",
       "    }\n",
       "\n",
       "    .dataframe thead th {\n",
       "        text-align: right;\n",
       "    }\n",
       "</style>\n",
       "<table border=\"1\" class=\"dataframe\">\n",
       "  <thead>\n",
       "    <tr style=\"text-align: right;\">\n",
       "      <th></th>\n",
       "      <th>user_id</th>\n",
       "      <th>movie_id</th>\n",
       "      <th>rating</th>\n",
       "      <th>unix_timestamp</th>\n",
       "      <th>title</th>\n",
       "    </tr>\n",
       "  </thead>\n",
       "  <tbody>\n",
       "    <tr>\n",
       "      <th>0</th>\n",
       "      <td>196</td>\n",
       "      <td>242</td>\n",
       "      <td>3</td>\n",
       "      <td>881250949</td>\n",
       "      <td>Kolya (1996)</td>\n",
       "    </tr>\n",
       "    <tr>\n",
       "      <th>1</th>\n",
       "      <td>186</td>\n",
       "      <td>302</td>\n",
       "      <td>3</td>\n",
       "      <td>891717742</td>\n",
       "      <td>L.A. Confidential (1997)</td>\n",
       "    </tr>\n",
       "    <tr>\n",
       "      <th>2</th>\n",
       "      <td>22</td>\n",
       "      <td>377</td>\n",
       "      <td>1</td>\n",
       "      <td>878887116</td>\n",
       "      <td>Heavyweights (1994)</td>\n",
       "    </tr>\n",
       "    <tr>\n",
       "      <th>3</th>\n",
       "      <td>244</td>\n",
       "      <td>51</td>\n",
       "      <td>2</td>\n",
       "      <td>880606923</td>\n",
       "      <td>Legends of the Fall (1994)</td>\n",
       "    </tr>\n",
       "    <tr>\n",
       "      <th>4</th>\n",
       "      <td>166</td>\n",
       "      <td>346</td>\n",
       "      <td>1</td>\n",
       "      <td>886397596</td>\n",
       "      <td>Jackie Brown (1997)</td>\n",
       "    </tr>\n",
       "  </tbody>\n",
       "</table>\n",
       "</div>"
      ],
      "text/plain": [
       "   user_id  movie_id  rating  unix_timestamp                       title\n",
       "0      196       242       3       881250949                Kolya (1996)\n",
       "1      186       302       3       891717742    L.A. Confidential (1997)\n",
       "2       22       377       1       878887116         Heavyweights (1994)\n",
       "3      244        51       2       880606923  Legends of the Fall (1994)\n",
       "4      166       346       1       886397596         Jackie Brown (1997)"
      ]
     },
     "execution_count": 7,
     "metadata": {},
     "output_type": "execute_result"
    }
   ],
   "source": [
    "ratings.head()"
   ]
  },
  {
   "cell_type": "markdown",
   "id": "a8fda787",
   "metadata": {},
   "source": [
    "## 📊 Exploratory data analysis / Разведывательный анализ данных"
   ]
  },
  {
   "cell_type": "markdown",
   "id": "e25ca298-fee8-483f-bcbf-951dcadb7826",
   "metadata": {},
   "source": [
    "Чтобы что-то рекомендовать, всегда стоит узнать о пользователях побольше. В этом разделе тебе необходимо визуализировать распределения разных признаков твоей рекомендательной системы. "
   ]
  },
  {
   "cell_type": "code",
   "execution_count": 8,
   "id": "4a4c1b19",
   "metadata": {},
   "outputs": [],
   "source": [
    "def configure_plotly_theme(fig):\n",
    "    \"\"\"Функция для применения единого стиля ко всем графикам\"\"\"\n",
    "    fig.update_layout(\n",
    "        plot_bgcolor=\"white\",\n",
    "        paper_bgcolor=\"white\",\n",
    "        font=dict(size=14),\n",
    "        xaxis=dict(\n",
    "            title_font=dict(\n",
    "                size=20,\n",
    "                family=\"Arial\",\n",
    "            ),\n",
    "            tickfont=dict(size=16),\n",
    "            gridcolor=\"lightgray\",\n",
    "            gridwidth=1,\n",
    "            griddash=\"dash\",\n",
    "            showline=True,\n",
    "            linecolor=\"black\",\n",
    "            linewidth=1,\n",
    "        ),\n",
    "        yaxis=dict(\n",
    "            title_font=dict(\n",
    "                size=20,\n",
    "                family=\"Arial\",\n",
    "            ),\n",
    "            tickfont=dict(size=16),\n",
    "            gridcolor=\"lightgray\",\n",
    "            gridwidth=1,\n",
    "            griddash=\"dash\",\n",
    "            showline=True,\n",
    "            linecolor=\"black\",\n",
    "            linewidth=1,\n",
    "        ),\n",
    "        title_font=dict(size=24, family=\"Arial\", weight=\"bold\"),\n",
    "    )\n",
    "    fig.update_xaxes(\n",
    "        # title_text=\"Название оси X\",\n",
    "        title_font=dict(size=20, family=\"Arial\")\n",
    "    )\n",
    "    fig.update_yaxes(\n",
    "        # title_text=\"Название оси Y\",\n",
    "        title_font=dict(size=20, family=\"Arial\")\n",
    "    )\n",
    "\n",
    "    return fig"
   ]
  },
  {
   "cell_type": "markdown",
   "id": "475240ff-cad7-400f-9fda-064c891dcec4",
   "metadata": {},
   "source": [
    "### Пользователь 👨\n",
    "\n",
    "Визуализируй следующие распределения: \n",
    "- пола (`barplot`)"
   ]
  },
  {
   "cell_type": "code",
   "execution_count": 9,
   "id": "018efd24-743d-4a56-9797-71e5b4a07d63",
   "metadata": {},
   "outputs": [
    {
     "data": {
      "application/vnd.plotly.v1+json": {
       "config": {
        "plotlyServerURL": "https://plot.ly"
       },
       "data": [
        {
         "hovertemplate": "x=%{x}<br>y=%{y}<extra></extra>",
         "legendgroup": "",
         "marker": {
          "color": "#636efa",
          "line": {
           "color": "black",
           "width": 2
          },
          "pattern": {
           "shape": ""
          }
         },
         "name": "",
         "orientation": "v",
         "showlegend": false,
         "textfont": {
          "color": "black",
          "family": "Arial",
          "size": 18
         },
         "textposition": "outside",
         "texttemplate": "%{y}",
         "type": "bar",
         "x": [
          "F",
          "M"
         ],
         "xaxis": "x",
         "y": {
          "bdata": "EQGeAg==",
          "dtype": "i2"
         },
         "yaxis": "y"
        }
       ],
       "layout": {
        "barmode": "relative",
        "font": {
         "size": 14
        },
        "height": 600,
        "legend": {
         "tracegroupgap": 0
        },
        "paper_bgcolor": "white",
        "plot_bgcolor": "white",
        "template": {
         "data": {
          "bar": [
           {
            "error_x": {
             "color": "#2a3f5f"
            },
            "error_y": {
             "color": "#2a3f5f"
            },
            "marker": {
             "line": {
              "color": "#E5ECF6",
              "width": 0.5
             },
             "pattern": {
              "fillmode": "overlay",
              "size": 10,
              "solidity": 0.2
             }
            },
            "type": "bar"
           }
          ],
          "barpolar": [
           {
            "marker": {
             "line": {
              "color": "#E5ECF6",
              "width": 0.5
             },
             "pattern": {
              "fillmode": "overlay",
              "size": 10,
              "solidity": 0.2
             }
            },
            "type": "barpolar"
           }
          ],
          "carpet": [
           {
            "aaxis": {
             "endlinecolor": "#2a3f5f",
             "gridcolor": "white",
             "linecolor": "white",
             "minorgridcolor": "white",
             "startlinecolor": "#2a3f5f"
            },
            "baxis": {
             "endlinecolor": "#2a3f5f",
             "gridcolor": "white",
             "linecolor": "white",
             "minorgridcolor": "white",
             "startlinecolor": "#2a3f5f"
            },
            "type": "carpet"
           }
          ],
          "choropleth": [
           {
            "colorbar": {
             "outlinewidth": 0,
             "ticks": ""
            },
            "type": "choropleth"
           }
          ],
          "contour": [
           {
            "colorbar": {
             "outlinewidth": 0,
             "ticks": ""
            },
            "colorscale": [
             [
              0,
              "#0d0887"
             ],
             [
              0.1111111111111111,
              "#46039f"
             ],
             [
              0.2222222222222222,
              "#7201a8"
             ],
             [
              0.3333333333333333,
              "#9c179e"
             ],
             [
              0.4444444444444444,
              "#bd3786"
             ],
             [
              0.5555555555555556,
              "#d8576b"
             ],
             [
              0.6666666666666666,
              "#ed7953"
             ],
             [
              0.7777777777777778,
              "#fb9f3a"
             ],
             [
              0.8888888888888888,
              "#fdca26"
             ],
             [
              1,
              "#f0f921"
             ]
            ],
            "type": "contour"
           }
          ],
          "contourcarpet": [
           {
            "colorbar": {
             "outlinewidth": 0,
             "ticks": ""
            },
            "type": "contourcarpet"
           }
          ],
          "heatmap": [
           {
            "colorbar": {
             "outlinewidth": 0,
             "ticks": ""
            },
            "colorscale": [
             [
              0,
              "#0d0887"
             ],
             [
              0.1111111111111111,
              "#46039f"
             ],
             [
              0.2222222222222222,
              "#7201a8"
             ],
             [
              0.3333333333333333,
              "#9c179e"
             ],
             [
              0.4444444444444444,
              "#bd3786"
             ],
             [
              0.5555555555555556,
              "#d8576b"
             ],
             [
              0.6666666666666666,
              "#ed7953"
             ],
             [
              0.7777777777777778,
              "#fb9f3a"
             ],
             [
              0.8888888888888888,
              "#fdca26"
             ],
             [
              1,
              "#f0f921"
             ]
            ],
            "type": "heatmap"
           }
          ],
          "histogram": [
           {
            "marker": {
             "pattern": {
              "fillmode": "overlay",
              "size": 10,
              "solidity": 0.2
             }
            },
            "type": "histogram"
           }
          ],
          "histogram2d": [
           {
            "colorbar": {
             "outlinewidth": 0,
             "ticks": ""
            },
            "colorscale": [
             [
              0,
              "#0d0887"
             ],
             [
              0.1111111111111111,
              "#46039f"
             ],
             [
              0.2222222222222222,
              "#7201a8"
             ],
             [
              0.3333333333333333,
              "#9c179e"
             ],
             [
              0.4444444444444444,
              "#bd3786"
             ],
             [
              0.5555555555555556,
              "#d8576b"
             ],
             [
              0.6666666666666666,
              "#ed7953"
             ],
             [
              0.7777777777777778,
              "#fb9f3a"
             ],
             [
              0.8888888888888888,
              "#fdca26"
             ],
             [
              1,
              "#f0f921"
             ]
            ],
            "type": "histogram2d"
           }
          ],
          "histogram2dcontour": [
           {
            "colorbar": {
             "outlinewidth": 0,
             "ticks": ""
            },
            "colorscale": [
             [
              0,
              "#0d0887"
             ],
             [
              0.1111111111111111,
              "#46039f"
             ],
             [
              0.2222222222222222,
              "#7201a8"
             ],
             [
              0.3333333333333333,
              "#9c179e"
             ],
             [
              0.4444444444444444,
              "#bd3786"
             ],
             [
              0.5555555555555556,
              "#d8576b"
             ],
             [
              0.6666666666666666,
              "#ed7953"
             ],
             [
              0.7777777777777778,
              "#fb9f3a"
             ],
             [
              0.8888888888888888,
              "#fdca26"
             ],
             [
              1,
              "#f0f921"
             ]
            ],
            "type": "histogram2dcontour"
           }
          ],
          "mesh3d": [
           {
            "colorbar": {
             "outlinewidth": 0,
             "ticks": ""
            },
            "type": "mesh3d"
           }
          ],
          "parcoords": [
           {
            "line": {
             "colorbar": {
              "outlinewidth": 0,
              "ticks": ""
             }
            },
            "type": "parcoords"
           }
          ],
          "pie": [
           {
            "automargin": true,
            "type": "pie"
           }
          ],
          "scatter": [
           {
            "fillpattern": {
             "fillmode": "overlay",
             "size": 10,
             "solidity": 0.2
            },
            "type": "scatter"
           }
          ],
          "scatter3d": [
           {
            "line": {
             "colorbar": {
              "outlinewidth": 0,
              "ticks": ""
             }
            },
            "marker": {
             "colorbar": {
              "outlinewidth": 0,
              "ticks": ""
             }
            },
            "type": "scatter3d"
           }
          ],
          "scattercarpet": [
           {
            "marker": {
             "colorbar": {
              "outlinewidth": 0,
              "ticks": ""
             }
            },
            "type": "scattercarpet"
           }
          ],
          "scattergeo": [
           {
            "marker": {
             "colorbar": {
              "outlinewidth": 0,
              "ticks": ""
             }
            },
            "type": "scattergeo"
           }
          ],
          "scattergl": [
           {
            "marker": {
             "colorbar": {
              "outlinewidth": 0,
              "ticks": ""
             }
            },
            "type": "scattergl"
           }
          ],
          "scattermap": [
           {
            "marker": {
             "colorbar": {
              "outlinewidth": 0,
              "ticks": ""
             }
            },
            "type": "scattermap"
           }
          ],
          "scattermapbox": [
           {
            "marker": {
             "colorbar": {
              "outlinewidth": 0,
              "ticks": ""
             }
            },
            "type": "scattermapbox"
           }
          ],
          "scatterpolar": [
           {
            "marker": {
             "colorbar": {
              "outlinewidth": 0,
              "ticks": ""
             }
            },
            "type": "scatterpolar"
           }
          ],
          "scatterpolargl": [
           {
            "marker": {
             "colorbar": {
              "outlinewidth": 0,
              "ticks": ""
             }
            },
            "type": "scatterpolargl"
           }
          ],
          "scatterternary": [
           {
            "marker": {
             "colorbar": {
              "outlinewidth": 0,
              "ticks": ""
             }
            },
            "type": "scatterternary"
           }
          ],
          "surface": [
           {
            "colorbar": {
             "outlinewidth": 0,
             "ticks": ""
            },
            "colorscale": [
             [
              0,
              "#0d0887"
             ],
             [
              0.1111111111111111,
              "#46039f"
             ],
             [
              0.2222222222222222,
              "#7201a8"
             ],
             [
              0.3333333333333333,
              "#9c179e"
             ],
             [
              0.4444444444444444,
              "#bd3786"
             ],
             [
              0.5555555555555556,
              "#d8576b"
             ],
             [
              0.6666666666666666,
              "#ed7953"
             ],
             [
              0.7777777777777778,
              "#fb9f3a"
             ],
             [
              0.8888888888888888,
              "#fdca26"
             ],
             [
              1,
              "#f0f921"
             ]
            ],
            "type": "surface"
           }
          ],
          "table": [
           {
            "cells": {
             "fill": {
              "color": "#EBF0F8"
             },
             "line": {
              "color": "white"
             }
            },
            "header": {
             "fill": {
              "color": "#C8D4E3"
             },
             "line": {
              "color": "white"
             }
            },
            "type": "table"
           }
          ]
         },
         "layout": {
          "annotationdefaults": {
           "arrowcolor": "#2a3f5f",
           "arrowhead": 0,
           "arrowwidth": 1
          },
          "autotypenumbers": "strict",
          "coloraxis": {
           "colorbar": {
            "outlinewidth": 0,
            "ticks": ""
           }
          },
          "colorscale": {
           "diverging": [
            [
             0,
             "#8e0152"
            ],
            [
             0.1,
             "#c51b7d"
            ],
            [
             0.2,
             "#de77ae"
            ],
            [
             0.3,
             "#f1b6da"
            ],
            [
             0.4,
             "#fde0ef"
            ],
            [
             0.5,
             "#f7f7f7"
            ],
            [
             0.6,
             "#e6f5d0"
            ],
            [
             0.7,
             "#b8e186"
            ],
            [
             0.8,
             "#7fbc41"
            ],
            [
             0.9,
             "#4d9221"
            ],
            [
             1,
             "#276419"
            ]
           ],
           "sequential": [
            [
             0,
             "#0d0887"
            ],
            [
             0.1111111111111111,
             "#46039f"
            ],
            [
             0.2222222222222222,
             "#7201a8"
            ],
            [
             0.3333333333333333,
             "#9c179e"
            ],
            [
             0.4444444444444444,
             "#bd3786"
            ],
            [
             0.5555555555555556,
             "#d8576b"
            ],
            [
             0.6666666666666666,
             "#ed7953"
            ],
            [
             0.7777777777777778,
             "#fb9f3a"
            ],
            [
             0.8888888888888888,
             "#fdca26"
            ],
            [
             1,
             "#f0f921"
            ]
           ],
           "sequentialminus": [
            [
             0,
             "#0d0887"
            ],
            [
             0.1111111111111111,
             "#46039f"
            ],
            [
             0.2222222222222222,
             "#7201a8"
            ],
            [
             0.3333333333333333,
             "#9c179e"
            ],
            [
             0.4444444444444444,
             "#bd3786"
            ],
            [
             0.5555555555555556,
             "#d8576b"
            ],
            [
             0.6666666666666666,
             "#ed7953"
            ],
            [
             0.7777777777777778,
             "#fb9f3a"
            ],
            [
             0.8888888888888888,
             "#fdca26"
            ],
            [
             1,
             "#f0f921"
            ]
           ]
          },
          "colorway": [
           "#636efa",
           "#EF553B",
           "#00cc96",
           "#ab63fa",
           "#FFA15A",
           "#19d3f3",
           "#FF6692",
           "#B6E880",
           "#FF97FF",
           "#FECB52"
          ],
          "font": {
           "color": "#2a3f5f"
          },
          "geo": {
           "bgcolor": "white",
           "lakecolor": "white",
           "landcolor": "#E5ECF6",
           "showlakes": true,
           "showland": true,
           "subunitcolor": "white"
          },
          "hoverlabel": {
           "align": "left"
          },
          "hovermode": "closest",
          "mapbox": {
           "style": "light"
          },
          "paper_bgcolor": "white",
          "plot_bgcolor": "#E5ECF6",
          "polar": {
           "angularaxis": {
            "gridcolor": "white",
            "linecolor": "white",
            "ticks": ""
           },
           "bgcolor": "#E5ECF6",
           "radialaxis": {
            "gridcolor": "white",
            "linecolor": "white",
            "ticks": ""
           }
          },
          "scene": {
           "xaxis": {
            "backgroundcolor": "#E5ECF6",
            "gridcolor": "white",
            "gridwidth": 2,
            "linecolor": "white",
            "showbackground": true,
            "ticks": "",
            "zerolinecolor": "white"
           },
           "yaxis": {
            "backgroundcolor": "#E5ECF6",
            "gridcolor": "white",
            "gridwidth": 2,
            "linecolor": "white",
            "showbackground": true,
            "ticks": "",
            "zerolinecolor": "white"
           },
           "zaxis": {
            "backgroundcolor": "#E5ECF6",
            "gridcolor": "white",
            "gridwidth": 2,
            "linecolor": "white",
            "showbackground": true,
            "ticks": "",
            "zerolinecolor": "white"
           }
          },
          "shapedefaults": {
           "line": {
            "color": "#2a3f5f"
           }
          },
          "ternary": {
           "aaxis": {
            "gridcolor": "white",
            "linecolor": "white",
            "ticks": ""
           },
           "baxis": {
            "gridcolor": "white",
            "linecolor": "white",
            "ticks": ""
           },
           "bgcolor": "#E5ECF6",
           "caxis": {
            "gridcolor": "white",
            "linecolor": "white",
            "ticks": ""
           }
          },
          "title": {
           "x": 0.05
          },
          "xaxis": {
           "automargin": true,
           "gridcolor": "white",
           "linecolor": "white",
           "ticks": "",
           "title": {
            "standoff": 15
           },
           "zerolinecolor": "white",
           "zerolinewidth": 2
          },
          "yaxis": {
           "automargin": true,
           "gridcolor": "white",
           "linecolor": "white",
           "ticks": "",
           "title": {
            "standoff": 15
           },
           "zerolinecolor": "white",
           "zerolinewidth": 2
          }
         }
        },
        "title": {
         "font": {
          "family": "Arial",
          "size": 24,
          "weight": "bold"
         },
         "text": "Распределение пола"
        },
        "width": 800,
        "xaxis": {
         "anchor": "y",
         "domain": [
          0,
          1
         ],
         "gridcolor": "lightgray",
         "griddash": "dash",
         "gridwidth": 1,
         "linecolor": "black",
         "linewidth": 1,
         "showline": true,
         "showticklabels": true,
         "tickfont": {
          "size": 16
         },
         "title": {
          "font": {
           "family": "Arial",
           "size": 20
          },
          "text": "Пол"
         }
        },
        "yaxis": {
         "anchor": "x",
         "domain": [
          0,
          1
         ],
         "dtick": 100,
         "gridcolor": "lightgray",
         "griddash": "dash",
         "gridwidth": 1,
         "linecolor": "black",
         "linewidth": 1,
         "showline": true,
         "showticklabels": true,
         "tickfont": {
          "size": 16
         },
         "ticklen": 6,
         "tickmode": "linear",
         "ticks": "inside",
         "tickwidth": 2,
         "title": {
          "font": {
           "family": "Arial",
           "size": 20
          },
          "text": "Количество пользователей"
         }
        }
       }
      }
     },
     "metadata": {},
     "output_type": "display_data"
    }
   ],
   "source": [
    "sex_distrib = users.groupby(\"sex\").count()[\"user_id\"]\n",
    "fig_1 = px.bar(x=sex_distrib.index, y=sex_distrib, title=\"Распределение пола\")\n",
    "fig_1.update_layout(\n",
    "    width=800,  # ширина в пикселях\n",
    "    height=600,  # высота в пикселях\n",
    "    # autosize=False,  # отключаем авторазмер\n",
    "    xaxis_title=\"Пол\",\n",
    "    yaxis_title=\"Количество пользователей\",\n",
    "    # title_font=dict(size=24, family=\"Arial\", weight=\"bold\"),\n",
    ")\n",
    "fig_1 = configure_plotly_theme(fig_1)\n",
    "fig_1.update_traces(marker=dict(line=dict(width=2, color=\"black\")))\n",
    "fig_1.update_traces(\n",
    "    texttemplate=\"%{y}\",  # Формат текста (значение y)\n",
    "    textposition=\"outside\",  # Положение: 'outside', 'inside', 'auto', 'none'\n",
    "    textfont=dict(\n",
    "        size=18, family=\"Arial\", color=\"black\"\n",
    "    ),  # Размер шрифта  # Цвет текста\n",
    ")\n",
    "fig_1.update_layout(\n",
    "    xaxis=dict(\n",
    "        showticklabels=True,\n",
    "        # tickmode=\"linear\",\n",
    "        # ticks=\"outside\",  # Ticks снаружи: 'outside', 'inside', ''\n",
    "        # ticklen=6,  # Длина ticks\n",
    "        # tickwidth=2,  # Толщина ticks\n",
    "        # tickcolor=\"black\",  # Цвет ticks\n",
    "        # dtick=100,\n",
    "        # tickmode='array',  # Режим ручной установки\n",
    "        # tickvals=[0, 1, 2, 3],  # Позиции ticks\n",
    "        # ticktext=['Категория A', 'Категория B', 'Категория C', 'Категория D']  # Подписи\n",
    "    ),\n",
    "    yaxis=dict(\n",
    "        showticklabels=True,\n",
    "        tickmode=\"linear\",\n",
    "        dtick=100,\n",
    "        ticks=\"inside\",  # Ticks снаружи: 'outside', 'inside', ''\n",
    "        ticklen=6,  # Длина ticks\n",
    "        tickwidth=2,  # Толщина ticks\n",
    "        # tickmode=\"linear\",\n",
    "        # dtick=5\n",
    "    ),\n",
    ")\n",
    "fig_1.show()"
   ]
  },
  {
   "cell_type": "markdown",
   "id": "beb8097a-d1ed-491e-9b02-1634fed10ae6",
   "metadata": {},
   "source": [
    "- возраста (`hist`)"
   ]
  },
  {
   "cell_type": "code",
   "execution_count": 10,
   "id": "9efe06a8-3995-47d2-97a1-7512d7c4cded",
   "metadata": {},
   "outputs": [
    {
     "data": {
      "application/vnd.plotly.v1+json": {
       "config": {
        "plotlyServerURL": "https://plot.ly"
       },
       "data": [
        {
         "bingroup": "x",
         "hovertemplate": "variable=age<br>value=%{x}<br>count=%{y}<extra></extra>",
         "legendgroup": "age",
         "marker": {
          "color": "#636efa",
          "line": {
           "color": "black",
           "width": 1
          },
          "pattern": {
           "shape": ""
          }
         },
         "name": "age",
         "nbinsx": 70,
         "orientation": "v",
         "showlegend": true,
         "type": "histogram",
         "x": {
          "bdata": "GDUXGCEqOSQdNSccLy0xFR4jKCoaGR4VJzEoICkHGBwXJhQTFxwpJiEeHRodGzUtFxUcEhoWJRkQGzEyJBsfIDMXERMYGycwGCcYFB4aJyIVMiggMxovMSs8NyAwGh8ZKzEUJA8mGhsYPScsHRM5Hi8bHygUFSAvNiAwIh4cIRgkFDsYNR8XMzIuFB4xDSo1Hy0oISMUJiEZGSAZOTIXGzIZMS8ULyUwNDUwNzgeGhwUGg8WGiQhJTUnGiogHiEqHSYqMTcVHigbKRk0Lw4nKyEnQjEhGiMWFiUgHhMdEx8zHC4VHRwwLSY8JSwxKicXGiEhHBYTHBkZHRwqGiwXIxETFSgcEykkGj4XGB8SMyEyFCYVIyUhHg8WHCgZGxUiCygTIxgiHysdLB0aGCoTFhctGTwoJSAwKRQfKxZBJhMxFBUVMCkWMzAjIRQvIC0XJScjLhEZKx4cIhIYRCA9JRkdGSAaKBYzFiMUPx0UERIYNCQZGCQRHBYjLCAhLSo0JCQhHywqFzQTGSs5ESgZIS4eJR0WNB0XMB4iGTcYJxQbNyU1JhpAJBM3MxwbJhgWGxAYHhszFx4yFiMzFTkeFxcjECMSOTAYIS8WLA8TMDwgFh0cPBgKGB0zHhwXHR45SRIdGywnFjA3HSs5FiYdFRQaKhwWFjIoGy4SGxciFh0rGzU1GDEWPhMkMjgbHiESLx0eFCsULSYkHzUcExUhLBskMjMqEBktOiAdIx44RSAXNidBKBQYJyIaIjNEOCEwJB8gECURLBlFFBoSFTI5Eh8uGRQXKBYiEy8VJyEcMRYNFi4kJTYmNxsPERIRGTITGxcYDS4aEhIjJxYvHi0qFBgSJzMbESgrFCpBIx8bMjAaIR8aHDcaHhksIx0lHhU2Mw0iHhQyFCEsFyocICAfJRkjIiIrPBo3GRwsETMlGjMVFzgaFRMWFioaFSQYKiUxGDIaHxUZGToTHykcLBkdMB4jIxkZIx8jKhkTHCEcGDw4OyweGhsUIxEgGxsfKkYdJxwaMhQeLh4/Ih8xFBUeLyAkEjMdGx8oFiAeICwoMRkWI0YnGxspLTI3KBYOHiAiExw7FiUdGx8sHBccMC4VGCIaLCwkFyYnLSgjFkAbHS4PIhIuMR01KyM/EkYmGREbGS0YFR4WHxMwJBgpHjIhDScjMSweFA4pGCAzJBkvHxweFyA8Ji0cERstGSwyHCUzGywyGxYoGR4UHRUdEjEXFSwcPDocPSoYMCYaIBQwFg==",
          "dtype": "i1"
         },
         "xaxis": "x",
         "yaxis": "y"
        }
       ],
       "layout": {
        "barmode": "relative",
        "font": {
         "size": 14
        },
        "height": 600,
        "legend": {
         "title": {
          "text": "variable"
         },
         "tracegroupgap": 0
        },
        "paper_bgcolor": "white",
        "plot_bgcolor": "white",
        "showlegend": false,
        "template": {
         "data": {
          "bar": [
           {
            "error_x": {
             "color": "#2a3f5f"
            },
            "error_y": {
             "color": "#2a3f5f"
            },
            "marker": {
             "line": {
              "color": "#E5ECF6",
              "width": 0.5
             },
             "pattern": {
              "fillmode": "overlay",
              "size": 10,
              "solidity": 0.2
             }
            },
            "type": "bar"
           }
          ],
          "barpolar": [
           {
            "marker": {
             "line": {
              "color": "#E5ECF6",
              "width": 0.5
             },
             "pattern": {
              "fillmode": "overlay",
              "size": 10,
              "solidity": 0.2
             }
            },
            "type": "barpolar"
           }
          ],
          "carpet": [
           {
            "aaxis": {
             "endlinecolor": "#2a3f5f",
             "gridcolor": "white",
             "linecolor": "white",
             "minorgridcolor": "white",
             "startlinecolor": "#2a3f5f"
            },
            "baxis": {
             "endlinecolor": "#2a3f5f",
             "gridcolor": "white",
             "linecolor": "white",
             "minorgridcolor": "white",
             "startlinecolor": "#2a3f5f"
            },
            "type": "carpet"
           }
          ],
          "choropleth": [
           {
            "colorbar": {
             "outlinewidth": 0,
             "ticks": ""
            },
            "type": "choropleth"
           }
          ],
          "contour": [
           {
            "colorbar": {
             "outlinewidth": 0,
             "ticks": ""
            },
            "colorscale": [
             [
              0,
              "#0d0887"
             ],
             [
              0.1111111111111111,
              "#46039f"
             ],
             [
              0.2222222222222222,
              "#7201a8"
             ],
             [
              0.3333333333333333,
              "#9c179e"
             ],
             [
              0.4444444444444444,
              "#bd3786"
             ],
             [
              0.5555555555555556,
              "#d8576b"
             ],
             [
              0.6666666666666666,
              "#ed7953"
             ],
             [
              0.7777777777777778,
              "#fb9f3a"
             ],
             [
              0.8888888888888888,
              "#fdca26"
             ],
             [
              1,
              "#f0f921"
             ]
            ],
            "type": "contour"
           }
          ],
          "contourcarpet": [
           {
            "colorbar": {
             "outlinewidth": 0,
             "ticks": ""
            },
            "type": "contourcarpet"
           }
          ],
          "heatmap": [
           {
            "colorbar": {
             "outlinewidth": 0,
             "ticks": ""
            },
            "colorscale": [
             [
              0,
              "#0d0887"
             ],
             [
              0.1111111111111111,
              "#46039f"
             ],
             [
              0.2222222222222222,
              "#7201a8"
             ],
             [
              0.3333333333333333,
              "#9c179e"
             ],
             [
              0.4444444444444444,
              "#bd3786"
             ],
             [
              0.5555555555555556,
              "#d8576b"
             ],
             [
              0.6666666666666666,
              "#ed7953"
             ],
             [
              0.7777777777777778,
              "#fb9f3a"
             ],
             [
              0.8888888888888888,
              "#fdca26"
             ],
             [
              1,
              "#f0f921"
             ]
            ],
            "type": "heatmap"
           }
          ],
          "histogram": [
           {
            "marker": {
             "pattern": {
              "fillmode": "overlay",
              "size": 10,
              "solidity": 0.2
             }
            },
            "type": "histogram"
           }
          ],
          "histogram2d": [
           {
            "colorbar": {
             "outlinewidth": 0,
             "ticks": ""
            },
            "colorscale": [
             [
              0,
              "#0d0887"
             ],
             [
              0.1111111111111111,
              "#46039f"
             ],
             [
              0.2222222222222222,
              "#7201a8"
             ],
             [
              0.3333333333333333,
              "#9c179e"
             ],
             [
              0.4444444444444444,
              "#bd3786"
             ],
             [
              0.5555555555555556,
              "#d8576b"
             ],
             [
              0.6666666666666666,
              "#ed7953"
             ],
             [
              0.7777777777777778,
              "#fb9f3a"
             ],
             [
              0.8888888888888888,
              "#fdca26"
             ],
             [
              1,
              "#f0f921"
             ]
            ],
            "type": "histogram2d"
           }
          ],
          "histogram2dcontour": [
           {
            "colorbar": {
             "outlinewidth": 0,
             "ticks": ""
            },
            "colorscale": [
             [
              0,
              "#0d0887"
             ],
             [
              0.1111111111111111,
              "#46039f"
             ],
             [
              0.2222222222222222,
              "#7201a8"
             ],
             [
              0.3333333333333333,
              "#9c179e"
             ],
             [
              0.4444444444444444,
              "#bd3786"
             ],
             [
              0.5555555555555556,
              "#d8576b"
             ],
             [
              0.6666666666666666,
              "#ed7953"
             ],
             [
              0.7777777777777778,
              "#fb9f3a"
             ],
             [
              0.8888888888888888,
              "#fdca26"
             ],
             [
              1,
              "#f0f921"
             ]
            ],
            "type": "histogram2dcontour"
           }
          ],
          "mesh3d": [
           {
            "colorbar": {
             "outlinewidth": 0,
             "ticks": ""
            },
            "type": "mesh3d"
           }
          ],
          "parcoords": [
           {
            "line": {
             "colorbar": {
              "outlinewidth": 0,
              "ticks": ""
             }
            },
            "type": "parcoords"
           }
          ],
          "pie": [
           {
            "automargin": true,
            "type": "pie"
           }
          ],
          "scatter": [
           {
            "fillpattern": {
             "fillmode": "overlay",
             "size": 10,
             "solidity": 0.2
            },
            "type": "scatter"
           }
          ],
          "scatter3d": [
           {
            "line": {
             "colorbar": {
              "outlinewidth": 0,
              "ticks": ""
             }
            },
            "marker": {
             "colorbar": {
              "outlinewidth": 0,
              "ticks": ""
             }
            },
            "type": "scatter3d"
           }
          ],
          "scattercarpet": [
           {
            "marker": {
             "colorbar": {
              "outlinewidth": 0,
              "ticks": ""
             }
            },
            "type": "scattercarpet"
           }
          ],
          "scattergeo": [
           {
            "marker": {
             "colorbar": {
              "outlinewidth": 0,
              "ticks": ""
             }
            },
            "type": "scattergeo"
           }
          ],
          "scattergl": [
           {
            "marker": {
             "colorbar": {
              "outlinewidth": 0,
              "ticks": ""
             }
            },
            "type": "scattergl"
           }
          ],
          "scattermap": [
           {
            "marker": {
             "colorbar": {
              "outlinewidth": 0,
              "ticks": ""
             }
            },
            "type": "scattermap"
           }
          ],
          "scattermapbox": [
           {
            "marker": {
             "colorbar": {
              "outlinewidth": 0,
              "ticks": ""
             }
            },
            "type": "scattermapbox"
           }
          ],
          "scatterpolar": [
           {
            "marker": {
             "colorbar": {
              "outlinewidth": 0,
              "ticks": ""
             }
            },
            "type": "scatterpolar"
           }
          ],
          "scatterpolargl": [
           {
            "marker": {
             "colorbar": {
              "outlinewidth": 0,
              "ticks": ""
             }
            },
            "type": "scatterpolargl"
           }
          ],
          "scatterternary": [
           {
            "marker": {
             "colorbar": {
              "outlinewidth": 0,
              "ticks": ""
             }
            },
            "type": "scatterternary"
           }
          ],
          "surface": [
           {
            "colorbar": {
             "outlinewidth": 0,
             "ticks": ""
            },
            "colorscale": [
             [
              0,
              "#0d0887"
             ],
             [
              0.1111111111111111,
              "#46039f"
             ],
             [
              0.2222222222222222,
              "#7201a8"
             ],
             [
              0.3333333333333333,
              "#9c179e"
             ],
             [
              0.4444444444444444,
              "#bd3786"
             ],
             [
              0.5555555555555556,
              "#d8576b"
             ],
             [
              0.6666666666666666,
              "#ed7953"
             ],
             [
              0.7777777777777778,
              "#fb9f3a"
             ],
             [
              0.8888888888888888,
              "#fdca26"
             ],
             [
              1,
              "#f0f921"
             ]
            ],
            "type": "surface"
           }
          ],
          "table": [
           {
            "cells": {
             "fill": {
              "color": "#EBF0F8"
             },
             "line": {
              "color": "white"
             }
            },
            "header": {
             "fill": {
              "color": "#C8D4E3"
             },
             "line": {
              "color": "white"
             }
            },
            "type": "table"
           }
          ]
         },
         "layout": {
          "annotationdefaults": {
           "arrowcolor": "#2a3f5f",
           "arrowhead": 0,
           "arrowwidth": 1
          },
          "autotypenumbers": "strict",
          "coloraxis": {
           "colorbar": {
            "outlinewidth": 0,
            "ticks": ""
           }
          },
          "colorscale": {
           "diverging": [
            [
             0,
             "#8e0152"
            ],
            [
             0.1,
             "#c51b7d"
            ],
            [
             0.2,
             "#de77ae"
            ],
            [
             0.3,
             "#f1b6da"
            ],
            [
             0.4,
             "#fde0ef"
            ],
            [
             0.5,
             "#f7f7f7"
            ],
            [
             0.6,
             "#e6f5d0"
            ],
            [
             0.7,
             "#b8e186"
            ],
            [
             0.8,
             "#7fbc41"
            ],
            [
             0.9,
             "#4d9221"
            ],
            [
             1,
             "#276419"
            ]
           ],
           "sequential": [
            [
             0,
             "#0d0887"
            ],
            [
             0.1111111111111111,
             "#46039f"
            ],
            [
             0.2222222222222222,
             "#7201a8"
            ],
            [
             0.3333333333333333,
             "#9c179e"
            ],
            [
             0.4444444444444444,
             "#bd3786"
            ],
            [
             0.5555555555555556,
             "#d8576b"
            ],
            [
             0.6666666666666666,
             "#ed7953"
            ],
            [
             0.7777777777777778,
             "#fb9f3a"
            ],
            [
             0.8888888888888888,
             "#fdca26"
            ],
            [
             1,
             "#f0f921"
            ]
           ],
           "sequentialminus": [
            [
             0,
             "#0d0887"
            ],
            [
             0.1111111111111111,
             "#46039f"
            ],
            [
             0.2222222222222222,
             "#7201a8"
            ],
            [
             0.3333333333333333,
             "#9c179e"
            ],
            [
             0.4444444444444444,
             "#bd3786"
            ],
            [
             0.5555555555555556,
             "#d8576b"
            ],
            [
             0.6666666666666666,
             "#ed7953"
            ],
            [
             0.7777777777777778,
             "#fb9f3a"
            ],
            [
             0.8888888888888888,
             "#fdca26"
            ],
            [
             1,
             "#f0f921"
            ]
           ]
          },
          "colorway": [
           "#636efa",
           "#EF553B",
           "#00cc96",
           "#ab63fa",
           "#FFA15A",
           "#19d3f3",
           "#FF6692",
           "#B6E880",
           "#FF97FF",
           "#FECB52"
          ],
          "font": {
           "color": "#2a3f5f"
          },
          "geo": {
           "bgcolor": "white",
           "lakecolor": "white",
           "landcolor": "#E5ECF6",
           "showlakes": true,
           "showland": true,
           "subunitcolor": "white"
          },
          "hoverlabel": {
           "align": "left"
          },
          "hovermode": "closest",
          "mapbox": {
           "style": "light"
          },
          "paper_bgcolor": "white",
          "plot_bgcolor": "#E5ECF6",
          "polar": {
           "angularaxis": {
            "gridcolor": "white",
            "linecolor": "white",
            "ticks": ""
           },
           "bgcolor": "#E5ECF6",
           "radialaxis": {
            "gridcolor": "white",
            "linecolor": "white",
            "ticks": ""
           }
          },
          "scene": {
           "xaxis": {
            "backgroundcolor": "#E5ECF6",
            "gridcolor": "white",
            "gridwidth": 2,
            "linecolor": "white",
            "showbackground": true,
            "ticks": "",
            "zerolinecolor": "white"
           },
           "yaxis": {
            "backgroundcolor": "#E5ECF6",
            "gridcolor": "white",
            "gridwidth": 2,
            "linecolor": "white",
            "showbackground": true,
            "ticks": "",
            "zerolinecolor": "white"
           },
           "zaxis": {
            "backgroundcolor": "#E5ECF6",
            "gridcolor": "white",
            "gridwidth": 2,
            "linecolor": "white",
            "showbackground": true,
            "ticks": "",
            "zerolinecolor": "white"
           }
          },
          "shapedefaults": {
           "line": {
            "color": "#2a3f5f"
           }
          },
          "ternary": {
           "aaxis": {
            "gridcolor": "white",
            "linecolor": "white",
            "ticks": ""
           },
           "baxis": {
            "gridcolor": "white",
            "linecolor": "white",
            "ticks": ""
           },
           "bgcolor": "#E5ECF6",
           "caxis": {
            "gridcolor": "white",
            "linecolor": "white",
            "ticks": ""
           }
          },
          "title": {
           "x": 0.05
          },
          "xaxis": {
           "automargin": true,
           "gridcolor": "white",
           "linecolor": "white",
           "ticks": "",
           "title": {
            "standoff": 15
           },
           "zerolinecolor": "white",
           "zerolinewidth": 2
          },
          "yaxis": {
           "automargin": true,
           "gridcolor": "white",
           "linecolor": "white",
           "ticks": "",
           "title": {
            "standoff": 15
           },
           "zerolinecolor": "white",
           "zerolinewidth": 2
          }
         }
        },
        "title": {
         "font": {
          "family": "Arial",
          "size": 24,
          "weight": "bold"
         },
         "text": "Распределение возраста"
        },
        "width": 800,
        "xaxis": {
         "anchor": "y",
         "domain": [
          0,
          1
         ],
         "dtick": 10,
         "gridcolor": "lightgray",
         "griddash": "dash",
         "gridwidth": 1,
         "linecolor": "black",
         "linewidth": 1,
         "showline": true,
         "showticklabels": true,
         "tickcolor": "black",
         "tickfont": {
          "size": 16
         },
         "ticklen": 6,
         "tickmode": "linear",
         "ticks": "outside",
         "tickwidth": 2,
         "title": {
          "font": {
           "family": "Arial",
           "size": 20
          },
          "text": "Возраст"
         }
        },
        "yaxis": {
         "anchor": "x",
         "domain": [
          0,
          1
         ],
         "dtick": 5,
         "gridcolor": "lightgray",
         "griddash": "dash",
         "gridwidth": 1,
         "linecolor": "black",
         "linewidth": 1,
         "showline": true,
         "showticklabels": true,
         "tickfont": {
          "size": 16
         },
         "ticklen": 6,
         "tickmode": "linear",
         "ticks": "outside",
         "tickwidth": 2,
         "title": {
          "font": {
           "family": "Arial",
           "size": 20
          },
          "text": "Количество пользователей"
         }
        }
       }
      }
     },
     "metadata": {},
     "output_type": "display_data"
    }
   ],
   "source": [
    "fig_2 = px.histogram(users[\"age\"].astype(int), nbins=70, title=\"Распределение возраста\")\n",
    "fig_2.update_layout(\n",
    "    width=800,  # ширина в пикселях\n",
    "    height=600,  # высота в пикселях\n",
    "    # autosize=False,  # отключаем авторазмер\n",
    "    xaxis_title=\"Возраст\",\n",
    "    yaxis_title=\"Количество пользователей\",\n",
    "    # title_font=dict(size=24, family=\"Arial\", weight=\"bold\"),\n",
    "    showlegend=False,\n",
    ")\n",
    "fig_2.update_layout(\n",
    "    xaxis=dict(\n",
    "        showticklabels=True,\n",
    "        tickmode=\"linear\",\n",
    "        ticks=\"outside\",  # Ticks снаружи: 'outside', 'inside', ''\n",
    "        ticklen=6,  # Длина ticks\n",
    "        tickwidth=2,  # Толщина ticks\n",
    "        tickcolor=\"black\",  # Цвет ticks\n",
    "        dtick=10,\n",
    "        # tickmode='array',  # Режим ручной установки\n",
    "        # tickvals=[0, 1, 2, 3],  # Позиции ticks\n",
    "        # ticktext=['Категория A', 'Категория B', 'Категория C', 'Категория D']  # Подписи\n",
    "    ),\n",
    "    yaxis=dict(\n",
    "        showticklabels=True,\n",
    "        tickmode=\"linear\",\n",
    "        dtick=5,\n",
    "        ticks=\"outside\",  # Ticks снаружи: 'outside', 'inside', ''\n",
    "        ticklen=6,  # Длина ticks\n",
    "        tickwidth=2,  # Толщина ticks\n",
    "        # tickmode=\"linear\",\n",
    "        # dtick=5\n",
    "    ),\n",
    ")\n",
    "fig_2 = configure_plotly_theme(fig_2)\n",
    "fig_2.update_traces(marker=dict(line=dict(width=1, color=\"black\")))\n",
    "fig_2.show()"
   ]
  },
  {
   "cell_type": "markdown",
   "id": "fea08558-0e7d-4cee-ac99-aa17b48eb0b2",
   "metadata": {},
   "source": [
    "- профессии (`barplot`)"
   ]
  },
  {
   "cell_type": "code",
   "execution_count": 11,
   "id": "e47309c1-d100-4796-9896-5babc2f5abd2",
   "metadata": {},
   "outputs": [
    {
     "data": {
      "application/vnd.plotly.v1+json": {
       "config": {
        "plotlyServerURL": "https://plot.ly"
       },
       "data": [
        {
         "hovertemplate": "x=%{x}<br>y=%{y}<extra></extra>",
         "legendgroup": "",
         "marker": {
          "color": "#636efa",
          "line": {
           "color": "black",
           "width": 1.5
          },
          "pattern": {
           "shape": ""
          }
         },
         "name": "",
         "orientation": "v",
         "showlegend": false,
         "textfont": {
          "color": "black",
          "family": "Arial",
          "size": 14
         },
         "textposition": "outside",
         "texttemplate": "%{y}",
         "type": "bar",
         "x": [
          "student",
          "other",
          "educator",
          "administrator",
          "engineer",
          "programmer",
          "librarian",
          "writer",
          "executive",
          "scientist",
          "artist",
          "technician",
          "marketing",
          "entertainment",
          "healthcare",
          "retired",
          "lawyer",
          "salesman",
          "none",
          "doctor",
          "homemaker"
         ],
         "xaxis": "x",
         "y": {
          "bdata": "xABpAF8ATwBDAEIAMwAtACAAHwAcABsAGgASABAADgAMAAwACQAHAAcA",
          "dtype": "i2"
         },
         "yaxis": "y"
        }
       ],
       "layout": {
        "barmode": "relative",
        "font": {
         "size": 14
        },
        "height": 600,
        "legend": {
         "tracegroupgap": 0
        },
        "paper_bgcolor": "white",
        "plot_bgcolor": "white",
        "template": {
         "data": {
          "bar": [
           {
            "error_x": {
             "color": "#2a3f5f"
            },
            "error_y": {
             "color": "#2a3f5f"
            },
            "marker": {
             "line": {
              "color": "#E5ECF6",
              "width": 0.5
             },
             "pattern": {
              "fillmode": "overlay",
              "size": 10,
              "solidity": 0.2
             }
            },
            "type": "bar"
           }
          ],
          "barpolar": [
           {
            "marker": {
             "line": {
              "color": "#E5ECF6",
              "width": 0.5
             },
             "pattern": {
              "fillmode": "overlay",
              "size": 10,
              "solidity": 0.2
             }
            },
            "type": "barpolar"
           }
          ],
          "carpet": [
           {
            "aaxis": {
             "endlinecolor": "#2a3f5f",
             "gridcolor": "white",
             "linecolor": "white",
             "minorgridcolor": "white",
             "startlinecolor": "#2a3f5f"
            },
            "baxis": {
             "endlinecolor": "#2a3f5f",
             "gridcolor": "white",
             "linecolor": "white",
             "minorgridcolor": "white",
             "startlinecolor": "#2a3f5f"
            },
            "type": "carpet"
           }
          ],
          "choropleth": [
           {
            "colorbar": {
             "outlinewidth": 0,
             "ticks": ""
            },
            "type": "choropleth"
           }
          ],
          "contour": [
           {
            "colorbar": {
             "outlinewidth": 0,
             "ticks": ""
            },
            "colorscale": [
             [
              0,
              "#0d0887"
             ],
             [
              0.1111111111111111,
              "#46039f"
             ],
             [
              0.2222222222222222,
              "#7201a8"
             ],
             [
              0.3333333333333333,
              "#9c179e"
             ],
             [
              0.4444444444444444,
              "#bd3786"
             ],
             [
              0.5555555555555556,
              "#d8576b"
             ],
             [
              0.6666666666666666,
              "#ed7953"
             ],
             [
              0.7777777777777778,
              "#fb9f3a"
             ],
             [
              0.8888888888888888,
              "#fdca26"
             ],
             [
              1,
              "#f0f921"
             ]
            ],
            "type": "contour"
           }
          ],
          "contourcarpet": [
           {
            "colorbar": {
             "outlinewidth": 0,
             "ticks": ""
            },
            "type": "contourcarpet"
           }
          ],
          "heatmap": [
           {
            "colorbar": {
             "outlinewidth": 0,
             "ticks": ""
            },
            "colorscale": [
             [
              0,
              "#0d0887"
             ],
             [
              0.1111111111111111,
              "#46039f"
             ],
             [
              0.2222222222222222,
              "#7201a8"
             ],
             [
              0.3333333333333333,
              "#9c179e"
             ],
             [
              0.4444444444444444,
              "#bd3786"
             ],
             [
              0.5555555555555556,
              "#d8576b"
             ],
             [
              0.6666666666666666,
              "#ed7953"
             ],
             [
              0.7777777777777778,
              "#fb9f3a"
             ],
             [
              0.8888888888888888,
              "#fdca26"
             ],
             [
              1,
              "#f0f921"
             ]
            ],
            "type": "heatmap"
           }
          ],
          "histogram": [
           {
            "marker": {
             "pattern": {
              "fillmode": "overlay",
              "size": 10,
              "solidity": 0.2
             }
            },
            "type": "histogram"
           }
          ],
          "histogram2d": [
           {
            "colorbar": {
             "outlinewidth": 0,
             "ticks": ""
            },
            "colorscale": [
             [
              0,
              "#0d0887"
             ],
             [
              0.1111111111111111,
              "#46039f"
             ],
             [
              0.2222222222222222,
              "#7201a8"
             ],
             [
              0.3333333333333333,
              "#9c179e"
             ],
             [
              0.4444444444444444,
              "#bd3786"
             ],
             [
              0.5555555555555556,
              "#d8576b"
             ],
             [
              0.6666666666666666,
              "#ed7953"
             ],
             [
              0.7777777777777778,
              "#fb9f3a"
             ],
             [
              0.8888888888888888,
              "#fdca26"
             ],
             [
              1,
              "#f0f921"
             ]
            ],
            "type": "histogram2d"
           }
          ],
          "histogram2dcontour": [
           {
            "colorbar": {
             "outlinewidth": 0,
             "ticks": ""
            },
            "colorscale": [
             [
              0,
              "#0d0887"
             ],
             [
              0.1111111111111111,
              "#46039f"
             ],
             [
              0.2222222222222222,
              "#7201a8"
             ],
             [
              0.3333333333333333,
              "#9c179e"
             ],
             [
              0.4444444444444444,
              "#bd3786"
             ],
             [
              0.5555555555555556,
              "#d8576b"
             ],
             [
              0.6666666666666666,
              "#ed7953"
             ],
             [
              0.7777777777777778,
              "#fb9f3a"
             ],
             [
              0.8888888888888888,
              "#fdca26"
             ],
             [
              1,
              "#f0f921"
             ]
            ],
            "type": "histogram2dcontour"
           }
          ],
          "mesh3d": [
           {
            "colorbar": {
             "outlinewidth": 0,
             "ticks": ""
            },
            "type": "mesh3d"
           }
          ],
          "parcoords": [
           {
            "line": {
             "colorbar": {
              "outlinewidth": 0,
              "ticks": ""
             }
            },
            "type": "parcoords"
           }
          ],
          "pie": [
           {
            "automargin": true,
            "type": "pie"
           }
          ],
          "scatter": [
           {
            "fillpattern": {
             "fillmode": "overlay",
             "size": 10,
             "solidity": 0.2
            },
            "type": "scatter"
           }
          ],
          "scatter3d": [
           {
            "line": {
             "colorbar": {
              "outlinewidth": 0,
              "ticks": ""
             }
            },
            "marker": {
             "colorbar": {
              "outlinewidth": 0,
              "ticks": ""
             }
            },
            "type": "scatter3d"
           }
          ],
          "scattercarpet": [
           {
            "marker": {
             "colorbar": {
              "outlinewidth": 0,
              "ticks": ""
             }
            },
            "type": "scattercarpet"
           }
          ],
          "scattergeo": [
           {
            "marker": {
             "colorbar": {
              "outlinewidth": 0,
              "ticks": ""
             }
            },
            "type": "scattergeo"
           }
          ],
          "scattergl": [
           {
            "marker": {
             "colorbar": {
              "outlinewidth": 0,
              "ticks": ""
             }
            },
            "type": "scattergl"
           }
          ],
          "scattermap": [
           {
            "marker": {
             "colorbar": {
              "outlinewidth": 0,
              "ticks": ""
             }
            },
            "type": "scattermap"
           }
          ],
          "scattermapbox": [
           {
            "marker": {
             "colorbar": {
              "outlinewidth": 0,
              "ticks": ""
             }
            },
            "type": "scattermapbox"
           }
          ],
          "scatterpolar": [
           {
            "marker": {
             "colorbar": {
              "outlinewidth": 0,
              "ticks": ""
             }
            },
            "type": "scatterpolar"
           }
          ],
          "scatterpolargl": [
           {
            "marker": {
             "colorbar": {
              "outlinewidth": 0,
              "ticks": ""
             }
            },
            "type": "scatterpolargl"
           }
          ],
          "scatterternary": [
           {
            "marker": {
             "colorbar": {
              "outlinewidth": 0,
              "ticks": ""
             }
            },
            "type": "scatterternary"
           }
          ],
          "surface": [
           {
            "colorbar": {
             "outlinewidth": 0,
             "ticks": ""
            },
            "colorscale": [
             [
              0,
              "#0d0887"
             ],
             [
              0.1111111111111111,
              "#46039f"
             ],
             [
              0.2222222222222222,
              "#7201a8"
             ],
             [
              0.3333333333333333,
              "#9c179e"
             ],
             [
              0.4444444444444444,
              "#bd3786"
             ],
             [
              0.5555555555555556,
              "#d8576b"
             ],
             [
              0.6666666666666666,
              "#ed7953"
             ],
             [
              0.7777777777777778,
              "#fb9f3a"
             ],
             [
              0.8888888888888888,
              "#fdca26"
             ],
             [
              1,
              "#f0f921"
             ]
            ],
            "type": "surface"
           }
          ],
          "table": [
           {
            "cells": {
             "fill": {
              "color": "#EBF0F8"
             },
             "line": {
              "color": "white"
             }
            },
            "header": {
             "fill": {
              "color": "#C8D4E3"
             },
             "line": {
              "color": "white"
             }
            },
            "type": "table"
           }
          ]
         },
         "layout": {
          "annotationdefaults": {
           "arrowcolor": "#2a3f5f",
           "arrowhead": 0,
           "arrowwidth": 1
          },
          "autotypenumbers": "strict",
          "coloraxis": {
           "colorbar": {
            "outlinewidth": 0,
            "ticks": ""
           }
          },
          "colorscale": {
           "diverging": [
            [
             0,
             "#8e0152"
            ],
            [
             0.1,
             "#c51b7d"
            ],
            [
             0.2,
             "#de77ae"
            ],
            [
             0.3,
             "#f1b6da"
            ],
            [
             0.4,
             "#fde0ef"
            ],
            [
             0.5,
             "#f7f7f7"
            ],
            [
             0.6,
             "#e6f5d0"
            ],
            [
             0.7,
             "#b8e186"
            ],
            [
             0.8,
             "#7fbc41"
            ],
            [
             0.9,
             "#4d9221"
            ],
            [
             1,
             "#276419"
            ]
           ],
           "sequential": [
            [
             0,
             "#0d0887"
            ],
            [
             0.1111111111111111,
             "#46039f"
            ],
            [
             0.2222222222222222,
             "#7201a8"
            ],
            [
             0.3333333333333333,
             "#9c179e"
            ],
            [
             0.4444444444444444,
             "#bd3786"
            ],
            [
             0.5555555555555556,
             "#d8576b"
            ],
            [
             0.6666666666666666,
             "#ed7953"
            ],
            [
             0.7777777777777778,
             "#fb9f3a"
            ],
            [
             0.8888888888888888,
             "#fdca26"
            ],
            [
             1,
             "#f0f921"
            ]
           ],
           "sequentialminus": [
            [
             0,
             "#0d0887"
            ],
            [
             0.1111111111111111,
             "#46039f"
            ],
            [
             0.2222222222222222,
             "#7201a8"
            ],
            [
             0.3333333333333333,
             "#9c179e"
            ],
            [
             0.4444444444444444,
             "#bd3786"
            ],
            [
             0.5555555555555556,
             "#d8576b"
            ],
            [
             0.6666666666666666,
             "#ed7953"
            ],
            [
             0.7777777777777778,
             "#fb9f3a"
            ],
            [
             0.8888888888888888,
             "#fdca26"
            ],
            [
             1,
             "#f0f921"
            ]
           ]
          },
          "colorway": [
           "#636efa",
           "#EF553B",
           "#00cc96",
           "#ab63fa",
           "#FFA15A",
           "#19d3f3",
           "#FF6692",
           "#B6E880",
           "#FF97FF",
           "#FECB52"
          ],
          "font": {
           "color": "#2a3f5f"
          },
          "geo": {
           "bgcolor": "white",
           "lakecolor": "white",
           "landcolor": "#E5ECF6",
           "showlakes": true,
           "showland": true,
           "subunitcolor": "white"
          },
          "hoverlabel": {
           "align": "left"
          },
          "hovermode": "closest",
          "mapbox": {
           "style": "light"
          },
          "paper_bgcolor": "white",
          "plot_bgcolor": "#E5ECF6",
          "polar": {
           "angularaxis": {
            "gridcolor": "white",
            "linecolor": "white",
            "ticks": ""
           },
           "bgcolor": "#E5ECF6",
           "radialaxis": {
            "gridcolor": "white",
            "linecolor": "white",
            "ticks": ""
           }
          },
          "scene": {
           "xaxis": {
            "backgroundcolor": "#E5ECF6",
            "gridcolor": "white",
            "gridwidth": 2,
            "linecolor": "white",
            "showbackground": true,
            "ticks": "",
            "zerolinecolor": "white"
           },
           "yaxis": {
            "backgroundcolor": "#E5ECF6",
            "gridcolor": "white",
            "gridwidth": 2,
            "linecolor": "white",
            "showbackground": true,
            "ticks": "",
            "zerolinecolor": "white"
           },
           "zaxis": {
            "backgroundcolor": "#E5ECF6",
            "gridcolor": "white",
            "gridwidth": 2,
            "linecolor": "white",
            "showbackground": true,
            "ticks": "",
            "zerolinecolor": "white"
           }
          },
          "shapedefaults": {
           "line": {
            "color": "#2a3f5f"
           }
          },
          "ternary": {
           "aaxis": {
            "gridcolor": "white",
            "linecolor": "white",
            "ticks": ""
           },
           "baxis": {
            "gridcolor": "white",
            "linecolor": "white",
            "ticks": ""
           },
           "bgcolor": "#E5ECF6",
           "caxis": {
            "gridcolor": "white",
            "linecolor": "white",
            "ticks": ""
           }
          },
          "title": {
           "x": 0.05
          },
          "xaxis": {
           "automargin": true,
           "gridcolor": "white",
           "linecolor": "white",
           "ticks": "",
           "title": {
            "standoff": 15
           },
           "zerolinecolor": "white",
           "zerolinewidth": 2
          },
          "yaxis": {
           "automargin": true,
           "gridcolor": "white",
           "linecolor": "white",
           "ticks": "",
           "title": {
            "standoff": 15
           },
           "zerolinecolor": "white",
           "zerolinewidth": 2
          }
         }
        },
        "title": {
         "font": {
          "family": "Arial",
          "size": 24,
          "weight": "bold"
         },
         "text": "Распределение профессий"
        },
        "width": 800,
        "xaxis": {
         "anchor": "y",
         "domain": [
          0,
          1
         ],
         "gridcolor": "lightgray",
         "griddash": "dash",
         "gridwidth": 1,
         "linecolor": "black",
         "linewidth": 1,
         "showline": true,
         "showticklabels": true,
         "tickangle": -45,
         "tickfont": {
          "size": 16
         },
         "title": {
          "font": {
           "family": "Arial",
           "size": 20
          },
          "text": "Профессия"
         }
        },
        "yaxis": {
         "anchor": "x",
         "domain": [
          0,
          1
         ],
         "dtick": 50,
         "gridcolor": "lightgray",
         "griddash": "dash",
         "gridwidth": 1,
         "linecolor": "black",
         "linewidth": 1,
         "showline": true,
         "showticklabels": true,
         "tickfont": {
          "size": 16
         },
         "ticklen": 6,
         "tickmode": "linear",
         "ticks": "outside",
         "tickwidth": 2,
         "title": {
          "font": {
           "family": "Arial",
           "size": 20
          },
          "text": "Количество пользователей"
         }
        }
       }
      }
     },
     "metadata": {},
     "output_type": "display_data"
    }
   ],
   "source": [
    "occupations_distrib = users.groupby(\"occupation\").count()[\"user_id\"]\n",
    "occupations_distrib = occupations_distrib.sort_values(ascending=False)\n",
    "fig_3 = px.bar(\n",
    "    x=occupations_distrib.index, y=occupations_distrib, title=\"Распределение профессий\"\n",
    ")\n",
    "fig_3.update_layout(\n",
    "    width=800,  # ширина в пикселях\n",
    "    height=600,  # высота в пикселях\n",
    "    # autosize=False,  # отключаем авторазмер\n",
    "    xaxis_title=\"Профессия\",\n",
    "    yaxis_title=\"Количество пользователей\",\n",
    "    # title_font=dict(size=24, family=\"Arial\", weight=\"bold\"),\n",
    ")\n",
    "fig_3.update_traces(\n",
    "    marker=dict(line=dict(width=1.5, color=\"black\"))  # Толщина рамки  # Цвет рамки\n",
    ")\n",
    "fig_3.update_layout(\n",
    "    xaxis=dict(tickangle=-45)  # Поворот на 45 градусов против часовой стрелки\n",
    ")\n",
    "fig_3.update_traces(\n",
    "    texttemplate=\"%{y}\",  # Формат текста (значение y)\n",
    "    textposition=\"outside\",  # Положение: 'outside', 'inside', 'auto', 'none'\n",
    "    textfont=dict(\n",
    "        size=14, family=\"Arial\", color=\"black\"\n",
    "    ),  # Размер шрифта  # Цвет текста\n",
    ")\n",
    "fig_3.update_layout(\n",
    "    xaxis=dict(\n",
    "        showticklabels=True,\n",
    "        # tickmode=\"linear\",\n",
    "        # ticks=\"outside\",  # Ticks снаружи: 'outside', 'inside', ''\n",
    "        # ticklen=6,  # Длина ticks\n",
    "        # tickwidth=2,  # Толщина ticks\n",
    "        # tickcolor=\"black\",  # Цвет ticks\n",
    "        # dtick=10,\n",
    "        # tickmode='array',  # Режим ручной установки\n",
    "        # tickvals=[0, 1, 2, 3],  # Позиции ticks\n",
    "        # ticktext=['Категория A', 'Категория B', 'Категория C', 'Категория D']  # Подписи\n",
    "    ),\n",
    "    yaxis=dict(\n",
    "        showticklabels=True,\n",
    "        tickmode=\"linear\",\n",
    "        dtick=50,\n",
    "        ticks=\"outside\",  # Ticks снаружи: 'outside', 'inside', ''\n",
    "        ticklen=6,  # Длина ticks\n",
    "        tickwidth=2,  # Толщина ticks\n",
    "        # tickmode=\"linear\",\n",
    "        # dtick=5\n",
    "    ),\n",
    ")\n",
    "fig_3 = configure_plotly_theme(fig_3)\n",
    "fig_3.show()"
   ]
  },
  {
   "cell_type": "markdown",
   "id": "e30a4995-b443-443a-9f10-ce44858eb4b9",
   "metadata": {},
   "source": [
    "### Фильмы 🎥\n",
    "\n",
    "Визуализируй следующие распределения: \n",
    "\n",
    "- количество фильмов каждого жанра (у нас есть много жанров фильмов: сколько фильмов у каждого жанра?)"
   ]
  },
  {
   "cell_type": "code",
   "execution_count": 12,
   "id": "1b1f8cab",
   "metadata": {},
   "outputs": [
    {
     "data": {
      "text/html": [
       "<div>\n",
       "<style scoped>\n",
       "    .dataframe tbody tr th:only-of-type {\n",
       "        vertical-align: middle;\n",
       "    }\n",
       "\n",
       "    .dataframe tbody tr th {\n",
       "        vertical-align: top;\n",
       "    }\n",
       "\n",
       "    .dataframe thead th {\n",
       "        text-align: right;\n",
       "    }\n",
       "</style>\n",
       "<table border=\"1\" class=\"dataframe\">\n",
       "  <thead>\n",
       "    <tr style=\"text-align: right;\">\n",
       "      <th></th>\n",
       "      <th>movie_id</th>\n",
       "      <th>title</th>\n",
       "      <th>release_date</th>\n",
       "      <th>imdb_url</th>\n",
       "      <th>Action</th>\n",
       "      <th>Adventure</th>\n",
       "      <th>Animation</th>\n",
       "      <th>Children's</th>\n",
       "      <th>Comedy</th>\n",
       "      <th>Crime</th>\n",
       "      <th>...</th>\n",
       "      <th>Fantasy</th>\n",
       "      <th>Film-Noir</th>\n",
       "      <th>Horror</th>\n",
       "      <th>Musical</th>\n",
       "      <th>Mystery</th>\n",
       "      <th>Romance</th>\n",
       "      <th>Sci-Fi</th>\n",
       "      <th>Thriller</th>\n",
       "      <th>War</th>\n",
       "      <th>Western</th>\n",
       "    </tr>\n",
       "  </thead>\n",
       "  <tbody>\n",
       "    <tr>\n",
       "      <th>0</th>\n",
       "      <td>1</td>\n",
       "      <td>Toy Story (1995)</td>\n",
       "      <td>01-Jan-1995</td>\n",
       "      <td>http://us.imdb.com/M/title-exact?Toy%20Story%2...</td>\n",
       "      <td>0</td>\n",
       "      <td>0</td>\n",
       "      <td>1</td>\n",
       "      <td>1</td>\n",
       "      <td>1</td>\n",
       "      <td>0</td>\n",
       "      <td>...</td>\n",
       "      <td>0</td>\n",
       "      <td>0</td>\n",
       "      <td>0</td>\n",
       "      <td>0</td>\n",
       "      <td>0</td>\n",
       "      <td>0</td>\n",
       "      <td>0</td>\n",
       "      <td>0</td>\n",
       "      <td>0</td>\n",
       "      <td>0</td>\n",
       "    </tr>\n",
       "    <tr>\n",
       "      <th>1</th>\n",
       "      <td>2</td>\n",
       "      <td>GoldenEye (1995)</td>\n",
       "      <td>01-Jan-1995</td>\n",
       "      <td>http://us.imdb.com/M/title-exact?GoldenEye%20(...</td>\n",
       "      <td>1</td>\n",
       "      <td>1</td>\n",
       "      <td>0</td>\n",
       "      <td>0</td>\n",
       "      <td>0</td>\n",
       "      <td>0</td>\n",
       "      <td>...</td>\n",
       "      <td>0</td>\n",
       "      <td>0</td>\n",
       "      <td>0</td>\n",
       "      <td>0</td>\n",
       "      <td>0</td>\n",
       "      <td>0</td>\n",
       "      <td>0</td>\n",
       "      <td>1</td>\n",
       "      <td>0</td>\n",
       "      <td>0</td>\n",
       "    </tr>\n",
       "    <tr>\n",
       "      <th>2</th>\n",
       "      <td>3</td>\n",
       "      <td>Four Rooms (1995)</td>\n",
       "      <td>01-Jan-1995</td>\n",
       "      <td>http://us.imdb.com/M/title-exact?Four%20Rooms%...</td>\n",
       "      <td>0</td>\n",
       "      <td>0</td>\n",
       "      <td>0</td>\n",
       "      <td>0</td>\n",
       "      <td>0</td>\n",
       "      <td>0</td>\n",
       "      <td>...</td>\n",
       "      <td>0</td>\n",
       "      <td>0</td>\n",
       "      <td>0</td>\n",
       "      <td>0</td>\n",
       "      <td>0</td>\n",
       "      <td>0</td>\n",
       "      <td>0</td>\n",
       "      <td>1</td>\n",
       "      <td>0</td>\n",
       "      <td>0</td>\n",
       "    </tr>\n",
       "    <tr>\n",
       "      <th>3</th>\n",
       "      <td>4</td>\n",
       "      <td>Get Shorty (1995)</td>\n",
       "      <td>01-Jan-1995</td>\n",
       "      <td>http://us.imdb.com/M/title-exact?Get%20Shorty%...</td>\n",
       "      <td>1</td>\n",
       "      <td>0</td>\n",
       "      <td>0</td>\n",
       "      <td>0</td>\n",
       "      <td>1</td>\n",
       "      <td>0</td>\n",
       "      <td>...</td>\n",
       "      <td>0</td>\n",
       "      <td>0</td>\n",
       "      <td>0</td>\n",
       "      <td>0</td>\n",
       "      <td>0</td>\n",
       "      <td>0</td>\n",
       "      <td>0</td>\n",
       "      <td>0</td>\n",
       "      <td>0</td>\n",
       "      <td>0</td>\n",
       "    </tr>\n",
       "    <tr>\n",
       "      <th>4</th>\n",
       "      <td>5</td>\n",
       "      <td>Copycat (1995)</td>\n",
       "      <td>01-Jan-1995</td>\n",
       "      <td>http://us.imdb.com/M/title-exact?Copycat%20(1995)</td>\n",
       "      <td>0</td>\n",
       "      <td>0</td>\n",
       "      <td>0</td>\n",
       "      <td>0</td>\n",
       "      <td>0</td>\n",
       "      <td>1</td>\n",
       "      <td>...</td>\n",
       "      <td>0</td>\n",
       "      <td>0</td>\n",
       "      <td>0</td>\n",
       "      <td>0</td>\n",
       "      <td>0</td>\n",
       "      <td>0</td>\n",
       "      <td>0</td>\n",
       "      <td>1</td>\n",
       "      <td>0</td>\n",
       "      <td>0</td>\n",
       "    </tr>\n",
       "  </tbody>\n",
       "</table>\n",
       "<p>5 rows × 22 columns</p>\n",
       "</div>"
      ],
      "text/plain": [
       "   movie_id              title release_date  \\\n",
       "0         1   Toy Story (1995)  01-Jan-1995   \n",
       "1         2   GoldenEye (1995)  01-Jan-1995   \n",
       "2         3  Four Rooms (1995)  01-Jan-1995   \n",
       "3         4  Get Shorty (1995)  01-Jan-1995   \n",
       "4         5     Copycat (1995)  01-Jan-1995   \n",
       "\n",
       "                                            imdb_url  Action  Adventure  \\\n",
       "0  http://us.imdb.com/M/title-exact?Toy%20Story%2...       0          0   \n",
       "1  http://us.imdb.com/M/title-exact?GoldenEye%20(...       1          1   \n",
       "2  http://us.imdb.com/M/title-exact?Four%20Rooms%...       0          0   \n",
       "3  http://us.imdb.com/M/title-exact?Get%20Shorty%...       1          0   \n",
       "4  http://us.imdb.com/M/title-exact?Copycat%20(1995)       0          0   \n",
       "\n",
       "   Animation  Children's  Comedy  Crime  ...  Fantasy  Film-Noir  Horror  \\\n",
       "0          1           1       1      0  ...        0          0       0   \n",
       "1          0           0       0      0  ...        0          0       0   \n",
       "2          0           0       0      0  ...        0          0       0   \n",
       "3          0           0       1      0  ...        0          0       0   \n",
       "4          0           0       0      1  ...        0          0       0   \n",
       "\n",
       "   Musical  Mystery  Romance  Sci-Fi  Thriller  War  Western  \n",
       "0        0        0        0       0         0    0        0  \n",
       "1        0        0        0       0         1    0        0  \n",
       "2        0        0        0       0         1    0        0  \n",
       "3        0        0        0       0         0    0        0  \n",
       "4        0        0        0       0         1    0        0  \n",
       "\n",
       "[5 rows x 22 columns]"
      ]
     },
     "execution_count": 12,
     "metadata": {},
     "output_type": "execute_result"
    }
   ],
   "source": [
    "movies.head()"
   ]
  },
  {
   "cell_type": "code",
   "execution_count": 13,
   "id": "58b43065-1475-478f-b01b-72a622763fc7",
   "metadata": {},
   "outputs": [
    {
     "name": "stdout",
     "output_type": "stream",
     "text": [
      "(1682, 18)\n"
     ]
    }
   ],
   "source": [
    "genres = movies.iloc[:, 4:]\n",
    "print(genres.shape)\n",
    "genres_film_count = genres.copy().apply(sum)\n",
    "genres_film_count = genres_film_count.sort_values(ascending=False)"
   ]
  },
  {
   "cell_type": "code",
   "execution_count": 14,
   "id": "e250700c",
   "metadata": {},
   "outputs": [
    {
     "data": {
      "application/vnd.plotly.v1+json": {
       "config": {
        "plotlyServerURL": "https://plot.ly"
       },
       "data": [
        {
         "hovertemplate": "x=%{x}<br>y=%{y}<extra></extra>",
         "legendgroup": "",
         "marker": {
          "color": "#636efa",
          "line": {
           "color": "black",
           "width": 1.5
          },
          "pattern": {
           "shape": ""
          }
         },
         "name": "",
         "orientation": "v",
         "showlegend": false,
         "textfont": {
          "color": "black",
          "family": "Arial",
          "size": 14
         },
         "textposition": "outside",
         "texttemplate": "%{y}",
         "type": "bar",
         "x": [
          "Drama",
          "Comedy",
          "Thriller",
          "Action",
          "Romance",
          "Adventure",
          "Children's",
          "Crime",
          "Sci-Fi",
          "Horror",
          "War",
          "Mystery",
          "Musical",
          "Documentary",
          "Animation",
          "Western",
          "Film-Noir",
          "Fantasy"
         ],
         "xaxis": "x",
         "y": {
          "bdata": "1QL5AfsA+wD3AIcAegBtAGUAXABHAD0AOAAyACoAGwAYABYA",
          "dtype": "i2"
         },
         "yaxis": "y"
        }
       ],
       "layout": {
        "barmode": "relative",
        "font": {
         "size": 14
        },
        "height": 600,
        "legend": {
         "tracegroupgap": 0
        },
        "paper_bgcolor": "white",
        "plot_bgcolor": "white",
        "template": {
         "data": {
          "bar": [
           {
            "error_x": {
             "color": "#2a3f5f"
            },
            "error_y": {
             "color": "#2a3f5f"
            },
            "marker": {
             "line": {
              "color": "#E5ECF6",
              "width": 0.5
             },
             "pattern": {
              "fillmode": "overlay",
              "size": 10,
              "solidity": 0.2
             }
            },
            "type": "bar"
           }
          ],
          "barpolar": [
           {
            "marker": {
             "line": {
              "color": "#E5ECF6",
              "width": 0.5
             },
             "pattern": {
              "fillmode": "overlay",
              "size": 10,
              "solidity": 0.2
             }
            },
            "type": "barpolar"
           }
          ],
          "carpet": [
           {
            "aaxis": {
             "endlinecolor": "#2a3f5f",
             "gridcolor": "white",
             "linecolor": "white",
             "minorgridcolor": "white",
             "startlinecolor": "#2a3f5f"
            },
            "baxis": {
             "endlinecolor": "#2a3f5f",
             "gridcolor": "white",
             "linecolor": "white",
             "minorgridcolor": "white",
             "startlinecolor": "#2a3f5f"
            },
            "type": "carpet"
           }
          ],
          "choropleth": [
           {
            "colorbar": {
             "outlinewidth": 0,
             "ticks": ""
            },
            "type": "choropleth"
           }
          ],
          "contour": [
           {
            "colorbar": {
             "outlinewidth": 0,
             "ticks": ""
            },
            "colorscale": [
             [
              0,
              "#0d0887"
             ],
             [
              0.1111111111111111,
              "#46039f"
             ],
             [
              0.2222222222222222,
              "#7201a8"
             ],
             [
              0.3333333333333333,
              "#9c179e"
             ],
             [
              0.4444444444444444,
              "#bd3786"
             ],
             [
              0.5555555555555556,
              "#d8576b"
             ],
             [
              0.6666666666666666,
              "#ed7953"
             ],
             [
              0.7777777777777778,
              "#fb9f3a"
             ],
             [
              0.8888888888888888,
              "#fdca26"
             ],
             [
              1,
              "#f0f921"
             ]
            ],
            "type": "contour"
           }
          ],
          "contourcarpet": [
           {
            "colorbar": {
             "outlinewidth": 0,
             "ticks": ""
            },
            "type": "contourcarpet"
           }
          ],
          "heatmap": [
           {
            "colorbar": {
             "outlinewidth": 0,
             "ticks": ""
            },
            "colorscale": [
             [
              0,
              "#0d0887"
             ],
             [
              0.1111111111111111,
              "#46039f"
             ],
             [
              0.2222222222222222,
              "#7201a8"
             ],
             [
              0.3333333333333333,
              "#9c179e"
             ],
             [
              0.4444444444444444,
              "#bd3786"
             ],
             [
              0.5555555555555556,
              "#d8576b"
             ],
             [
              0.6666666666666666,
              "#ed7953"
             ],
             [
              0.7777777777777778,
              "#fb9f3a"
             ],
             [
              0.8888888888888888,
              "#fdca26"
             ],
             [
              1,
              "#f0f921"
             ]
            ],
            "type": "heatmap"
           }
          ],
          "histogram": [
           {
            "marker": {
             "pattern": {
              "fillmode": "overlay",
              "size": 10,
              "solidity": 0.2
             }
            },
            "type": "histogram"
           }
          ],
          "histogram2d": [
           {
            "colorbar": {
             "outlinewidth": 0,
             "ticks": ""
            },
            "colorscale": [
             [
              0,
              "#0d0887"
             ],
             [
              0.1111111111111111,
              "#46039f"
             ],
             [
              0.2222222222222222,
              "#7201a8"
             ],
             [
              0.3333333333333333,
              "#9c179e"
             ],
             [
              0.4444444444444444,
              "#bd3786"
             ],
             [
              0.5555555555555556,
              "#d8576b"
             ],
             [
              0.6666666666666666,
              "#ed7953"
             ],
             [
              0.7777777777777778,
              "#fb9f3a"
             ],
             [
              0.8888888888888888,
              "#fdca26"
             ],
             [
              1,
              "#f0f921"
             ]
            ],
            "type": "histogram2d"
           }
          ],
          "histogram2dcontour": [
           {
            "colorbar": {
             "outlinewidth": 0,
             "ticks": ""
            },
            "colorscale": [
             [
              0,
              "#0d0887"
             ],
             [
              0.1111111111111111,
              "#46039f"
             ],
             [
              0.2222222222222222,
              "#7201a8"
             ],
             [
              0.3333333333333333,
              "#9c179e"
             ],
             [
              0.4444444444444444,
              "#bd3786"
             ],
             [
              0.5555555555555556,
              "#d8576b"
             ],
             [
              0.6666666666666666,
              "#ed7953"
             ],
             [
              0.7777777777777778,
              "#fb9f3a"
             ],
             [
              0.8888888888888888,
              "#fdca26"
             ],
             [
              1,
              "#f0f921"
             ]
            ],
            "type": "histogram2dcontour"
           }
          ],
          "mesh3d": [
           {
            "colorbar": {
             "outlinewidth": 0,
             "ticks": ""
            },
            "type": "mesh3d"
           }
          ],
          "parcoords": [
           {
            "line": {
             "colorbar": {
              "outlinewidth": 0,
              "ticks": ""
             }
            },
            "type": "parcoords"
           }
          ],
          "pie": [
           {
            "automargin": true,
            "type": "pie"
           }
          ],
          "scatter": [
           {
            "fillpattern": {
             "fillmode": "overlay",
             "size": 10,
             "solidity": 0.2
            },
            "type": "scatter"
           }
          ],
          "scatter3d": [
           {
            "line": {
             "colorbar": {
              "outlinewidth": 0,
              "ticks": ""
             }
            },
            "marker": {
             "colorbar": {
              "outlinewidth": 0,
              "ticks": ""
             }
            },
            "type": "scatter3d"
           }
          ],
          "scattercarpet": [
           {
            "marker": {
             "colorbar": {
              "outlinewidth": 0,
              "ticks": ""
             }
            },
            "type": "scattercarpet"
           }
          ],
          "scattergeo": [
           {
            "marker": {
             "colorbar": {
              "outlinewidth": 0,
              "ticks": ""
             }
            },
            "type": "scattergeo"
           }
          ],
          "scattergl": [
           {
            "marker": {
             "colorbar": {
              "outlinewidth": 0,
              "ticks": ""
             }
            },
            "type": "scattergl"
           }
          ],
          "scattermap": [
           {
            "marker": {
             "colorbar": {
              "outlinewidth": 0,
              "ticks": ""
             }
            },
            "type": "scattermap"
           }
          ],
          "scattermapbox": [
           {
            "marker": {
             "colorbar": {
              "outlinewidth": 0,
              "ticks": ""
             }
            },
            "type": "scattermapbox"
           }
          ],
          "scatterpolar": [
           {
            "marker": {
             "colorbar": {
              "outlinewidth": 0,
              "ticks": ""
             }
            },
            "type": "scatterpolar"
           }
          ],
          "scatterpolargl": [
           {
            "marker": {
             "colorbar": {
              "outlinewidth": 0,
              "ticks": ""
             }
            },
            "type": "scatterpolargl"
           }
          ],
          "scatterternary": [
           {
            "marker": {
             "colorbar": {
              "outlinewidth": 0,
              "ticks": ""
             }
            },
            "type": "scatterternary"
           }
          ],
          "surface": [
           {
            "colorbar": {
             "outlinewidth": 0,
             "ticks": ""
            },
            "colorscale": [
             [
              0,
              "#0d0887"
             ],
             [
              0.1111111111111111,
              "#46039f"
             ],
             [
              0.2222222222222222,
              "#7201a8"
             ],
             [
              0.3333333333333333,
              "#9c179e"
             ],
             [
              0.4444444444444444,
              "#bd3786"
             ],
             [
              0.5555555555555556,
              "#d8576b"
             ],
             [
              0.6666666666666666,
              "#ed7953"
             ],
             [
              0.7777777777777778,
              "#fb9f3a"
             ],
             [
              0.8888888888888888,
              "#fdca26"
             ],
             [
              1,
              "#f0f921"
             ]
            ],
            "type": "surface"
           }
          ],
          "table": [
           {
            "cells": {
             "fill": {
              "color": "#EBF0F8"
             },
             "line": {
              "color": "white"
             }
            },
            "header": {
             "fill": {
              "color": "#C8D4E3"
             },
             "line": {
              "color": "white"
             }
            },
            "type": "table"
           }
          ]
         },
         "layout": {
          "annotationdefaults": {
           "arrowcolor": "#2a3f5f",
           "arrowhead": 0,
           "arrowwidth": 1
          },
          "autotypenumbers": "strict",
          "coloraxis": {
           "colorbar": {
            "outlinewidth": 0,
            "ticks": ""
           }
          },
          "colorscale": {
           "diverging": [
            [
             0,
             "#8e0152"
            ],
            [
             0.1,
             "#c51b7d"
            ],
            [
             0.2,
             "#de77ae"
            ],
            [
             0.3,
             "#f1b6da"
            ],
            [
             0.4,
             "#fde0ef"
            ],
            [
             0.5,
             "#f7f7f7"
            ],
            [
             0.6,
             "#e6f5d0"
            ],
            [
             0.7,
             "#b8e186"
            ],
            [
             0.8,
             "#7fbc41"
            ],
            [
             0.9,
             "#4d9221"
            ],
            [
             1,
             "#276419"
            ]
           ],
           "sequential": [
            [
             0,
             "#0d0887"
            ],
            [
             0.1111111111111111,
             "#46039f"
            ],
            [
             0.2222222222222222,
             "#7201a8"
            ],
            [
             0.3333333333333333,
             "#9c179e"
            ],
            [
             0.4444444444444444,
             "#bd3786"
            ],
            [
             0.5555555555555556,
             "#d8576b"
            ],
            [
             0.6666666666666666,
             "#ed7953"
            ],
            [
             0.7777777777777778,
             "#fb9f3a"
            ],
            [
             0.8888888888888888,
             "#fdca26"
            ],
            [
             1,
             "#f0f921"
            ]
           ],
           "sequentialminus": [
            [
             0,
             "#0d0887"
            ],
            [
             0.1111111111111111,
             "#46039f"
            ],
            [
             0.2222222222222222,
             "#7201a8"
            ],
            [
             0.3333333333333333,
             "#9c179e"
            ],
            [
             0.4444444444444444,
             "#bd3786"
            ],
            [
             0.5555555555555556,
             "#d8576b"
            ],
            [
             0.6666666666666666,
             "#ed7953"
            ],
            [
             0.7777777777777778,
             "#fb9f3a"
            ],
            [
             0.8888888888888888,
             "#fdca26"
            ],
            [
             1,
             "#f0f921"
            ]
           ]
          },
          "colorway": [
           "#636efa",
           "#EF553B",
           "#00cc96",
           "#ab63fa",
           "#FFA15A",
           "#19d3f3",
           "#FF6692",
           "#B6E880",
           "#FF97FF",
           "#FECB52"
          ],
          "font": {
           "color": "#2a3f5f"
          },
          "geo": {
           "bgcolor": "white",
           "lakecolor": "white",
           "landcolor": "#E5ECF6",
           "showlakes": true,
           "showland": true,
           "subunitcolor": "white"
          },
          "hoverlabel": {
           "align": "left"
          },
          "hovermode": "closest",
          "mapbox": {
           "style": "light"
          },
          "paper_bgcolor": "white",
          "plot_bgcolor": "#E5ECF6",
          "polar": {
           "angularaxis": {
            "gridcolor": "white",
            "linecolor": "white",
            "ticks": ""
           },
           "bgcolor": "#E5ECF6",
           "radialaxis": {
            "gridcolor": "white",
            "linecolor": "white",
            "ticks": ""
           }
          },
          "scene": {
           "xaxis": {
            "backgroundcolor": "#E5ECF6",
            "gridcolor": "white",
            "gridwidth": 2,
            "linecolor": "white",
            "showbackground": true,
            "ticks": "",
            "zerolinecolor": "white"
           },
           "yaxis": {
            "backgroundcolor": "#E5ECF6",
            "gridcolor": "white",
            "gridwidth": 2,
            "linecolor": "white",
            "showbackground": true,
            "ticks": "",
            "zerolinecolor": "white"
           },
           "zaxis": {
            "backgroundcolor": "#E5ECF6",
            "gridcolor": "white",
            "gridwidth": 2,
            "linecolor": "white",
            "showbackground": true,
            "ticks": "",
            "zerolinecolor": "white"
           }
          },
          "shapedefaults": {
           "line": {
            "color": "#2a3f5f"
           }
          },
          "ternary": {
           "aaxis": {
            "gridcolor": "white",
            "linecolor": "white",
            "ticks": ""
           },
           "baxis": {
            "gridcolor": "white",
            "linecolor": "white",
            "ticks": ""
           },
           "bgcolor": "#E5ECF6",
           "caxis": {
            "gridcolor": "white",
            "linecolor": "white",
            "ticks": ""
           }
          },
          "title": {
           "x": 0.05
          },
          "xaxis": {
           "automargin": true,
           "gridcolor": "white",
           "linecolor": "white",
           "ticks": "",
           "title": {
            "standoff": 15
           },
           "zerolinecolor": "white",
           "zerolinewidth": 2
          },
          "yaxis": {
           "automargin": true,
           "gridcolor": "white",
           "linecolor": "white",
           "ticks": "",
           "title": {
            "standoff": 15
           },
           "zerolinecolor": "white",
           "zerolinewidth": 2
          }
         }
        },
        "title": {
         "font": {
          "family": "Arial",
          "size": 24,
          "weight": "bold"
         },
         "text": "Распределение фильмов по жанрам"
        },
        "width": 1000,
        "xaxis": {
         "anchor": "y",
         "domain": [
          0,
          1
         ],
         "dtick": 1,
         "gridcolor": "lightgray",
         "griddash": "dash",
         "gridwidth": 1,
         "linecolor": "black",
         "linewidth": 1,
         "showline": true,
         "showticklabels": true,
         "tickangle": -45,
         "tickcolor": "black",
         "tickfont": {
          "size": 16
         },
         "ticklen": 6,
         "tickmode": "linear",
         "ticks": "outside",
         "tickwidth": 2,
         "title": {
          "font": {
           "family": "Arial",
           "size": 20
          },
          "text": "Жанры"
         }
        },
        "yaxis": {
         "anchor": "x",
         "domain": [
          0,
          1
         ],
         "dtick": 100,
         "gridcolor": "lightgray",
         "griddash": "dash",
         "gridwidth": 1,
         "linecolor": "black",
         "linewidth": 1,
         "showline": true,
         "showticklabels": true,
         "tickfont": {
          "size": 16
         },
         "ticklen": 6,
         "tickmode": "linear",
         "ticks": "outside",
         "tickwidth": 2,
         "title": {
          "font": {
           "family": "Arial",
           "size": 20
          },
          "text": "Количество фильмов"
         }
        }
       }
      }
     },
     "metadata": {},
     "output_type": "display_data"
    }
   ],
   "source": [
    "fig_4 = px.bar(\n",
    "    x=genres_film_count.index,\n",
    "    y=genres_film_count,\n",
    "    title=\"Распределение фильмов по жанрам\",\n",
    ")\n",
    "fig_4.update_layout(\n",
    "    width=1000,  # ширина в пикселях\n",
    "    height=600,  # высота в пикселях\n",
    "    # autosize=False,  # отключаем авторазмер\n",
    "    xaxis_title=\"Жанры\",\n",
    "    yaxis_title=\"Количество фильмов\",\n",
    "    title_font=dict(size=24, family=\"Arial\", weight=\"bold\"),\n",
    ")\n",
    "fig_4.update_traces(\n",
    "    marker=dict(line=dict(width=1.5, color=\"black\"))  # Толщина рамки  # Цвет рамки\n",
    ")\n",
    "fig_4.update_layout(\n",
    "    xaxis=dict(tickangle=-45)  # Поворот на 45 градусов против часовой стрелки\n",
    ")\n",
    "fig_4.update_traces(\n",
    "    texttemplate=\"%{y}\",  # Формат текста (значение y)\n",
    "    textposition=\"outside\",  # Положение: 'outside', 'inside', 'auto', 'none'\n",
    "    textfont=dict(\n",
    "        size=14, family=\"Arial\", color=\"black\"\n",
    "    ),  # Размер шрифта  # Цвет текста\n",
    ")\n",
    "fig_4.update_layout(\n",
    "    xaxis=dict(\n",
    "        showticklabels=True,\n",
    "        tickmode=\"linear\",\n",
    "        ticks=\"outside\",  # Ticks снаружи: 'outside', 'inside', ''\n",
    "        ticklen=6,  # Длина ticks\n",
    "        tickwidth=2,  # Толщина ticks\n",
    "        tickcolor=\"black\",  # Цвет ticks\n",
    "        dtick=1,\n",
    "        # tickmode='array',  # Режим ручной установки\n",
    "        # tickvals=[0, 1, 2, 3],  # Позиции ticks\n",
    "        # ticktext=['Категория A', 'Категория B', 'Категория C', 'Категория D']  # Подписи\n",
    "    ),\n",
    "    yaxis=dict(\n",
    "        showticklabels=True,\n",
    "        tickmode=\"linear\",\n",
    "        dtick=100,\n",
    "        ticks=\"outside\",  # Ticks снаружи: 'outside', 'inside', ''\n",
    "        ticklen=6,  # Длина ticks\n",
    "        tickwidth=2,  # Толщина ticks\n",
    "        # tickmode=\"linear\",\n",
    "        # dtick=5\n",
    "    ),\n",
    ")\n",
    "fig_4 = configure_plotly_theme(fig_4)\n",
    "fig_4.show()"
   ]
  },
  {
   "cell_type": "markdown",
   "id": "a36689b9-9e04-4714-9c85-db27f943cf0c",
   "metadata": {},
   "source": [
    "- распределение количества жанров у разных фильмов (какие-то фильмы принадлежат одному жанру, какие-то сразу нескольким)"
   ]
  },
  {
   "cell_type": "code",
   "execution_count": 15,
   "id": "63a52a5d",
   "metadata": {},
   "outputs": [
    {
     "data": {
      "text/html": [
       "<div>\n",
       "<style scoped>\n",
       "    .dataframe tbody tr th:only-of-type {\n",
       "        vertical-align: middle;\n",
       "    }\n",
       "\n",
       "    .dataframe tbody tr th {\n",
       "        vertical-align: top;\n",
       "    }\n",
       "\n",
       "    .dataframe thead th {\n",
       "        text-align: right;\n",
       "    }\n",
       "</style>\n",
       "<table border=\"1\" class=\"dataframe\">\n",
       "  <thead>\n",
       "    <tr style=\"text-align: right;\">\n",
       "      <th></th>\n",
       "      <th>id</th>\n",
       "      <th>0</th>\n",
       "    </tr>\n",
       "  </thead>\n",
       "  <tbody>\n",
       "    <tr>\n",
       "      <th>0</th>\n",
       "      <td>1</td>\n",
       "      <td>3</td>\n",
       "    </tr>\n",
       "    <tr>\n",
       "      <th>1</th>\n",
       "      <td>2</td>\n",
       "      <td>3</td>\n",
       "    </tr>\n",
       "    <tr>\n",
       "      <th>2</th>\n",
       "      <td>3</td>\n",
       "      <td>1</td>\n",
       "    </tr>\n",
       "    <tr>\n",
       "      <th>3</th>\n",
       "      <td>4</td>\n",
       "      <td>3</td>\n",
       "    </tr>\n",
       "    <tr>\n",
       "      <th>4</th>\n",
       "      <td>5</td>\n",
       "      <td>3</td>\n",
       "    </tr>\n",
       "  </tbody>\n",
       "</table>\n",
       "</div>"
      ],
      "text/plain": [
       "   id  0\n",
       "0   1  3\n",
       "1   2  3\n",
       "2   3  1\n",
       "3   4  3\n",
       "4   5  3"
      ]
     },
     "execution_count": 15,
     "metadata": {},
     "output_type": "execute_result"
    }
   ],
   "source": [
    "genres_distrib = genres.copy()\n",
    "genres_distrib[\"id\"] = movies[\"movie_id\"]\n",
    "genres_distrib.set_index(\"id\", inplace=True)\n",
    "genres_distrib = genres_distrib.T\n",
    "# genres_distrib.reset_index(inplace=True)\n",
    "genres_distrib.head()\n",
    "genres_sum = genres_distrib.apply(sum)\n",
    "genres_sum = genres_sum.reset_index()\n",
    "genres_sum.head()"
   ]
  },
  {
   "cell_type": "code",
   "execution_count": 16,
   "id": "b83a4de0",
   "metadata": {},
   "outputs": [
    {
     "data": {
      "text/html": [
       "<div>\n",
       "<style scoped>\n",
       "    .dataframe tbody tr th:only-of-type {\n",
       "        vertical-align: middle;\n",
       "    }\n",
       "\n",
       "    .dataframe tbody tr th {\n",
       "        vertical-align: top;\n",
       "    }\n",
       "\n",
       "    .dataframe thead th {\n",
       "        text-align: right;\n",
       "    }\n",
       "</style>\n",
       "<table border=\"1\" class=\"dataframe\">\n",
       "  <thead>\n",
       "    <tr style=\"text-align: right;\">\n",
       "      <th></th>\n",
       "      <th>id</th>\n",
       "    </tr>\n",
       "    <tr>\n",
       "      <th>0</th>\n",
       "      <th></th>\n",
       "    </tr>\n",
       "  </thead>\n",
       "  <tbody>\n",
       "    <tr>\n",
       "      <th>0</th>\n",
       "      <td>2</td>\n",
       "    </tr>\n",
       "    <tr>\n",
       "      <th>1</th>\n",
       "      <td>831</td>\n",
       "    </tr>\n",
       "    <tr>\n",
       "      <th>2</th>\n",
       "      <td>569</td>\n",
       "    </tr>\n",
       "    <tr>\n",
       "      <th>3</th>\n",
       "      <td>215</td>\n",
       "    </tr>\n",
       "    <tr>\n",
       "      <th>4</th>\n",
       "      <td>51</td>\n",
       "    </tr>\n",
       "    <tr>\n",
       "      <th>5</th>\n",
       "      <td>11</td>\n",
       "    </tr>\n",
       "    <tr>\n",
       "      <th>6</th>\n",
       "      <td>3</td>\n",
       "    </tr>\n",
       "  </tbody>\n",
       "</table>\n",
       "</div>"
      ],
      "text/plain": [
       "    id\n",
       "0     \n",
       "0    2\n",
       "1  831\n",
       "2  569\n",
       "3  215\n",
       "4   51\n",
       "5   11\n",
       "6    3"
      ]
     },
     "execution_count": 16,
     "metadata": {},
     "output_type": "execute_result"
    }
   ],
   "source": [
    "for_barplot = genres_sum.groupby(0).count()\n",
    "for_barplot"
   ]
  },
  {
   "cell_type": "code",
   "execution_count": 17,
   "id": "24c620d4",
   "metadata": {},
   "outputs": [
    {
     "data": {
      "application/vnd.plotly.v1+json": {
       "config": {
        "plotlyServerURL": "https://plot.ly"
       },
       "data": [
        {
         "hovertemplate": "x=%{x}<br>y=%{y}<extra></extra>",
         "legendgroup": "",
         "marker": {
          "color": "#636efa",
          "line": {
           "color": "black",
           "width": 1.5
          },
          "pattern": {
           "shape": ""
          }
         },
         "name": "",
         "orientation": "v",
         "showlegend": false,
         "textfont": {
          "color": "black",
          "family": "Arial",
          "size": 14
         },
         "textposition": "outside",
         "texttemplate": "%{y}",
         "type": "bar",
         "x": {
          "bdata": "AAECAwQFBg==",
          "dtype": "i1"
         },
         "xaxis": "x",
         "y": {
          "bdata": "AgA/AzkC1wAzAAsAAwA=",
          "dtype": "i2"
         },
         "yaxis": "y"
        }
       ],
       "layout": {
        "barmode": "relative",
        "font": {
         "size": 14
        },
        "height": 600,
        "legend": {
         "tracegroupgap": 0
        },
        "paper_bgcolor": "white",
        "plot_bgcolor": "white",
        "template": {
         "data": {
          "bar": [
           {
            "error_x": {
             "color": "#2a3f5f"
            },
            "error_y": {
             "color": "#2a3f5f"
            },
            "marker": {
             "line": {
              "color": "#E5ECF6",
              "width": 0.5
             },
             "pattern": {
              "fillmode": "overlay",
              "size": 10,
              "solidity": 0.2
             }
            },
            "type": "bar"
           }
          ],
          "barpolar": [
           {
            "marker": {
             "line": {
              "color": "#E5ECF6",
              "width": 0.5
             },
             "pattern": {
              "fillmode": "overlay",
              "size": 10,
              "solidity": 0.2
             }
            },
            "type": "barpolar"
           }
          ],
          "carpet": [
           {
            "aaxis": {
             "endlinecolor": "#2a3f5f",
             "gridcolor": "white",
             "linecolor": "white",
             "minorgridcolor": "white",
             "startlinecolor": "#2a3f5f"
            },
            "baxis": {
             "endlinecolor": "#2a3f5f",
             "gridcolor": "white",
             "linecolor": "white",
             "minorgridcolor": "white",
             "startlinecolor": "#2a3f5f"
            },
            "type": "carpet"
           }
          ],
          "choropleth": [
           {
            "colorbar": {
             "outlinewidth": 0,
             "ticks": ""
            },
            "type": "choropleth"
           }
          ],
          "contour": [
           {
            "colorbar": {
             "outlinewidth": 0,
             "ticks": ""
            },
            "colorscale": [
             [
              0,
              "#0d0887"
             ],
             [
              0.1111111111111111,
              "#46039f"
             ],
             [
              0.2222222222222222,
              "#7201a8"
             ],
             [
              0.3333333333333333,
              "#9c179e"
             ],
             [
              0.4444444444444444,
              "#bd3786"
             ],
             [
              0.5555555555555556,
              "#d8576b"
             ],
             [
              0.6666666666666666,
              "#ed7953"
             ],
             [
              0.7777777777777778,
              "#fb9f3a"
             ],
             [
              0.8888888888888888,
              "#fdca26"
             ],
             [
              1,
              "#f0f921"
             ]
            ],
            "type": "contour"
           }
          ],
          "contourcarpet": [
           {
            "colorbar": {
             "outlinewidth": 0,
             "ticks": ""
            },
            "type": "contourcarpet"
           }
          ],
          "heatmap": [
           {
            "colorbar": {
             "outlinewidth": 0,
             "ticks": ""
            },
            "colorscale": [
             [
              0,
              "#0d0887"
             ],
             [
              0.1111111111111111,
              "#46039f"
             ],
             [
              0.2222222222222222,
              "#7201a8"
             ],
             [
              0.3333333333333333,
              "#9c179e"
             ],
             [
              0.4444444444444444,
              "#bd3786"
             ],
             [
              0.5555555555555556,
              "#d8576b"
             ],
             [
              0.6666666666666666,
              "#ed7953"
             ],
             [
              0.7777777777777778,
              "#fb9f3a"
             ],
             [
              0.8888888888888888,
              "#fdca26"
             ],
             [
              1,
              "#f0f921"
             ]
            ],
            "type": "heatmap"
           }
          ],
          "histogram": [
           {
            "marker": {
             "pattern": {
              "fillmode": "overlay",
              "size": 10,
              "solidity": 0.2
             }
            },
            "type": "histogram"
           }
          ],
          "histogram2d": [
           {
            "colorbar": {
             "outlinewidth": 0,
             "ticks": ""
            },
            "colorscale": [
             [
              0,
              "#0d0887"
             ],
             [
              0.1111111111111111,
              "#46039f"
             ],
             [
              0.2222222222222222,
              "#7201a8"
             ],
             [
              0.3333333333333333,
              "#9c179e"
             ],
             [
              0.4444444444444444,
              "#bd3786"
             ],
             [
              0.5555555555555556,
              "#d8576b"
             ],
             [
              0.6666666666666666,
              "#ed7953"
             ],
             [
              0.7777777777777778,
              "#fb9f3a"
             ],
             [
              0.8888888888888888,
              "#fdca26"
             ],
             [
              1,
              "#f0f921"
             ]
            ],
            "type": "histogram2d"
           }
          ],
          "histogram2dcontour": [
           {
            "colorbar": {
             "outlinewidth": 0,
             "ticks": ""
            },
            "colorscale": [
             [
              0,
              "#0d0887"
             ],
             [
              0.1111111111111111,
              "#46039f"
             ],
             [
              0.2222222222222222,
              "#7201a8"
             ],
             [
              0.3333333333333333,
              "#9c179e"
             ],
             [
              0.4444444444444444,
              "#bd3786"
             ],
             [
              0.5555555555555556,
              "#d8576b"
             ],
             [
              0.6666666666666666,
              "#ed7953"
             ],
             [
              0.7777777777777778,
              "#fb9f3a"
             ],
             [
              0.8888888888888888,
              "#fdca26"
             ],
             [
              1,
              "#f0f921"
             ]
            ],
            "type": "histogram2dcontour"
           }
          ],
          "mesh3d": [
           {
            "colorbar": {
             "outlinewidth": 0,
             "ticks": ""
            },
            "type": "mesh3d"
           }
          ],
          "parcoords": [
           {
            "line": {
             "colorbar": {
              "outlinewidth": 0,
              "ticks": ""
             }
            },
            "type": "parcoords"
           }
          ],
          "pie": [
           {
            "automargin": true,
            "type": "pie"
           }
          ],
          "scatter": [
           {
            "fillpattern": {
             "fillmode": "overlay",
             "size": 10,
             "solidity": 0.2
            },
            "type": "scatter"
           }
          ],
          "scatter3d": [
           {
            "line": {
             "colorbar": {
              "outlinewidth": 0,
              "ticks": ""
             }
            },
            "marker": {
             "colorbar": {
              "outlinewidth": 0,
              "ticks": ""
             }
            },
            "type": "scatter3d"
           }
          ],
          "scattercarpet": [
           {
            "marker": {
             "colorbar": {
              "outlinewidth": 0,
              "ticks": ""
             }
            },
            "type": "scattercarpet"
           }
          ],
          "scattergeo": [
           {
            "marker": {
             "colorbar": {
              "outlinewidth": 0,
              "ticks": ""
             }
            },
            "type": "scattergeo"
           }
          ],
          "scattergl": [
           {
            "marker": {
             "colorbar": {
              "outlinewidth": 0,
              "ticks": ""
             }
            },
            "type": "scattergl"
           }
          ],
          "scattermap": [
           {
            "marker": {
             "colorbar": {
              "outlinewidth": 0,
              "ticks": ""
             }
            },
            "type": "scattermap"
           }
          ],
          "scattermapbox": [
           {
            "marker": {
             "colorbar": {
              "outlinewidth": 0,
              "ticks": ""
             }
            },
            "type": "scattermapbox"
           }
          ],
          "scatterpolar": [
           {
            "marker": {
             "colorbar": {
              "outlinewidth": 0,
              "ticks": ""
             }
            },
            "type": "scatterpolar"
           }
          ],
          "scatterpolargl": [
           {
            "marker": {
             "colorbar": {
              "outlinewidth": 0,
              "ticks": ""
             }
            },
            "type": "scatterpolargl"
           }
          ],
          "scatterternary": [
           {
            "marker": {
             "colorbar": {
              "outlinewidth": 0,
              "ticks": ""
             }
            },
            "type": "scatterternary"
           }
          ],
          "surface": [
           {
            "colorbar": {
             "outlinewidth": 0,
             "ticks": ""
            },
            "colorscale": [
             [
              0,
              "#0d0887"
             ],
             [
              0.1111111111111111,
              "#46039f"
             ],
             [
              0.2222222222222222,
              "#7201a8"
             ],
             [
              0.3333333333333333,
              "#9c179e"
             ],
             [
              0.4444444444444444,
              "#bd3786"
             ],
             [
              0.5555555555555556,
              "#d8576b"
             ],
             [
              0.6666666666666666,
              "#ed7953"
             ],
             [
              0.7777777777777778,
              "#fb9f3a"
             ],
             [
              0.8888888888888888,
              "#fdca26"
             ],
             [
              1,
              "#f0f921"
             ]
            ],
            "type": "surface"
           }
          ],
          "table": [
           {
            "cells": {
             "fill": {
              "color": "#EBF0F8"
             },
             "line": {
              "color": "white"
             }
            },
            "header": {
             "fill": {
              "color": "#C8D4E3"
             },
             "line": {
              "color": "white"
             }
            },
            "type": "table"
           }
          ]
         },
         "layout": {
          "annotationdefaults": {
           "arrowcolor": "#2a3f5f",
           "arrowhead": 0,
           "arrowwidth": 1
          },
          "autotypenumbers": "strict",
          "coloraxis": {
           "colorbar": {
            "outlinewidth": 0,
            "ticks": ""
           }
          },
          "colorscale": {
           "diverging": [
            [
             0,
             "#8e0152"
            ],
            [
             0.1,
             "#c51b7d"
            ],
            [
             0.2,
             "#de77ae"
            ],
            [
             0.3,
             "#f1b6da"
            ],
            [
             0.4,
             "#fde0ef"
            ],
            [
             0.5,
             "#f7f7f7"
            ],
            [
             0.6,
             "#e6f5d0"
            ],
            [
             0.7,
             "#b8e186"
            ],
            [
             0.8,
             "#7fbc41"
            ],
            [
             0.9,
             "#4d9221"
            ],
            [
             1,
             "#276419"
            ]
           ],
           "sequential": [
            [
             0,
             "#0d0887"
            ],
            [
             0.1111111111111111,
             "#46039f"
            ],
            [
             0.2222222222222222,
             "#7201a8"
            ],
            [
             0.3333333333333333,
             "#9c179e"
            ],
            [
             0.4444444444444444,
             "#bd3786"
            ],
            [
             0.5555555555555556,
             "#d8576b"
            ],
            [
             0.6666666666666666,
             "#ed7953"
            ],
            [
             0.7777777777777778,
             "#fb9f3a"
            ],
            [
             0.8888888888888888,
             "#fdca26"
            ],
            [
             1,
             "#f0f921"
            ]
           ],
           "sequentialminus": [
            [
             0,
             "#0d0887"
            ],
            [
             0.1111111111111111,
             "#46039f"
            ],
            [
             0.2222222222222222,
             "#7201a8"
            ],
            [
             0.3333333333333333,
             "#9c179e"
            ],
            [
             0.4444444444444444,
             "#bd3786"
            ],
            [
             0.5555555555555556,
             "#d8576b"
            ],
            [
             0.6666666666666666,
             "#ed7953"
            ],
            [
             0.7777777777777778,
             "#fb9f3a"
            ],
            [
             0.8888888888888888,
             "#fdca26"
            ],
            [
             1,
             "#f0f921"
            ]
           ]
          },
          "colorway": [
           "#636efa",
           "#EF553B",
           "#00cc96",
           "#ab63fa",
           "#FFA15A",
           "#19d3f3",
           "#FF6692",
           "#B6E880",
           "#FF97FF",
           "#FECB52"
          ],
          "font": {
           "color": "#2a3f5f"
          },
          "geo": {
           "bgcolor": "white",
           "lakecolor": "white",
           "landcolor": "#E5ECF6",
           "showlakes": true,
           "showland": true,
           "subunitcolor": "white"
          },
          "hoverlabel": {
           "align": "left"
          },
          "hovermode": "closest",
          "mapbox": {
           "style": "light"
          },
          "paper_bgcolor": "white",
          "plot_bgcolor": "#E5ECF6",
          "polar": {
           "angularaxis": {
            "gridcolor": "white",
            "linecolor": "white",
            "ticks": ""
           },
           "bgcolor": "#E5ECF6",
           "radialaxis": {
            "gridcolor": "white",
            "linecolor": "white",
            "ticks": ""
           }
          },
          "scene": {
           "xaxis": {
            "backgroundcolor": "#E5ECF6",
            "gridcolor": "white",
            "gridwidth": 2,
            "linecolor": "white",
            "showbackground": true,
            "ticks": "",
            "zerolinecolor": "white"
           },
           "yaxis": {
            "backgroundcolor": "#E5ECF6",
            "gridcolor": "white",
            "gridwidth": 2,
            "linecolor": "white",
            "showbackground": true,
            "ticks": "",
            "zerolinecolor": "white"
           },
           "zaxis": {
            "backgroundcolor": "#E5ECF6",
            "gridcolor": "white",
            "gridwidth": 2,
            "linecolor": "white",
            "showbackground": true,
            "ticks": "",
            "zerolinecolor": "white"
           }
          },
          "shapedefaults": {
           "line": {
            "color": "#2a3f5f"
           }
          },
          "ternary": {
           "aaxis": {
            "gridcolor": "white",
            "linecolor": "white",
            "ticks": ""
           },
           "baxis": {
            "gridcolor": "white",
            "linecolor": "white",
            "ticks": ""
           },
           "bgcolor": "#E5ECF6",
           "caxis": {
            "gridcolor": "white",
            "linecolor": "white",
            "ticks": ""
           }
          },
          "title": {
           "x": 0.05
          },
          "xaxis": {
           "automargin": true,
           "gridcolor": "white",
           "linecolor": "white",
           "ticks": "",
           "title": {
            "standoff": 15
           },
           "zerolinecolor": "white",
           "zerolinewidth": 2
          },
          "yaxis": {
           "automargin": true,
           "gridcolor": "white",
           "linecolor": "white",
           "ticks": "",
           "title": {
            "standoff": 15
           },
           "zerolinecolor": "white",
           "zerolinewidth": 2
          }
         }
        },
        "title": {
         "font": {
          "family": "Arial",
          "size": 24,
          "weight": "bold"
         },
         "text": "Распределение количества жанров"
        },
        "width": 1000,
        "xaxis": {
         "anchor": "y",
         "domain": [
          0,
          1
         ],
         "dtick": 1,
         "gridcolor": "lightgray",
         "griddash": "dash",
         "gridwidth": 1,
         "linecolor": "black",
         "linewidth": 1,
         "showline": true,
         "showticklabels": true,
         "tickcolor": "black",
         "tickfont": {
          "size": 16
         },
         "ticklen": 6,
         "tickmode": "linear",
         "ticks": "outside",
         "tickwidth": 2,
         "title": {
          "font": {
           "family": "Arial",
           "size": 20
          },
          "text": "Количество жанров"
         }
        },
        "yaxis": {
         "anchor": "x",
         "domain": [
          0,
          1
         ],
         "dtick": 100,
         "gridcolor": "lightgray",
         "griddash": "dash",
         "gridwidth": 1,
         "linecolor": "black",
         "linewidth": 1,
         "showline": true,
         "showticklabels": true,
         "tickfont": {
          "size": 16
         },
         "ticklen": 6,
         "tickmode": "linear",
         "ticks": "outside",
         "tickwidth": 2,
         "title": {
          "font": {
           "family": "Arial",
           "size": 20
          },
          "text": "Количество фильмов"
         }
        }
       }
      }
     },
     "metadata": {},
     "output_type": "display_data"
    }
   ],
   "source": [
    "# genres_sum.head()\n",
    "fig_5 = px.bar(\n",
    "    x=for_barplot.index,\n",
    "    y=for_barplot[\"id\"],\n",
    "    title=\"Распределение количества жанров\",\n",
    ")\n",
    "fig_5.update_layout(\n",
    "    width=1000,  # ширина в пикселях\n",
    "    height=600,  # высота в пикселях\n",
    "    # autosize=False,  # отключаем авторазмер\n",
    "    xaxis_title=\"Количество жанров\",\n",
    "    yaxis_title=\"Количество фильмов\",\n",
    "    # title_font=dict(size=24, family=\"Arial\", weight=\"bold\"),\n",
    ")\n",
    "fig_5.update_traces(\n",
    "    marker=dict(line=dict(width=1.5, color=\"black\"))  # Толщина рамки  # Цвет рамки\n",
    ")\n",
    "# fig_5.update_layout(\n",
    "#     xaxis=dict(tickangle=-45)  # Поворот на 45 градусов против часовой стрелки\n",
    "# )\n",
    "fig_5.update_traces(\n",
    "    texttemplate=\"%{y}\",  # Формат текста (значение y)\n",
    "    textposition=\"outside\",  # Положение: 'outside', 'inside', 'auto', 'none'\n",
    "    textfont=dict(\n",
    "        size=14, family=\"Arial\", color=\"black\"\n",
    "    ),  # Размер шрифта  # Цвет текста\n",
    ")\n",
    "fig_5.update_layout(\n",
    "    xaxis=dict(\n",
    "        showticklabels=True,\n",
    "        tickmode=\"linear\",\n",
    "        ticks=\"outside\",  # Ticks снаружи: 'outside', 'inside', ''\n",
    "        ticklen=6,  # Длина ticks\n",
    "        tickwidth=2,  # Толщина ticks\n",
    "        tickcolor=\"black\",  # Цвет ticks\n",
    "        dtick=1,\n",
    "        # tickmode='array',  # Режим ручной установки\n",
    "        # tickvals=[0, 1, 2, 3],  # Позиции ticks\n",
    "        # ticktext=['Категория A', 'Категория B', 'Категория C', 'Категория D']  # Подписи\n",
    "    ),\n",
    "    yaxis=dict(\n",
    "        showticklabels=True,\n",
    "        tickmode=\"linear\",\n",
    "        dtick=100,\n",
    "        ticks=\"outside\",  # Ticks снаружи: 'outside', 'inside', ''\n",
    "        ticklen=6,  # Длина ticks\n",
    "        tickwidth=2,  # Толщина ticks\n",
    "        # tickmode=\"linear\",\n",
    "        # dtick=5\n",
    "    ),\n",
    ")\n",
    "fig_5 = configure_plotly_theme(fig_5)\n",
    "fig_5.show()"
   ]
  },
  {
   "cell_type": "markdown",
   "id": "ee0c11c3-511e-4e08-861b-c0ec496f5fc9",
   "metadata": {},
   "source": [
    "- корреляцонная матрица жанров (какие-то жанры близки между собой, а какие-то противоречивы, корреляционная матрица поможет понять, какие жанры связаны между собой больше всего)"
   ]
  },
  {
   "cell_type": "code",
   "execution_count": 18,
   "id": "49136f19-9597-4c09-a01f-97c7c3a4d8c5",
   "metadata": {},
   "outputs": [
    {
     "data": {
      "text/html": [
       "<div>\n",
       "<style scoped>\n",
       "    .dataframe tbody tr th:only-of-type {\n",
       "        vertical-align: middle;\n",
       "    }\n",
       "\n",
       "    .dataframe tbody tr th {\n",
       "        vertical-align: top;\n",
       "    }\n",
       "\n",
       "    .dataframe thead th {\n",
       "        text-align: right;\n",
       "    }\n",
       "</style>\n",
       "<table border=\"1\" class=\"dataframe\">\n",
       "  <thead>\n",
       "    <tr style=\"text-align: right;\">\n",
       "      <th></th>\n",
       "      <th>Action</th>\n",
       "      <th>Adventure</th>\n",
       "      <th>Animation</th>\n",
       "      <th>Children's</th>\n",
       "      <th>Comedy</th>\n",
       "      <th>Crime</th>\n",
       "      <th>Documentary</th>\n",
       "      <th>Drama</th>\n",
       "      <th>Fantasy</th>\n",
       "      <th>Film-Noir</th>\n",
       "      <th>Horror</th>\n",
       "      <th>Musical</th>\n",
       "      <th>Mystery</th>\n",
       "      <th>Romance</th>\n",
       "      <th>Sci-Fi</th>\n",
       "      <th>Thriller</th>\n",
       "      <th>War</th>\n",
       "      <th>Western</th>\n",
       "    </tr>\n",
       "  </thead>\n",
       "  <tbody>\n",
       "    <tr>\n",
       "      <th>0</th>\n",
       "      <td>0</td>\n",
       "      <td>0</td>\n",
       "      <td>1</td>\n",
       "      <td>1</td>\n",
       "      <td>1</td>\n",
       "      <td>0</td>\n",
       "      <td>0</td>\n",
       "      <td>0</td>\n",
       "      <td>0</td>\n",
       "      <td>0</td>\n",
       "      <td>0</td>\n",
       "      <td>0</td>\n",
       "      <td>0</td>\n",
       "      <td>0</td>\n",
       "      <td>0</td>\n",
       "      <td>0</td>\n",
       "      <td>0</td>\n",
       "      <td>0</td>\n",
       "    </tr>\n",
       "    <tr>\n",
       "      <th>1</th>\n",
       "      <td>1</td>\n",
       "      <td>1</td>\n",
       "      <td>0</td>\n",
       "      <td>0</td>\n",
       "      <td>0</td>\n",
       "      <td>0</td>\n",
       "      <td>0</td>\n",
       "      <td>0</td>\n",
       "      <td>0</td>\n",
       "      <td>0</td>\n",
       "      <td>0</td>\n",
       "      <td>0</td>\n",
       "      <td>0</td>\n",
       "      <td>0</td>\n",
       "      <td>0</td>\n",
       "      <td>1</td>\n",
       "      <td>0</td>\n",
       "      <td>0</td>\n",
       "    </tr>\n",
       "    <tr>\n",
       "      <th>2</th>\n",
       "      <td>0</td>\n",
       "      <td>0</td>\n",
       "      <td>0</td>\n",
       "      <td>0</td>\n",
       "      <td>0</td>\n",
       "      <td>0</td>\n",
       "      <td>0</td>\n",
       "      <td>0</td>\n",
       "      <td>0</td>\n",
       "      <td>0</td>\n",
       "      <td>0</td>\n",
       "      <td>0</td>\n",
       "      <td>0</td>\n",
       "      <td>0</td>\n",
       "      <td>0</td>\n",
       "      <td>1</td>\n",
       "      <td>0</td>\n",
       "      <td>0</td>\n",
       "    </tr>\n",
       "    <tr>\n",
       "      <th>3</th>\n",
       "      <td>1</td>\n",
       "      <td>0</td>\n",
       "      <td>0</td>\n",
       "      <td>0</td>\n",
       "      <td>1</td>\n",
       "      <td>0</td>\n",
       "      <td>0</td>\n",
       "      <td>1</td>\n",
       "      <td>0</td>\n",
       "      <td>0</td>\n",
       "      <td>0</td>\n",
       "      <td>0</td>\n",
       "      <td>0</td>\n",
       "      <td>0</td>\n",
       "      <td>0</td>\n",
       "      <td>0</td>\n",
       "      <td>0</td>\n",
       "      <td>0</td>\n",
       "    </tr>\n",
       "    <tr>\n",
       "      <th>4</th>\n",
       "      <td>0</td>\n",
       "      <td>0</td>\n",
       "      <td>0</td>\n",
       "      <td>0</td>\n",
       "      <td>0</td>\n",
       "      <td>1</td>\n",
       "      <td>0</td>\n",
       "      <td>1</td>\n",
       "      <td>0</td>\n",
       "      <td>0</td>\n",
       "      <td>0</td>\n",
       "      <td>0</td>\n",
       "      <td>0</td>\n",
       "      <td>0</td>\n",
       "      <td>0</td>\n",
       "      <td>1</td>\n",
       "      <td>0</td>\n",
       "      <td>0</td>\n",
       "    </tr>\n",
       "  </tbody>\n",
       "</table>\n",
       "</div>"
      ],
      "text/plain": [
       "   Action  Adventure  Animation  Children's  Comedy  Crime  Documentary  \\\n",
       "0       0          0          1           1       1      0            0   \n",
       "1       1          1          0           0       0      0            0   \n",
       "2       0          0          0           0       0      0            0   \n",
       "3       1          0          0           0       1      0            0   \n",
       "4       0          0          0           0       0      1            0   \n",
       "\n",
       "   Drama  Fantasy  Film-Noir  Horror  Musical  Mystery  Romance  Sci-Fi  \\\n",
       "0      0        0          0       0        0        0        0       0   \n",
       "1      0        0          0       0        0        0        0       0   \n",
       "2      0        0          0       0        0        0        0       0   \n",
       "3      1        0          0       0        0        0        0       0   \n",
       "4      1        0          0       0        0        0        0       0   \n",
       "\n",
       "   Thriller  War  Western  \n",
       "0         0    0        0  \n",
       "1         1    0        0  \n",
       "2         1    0        0  \n",
       "3         0    0        0  \n",
       "4         1    0        0  "
      ]
     },
     "execution_count": 18,
     "metadata": {},
     "output_type": "execute_result"
    }
   ],
   "source": [
    "genres.head()"
   ]
  },
  {
   "cell_type": "code",
   "execution_count": 19,
   "id": "0c19b288",
   "metadata": {},
   "outputs": [
    {
     "data": {
      "application/vnd.plotly.v1+json": {
       "config": {
        "plotlyServerURL": "https://plot.ly"
       },
       "data": [
        {
         "coloraxis": "coloraxis",
         "hovertemplate": "x: %{x}<br>y: %{y}<br>color: %{z}<extra></extra>",
         "name": "0",
         "texttemplate": "%{z:.2f}",
         "type": "heatmap",
         "x": [
          "Action",
          "Adventure",
          "Animation",
          "Children's",
          "Comedy",
          "Crime",
          "Documentary",
          "Drama",
          "Fantasy",
          "Film-Noir",
          "Horror",
          "Musical",
          "Mystery",
          "Romance",
          "Sci-Fi",
          "Thriller",
          "War",
          "Western"
         ],
         "xaxis": "x",
         "y": [
          "Action",
          "Adventure",
          "Animation",
          "Children's",
          "Comedy",
          "Crime",
          "Documentary",
          "Drama",
          "Fantasy",
          "Film-Noir",
          "Horror",
          "Musical",
          "Mystery",
          "Romance",
          "Sci-Fi",
          "Thriller",
          "War",
          "Western"
         ],
         "yaxis": "y",
         "z": {
          "bdata": "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",
          "dtype": "f8",
          "shape": "18, 18"
         }
        }
       ],
       "layout": {
        "coloraxis": {
         "cmax": 1,
         "cmin": -1,
         "colorscale": [
          [
           0,
           "blue"
          ],
          [
           0.5,
           "white"
          ],
          [
           1,
           "red"
          ]
         ]
        },
        "font": {
         "size": 16
        },
        "height": 1000,
        "paper_bgcolor": "white",
        "plot_bgcolor": "white",
        "template": {
         "data": {
          "bar": [
           {
            "error_x": {
             "color": "#2a3f5f"
            },
            "error_y": {
             "color": "#2a3f5f"
            },
            "marker": {
             "line": {
              "color": "#E5ECF6",
              "width": 0.5
             },
             "pattern": {
              "fillmode": "overlay",
              "size": 10,
              "solidity": 0.2
             }
            },
            "type": "bar"
           }
          ],
          "barpolar": [
           {
            "marker": {
             "line": {
              "color": "#E5ECF6",
              "width": 0.5
             },
             "pattern": {
              "fillmode": "overlay",
              "size": 10,
              "solidity": 0.2
             }
            },
            "type": "barpolar"
           }
          ],
          "carpet": [
           {
            "aaxis": {
             "endlinecolor": "#2a3f5f",
             "gridcolor": "white",
             "linecolor": "white",
             "minorgridcolor": "white",
             "startlinecolor": "#2a3f5f"
            },
            "baxis": {
             "endlinecolor": "#2a3f5f",
             "gridcolor": "white",
             "linecolor": "white",
             "minorgridcolor": "white",
             "startlinecolor": "#2a3f5f"
            },
            "type": "carpet"
           }
          ],
          "choropleth": [
           {
            "colorbar": {
             "outlinewidth": 0,
             "ticks": ""
            },
            "type": "choropleth"
           }
          ],
          "contour": [
           {
            "colorbar": {
             "outlinewidth": 0,
             "ticks": ""
            },
            "colorscale": [
             [
              0,
              "#0d0887"
             ],
             [
              0.1111111111111111,
              "#46039f"
             ],
             [
              0.2222222222222222,
              "#7201a8"
             ],
             [
              0.3333333333333333,
              "#9c179e"
             ],
             [
              0.4444444444444444,
              "#bd3786"
             ],
             [
              0.5555555555555556,
              "#d8576b"
             ],
             [
              0.6666666666666666,
              "#ed7953"
             ],
             [
              0.7777777777777778,
              "#fb9f3a"
             ],
             [
              0.8888888888888888,
              "#fdca26"
             ],
             [
              1,
              "#f0f921"
             ]
            ],
            "type": "contour"
           }
          ],
          "contourcarpet": [
           {
            "colorbar": {
             "outlinewidth": 0,
             "ticks": ""
            },
            "type": "contourcarpet"
           }
          ],
          "heatmap": [
           {
            "colorbar": {
             "outlinewidth": 0,
             "ticks": ""
            },
            "colorscale": [
             [
              0,
              "#0d0887"
             ],
             [
              0.1111111111111111,
              "#46039f"
             ],
             [
              0.2222222222222222,
              "#7201a8"
             ],
             [
              0.3333333333333333,
              "#9c179e"
             ],
             [
              0.4444444444444444,
              "#bd3786"
             ],
             [
              0.5555555555555556,
              "#d8576b"
             ],
             [
              0.6666666666666666,
              "#ed7953"
             ],
             [
              0.7777777777777778,
              "#fb9f3a"
             ],
             [
              0.8888888888888888,
              "#fdca26"
             ],
             [
              1,
              "#f0f921"
             ]
            ],
            "type": "heatmap"
           }
          ],
          "histogram": [
           {
            "marker": {
             "pattern": {
              "fillmode": "overlay",
              "size": 10,
              "solidity": 0.2
             }
            },
            "type": "histogram"
           }
          ],
          "histogram2d": [
           {
            "colorbar": {
             "outlinewidth": 0,
             "ticks": ""
            },
            "colorscale": [
             [
              0,
              "#0d0887"
             ],
             [
              0.1111111111111111,
              "#46039f"
             ],
             [
              0.2222222222222222,
              "#7201a8"
             ],
             [
              0.3333333333333333,
              "#9c179e"
             ],
             [
              0.4444444444444444,
              "#bd3786"
             ],
             [
              0.5555555555555556,
              "#d8576b"
             ],
             [
              0.6666666666666666,
              "#ed7953"
             ],
             [
              0.7777777777777778,
              "#fb9f3a"
             ],
             [
              0.8888888888888888,
              "#fdca26"
             ],
             [
              1,
              "#f0f921"
             ]
            ],
            "type": "histogram2d"
           }
          ],
          "histogram2dcontour": [
           {
            "colorbar": {
             "outlinewidth": 0,
             "ticks": ""
            },
            "colorscale": [
             [
              0,
              "#0d0887"
             ],
             [
              0.1111111111111111,
              "#46039f"
             ],
             [
              0.2222222222222222,
              "#7201a8"
             ],
             [
              0.3333333333333333,
              "#9c179e"
             ],
             [
              0.4444444444444444,
              "#bd3786"
             ],
             [
              0.5555555555555556,
              "#d8576b"
             ],
             [
              0.6666666666666666,
              "#ed7953"
             ],
             [
              0.7777777777777778,
              "#fb9f3a"
             ],
             [
              0.8888888888888888,
              "#fdca26"
             ],
             [
              1,
              "#f0f921"
             ]
            ],
            "type": "histogram2dcontour"
           }
          ],
          "mesh3d": [
           {
            "colorbar": {
             "outlinewidth": 0,
             "ticks": ""
            },
            "type": "mesh3d"
           }
          ],
          "parcoords": [
           {
            "line": {
             "colorbar": {
              "outlinewidth": 0,
              "ticks": ""
             }
            },
            "type": "parcoords"
           }
          ],
          "pie": [
           {
            "automargin": true,
            "type": "pie"
           }
          ],
          "scatter": [
           {
            "fillpattern": {
             "fillmode": "overlay",
             "size": 10,
             "solidity": 0.2
            },
            "type": "scatter"
           }
          ],
          "scatter3d": [
           {
            "line": {
             "colorbar": {
              "outlinewidth": 0,
              "ticks": ""
             }
            },
            "marker": {
             "colorbar": {
              "outlinewidth": 0,
              "ticks": ""
             }
            },
            "type": "scatter3d"
           }
          ],
          "scattercarpet": [
           {
            "marker": {
             "colorbar": {
              "outlinewidth": 0,
              "ticks": ""
             }
            },
            "type": "scattercarpet"
           }
          ],
          "scattergeo": [
           {
            "marker": {
             "colorbar": {
              "outlinewidth": 0,
              "ticks": ""
             }
            },
            "type": "scattergeo"
           }
          ],
          "scattergl": [
           {
            "marker": {
             "colorbar": {
              "outlinewidth": 0,
              "ticks": ""
             }
            },
            "type": "scattergl"
           }
          ],
          "scattermap": [
           {
            "marker": {
             "colorbar": {
              "outlinewidth": 0,
              "ticks": ""
             }
            },
            "type": "scattermap"
           }
          ],
          "scattermapbox": [
           {
            "marker": {
             "colorbar": {
              "outlinewidth": 0,
              "ticks": ""
             }
            },
            "type": "scattermapbox"
           }
          ],
          "scatterpolar": [
           {
            "marker": {
             "colorbar": {
              "outlinewidth": 0,
              "ticks": ""
             }
            },
            "type": "scatterpolar"
           }
          ],
          "scatterpolargl": [
           {
            "marker": {
             "colorbar": {
              "outlinewidth": 0,
              "ticks": ""
             }
            },
            "type": "scatterpolargl"
           }
          ],
          "scatterternary": [
           {
            "marker": {
             "colorbar": {
              "outlinewidth": 0,
              "ticks": ""
             }
            },
            "type": "scatterternary"
           }
          ],
          "surface": [
           {
            "colorbar": {
             "outlinewidth": 0,
             "ticks": ""
            },
            "colorscale": [
             [
              0,
              "#0d0887"
             ],
             [
              0.1111111111111111,
              "#46039f"
             ],
             [
              0.2222222222222222,
              "#7201a8"
             ],
             [
              0.3333333333333333,
              "#9c179e"
             ],
             [
              0.4444444444444444,
              "#bd3786"
             ],
             [
              0.5555555555555556,
              "#d8576b"
             ],
             [
              0.6666666666666666,
              "#ed7953"
             ],
             [
              0.7777777777777778,
              "#fb9f3a"
             ],
             [
              0.8888888888888888,
              "#fdca26"
             ],
             [
              1,
              "#f0f921"
             ]
            ],
            "type": "surface"
           }
          ],
          "table": [
           {
            "cells": {
             "fill": {
              "color": "#EBF0F8"
             },
             "line": {
              "color": "white"
             }
            },
            "header": {
             "fill": {
              "color": "#C8D4E3"
             },
             "line": {
              "color": "white"
             }
            },
            "type": "table"
           }
          ]
         },
         "layout": {
          "annotationdefaults": {
           "arrowcolor": "#2a3f5f",
           "arrowhead": 0,
           "arrowwidth": 1
          },
          "autotypenumbers": "strict",
          "coloraxis": {
           "colorbar": {
            "outlinewidth": 0,
            "ticks": ""
           }
          },
          "colorscale": {
           "diverging": [
            [
             0,
             "#8e0152"
            ],
            [
             0.1,
             "#c51b7d"
            ],
            [
             0.2,
             "#de77ae"
            ],
            [
             0.3,
             "#f1b6da"
            ],
            [
             0.4,
             "#fde0ef"
            ],
            [
             0.5,
             "#f7f7f7"
            ],
            [
             0.6,
             "#e6f5d0"
            ],
            [
             0.7,
             "#b8e186"
            ],
            [
             0.8,
             "#7fbc41"
            ],
            [
             0.9,
             "#4d9221"
            ],
            [
             1,
             "#276419"
            ]
           ],
           "sequential": [
            [
             0,
             "#0d0887"
            ],
            [
             0.1111111111111111,
             "#46039f"
            ],
            [
             0.2222222222222222,
             "#7201a8"
            ],
            [
             0.3333333333333333,
             "#9c179e"
            ],
            [
             0.4444444444444444,
             "#bd3786"
            ],
            [
             0.5555555555555556,
             "#d8576b"
            ],
            [
             0.6666666666666666,
             "#ed7953"
            ],
            [
             0.7777777777777778,
             "#fb9f3a"
            ],
            [
             0.8888888888888888,
             "#fdca26"
            ],
            [
             1,
             "#f0f921"
            ]
           ],
           "sequentialminus": [
            [
             0,
             "#0d0887"
            ],
            [
             0.1111111111111111,
             "#46039f"
            ],
            [
             0.2222222222222222,
             "#7201a8"
            ],
            [
             0.3333333333333333,
             "#9c179e"
            ],
            [
             0.4444444444444444,
             "#bd3786"
            ],
            [
             0.5555555555555556,
             "#d8576b"
            ],
            [
             0.6666666666666666,
             "#ed7953"
            ],
            [
             0.7777777777777778,
             "#fb9f3a"
            ],
            [
             0.8888888888888888,
             "#fdca26"
            ],
            [
             1,
             "#f0f921"
            ]
           ]
          },
          "colorway": [
           "#636efa",
           "#EF553B",
           "#00cc96",
           "#ab63fa",
           "#FFA15A",
           "#19d3f3",
           "#FF6692",
           "#B6E880",
           "#FF97FF",
           "#FECB52"
          ],
          "font": {
           "color": "#2a3f5f"
          },
          "geo": {
           "bgcolor": "white",
           "lakecolor": "white",
           "landcolor": "#E5ECF6",
           "showlakes": true,
           "showland": true,
           "subunitcolor": "white"
          },
          "hoverlabel": {
           "align": "left"
          },
          "hovermode": "closest",
          "mapbox": {
           "style": "light"
          },
          "paper_bgcolor": "white",
          "plot_bgcolor": "#E5ECF6",
          "polar": {
           "angularaxis": {
            "gridcolor": "white",
            "linecolor": "white",
            "ticks": ""
           },
           "bgcolor": "#E5ECF6",
           "radialaxis": {
            "gridcolor": "white",
            "linecolor": "white",
            "ticks": ""
           }
          },
          "scene": {
           "xaxis": {
            "backgroundcolor": "#E5ECF6",
            "gridcolor": "white",
            "gridwidth": 2,
            "linecolor": "white",
            "showbackground": true,
            "ticks": "",
            "zerolinecolor": "white"
           },
           "yaxis": {
            "backgroundcolor": "#E5ECF6",
            "gridcolor": "white",
            "gridwidth": 2,
            "linecolor": "white",
            "showbackground": true,
            "ticks": "",
            "zerolinecolor": "white"
           },
           "zaxis": {
            "backgroundcolor": "#E5ECF6",
            "gridcolor": "white",
            "gridwidth": 2,
            "linecolor": "white",
            "showbackground": true,
            "ticks": "",
            "zerolinecolor": "white"
           }
          },
          "shapedefaults": {
           "line": {
            "color": "#2a3f5f"
           }
          },
          "ternary": {
           "aaxis": {
            "gridcolor": "white",
            "linecolor": "white",
            "ticks": ""
           },
           "baxis": {
            "gridcolor": "white",
            "linecolor": "white",
            "ticks": ""
           },
           "bgcolor": "#E5ECF6",
           "caxis": {
            "gridcolor": "white",
            "linecolor": "white",
            "ticks": ""
           }
          },
          "title": {
           "x": 0.05
          },
          "xaxis": {
           "automargin": true,
           "gridcolor": "white",
           "linecolor": "white",
           "ticks": "",
           "title": {
            "standoff": 15
           },
           "zerolinecolor": "white",
           "zerolinewidth": 2
          },
          "yaxis": {
           "automargin": true,
           "gridcolor": "white",
           "linecolor": "white",
           "ticks": "",
           "title": {
            "standoff": 15
           },
           "zerolinecolor": "white",
           "zerolinewidth": 2
          }
         }
        },
        "title": {
         "font": {
          "family": "Arial",
          "size": 24,
          "weight": "bold"
         },
         "text": "Корреляционная матрица"
        },
        "width": 1000,
        "xaxis": {
         "anchor": "y",
         "constrain": "domain",
         "domain": [
          0,
          1
         ],
         "scaleanchor": "y",
         "tickfont": {
          "size": 16
         },
         "title": {
          "font": {
           "family": "Arial",
           "size": 20
          }
         }
        },
        "yaxis": {
         "anchor": "x",
         "autorange": "reversed",
         "constrain": "domain",
         "domain": [
          0,
          1
         ],
         "tickfont": {
          "size": 16
         },
         "title": {
          "font": {
           "family": "Arial",
           "size": 20
          }
         }
        }
       }
      }
     },
     "metadata": {},
     "output_type": "display_data"
    }
   ],
   "source": [
    "corr_matrix = genres.corr()\n",
    "\n",
    "fig_6 = px.imshow(\n",
    "    corr_matrix,\n",
    "    text_auto=\".2f\",  # Формат чисел с 2 знаками после запятой\n",
    "    color_continuous_scale=[\"blue\", \"white\", \"red\"],\n",
    "    zmin=-1,  # Минимальное значение шкалы\n",
    "    zmax=1,  # Максимальное значение шкалы\n",
    "    title=\"Корреляционная матрица\",\n",
    ")\n",
    "\n",
    "# Настройка внешнего вида\n",
    "fig_6.update_layout(\n",
    "    width=1000,\n",
    "    height=1000,\n",
    "    # xaxis_title=\"Переменные\", yaxis_title=\"Переменные\"\n",
    ")\n",
    "fig_6.update_layout(\n",
    "    plot_bgcolor=\"white\",\n",
    "    paper_bgcolor=\"white\",\n",
    "    font=dict(size=16),\n",
    "    xaxis=dict(\n",
    "        title_font=dict(size=20),\n",
    "        tickfont=dict(size=16),\n",
    "        # gridcolor=\"lightgray\",\n",
    "        # gridwidth=1,\n",
    "        # griddash=\"dash\",\n",
    "        # showline=True,\n",
    "        # linecolor=\"black\",\n",
    "        # linewidth=1,\n",
    "    ),\n",
    "    yaxis=dict(\n",
    "        title_font=dict(size=20),\n",
    "        tickfont=dict(size=16),\n",
    "        # gridcolor=\"lightgray\",\n",
    "        # gridwidth=1,\n",
    "        # griddash=\"dash\",\n",
    "        # showline=True,\n",
    "        # linecolor=\"black\",\n",
    "        # linewidth=1,\n",
    "    ),\n",
    "    title_font=dict(size=24, family=\"Arial\", weight=\"bold\"),\n",
    ")\n",
    "fig_6.update_xaxes(\n",
    "    # title_text=\"Название оси X\",\n",
    "    title_font=dict(size=20, family=\"Arial\")\n",
    ")\n",
    "fig_6.update_yaxes(\n",
    "    # title_text=\"Название оси Y\",\n",
    "    title_font=dict(size=20, family=\"Arial\")\n",
    ")\n",
    "fig_6.show()"
   ]
  },
  {
   "cell_type": "markdown",
   "id": "1ff33cfa-a490-4ed9-8e9c-939d763bd8f2",
   "metadata": {},
   "source": [
    "# ❓\n",
    "\n",
    "Найди два жанра, которые больше всего близки друг к другу и запиши ответ в ячейку ниже"
   ]
  },
  {
   "cell_type": "markdown",
   "id": "98dd39ff-6279-448a-98f3-3434fc697636",
   "metadata": {},
   "source": [
    "> Children и Animation"
   ]
  },
  {
   "cell_type": "markdown",
   "id": "5d5b719c-3350-4a0c-843a-e975a5acee15",
   "metadata": {},
   "source": [
    "<img src=\"https://icons.iconarchive.com/icons/icons8/windows-8/256/Programming-Github-icon.png\" width=32 /> Пора сохранить изменения для __github__. После пуша распечатай результат команды `!git status` в ячейке ниже."
   ]
  },
  {
   "cell_type": "code",
   "execution_count": 20,
   "id": "a1ddc9f3-9352-433b-b73c-cf89a51fb974",
   "metadata": {},
   "outputs": [],
   "source": [
    "# code"
   ]
  },
  {
   "cell_type": "markdown",
   "id": "44549035-c506-45ee-9f2a-83938ae4bba8",
   "metadata": {},
   "source": [
    "### Анализ рейтинга 🔢\n",
    "Рейтинг - самое информативное, что у тебя есть. \n",
    "\n",
    "1. Построй распределение количества оценок, поставленных пользователем. Это должна быть функция, которая принимает на вход `user_id`, а на выходе возвращает словарь вида: \n",
    "    \n",
    "`{1: <число оценок 1, 2: <число оценок 2>, ..., 5 <число оценок 5>}`\n",
    "\n",
    "На основе этой результата данной функции должен строиться словарь. "
   ]
  },
  {
   "cell_type": "code",
   "execution_count": 21,
   "id": "82e75730",
   "metadata": {},
   "outputs": [
    {
     "data": {
      "text/html": [
       "<div>\n",
       "<style scoped>\n",
       "    .dataframe tbody tr th:only-of-type {\n",
       "        vertical-align: middle;\n",
       "    }\n",
       "\n",
       "    .dataframe tbody tr th {\n",
       "        vertical-align: top;\n",
       "    }\n",
       "\n",
       "    .dataframe thead th {\n",
       "        text-align: right;\n",
       "    }\n",
       "</style>\n",
       "<table border=\"1\" class=\"dataframe\">\n",
       "  <thead>\n",
       "    <tr style=\"text-align: right;\">\n",
       "      <th></th>\n",
       "      <th>user_id</th>\n",
       "      <th>movie_id</th>\n",
       "      <th>rating</th>\n",
       "      <th>unix_timestamp</th>\n",
       "      <th>title</th>\n",
       "    </tr>\n",
       "  </thead>\n",
       "  <tbody>\n",
       "    <tr>\n",
       "      <th>0</th>\n",
       "      <td>196</td>\n",
       "      <td>242</td>\n",
       "      <td>3</td>\n",
       "      <td>881250949</td>\n",
       "      <td>Kolya (1996)</td>\n",
       "    </tr>\n",
       "    <tr>\n",
       "      <th>1</th>\n",
       "      <td>186</td>\n",
       "      <td>302</td>\n",
       "      <td>3</td>\n",
       "      <td>891717742</td>\n",
       "      <td>L.A. Confidential (1997)</td>\n",
       "    </tr>\n",
       "    <tr>\n",
       "      <th>2</th>\n",
       "      <td>22</td>\n",
       "      <td>377</td>\n",
       "      <td>1</td>\n",
       "      <td>878887116</td>\n",
       "      <td>Heavyweights (1994)</td>\n",
       "    </tr>\n",
       "    <tr>\n",
       "      <th>3</th>\n",
       "      <td>244</td>\n",
       "      <td>51</td>\n",
       "      <td>2</td>\n",
       "      <td>880606923</td>\n",
       "      <td>Legends of the Fall (1994)</td>\n",
       "    </tr>\n",
       "    <tr>\n",
       "      <th>4</th>\n",
       "      <td>166</td>\n",
       "      <td>346</td>\n",
       "      <td>1</td>\n",
       "      <td>886397596</td>\n",
       "      <td>Jackie Brown (1997)</td>\n",
       "    </tr>\n",
       "  </tbody>\n",
       "</table>\n",
       "</div>"
      ],
      "text/plain": [
       "   user_id  movie_id  rating  unix_timestamp                       title\n",
       "0      196       242       3       881250949                Kolya (1996)\n",
       "1      186       302       3       891717742    L.A. Confidential (1997)\n",
       "2       22       377       1       878887116         Heavyweights (1994)\n",
       "3      244        51       2       880606923  Legends of the Fall (1994)\n",
       "4      166       346       1       886397596         Jackie Brown (1997)"
      ]
     },
     "execution_count": 21,
     "metadata": {},
     "output_type": "execute_result"
    }
   ],
   "source": [
    "ratings.head()"
   ]
  },
  {
   "cell_type": "code",
   "execution_count": 22,
   "id": "cab236a5",
   "metadata": {},
   "outputs": [
    {
     "data": {
      "text/html": [
       "<div>\n",
       "<style scoped>\n",
       "    .dataframe tbody tr th:only-of-type {\n",
       "        vertical-align: middle;\n",
       "    }\n",
       "\n",
       "    .dataframe tbody tr th {\n",
       "        vertical-align: top;\n",
       "    }\n",
       "\n",
       "    .dataframe thead th {\n",
       "        text-align: right;\n",
       "    }\n",
       "</style>\n",
       "<table border=\"1\" class=\"dataframe\">\n",
       "  <thead>\n",
       "    <tr style=\"text-align: right;\">\n",
       "      <th></th>\n",
       "      <th>user_id</th>\n",
       "      <th>movie_id</th>\n",
       "      <th>rating</th>\n",
       "      <th>unix_timestamp</th>\n",
       "      <th>title</th>\n",
       "    </tr>\n",
       "  </thead>\n",
       "  <tbody>\n",
       "    <tr>\n",
       "      <th>41842</th>\n",
       "      <td>1</td>\n",
       "      <td>46</td>\n",
       "      <td>4</td>\n",
       "      <td>876893230</td>\n",
       "      <td>Exotica (1994)</td>\n",
       "    </tr>\n",
       "    <tr>\n",
       "      <th>38751</th>\n",
       "      <td>1</td>\n",
       "      <td>257</td>\n",
       "      <td>4</td>\n",
       "      <td>874965954</td>\n",
       "      <td>Men in Black (1997)</td>\n",
       "    </tr>\n",
       "    <tr>\n",
       "      <th>8976</th>\n",
       "      <td>1</td>\n",
       "      <td>12</td>\n",
       "      <td>5</td>\n",
       "      <td>878542960</td>\n",
       "      <td>Usual Suspects, The (1995)</td>\n",
       "    </tr>\n",
       "    <tr>\n",
       "      <th>3248</th>\n",
       "      <td>1</td>\n",
       "      <td>74</td>\n",
       "      <td>1</td>\n",
       "      <td>889751736</td>\n",
       "      <td>Faster Pussycat! Kill! Kill! (1965)</td>\n",
       "    </tr>\n",
       "    <tr>\n",
       "      <th>3260</th>\n",
       "      <td>1</td>\n",
       "      <td>134</td>\n",
       "      <td>4</td>\n",
       "      <td>875073067</td>\n",
       "      <td>Citizen Kane (1941)</td>\n",
       "    </tr>\n",
       "    <tr>\n",
       "      <th>...</th>\n",
       "      <td>...</td>\n",
       "      <td>...</td>\n",
       "      <td>...</td>\n",
       "      <td>...</td>\n",
       "      <td>...</td>\n",
       "    </tr>\n",
       "    <tr>\n",
       "      <th>95594</th>\n",
       "      <td>943</td>\n",
       "      <td>217</td>\n",
       "      <td>3</td>\n",
       "      <td>888640067</td>\n",
       "      <td>Bram Stoker's Dracula (1992)</td>\n",
       "    </tr>\n",
       "    <tr>\n",
       "      <th>77956</th>\n",
       "      <td>943</td>\n",
       "      <td>94</td>\n",
       "      <td>4</td>\n",
       "      <td>888639929</td>\n",
       "      <td>Home Alone (1990)</td>\n",
       "    </tr>\n",
       "    <tr>\n",
       "      <th>76855</th>\n",
       "      <td>943</td>\n",
       "      <td>943</td>\n",
       "      <td>5</td>\n",
       "      <td>888639614</td>\n",
       "      <td>Killing Zoe (1994)</td>\n",
       "    </tr>\n",
       "    <tr>\n",
       "      <th>94966</th>\n",
       "      <td>943</td>\n",
       "      <td>566</td>\n",
       "      <td>4</td>\n",
       "      <td>888639886</td>\n",
       "      <td>Clear and Present Danger (1994)</td>\n",
       "    </tr>\n",
       "    <tr>\n",
       "      <th>90134</th>\n",
       "      <td>943</td>\n",
       "      <td>2</td>\n",
       "      <td>5</td>\n",
       "      <td>888639953</td>\n",
       "      <td>GoldenEye (1995)</td>\n",
       "    </tr>\n",
       "  </tbody>\n",
       "</table>\n",
       "<p>100000 rows × 5 columns</p>\n",
       "</div>"
      ],
      "text/plain": [
       "       user_id  movie_id  rating  unix_timestamp  \\\n",
       "41842        1        46       4       876893230   \n",
       "38751        1       257       4       874965954   \n",
       "8976         1        12       5       878542960   \n",
       "3248         1        74       1       889751736   \n",
       "3260         1       134       4       875073067   \n",
       "...        ...       ...     ...             ...   \n",
       "95594      943       217       3       888640067   \n",
       "77956      943        94       4       888639929   \n",
       "76855      943       943       5       888639614   \n",
       "94966      943       566       4       888639886   \n",
       "90134      943         2       5       888639953   \n",
       "\n",
       "                                     title  \n",
       "41842                       Exotica (1994)  \n",
       "38751                  Men in Black (1997)  \n",
       "8976            Usual Suspects, The (1995)  \n",
       "3248   Faster Pussycat! Kill! Kill! (1965)  \n",
       "3260                   Citizen Kane (1941)  \n",
       "...                                    ...  \n",
       "95594         Bram Stoker's Dracula (1992)  \n",
       "77956                    Home Alone (1990)  \n",
       "76855                   Killing Zoe (1994)  \n",
       "94966      Clear and Present Danger (1994)  \n",
       "90134                     GoldenEye (1995)  \n",
       "\n",
       "[100000 rows x 5 columns]"
      ]
     },
     "execution_count": 22,
     "metadata": {},
     "output_type": "execute_result"
    }
   ],
   "source": [
    "ratings.sort_values(\"user_id\")"
   ]
  },
  {
   "cell_type": "code",
   "execution_count": 23,
   "id": "ca934862",
   "metadata": {},
   "outputs": [
    {
     "data": {
      "text/plain": [
       "5"
      ]
     },
     "execution_count": 23,
     "metadata": {},
     "output_type": "execute_result"
    }
   ],
   "source": [
    "ratings[\"rating\"].nunique()"
   ]
  },
  {
   "cell_type": "code",
   "execution_count": 24,
   "id": "be0b1a87",
   "metadata": {},
   "outputs": [
    {
     "data": {
      "text/plain": [
       "10"
      ]
     },
     "execution_count": 24,
     "metadata": {},
     "output_type": "execute_result"
    }
   ],
   "source": [
    "temp = ratings.groupby([\"user_id\", \"rating\"]).count()[\"movie_id\"]\n",
    "# user_ratings = {}\n",
    "# user_ratings[1] = temp[1][1]\n",
    "# user_ratings\n",
    "temp[8][3]\n",
    "# temp"
   ]
  },
  {
   "cell_type": "code",
   "execution_count": 25,
   "id": "06eda556",
   "metadata": {},
   "outputs": [],
   "source": [
    "def get_user_ratings(user_id: int) -> dict:\n",
    "    # temp = ratings.groupby([\"user_id\", \"rating\"]).count()[\"movie_id\"]\n",
    "    user_ratings = {}\n",
    "    user_series = temp.loc[user_id]\n",
    "    for i in range(1, 6):\n",
    "        user_ratings[i] = user_series.get(i, 0)\n",
    "    return user_ratings"
   ]
  },
  {
   "cell_type": "code",
   "execution_count": 26,
   "id": "d4c7b1e9-6cd1-46a3-b0ff-fb2f8aee5f3e",
   "metadata": {},
   "outputs": [
    {
     "data": {
      "text/plain": [
       "{1: 5, 2: 19, 3: 81, 4: 96, 5: 16}"
      ]
     },
     "execution_count": 26,
     "metadata": {},
     "output_type": "execute_result"
    }
   ],
   "source": [
    "get_user_ratings(456)"
   ]
  },
  {
   "cell_type": "markdown",
   "id": "b74f141c-a492-466a-a1ef-96ad03b54e2e",
   "metadata": {},
   "source": [
    "2. Построй распределение средней оценки по пользователям. Для этого нужно узнать, какая средняя оценка у каждого пользователя, а после этого построить распределение. "
   ]
  },
  {
   "cell_type": "code",
   "execution_count": 27,
   "id": "103bc657",
   "metadata": {},
   "outputs": [],
   "source": [
    "def get_mean_rating(user_id: int) -> np.float64:\n",
    "    user_ratings = get_user_ratings(user_id)\n",
    "    sum_for_mean = 0\n",
    "    for i in user_ratings.keys():\n",
    "        sum_for_mean += user_ratings[i] * i\n",
    "    return sum_for_mean / sum(user_ratings.values())"
   ]
  },
  {
   "cell_type": "code",
   "execution_count": 28,
   "id": "8d0a9fc9",
   "metadata": {},
   "outputs": [
    {
     "data": {
      "text/plain": [
       "3.610294117647059"
      ]
     },
     "execution_count": 28,
     "metadata": {},
     "output_type": "execute_result"
    }
   ],
   "source": [
    "get_mean_rating(1)"
   ]
  },
  {
   "cell_type": "code",
   "execution_count": 29,
   "id": "30fb1468",
   "metadata": {},
   "outputs": [],
   "source": [
    "aver_rating_distrib = users[\"user_id\"].copy().reset_index()\n",
    "# aver_rating_distrib[\"nunique_ratings\"] = aver_rating_distrib[\"user_id\"].map(\n",
    "#     lambda x: len(get_user_ratings(x).keys())\n",
    "# )\n",
    "aver_rating_distrib[\"mean_rating\"] = aver_rating_distrib[\"user_id\"].map(get_mean_rating)\n",
    "# get_mean_rating(aver_rating_distrib.loc[0, \"user_id\"])"
   ]
  },
  {
   "cell_type": "code",
   "execution_count": 30,
   "id": "8a56bfa4",
   "metadata": {},
   "outputs": [
    {
     "data": {
      "text/html": [
       "<div>\n",
       "<style scoped>\n",
       "    .dataframe tbody tr th:only-of-type {\n",
       "        vertical-align: middle;\n",
       "    }\n",
       "\n",
       "    .dataframe tbody tr th {\n",
       "        vertical-align: top;\n",
       "    }\n",
       "\n",
       "    .dataframe thead th {\n",
       "        text-align: right;\n",
       "    }\n",
       "</style>\n",
       "<table border=\"1\" class=\"dataframe\">\n",
       "  <thead>\n",
       "    <tr style=\"text-align: right;\">\n",
       "      <th></th>\n",
       "      <th>index</th>\n",
       "      <th>user_id</th>\n",
       "      <th>mean_rating</th>\n",
       "    </tr>\n",
       "  </thead>\n",
       "  <tbody>\n",
       "    <tr>\n",
       "      <th>0</th>\n",
       "      <td>0</td>\n",
       "      <td>1</td>\n",
       "      <td>3.610294</td>\n",
       "    </tr>\n",
       "    <tr>\n",
       "      <th>1</th>\n",
       "      <td>1</td>\n",
       "      <td>2</td>\n",
       "      <td>3.709677</td>\n",
       "    </tr>\n",
       "    <tr>\n",
       "      <th>2</th>\n",
       "      <td>2</td>\n",
       "      <td>3</td>\n",
       "      <td>2.796296</td>\n",
       "    </tr>\n",
       "    <tr>\n",
       "      <th>3</th>\n",
       "      <td>3</td>\n",
       "      <td>4</td>\n",
       "      <td>4.333333</td>\n",
       "    </tr>\n",
       "    <tr>\n",
       "      <th>4</th>\n",
       "      <td>4</td>\n",
       "      <td>5</td>\n",
       "      <td>2.874286</td>\n",
       "    </tr>\n",
       "    <tr>\n",
       "      <th>...</th>\n",
       "      <td>...</td>\n",
       "      <td>...</td>\n",
       "      <td>...</td>\n",
       "    </tr>\n",
       "    <tr>\n",
       "      <th>938</th>\n",
       "      <td>938</td>\n",
       "      <td>939</td>\n",
       "      <td>4.265306</td>\n",
       "    </tr>\n",
       "    <tr>\n",
       "      <th>939</th>\n",
       "      <td>939</td>\n",
       "      <td>940</td>\n",
       "      <td>3.457944</td>\n",
       "    </tr>\n",
       "    <tr>\n",
       "      <th>940</th>\n",
       "      <td>940</td>\n",
       "      <td>941</td>\n",
       "      <td>4.045455</td>\n",
       "    </tr>\n",
       "    <tr>\n",
       "      <th>941</th>\n",
       "      <td>941</td>\n",
       "      <td>942</td>\n",
       "      <td>4.265823</td>\n",
       "    </tr>\n",
       "    <tr>\n",
       "      <th>942</th>\n",
       "      <td>942</td>\n",
       "      <td>943</td>\n",
       "      <td>3.410714</td>\n",
       "    </tr>\n",
       "  </tbody>\n",
       "</table>\n",
       "<p>943 rows × 3 columns</p>\n",
       "</div>"
      ],
      "text/plain": [
       "     index  user_id  mean_rating\n",
       "0        0        1     3.610294\n",
       "1        1        2     3.709677\n",
       "2        2        3     2.796296\n",
       "3        3        4     4.333333\n",
       "4        4        5     2.874286\n",
       "..     ...      ...          ...\n",
       "938    938      939     4.265306\n",
       "939    939      940     3.457944\n",
       "940    940      941     4.045455\n",
       "941    941      942     4.265823\n",
       "942    942      943     3.410714\n",
       "\n",
       "[943 rows x 3 columns]"
      ]
     },
     "execution_count": 30,
     "metadata": {},
     "output_type": "execute_result"
    }
   ],
   "source": [
    "aver_rating_distrib"
   ]
  },
  {
   "cell_type": "code",
   "execution_count": 31,
   "id": "59d62630-998f-421e-b9f3-a36189b596fb",
   "metadata": {},
   "outputs": [
    {
     "data": {
      "application/vnd.plotly.v1+json": {
       "config": {
        "plotlyServerURL": "https://plot.ly"
       },
       "data": [
        {
         "hovertemplate": "x=%{x}<br>density=%{y}<extra></extra>",
         "legendgroup": "",
         "line": {
          "color": "#636efa",
          "dash": "solid"
         },
         "marker": {
          "line": {
           "color": "black",
           "width": 1
          },
          "symbol": "circle"
         },
         "mode": "lines",
         "name": "",
         "orientation": "v",
         "showlegend": false,
         "type": "scatter",
         "x": {
          "bdata": "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",
          "dtype": "f8"
         },
         "xaxis": "x",
         "y": {
          "bdata": "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",
          "dtype": "f8"
         },
         "yaxis": "y"
        }
       ],
       "layout": {
        "font": {
         "size": 14
        },
        "height": 600,
        "legend": {
         "tracegroupgap": 0
        },
        "paper_bgcolor": "white",
        "plot_bgcolor": "white",
        "showlegend": false,
        "template": {
         "data": {
          "bar": [
           {
            "error_x": {
             "color": "#2a3f5f"
            },
            "error_y": {
             "color": "#2a3f5f"
            },
            "marker": {
             "line": {
              "color": "#E5ECF6",
              "width": 0.5
             },
             "pattern": {
              "fillmode": "overlay",
              "size": 10,
              "solidity": 0.2
             }
            },
            "type": "bar"
           }
          ],
          "barpolar": [
           {
            "marker": {
             "line": {
              "color": "#E5ECF6",
              "width": 0.5
             },
             "pattern": {
              "fillmode": "overlay",
              "size": 10,
              "solidity": 0.2
             }
            },
            "type": "barpolar"
           }
          ],
          "carpet": [
           {
            "aaxis": {
             "endlinecolor": "#2a3f5f",
             "gridcolor": "white",
             "linecolor": "white",
             "minorgridcolor": "white",
             "startlinecolor": "#2a3f5f"
            },
            "baxis": {
             "endlinecolor": "#2a3f5f",
             "gridcolor": "white",
             "linecolor": "white",
             "minorgridcolor": "white",
             "startlinecolor": "#2a3f5f"
            },
            "type": "carpet"
           }
          ],
          "choropleth": [
           {
            "colorbar": {
             "outlinewidth": 0,
             "ticks": ""
            },
            "type": "choropleth"
           }
          ],
          "contour": [
           {
            "colorbar": {
             "outlinewidth": 0,
             "ticks": ""
            },
            "colorscale": [
             [
              0,
              "#0d0887"
             ],
             [
              0.1111111111111111,
              "#46039f"
             ],
             [
              0.2222222222222222,
              "#7201a8"
             ],
             [
              0.3333333333333333,
              "#9c179e"
             ],
             [
              0.4444444444444444,
              "#bd3786"
             ],
             [
              0.5555555555555556,
              "#d8576b"
             ],
             [
              0.6666666666666666,
              "#ed7953"
             ],
             [
              0.7777777777777778,
              "#fb9f3a"
             ],
             [
              0.8888888888888888,
              "#fdca26"
             ],
             [
              1,
              "#f0f921"
             ]
            ],
            "type": "contour"
           }
          ],
          "contourcarpet": [
           {
            "colorbar": {
             "outlinewidth": 0,
             "ticks": ""
            },
            "type": "contourcarpet"
           }
          ],
          "heatmap": [
           {
            "colorbar": {
             "outlinewidth": 0,
             "ticks": ""
            },
            "colorscale": [
             [
              0,
              "#0d0887"
             ],
             [
              0.1111111111111111,
              "#46039f"
             ],
             [
              0.2222222222222222,
              "#7201a8"
             ],
             [
              0.3333333333333333,
              "#9c179e"
             ],
             [
              0.4444444444444444,
              "#bd3786"
             ],
             [
              0.5555555555555556,
              "#d8576b"
             ],
             [
              0.6666666666666666,
              "#ed7953"
             ],
             [
              0.7777777777777778,
              "#fb9f3a"
             ],
             [
              0.8888888888888888,
              "#fdca26"
             ],
             [
              1,
              "#f0f921"
             ]
            ],
            "type": "heatmap"
           }
          ],
          "histogram": [
           {
            "marker": {
             "pattern": {
              "fillmode": "overlay",
              "size": 10,
              "solidity": 0.2
             }
            },
            "type": "histogram"
           }
          ],
          "histogram2d": [
           {
            "colorbar": {
             "outlinewidth": 0,
             "ticks": ""
            },
            "colorscale": [
             [
              0,
              "#0d0887"
             ],
             [
              0.1111111111111111,
              "#46039f"
             ],
             [
              0.2222222222222222,
              "#7201a8"
             ],
             [
              0.3333333333333333,
              "#9c179e"
             ],
             [
              0.4444444444444444,
              "#bd3786"
             ],
             [
              0.5555555555555556,
              "#d8576b"
             ],
             [
              0.6666666666666666,
              "#ed7953"
             ],
             [
              0.7777777777777778,
              "#fb9f3a"
             ],
             [
              0.8888888888888888,
              "#fdca26"
             ],
             [
              1,
              "#f0f921"
             ]
            ],
            "type": "histogram2d"
           }
          ],
          "histogram2dcontour": [
           {
            "colorbar": {
             "outlinewidth": 0,
             "ticks": ""
            },
            "colorscale": [
             [
              0,
              "#0d0887"
             ],
             [
              0.1111111111111111,
              "#46039f"
             ],
             [
              0.2222222222222222,
              "#7201a8"
             ],
             [
              0.3333333333333333,
              "#9c179e"
             ],
             [
              0.4444444444444444,
              "#bd3786"
             ],
             [
              0.5555555555555556,
              "#d8576b"
             ],
             [
              0.6666666666666666,
              "#ed7953"
             ],
             [
              0.7777777777777778,
              "#fb9f3a"
             ],
             [
              0.8888888888888888,
              "#fdca26"
             ],
             [
              1,
              "#f0f921"
             ]
            ],
            "type": "histogram2dcontour"
           }
          ],
          "mesh3d": [
           {
            "colorbar": {
             "outlinewidth": 0,
             "ticks": ""
            },
            "type": "mesh3d"
           }
          ],
          "parcoords": [
           {
            "line": {
             "colorbar": {
              "outlinewidth": 0,
              "ticks": ""
             }
            },
            "type": "parcoords"
           }
          ],
          "pie": [
           {
            "automargin": true,
            "type": "pie"
           }
          ],
          "scatter": [
           {
            "fillpattern": {
             "fillmode": "overlay",
             "size": 10,
             "solidity": 0.2
            },
            "type": "scatter"
           }
          ],
          "scatter3d": [
           {
            "line": {
             "colorbar": {
              "outlinewidth": 0,
              "ticks": ""
             }
            },
            "marker": {
             "colorbar": {
              "outlinewidth": 0,
              "ticks": ""
             }
            },
            "type": "scatter3d"
           }
          ],
          "scattercarpet": [
           {
            "marker": {
             "colorbar": {
              "outlinewidth": 0,
              "ticks": ""
             }
            },
            "type": "scattercarpet"
           }
          ],
          "scattergeo": [
           {
            "marker": {
             "colorbar": {
              "outlinewidth": 0,
              "ticks": ""
             }
            },
            "type": "scattergeo"
           }
          ],
          "scattergl": [
           {
            "marker": {
             "colorbar": {
              "outlinewidth": 0,
              "ticks": ""
             }
            },
            "type": "scattergl"
           }
          ],
          "scattermap": [
           {
            "marker": {
             "colorbar": {
              "outlinewidth": 0,
              "ticks": ""
             }
            },
            "type": "scattermap"
           }
          ],
          "scattermapbox": [
           {
            "marker": {
             "colorbar": {
              "outlinewidth": 0,
              "ticks": ""
             }
            },
            "type": "scattermapbox"
           }
          ],
          "scatterpolar": [
           {
            "marker": {
             "colorbar": {
              "outlinewidth": 0,
              "ticks": ""
             }
            },
            "type": "scatterpolar"
           }
          ],
          "scatterpolargl": [
           {
            "marker": {
             "colorbar": {
              "outlinewidth": 0,
              "ticks": ""
             }
            },
            "type": "scatterpolargl"
           }
          ],
          "scatterternary": [
           {
            "marker": {
             "colorbar": {
              "outlinewidth": 0,
              "ticks": ""
             }
            },
            "type": "scatterternary"
           }
          ],
          "surface": [
           {
            "colorbar": {
             "outlinewidth": 0,
             "ticks": ""
            },
            "colorscale": [
             [
              0,
              "#0d0887"
             ],
             [
              0.1111111111111111,
              "#46039f"
             ],
             [
              0.2222222222222222,
              "#7201a8"
             ],
             [
              0.3333333333333333,
              "#9c179e"
             ],
             [
              0.4444444444444444,
              "#bd3786"
             ],
             [
              0.5555555555555556,
              "#d8576b"
             ],
             [
              0.6666666666666666,
              "#ed7953"
             ],
             [
              0.7777777777777778,
              "#fb9f3a"
             ],
             [
              0.8888888888888888,
              "#fdca26"
             ],
             [
              1,
              "#f0f921"
             ]
            ],
            "type": "surface"
           }
          ],
          "table": [
           {
            "cells": {
             "fill": {
              "color": "#EBF0F8"
             },
             "line": {
              "color": "white"
             }
            },
            "header": {
             "fill": {
              "color": "#C8D4E3"
             },
             "line": {
              "color": "white"
             }
            },
            "type": "table"
           }
          ]
         },
         "layout": {
          "annotationdefaults": {
           "arrowcolor": "#2a3f5f",
           "arrowhead": 0,
           "arrowwidth": 1
          },
          "autotypenumbers": "strict",
          "coloraxis": {
           "colorbar": {
            "outlinewidth": 0,
            "ticks": ""
           }
          },
          "colorscale": {
           "diverging": [
            [
             0,
             "#8e0152"
            ],
            [
             0.1,
             "#c51b7d"
            ],
            [
             0.2,
             "#de77ae"
            ],
            [
             0.3,
             "#f1b6da"
            ],
            [
             0.4,
             "#fde0ef"
            ],
            [
             0.5,
             "#f7f7f7"
            ],
            [
             0.6,
             "#e6f5d0"
            ],
            [
             0.7,
             "#b8e186"
            ],
            [
             0.8,
             "#7fbc41"
            ],
            [
             0.9,
             "#4d9221"
            ],
            [
             1,
             "#276419"
            ]
           ],
           "sequential": [
            [
             0,
             "#0d0887"
            ],
            [
             0.1111111111111111,
             "#46039f"
            ],
            [
             0.2222222222222222,
             "#7201a8"
            ],
            [
             0.3333333333333333,
             "#9c179e"
            ],
            [
             0.4444444444444444,
             "#bd3786"
            ],
            [
             0.5555555555555556,
             "#d8576b"
            ],
            [
             0.6666666666666666,
             "#ed7953"
            ],
            [
             0.7777777777777778,
             "#fb9f3a"
            ],
            [
             0.8888888888888888,
             "#fdca26"
            ],
            [
             1,
             "#f0f921"
            ]
           ],
           "sequentialminus": [
            [
             0,
             "#0d0887"
            ],
            [
             0.1111111111111111,
             "#46039f"
            ],
            [
             0.2222222222222222,
             "#7201a8"
            ],
            [
             0.3333333333333333,
             "#9c179e"
            ],
            [
             0.4444444444444444,
             "#bd3786"
            ],
            [
             0.5555555555555556,
             "#d8576b"
            ],
            [
             0.6666666666666666,
             "#ed7953"
            ],
            [
             0.7777777777777778,
             "#fb9f3a"
            ],
            [
             0.8888888888888888,
             "#fdca26"
            ],
            [
             1,
             "#f0f921"
            ]
           ]
          },
          "colorway": [
           "#636efa",
           "#EF553B",
           "#00cc96",
           "#ab63fa",
           "#FFA15A",
           "#19d3f3",
           "#FF6692",
           "#B6E880",
           "#FF97FF",
           "#FECB52"
          ],
          "font": {
           "color": "#2a3f5f"
          },
          "geo": {
           "bgcolor": "white",
           "lakecolor": "white",
           "landcolor": "#E5ECF6",
           "showlakes": true,
           "showland": true,
           "subunitcolor": "white"
          },
          "hoverlabel": {
           "align": "left"
          },
          "hovermode": "closest",
          "mapbox": {
           "style": "light"
          },
          "paper_bgcolor": "white",
          "plot_bgcolor": "#E5ECF6",
          "polar": {
           "angularaxis": {
            "gridcolor": "white",
            "linecolor": "white",
            "ticks": ""
           },
           "bgcolor": "#E5ECF6",
           "radialaxis": {
            "gridcolor": "white",
            "linecolor": "white",
            "ticks": ""
           }
          },
          "scene": {
           "xaxis": {
            "backgroundcolor": "#E5ECF6",
            "gridcolor": "white",
            "gridwidth": 2,
            "linecolor": "white",
            "showbackground": true,
            "ticks": "",
            "zerolinecolor": "white"
           },
           "yaxis": {
            "backgroundcolor": "#E5ECF6",
            "gridcolor": "white",
            "gridwidth": 2,
            "linecolor": "white",
            "showbackground": true,
            "ticks": "",
            "zerolinecolor": "white"
           },
           "zaxis": {
            "backgroundcolor": "#E5ECF6",
            "gridcolor": "white",
            "gridwidth": 2,
            "linecolor": "white",
            "showbackground": true,
            "ticks": "",
            "zerolinecolor": "white"
           }
          },
          "shapedefaults": {
           "line": {
            "color": "#2a3f5f"
           }
          },
          "ternary": {
           "aaxis": {
            "gridcolor": "white",
            "linecolor": "white",
            "ticks": ""
           },
           "baxis": {
            "gridcolor": "white",
            "linecolor": "white",
            "ticks": ""
           },
           "bgcolor": "#E5ECF6",
           "caxis": {
            "gridcolor": "white",
            "linecolor": "white",
            "ticks": ""
           }
          },
          "title": {
           "x": 0.05
          },
          "xaxis": {
           "automargin": true,
           "gridcolor": "white",
           "linecolor": "white",
           "ticks": "",
           "title": {
            "standoff": 15
           },
           "zerolinecolor": "white",
           "zerolinewidth": 2
          },
          "yaxis": {
           "automargin": true,
           "gridcolor": "white",
           "linecolor": "white",
           "ticks": "",
           "title": {
            "standoff": 15
           },
           "zerolinecolor": "white",
           "zerolinewidth": 2
          }
         }
        },
        "title": {
         "font": {
          "family": "Arial",
          "size": 24,
          "weight": "bold"
         },
         "text": "Распределение средних оценок"
        },
        "width": 800,
        "xaxis": {
         "anchor": "y",
         "domain": [
          0,
          1
         ],
         "dtick": 1,
         "gridcolor": "lightgray",
         "griddash": "dash",
         "gridwidth": 1,
         "linecolor": "black",
         "linewidth": 1,
         "showline": true,
         "showticklabels": true,
         "tickcolor": "black",
         "tickfont": {
          "size": 16
         },
         "ticklen": 6,
         "tickmode": "linear",
         "ticks": "outside",
         "tickwidth": 2,
         "title": {
          "font": {
           "family": "Arial",
           "size": 20
          },
          "text": "Оценка"
         }
        },
        "yaxis": {
         "anchor": "x",
         "domain": [
          0,
          1
         ],
         "dtick": 0.1,
         "gridcolor": "lightgray",
         "griddash": "dash",
         "gridwidth": 1,
         "linecolor": "black",
         "linewidth": 1,
         "showline": true,
         "showticklabels": true,
         "tickfont": {
          "size": 16
         },
         "ticklen": 6,
         "tickmode": "linear",
         "ticks": "inside",
         "tickwidth": 2,
         "title": {
          "font": {
           "family": "Arial",
           "size": 20
          },
          "text": "Нормированное кол-во оценок"
         }
        }
       }
      }
     },
     "metadata": {},
     "output_type": "display_data"
    }
   ],
   "source": [
    "kde = scipy.stats.gaussian_kde(aver_rating_distrib[\"mean_rating\"])\n",
    "x = np.linspace(\n",
    "    min(aver_rating_distrib[\"mean_rating\"]),\n",
    "    max(aver_rating_distrib[\"mean_rating\"]),\n",
    "    200,\n",
    ")\n",
    "y_vals = kde(x)\n",
    "df_kde = pd.DataFrame({\"x\": x, \"density\": y_vals})\n",
    "fig_7 = px.line(df_kde, x=\"x\", y=\"density\", title=\"Распределение средних оценок\")\n",
    "fig_7.update_layout(\n",
    "    width=800,  # ширина в пикселях\n",
    "    height=600,  # высота в пикселях\n",
    "    # autosize=False,  # отключаем авторазмер\n",
    "    xaxis_title=\"Оценка\",\n",
    "    yaxis_title=\"Нормированное кол-во оценок\",\n",
    "    # title_font=dict(size=24, family=\"Arial\", weight=\"bold\"),\n",
    "    showlegend=False,\n",
    ")\n",
    "fig_7.update_layout(\n",
    "    xaxis=dict(\n",
    "        showticklabels=True,\n",
    "        tickmode=\"linear\",\n",
    "        ticks=\"outside\",  # Ticks снаружи: 'outside', 'inside', ''\n",
    "        ticklen=6,  # Длина ticks\n",
    "        tickwidth=2,  # Толщина ticks\n",
    "        tickcolor=\"black\",  # Цвет ticks\n",
    "        dtick=1,\n",
    "        # tickmode='array',  # Режим ручной установки\n",
    "        # tickvals=[0, 1, 2, 3],  # Позиции ticks\n",
    "        # ticktext=['Категория A', 'Категория B', 'Категория C', 'Категория D']  # Подписи\n",
    "    ),\n",
    "    yaxis=dict(\n",
    "        showticklabels=True,\n",
    "        tickmode=\"linear\",\n",
    "        dtick=0.1,\n",
    "        ticks=\"inside\",  # Ticks снаружи: 'outside', 'inside', ''\n",
    "        ticklen=6,  # Длина ticks\n",
    "        tickwidth=2,  # Толщина ticks\n",
    "        # tickmode=\"linear\",\n",
    "        # dtick=5\n",
    "    ),\n",
    ")\n",
    "fig_7 = configure_plotly_theme(fig_7)\n",
    "fig_7.update_traces(marker=dict(line=dict(width=1, color=\"black\")))\n",
    "fig_7.show()"
   ]
  },
  {
   "cell_type": "markdown",
   "id": "d360e57a-87f9-4a66-b35b-b949bc3c57ee",
   "metadata": {},
   "source": [
    "3. Построй распределение количества оценок, поставленных фильму. Каждый фильм оценен разное количество раз. Узнай, сколько оценок у каждого фильма, а после визуализируй это на гистограмме.  "
   ]
  },
  {
   "cell_type": "code",
   "execution_count": 33,
   "id": "90346414-afe2-4fe0-b84e-4796cf224281",
   "metadata": {},
   "outputs": [
    {
     "name": "stdout",
     "output_type": "stream",
     "text": [
      "1664\n",
      "0\n",
      "1682\n"
     ]
    },
    {
     "data": {
      "text/html": [
       "<div>\n",
       "<style scoped>\n",
       "    .dataframe tbody tr th:only-of-type {\n",
       "        vertical-align: middle;\n",
       "    }\n",
       "\n",
       "    .dataframe tbody tr th {\n",
       "        vertical-align: top;\n",
       "    }\n",
       "\n",
       "    .dataframe thead th {\n",
       "        text-align: right;\n",
       "    }\n",
       "</style>\n",
       "<table border=\"1\" class=\"dataframe\">\n",
       "  <thead>\n",
       "    <tr style=\"text-align: right;\">\n",
       "      <th></th>\n",
       "      <th>user_id</th>\n",
       "      <th>movie_id</th>\n",
       "      <th>rating</th>\n",
       "      <th>unix_timestamp</th>\n",
       "      <th>title</th>\n",
       "    </tr>\n",
       "  </thead>\n",
       "  <tbody>\n",
       "    <tr>\n",
       "      <th>0</th>\n",
       "      <td>196</td>\n",
       "      <td>242</td>\n",
       "      <td>3</td>\n",
       "      <td>881250949</td>\n",
       "      <td>Kolya (1996)</td>\n",
       "    </tr>\n",
       "    <tr>\n",
       "      <th>1</th>\n",
       "      <td>186</td>\n",
       "      <td>302</td>\n",
       "      <td>3</td>\n",
       "      <td>891717742</td>\n",
       "      <td>L.A. Confidential (1997)</td>\n",
       "    </tr>\n",
       "  </tbody>\n",
       "</table>\n",
       "</div>"
      ],
      "text/plain": [
       "   user_id  movie_id  rating  unix_timestamp                     title\n",
       "0      196       242       3       881250949              Kolya (1996)\n",
       "1      186       302       3       891717742  L.A. Confidential (1997)"
      ]
     },
     "execution_count": 33,
     "metadata": {},
     "output_type": "execute_result"
    }
   ],
   "source": [
    "print(ratings[\"title\"].nunique())\n",
    "print(ratings[\"title\"].isna().sum())\n",
    "print(ratings[\"movie_id\"].nunique())\n",
    "ratings.head(2)"
   ]
  },
  {
   "cell_type": "code",
   "execution_count": 34,
   "id": "b04904a6",
   "metadata": {},
   "outputs": [
    {
     "data": {
      "text/plain": [
       "movie_id\n",
       "1    452\n",
       "2    131\n",
       "3     90\n",
       "4    209\n",
       "5     86\n",
       "Name: user_id, dtype: int64"
      ]
     },
     "execution_count": 34,
     "metadata": {},
     "output_type": "execute_result"
    }
   ],
   "source": [
    "movies_ratings_count = ratings.groupby(\"movie_id\").count()[\"user_id\"]\n",
    "movies_ratings_count = movies_ratings_count.sort_index()\n",
    "movies_ratings_count.head(5)"
   ]
  },
  {
   "cell_type": "code",
   "execution_count": 35,
   "id": "3926b34a",
   "metadata": {},
   "outputs": [
    {
     "data": {
      "text/plain": [
       "movie_id\n",
       "50     583\n",
       "100    508\n",
       "181    507\n",
       "258    509\n",
       "Name: user_id, dtype: int64"
      ]
     },
     "execution_count": 35,
     "metadata": {},
     "output_type": "execute_result"
    }
   ],
   "source": [
    "movies_ratings_count[movies_ratings_count > 500]"
   ]
  },
  {
   "cell_type": "code",
   "execution_count": 36,
   "id": "5d60f5cf",
   "metadata": {},
   "outputs": [
    {
     "data": {
      "application/vnd.plotly.v1+json": {
       "config": {
        "plotlyServerURL": "https://plot.ly"
       },
       "data": [
        {
         "bingroup": "x",
         "hovertemplate": "variable=user_id<br>value=%{x}<br>count=%{y}<extra></extra>",
         "legendgroup": "user_id",
         "marker": {
          "color": "#636efa",
          "line": {
           "color": "black",
           "width": 1
          },
          "pattern": {
           "shape": ""
          }
         },
         "name": "user_id",
         "nbinsx": 200,
         "orientation": "v",
         "showlegend": true,
         "type": "histogram",
         "x": {
          "bdata": "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",
          "dtype": "i2"
         },
         "xaxis": "x",
         "yaxis": "y"
        }
       ],
       "layout": {
        "barmode": "relative",
        "font": {
         "size": 14
        },
        "height": 600,
        "legend": {
         "title": {
          "text": "variable"
         },
         "tracegroupgap": 0
        },
        "paper_bgcolor": "white",
        "plot_bgcolor": "white",
        "showlegend": false,
        "template": {
         "data": {
          "bar": [
           {
            "error_x": {
             "color": "#2a3f5f"
            },
            "error_y": {
             "color": "#2a3f5f"
            },
            "marker": {
             "line": {
              "color": "#E5ECF6",
              "width": 0.5
             },
             "pattern": {
              "fillmode": "overlay",
              "size": 10,
              "solidity": 0.2
             }
            },
            "type": "bar"
           }
          ],
          "barpolar": [
           {
            "marker": {
             "line": {
              "color": "#E5ECF6",
              "width": 0.5
             },
             "pattern": {
              "fillmode": "overlay",
              "size": 10,
              "solidity": 0.2
             }
            },
            "type": "barpolar"
           }
          ],
          "carpet": [
           {
            "aaxis": {
             "endlinecolor": "#2a3f5f",
             "gridcolor": "white",
             "linecolor": "white",
             "minorgridcolor": "white",
             "startlinecolor": "#2a3f5f"
            },
            "baxis": {
             "endlinecolor": "#2a3f5f",
             "gridcolor": "white",
             "linecolor": "white",
             "minorgridcolor": "white",
             "startlinecolor": "#2a3f5f"
            },
            "type": "carpet"
           }
          ],
          "choropleth": [
           {
            "colorbar": {
             "outlinewidth": 0,
             "ticks": ""
            },
            "type": "choropleth"
           }
          ],
          "contour": [
           {
            "colorbar": {
             "outlinewidth": 0,
             "ticks": ""
            },
            "colorscale": [
             [
              0,
              "#0d0887"
             ],
             [
              0.1111111111111111,
              "#46039f"
             ],
             [
              0.2222222222222222,
              "#7201a8"
             ],
             [
              0.3333333333333333,
              "#9c179e"
             ],
             [
              0.4444444444444444,
              "#bd3786"
             ],
             [
              0.5555555555555556,
              "#d8576b"
             ],
             [
              0.6666666666666666,
              "#ed7953"
             ],
             [
              0.7777777777777778,
              "#fb9f3a"
             ],
             [
              0.8888888888888888,
              "#fdca26"
             ],
             [
              1,
              "#f0f921"
             ]
            ],
            "type": "contour"
           }
          ],
          "contourcarpet": [
           {
            "colorbar": {
             "outlinewidth": 0,
             "ticks": ""
            },
            "type": "contourcarpet"
           }
          ],
          "heatmap": [
           {
            "colorbar": {
             "outlinewidth": 0,
             "ticks": ""
            },
            "colorscale": [
             [
              0,
              "#0d0887"
             ],
             [
              0.1111111111111111,
              "#46039f"
             ],
             [
              0.2222222222222222,
              "#7201a8"
             ],
             [
              0.3333333333333333,
              "#9c179e"
             ],
             [
              0.4444444444444444,
              "#bd3786"
             ],
             [
              0.5555555555555556,
              "#d8576b"
             ],
             [
              0.6666666666666666,
              "#ed7953"
             ],
             [
              0.7777777777777778,
              "#fb9f3a"
             ],
             [
              0.8888888888888888,
              "#fdca26"
             ],
             [
              1,
              "#f0f921"
             ]
            ],
            "type": "heatmap"
           }
          ],
          "histogram": [
           {
            "marker": {
             "pattern": {
              "fillmode": "overlay",
              "size": 10,
              "solidity": 0.2
             }
            },
            "type": "histogram"
           }
          ],
          "histogram2d": [
           {
            "colorbar": {
             "outlinewidth": 0,
             "ticks": ""
            },
            "colorscale": [
             [
              0,
              "#0d0887"
             ],
             [
              0.1111111111111111,
              "#46039f"
             ],
             [
              0.2222222222222222,
              "#7201a8"
             ],
             [
              0.3333333333333333,
              "#9c179e"
             ],
             [
              0.4444444444444444,
              "#bd3786"
             ],
             [
              0.5555555555555556,
              "#d8576b"
             ],
             [
              0.6666666666666666,
              "#ed7953"
             ],
             [
              0.7777777777777778,
              "#fb9f3a"
             ],
             [
              0.8888888888888888,
              "#fdca26"
             ],
             [
              1,
              "#f0f921"
             ]
            ],
            "type": "histogram2d"
           }
          ],
          "histogram2dcontour": [
           {
            "colorbar": {
             "outlinewidth": 0,
             "ticks": ""
            },
            "colorscale": [
             [
              0,
              "#0d0887"
             ],
             [
              0.1111111111111111,
              "#46039f"
             ],
             [
              0.2222222222222222,
              "#7201a8"
             ],
             [
              0.3333333333333333,
              "#9c179e"
             ],
             [
              0.4444444444444444,
              "#bd3786"
             ],
             [
              0.5555555555555556,
              "#d8576b"
             ],
             [
              0.6666666666666666,
              "#ed7953"
             ],
             [
              0.7777777777777778,
              "#fb9f3a"
             ],
             [
              0.8888888888888888,
              "#fdca26"
             ],
             [
              1,
              "#f0f921"
             ]
            ],
            "type": "histogram2dcontour"
           }
          ],
          "mesh3d": [
           {
            "colorbar": {
             "outlinewidth": 0,
             "ticks": ""
            },
            "type": "mesh3d"
           }
          ],
          "parcoords": [
           {
            "line": {
             "colorbar": {
              "outlinewidth": 0,
              "ticks": ""
             }
            },
            "type": "parcoords"
           }
          ],
          "pie": [
           {
            "automargin": true,
            "type": "pie"
           }
          ],
          "scatter": [
           {
            "fillpattern": {
             "fillmode": "overlay",
             "size": 10,
             "solidity": 0.2
            },
            "type": "scatter"
           }
          ],
          "scatter3d": [
           {
            "line": {
             "colorbar": {
              "outlinewidth": 0,
              "ticks": ""
             }
            },
            "marker": {
             "colorbar": {
              "outlinewidth": 0,
              "ticks": ""
             }
            },
            "type": "scatter3d"
           }
          ],
          "scattercarpet": [
           {
            "marker": {
             "colorbar": {
              "outlinewidth": 0,
              "ticks": ""
             }
            },
            "type": "scattercarpet"
           }
          ],
          "scattergeo": [
           {
            "marker": {
             "colorbar": {
              "outlinewidth": 0,
              "ticks": ""
             }
            },
            "type": "scattergeo"
           }
          ],
          "scattergl": [
           {
            "marker": {
             "colorbar": {
              "outlinewidth": 0,
              "ticks": ""
             }
            },
            "type": "scattergl"
           }
          ],
          "scattermap": [
           {
            "marker": {
             "colorbar": {
              "outlinewidth": 0,
              "ticks": ""
             }
            },
            "type": "scattermap"
           }
          ],
          "scattermapbox": [
           {
            "marker": {
             "colorbar": {
              "outlinewidth": 0,
              "ticks": ""
             }
            },
            "type": "scattermapbox"
           }
          ],
          "scatterpolar": [
           {
            "marker": {
             "colorbar": {
              "outlinewidth": 0,
              "ticks": ""
             }
            },
            "type": "scatterpolar"
           }
          ],
          "scatterpolargl": [
           {
            "marker": {
             "colorbar": {
              "outlinewidth": 0,
              "ticks": ""
             }
            },
            "type": "scatterpolargl"
           }
          ],
          "scatterternary": [
           {
            "marker": {
             "colorbar": {
              "outlinewidth": 0,
              "ticks": ""
             }
            },
            "type": "scatterternary"
           }
          ],
          "surface": [
           {
            "colorbar": {
             "outlinewidth": 0,
             "ticks": ""
            },
            "colorscale": [
             [
              0,
              "#0d0887"
             ],
             [
              0.1111111111111111,
              "#46039f"
             ],
             [
              0.2222222222222222,
              "#7201a8"
             ],
             [
              0.3333333333333333,
              "#9c179e"
             ],
             [
              0.4444444444444444,
              "#bd3786"
             ],
             [
              0.5555555555555556,
              "#d8576b"
             ],
             [
              0.6666666666666666,
              "#ed7953"
             ],
             [
              0.7777777777777778,
              "#fb9f3a"
             ],
             [
              0.8888888888888888,
              "#fdca26"
             ],
             [
              1,
              "#f0f921"
             ]
            ],
            "type": "surface"
           }
          ],
          "table": [
           {
            "cells": {
             "fill": {
              "color": "#EBF0F8"
             },
             "line": {
              "color": "white"
             }
            },
            "header": {
             "fill": {
              "color": "#C8D4E3"
             },
             "line": {
              "color": "white"
             }
            },
            "type": "table"
           }
          ]
         },
         "layout": {
          "annotationdefaults": {
           "arrowcolor": "#2a3f5f",
           "arrowhead": 0,
           "arrowwidth": 1
          },
          "autotypenumbers": "strict",
          "coloraxis": {
           "colorbar": {
            "outlinewidth": 0,
            "ticks": ""
           }
          },
          "colorscale": {
           "diverging": [
            [
             0,
             "#8e0152"
            ],
            [
             0.1,
             "#c51b7d"
            ],
            [
             0.2,
             "#de77ae"
            ],
            [
             0.3,
             "#f1b6da"
            ],
            [
             0.4,
             "#fde0ef"
            ],
            [
             0.5,
             "#f7f7f7"
            ],
            [
             0.6,
             "#e6f5d0"
            ],
            [
             0.7,
             "#b8e186"
            ],
            [
             0.8,
             "#7fbc41"
            ],
            [
             0.9,
             "#4d9221"
            ],
            [
             1,
             "#276419"
            ]
           ],
           "sequential": [
            [
             0,
             "#0d0887"
            ],
            [
             0.1111111111111111,
             "#46039f"
            ],
            [
             0.2222222222222222,
             "#7201a8"
            ],
            [
             0.3333333333333333,
             "#9c179e"
            ],
            [
             0.4444444444444444,
             "#bd3786"
            ],
            [
             0.5555555555555556,
             "#d8576b"
            ],
            [
             0.6666666666666666,
             "#ed7953"
            ],
            [
             0.7777777777777778,
             "#fb9f3a"
            ],
            [
             0.8888888888888888,
             "#fdca26"
            ],
            [
             1,
             "#f0f921"
            ]
           ],
           "sequentialminus": [
            [
             0,
             "#0d0887"
            ],
            [
             0.1111111111111111,
             "#46039f"
            ],
            [
             0.2222222222222222,
             "#7201a8"
            ],
            [
             0.3333333333333333,
             "#9c179e"
            ],
            [
             0.4444444444444444,
             "#bd3786"
            ],
            [
             0.5555555555555556,
             "#d8576b"
            ],
            [
             0.6666666666666666,
             "#ed7953"
            ],
            [
             0.7777777777777778,
             "#fb9f3a"
            ],
            [
             0.8888888888888888,
             "#fdca26"
            ],
            [
             1,
             "#f0f921"
            ]
           ]
          },
          "colorway": [
           "#636efa",
           "#EF553B",
           "#00cc96",
           "#ab63fa",
           "#FFA15A",
           "#19d3f3",
           "#FF6692",
           "#B6E880",
           "#FF97FF",
           "#FECB52"
          ],
          "font": {
           "color": "#2a3f5f"
          },
          "geo": {
           "bgcolor": "white",
           "lakecolor": "white",
           "landcolor": "#E5ECF6",
           "showlakes": true,
           "showland": true,
           "subunitcolor": "white"
          },
          "hoverlabel": {
           "align": "left"
          },
          "hovermode": "closest",
          "mapbox": {
           "style": "light"
          },
          "paper_bgcolor": "white",
          "plot_bgcolor": "#E5ECF6",
          "polar": {
           "angularaxis": {
            "gridcolor": "white",
            "linecolor": "white",
            "ticks": ""
           },
           "bgcolor": "#E5ECF6",
           "radialaxis": {
            "gridcolor": "white",
            "linecolor": "white",
            "ticks": ""
           }
          },
          "scene": {
           "xaxis": {
            "backgroundcolor": "#E5ECF6",
            "gridcolor": "white",
            "gridwidth": 2,
            "linecolor": "white",
            "showbackground": true,
            "ticks": "",
            "zerolinecolor": "white"
           },
           "yaxis": {
            "backgroundcolor": "#E5ECF6",
            "gridcolor": "white",
            "gridwidth": 2,
            "linecolor": "white",
            "showbackground": true,
            "ticks": "",
            "zerolinecolor": "white"
           },
           "zaxis": {
            "backgroundcolor": "#E5ECF6",
            "gridcolor": "white",
            "gridwidth": 2,
            "linecolor": "white",
            "showbackground": true,
            "ticks": "",
            "zerolinecolor": "white"
           }
          },
          "shapedefaults": {
           "line": {
            "color": "#2a3f5f"
           }
          },
          "ternary": {
           "aaxis": {
            "gridcolor": "white",
            "linecolor": "white",
            "ticks": ""
           },
           "baxis": {
            "gridcolor": "white",
            "linecolor": "white",
            "ticks": ""
           },
           "bgcolor": "#E5ECF6",
           "caxis": {
            "gridcolor": "white",
            "linecolor": "white",
            "ticks": ""
           }
          },
          "title": {
           "x": 0.05
          },
          "xaxis": {
           "automargin": true,
           "gridcolor": "white",
           "linecolor": "white",
           "ticks": "",
           "title": {
            "standoff": 15
           },
           "zerolinecolor": "white",
           "zerolinewidth": 2
          },
          "yaxis": {
           "automargin": true,
           "gridcolor": "white",
           "linecolor": "white",
           "ticks": "",
           "title": {
            "standoff": 15
           },
           "zerolinecolor": "white",
           "zerolinewidth": 2
          }
         }
        },
        "title": {
         "font": {
          "family": "Arial",
          "size": 24,
          "weight": "bold"
         },
         "text": "Распределение количества оценок у фильма"
        },
        "width": 800,
        "xaxis": {
         "anchor": "y",
         "domain": [
          0,
          1
         ],
         "dtick": 100,
         "gridcolor": "lightgray",
         "griddash": "dash",
         "gridwidth": 1,
         "linecolor": "black",
         "linewidth": 1,
         "showline": true,
         "showticklabels": true,
         "tickcolor": "black",
         "tickfont": {
          "size": 16
         },
         "ticklen": 6,
         "tickmode": "linear",
         "ticks": "outside",
         "tickwidth": 2,
         "title": {
          "font": {
           "family": "Arial",
           "size": 20
          },
          "text": "Количество оценок"
         }
        },
        "yaxis": {
         "anchor": "x",
         "domain": [
          0,
          1
         ],
         "dtick": 50,
         "gridcolor": "lightgray",
         "griddash": "dash",
         "gridwidth": 1,
         "linecolor": "black",
         "linewidth": 1,
         "showline": true,
         "showticklabels": true,
         "tickfont": {
          "size": 16
         },
         "ticklen": 6,
         "tickmode": "linear",
         "ticks": "outside",
         "tickwidth": 2,
         "title": {
          "font": {
           "family": "Arial",
           "size": 20
          },
          "text": "Количество фильмов"
         }
        }
       }
      }
     },
     "metadata": {},
     "output_type": "display_data"
    }
   ],
   "source": [
    "fig_8 = px.histogram(\n",
    "    movies_ratings_count, nbins=200, title=\"Распределение количества оценок у фильма\"\n",
    ")\n",
    "fig_8.update_layout(\n",
    "    width=800,  # ширина в пикселях\n",
    "    height=600,  # высота в пикселях\n",
    "    # autosize=False,  # отключаем авторазмер\n",
    "    xaxis_title=\"Количество оценок\",\n",
    "    yaxis_title=\"Количество фильмов\",\n",
    "    # title_font=dict(size=24, family=\"Arial\", weight=\"bold\"),\n",
    "    showlegend=False,\n",
    ")\n",
    "fig_8.update_layout(\n",
    "    xaxis=dict(\n",
    "        showticklabels=True,\n",
    "        tickmode=\"linear\",\n",
    "        ticks=\"outside\",  # Ticks снаружи: 'outside', 'inside', ''\n",
    "        ticklen=6,  # Длина ticks\n",
    "        tickwidth=2,  # Толщина ticks\n",
    "        tickcolor=\"black\",  # Цвет ticks\n",
    "        dtick=100,\n",
    "        # tickmode='array',  # Режим ручной установки\n",
    "        # tickvals=[0, 1, 2, 3],  # Позиции ticks\n",
    "        # ticktext=['Категория A', 'Категория B', 'Категория C', 'Категория D']  # Подписи\n",
    "    ),\n",
    "    yaxis=dict(\n",
    "        showticklabels=True,\n",
    "        tickmode=\"linear\",\n",
    "        dtick=50,\n",
    "        ticks=\"outside\",  # Ticks снаружи: 'outside', 'inside', ''\n",
    "        ticklen=6,  # Длина ticks\n",
    "        tickwidth=2,  # Толщина ticks\n",
    "        # tickmode=\"linear\",\n",
    "        # dtick=5\n",
    "    ),\n",
    ")\n",
    "fig_8 = configure_plotly_theme(fig_8)\n",
    "fig_8.update_traces(marker=dict(line=dict(width=1, color=\"black\")))\n",
    "fig_8.show()"
   ]
  },
  {
   "cell_type": "markdown",
   "id": "988fdacd-7180-4fb8-8713-14b44cdedd29",
   "metadata": {},
   "source": [
    "4. Построй распределение средней оценки по фильмам. "
   ]
  },
  {
   "cell_type": "code",
   "execution_count": 37,
   "id": "d25f1ae7-587d-4ad8-a6da-fad4ab93e982",
   "metadata": {},
   "outputs": [
    {
     "data": {
      "text/plain": [
       "movie_id  rating\n",
       "1         1           8\n",
       "          2          27\n",
       "          3          96\n",
       "          4         202\n",
       "          5         119\n",
       "                   ... \n",
       "1678      1           1\n",
       "1679      3           1\n",
       "1680      2           1\n",
       "1681      3           1\n",
       "1682      3           1\n",
       "Name: user_id, Length: 6714, dtype: int64"
      ]
     },
     "execution_count": 37,
     "metadata": {},
     "output_type": "execute_result"
    }
   ],
   "source": [
    "movies_rating = ratings.groupby([\"movie_id\", \"rating\"]).count()[\"user_id\"]\n",
    "movies_rating"
   ]
  },
  {
   "cell_type": "code",
   "execution_count": 38,
   "id": "3ca64ee7",
   "metadata": {},
   "outputs": [],
   "source": [
    "def mean_movie_rating(id: int):\n",
    "    movie_dict = {}\n",
    "    movie_series = movies_rating[id]\n",
    "    for i in range(1, 6):\n",
    "        movie_dict[i] = movie_series.get(i, 0)\n",
    "    sum_for_mean = 0\n",
    "    for i in range(1, 6):\n",
    "        sum_for_mean += movie_dict[i] * i\n",
    "    return sum_for_mean / sum(movie_dict.values())"
   ]
  },
  {
   "cell_type": "code",
   "execution_count": 39,
   "id": "6e235baf",
   "metadata": {},
   "outputs": [
    {
     "data": {
      "text/html": [
       "<div>\n",
       "<style scoped>\n",
       "    .dataframe tbody tr th:only-of-type {\n",
       "        vertical-align: middle;\n",
       "    }\n",
       "\n",
       "    .dataframe tbody tr th {\n",
       "        vertical-align: top;\n",
       "    }\n",
       "\n",
       "    .dataframe thead th {\n",
       "        text-align: right;\n",
       "    }\n",
       "</style>\n",
       "<table border=\"1\" class=\"dataframe\">\n",
       "  <thead>\n",
       "    <tr style=\"text-align: right;\">\n",
       "      <th></th>\n",
       "      <th>movie_id</th>\n",
       "      <th>user_id</th>\n",
       "      <th>mean_rating</th>\n",
       "    </tr>\n",
       "  </thead>\n",
       "  <tbody>\n",
       "    <tr>\n",
       "      <th>0</th>\n",
       "      <td>1</td>\n",
       "      <td>452</td>\n",
       "      <td>3.878319</td>\n",
       "    </tr>\n",
       "    <tr>\n",
       "      <th>1</th>\n",
       "      <td>2</td>\n",
       "      <td>131</td>\n",
       "      <td>3.206107</td>\n",
       "    </tr>\n",
       "    <tr>\n",
       "      <th>2</th>\n",
       "      <td>3</td>\n",
       "      <td>90</td>\n",
       "      <td>3.033333</td>\n",
       "    </tr>\n",
       "    <tr>\n",
       "      <th>3</th>\n",
       "      <td>4</td>\n",
       "      <td>209</td>\n",
       "      <td>3.550239</td>\n",
       "    </tr>\n",
       "    <tr>\n",
       "      <th>4</th>\n",
       "      <td>5</td>\n",
       "      <td>86</td>\n",
       "      <td>3.302326</td>\n",
       "    </tr>\n",
       "  </tbody>\n",
       "</table>\n",
       "</div>"
      ],
      "text/plain": [
       "   movie_id  user_id  mean_rating\n",
       "0         1      452     3.878319\n",
       "1         2      131     3.206107\n",
       "2         3       90     3.033333\n",
       "3         4      209     3.550239\n",
       "4         5       86     3.302326"
      ]
     },
     "execution_count": 39,
     "metadata": {},
     "output_type": "execute_result"
    }
   ],
   "source": [
    "mean_rating = movies_ratings_count.reset_index()\n",
    "mean_rating[\"mean_rating\"] = mean_rating[\"movie_id\"].map(mean_movie_rating)\n",
    "mean_rating.head()\n",
    "# mean_rating.shape"
   ]
  },
  {
   "cell_type": "code",
   "execution_count": 40,
   "id": "afe3d844",
   "metadata": {},
   "outputs": [
    {
     "data": {
      "application/vnd.plotly.v1+json": {
       "config": {
        "plotlyServerURL": "https://plot.ly"
       },
       "data": [
        {
         "hovertemplate": "x=%{x}<br>density=%{y}<extra></extra>",
         "legendgroup": "",
         "line": {
          "color": "#636efa",
          "dash": "solid"
         },
         "marker": {
          "line": {
           "color": "black",
           "width": 1
          },
          "symbol": "circle"
         },
         "mode": "lines",
         "name": "",
         "orientation": "v",
         "showlegend": false,
         "type": "scatter",
         "x": {
          "bdata": "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",
          "dtype": "f8"
         },
         "xaxis": "x",
         "y": {
          "bdata": "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",
          "dtype": "f8"
         },
         "yaxis": "y"
        }
       ],
       "layout": {
        "font": {
         "size": 14
        },
        "height": 600,
        "legend": {
         "tracegroupgap": 0
        },
        "paper_bgcolor": "white",
        "plot_bgcolor": "white",
        "showlegend": false,
        "template": {
         "data": {
          "bar": [
           {
            "error_x": {
             "color": "#2a3f5f"
            },
            "error_y": {
             "color": "#2a3f5f"
            },
            "marker": {
             "line": {
              "color": "#E5ECF6",
              "width": 0.5
             },
             "pattern": {
              "fillmode": "overlay",
              "size": 10,
              "solidity": 0.2
             }
            },
            "type": "bar"
           }
          ],
          "barpolar": [
           {
            "marker": {
             "line": {
              "color": "#E5ECF6",
              "width": 0.5
             },
             "pattern": {
              "fillmode": "overlay",
              "size": 10,
              "solidity": 0.2
             }
            },
            "type": "barpolar"
           }
          ],
          "carpet": [
           {
            "aaxis": {
             "endlinecolor": "#2a3f5f",
             "gridcolor": "white",
             "linecolor": "white",
             "minorgridcolor": "white",
             "startlinecolor": "#2a3f5f"
            },
            "baxis": {
             "endlinecolor": "#2a3f5f",
             "gridcolor": "white",
             "linecolor": "white",
             "minorgridcolor": "white",
             "startlinecolor": "#2a3f5f"
            },
            "type": "carpet"
           }
          ],
          "choropleth": [
           {
            "colorbar": {
             "outlinewidth": 0,
             "ticks": ""
            },
            "type": "choropleth"
           }
          ],
          "contour": [
           {
            "colorbar": {
             "outlinewidth": 0,
             "ticks": ""
            },
            "colorscale": [
             [
              0,
              "#0d0887"
             ],
             [
              0.1111111111111111,
              "#46039f"
             ],
             [
              0.2222222222222222,
              "#7201a8"
             ],
             [
              0.3333333333333333,
              "#9c179e"
             ],
             [
              0.4444444444444444,
              "#bd3786"
             ],
             [
              0.5555555555555556,
              "#d8576b"
             ],
             [
              0.6666666666666666,
              "#ed7953"
             ],
             [
              0.7777777777777778,
              "#fb9f3a"
             ],
             [
              0.8888888888888888,
              "#fdca26"
             ],
             [
              1,
              "#f0f921"
             ]
            ],
            "type": "contour"
           }
          ],
          "contourcarpet": [
           {
            "colorbar": {
             "outlinewidth": 0,
             "ticks": ""
            },
            "type": "contourcarpet"
           }
          ],
          "heatmap": [
           {
            "colorbar": {
             "outlinewidth": 0,
             "ticks": ""
            },
            "colorscale": [
             [
              0,
              "#0d0887"
             ],
             [
              0.1111111111111111,
              "#46039f"
             ],
             [
              0.2222222222222222,
              "#7201a8"
             ],
             [
              0.3333333333333333,
              "#9c179e"
             ],
             [
              0.4444444444444444,
              "#bd3786"
             ],
             [
              0.5555555555555556,
              "#d8576b"
             ],
             [
              0.6666666666666666,
              "#ed7953"
             ],
             [
              0.7777777777777778,
              "#fb9f3a"
             ],
             [
              0.8888888888888888,
              "#fdca26"
             ],
             [
              1,
              "#f0f921"
             ]
            ],
            "type": "heatmap"
           }
          ],
          "histogram": [
           {
            "marker": {
             "pattern": {
              "fillmode": "overlay",
              "size": 10,
              "solidity": 0.2
             }
            },
            "type": "histogram"
           }
          ],
          "histogram2d": [
           {
            "colorbar": {
             "outlinewidth": 0,
             "ticks": ""
            },
            "colorscale": [
             [
              0,
              "#0d0887"
             ],
             [
              0.1111111111111111,
              "#46039f"
             ],
             [
              0.2222222222222222,
              "#7201a8"
             ],
             [
              0.3333333333333333,
              "#9c179e"
             ],
             [
              0.4444444444444444,
              "#bd3786"
             ],
             [
              0.5555555555555556,
              "#d8576b"
             ],
             [
              0.6666666666666666,
              "#ed7953"
             ],
             [
              0.7777777777777778,
              "#fb9f3a"
             ],
             [
              0.8888888888888888,
              "#fdca26"
             ],
             [
              1,
              "#f0f921"
             ]
            ],
            "type": "histogram2d"
           }
          ],
          "histogram2dcontour": [
           {
            "colorbar": {
             "outlinewidth": 0,
             "ticks": ""
            },
            "colorscale": [
             [
              0,
              "#0d0887"
             ],
             [
              0.1111111111111111,
              "#46039f"
             ],
             [
              0.2222222222222222,
              "#7201a8"
             ],
             [
              0.3333333333333333,
              "#9c179e"
             ],
             [
              0.4444444444444444,
              "#bd3786"
             ],
             [
              0.5555555555555556,
              "#d8576b"
             ],
             [
              0.6666666666666666,
              "#ed7953"
             ],
             [
              0.7777777777777778,
              "#fb9f3a"
             ],
             [
              0.8888888888888888,
              "#fdca26"
             ],
             [
              1,
              "#f0f921"
             ]
            ],
            "type": "histogram2dcontour"
           }
          ],
          "mesh3d": [
           {
            "colorbar": {
             "outlinewidth": 0,
             "ticks": ""
            },
            "type": "mesh3d"
           }
          ],
          "parcoords": [
           {
            "line": {
             "colorbar": {
              "outlinewidth": 0,
              "ticks": ""
             }
            },
            "type": "parcoords"
           }
          ],
          "pie": [
           {
            "automargin": true,
            "type": "pie"
           }
          ],
          "scatter": [
           {
            "fillpattern": {
             "fillmode": "overlay",
             "size": 10,
             "solidity": 0.2
            },
            "type": "scatter"
           }
          ],
          "scatter3d": [
           {
            "line": {
             "colorbar": {
              "outlinewidth": 0,
              "ticks": ""
             }
            },
            "marker": {
             "colorbar": {
              "outlinewidth": 0,
              "ticks": ""
             }
            },
            "type": "scatter3d"
           }
          ],
          "scattercarpet": [
           {
            "marker": {
             "colorbar": {
              "outlinewidth": 0,
              "ticks": ""
             }
            },
            "type": "scattercarpet"
           }
          ],
          "scattergeo": [
           {
            "marker": {
             "colorbar": {
              "outlinewidth": 0,
              "ticks": ""
             }
            },
            "type": "scattergeo"
           }
          ],
          "scattergl": [
           {
            "marker": {
             "colorbar": {
              "outlinewidth": 0,
              "ticks": ""
             }
            },
            "type": "scattergl"
           }
          ],
          "scattermap": [
           {
            "marker": {
             "colorbar": {
              "outlinewidth": 0,
              "ticks": ""
             }
            },
            "type": "scattermap"
           }
          ],
          "scattermapbox": [
           {
            "marker": {
             "colorbar": {
              "outlinewidth": 0,
              "ticks": ""
             }
            },
            "type": "scattermapbox"
           }
          ],
          "scatterpolar": [
           {
            "marker": {
             "colorbar": {
              "outlinewidth": 0,
              "ticks": ""
             }
            },
            "type": "scatterpolar"
           }
          ],
          "scatterpolargl": [
           {
            "marker": {
             "colorbar": {
              "outlinewidth": 0,
              "ticks": ""
             }
            },
            "type": "scatterpolargl"
           }
          ],
          "scatterternary": [
           {
            "marker": {
             "colorbar": {
              "outlinewidth": 0,
              "ticks": ""
             }
            },
            "type": "scatterternary"
           }
          ],
          "surface": [
           {
            "colorbar": {
             "outlinewidth": 0,
             "ticks": ""
            },
            "colorscale": [
             [
              0,
              "#0d0887"
             ],
             [
              0.1111111111111111,
              "#46039f"
             ],
             [
              0.2222222222222222,
              "#7201a8"
             ],
             [
              0.3333333333333333,
              "#9c179e"
             ],
             [
              0.4444444444444444,
              "#bd3786"
             ],
             [
              0.5555555555555556,
              "#d8576b"
             ],
             [
              0.6666666666666666,
              "#ed7953"
             ],
             [
              0.7777777777777778,
              "#fb9f3a"
             ],
             [
              0.8888888888888888,
              "#fdca26"
             ],
             [
              1,
              "#f0f921"
             ]
            ],
            "type": "surface"
           }
          ],
          "table": [
           {
            "cells": {
             "fill": {
              "color": "#EBF0F8"
             },
             "line": {
              "color": "white"
             }
            },
            "header": {
             "fill": {
              "color": "#C8D4E3"
             },
             "line": {
              "color": "white"
             }
            },
            "type": "table"
           }
          ]
         },
         "layout": {
          "annotationdefaults": {
           "arrowcolor": "#2a3f5f",
           "arrowhead": 0,
           "arrowwidth": 1
          },
          "autotypenumbers": "strict",
          "coloraxis": {
           "colorbar": {
            "outlinewidth": 0,
            "ticks": ""
           }
          },
          "colorscale": {
           "diverging": [
            [
             0,
             "#8e0152"
            ],
            [
             0.1,
             "#c51b7d"
            ],
            [
             0.2,
             "#de77ae"
            ],
            [
             0.3,
             "#f1b6da"
            ],
            [
             0.4,
             "#fde0ef"
            ],
            [
             0.5,
             "#f7f7f7"
            ],
            [
             0.6,
             "#e6f5d0"
            ],
            [
             0.7,
             "#b8e186"
            ],
            [
             0.8,
             "#7fbc41"
            ],
            [
             0.9,
             "#4d9221"
            ],
            [
             1,
             "#276419"
            ]
           ],
           "sequential": [
            [
             0,
             "#0d0887"
            ],
            [
             0.1111111111111111,
             "#46039f"
            ],
            [
             0.2222222222222222,
             "#7201a8"
            ],
            [
             0.3333333333333333,
             "#9c179e"
            ],
            [
             0.4444444444444444,
             "#bd3786"
            ],
            [
             0.5555555555555556,
             "#d8576b"
            ],
            [
             0.6666666666666666,
             "#ed7953"
            ],
            [
             0.7777777777777778,
             "#fb9f3a"
            ],
            [
             0.8888888888888888,
             "#fdca26"
            ],
            [
             1,
             "#f0f921"
            ]
           ],
           "sequentialminus": [
            [
             0,
             "#0d0887"
            ],
            [
             0.1111111111111111,
             "#46039f"
            ],
            [
             0.2222222222222222,
             "#7201a8"
            ],
            [
             0.3333333333333333,
             "#9c179e"
            ],
            [
             0.4444444444444444,
             "#bd3786"
            ],
            [
             0.5555555555555556,
             "#d8576b"
            ],
            [
             0.6666666666666666,
             "#ed7953"
            ],
            [
             0.7777777777777778,
             "#fb9f3a"
            ],
            [
             0.8888888888888888,
             "#fdca26"
            ],
            [
             1,
             "#f0f921"
            ]
           ]
          },
          "colorway": [
           "#636efa",
           "#EF553B",
           "#00cc96",
           "#ab63fa",
           "#FFA15A",
           "#19d3f3",
           "#FF6692",
           "#B6E880",
           "#FF97FF",
           "#FECB52"
          ],
          "font": {
           "color": "#2a3f5f"
          },
          "geo": {
           "bgcolor": "white",
           "lakecolor": "white",
           "landcolor": "#E5ECF6",
           "showlakes": true,
           "showland": true,
           "subunitcolor": "white"
          },
          "hoverlabel": {
           "align": "left"
          },
          "hovermode": "closest",
          "mapbox": {
           "style": "light"
          },
          "paper_bgcolor": "white",
          "plot_bgcolor": "#E5ECF6",
          "polar": {
           "angularaxis": {
            "gridcolor": "white",
            "linecolor": "white",
            "ticks": ""
           },
           "bgcolor": "#E5ECF6",
           "radialaxis": {
            "gridcolor": "white",
            "linecolor": "white",
            "ticks": ""
           }
          },
          "scene": {
           "xaxis": {
            "backgroundcolor": "#E5ECF6",
            "gridcolor": "white",
            "gridwidth": 2,
            "linecolor": "white",
            "showbackground": true,
            "ticks": "",
            "zerolinecolor": "white"
           },
           "yaxis": {
            "backgroundcolor": "#E5ECF6",
            "gridcolor": "white",
            "gridwidth": 2,
            "linecolor": "white",
            "showbackground": true,
            "ticks": "",
            "zerolinecolor": "white"
           },
           "zaxis": {
            "backgroundcolor": "#E5ECF6",
            "gridcolor": "white",
            "gridwidth": 2,
            "linecolor": "white",
            "showbackground": true,
            "ticks": "",
            "zerolinecolor": "white"
           }
          },
          "shapedefaults": {
           "line": {
            "color": "#2a3f5f"
           }
          },
          "ternary": {
           "aaxis": {
            "gridcolor": "white",
            "linecolor": "white",
            "ticks": ""
           },
           "baxis": {
            "gridcolor": "white",
            "linecolor": "white",
            "ticks": ""
           },
           "bgcolor": "#E5ECF6",
           "caxis": {
            "gridcolor": "white",
            "linecolor": "white",
            "ticks": ""
           }
          },
          "title": {
           "x": 0.05
          },
          "xaxis": {
           "automargin": true,
           "gridcolor": "white",
           "linecolor": "white",
           "ticks": "",
           "title": {
            "standoff": 15
           },
           "zerolinecolor": "white",
           "zerolinewidth": 2
          },
          "yaxis": {
           "automargin": true,
           "gridcolor": "white",
           "linecolor": "white",
           "ticks": "",
           "title": {
            "standoff": 15
           },
           "zerolinecolor": "white",
           "zerolinewidth": 2
          }
         }
        },
        "title": {
         "font": {
          "family": "Arial",
          "size": 24,
          "weight": "bold"
         },
         "text": "Распределение средних оценок фильмов"
        },
        "width": 800,
        "xaxis": {
         "anchor": "y",
         "domain": [
          0,
          1
         ],
         "dtick": 1,
         "gridcolor": "lightgray",
         "griddash": "dash",
         "gridwidth": 1,
         "linecolor": "black",
         "linewidth": 1,
         "showline": true,
         "showticklabels": true,
         "tickcolor": "black",
         "tickfont": {
          "size": 16
         },
         "ticklen": 6,
         "tickmode": "linear",
         "ticks": "outside",
         "tickwidth": 2,
         "title": {
          "font": {
           "family": "Arial",
           "size": 20
          },
          "text": "Оценка"
         }
        },
        "yaxis": {
         "anchor": "x",
         "domain": [
          0,
          1
         ],
         "dtick": 0.1,
         "gridcolor": "lightgray",
         "griddash": "dash",
         "gridwidth": 1,
         "linecolor": "black",
         "linewidth": 1,
         "showline": true,
         "showticklabels": true,
         "tickfont": {
          "size": 16
         },
         "ticklen": 6,
         "tickmode": "linear",
         "ticks": "inside",
         "tickwidth": 2,
         "title": {
          "font": {
           "family": "Arial",
           "size": 20
          },
          "text": "Нормированное кол-во оценок"
         }
        }
       }
      }
     },
     "metadata": {},
     "output_type": "display_data"
    }
   ],
   "source": [
    "kde_2 = scipy.stats.gaussian_kde(mean_rating[\"mean_rating\"])\n",
    "x_2 = np.linspace(\n",
    "    min(mean_rating[\"mean_rating\"]),\n",
    "    max(mean_rating[\"mean_rating\"]),\n",
    "    200,\n",
    ")\n",
    "y_2 = kde_2(x_2)\n",
    "df_kde_2 = pd.DataFrame({\"x\": x_2, \"density\": y_2})\n",
    "fig_9 = px.line(\n",
    "    df_kde_2, x=\"x\", y=\"density\", title=\"Распределение средних оценок фильмов\"\n",
    ")\n",
    "fig_9.update_layout(\n",
    "    width=800,  # ширина в пикселях\n",
    "    height=600,  # высота в пикселях\n",
    "    # autosize=False,  # отключаем авторазмер\n",
    "    xaxis_title=\"Оценка\",\n",
    "    yaxis_title=\"Нормированное кол-во оценок\",\n",
    "    # title_font=dict(size=24, family=\"Arial\", weight=\"bold\"),\n",
    "    showlegend=False,\n",
    ")\n",
    "fig_9.update_layout(\n",
    "    xaxis=dict(\n",
    "        showticklabels=True,\n",
    "        tickmode=\"linear\",\n",
    "        ticks=\"outside\",  # Ticks снаружи: 'outside', 'inside', ''\n",
    "        ticklen=6,  # Длина ticks\n",
    "        tickwidth=2,  # Толщина ticks\n",
    "        tickcolor=\"black\",  # Цвет ticks\n",
    "        dtick=1,\n",
    "        # tickmode='array',  # Режим ручной установки\n",
    "        # tickvals=[0, 1, 2, 3],  # Позиции ticks\n",
    "        # ticktext=['Категория A', 'Категория B', 'Категория C', 'Категория D']  # Подписи\n",
    "    ),\n",
    "    yaxis=dict(\n",
    "        showticklabels=True,\n",
    "        tickmode=\"linear\",\n",
    "        dtick=0.1,\n",
    "        ticks=\"inside\",  # Ticks снаружи: 'outside', 'inside', ''\n",
    "        ticklen=6,  # Длина ticks\n",
    "        tickwidth=2,  # Толщина ticks\n",
    "        # tickmode=\"linear\",\n",
    "        # dtick=5\n",
    "    ),\n",
    ")\n",
    "fig_9 = configure_plotly_theme(fig_9)\n",
    "fig_9.update_traces(marker=dict(line=dict(width=1, color=\"black\")))\n",
    "fig_9.show()"
   ]
  },
  {
   "cell_type": "code",
   "execution_count": 41,
   "id": "13396474",
   "metadata": {},
   "outputs": [
    {
     "data": {
      "application/vnd.plotly.v1+json": {
       "config": {
        "plotlyServerURL": "https://plot.ly"
       },
       "data": [
        {
         "bingroup": "x",
         "hovertemplate": "variable=mean_rating<br>value=%{x}<br>count=%{y}<extra></extra>",
         "legendgroup": "mean_rating",
         "marker": {
          "color": "#636efa",
          "line": {
           "color": "black",
           "width": 1
          },
          "pattern": {
           "shape": ""
          }
         },
         "name": "mean_rating",
         "nbinsx": 200,
         "orientation": "v",
         "showlegend": true,
         "type": "histogram",
         "x": {
          "bdata": "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",
          "dtype": "f8"
         },
         "xaxis": "x",
         "yaxis": "y"
        }
       ],
       "layout": {
        "barmode": "relative",
        "font": {
         "size": 14
        },
        "height": 600,
        "legend": {
         "title": {
          "text": "variable"
         },
         "tracegroupgap": 0
        },
        "paper_bgcolor": "white",
        "plot_bgcolor": "white",
        "showlegend": false,
        "template": {
         "data": {
          "bar": [
           {
            "error_x": {
             "color": "#2a3f5f"
            },
            "error_y": {
             "color": "#2a3f5f"
            },
            "marker": {
             "line": {
              "color": "#E5ECF6",
              "width": 0.5
             },
             "pattern": {
              "fillmode": "overlay",
              "size": 10,
              "solidity": 0.2
             }
            },
            "type": "bar"
           }
          ],
          "barpolar": [
           {
            "marker": {
             "line": {
              "color": "#E5ECF6",
              "width": 0.5
             },
             "pattern": {
              "fillmode": "overlay",
              "size": 10,
              "solidity": 0.2
             }
            },
            "type": "barpolar"
           }
          ],
          "carpet": [
           {
            "aaxis": {
             "endlinecolor": "#2a3f5f",
             "gridcolor": "white",
             "linecolor": "white",
             "minorgridcolor": "white",
             "startlinecolor": "#2a3f5f"
            },
            "baxis": {
             "endlinecolor": "#2a3f5f",
             "gridcolor": "white",
             "linecolor": "white",
             "minorgridcolor": "white",
             "startlinecolor": "#2a3f5f"
            },
            "type": "carpet"
           }
          ],
          "choropleth": [
           {
            "colorbar": {
             "outlinewidth": 0,
             "ticks": ""
            },
            "type": "choropleth"
           }
          ],
          "contour": [
           {
            "colorbar": {
             "outlinewidth": 0,
             "ticks": ""
            },
            "colorscale": [
             [
              0,
              "#0d0887"
             ],
             [
              0.1111111111111111,
              "#46039f"
             ],
             [
              0.2222222222222222,
              "#7201a8"
             ],
             [
              0.3333333333333333,
              "#9c179e"
             ],
             [
              0.4444444444444444,
              "#bd3786"
             ],
             [
              0.5555555555555556,
              "#d8576b"
             ],
             [
              0.6666666666666666,
              "#ed7953"
             ],
             [
              0.7777777777777778,
              "#fb9f3a"
             ],
             [
              0.8888888888888888,
              "#fdca26"
             ],
             [
              1,
              "#f0f921"
             ]
            ],
            "type": "contour"
           }
          ],
          "contourcarpet": [
           {
            "colorbar": {
             "outlinewidth": 0,
             "ticks": ""
            },
            "type": "contourcarpet"
           }
          ],
          "heatmap": [
           {
            "colorbar": {
             "outlinewidth": 0,
             "ticks": ""
            },
            "colorscale": [
             [
              0,
              "#0d0887"
             ],
             [
              0.1111111111111111,
              "#46039f"
             ],
             [
              0.2222222222222222,
              "#7201a8"
             ],
             [
              0.3333333333333333,
              "#9c179e"
             ],
             [
              0.4444444444444444,
              "#bd3786"
             ],
             [
              0.5555555555555556,
              "#d8576b"
             ],
             [
              0.6666666666666666,
              "#ed7953"
             ],
             [
              0.7777777777777778,
              "#fb9f3a"
             ],
             [
              0.8888888888888888,
              "#fdca26"
             ],
             [
              1,
              "#f0f921"
             ]
            ],
            "type": "heatmap"
           }
          ],
          "histogram": [
           {
            "marker": {
             "pattern": {
              "fillmode": "overlay",
              "size": 10,
              "solidity": 0.2
             }
            },
            "type": "histogram"
           }
          ],
          "histogram2d": [
           {
            "colorbar": {
             "outlinewidth": 0,
             "ticks": ""
            },
            "colorscale": [
             [
              0,
              "#0d0887"
             ],
             [
              0.1111111111111111,
              "#46039f"
             ],
             [
              0.2222222222222222,
              "#7201a8"
             ],
             [
              0.3333333333333333,
              "#9c179e"
             ],
             [
              0.4444444444444444,
              "#bd3786"
             ],
             [
              0.5555555555555556,
              "#d8576b"
             ],
             [
              0.6666666666666666,
              "#ed7953"
             ],
             [
              0.7777777777777778,
              "#fb9f3a"
             ],
             [
              0.8888888888888888,
              "#fdca26"
             ],
             [
              1,
              "#f0f921"
             ]
            ],
            "type": "histogram2d"
           }
          ],
          "histogram2dcontour": [
           {
            "colorbar": {
             "outlinewidth": 0,
             "ticks": ""
            },
            "colorscale": [
             [
              0,
              "#0d0887"
             ],
             [
              0.1111111111111111,
              "#46039f"
             ],
             [
              0.2222222222222222,
              "#7201a8"
             ],
             [
              0.3333333333333333,
              "#9c179e"
             ],
             [
              0.4444444444444444,
              "#bd3786"
             ],
             [
              0.5555555555555556,
              "#d8576b"
             ],
             [
              0.6666666666666666,
              "#ed7953"
             ],
             [
              0.7777777777777778,
              "#fb9f3a"
             ],
             [
              0.8888888888888888,
              "#fdca26"
             ],
             [
              1,
              "#f0f921"
             ]
            ],
            "type": "histogram2dcontour"
           }
          ],
          "mesh3d": [
           {
            "colorbar": {
             "outlinewidth": 0,
             "ticks": ""
            },
            "type": "mesh3d"
           }
          ],
          "parcoords": [
           {
            "line": {
             "colorbar": {
              "outlinewidth": 0,
              "ticks": ""
             }
            },
            "type": "parcoords"
           }
          ],
          "pie": [
           {
            "automargin": true,
            "type": "pie"
           }
          ],
          "scatter": [
           {
            "fillpattern": {
             "fillmode": "overlay",
             "size": 10,
             "solidity": 0.2
            },
            "type": "scatter"
           }
          ],
          "scatter3d": [
           {
            "line": {
             "colorbar": {
              "outlinewidth": 0,
              "ticks": ""
             }
            },
            "marker": {
             "colorbar": {
              "outlinewidth": 0,
              "ticks": ""
             }
            },
            "type": "scatter3d"
           }
          ],
          "scattercarpet": [
           {
            "marker": {
             "colorbar": {
              "outlinewidth": 0,
              "ticks": ""
             }
            },
            "type": "scattercarpet"
           }
          ],
          "scattergeo": [
           {
            "marker": {
             "colorbar": {
              "outlinewidth": 0,
              "ticks": ""
             }
            },
            "type": "scattergeo"
           }
          ],
          "scattergl": [
           {
            "marker": {
             "colorbar": {
              "outlinewidth": 0,
              "ticks": ""
             }
            },
            "type": "scattergl"
           }
          ],
          "scattermap": [
           {
            "marker": {
             "colorbar": {
              "outlinewidth": 0,
              "ticks": ""
             }
            },
            "type": "scattermap"
           }
          ],
          "scattermapbox": [
           {
            "marker": {
             "colorbar": {
              "outlinewidth": 0,
              "ticks": ""
             }
            },
            "type": "scattermapbox"
           }
          ],
          "scatterpolar": [
           {
            "marker": {
             "colorbar": {
              "outlinewidth": 0,
              "ticks": ""
             }
            },
            "type": "scatterpolar"
           }
          ],
          "scatterpolargl": [
           {
            "marker": {
             "colorbar": {
              "outlinewidth": 0,
              "ticks": ""
             }
            },
            "type": "scatterpolargl"
           }
          ],
          "scatterternary": [
           {
            "marker": {
             "colorbar": {
              "outlinewidth": 0,
              "ticks": ""
             }
            },
            "type": "scatterternary"
           }
          ],
          "surface": [
           {
            "colorbar": {
             "outlinewidth": 0,
             "ticks": ""
            },
            "colorscale": [
             [
              0,
              "#0d0887"
             ],
             [
              0.1111111111111111,
              "#46039f"
             ],
             [
              0.2222222222222222,
              "#7201a8"
             ],
             [
              0.3333333333333333,
              "#9c179e"
             ],
             [
              0.4444444444444444,
              "#bd3786"
             ],
             [
              0.5555555555555556,
              "#d8576b"
             ],
             [
              0.6666666666666666,
              "#ed7953"
             ],
             [
              0.7777777777777778,
              "#fb9f3a"
             ],
             [
              0.8888888888888888,
              "#fdca26"
             ],
             [
              1,
              "#f0f921"
             ]
            ],
            "type": "surface"
           }
          ],
          "table": [
           {
            "cells": {
             "fill": {
              "color": "#EBF0F8"
             },
             "line": {
              "color": "white"
             }
            },
            "header": {
             "fill": {
              "color": "#C8D4E3"
             },
             "line": {
              "color": "white"
             }
            },
            "type": "table"
           }
          ]
         },
         "layout": {
          "annotationdefaults": {
           "arrowcolor": "#2a3f5f",
           "arrowhead": 0,
           "arrowwidth": 1
          },
          "autotypenumbers": "strict",
          "coloraxis": {
           "colorbar": {
            "outlinewidth": 0,
            "ticks": ""
           }
          },
          "colorscale": {
           "diverging": [
            [
             0,
             "#8e0152"
            ],
            [
             0.1,
             "#c51b7d"
            ],
            [
             0.2,
             "#de77ae"
            ],
            [
             0.3,
             "#f1b6da"
            ],
            [
             0.4,
             "#fde0ef"
            ],
            [
             0.5,
             "#f7f7f7"
            ],
            [
             0.6,
             "#e6f5d0"
            ],
            [
             0.7,
             "#b8e186"
            ],
            [
             0.8,
             "#7fbc41"
            ],
            [
             0.9,
             "#4d9221"
            ],
            [
             1,
             "#276419"
            ]
           ],
           "sequential": [
            [
             0,
             "#0d0887"
            ],
            [
             0.1111111111111111,
             "#46039f"
            ],
            [
             0.2222222222222222,
             "#7201a8"
            ],
            [
             0.3333333333333333,
             "#9c179e"
            ],
            [
             0.4444444444444444,
             "#bd3786"
            ],
            [
             0.5555555555555556,
             "#d8576b"
            ],
            [
             0.6666666666666666,
             "#ed7953"
            ],
            [
             0.7777777777777778,
             "#fb9f3a"
            ],
            [
             0.8888888888888888,
             "#fdca26"
            ],
            [
             1,
             "#f0f921"
            ]
           ],
           "sequentialminus": [
            [
             0,
             "#0d0887"
            ],
            [
             0.1111111111111111,
             "#46039f"
            ],
            [
             0.2222222222222222,
             "#7201a8"
            ],
            [
             0.3333333333333333,
             "#9c179e"
            ],
            [
             0.4444444444444444,
             "#bd3786"
            ],
            [
             0.5555555555555556,
             "#d8576b"
            ],
            [
             0.6666666666666666,
             "#ed7953"
            ],
            [
             0.7777777777777778,
             "#fb9f3a"
            ],
            [
             0.8888888888888888,
             "#fdca26"
            ],
            [
             1,
             "#f0f921"
            ]
           ]
          },
          "colorway": [
           "#636efa",
           "#EF553B",
           "#00cc96",
           "#ab63fa",
           "#FFA15A",
           "#19d3f3",
           "#FF6692",
           "#B6E880",
           "#FF97FF",
           "#FECB52"
          ],
          "font": {
           "color": "#2a3f5f"
          },
          "geo": {
           "bgcolor": "white",
           "lakecolor": "white",
           "landcolor": "#E5ECF6",
           "showlakes": true,
           "showland": true,
           "subunitcolor": "white"
          },
          "hoverlabel": {
           "align": "left"
          },
          "hovermode": "closest",
          "mapbox": {
           "style": "light"
          },
          "paper_bgcolor": "white",
          "plot_bgcolor": "#E5ECF6",
          "polar": {
           "angularaxis": {
            "gridcolor": "white",
            "linecolor": "white",
            "ticks": ""
           },
           "bgcolor": "#E5ECF6",
           "radialaxis": {
            "gridcolor": "white",
            "linecolor": "white",
            "ticks": ""
           }
          },
          "scene": {
           "xaxis": {
            "backgroundcolor": "#E5ECF6",
            "gridcolor": "white",
            "gridwidth": 2,
            "linecolor": "white",
            "showbackground": true,
            "ticks": "",
            "zerolinecolor": "white"
           },
           "yaxis": {
            "backgroundcolor": "#E5ECF6",
            "gridcolor": "white",
            "gridwidth": 2,
            "linecolor": "white",
            "showbackground": true,
            "ticks": "",
            "zerolinecolor": "white"
           },
           "zaxis": {
            "backgroundcolor": "#E5ECF6",
            "gridcolor": "white",
            "gridwidth": 2,
            "linecolor": "white",
            "showbackground": true,
            "ticks": "",
            "zerolinecolor": "white"
           }
          },
          "shapedefaults": {
           "line": {
            "color": "#2a3f5f"
           }
          },
          "ternary": {
           "aaxis": {
            "gridcolor": "white",
            "linecolor": "white",
            "ticks": ""
           },
           "baxis": {
            "gridcolor": "white",
            "linecolor": "white",
            "ticks": ""
           },
           "bgcolor": "#E5ECF6",
           "caxis": {
            "gridcolor": "white",
            "linecolor": "white",
            "ticks": ""
           }
          },
          "title": {
           "x": 0.05
          },
          "xaxis": {
           "automargin": true,
           "gridcolor": "white",
           "linecolor": "white",
           "ticks": "",
           "title": {
            "standoff": 15
           },
           "zerolinecolor": "white",
           "zerolinewidth": 2
          },
          "yaxis": {
           "automargin": true,
           "gridcolor": "white",
           "linecolor": "white",
           "ticks": "",
           "title": {
            "standoff": 15
           },
           "zerolinecolor": "white",
           "zerolinewidth": 2
          }
         }
        },
        "title": {
         "font": {
          "family": "Arial",
          "size": 24,
          "weight": "bold"
         },
         "text": "Распределение средних оценок у фильмов"
        },
        "width": 800,
        "xaxis": {
         "anchor": "y",
         "domain": [
          0,
          1
         ],
         "dtick": 100,
         "gridcolor": "lightgray",
         "griddash": "dash",
         "gridwidth": 1,
         "linecolor": "black",
         "linewidth": 1,
         "showline": true,
         "showticklabels": true,
         "tickcolor": "black",
         "tickfont": {
          "size": 16
         },
         "ticklen": 6,
         "tickmode": "linear",
         "ticks": "outside",
         "tickwidth": 2,
         "title": {
          "font": {
           "family": "Arial",
           "size": 20
          },
          "text": "Количество оценок"
         }
        },
        "yaxis": {
         "anchor": "x",
         "domain": [
          0,
          1
         ],
         "dtick": 50,
         "gridcolor": "lightgray",
         "griddash": "dash",
         "gridwidth": 1,
         "linecolor": "black",
         "linewidth": 1,
         "showline": true,
         "showticklabels": true,
         "tickfont": {
          "size": 16
         },
         "ticklen": 6,
         "tickmode": "linear",
         "ticks": "outside",
         "tickwidth": 2,
         "title": {
          "font": {
           "family": "Arial",
           "size": 20
          },
          "text": "Количество фильмов"
         }
        }
       }
      }
     },
     "metadata": {},
     "output_type": "display_data"
    }
   ],
   "source": [
    "fig_10 = px.histogram(\n",
    "    mean_rating[\"mean_rating\"],\n",
    "    nbins=200,\n",
    "    title=\"Распределение средних оценок у фильмов\",\n",
    ")\n",
    "fig_10.update_layout(\n",
    "    width=800,  # ширина в пикселях\n",
    "    height=600,  # высота в пикселях\n",
    "    # autosize=False,  # отключаем авторазмер\n",
    "    xaxis_title=\"Количество оценок\",\n",
    "    yaxis_title=\"Количество фильмов\",\n",
    "    # title_font=dict(size=24, family=\"Arial\", weight=\"bold\"),\n",
    "    showlegend=False,\n",
    ")\n",
    "fig_10.update_layout(\n",
    "    xaxis=dict(\n",
    "        showticklabels=True,\n",
    "        tickmode=\"linear\",\n",
    "        ticks=\"outside\",  # Ticks снаружи: 'outside', 'inside', ''\n",
    "        ticklen=6,  # Длина ticks\n",
    "        tickwidth=2,  # Толщина ticks\n",
    "        tickcolor=\"black\",  # Цвет ticks\n",
    "        dtick=100,\n",
    "        # tickmode='array',  # Режим ручной установки\n",
    "        # tickvals=[0, 1, 2, 3],  # Позиции ticks\n",
    "        # ticktext=['Категория A', 'Категория B', 'Категория C', 'Категория D']  # Подписи\n",
    "    ),\n",
    "    yaxis=dict(\n",
    "        showticklabels=True,\n",
    "        tickmode=\"linear\",\n",
    "        dtick=50,\n",
    "        ticks=\"outside\",  # Ticks снаружи: 'outside', 'inside', ''\n",
    "        ticklen=6,  # Длина ticks\n",
    "        tickwidth=2,  # Толщина ticks\n",
    "        # tickmode=\"linear\",\n",
    "        # dtick=5\n",
    "    ),\n",
    ")\n",
    "fig_10 = configure_plotly_theme(fig_10)\n",
    "fig_10.update_traces(marker=dict(line=dict(width=1, color=\"black\")))\n",
    "fig_10.show()"
   ]
  },
  {
   "cell_type": "markdown",
   "id": "c4d6ceb2-10a0-4742-b6e3-da9b8dd4ef39",
   "metadata": {},
   "source": [
    "<img src=\"https://icons.iconarchive.com/icons/icons8/windows-8/256/Programming-Github-icon.png\" width=32 /> Пора сохранить изменения для __github__. После пуша распечатай результат команды `!git status` в ячейке ниже."
   ]
  },
  {
   "cell_type": "code",
   "execution_count": 42,
   "id": "75a95b57-2302-448a-b035-c0cd3aedbed7",
   "metadata": {},
   "outputs": [],
   "source": [
    "# code"
   ]
  },
  {
   "cell_type": "markdown",
   "id": "857f215e",
   "metadata": {},
   "source": [
    "### Рекомендации по популярности 🔝"
   ]
  },
  {
   "cell_type": "markdown",
   "id": "9d1975e1-660d-424c-989f-d4618276cea1",
   "metadata": {},
   "source": [
    "Мы хотим рекомендовать фильмы с самой большой оценкой, которые при этом смотрели достаточно часто. Для этого нужно оценить величину, которую мы назовем __score__, значение которой будет вычисляться как логарифм числа оценок фильма, умноженный на среднюю оценку: \n",
    "$$score_{film} = \\log n * \\bar{r}_{film},$$\n",
    "где $n$ - число оценок для фильма, $\\bar{r}_{film}$ - средний рейтинг фильма. \n",
    "\n",
    "# ❓\n",
    "Зачем мы берем логарифм от числа оценок фильма?"
   ]
  },
  {
   "cell_type": "markdown",
   "id": "60282eba-26b1-4d23-9af7-5bd66f662635",
   "metadata": {},
   "source": [
    "> Чтобы приращение score при росте количества просмотров было плавным. В противном случае количество просмотров будет влиять слишком сильно"
   ]
  },
  {
   "cell_type": "markdown",
   "id": "4f9f1793-9352-4ca8-8a65-d80c4fe4c9d9",
   "metadata": {},
   "source": [
    "Добавь колонки `num_ratings, mean_rating, score` в датафрейм `ratings` и найди топ-10 фильмов, которые всем точно стоит посмотреть."
   ]
  },
  {
   "cell_type": "code",
   "execution_count": 43,
   "id": "93ca5e1b",
   "metadata": {},
   "outputs": [
    {
     "name": "stdout",
     "output_type": "stream",
     "text": [
      "(1682, 22)\n"
     ]
    },
    {
     "data": {
      "text/html": [
       "<div>\n",
       "<style scoped>\n",
       "    .dataframe tbody tr th:only-of-type {\n",
       "        vertical-align: middle;\n",
       "    }\n",
       "\n",
       "    .dataframe tbody tr th {\n",
       "        vertical-align: top;\n",
       "    }\n",
       "\n",
       "    .dataframe thead th {\n",
       "        text-align: right;\n",
       "    }\n",
       "</style>\n",
       "<table border=\"1\" class=\"dataframe\">\n",
       "  <thead>\n",
       "    <tr style=\"text-align: right;\">\n",
       "      <th></th>\n",
       "      <th>movie_id</th>\n",
       "      <th>title</th>\n",
       "      <th>release_date</th>\n",
       "      <th>imdb_url</th>\n",
       "      <th>Action</th>\n",
       "      <th>Adventure</th>\n",
       "      <th>Animation</th>\n",
       "      <th>Children's</th>\n",
       "      <th>Comedy</th>\n",
       "      <th>Crime</th>\n",
       "      <th>...</th>\n",
       "      <th>Fantasy</th>\n",
       "      <th>Film-Noir</th>\n",
       "      <th>Horror</th>\n",
       "      <th>Musical</th>\n",
       "      <th>Mystery</th>\n",
       "      <th>Romance</th>\n",
       "      <th>Sci-Fi</th>\n",
       "      <th>Thriller</th>\n",
       "      <th>War</th>\n",
       "      <th>Western</th>\n",
       "    </tr>\n",
       "  </thead>\n",
       "  <tbody>\n",
       "    <tr>\n",
       "      <th>0</th>\n",
       "      <td>1</td>\n",
       "      <td>Toy Story (1995)</td>\n",
       "      <td>01-Jan-1995</td>\n",
       "      <td>http://us.imdb.com/M/title-exact?Toy%20Story%2...</td>\n",
       "      <td>0</td>\n",
       "      <td>0</td>\n",
       "      <td>1</td>\n",
       "      <td>1</td>\n",
       "      <td>1</td>\n",
       "      <td>0</td>\n",
       "      <td>...</td>\n",
       "      <td>0</td>\n",
       "      <td>0</td>\n",
       "      <td>0</td>\n",
       "      <td>0</td>\n",
       "      <td>0</td>\n",
       "      <td>0</td>\n",
       "      <td>0</td>\n",
       "      <td>0</td>\n",
       "      <td>0</td>\n",
       "      <td>0</td>\n",
       "    </tr>\n",
       "    <tr>\n",
       "      <th>1</th>\n",
       "      <td>2</td>\n",
       "      <td>GoldenEye (1995)</td>\n",
       "      <td>01-Jan-1995</td>\n",
       "      <td>http://us.imdb.com/M/title-exact?GoldenEye%20(...</td>\n",
       "      <td>1</td>\n",
       "      <td>1</td>\n",
       "      <td>0</td>\n",
       "      <td>0</td>\n",
       "      <td>0</td>\n",
       "      <td>0</td>\n",
       "      <td>...</td>\n",
       "      <td>0</td>\n",
       "      <td>0</td>\n",
       "      <td>0</td>\n",
       "      <td>0</td>\n",
       "      <td>0</td>\n",
       "      <td>0</td>\n",
       "      <td>0</td>\n",
       "      <td>1</td>\n",
       "      <td>0</td>\n",
       "      <td>0</td>\n",
       "    </tr>\n",
       "    <tr>\n",
       "      <th>2</th>\n",
       "      <td>3</td>\n",
       "      <td>Four Rooms (1995)</td>\n",
       "      <td>01-Jan-1995</td>\n",
       "      <td>http://us.imdb.com/M/title-exact?Four%20Rooms%...</td>\n",
       "      <td>0</td>\n",
       "      <td>0</td>\n",
       "      <td>0</td>\n",
       "      <td>0</td>\n",
       "      <td>0</td>\n",
       "      <td>0</td>\n",
       "      <td>...</td>\n",
       "      <td>0</td>\n",
       "      <td>0</td>\n",
       "      <td>0</td>\n",
       "      <td>0</td>\n",
       "      <td>0</td>\n",
       "      <td>0</td>\n",
       "      <td>0</td>\n",
       "      <td>1</td>\n",
       "      <td>0</td>\n",
       "      <td>0</td>\n",
       "    </tr>\n",
       "    <tr>\n",
       "      <th>3</th>\n",
       "      <td>4</td>\n",
       "      <td>Get Shorty (1995)</td>\n",
       "      <td>01-Jan-1995</td>\n",
       "      <td>http://us.imdb.com/M/title-exact?Get%20Shorty%...</td>\n",
       "      <td>1</td>\n",
       "      <td>0</td>\n",
       "      <td>0</td>\n",
       "      <td>0</td>\n",
       "      <td>1</td>\n",
       "      <td>0</td>\n",
       "      <td>...</td>\n",
       "      <td>0</td>\n",
       "      <td>0</td>\n",
       "      <td>0</td>\n",
       "      <td>0</td>\n",
       "      <td>0</td>\n",
       "      <td>0</td>\n",
       "      <td>0</td>\n",
       "      <td>0</td>\n",
       "      <td>0</td>\n",
       "      <td>0</td>\n",
       "    </tr>\n",
       "    <tr>\n",
       "      <th>4</th>\n",
       "      <td>5</td>\n",
       "      <td>Copycat (1995)</td>\n",
       "      <td>01-Jan-1995</td>\n",
       "      <td>http://us.imdb.com/M/title-exact?Copycat%20(1995)</td>\n",
       "      <td>0</td>\n",
       "      <td>0</td>\n",
       "      <td>0</td>\n",
       "      <td>0</td>\n",
       "      <td>0</td>\n",
       "      <td>1</td>\n",
       "      <td>...</td>\n",
       "      <td>0</td>\n",
       "      <td>0</td>\n",
       "      <td>0</td>\n",
       "      <td>0</td>\n",
       "      <td>0</td>\n",
       "      <td>0</td>\n",
       "      <td>0</td>\n",
       "      <td>1</td>\n",
       "      <td>0</td>\n",
       "      <td>0</td>\n",
       "    </tr>\n",
       "  </tbody>\n",
       "</table>\n",
       "<p>5 rows × 22 columns</p>\n",
       "</div>"
      ],
      "text/plain": [
       "   movie_id              title release_date  \\\n",
       "0         1   Toy Story (1995)  01-Jan-1995   \n",
       "1         2   GoldenEye (1995)  01-Jan-1995   \n",
       "2         3  Four Rooms (1995)  01-Jan-1995   \n",
       "3         4  Get Shorty (1995)  01-Jan-1995   \n",
       "4         5     Copycat (1995)  01-Jan-1995   \n",
       "\n",
       "                                            imdb_url  Action  Adventure  \\\n",
       "0  http://us.imdb.com/M/title-exact?Toy%20Story%2...       0          0   \n",
       "1  http://us.imdb.com/M/title-exact?GoldenEye%20(...       1          1   \n",
       "2  http://us.imdb.com/M/title-exact?Four%20Rooms%...       0          0   \n",
       "3  http://us.imdb.com/M/title-exact?Get%20Shorty%...       1          0   \n",
       "4  http://us.imdb.com/M/title-exact?Copycat%20(1995)       0          0   \n",
       "\n",
       "   Animation  Children's  Comedy  Crime  ...  Fantasy  Film-Noir  Horror  \\\n",
       "0          1           1       1      0  ...        0          0       0   \n",
       "1          0           0       0      0  ...        0          0       0   \n",
       "2          0           0       0      0  ...        0          0       0   \n",
       "3          0           0       1      0  ...        0          0       0   \n",
       "4          0           0       0      1  ...        0          0       0   \n",
       "\n",
       "   Musical  Mystery  Romance  Sci-Fi  Thriller  War  Western  \n",
       "0        0        0        0       0         0    0        0  \n",
       "1        0        0        0       0         1    0        0  \n",
       "2        0        0        0       0         1    0        0  \n",
       "3        0        0        0       0         0    0        0  \n",
       "4        0        0        0       0         1    0        0  \n",
       "\n",
       "[5 rows x 22 columns]"
      ]
     },
     "execution_count": 43,
     "metadata": {},
     "output_type": "execute_result"
    }
   ],
   "source": [
    "print(movies.shape)\n",
    "movies.head()"
   ]
  },
  {
   "cell_type": "code",
   "execution_count": 44,
   "id": "cdfe2042",
   "metadata": {},
   "outputs": [
    {
     "data": {
      "text/html": [
       "<div>\n",
       "<style scoped>\n",
       "    .dataframe tbody tr th:only-of-type {\n",
       "        vertical-align: middle;\n",
       "    }\n",
       "\n",
       "    .dataframe tbody tr th {\n",
       "        vertical-align: top;\n",
       "    }\n",
       "\n",
       "    .dataframe thead th {\n",
       "        text-align: right;\n",
       "    }\n",
       "</style>\n",
       "<table border=\"1\" class=\"dataframe\">\n",
       "  <thead>\n",
       "    <tr style=\"text-align: right;\">\n",
       "      <th></th>\n",
       "      <th>movie_id</th>\n",
       "      <th>title</th>\n",
       "      <th>mean_rating</th>\n",
       "      <th>ratings_count</th>\n",
       "    </tr>\n",
       "  </thead>\n",
       "  <tbody>\n",
       "    <tr>\n",
       "      <th>0</th>\n",
       "      <td>1</td>\n",
       "      <td>Toy Story (1995)</td>\n",
       "      <td>3.878319</td>\n",
       "      <td>452</td>\n",
       "    </tr>\n",
       "    <tr>\n",
       "      <th>1</th>\n",
       "      <td>2</td>\n",
       "      <td>GoldenEye (1995)</td>\n",
       "      <td>3.206107</td>\n",
       "      <td>131</td>\n",
       "    </tr>\n",
       "    <tr>\n",
       "      <th>2</th>\n",
       "      <td>3</td>\n",
       "      <td>Four Rooms (1995)</td>\n",
       "      <td>3.033333</td>\n",
       "      <td>90</td>\n",
       "    </tr>\n",
       "    <tr>\n",
       "      <th>3</th>\n",
       "      <td>4</td>\n",
       "      <td>Get Shorty (1995)</td>\n",
       "      <td>3.550239</td>\n",
       "      <td>209</td>\n",
       "    </tr>\n",
       "    <tr>\n",
       "      <th>4</th>\n",
       "      <td>5</td>\n",
       "      <td>Copycat (1995)</td>\n",
       "      <td>3.302326</td>\n",
       "      <td>86</td>\n",
       "    </tr>\n",
       "  </tbody>\n",
       "</table>\n",
       "</div>"
      ],
      "text/plain": [
       "   movie_id              title  mean_rating  ratings_count\n",
       "0         1   Toy Story (1995)     3.878319            452\n",
       "1         2   GoldenEye (1995)     3.206107            131\n",
       "2         3  Four Rooms (1995)     3.033333             90\n",
       "3         4  Get Shorty (1995)     3.550239            209\n",
       "4         5     Copycat (1995)     3.302326             86"
      ]
     },
     "execution_count": 44,
     "metadata": {},
     "output_type": "execute_result"
    }
   ],
   "source": [
    "movies_short = movies[[\"movie_id\", \"title\"]]\n",
    "movies_short = pd.merge(\n",
    "    movies_short,\n",
    "    mean_rating[[\"movie_id\", \"mean_rating\"]],\n",
    "    how=\"left\",\n",
    "    on=\"movie_id\",\n",
    ")\n",
    "movies_short = pd.merge(\n",
    "    movies_short,\n",
    "    movies_ratings_count.reset_index()[[\"movie_id\", \"user_id\"]],\n",
    "    how=\"left\",\n",
    "    on=\"movie_id\",\n",
    ")\n",
    "# movies_short[\"num_ratings\"] = movies_ratings_count.copy()\n",
    "movies_short = movies_short.rename(columns={\"user_id\": \"ratings_count\"})\n",
    "movies_short.head()"
   ]
  },
  {
   "cell_type": "code",
   "execution_count": 45,
   "id": "78bc6d0c",
   "metadata": {},
   "outputs": [
    {
     "data": {
      "text/html": [
       "<div>\n",
       "<style scoped>\n",
       "    .dataframe tbody tr th:only-of-type {\n",
       "        vertical-align: middle;\n",
       "    }\n",
       "\n",
       "    .dataframe tbody tr th {\n",
       "        vertical-align: top;\n",
       "    }\n",
       "\n",
       "    .dataframe thead th {\n",
       "        text-align: right;\n",
       "    }\n",
       "</style>\n",
       "<table border=\"1\" class=\"dataframe\">\n",
       "  <thead>\n",
       "    <tr style=\"text-align: right;\">\n",
       "      <th></th>\n",
       "      <th>movie_id</th>\n",
       "      <th>title</th>\n",
       "      <th>mean_rating</th>\n",
       "      <th>ratings_count</th>\n",
       "      <th>score</th>\n",
       "    </tr>\n",
       "  </thead>\n",
       "  <tbody>\n",
       "    <tr>\n",
       "      <th>49</th>\n",
       "      <td>50</td>\n",
       "      <td>Star Wars (1977)</td>\n",
       "      <td>4.358491</td>\n",
       "      <td>583</td>\n",
       "      <td>27.755684</td>\n",
       "    </tr>\n",
       "    <tr>\n",
       "      <th>99</th>\n",
       "      <td>100</td>\n",
       "      <td>Fargo (1996)</td>\n",
       "      <td>4.155512</td>\n",
       "      <td>508</td>\n",
       "      <td>25.890839</td>\n",
       "    </tr>\n",
       "    <tr>\n",
       "      <th>126</th>\n",
       "      <td>127</td>\n",
       "      <td>Godfather, The (1972)</td>\n",
       "      <td>4.283293</td>\n",
       "      <td>413</td>\n",
       "      <td>25.800191</td>\n",
       "    </tr>\n",
       "    <tr>\n",
       "      <th>173</th>\n",
       "      <td>174</td>\n",
       "      <td>Raiders of the Lost Ark (1981)</td>\n",
       "      <td>4.252381</td>\n",
       "      <td>420</td>\n",
       "      <td>25.685464</td>\n",
       "    </tr>\n",
       "    <tr>\n",
       "      <th>97</th>\n",
       "      <td>98</td>\n",
       "      <td>Silence of the Lambs, The (1991)</td>\n",
       "      <td>4.289744</td>\n",
       "      <td>390</td>\n",
       "      <td>25.593240</td>\n",
       "    </tr>\n",
       "    <tr>\n",
       "      <th>317</th>\n",
       "      <td>318</td>\n",
       "      <td>Schindler's List (1993)</td>\n",
       "      <td>4.466443</td>\n",
       "      <td>298</td>\n",
       "      <td>25.445743</td>\n",
       "    </tr>\n",
       "    <tr>\n",
       "      <th>63</th>\n",
       "      <td>64</td>\n",
       "      <td>Shawshank Redemption, The (1994)</td>\n",
       "      <td>4.445230</td>\n",
       "      <td>283</td>\n",
       "      <td>25.095308</td>\n",
       "    </tr>\n",
       "    <tr>\n",
       "      <th>180</th>\n",
       "      <td>181</td>\n",
       "      <td>Return of the Jedi (1983)</td>\n",
       "      <td>4.007890</td>\n",
       "      <td>507</td>\n",
       "      <td>24.963184</td>\n",
       "    </tr>\n",
       "    <tr>\n",
       "      <th>312</th>\n",
       "      <td>313</td>\n",
       "      <td>Titanic (1997)</td>\n",
       "      <td>4.245714</td>\n",
       "      <td>350</td>\n",
       "      <td>24.871110</td>\n",
       "    </tr>\n",
       "    <tr>\n",
       "      <th>171</th>\n",
       "      <td>172</td>\n",
       "      <td>Empire Strikes Back, The (1980)</td>\n",
       "      <td>4.204360</td>\n",
       "      <td>367</td>\n",
       "      <td>24.828265</td>\n",
       "    </tr>\n",
       "  </tbody>\n",
       "</table>\n",
       "</div>"
      ],
      "text/plain": [
       "     movie_id                             title  mean_rating  ratings_count  \\\n",
       "49         50                  Star Wars (1977)     4.358491            583   \n",
       "99        100                      Fargo (1996)     4.155512            508   \n",
       "126       127             Godfather, The (1972)     4.283293            413   \n",
       "173       174    Raiders of the Lost Ark (1981)     4.252381            420   \n",
       "97         98  Silence of the Lambs, The (1991)     4.289744            390   \n",
       "317       318           Schindler's List (1993)     4.466443            298   \n",
       "63         64  Shawshank Redemption, The (1994)     4.445230            283   \n",
       "180       181         Return of the Jedi (1983)     4.007890            507   \n",
       "312       313                    Titanic (1997)     4.245714            350   \n",
       "171       172   Empire Strikes Back, The (1980)     4.204360            367   \n",
       "\n",
       "         score  \n",
       "49   27.755684  \n",
       "99   25.890839  \n",
       "126  25.800191  \n",
       "173  25.685464  \n",
       "97   25.593240  \n",
       "317  25.445743  \n",
       "63   25.095308  \n",
       "180  24.963184  \n",
       "312  24.871110  \n",
       "171  24.828265  "
      ]
     },
     "execution_count": 45,
     "metadata": {},
     "output_type": "execute_result"
    }
   ],
   "source": [
    "movies_short[\"score\"] = (\n",
    "    np.log(movies_short[\"ratings_count\"]) * movies_short[\"mean_rating\"]\n",
    ")\n",
    "movies_short.sort_values(\"score\", ascending=False).head(10)"
   ]
  },
  {
   "cell_type": "code",
   "execution_count": 46,
   "id": "4c5cbd8b",
   "metadata": {},
   "outputs": [
    {
     "data": {
      "text/html": [
       "<div>\n",
       "<style scoped>\n",
       "    .dataframe tbody tr th:only-of-type {\n",
       "        vertical-align: middle;\n",
       "    }\n",
       "\n",
       "    .dataframe tbody tr th {\n",
       "        vertical-align: top;\n",
       "    }\n",
       "\n",
       "    .dataframe thead th {\n",
       "        text-align: right;\n",
       "    }\n",
       "</style>\n",
       "<table border=\"1\" class=\"dataframe\">\n",
       "  <thead>\n",
       "    <tr style=\"text-align: right;\">\n",
       "      <th></th>\n",
       "      <th>movie_id</th>\n",
       "      <th>title</th>\n",
       "      <th>mean_rating</th>\n",
       "      <th>ratings_count</th>\n",
       "      <th>score</th>\n",
       "    </tr>\n",
       "  </thead>\n",
       "  <tbody>\n",
       "    <tr>\n",
       "      <th>0</th>\n",
       "      <td>1</td>\n",
       "      <td>Toy Story (1995)</td>\n",
       "      <td>3.878319</td>\n",
       "      <td>452</td>\n",
       "      <td>23.710807</td>\n",
       "    </tr>\n",
       "    <tr>\n",
       "      <th>1</th>\n",
       "      <td>2</td>\n",
       "      <td>GoldenEye (1995)</td>\n",
       "      <td>3.206107</td>\n",
       "      <td>131</td>\n",
       "      <td>15.630404</td>\n",
       "    </tr>\n",
       "    <tr>\n",
       "      <th>2</th>\n",
       "      <td>3</td>\n",
       "      <td>Four Rooms (1995)</td>\n",
       "      <td>3.033333</td>\n",
       "      <td>90</td>\n",
       "      <td>13.649423</td>\n",
       "    </tr>\n",
       "    <tr>\n",
       "      <th>3</th>\n",
       "      <td>4</td>\n",
       "      <td>Get Shorty (1995)</td>\n",
       "      <td>3.550239</td>\n",
       "      <td>209</td>\n",
       "      <td>18.966565</td>\n",
       "    </tr>\n",
       "    <tr>\n",
       "      <th>4</th>\n",
       "      <td>5</td>\n",
       "      <td>Copycat (1995)</td>\n",
       "      <td>3.302326</td>\n",
       "      <td>86</td>\n",
       "      <td>14.709705</td>\n",
       "    </tr>\n",
       "    <tr>\n",
       "      <th>5</th>\n",
       "      <td>6</td>\n",
       "      <td>Shanghai Triad (Yao a yao yao dao waipo qiao) ...</td>\n",
       "      <td>3.576923</td>\n",
       "      <td>26</td>\n",
       "      <td>11.653961</td>\n",
       "    </tr>\n",
       "  </tbody>\n",
       "</table>\n",
       "</div>"
      ],
      "text/plain": [
       "   movie_id                                              title  mean_rating  \\\n",
       "0         1                                   Toy Story (1995)     3.878319   \n",
       "1         2                                   GoldenEye (1995)     3.206107   \n",
       "2         3                                  Four Rooms (1995)     3.033333   \n",
       "3         4                                  Get Shorty (1995)     3.550239   \n",
       "4         5                                     Copycat (1995)     3.302326   \n",
       "5         6  Shanghai Triad (Yao a yao yao dao waipo qiao) ...     3.576923   \n",
       "\n",
       "   ratings_count      score  \n",
       "0            452  23.710807  \n",
       "1            131  15.630404  \n",
       "2             90  13.649423  \n",
       "3            209  18.966565  \n",
       "4             86  14.709705  \n",
       "5             26  11.653961  "
      ]
     },
     "execution_count": 46,
     "metadata": {},
     "output_type": "execute_result"
    }
   ],
   "source": [
    "movies_short.head(6)"
   ]
  },
  {
   "cell_type": "markdown",
   "id": "30a9ca2e",
   "metadata": {},
   "source": [
    "## Контентный подход\n",
    "\n",
    "### Похожесть фильмов между собой 🎥 - 🎥\n",
    "\n",
    "Посчитай меры похожести каждой пары фильмов по жанрам. Будем рекомендовать фильмы, похожие на какой-нибудь из фильмов, который понравился пользователю. В результате должна получиться функция `recommend(user_id, top=10)`, которая должна выдавать `list` или `pd.DataFrame` из `<top>` фильмов, которые мы будем рекомендовать пользователю.\n",
    "\n",
    "<details>\n",
    "<summary>Что такое похожесть в текущем контексте?</summary>\n",
    "Каждый фильм может быть представлен вектором, описывающим его принадлежность к жанрам. Близость этих векторов можно использовать как меру сходства двух фильмов. \n",
    "</details>\n"
   ]
  },
  {
   "cell_type": "code",
   "execution_count": 47,
   "id": "05225760",
   "metadata": {},
   "outputs": [
    {
     "data": {
      "text/html": [
       "<div>\n",
       "<style scoped>\n",
       "    .dataframe tbody tr th:only-of-type {\n",
       "        vertical-align: middle;\n",
       "    }\n",
       "\n",
       "    .dataframe tbody tr th {\n",
       "        vertical-align: top;\n",
       "    }\n",
       "\n",
       "    .dataframe thead th {\n",
       "        text-align: right;\n",
       "    }\n",
       "</style>\n",
       "<table border=\"1\" class=\"dataframe\">\n",
       "  <thead>\n",
       "    <tr style=\"text-align: right;\">\n",
       "      <th></th>\n",
       "      <th>Action</th>\n",
       "      <th>Adventure</th>\n",
       "      <th>Animation</th>\n",
       "      <th>Children's</th>\n",
       "      <th>Comedy</th>\n",
       "      <th>Crime</th>\n",
       "      <th>Documentary</th>\n",
       "      <th>Drama</th>\n",
       "      <th>Fantasy</th>\n",
       "      <th>Film-Noir</th>\n",
       "      <th>Horror</th>\n",
       "      <th>Musical</th>\n",
       "      <th>Mystery</th>\n",
       "      <th>Romance</th>\n",
       "      <th>Sci-Fi</th>\n",
       "      <th>Thriller</th>\n",
       "      <th>War</th>\n",
       "      <th>Western</th>\n",
       "    </tr>\n",
       "  </thead>\n",
       "  <tbody>\n",
       "    <tr>\n",
       "      <th>0</th>\n",
       "      <td>0</td>\n",
       "      <td>0</td>\n",
       "      <td>1</td>\n",
       "      <td>1</td>\n",
       "      <td>1</td>\n",
       "      <td>0</td>\n",
       "      <td>0</td>\n",
       "      <td>0</td>\n",
       "      <td>0</td>\n",
       "      <td>0</td>\n",
       "      <td>0</td>\n",
       "      <td>0</td>\n",
       "      <td>0</td>\n",
       "      <td>0</td>\n",
       "      <td>0</td>\n",
       "      <td>0</td>\n",
       "      <td>0</td>\n",
       "      <td>0</td>\n",
       "    </tr>\n",
       "    <tr>\n",
       "      <th>1</th>\n",
       "      <td>1</td>\n",
       "      <td>1</td>\n",
       "      <td>0</td>\n",
       "      <td>0</td>\n",
       "      <td>0</td>\n",
       "      <td>0</td>\n",
       "      <td>0</td>\n",
       "      <td>0</td>\n",
       "      <td>0</td>\n",
       "      <td>0</td>\n",
       "      <td>0</td>\n",
       "      <td>0</td>\n",
       "      <td>0</td>\n",
       "      <td>0</td>\n",
       "      <td>0</td>\n",
       "      <td>1</td>\n",
       "      <td>0</td>\n",
       "      <td>0</td>\n",
       "    </tr>\n",
       "  </tbody>\n",
       "</table>\n",
       "</div>"
      ],
      "text/plain": [
       "   Action  Adventure  Animation  Children's  Comedy  Crime  Documentary  \\\n",
       "0       0          0          1           1       1      0            0   \n",
       "1       1          1          0           0       0      0            0   \n",
       "\n",
       "   Drama  Fantasy  Film-Noir  Horror  Musical  Mystery  Romance  Sci-Fi  \\\n",
       "0      0        0          0       0        0        0        0       0   \n",
       "1      0        0          0       0        0        0        0       0   \n",
       "\n",
       "   Thriller  War  Western  \n",
       "0         0    0        0  \n",
       "1         1    0        0  "
      ]
     },
     "execution_count": 47,
     "metadata": {},
     "output_type": "execute_result"
    }
   ],
   "source": [
    "genres.head(2)"
   ]
  },
  {
   "cell_type": "code",
   "execution_count": 48,
   "id": "02d72448",
   "metadata": {},
   "outputs": [
    {
     "data": {
      "text/html": [
       "<div>\n",
       "<style scoped>\n",
       "    .dataframe tbody tr th:only-of-type {\n",
       "        vertical-align: middle;\n",
       "    }\n",
       "\n",
       "    .dataframe tbody tr th {\n",
       "        vertical-align: top;\n",
       "    }\n",
       "\n",
       "    .dataframe thead th {\n",
       "        text-align: right;\n",
       "    }\n",
       "</style>\n",
       "<table border=\"1\" class=\"dataframe\">\n",
       "  <thead>\n",
       "    <tr style=\"text-align: right;\">\n",
       "      <th></th>\n",
       "      <th>0</th>\n",
       "      <th>1</th>\n",
       "      <th>2</th>\n",
       "      <th>3</th>\n",
       "      <th>4</th>\n",
       "      <th>5</th>\n",
       "      <th>6</th>\n",
       "      <th>7</th>\n",
       "      <th>8</th>\n",
       "      <th>9</th>\n",
       "      <th>...</th>\n",
       "      <th>1672</th>\n",
       "      <th>1673</th>\n",
       "      <th>1674</th>\n",
       "      <th>1675</th>\n",
       "      <th>1676</th>\n",
       "      <th>1677</th>\n",
       "      <th>1678</th>\n",
       "      <th>1679</th>\n",
       "      <th>1680</th>\n",
       "      <th>1681</th>\n",
       "    </tr>\n",
       "  </thead>\n",
       "  <tbody>\n",
       "    <tr>\n",
       "      <th>0</th>\n",
       "      <td>1.000000</td>\n",
       "      <td>0.000000</td>\n",
       "      <td>0.000000</td>\n",
       "      <td>0.333333</td>\n",
       "      <td>0.000000</td>\n",
       "      <td>0.000000</td>\n",
       "      <td>0.000000</td>\n",
       "      <td>0.666667</td>\n",
       "      <td>0.000000</td>\n",
       "      <td>0.000000</td>\n",
       "      <td>...</td>\n",
       "      <td>0.000000</td>\n",
       "      <td>0.000000</td>\n",
       "      <td>0.000000</td>\n",
       "      <td>0.000000</td>\n",
       "      <td>0.000000</td>\n",
       "      <td>0.000000</td>\n",
       "      <td>0.000000</td>\n",
       "      <td>0.000000</td>\n",
       "      <td>0.57735</td>\n",
       "      <td>0.000000</td>\n",
       "    </tr>\n",
       "    <tr>\n",
       "      <th>1</th>\n",
       "      <td>0.000000</td>\n",
       "      <td>1.000000</td>\n",
       "      <td>0.577350</td>\n",
       "      <td>0.333333</td>\n",
       "      <td>0.333333</td>\n",
       "      <td>0.000000</td>\n",
       "      <td>0.000000</td>\n",
       "      <td>0.000000</td>\n",
       "      <td>0.000000</td>\n",
       "      <td>0.000000</td>\n",
       "      <td>...</td>\n",
       "      <td>0.816497</td>\n",
       "      <td>0.000000</td>\n",
       "      <td>0.000000</td>\n",
       "      <td>0.000000</td>\n",
       "      <td>0.000000</td>\n",
       "      <td>0.000000</td>\n",
       "      <td>0.408248</td>\n",
       "      <td>0.000000</td>\n",
       "      <td>0.00000</td>\n",
       "      <td>0.000000</td>\n",
       "    </tr>\n",
       "    <tr>\n",
       "      <th>2</th>\n",
       "      <td>0.000000</td>\n",
       "      <td>0.577350</td>\n",
       "      <td>1.000000</td>\n",
       "      <td>0.000000</td>\n",
       "      <td>0.577350</td>\n",
       "      <td>0.000000</td>\n",
       "      <td>0.000000</td>\n",
       "      <td>0.000000</td>\n",
       "      <td>0.000000</td>\n",
       "      <td>0.000000</td>\n",
       "      <td>...</td>\n",
       "      <td>0.707107</td>\n",
       "      <td>0.000000</td>\n",
       "      <td>0.000000</td>\n",
       "      <td>0.000000</td>\n",
       "      <td>0.000000</td>\n",
       "      <td>0.000000</td>\n",
       "      <td>0.707107</td>\n",
       "      <td>0.000000</td>\n",
       "      <td>0.00000</td>\n",
       "      <td>0.000000</td>\n",
       "    </tr>\n",
       "    <tr>\n",
       "      <th>3</th>\n",
       "      <td>0.333333</td>\n",
       "      <td>0.333333</td>\n",
       "      <td>0.000000</td>\n",
       "      <td>1.000000</td>\n",
       "      <td>0.333333</td>\n",
       "      <td>0.577350</td>\n",
       "      <td>0.408248</td>\n",
       "      <td>0.666667</td>\n",
       "      <td>0.577350</td>\n",
       "      <td>0.408248</td>\n",
       "      <td>...</td>\n",
       "      <td>0.408248</td>\n",
       "      <td>0.577350</td>\n",
       "      <td>0.577350</td>\n",
       "      <td>0.577350</td>\n",
       "      <td>0.577350</td>\n",
       "      <td>0.577350</td>\n",
       "      <td>0.000000</td>\n",
       "      <td>0.408248</td>\n",
       "      <td>0.57735</td>\n",
       "      <td>0.577350</td>\n",
       "    </tr>\n",
       "    <tr>\n",
       "      <th>4</th>\n",
       "      <td>0.000000</td>\n",
       "      <td>0.333333</td>\n",
       "      <td>0.577350</td>\n",
       "      <td>0.333333</td>\n",
       "      <td>1.000000</td>\n",
       "      <td>0.577350</td>\n",
       "      <td>0.408248</td>\n",
       "      <td>0.333333</td>\n",
       "      <td>0.577350</td>\n",
       "      <td>0.408248</td>\n",
       "      <td>...</td>\n",
       "      <td>0.408248</td>\n",
       "      <td>0.577350</td>\n",
       "      <td>0.577350</td>\n",
       "      <td>0.577350</td>\n",
       "      <td>0.577350</td>\n",
       "      <td>0.577350</td>\n",
       "      <td>0.408248</td>\n",
       "      <td>0.408248</td>\n",
       "      <td>0.00000</td>\n",
       "      <td>0.577350</td>\n",
       "    </tr>\n",
       "    <tr>\n",
       "      <th>...</th>\n",
       "      <td>...</td>\n",
       "      <td>...</td>\n",
       "      <td>...</td>\n",
       "      <td>...</td>\n",
       "      <td>...</td>\n",
       "      <td>...</td>\n",
       "      <td>...</td>\n",
       "      <td>...</td>\n",
       "      <td>...</td>\n",
       "      <td>...</td>\n",
       "      <td>...</td>\n",
       "      <td>...</td>\n",
       "      <td>...</td>\n",
       "      <td>...</td>\n",
       "      <td>...</td>\n",
       "      <td>...</td>\n",
       "      <td>...</td>\n",
       "      <td>...</td>\n",
       "      <td>...</td>\n",
       "      <td>...</td>\n",
       "      <td>...</td>\n",
       "    </tr>\n",
       "    <tr>\n",
       "      <th>1677</th>\n",
       "      <td>0.000000</td>\n",
       "      <td>0.000000</td>\n",
       "      <td>0.000000</td>\n",
       "      <td>0.577350</td>\n",
       "      <td>0.577350</td>\n",
       "      <td>1.000000</td>\n",
       "      <td>0.707107</td>\n",
       "      <td>0.577350</td>\n",
       "      <td>1.000000</td>\n",
       "      <td>0.707107</td>\n",
       "      <td>...</td>\n",
       "      <td>0.000000</td>\n",
       "      <td>1.000000</td>\n",
       "      <td>1.000000</td>\n",
       "      <td>1.000000</td>\n",
       "      <td>1.000000</td>\n",
       "      <td>1.000000</td>\n",
       "      <td>0.000000</td>\n",
       "      <td>0.707107</td>\n",
       "      <td>0.00000</td>\n",
       "      <td>1.000000</td>\n",
       "    </tr>\n",
       "    <tr>\n",
       "      <th>1678</th>\n",
       "      <td>0.000000</td>\n",
       "      <td>0.408248</td>\n",
       "      <td>0.707107</td>\n",
       "      <td>0.000000</td>\n",
       "      <td>0.408248</td>\n",
       "      <td>0.000000</td>\n",
       "      <td>0.000000</td>\n",
       "      <td>0.000000</td>\n",
       "      <td>0.000000</td>\n",
       "      <td>0.000000</td>\n",
       "      <td>...</td>\n",
       "      <td>0.500000</td>\n",
       "      <td>0.000000</td>\n",
       "      <td>0.000000</td>\n",
       "      <td>0.000000</td>\n",
       "      <td>0.000000</td>\n",
       "      <td>0.000000</td>\n",
       "      <td>1.000000</td>\n",
       "      <td>0.500000</td>\n",
       "      <td>0.00000</td>\n",
       "      <td>0.000000</td>\n",
       "    </tr>\n",
       "    <tr>\n",
       "      <th>1679</th>\n",
       "      <td>0.000000</td>\n",
       "      <td>0.000000</td>\n",
       "      <td>0.000000</td>\n",
       "      <td>0.408248</td>\n",
       "      <td>0.408248</td>\n",
       "      <td>0.707107</td>\n",
       "      <td>0.500000</td>\n",
       "      <td>0.408248</td>\n",
       "      <td>0.707107</td>\n",
       "      <td>0.500000</td>\n",
       "      <td>...</td>\n",
       "      <td>0.000000</td>\n",
       "      <td>0.707107</td>\n",
       "      <td>0.707107</td>\n",
       "      <td>0.707107</td>\n",
       "      <td>0.707107</td>\n",
       "      <td>0.707107</td>\n",
       "      <td>0.500000</td>\n",
       "      <td>1.000000</td>\n",
       "      <td>0.00000</td>\n",
       "      <td>0.707107</td>\n",
       "    </tr>\n",
       "    <tr>\n",
       "      <th>1680</th>\n",
       "      <td>0.577350</td>\n",
       "      <td>0.000000</td>\n",
       "      <td>0.000000</td>\n",
       "      <td>0.577350</td>\n",
       "      <td>0.000000</td>\n",
       "      <td>0.000000</td>\n",
       "      <td>0.000000</td>\n",
       "      <td>0.577350</td>\n",
       "      <td>0.000000</td>\n",
       "      <td>0.000000</td>\n",
       "      <td>...</td>\n",
       "      <td>0.000000</td>\n",
       "      <td>0.000000</td>\n",
       "      <td>0.000000</td>\n",
       "      <td>0.000000</td>\n",
       "      <td>0.000000</td>\n",
       "      <td>0.000000</td>\n",
       "      <td>0.000000</td>\n",
       "      <td>0.000000</td>\n",
       "      <td>1.00000</td>\n",
       "      <td>0.000000</td>\n",
       "    </tr>\n",
       "    <tr>\n",
       "      <th>1681</th>\n",
       "      <td>0.000000</td>\n",
       "      <td>0.000000</td>\n",
       "      <td>0.000000</td>\n",
       "      <td>0.577350</td>\n",
       "      <td>0.577350</td>\n",
       "      <td>1.000000</td>\n",
       "      <td>0.707107</td>\n",
       "      <td>0.577350</td>\n",
       "      <td>1.000000</td>\n",
       "      <td>0.707107</td>\n",
       "      <td>...</td>\n",
       "      <td>0.000000</td>\n",
       "      <td>1.000000</td>\n",
       "      <td>1.000000</td>\n",
       "      <td>1.000000</td>\n",
       "      <td>1.000000</td>\n",
       "      <td>1.000000</td>\n",
       "      <td>0.000000</td>\n",
       "      <td>0.707107</td>\n",
       "      <td>0.00000</td>\n",
       "      <td>1.000000</td>\n",
       "    </tr>\n",
       "  </tbody>\n",
       "</table>\n",
       "<p>1682 rows × 1682 columns</p>\n",
       "</div>"
      ],
      "text/plain": [
       "          0         1         2         3         4         5         6     \\\n",
       "0     1.000000  0.000000  0.000000  0.333333  0.000000  0.000000  0.000000   \n",
       "1     0.000000  1.000000  0.577350  0.333333  0.333333  0.000000  0.000000   \n",
       "2     0.000000  0.577350  1.000000  0.000000  0.577350  0.000000  0.000000   \n",
       "3     0.333333  0.333333  0.000000  1.000000  0.333333  0.577350  0.408248   \n",
       "4     0.000000  0.333333  0.577350  0.333333  1.000000  0.577350  0.408248   \n",
       "...        ...       ...       ...       ...       ...       ...       ...   \n",
       "1677  0.000000  0.000000  0.000000  0.577350  0.577350  1.000000  0.707107   \n",
       "1678  0.000000  0.408248  0.707107  0.000000  0.408248  0.000000  0.000000   \n",
       "1679  0.000000  0.000000  0.000000  0.408248  0.408248  0.707107  0.500000   \n",
       "1680  0.577350  0.000000  0.000000  0.577350  0.000000  0.000000  0.000000   \n",
       "1681  0.000000  0.000000  0.000000  0.577350  0.577350  1.000000  0.707107   \n",
       "\n",
       "          7         8         9     ...      1672      1673      1674  \\\n",
       "0     0.666667  0.000000  0.000000  ...  0.000000  0.000000  0.000000   \n",
       "1     0.000000  0.000000  0.000000  ...  0.816497  0.000000  0.000000   \n",
       "2     0.000000  0.000000  0.000000  ...  0.707107  0.000000  0.000000   \n",
       "3     0.666667  0.577350  0.408248  ...  0.408248  0.577350  0.577350   \n",
       "4     0.333333  0.577350  0.408248  ...  0.408248  0.577350  0.577350   \n",
       "...        ...       ...       ...  ...       ...       ...       ...   \n",
       "1677  0.577350  1.000000  0.707107  ...  0.000000  1.000000  1.000000   \n",
       "1678  0.000000  0.000000  0.000000  ...  0.500000  0.000000  0.000000   \n",
       "1679  0.408248  0.707107  0.500000  ...  0.000000  0.707107  0.707107   \n",
       "1680  0.577350  0.000000  0.000000  ...  0.000000  0.000000  0.000000   \n",
       "1681  0.577350  1.000000  0.707107  ...  0.000000  1.000000  1.000000   \n",
       "\n",
       "          1675      1676      1677      1678      1679     1680      1681  \n",
       "0     0.000000  0.000000  0.000000  0.000000  0.000000  0.57735  0.000000  \n",
       "1     0.000000  0.000000  0.000000  0.408248  0.000000  0.00000  0.000000  \n",
       "2     0.000000  0.000000  0.000000  0.707107  0.000000  0.00000  0.000000  \n",
       "3     0.577350  0.577350  0.577350  0.000000  0.408248  0.57735  0.577350  \n",
       "4     0.577350  0.577350  0.577350  0.408248  0.408248  0.00000  0.577350  \n",
       "...        ...       ...       ...       ...       ...      ...       ...  \n",
       "1677  1.000000  1.000000  1.000000  0.000000  0.707107  0.00000  1.000000  \n",
       "1678  0.000000  0.000000  0.000000  1.000000  0.500000  0.00000  0.000000  \n",
       "1679  0.707107  0.707107  0.707107  0.500000  1.000000  0.00000  0.707107  \n",
       "1680  0.000000  0.000000  0.000000  0.000000  0.000000  1.00000  0.000000  \n",
       "1681  1.000000  1.000000  1.000000  0.000000  0.707107  0.00000  1.000000  \n",
       "\n",
       "[1682 rows x 1682 columns]"
      ]
     },
     "execution_count": 48,
     "metadata": {},
     "output_type": "execute_result"
    }
   ],
   "source": [
    "from sklearn.metrics.pairwise import cosine_similarity\n",
    "\n",
    "cosine_similarity_matrix = cosine_similarity(genres)\n",
    "# n = movies_short.shape[0]\n",
    "\n",
    "# cosine_similarity_matrix = np.zeros((n, n))\n",
    "# for j in range(0, n):\n",
    "#     for k in range(j, n):\n",
    "#         cosine_similarity_matrix[j, k] = cosine_similarity(\n",
    "#             genres.iloc[j, :], genres.iloc[k, :]\n",
    "#         )\n",
    "cosine_similarity_matrix = pd.DataFrame(cosine_similarity_matrix)\n",
    "# cosine_similarity_matrix.columns = movies_short[\"title\"]\n",
    "# cosine_similarity_matrix.index = movies_short[\"title\"]\n",
    "cosine_similarity_matrix"
   ]
  },
  {
   "cell_type": "code",
   "execution_count": 49,
   "id": "d83029c5",
   "metadata": {},
   "outputs": [
    {
     "data": {
      "text/plain": [
       "movie_id                             34\n",
       "title       Doom Generation, The (1995)\n",
       "Name: 33, dtype: object"
      ]
     },
     "execution_count": 49,
     "metadata": {},
     "output_type": "execute_result"
    }
   ],
   "source": [
    "id_name_table = movies[[\"movie_id\", \"title\"]]\n",
    "id_name_table.loc[33, :]"
   ]
  },
  {
   "cell_type": "code",
   "execution_count": 50,
   "id": "14f94e9c",
   "metadata": {},
   "outputs": [
    {
     "data": {
      "text/plain": [
       "5       1.0\n",
       "8       1.0\n",
       "14      1.0\n",
       "17      1.0\n",
       "18      1.0\n",
       "       ... \n",
       "1674    1.0\n",
       "1675    1.0\n",
       "1676    1.0\n",
       "1677    1.0\n",
       "1681    1.0\n",
       "Name: 5, Length: 376, dtype: float64"
      ]
     },
     "execution_count": 50,
     "metadata": {},
     "output_type": "execute_result"
    }
   ],
   "source": [
    "r = cosine_similarity_matrix[5]\n",
    "r[r > 0.9]"
   ]
  },
  {
   "cell_type": "code",
   "execution_count": 51,
   "id": "e3288adf",
   "metadata": {},
   "outputs": [
    {
     "data": {
      "text/plain": [
       "array([[1., 0.],\n",
       "       [0., 1.]])"
      ]
     },
     "execution_count": 51,
     "metadata": {},
     "output_type": "execute_result"
    }
   ],
   "source": [
    "cosine_similarity(genres.iloc[[323, 1069], :])"
   ]
  },
  {
   "cell_type": "code",
   "execution_count": 52,
   "id": "c09f8bee",
   "metadata": {},
   "outputs": [
    {
     "data": {
      "text/plain": [
       "array([[1.        , 0.33333333],\n",
       "       [0.33333333, 1.        ]])"
      ]
     },
     "execution_count": 52,
     "metadata": {},
     "output_type": "execute_result"
    }
   ],
   "source": [
    "cosine_similarity(genres.iloc[[0, 3], :])"
   ]
  },
  {
   "cell_type": "code",
   "execution_count": 53,
   "id": "e598ffbc",
   "metadata": {},
   "outputs": [],
   "source": [
    "id_name_dict = id_name_table.set_index(\"movie_id\")[\"title\"].to_dict()"
   ]
  },
  {
   "cell_type": "code",
   "execution_count": 54,
   "id": "b036360d",
   "metadata": {},
   "outputs": [
    {
     "data": {
      "text/plain": [
       "'Lost Highway (1997)'"
      ]
     },
     "execution_count": 54,
     "metadata": {},
     "output_type": "execute_result"
    }
   ],
   "source": [
    "id_name_dict[324]"
   ]
  },
  {
   "cell_type": "code",
   "execution_count": 55,
   "id": "71d74a8f",
   "metadata": {},
   "outputs": [],
   "source": [
    "def choose_the_movie(user_id):\n",
    "    # Выбирает случайный фильм из тех, которые пользователь лучше всего оценил.\n",
    "    # Возвращает movie_id\n",
    "    ratings_for_user = ratings[ratings[\"user_id\"] == user_id]\n",
    "    max_rating_user = ratings_for_user[\"rating\"].max()\n",
    "    top_ratings_user = ratings_for_user[ratings_for_user[\"rating\"] == max_rating_user]\n",
    "    the_movie = np.random.choice(top_ratings_user[\"movie_id\"])\n",
    "    return the_movie"
   ]
  },
  {
   "cell_type": "code",
   "execution_count": 56,
   "id": "cccf62f8",
   "metadata": {},
   "outputs": [
    {
     "data": {
      "text/plain": [
       "242"
      ]
     },
     "execution_count": 56,
     "metadata": {},
     "output_type": "execute_result"
    }
   ],
   "source": [
    "film = choose_the_movie(34)\n",
    "film"
   ]
  },
  {
   "cell_type": "code",
   "execution_count": 57,
   "id": "0081c755",
   "metadata": {},
   "outputs": [],
   "source": [
    "def title_from_id(movie_id):\n",
    "    return id_name_dict.get(movie_id, None)"
   ]
  },
  {
   "cell_type": "code",
   "execution_count": 58,
   "id": "f9ee46c9",
   "metadata": {},
   "outputs": [
    {
     "data": {
      "text/plain": [
       "'Lost Highway (1997)'"
      ]
     },
     "execution_count": 58,
     "metadata": {},
     "output_type": "execute_result"
    }
   ],
   "source": [
    "title_from_id(324)"
   ]
  },
  {
   "cell_type": "code",
   "execution_count": 59,
   "id": "35be12c0",
   "metadata": {},
   "outputs": [],
   "source": [
    "np.random.seed(42)\n",
    "# the_movie_id = choose_the_movie(34)\n",
    "# similarity_series = cosine_similarity_matrix.iloc[:, the_movie_id - 1]\n",
    "# similarity_series\n",
    "# top = similarity_series.sort_values(ascending=False)\n",
    "# # top\n",
    "# top_films = top.reset_index()\n",
    "# # top_films\n",
    "# top_films = top_films[top_films[\"index\"] + 1 != the_movie_id]\n",
    "# # top_films\n",
    "# films = top_films.iloc[0:9, 0].map(lambda x: title_from_id(x + 1))\n",
    "# films"
   ]
  },
  {
   "cell_type": "code",
   "execution_count": 60,
   "id": "3ed9f6cf",
   "metadata": {},
   "outputs": [],
   "source": [
    "def recommend(user_id, top=10):\n",
    "    the_movie_id = choose_the_movie(user_id)\n",
    "    similarity_series = cosine_similarity_matrix.iloc[:, the_movie_id - 1].drop(\n",
    "        the_movie_id - 1\n",
    "    )\n",
    "    top = similarity_series.sort_values(ascending=False)\n",
    "    top_films = top.reset_index()\n",
    "    # top_films = top_films[top_films[\"index\"] + 1 != the_movie_id]\n",
    "    films = top_films.head(10).copy()\n",
    "    films[\"title\"] = films.iloc[:, 0].apply(lambda x: title_from_id(x + 1))\n",
    "    return the_movie_id, title_from_id(the_movie_id), films"
   ]
  },
  {
   "cell_type": "code",
   "execution_count": 61,
   "id": "7b3d38b8",
   "metadata": {},
   "outputs": [
    {
     "name": "stdout",
     "output_type": "stream",
     "text": [
      "324 Lost Highway (1997)\n"
     ]
    },
    {
     "data": {
      "text/html": [
       "<div>\n",
       "<style scoped>\n",
       "    .dataframe tbody tr th:only-of-type {\n",
       "        vertical-align: middle;\n",
       "    }\n",
       "\n",
       "    .dataframe tbody tr th {\n",
       "        vertical-align: top;\n",
       "    }\n",
       "\n",
       "    .dataframe thead th {\n",
       "        text-align: right;\n",
       "    }\n",
       "</style>\n",
       "<table border=\"1\" class=\"dataframe\">\n",
       "  <thead>\n",
       "    <tr style=\"text-align: right;\">\n",
       "      <th></th>\n",
       "      <th>index</th>\n",
       "      <th>323</th>\n",
       "      <th>title</th>\n",
       "    </tr>\n",
       "  </thead>\n",
       "  <tbody>\n",
       "    <tr>\n",
       "      <th>0</th>\n",
       "      <td>532</td>\n",
       "      <td>1.000000</td>\n",
       "      <td>Daytrippers, The (1996)</td>\n",
       "    </tr>\n",
       "    <tr>\n",
       "      <th>1</th>\n",
       "      <td>1580</td>\n",
       "      <td>1.000000</td>\n",
       "      <td>Woman in Question, The (1950)</td>\n",
       "    </tr>\n",
       "    <tr>\n",
       "      <th>2</th>\n",
       "      <td>492</td>\n",
       "      <td>1.000000</td>\n",
       "      <td>Thin Man, The (1934)</td>\n",
       "    </tr>\n",
       "    <tr>\n",
       "      <th>3</th>\n",
       "      <td>1283</td>\n",
       "      <td>0.707107</td>\n",
       "      <td>Before and After (1996)</td>\n",
       "    </tr>\n",
       "    <tr>\n",
       "      <th>4</th>\n",
       "      <td>478</td>\n",
       "      <td>0.707107</td>\n",
       "      <td>Vertigo (1958)</td>\n",
       "    </tr>\n",
       "    <tr>\n",
       "      <th>5</th>\n",
       "      <td>602</td>\n",
       "      <td>0.707107</td>\n",
       "      <td>Rear Window (1954)</td>\n",
       "    </tr>\n",
       "    <tr>\n",
       "      <th>6</th>\n",
       "      <td>483</td>\n",
       "      <td>0.707107</td>\n",
       "      <td>Maltese Falcon, The (1941)</td>\n",
       "    </tr>\n",
       "    <tr>\n",
       "      <th>7</th>\n",
       "      <td>1041</td>\n",
       "      <td>0.707107</td>\n",
       "      <td>Just Cause (1995)</td>\n",
       "    </tr>\n",
       "    <tr>\n",
       "      <th>8</th>\n",
       "      <td>190</td>\n",
       "      <td>0.707107</td>\n",
       "      <td>Amadeus (1984)</td>\n",
       "    </tr>\n",
       "    <tr>\n",
       "      <th>9</th>\n",
       "      <td>804</td>\n",
       "      <td>0.707107</td>\n",
       "      <td>Manhattan Murder Mystery (1993)</td>\n",
       "    </tr>\n",
       "  </tbody>\n",
       "</table>\n",
       "</div>"
      ],
      "text/plain": [
       "   index       323                            title\n",
       "0    532  1.000000          Daytrippers, The (1996)\n",
       "1   1580  1.000000    Woman in Question, The (1950)\n",
       "2    492  1.000000             Thin Man, The (1934)\n",
       "3   1283  0.707107          Before and After (1996)\n",
       "4    478  0.707107                   Vertigo (1958)\n",
       "5    602  0.707107               Rear Window (1954)\n",
       "6    483  0.707107       Maltese Falcon, The (1941)\n",
       "7   1041  0.707107                Just Cause (1995)\n",
       "8    190  0.707107                   Amadeus (1984)\n",
       "9    804  0.707107  Manhattan Murder Mystery (1993)"
      ]
     },
     "execution_count": 61,
     "metadata": {},
     "output_type": "execute_result"
    }
   ],
   "source": [
    "np.random.seed(42)\n",
    "result = recommend(34)\n",
    "print(result[0], result[1])\n",
    "result[2]"
   ]
  },
  {
   "cell_type": "code",
   "execution_count": 62,
   "id": "c7d0d075",
   "metadata": {},
   "outputs": [
    {
     "data": {
      "text/html": [
       "<div>\n",
       "<style scoped>\n",
       "    .dataframe tbody tr th:only-of-type {\n",
       "        vertical-align: middle;\n",
       "    }\n",
       "\n",
       "    .dataframe tbody tr th {\n",
       "        vertical-align: top;\n",
       "    }\n",
       "\n",
       "    .dataframe thead th {\n",
       "        text-align: right;\n",
       "    }\n",
       "</style>\n",
       "<table border=\"1\" class=\"dataframe\">\n",
       "  <thead>\n",
       "    <tr style=\"text-align: right;\">\n",
       "      <th></th>\n",
       "      <th>movie_id</th>\n",
       "      <th>title</th>\n",
       "      <th>release_date</th>\n",
       "      <th>imdb_url</th>\n",
       "      <th>Action</th>\n",
       "      <th>Adventure</th>\n",
       "      <th>Animation</th>\n",
       "      <th>Children's</th>\n",
       "      <th>Comedy</th>\n",
       "      <th>Crime</th>\n",
       "      <th>...</th>\n",
       "      <th>Fantasy</th>\n",
       "      <th>Film-Noir</th>\n",
       "      <th>Horror</th>\n",
       "      <th>Musical</th>\n",
       "      <th>Mystery</th>\n",
       "      <th>Romance</th>\n",
       "      <th>Sci-Fi</th>\n",
       "      <th>Thriller</th>\n",
       "      <th>War</th>\n",
       "      <th>Western</th>\n",
       "    </tr>\n",
       "  </thead>\n",
       "  <tbody>\n",
       "    <tr>\n",
       "      <th>323</th>\n",
       "      <td>324</td>\n",
       "      <td>Lost Highway (1997)</td>\n",
       "      <td>21-Feb-1997</td>\n",
       "      <td>http://us.imdb.com/Title?Lost+Highway+(1997)</td>\n",
       "      <td>0</td>\n",
       "      <td>0</td>\n",
       "      <td>0</td>\n",
       "      <td>0</td>\n",
       "      <td>0</td>\n",
       "      <td>0</td>\n",
       "      <td>...</td>\n",
       "      <td>0</td>\n",
       "      <td>0</td>\n",
       "      <td>0</td>\n",
       "      <td>0</td>\n",
       "      <td>1</td>\n",
       "      <td>0</td>\n",
       "      <td>0</td>\n",
       "      <td>0</td>\n",
       "      <td>0</td>\n",
       "      <td>0</td>\n",
       "    </tr>\n",
       "  </tbody>\n",
       "</table>\n",
       "<p>1 rows × 22 columns</p>\n",
       "</div>"
      ],
      "text/plain": [
       "     movie_id                title release_date  \\\n",
       "323       324  Lost Highway (1997)  21-Feb-1997   \n",
       "\n",
       "                                         imdb_url  Action  Adventure  \\\n",
       "323  http://us.imdb.com/Title?Lost+Highway+(1997)       0          0   \n",
       "\n",
       "     Animation  Children's  Comedy  Crime  ...  Fantasy  Film-Noir  Horror  \\\n",
       "323          0           0       0      0  ...        0          0       0   \n",
       "\n",
       "     Musical  Mystery  Romance  Sci-Fi  Thriller  War  Western  \n",
       "323        0        1        0       0         0    0        0  \n",
       "\n",
       "[1 rows x 22 columns]"
      ]
     },
     "execution_count": 62,
     "metadata": {},
     "output_type": "execute_result"
    }
   ],
   "source": [
    "movies[movies[\"title\"] == \"Lost Highway (1997)\"]"
   ]
  },
  {
   "cell_type": "code",
   "execution_count": 63,
   "id": "f9713ce7",
   "metadata": {},
   "outputs": [
    {
     "data": {
      "text/html": [
       "<div>\n",
       "<style scoped>\n",
       "    .dataframe tbody tr th:only-of-type {\n",
       "        vertical-align: middle;\n",
       "    }\n",
       "\n",
       "    .dataframe tbody tr th {\n",
       "        vertical-align: top;\n",
       "    }\n",
       "\n",
       "    .dataframe thead th {\n",
       "        text-align: right;\n",
       "    }\n",
       "</style>\n",
       "<table border=\"1\" class=\"dataframe\">\n",
       "  <thead>\n",
       "    <tr style=\"text-align: right;\">\n",
       "      <th></th>\n",
       "      <th>movie_id</th>\n",
       "      <th>title</th>\n",
       "      <th>release_date</th>\n",
       "      <th>imdb_url</th>\n",
       "      <th>Action</th>\n",
       "      <th>Adventure</th>\n",
       "      <th>Animation</th>\n",
       "      <th>Children's</th>\n",
       "      <th>Comedy</th>\n",
       "      <th>Crime</th>\n",
       "      <th>...</th>\n",
       "      <th>Fantasy</th>\n",
       "      <th>Film-Noir</th>\n",
       "      <th>Horror</th>\n",
       "      <th>Musical</th>\n",
       "      <th>Mystery</th>\n",
       "      <th>Romance</th>\n",
       "      <th>Sci-Fi</th>\n",
       "      <th>Thriller</th>\n",
       "      <th>War</th>\n",
       "      <th>Western</th>\n",
       "    </tr>\n",
       "  </thead>\n",
       "  <tbody>\n",
       "    <tr>\n",
       "      <th>532</th>\n",
       "      <td>533</td>\n",
       "      <td>Daytrippers, The (1996)</td>\n",
       "      <td>21-Mar-1997</td>\n",
       "      <td>http://us.imdb.com/M/title-exact?Daytrippers%2...</td>\n",
       "      <td>0</td>\n",
       "      <td>0</td>\n",
       "      <td>0</td>\n",
       "      <td>0</td>\n",
       "      <td>0</td>\n",
       "      <td>0</td>\n",
       "      <td>...</td>\n",
       "      <td>0</td>\n",
       "      <td>0</td>\n",
       "      <td>0</td>\n",
       "      <td>0</td>\n",
       "      <td>1</td>\n",
       "      <td>0</td>\n",
       "      <td>0</td>\n",
       "      <td>0</td>\n",
       "      <td>0</td>\n",
       "      <td>0</td>\n",
       "    </tr>\n",
       "  </tbody>\n",
       "</table>\n",
       "<p>1 rows × 22 columns</p>\n",
       "</div>"
      ],
      "text/plain": [
       "     movie_id                    title release_date  \\\n",
       "532       533  Daytrippers, The (1996)  21-Mar-1997   \n",
       "\n",
       "                                              imdb_url  Action  Adventure  \\\n",
       "532  http://us.imdb.com/M/title-exact?Daytrippers%2...       0          0   \n",
       "\n",
       "     Animation  Children's  Comedy  Crime  ...  Fantasy  Film-Noir  Horror  \\\n",
       "532          0           0       0      0  ...        0          0       0   \n",
       "\n",
       "     Musical  Mystery  Romance  Sci-Fi  Thriller  War  Western  \n",
       "532        0        1        0       0         0    0        0  \n",
       "\n",
       "[1 rows x 22 columns]"
      ]
     },
     "execution_count": 63,
     "metadata": {},
     "output_type": "execute_result"
    }
   ],
   "source": [
    "movies[movies[\"movie_id\"] == 533]"
   ]
  },
  {
   "cell_type": "code",
   "execution_count": 64,
   "id": "1a29d3a3",
   "metadata": {},
   "outputs": [
    {
     "data": {
      "text/html": [
       "<div>\n",
       "<style scoped>\n",
       "    .dataframe tbody tr th:only-of-type {\n",
       "        vertical-align: middle;\n",
       "    }\n",
       "\n",
       "    .dataframe tbody tr th {\n",
       "        vertical-align: top;\n",
       "    }\n",
       "\n",
       "    .dataframe thead th {\n",
       "        text-align: right;\n",
       "    }\n",
       "</style>\n",
       "<table border=\"1\" class=\"dataframe\">\n",
       "  <thead>\n",
       "    <tr style=\"text-align: right;\">\n",
       "      <th></th>\n",
       "      <th>Action</th>\n",
       "      <th>Adventure</th>\n",
       "      <th>Animation</th>\n",
       "      <th>Children's</th>\n",
       "      <th>Comedy</th>\n",
       "      <th>Crime</th>\n",
       "      <th>Documentary</th>\n",
       "      <th>Drama</th>\n",
       "      <th>Fantasy</th>\n",
       "      <th>Film-Noir</th>\n",
       "      <th>Horror</th>\n",
       "      <th>Musical</th>\n",
       "      <th>Mystery</th>\n",
       "      <th>Romance</th>\n",
       "      <th>Sci-Fi</th>\n",
       "      <th>Thriller</th>\n",
       "      <th>War</th>\n",
       "      <th>Western</th>\n",
       "    </tr>\n",
       "  </thead>\n",
       "  <tbody>\n",
       "    <tr>\n",
       "      <th>323</th>\n",
       "      <td>0</td>\n",
       "      <td>0</td>\n",
       "      <td>0</td>\n",
       "      <td>0</td>\n",
       "      <td>0</td>\n",
       "      <td>0</td>\n",
       "      <td>0</td>\n",
       "      <td>0</td>\n",
       "      <td>0</td>\n",
       "      <td>0</td>\n",
       "      <td>0</td>\n",
       "      <td>0</td>\n",
       "      <td>1</td>\n",
       "      <td>0</td>\n",
       "      <td>0</td>\n",
       "      <td>0</td>\n",
       "      <td>0</td>\n",
       "      <td>0</td>\n",
       "    </tr>\n",
       "    <tr>\n",
       "      <th>532</th>\n",
       "      <td>0</td>\n",
       "      <td>0</td>\n",
       "      <td>0</td>\n",
       "      <td>0</td>\n",
       "      <td>0</td>\n",
       "      <td>0</td>\n",
       "      <td>0</td>\n",
       "      <td>0</td>\n",
       "      <td>0</td>\n",
       "      <td>0</td>\n",
       "      <td>0</td>\n",
       "      <td>0</td>\n",
       "      <td>1</td>\n",
       "      <td>0</td>\n",
       "      <td>0</td>\n",
       "      <td>0</td>\n",
       "      <td>0</td>\n",
       "      <td>0</td>\n",
       "    </tr>\n",
       "  </tbody>\n",
       "</table>\n",
       "</div>"
      ],
      "text/plain": [
       "     Action  Adventure  Animation  Children's  Comedy  Crime  Documentary  \\\n",
       "323       0          0          0           0       0      0            0   \n",
       "532       0          0          0           0       0      0            0   \n",
       "\n",
       "     Drama  Fantasy  Film-Noir  Horror  Musical  Mystery  Romance  Sci-Fi  \\\n",
       "323      0        0          0       0        0        1        0       0   \n",
       "532      0        0          0       0        0        1        0       0   \n",
       "\n",
       "     Thriller  War  Western  \n",
       "323         0    0        0  \n",
       "532         0    0        0  "
      ]
     },
     "execution_count": 64,
     "metadata": {},
     "output_type": "execute_result"
    }
   ],
   "source": [
    "genres.iloc[[323, 532], :]"
   ]
  },
  {
   "cell_type": "code",
   "execution_count": 65,
   "id": "13c62c7d",
   "metadata": {},
   "outputs": [
    {
     "data": {
      "text/html": [
       "<div>\n",
       "<style scoped>\n",
       "    .dataframe tbody tr th:only-of-type {\n",
       "        vertical-align: middle;\n",
       "    }\n",
       "\n",
       "    .dataframe tbody tr th {\n",
       "        vertical-align: top;\n",
       "    }\n",
       "\n",
       "    .dataframe thead th {\n",
       "        text-align: right;\n",
       "    }\n",
       "</style>\n",
       "<table border=\"1\" class=\"dataframe\">\n",
       "  <thead>\n",
       "    <tr style=\"text-align: right;\">\n",
       "      <th></th>\n",
       "      <th>Action</th>\n",
       "      <th>Adventure</th>\n",
       "      <th>Animation</th>\n",
       "      <th>Children's</th>\n",
       "      <th>Comedy</th>\n",
       "      <th>Crime</th>\n",
       "      <th>Documentary</th>\n",
       "      <th>Drama</th>\n",
       "      <th>Fantasy</th>\n",
       "      <th>Film-Noir</th>\n",
       "      <th>Horror</th>\n",
       "      <th>Musical</th>\n",
       "      <th>Mystery</th>\n",
       "      <th>Romance</th>\n",
       "      <th>Sci-Fi</th>\n",
       "      <th>Thriller</th>\n",
       "      <th>War</th>\n",
       "      <th>Western</th>\n",
       "    </tr>\n",
       "  </thead>\n",
       "  <tbody>\n",
       "    <tr>\n",
       "      <th>33</th>\n",
       "      <td>0</td>\n",
       "      <td>0</td>\n",
       "      <td>0</td>\n",
       "      <td>0</td>\n",
       "      <td>1</td>\n",
       "      <td>0</td>\n",
       "      <td>0</td>\n",
       "      <td>1</td>\n",
       "      <td>0</td>\n",
       "      <td>0</td>\n",
       "      <td>0</td>\n",
       "      <td>0</td>\n",
       "      <td>0</td>\n",
       "      <td>0</td>\n",
       "      <td>0</td>\n",
       "      <td>0</td>\n",
       "      <td>0</td>\n",
       "      <td>0</td>\n",
       "    </tr>\n",
       "    <tr>\n",
       "      <th>4</th>\n",
       "      <td>0</td>\n",
       "      <td>0</td>\n",
       "      <td>0</td>\n",
       "      <td>0</td>\n",
       "      <td>0</td>\n",
       "      <td>1</td>\n",
       "      <td>0</td>\n",
       "      <td>1</td>\n",
       "      <td>0</td>\n",
       "      <td>0</td>\n",
       "      <td>0</td>\n",
       "      <td>0</td>\n",
       "      <td>0</td>\n",
       "      <td>0</td>\n",
       "      <td>0</td>\n",
       "      <td>1</td>\n",
       "      <td>0</td>\n",
       "      <td>0</td>\n",
       "    </tr>\n",
       "  </tbody>\n",
       "</table>\n",
       "</div>"
      ],
      "text/plain": [
       "    Action  Adventure  Animation  Children's  Comedy  Crime  Documentary  \\\n",
       "33       0          0          0           0       1      0            0   \n",
       "4        0          0          0           0       0      1            0   \n",
       "\n",
       "    Drama  Fantasy  Film-Noir  Horror  Musical  Mystery  Romance  Sci-Fi  \\\n",
       "33      1        0          0       0        0        0        0       0   \n",
       "4       1        0          0       0        0        0        0       0   \n",
       "\n",
       "    Thriller  War  Western  \n",
       "33         0    0        0  \n",
       "4          1    0        0  "
      ]
     },
     "execution_count": 65,
     "metadata": {},
     "output_type": "execute_result"
    }
   ],
   "source": [
    "genres.iloc[[33, 4], :]"
   ]
  },
  {
   "cell_type": "code",
   "execution_count": 66,
   "id": "08e49ad5",
   "metadata": {},
   "outputs": [
    {
     "data": {
      "text/plain": [
       "array([[1., 0.],\n",
       "       [0., 1.]])"
      ]
     },
     "execution_count": 66,
     "metadata": {},
     "output_type": "execute_result"
    }
   ],
   "source": [
    "cosine_similarity(genres.iloc[[323, 4], :])"
   ]
  },
  {
   "cell_type": "code",
   "execution_count": 67,
   "id": "fe8dc428",
   "metadata": {},
   "outputs": [
    {
     "data": {
      "text/html": [
       "<div>\n",
       "<style scoped>\n",
       "    .dataframe tbody tr th:only-of-type {\n",
       "        vertical-align: middle;\n",
       "    }\n",
       "\n",
       "    .dataframe tbody tr th {\n",
       "        vertical-align: top;\n",
       "    }\n",
       "\n",
       "    .dataframe thead th {\n",
       "        text-align: right;\n",
       "    }\n",
       "</style>\n",
       "<table border=\"1\" class=\"dataframe\">\n",
       "  <thead>\n",
       "    <tr style=\"text-align: right;\">\n",
       "      <th></th>\n",
       "      <th>movie_id</th>\n",
       "      <th>title</th>\n",
       "      <th>release_date</th>\n",
       "      <th>imdb_url</th>\n",
       "      <th>Action</th>\n",
       "      <th>Adventure</th>\n",
       "      <th>Animation</th>\n",
       "      <th>Children's</th>\n",
       "      <th>Comedy</th>\n",
       "      <th>Crime</th>\n",
       "      <th>...</th>\n",
       "      <th>Fantasy</th>\n",
       "      <th>Film-Noir</th>\n",
       "      <th>Horror</th>\n",
       "      <th>Musical</th>\n",
       "      <th>Mystery</th>\n",
       "      <th>Romance</th>\n",
       "      <th>Sci-Fi</th>\n",
       "      <th>Thriller</th>\n",
       "      <th>War</th>\n",
       "      <th>Western</th>\n",
       "    </tr>\n",
       "  </thead>\n",
       "  <tbody>\n",
       "    <tr>\n",
       "      <th>1068</th>\n",
       "      <td>1069</td>\n",
       "      <td>Amateur (1994)</td>\n",
       "      <td>01-Jan-1994</td>\n",
       "      <td>http://us.imdb.com/M/title-exact?Amateur%20(1994)</td>\n",
       "      <td>0</td>\n",
       "      <td>0</td>\n",
       "      <td>0</td>\n",
       "      <td>0</td>\n",
       "      <td>0</td>\n",
       "      <td>1</td>\n",
       "      <td>...</td>\n",
       "      <td>0</td>\n",
       "      <td>0</td>\n",
       "      <td>0</td>\n",
       "      <td>0</td>\n",
       "      <td>0</td>\n",
       "      <td>0</td>\n",
       "      <td>0</td>\n",
       "      <td>1</td>\n",
       "      <td>0</td>\n",
       "      <td>0</td>\n",
       "    </tr>\n",
       "  </tbody>\n",
       "</table>\n",
       "<p>1 rows × 22 columns</p>\n",
       "</div>"
      ],
      "text/plain": [
       "      movie_id           title release_date  \\\n",
       "1068      1069  Amateur (1994)  01-Jan-1994   \n",
       "\n",
       "                                               imdb_url  Action  Adventure  \\\n",
       "1068  http://us.imdb.com/M/title-exact?Amateur%20(1994)       0          0   \n",
       "\n",
       "      Animation  Children's  Comedy  Crime  ...  Fantasy  Film-Noir  Horror  \\\n",
       "1068          0           0       0      1  ...        0          0       0   \n",
       "\n",
       "      Musical  Mystery  Romance  Sci-Fi  Thriller  War  Western  \n",
       "1068        0        0        0       0         1    0        0  \n",
       "\n",
       "[1 rows x 22 columns]"
      ]
     },
     "execution_count": 67,
     "metadata": {},
     "output_type": "execute_result"
    }
   ],
   "source": [
    "movies[movies[\"title\"] == \"Amateur (1994)\"]"
   ]
  },
  {
   "cell_type": "markdown",
   "id": "53740811",
   "metadata": {},
   "source": [
    "### Похожесть пользователей между собой 🥸 - 🥴\n",
    "\n",
    "Найди 10 самых похожих пользователей и рекомендуй текущему пользователю то, что понравилось наиболее близким к нему пользователям. В результате должна получиться функция `recommend_by_user(user_id, top=10)`, которая должна выдавать `list` или `pd.DataFrame` из `<top>` фильмов, которые мы будем рекомендовать пользователю. "
   ]
  },
  {
   "cell_type": "code",
   "execution_count": 68,
   "id": "1c51c5ec",
   "metadata": {},
   "outputs": [
    {
     "data": {
      "text/html": [
       "<div>\n",
       "<style scoped>\n",
       "    .dataframe tbody tr th:only-of-type {\n",
       "        vertical-align: middle;\n",
       "    }\n",
       "\n",
       "    .dataframe tbody tr th {\n",
       "        vertical-align: top;\n",
       "    }\n",
       "\n",
       "    .dataframe thead th {\n",
       "        text-align: right;\n",
       "    }\n",
       "</style>\n",
       "<table border=\"1\" class=\"dataframe\">\n",
       "  <thead>\n",
       "    <tr style=\"text-align: right;\">\n",
       "      <th></th>\n",
       "      <th>user_id</th>\n",
       "      <th>movie_id</th>\n",
       "      <th>rating</th>\n",
       "      <th>unix_timestamp</th>\n",
       "      <th>title</th>\n",
       "    </tr>\n",
       "  </thead>\n",
       "  <tbody>\n",
       "    <tr>\n",
       "      <th>0</th>\n",
       "      <td>196</td>\n",
       "      <td>242</td>\n",
       "      <td>3</td>\n",
       "      <td>881250949</td>\n",
       "      <td>Kolya (1996)</td>\n",
       "    </tr>\n",
       "    <tr>\n",
       "      <th>1</th>\n",
       "      <td>186</td>\n",
       "      <td>302</td>\n",
       "      <td>3</td>\n",
       "      <td>891717742</td>\n",
       "      <td>L.A. Confidential (1997)</td>\n",
       "    </tr>\n",
       "    <tr>\n",
       "      <th>2</th>\n",
       "      <td>22</td>\n",
       "      <td>377</td>\n",
       "      <td>1</td>\n",
       "      <td>878887116</td>\n",
       "      <td>Heavyweights (1994)</td>\n",
       "    </tr>\n",
       "    <tr>\n",
       "      <th>3</th>\n",
       "      <td>244</td>\n",
       "      <td>51</td>\n",
       "      <td>2</td>\n",
       "      <td>880606923</td>\n",
       "      <td>Legends of the Fall (1994)</td>\n",
       "    </tr>\n",
       "    <tr>\n",
       "      <th>4</th>\n",
       "      <td>166</td>\n",
       "      <td>346</td>\n",
       "      <td>1</td>\n",
       "      <td>886397596</td>\n",
       "      <td>Jackie Brown (1997)</td>\n",
       "    </tr>\n",
       "    <tr>\n",
       "      <th>...</th>\n",
       "      <td>...</td>\n",
       "      <td>...</td>\n",
       "      <td>...</td>\n",
       "      <td>...</td>\n",
       "      <td>...</td>\n",
       "    </tr>\n",
       "    <tr>\n",
       "      <th>99995</th>\n",
       "      <td>880</td>\n",
       "      <td>476</td>\n",
       "      <td>3</td>\n",
       "      <td>880175444</td>\n",
       "      <td>First Wives Club, The (1996)</td>\n",
       "    </tr>\n",
       "    <tr>\n",
       "      <th>99996</th>\n",
       "      <td>716</td>\n",
       "      <td>204</td>\n",
       "      <td>5</td>\n",
       "      <td>879795543</td>\n",
       "      <td>Back to the Future (1985)</td>\n",
       "    </tr>\n",
       "    <tr>\n",
       "      <th>99997</th>\n",
       "      <td>276</td>\n",
       "      <td>1090</td>\n",
       "      <td>1</td>\n",
       "      <td>874795795</td>\n",
       "      <td>Sliver (1993)</td>\n",
       "    </tr>\n",
       "    <tr>\n",
       "      <th>99998</th>\n",
       "      <td>13</td>\n",
       "      <td>225</td>\n",
       "      <td>2</td>\n",
       "      <td>882399156</td>\n",
       "      <td>101 Dalmatians (1996)</td>\n",
       "    </tr>\n",
       "    <tr>\n",
       "      <th>99999</th>\n",
       "      <td>12</td>\n",
       "      <td>203</td>\n",
       "      <td>3</td>\n",
       "      <td>879959583</td>\n",
       "      <td>Unforgiven (1992)</td>\n",
       "    </tr>\n",
       "  </tbody>\n",
       "</table>\n",
       "<p>100000 rows × 5 columns</p>\n",
       "</div>"
      ],
      "text/plain": [
       "       user_id  movie_id  rating  unix_timestamp                         title\n",
       "0          196       242       3       881250949                  Kolya (1996)\n",
       "1          186       302       3       891717742      L.A. Confidential (1997)\n",
       "2           22       377       1       878887116           Heavyweights (1994)\n",
       "3          244        51       2       880606923    Legends of the Fall (1994)\n",
       "4          166       346       1       886397596           Jackie Brown (1997)\n",
       "...        ...       ...     ...             ...                           ...\n",
       "99995      880       476       3       880175444  First Wives Club, The (1996)\n",
       "99996      716       204       5       879795543     Back to the Future (1985)\n",
       "99997      276      1090       1       874795795                 Sliver (1993)\n",
       "99998       13       225       2       882399156         101 Dalmatians (1996)\n",
       "99999       12       203       3       879959583             Unforgiven (1992)\n",
       "\n",
       "[100000 rows x 5 columns]"
      ]
     },
     "execution_count": 68,
     "metadata": {},
     "output_type": "execute_result"
    }
   ],
   "source": [
    "ratings"
   ]
  },
  {
   "cell_type": "code",
   "execution_count": 69,
   "id": "421b82f8",
   "metadata": {},
   "outputs": [
    {
     "data": {
      "text/html": [
       "<div>\n",
       "<style scoped>\n",
       "    .dataframe tbody tr th:only-of-type {\n",
       "        vertical-align: middle;\n",
       "    }\n",
       "\n",
       "    .dataframe tbody tr th {\n",
       "        vertical-align: top;\n",
       "    }\n",
       "\n",
       "    .dataframe thead th {\n",
       "        text-align: right;\n",
       "    }\n",
       "</style>\n",
       "<table border=\"1\" class=\"dataframe\">\n",
       "  <thead>\n",
       "    <tr style=\"text-align: right;\">\n",
       "      <th>movie_id</th>\n",
       "      <th>1</th>\n",
       "      <th>2</th>\n",
       "      <th>3</th>\n",
       "      <th>4</th>\n",
       "      <th>5</th>\n",
       "      <th>6</th>\n",
       "      <th>7</th>\n",
       "      <th>8</th>\n",
       "      <th>9</th>\n",
       "      <th>10</th>\n",
       "      <th>...</th>\n",
       "      <th>1673</th>\n",
       "      <th>1674</th>\n",
       "      <th>1675</th>\n",
       "      <th>1676</th>\n",
       "      <th>1677</th>\n",
       "      <th>1678</th>\n",
       "      <th>1679</th>\n",
       "      <th>1680</th>\n",
       "      <th>1681</th>\n",
       "      <th>1682</th>\n",
       "    </tr>\n",
       "    <tr>\n",
       "      <th>user_id</th>\n",
       "      <th></th>\n",
       "      <th></th>\n",
       "      <th></th>\n",
       "      <th></th>\n",
       "      <th></th>\n",
       "      <th></th>\n",
       "      <th></th>\n",
       "      <th></th>\n",
       "      <th></th>\n",
       "      <th></th>\n",
       "      <th></th>\n",
       "      <th></th>\n",
       "      <th></th>\n",
       "      <th></th>\n",
       "      <th></th>\n",
       "      <th></th>\n",
       "      <th></th>\n",
       "      <th></th>\n",
       "      <th></th>\n",
       "      <th></th>\n",
       "      <th></th>\n",
       "    </tr>\n",
       "  </thead>\n",
       "  <tbody>\n",
       "    <tr>\n",
       "      <th>1</th>\n",
       "      <td>5.0</td>\n",
       "      <td>3.0</td>\n",
       "      <td>4.0</td>\n",
       "      <td>3.0</td>\n",
       "      <td>3.0</td>\n",
       "      <td>5.0</td>\n",
       "      <td>4.0</td>\n",
       "      <td>1.0</td>\n",
       "      <td>5.0</td>\n",
       "      <td>3.0</td>\n",
       "      <td>...</td>\n",
       "      <td>0.0</td>\n",
       "      <td>0.0</td>\n",
       "      <td>0.0</td>\n",
       "      <td>0.0</td>\n",
       "      <td>0.0</td>\n",
       "      <td>0.0</td>\n",
       "      <td>0.0</td>\n",
       "      <td>0.0</td>\n",
       "      <td>0.0</td>\n",
       "      <td>0.0</td>\n",
       "    </tr>\n",
       "    <tr>\n",
       "      <th>2</th>\n",
       "      <td>4.0</td>\n",
       "      <td>0.0</td>\n",
       "      <td>0.0</td>\n",
       "      <td>0.0</td>\n",
       "      <td>0.0</td>\n",
       "      <td>0.0</td>\n",
       "      <td>0.0</td>\n",
       "      <td>0.0</td>\n",
       "      <td>0.0</td>\n",
       "      <td>2.0</td>\n",
       "      <td>...</td>\n",
       "      <td>0.0</td>\n",
       "      <td>0.0</td>\n",
       "      <td>0.0</td>\n",
       "      <td>0.0</td>\n",
       "      <td>0.0</td>\n",
       "      <td>0.0</td>\n",
       "      <td>0.0</td>\n",
       "      <td>0.0</td>\n",
       "      <td>0.0</td>\n",
       "      <td>0.0</td>\n",
       "    </tr>\n",
       "    <tr>\n",
       "      <th>3</th>\n",
       "      <td>0.0</td>\n",
       "      <td>0.0</td>\n",
       "      <td>0.0</td>\n",
       "      <td>0.0</td>\n",
       "      <td>0.0</td>\n",
       "      <td>0.0</td>\n",
       "      <td>0.0</td>\n",
       "      <td>0.0</td>\n",
       "      <td>0.0</td>\n",
       "      <td>0.0</td>\n",
       "      <td>...</td>\n",
       "      <td>0.0</td>\n",
       "      <td>0.0</td>\n",
       "      <td>0.0</td>\n",
       "      <td>0.0</td>\n",
       "      <td>0.0</td>\n",
       "      <td>0.0</td>\n",
       "      <td>0.0</td>\n",
       "      <td>0.0</td>\n",
       "      <td>0.0</td>\n",
       "      <td>0.0</td>\n",
       "    </tr>\n",
       "    <tr>\n",
       "      <th>4</th>\n",
       "      <td>0.0</td>\n",
       "      <td>0.0</td>\n",
       "      <td>0.0</td>\n",
       "      <td>0.0</td>\n",
       "      <td>0.0</td>\n",
       "      <td>0.0</td>\n",
       "      <td>0.0</td>\n",
       "      <td>0.0</td>\n",
       "      <td>0.0</td>\n",
       "      <td>0.0</td>\n",
       "      <td>...</td>\n",
       "      <td>0.0</td>\n",
       "      <td>0.0</td>\n",
       "      <td>0.0</td>\n",
       "      <td>0.0</td>\n",
       "      <td>0.0</td>\n",
       "      <td>0.0</td>\n",
       "      <td>0.0</td>\n",
       "      <td>0.0</td>\n",
       "      <td>0.0</td>\n",
       "      <td>0.0</td>\n",
       "    </tr>\n",
       "    <tr>\n",
       "      <th>5</th>\n",
       "      <td>4.0</td>\n",
       "      <td>3.0</td>\n",
       "      <td>0.0</td>\n",
       "      <td>0.0</td>\n",
       "      <td>0.0</td>\n",
       "      <td>0.0</td>\n",
       "      <td>0.0</td>\n",
       "      <td>0.0</td>\n",
       "      <td>0.0</td>\n",
       "      <td>0.0</td>\n",
       "      <td>...</td>\n",
       "      <td>0.0</td>\n",
       "      <td>0.0</td>\n",
       "      <td>0.0</td>\n",
       "      <td>0.0</td>\n",
       "      <td>0.0</td>\n",
       "      <td>0.0</td>\n",
       "      <td>0.0</td>\n",
       "      <td>0.0</td>\n",
       "      <td>0.0</td>\n",
       "      <td>0.0</td>\n",
       "    </tr>\n",
       "    <tr>\n",
       "      <th>...</th>\n",
       "      <td>...</td>\n",
       "      <td>...</td>\n",
       "      <td>...</td>\n",
       "      <td>...</td>\n",
       "      <td>...</td>\n",
       "      <td>...</td>\n",
       "      <td>...</td>\n",
       "      <td>...</td>\n",
       "      <td>...</td>\n",
       "      <td>...</td>\n",
       "      <td>...</td>\n",
       "      <td>...</td>\n",
       "      <td>...</td>\n",
       "      <td>...</td>\n",
       "      <td>...</td>\n",
       "      <td>...</td>\n",
       "      <td>...</td>\n",
       "      <td>...</td>\n",
       "      <td>...</td>\n",
       "      <td>...</td>\n",
       "      <td>...</td>\n",
       "    </tr>\n",
       "    <tr>\n",
       "      <th>939</th>\n",
       "      <td>0.0</td>\n",
       "      <td>0.0</td>\n",
       "      <td>0.0</td>\n",
       "      <td>0.0</td>\n",
       "      <td>0.0</td>\n",
       "      <td>0.0</td>\n",
       "      <td>0.0</td>\n",
       "      <td>0.0</td>\n",
       "      <td>5.0</td>\n",
       "      <td>0.0</td>\n",
       "      <td>...</td>\n",
       "      <td>0.0</td>\n",
       "      <td>0.0</td>\n",
       "      <td>0.0</td>\n",
       "      <td>0.0</td>\n",
       "      <td>0.0</td>\n",
       "      <td>0.0</td>\n",
       "      <td>0.0</td>\n",
       "      <td>0.0</td>\n",
       "      <td>0.0</td>\n",
       "      <td>0.0</td>\n",
       "    </tr>\n",
       "    <tr>\n",
       "      <th>940</th>\n",
       "      <td>0.0</td>\n",
       "      <td>0.0</td>\n",
       "      <td>0.0</td>\n",
       "      <td>2.0</td>\n",
       "      <td>0.0</td>\n",
       "      <td>0.0</td>\n",
       "      <td>4.0</td>\n",
       "      <td>5.0</td>\n",
       "      <td>3.0</td>\n",
       "      <td>0.0</td>\n",
       "      <td>...</td>\n",
       "      <td>0.0</td>\n",
       "      <td>0.0</td>\n",
       "      <td>0.0</td>\n",
       "      <td>0.0</td>\n",
       "      <td>0.0</td>\n",
       "      <td>0.0</td>\n",
       "      <td>0.0</td>\n",
       "      <td>0.0</td>\n",
       "      <td>0.0</td>\n",
       "      <td>0.0</td>\n",
       "    </tr>\n",
       "    <tr>\n",
       "      <th>941</th>\n",
       "      <td>5.0</td>\n",
       "      <td>0.0</td>\n",
       "      <td>0.0</td>\n",
       "      <td>0.0</td>\n",
       "      <td>0.0</td>\n",
       "      <td>0.0</td>\n",
       "      <td>4.0</td>\n",
       "      <td>0.0</td>\n",
       "      <td>0.0</td>\n",
       "      <td>0.0</td>\n",
       "      <td>...</td>\n",
       "      <td>0.0</td>\n",
       "      <td>0.0</td>\n",
       "      <td>0.0</td>\n",
       "      <td>0.0</td>\n",
       "      <td>0.0</td>\n",
       "      <td>0.0</td>\n",
       "      <td>0.0</td>\n",
       "      <td>0.0</td>\n",
       "      <td>0.0</td>\n",
       "      <td>0.0</td>\n",
       "    </tr>\n",
       "    <tr>\n",
       "      <th>942</th>\n",
       "      <td>0.0</td>\n",
       "      <td>0.0</td>\n",
       "      <td>0.0</td>\n",
       "      <td>0.0</td>\n",
       "      <td>0.0</td>\n",
       "      <td>0.0</td>\n",
       "      <td>0.0</td>\n",
       "      <td>0.0</td>\n",
       "      <td>0.0</td>\n",
       "      <td>0.0</td>\n",
       "      <td>...</td>\n",
       "      <td>0.0</td>\n",
       "      <td>0.0</td>\n",
       "      <td>0.0</td>\n",
       "      <td>0.0</td>\n",
       "      <td>0.0</td>\n",
       "      <td>0.0</td>\n",
       "      <td>0.0</td>\n",
       "      <td>0.0</td>\n",
       "      <td>0.0</td>\n",
       "      <td>0.0</td>\n",
       "    </tr>\n",
       "    <tr>\n",
       "      <th>943</th>\n",
       "      <td>0.0</td>\n",
       "      <td>5.0</td>\n",
       "      <td>0.0</td>\n",
       "      <td>0.0</td>\n",
       "      <td>0.0</td>\n",
       "      <td>0.0</td>\n",
       "      <td>0.0</td>\n",
       "      <td>0.0</td>\n",
       "      <td>3.0</td>\n",
       "      <td>0.0</td>\n",
       "      <td>...</td>\n",
       "      <td>0.0</td>\n",
       "      <td>0.0</td>\n",
       "      <td>0.0</td>\n",
       "      <td>0.0</td>\n",
       "      <td>0.0</td>\n",
       "      <td>0.0</td>\n",
       "      <td>0.0</td>\n",
       "      <td>0.0</td>\n",
       "      <td>0.0</td>\n",
       "      <td>0.0</td>\n",
       "    </tr>\n",
       "  </tbody>\n",
       "</table>\n",
       "<p>943 rows × 1682 columns</p>\n",
       "</div>"
      ],
      "text/plain": [
       "movie_id  1     2     3     4     5     6     7     8     9     10    ...  \\\n",
       "user_id                                                               ...   \n",
       "1          5.0   3.0   4.0   3.0   3.0   5.0   4.0   1.0   5.0   3.0  ...   \n",
       "2          4.0   0.0   0.0   0.0   0.0   0.0   0.0   0.0   0.0   2.0  ...   \n",
       "3          0.0   0.0   0.0   0.0   0.0   0.0   0.0   0.0   0.0   0.0  ...   \n",
       "4          0.0   0.0   0.0   0.0   0.0   0.0   0.0   0.0   0.0   0.0  ...   \n",
       "5          4.0   3.0   0.0   0.0   0.0   0.0   0.0   0.0   0.0   0.0  ...   \n",
       "...        ...   ...   ...   ...   ...   ...   ...   ...   ...   ...  ...   \n",
       "939        0.0   0.0   0.0   0.0   0.0   0.0   0.0   0.0   5.0   0.0  ...   \n",
       "940        0.0   0.0   0.0   2.0   0.0   0.0   4.0   5.0   3.0   0.0  ...   \n",
       "941        5.0   0.0   0.0   0.0   0.0   0.0   4.0   0.0   0.0   0.0  ...   \n",
       "942        0.0   0.0   0.0   0.0   0.0   0.0   0.0   0.0   0.0   0.0  ...   \n",
       "943        0.0   5.0   0.0   0.0   0.0   0.0   0.0   0.0   3.0   0.0  ...   \n",
       "\n",
       "movie_id  1673  1674  1675  1676  1677  1678  1679  1680  1681  1682  \n",
       "user_id                                                               \n",
       "1          0.0   0.0   0.0   0.0   0.0   0.0   0.0   0.0   0.0   0.0  \n",
       "2          0.0   0.0   0.0   0.0   0.0   0.0   0.0   0.0   0.0   0.0  \n",
       "3          0.0   0.0   0.0   0.0   0.0   0.0   0.0   0.0   0.0   0.0  \n",
       "4          0.0   0.0   0.0   0.0   0.0   0.0   0.0   0.0   0.0   0.0  \n",
       "5          0.0   0.0   0.0   0.0   0.0   0.0   0.0   0.0   0.0   0.0  \n",
       "...        ...   ...   ...   ...   ...   ...   ...   ...   ...   ...  \n",
       "939        0.0   0.0   0.0   0.0   0.0   0.0   0.0   0.0   0.0   0.0  \n",
       "940        0.0   0.0   0.0   0.0   0.0   0.0   0.0   0.0   0.0   0.0  \n",
       "941        0.0   0.0   0.0   0.0   0.0   0.0   0.0   0.0   0.0   0.0  \n",
       "942        0.0   0.0   0.0   0.0   0.0   0.0   0.0   0.0   0.0   0.0  \n",
       "943        0.0   0.0   0.0   0.0   0.0   0.0   0.0   0.0   0.0   0.0  \n",
       "\n",
       "[943 rows x 1682 columns]"
      ]
     },
     "execution_count": 69,
     "metadata": {},
     "output_type": "execute_result"
    }
   ],
   "source": [
    "user_movie_rating = ratings[[\"user_id\", \"movie_id\", \"rating\"]].copy()\n",
    "user_item_matrix = user_movie_rating.pivot(\n",
    "    index=\"user_id\", columns=\"movie_id\", values=\"rating\"\n",
    ")\n",
    "user_item_matrix = user_item_matrix.fillna(0)\n",
    "user_item_matrix"
   ]
  },
  {
   "cell_type": "code",
   "execution_count": 70,
   "id": "3ffbe9f8",
   "metadata": {},
   "outputs": [
    {
     "data": {
      "text/html": [
       "<div>\n",
       "<style scoped>\n",
       "    .dataframe tbody tr th:only-of-type {\n",
       "        vertical-align: middle;\n",
       "    }\n",
       "\n",
       "    .dataframe tbody tr th {\n",
       "        vertical-align: top;\n",
       "    }\n",
       "\n",
       "    .dataframe thead th {\n",
       "        text-align: right;\n",
       "    }\n",
       "</style>\n",
       "<table border=\"1\" class=\"dataframe\">\n",
       "  <thead>\n",
       "    <tr style=\"text-align: right;\">\n",
       "      <th></th>\n",
       "      <th>0</th>\n",
       "      <th>1</th>\n",
       "      <th>2</th>\n",
       "      <th>3</th>\n",
       "      <th>4</th>\n",
       "      <th>5</th>\n",
       "      <th>6</th>\n",
       "      <th>7</th>\n",
       "      <th>8</th>\n",
       "      <th>9</th>\n",
       "      <th>...</th>\n",
       "      <th>933</th>\n",
       "      <th>934</th>\n",
       "      <th>935</th>\n",
       "      <th>936</th>\n",
       "      <th>937</th>\n",
       "      <th>938</th>\n",
       "      <th>939</th>\n",
       "      <th>940</th>\n",
       "      <th>941</th>\n",
       "      <th>942</th>\n",
       "    </tr>\n",
       "  </thead>\n",
       "  <tbody>\n",
       "    <tr>\n",
       "      <th>0</th>\n",
       "      <td>1.000000</td>\n",
       "      <td>0.166931</td>\n",
       "      <td>0.047460</td>\n",
       "      <td>0.064358</td>\n",
       "      <td>0.378475</td>\n",
       "      <td>0.430239</td>\n",
       "      <td>0.440367</td>\n",
       "      <td>0.319072</td>\n",
       "      <td>0.078138</td>\n",
       "      <td>0.376544</td>\n",
       "      <td>...</td>\n",
       "      <td>0.369527</td>\n",
       "      <td>0.119482</td>\n",
       "      <td>0.274876</td>\n",
       "      <td>0.189705</td>\n",
       "      <td>0.197326</td>\n",
       "      <td>0.118095</td>\n",
       "      <td>0.314072</td>\n",
       "      <td>0.148617</td>\n",
       "      <td>0.179508</td>\n",
       "      <td>0.398175</td>\n",
       "    </tr>\n",
       "    <tr>\n",
       "      <th>1</th>\n",
       "      <td>0.166931</td>\n",
       "      <td>1.000000</td>\n",
       "      <td>0.110591</td>\n",
       "      <td>0.178121</td>\n",
       "      <td>0.072979</td>\n",
       "      <td>0.245843</td>\n",
       "      <td>0.107328</td>\n",
       "      <td>0.103344</td>\n",
       "      <td>0.161048</td>\n",
       "      <td>0.159862</td>\n",
       "      <td>...</td>\n",
       "      <td>0.156986</td>\n",
       "      <td>0.307942</td>\n",
       "      <td>0.358789</td>\n",
       "      <td>0.424046</td>\n",
       "      <td>0.319889</td>\n",
       "      <td>0.228583</td>\n",
       "      <td>0.226790</td>\n",
       "      <td>0.161485</td>\n",
       "      <td>0.172268</td>\n",
       "      <td>0.105798</td>\n",
       "    </tr>\n",
       "    <tr>\n",
       "      <th>2</th>\n",
       "      <td>0.047460</td>\n",
       "      <td>0.110591</td>\n",
       "      <td>1.000000</td>\n",
       "      <td>0.344151</td>\n",
       "      <td>0.021245</td>\n",
       "      <td>0.072415</td>\n",
       "      <td>0.066137</td>\n",
       "      <td>0.083060</td>\n",
       "      <td>0.061040</td>\n",
       "      <td>0.065151</td>\n",
       "      <td>...</td>\n",
       "      <td>0.031875</td>\n",
       "      <td>0.042753</td>\n",
       "      <td>0.163829</td>\n",
       "      <td>0.069038</td>\n",
       "      <td>0.124245</td>\n",
       "      <td>0.026271</td>\n",
       "      <td>0.161890</td>\n",
       "      <td>0.101243</td>\n",
       "      <td>0.133416</td>\n",
       "      <td>0.026556</td>\n",
       "    </tr>\n",
       "    <tr>\n",
       "      <th>3</th>\n",
       "      <td>0.064358</td>\n",
       "      <td>0.178121</td>\n",
       "      <td>0.344151</td>\n",
       "      <td>1.000000</td>\n",
       "      <td>0.031804</td>\n",
       "      <td>0.068044</td>\n",
       "      <td>0.091230</td>\n",
       "      <td>0.188060</td>\n",
       "      <td>0.101284</td>\n",
       "      <td>0.060859</td>\n",
       "      <td>...</td>\n",
       "      <td>0.052107</td>\n",
       "      <td>0.036784</td>\n",
       "      <td>0.133115</td>\n",
       "      <td>0.193471</td>\n",
       "      <td>0.146058</td>\n",
       "      <td>0.030138</td>\n",
       "      <td>0.196858</td>\n",
       "      <td>0.152041</td>\n",
       "      <td>0.170086</td>\n",
       "      <td>0.058752</td>\n",
       "    </tr>\n",
       "    <tr>\n",
       "      <th>4</th>\n",
       "      <td>0.378475</td>\n",
       "      <td>0.072979</td>\n",
       "      <td>0.021245</td>\n",
       "      <td>0.031804</td>\n",
       "      <td>1.000000</td>\n",
       "      <td>0.237286</td>\n",
       "      <td>0.373600</td>\n",
       "      <td>0.248930</td>\n",
       "      <td>0.056847</td>\n",
       "      <td>0.201427</td>\n",
       "      <td>...</td>\n",
       "      <td>0.338794</td>\n",
       "      <td>0.080580</td>\n",
       "      <td>0.094924</td>\n",
       "      <td>0.079779</td>\n",
       "      <td>0.148607</td>\n",
       "      <td>0.071459</td>\n",
       "      <td>0.239955</td>\n",
       "      <td>0.139595</td>\n",
       "      <td>0.152497</td>\n",
       "      <td>0.313941</td>\n",
       "    </tr>\n",
       "    <tr>\n",
       "      <th>...</th>\n",
       "      <td>...</td>\n",
       "      <td>...</td>\n",
       "      <td>...</td>\n",
       "      <td>...</td>\n",
       "      <td>...</td>\n",
       "      <td>...</td>\n",
       "      <td>...</td>\n",
       "      <td>...</td>\n",
       "      <td>...</td>\n",
       "      <td>...</td>\n",
       "      <td>...</td>\n",
       "      <td>...</td>\n",
       "      <td>...</td>\n",
       "      <td>...</td>\n",
       "      <td>...</td>\n",
       "      <td>...</td>\n",
       "      <td>...</td>\n",
       "      <td>...</td>\n",
       "      <td>...</td>\n",
       "      <td>...</td>\n",
       "      <td>...</td>\n",
       "    </tr>\n",
       "    <tr>\n",
       "      <th>938</th>\n",
       "      <td>0.118095</td>\n",
       "      <td>0.228583</td>\n",
       "      <td>0.026271</td>\n",
       "      <td>0.030138</td>\n",
       "      <td>0.071459</td>\n",
       "      <td>0.111852</td>\n",
       "      <td>0.107027</td>\n",
       "      <td>0.095898</td>\n",
       "      <td>0.039852</td>\n",
       "      <td>0.071460</td>\n",
       "      <td>...</td>\n",
       "      <td>0.066039</td>\n",
       "      <td>0.431154</td>\n",
       "      <td>0.258021</td>\n",
       "      <td>0.226449</td>\n",
       "      <td>0.432666</td>\n",
       "      <td>1.000000</td>\n",
       "      <td>0.087687</td>\n",
       "      <td>0.180029</td>\n",
       "      <td>0.043264</td>\n",
       "      <td>0.144250</td>\n",
       "    </tr>\n",
       "    <tr>\n",
       "      <th>939</th>\n",
       "      <td>0.314072</td>\n",
       "      <td>0.226790</td>\n",
       "      <td>0.161890</td>\n",
       "      <td>0.196858</td>\n",
       "      <td>0.239955</td>\n",
       "      <td>0.352449</td>\n",
       "      <td>0.329925</td>\n",
       "      <td>0.246883</td>\n",
       "      <td>0.120495</td>\n",
       "      <td>0.342961</td>\n",
       "      <td>...</td>\n",
       "      <td>0.327153</td>\n",
       "      <td>0.107024</td>\n",
       "      <td>0.187536</td>\n",
       "      <td>0.181317</td>\n",
       "      <td>0.175158</td>\n",
       "      <td>0.087687</td>\n",
       "      <td>1.000000</td>\n",
       "      <td>0.145152</td>\n",
       "      <td>0.261376</td>\n",
       "      <td>0.241028</td>\n",
       "    </tr>\n",
       "    <tr>\n",
       "      <th>940</th>\n",
       "      <td>0.148617</td>\n",
       "      <td>0.161485</td>\n",
       "      <td>0.101243</td>\n",
       "      <td>0.152041</td>\n",
       "      <td>0.139595</td>\n",
       "      <td>0.144446</td>\n",
       "      <td>0.059993</td>\n",
       "      <td>0.146145</td>\n",
       "      <td>0.143245</td>\n",
       "      <td>0.090305</td>\n",
       "      <td>...</td>\n",
       "      <td>0.046952</td>\n",
       "      <td>0.203301</td>\n",
       "      <td>0.288318</td>\n",
       "      <td>0.234211</td>\n",
       "      <td>0.313400</td>\n",
       "      <td>0.180029</td>\n",
       "      <td>0.145152</td>\n",
       "      <td>1.000000</td>\n",
       "      <td>0.101642</td>\n",
       "      <td>0.095120</td>\n",
       "    </tr>\n",
       "    <tr>\n",
       "      <th>941</th>\n",
       "      <td>0.179508</td>\n",
       "      <td>0.172268</td>\n",
       "      <td>0.133416</td>\n",
       "      <td>0.170086</td>\n",
       "      <td>0.152497</td>\n",
       "      <td>0.317328</td>\n",
       "      <td>0.282003</td>\n",
       "      <td>0.175322</td>\n",
       "      <td>0.092497</td>\n",
       "      <td>0.212330</td>\n",
       "      <td>...</td>\n",
       "      <td>0.226440</td>\n",
       "      <td>0.073513</td>\n",
       "      <td>0.089588</td>\n",
       "      <td>0.129554</td>\n",
       "      <td>0.099385</td>\n",
       "      <td>0.043264</td>\n",
       "      <td>0.261376</td>\n",
       "      <td>0.101642</td>\n",
       "      <td>1.000000</td>\n",
       "      <td>0.182465</td>\n",
       "    </tr>\n",
       "    <tr>\n",
       "      <th>942</th>\n",
       "      <td>0.398175</td>\n",
       "      <td>0.105798</td>\n",
       "      <td>0.026556</td>\n",
       "      <td>0.058752</td>\n",
       "      <td>0.313941</td>\n",
       "      <td>0.276042</td>\n",
       "      <td>0.394364</td>\n",
       "      <td>0.299809</td>\n",
       "      <td>0.075617</td>\n",
       "      <td>0.221860</td>\n",
       "      <td>...</td>\n",
       "      <td>0.263791</td>\n",
       "      <td>0.210763</td>\n",
       "      <td>0.143253</td>\n",
       "      <td>0.077793</td>\n",
       "      <td>0.202244</td>\n",
       "      <td>0.144250</td>\n",
       "      <td>0.241028</td>\n",
       "      <td>0.095120</td>\n",
       "      <td>0.182465</td>\n",
       "      <td>1.000000</td>\n",
       "    </tr>\n",
       "  </tbody>\n",
       "</table>\n",
       "<p>943 rows × 943 columns</p>\n",
       "</div>"
      ],
      "text/plain": [
       "          0         1         2         3         4         5         6    \\\n",
       "0    1.000000  0.166931  0.047460  0.064358  0.378475  0.430239  0.440367   \n",
       "1    0.166931  1.000000  0.110591  0.178121  0.072979  0.245843  0.107328   \n",
       "2    0.047460  0.110591  1.000000  0.344151  0.021245  0.072415  0.066137   \n",
       "3    0.064358  0.178121  0.344151  1.000000  0.031804  0.068044  0.091230   \n",
       "4    0.378475  0.072979  0.021245  0.031804  1.000000  0.237286  0.373600   \n",
       "..        ...       ...       ...       ...       ...       ...       ...   \n",
       "938  0.118095  0.228583  0.026271  0.030138  0.071459  0.111852  0.107027   \n",
       "939  0.314072  0.226790  0.161890  0.196858  0.239955  0.352449  0.329925   \n",
       "940  0.148617  0.161485  0.101243  0.152041  0.139595  0.144446  0.059993   \n",
       "941  0.179508  0.172268  0.133416  0.170086  0.152497  0.317328  0.282003   \n",
       "942  0.398175  0.105798  0.026556  0.058752  0.313941  0.276042  0.394364   \n",
       "\n",
       "          7         8         9    ...       933       934       935  \\\n",
       "0    0.319072  0.078138  0.376544  ...  0.369527  0.119482  0.274876   \n",
       "1    0.103344  0.161048  0.159862  ...  0.156986  0.307942  0.358789   \n",
       "2    0.083060  0.061040  0.065151  ...  0.031875  0.042753  0.163829   \n",
       "3    0.188060  0.101284  0.060859  ...  0.052107  0.036784  0.133115   \n",
       "4    0.248930  0.056847  0.201427  ...  0.338794  0.080580  0.094924   \n",
       "..        ...       ...       ...  ...       ...       ...       ...   \n",
       "938  0.095898  0.039852  0.071460  ...  0.066039  0.431154  0.258021   \n",
       "939  0.246883  0.120495  0.342961  ...  0.327153  0.107024  0.187536   \n",
       "940  0.146145  0.143245  0.090305  ...  0.046952  0.203301  0.288318   \n",
       "941  0.175322  0.092497  0.212330  ...  0.226440  0.073513  0.089588   \n",
       "942  0.299809  0.075617  0.221860  ...  0.263791  0.210763  0.143253   \n",
       "\n",
       "          936       937       938       939       940       941       942  \n",
       "0    0.189705  0.197326  0.118095  0.314072  0.148617  0.179508  0.398175  \n",
       "1    0.424046  0.319889  0.228583  0.226790  0.161485  0.172268  0.105798  \n",
       "2    0.069038  0.124245  0.026271  0.161890  0.101243  0.133416  0.026556  \n",
       "3    0.193471  0.146058  0.030138  0.196858  0.152041  0.170086  0.058752  \n",
       "4    0.079779  0.148607  0.071459  0.239955  0.139595  0.152497  0.313941  \n",
       "..        ...       ...       ...       ...       ...       ...       ...  \n",
       "938  0.226449  0.432666  1.000000  0.087687  0.180029  0.043264  0.144250  \n",
       "939  0.181317  0.175158  0.087687  1.000000  0.145152  0.261376  0.241028  \n",
       "940  0.234211  0.313400  0.180029  0.145152  1.000000  0.101642  0.095120  \n",
       "941  0.129554  0.099385  0.043264  0.261376  0.101642  1.000000  0.182465  \n",
       "942  0.077793  0.202244  0.144250  0.241028  0.095120  0.182465  1.000000  \n",
       "\n",
       "[943 rows x 943 columns]"
      ]
     },
     "execution_count": 70,
     "metadata": {},
     "output_type": "execute_result"
    }
   ],
   "source": [
    "users_sim_matrix = cosine_similarity(user_item_matrix)\n",
    "users_sim_matrix = pd.DataFrame(users_sim_matrix)\n",
    "users_sim_matrix"
   ]
  },
  {
   "cell_type": "code",
   "execution_count": 71,
   "id": "4ad4d472",
   "metadata": {},
   "outputs": [
    {
     "data": {
      "text/html": [
       "<div>\n",
       "<style scoped>\n",
       "    .dataframe tbody tr th:only-of-type {\n",
       "        vertical-align: middle;\n",
       "    }\n",
       "\n",
       "    .dataframe tbody tr th {\n",
       "        vertical-align: top;\n",
       "    }\n",
       "\n",
       "    .dataframe thead th {\n",
       "        text-align: right;\n",
       "    }\n",
       "</style>\n",
       "<table border=\"1\" class=\"dataframe\">\n",
       "  <thead>\n",
       "    <tr style=\"text-align: right;\">\n",
       "      <th></th>\n",
       "      <th></th>\n",
       "      <th>rating</th>\n",
       "    </tr>\n",
       "    <tr>\n",
       "      <th>user_id</th>\n",
       "      <th>movie_id</th>\n",
       "      <th></th>\n",
       "    </tr>\n",
       "  </thead>\n",
       "  <tbody>\n",
       "    <tr>\n",
       "      <th rowspan=\"5\" valign=\"top\">1</th>\n",
       "      <th>1</th>\n",
       "      <td>5</td>\n",
       "    </tr>\n",
       "    <tr>\n",
       "      <th>2</th>\n",
       "      <td>3</td>\n",
       "    </tr>\n",
       "    <tr>\n",
       "      <th>3</th>\n",
       "      <td>4</td>\n",
       "    </tr>\n",
       "    <tr>\n",
       "      <th>4</th>\n",
       "      <td>3</td>\n",
       "    </tr>\n",
       "    <tr>\n",
       "      <th>5</th>\n",
       "      <td>3</td>\n",
       "    </tr>\n",
       "    <tr>\n",
       "      <th>...</th>\n",
       "      <th>...</th>\n",
       "      <td>...</td>\n",
       "    </tr>\n",
       "    <tr>\n",
       "      <th rowspan=\"5\" valign=\"top\">943</th>\n",
       "      <th>1067</th>\n",
       "      <td>2</td>\n",
       "    </tr>\n",
       "    <tr>\n",
       "      <th>1074</th>\n",
       "      <td>4</td>\n",
       "    </tr>\n",
       "    <tr>\n",
       "      <th>1188</th>\n",
       "      <td>3</td>\n",
       "    </tr>\n",
       "    <tr>\n",
       "      <th>1228</th>\n",
       "      <td>3</td>\n",
       "    </tr>\n",
       "    <tr>\n",
       "      <th>1330</th>\n",
       "      <td>3</td>\n",
       "    </tr>\n",
       "  </tbody>\n",
       "</table>\n",
       "<p>100000 rows × 1 columns</p>\n",
       "</div>"
      ],
      "text/plain": [
       "                  rating\n",
       "user_id movie_id        \n",
       "1       1              5\n",
       "        2              3\n",
       "        3              4\n",
       "        4              3\n",
       "        5              3\n",
       "...                  ...\n",
       "943     1067           2\n",
       "        1074           4\n",
       "        1188           3\n",
       "        1228           3\n",
       "        1330           3\n",
       "\n",
       "[100000 rows x 1 columns]"
      ]
     },
     "execution_count": 71,
     "metadata": {},
     "output_type": "execute_result"
    }
   ],
   "source": [
    "temp_2 = user_movie_rating.groupby([\"user_id\", \"movie_id\"]).sum()\n",
    "temp_2"
   ]
  },
  {
   "cell_type": "code",
   "execution_count": 72,
   "id": "594f1630",
   "metadata": {},
   "outputs": [
    {
     "data": {
      "text/html": [
       "<div>\n",
       "<style scoped>\n",
       "    .dataframe tbody tr th:only-of-type {\n",
       "        vertical-align: middle;\n",
       "    }\n",
       "\n",
       "    .dataframe tbody tr th {\n",
       "        vertical-align: top;\n",
       "    }\n",
       "\n",
       "    .dataframe thead th {\n",
       "        text-align: right;\n",
       "    }\n",
       "</style>\n",
       "<table border=\"1\" class=\"dataframe\">\n",
       "  <thead>\n",
       "    <tr style=\"text-align: right;\">\n",
       "      <th></th>\n",
       "      <th>rating</th>\n",
       "    </tr>\n",
       "    <tr>\n",
       "      <th>movie_id</th>\n",
       "      <th></th>\n",
       "    </tr>\n",
       "  </thead>\n",
       "  <tbody>\n",
       "    <tr>\n",
       "      <th>16</th>\n",
       "      <td>5</td>\n",
       "    </tr>\n",
       "    <tr>\n",
       "      <th>270</th>\n",
       "      <td>5</td>\n",
       "    </tr>\n",
       "    <tr>\n",
       "      <th>1</th>\n",
       "      <td>5</td>\n",
       "    </tr>\n",
       "    <tr>\n",
       "      <th>32</th>\n",
       "      <td>5</td>\n",
       "    </tr>\n",
       "    <tr>\n",
       "      <th>19</th>\n",
       "      <td>5</td>\n",
       "    </tr>\n",
       "    <tr>\n",
       "      <th>...</th>\n",
       "      <td>...</td>\n",
       "    </tr>\n",
       "    <tr>\n",
       "      <th>260</th>\n",
       "      <td>1</td>\n",
       "    </tr>\n",
       "    <tr>\n",
       "      <th>243</th>\n",
       "      <td>1</td>\n",
       "    </tr>\n",
       "    <tr>\n",
       "      <th>219</th>\n",
       "      <td>1</td>\n",
       "    </tr>\n",
       "    <tr>\n",
       "      <th>231</th>\n",
       "      <td>1</td>\n",
       "    </tr>\n",
       "    <tr>\n",
       "      <th>21</th>\n",
       "      <td>1</td>\n",
       "    </tr>\n",
       "  </tbody>\n",
       "</table>\n",
       "<p>272 rows × 1 columns</p>\n",
       "</div>"
      ],
      "text/plain": [
       "          rating\n",
       "movie_id        \n",
       "16             5\n",
       "270            5\n",
       "1              5\n",
       "32             5\n",
       "19             5\n",
       "...          ...\n",
       "260            1\n",
       "243            1\n",
       "219            1\n",
       "231            1\n",
       "21             1\n",
       "\n",
       "[272 rows x 1 columns]"
      ]
     },
     "execution_count": 72,
     "metadata": {},
     "output_type": "execute_result"
    }
   ],
   "source": [
    "user_rate = temp_2.loc[1, :].sort_values(by=\"rating\", ascending=False)\n",
    "user_rate"
   ]
  },
  {
   "cell_type": "code",
   "execution_count": 73,
   "id": "e62ce126",
   "metadata": {},
   "outputs": [],
   "source": [
    "def top_film_for_user(user_id):\n",
    "    temp = user_movie_rating.groupby([\"user_id\", \"movie_id\"]).sum()\n",
    "    user_rate = temp.loc[user_id, :].copy().sort_values(by=\"rating\", ascending=False)\n",
    "    max_value = user_rate[\"rating\"].max()\n",
    "    film_id = np.random.choice(user_rate[user_rate[\"rating\"] == max_value].index)\n",
    "    return film_id"
   ]
  },
  {
   "cell_type": "code",
   "execution_count": 74,
   "id": "9ee3e6d5",
   "metadata": {},
   "outputs": [],
   "source": [
    "def recommend_by_user(user_id, top=10):\n",
    "    similarity_series = users_sim_matrix.iloc[:, user_id - 1]\n",
    "    similarity_series = similarity_series.drop(similarity_series.index[user_id - 1])\n",
    "    top_similar_users = similarity_series.sort_values(ascending=False).head(top)\n",
    "    sim_users = pd.DataFrame(\n",
    "        {\n",
    "            \"user_id\": top_similar_users.index + 1,  # если индексы с 0\n",
    "            \"similarity\": top_similar_users.values,\n",
    "        }\n",
    "    )\n",
    "    sim_users[\"top_films_id\"] = sim_users[\"user_id\"].apply(top_film_for_user)\n",
    "    sim_users[\"top_films\"] = sim_users[\"top_films_id\"].apply(title_from_id)\n",
    "    return sim_users"
   ]
  },
  {
   "cell_type": "code",
   "execution_count": 75,
   "id": "d609f92d",
   "metadata": {},
   "outputs": [
    {
     "data": {
      "text/html": [
       "<div>\n",
       "<style scoped>\n",
       "    .dataframe tbody tr th:only-of-type {\n",
       "        vertical-align: middle;\n",
       "    }\n",
       "\n",
       "    .dataframe tbody tr th {\n",
       "        vertical-align: top;\n",
       "    }\n",
       "\n",
       "    .dataframe thead th {\n",
       "        text-align: right;\n",
       "    }\n",
       "</style>\n",
       "<table border=\"1\" class=\"dataframe\">\n",
       "  <thead>\n",
       "    <tr style=\"text-align: right;\">\n",
       "      <th></th>\n",
       "      <th>user_id</th>\n",
       "      <th>similarity</th>\n",
       "      <th>top_films_id</th>\n",
       "      <th>top_films</th>\n",
       "    </tr>\n",
       "  </thead>\n",
       "  <tbody>\n",
       "    <tr>\n",
       "      <th>0</th>\n",
       "      <td>294</td>\n",
       "      <td>0.552120</td>\n",
       "      <td>475</td>\n",
       "      <td>Trainspotting (1996)</td>\n",
       "    </tr>\n",
       "    <tr>\n",
       "      <th>1</th>\n",
       "      <td>938</td>\n",
       "      <td>0.549014</td>\n",
       "      <td>118</td>\n",
       "      <td>Twister (1996)</td>\n",
       "    </tr>\n",
       "    <tr>\n",
       "      <th>2</th>\n",
       "      <td>624</td>\n",
       "      <td>0.529494</td>\n",
       "      <td>50</td>\n",
       "      <td>Star Wars (1977)</td>\n",
       "    </tr>\n",
       "    <tr>\n",
       "      <th>3</th>\n",
       "      <td>190</td>\n",
       "      <td>0.515259</td>\n",
       "      <td>302</td>\n",
       "      <td>L.A. Confidential (1997)</td>\n",
       "    </tr>\n",
       "    <tr>\n",
       "      <th>4</th>\n",
       "      <td>104</td>\n",
       "      <td>0.495357</td>\n",
       "      <td>302</td>\n",
       "      <td>L.A. Confidential (1997)</td>\n",
       "    </tr>\n",
       "    <tr>\n",
       "      <th>5</th>\n",
       "      <td>689</td>\n",
       "      <td>0.489779</td>\n",
       "      <td>50</td>\n",
       "      <td>Star Wars (1977)</td>\n",
       "    </tr>\n",
       "    <tr>\n",
       "      <th>6</th>\n",
       "      <td>403</td>\n",
       "      <td>0.487078</td>\n",
       "      <td>235</td>\n",
       "      <td>Mars Attacks! (1996)</td>\n",
       "    </tr>\n",
       "    <tr>\n",
       "      <th>7</th>\n",
       "      <td>730</td>\n",
       "      <td>0.481857</td>\n",
       "      <td>1012</td>\n",
       "      <td>Private Parts (1997)</td>\n",
       "    </tr>\n",
       "    <tr>\n",
       "      <th>8</th>\n",
       "      <td>569</td>\n",
       "      <td>0.481626</td>\n",
       "      <td>50</td>\n",
       "      <td>Star Wars (1977)</td>\n",
       "    </tr>\n",
       "    <tr>\n",
       "      <th>9</th>\n",
       "      <td>526</td>\n",
       "      <td>0.481022</td>\n",
       "      <td>676</td>\n",
       "      <td>Crucible, The (1996)</td>\n",
       "    </tr>\n",
       "  </tbody>\n",
       "</table>\n",
       "</div>"
      ],
      "text/plain": [
       "   user_id  similarity  top_films_id                 top_films\n",
       "0      294    0.552120           475      Trainspotting (1996)\n",
       "1      938    0.549014           118            Twister (1996)\n",
       "2      624    0.529494            50          Star Wars (1977)\n",
       "3      190    0.515259           302  L.A. Confidential (1997)\n",
       "4      104    0.495357           302  L.A. Confidential (1997)\n",
       "5      689    0.489779            50          Star Wars (1977)\n",
       "6      403    0.487078           235      Mars Attacks! (1996)\n",
       "7      730    0.481857          1012      Private Parts (1997)\n",
       "8      569    0.481626            50          Star Wars (1977)\n",
       "9      526    0.481022           676      Crucible, The (1996)"
      ]
     },
     "execution_count": 75,
     "metadata": {},
     "output_type": "execute_result"
    }
   ],
   "source": [
    "np.random.seed(41)\n",
    "recommend_by_user(54)"
   ]
  },
  {
   "cell_type": "markdown",
   "id": "b6ac827b",
   "metadata": {},
   "source": [
    "### scikit-surprice\n"
   ]
  },
  {
   "cell_type": "markdown",
   "id": "e125ed69",
   "metadata": {},
   "source": [
    "Создай `user-item` матрицу (по строкам – пользователи, по столбцам – фильмы, на пересечении – оценки). Примени `SVD` для решения задачи прогнозирования оценки. \n",
    "\n",
    "> https://surpriselib.com/"
   ]
  },
  {
   "cell_type": "code",
   "execution_count": 153,
   "id": "faf6be41",
   "metadata": {},
   "outputs": [],
   "source": [
    "from surprise import SVD, Dataset, Reader\n",
    "from surprise.model_selection import train_test_split\n",
    "from surprise import accuracy\n",
    "from surprise.prediction_algorithms.matrix_factorization import NMF"
   ]
  },
  {
   "cell_type": "code",
   "execution_count": 82,
   "id": "db7760cb",
   "metadata": {},
   "outputs": [],
   "source": [
    "reader = Reader(rating_scale=(1, 5))\n",
    "data = Dataset.load_from_df(\n",
    "    user_movie_rating[[\"user_id\", \"movie_id\", \"rating\"]], reader\n",
    ")"
   ]
  },
  {
   "cell_type": "code",
   "execution_count": 83,
   "id": "c5440fd5",
   "metadata": {},
   "outputs": [],
   "source": [
    "trainset, testset = train_test_split(data, test_size=0.25, random_state=42)"
   ]
  },
  {
   "cell_type": "code",
   "execution_count": 149,
   "id": "9be63b60",
   "metadata": {},
   "outputs": [
    {
     "data": {
      "text/plain": [
       "<surprise.prediction_algorithms.matrix_factorization.SVD at 0x73f8a757db80>"
      ]
     },
     "execution_count": 149,
     "metadata": {},
     "output_type": "execute_result"
    }
   ],
   "source": [
    "model_svd = SVD(n_factors=20, n_epochs=20, lr_all=0.005, reg_all=0.02)\n",
    "model_svd.fit(trainset)"
   ]
  },
  {
   "cell_type": "code",
   "execution_count": 150,
   "id": "40abac15",
   "metadata": {},
   "outputs": [
    {
     "name": "stdout",
     "output_type": "stream",
     "text": [
      "RMSE: 0.9375\n",
      "RMSE: 0.9375033581421104\n"
     ]
    }
   ],
   "source": [
    "predictions = model_svd.test(testset)\n",
    "rmse = accuracy.rmse(predictions)\n",
    "print(f\"RMSE: {rmse}\")"
   ]
  },
  {
   "cell_type": "code",
   "execution_count": 151,
   "id": "6df1403e",
   "metadata": {},
   "outputs": [
    {
     "name": "stdout",
     "output_type": "stream",
     "text": [
      "Movie: Godfather, The (1972), \n",
      "Pred_Rating: 4.539385594379782, \n",
      "True_Rating: 5.0\n",
      "user: 45         item: 127        r_ui = None   est = 4.54   {'was_impossible': False}\n"
     ]
    }
   ],
   "source": [
    "# test_user_id = np.random.choice(users[\"user_id\"])\n",
    "# test_movie_id = np.random.choice(movies[\"movie_id\"])\n",
    "test_user_id = 45\n",
    "test_movie_id = 127\n",
    "prediction = model_svd.predict(test_user_id, test_movie_id)\n",
    "print(\n",
    "    f\"Movie: {title_from_id(test_movie_id)}, \\n\\\n",
    "Pred_Rating: {prediction.est}, \\n\\\n",
    "True_Rating: {user_item_matrix.loc[test_user_id, test_movie_id]}\"\n",
    ")\n",
    "print(prediction)"
   ]
  },
  {
   "cell_type": "code",
   "execution_count": 146,
   "id": "cd04abc0",
   "metadata": {},
   "outputs": [],
   "source": [
    "# ratings[ratings[\"user_id\"] == 45]"
   ]
  },
  {
   "cell_type": "code",
   "execution_count": 128,
   "id": "fcb8d1e0",
   "metadata": {},
   "outputs": [
    {
     "data": {
      "text/html": [
       "<div>\n",
       "<style scoped>\n",
       "    .dataframe tbody tr th:only-of-type {\n",
       "        vertical-align: middle;\n",
       "    }\n",
       "\n",
       "    .dataframe tbody tr th {\n",
       "        vertical-align: top;\n",
       "    }\n",
       "\n",
       "    .dataframe thead th {\n",
       "        text-align: right;\n",
       "    }\n",
       "</style>\n",
       "<table border=\"1\" class=\"dataframe\">\n",
       "  <thead>\n",
       "    <tr style=\"text-align: right;\">\n",
       "      <th></th>\n",
       "      <th>movie_id</th>\n",
       "      <th>title</th>\n",
       "      <th>release_date</th>\n",
       "      <th>imdb_url</th>\n",
       "      <th>Action</th>\n",
       "      <th>Adventure</th>\n",
       "      <th>Animation</th>\n",
       "      <th>Children's</th>\n",
       "      <th>Comedy</th>\n",
       "      <th>Crime</th>\n",
       "      <th>...</th>\n",
       "      <th>Fantasy</th>\n",
       "      <th>Film-Noir</th>\n",
       "      <th>Horror</th>\n",
       "      <th>Musical</th>\n",
       "      <th>Mystery</th>\n",
       "      <th>Romance</th>\n",
       "      <th>Sci-Fi</th>\n",
       "      <th>Thriller</th>\n",
       "      <th>War</th>\n",
       "      <th>Western</th>\n",
       "    </tr>\n",
       "  </thead>\n",
       "  <tbody>\n",
       "    <tr>\n",
       "      <th>9</th>\n",
       "      <td>10</td>\n",
       "      <td>Richard III (1995)</td>\n",
       "      <td>22-Jan-1996</td>\n",
       "      <td>http://us.imdb.com/M/title-exact?Richard%20III...</td>\n",
       "      <td>0</td>\n",
       "      <td>0</td>\n",
       "      <td>0</td>\n",
       "      <td>0</td>\n",
       "      <td>0</td>\n",
       "      <td>0</td>\n",
       "      <td>...</td>\n",
       "      <td>0</td>\n",
       "      <td>0</td>\n",
       "      <td>0</td>\n",
       "      <td>0</td>\n",
       "      <td>0</td>\n",
       "      <td>0</td>\n",
       "      <td>0</td>\n",
       "      <td>0</td>\n",
       "      <td>1</td>\n",
       "      <td>0</td>\n",
       "    </tr>\n",
       "  </tbody>\n",
       "</table>\n",
       "<p>1 rows × 22 columns</p>\n",
       "</div>"
      ],
      "text/plain": [
       "   movie_id               title release_date  \\\n",
       "9        10  Richard III (1995)  22-Jan-1996   \n",
       "\n",
       "                                            imdb_url  Action  Adventure  \\\n",
       "9  http://us.imdb.com/M/title-exact?Richard%20III...       0          0   \n",
       "\n",
       "   Animation  Children's  Comedy  Crime  ...  Fantasy  Film-Noir  Horror  \\\n",
       "9          0           0       0      0  ...        0          0       0   \n",
       "\n",
       "   Musical  Mystery  Romance  Sci-Fi  Thriller  War  Western  \n",
       "9        0        0        0       0         0    1        0  \n",
       "\n",
       "[1 rows x 22 columns]"
      ]
     },
     "execution_count": 128,
     "metadata": {},
     "output_type": "execute_result"
    }
   ],
   "source": [
    "movies[movies[\"movie_id\"] == 10]"
   ]
  },
  {
   "cell_type": "markdown",
   "id": "5fb53c44",
   "metadata": {},
   "source": [
    "\n",
    "Реализуй предсказание рейтинга пользователя с помощью алгоритма [Nonnegative Matrix Factorization](https://surprise.readthedocs.io/en/stable/matrix_factorization.html#surprise.prediction_algorithms.matrix_factorization.NMF). Для этого понадобится библиотека [scikit-surpice](https://surprise.readthedocs.io/en/stable/index.html)"
   ]
  },
  {
   "cell_type": "code",
   "execution_count": 147,
   "id": "6faf5a46",
   "metadata": {},
   "outputs": [],
   "source": [
    "trainset_2, testset_2 = train_test_split(data, test_size=0.25, random_state=42)"
   ]
  },
  {
   "cell_type": "code",
   "execution_count": 154,
   "id": "3eed1214",
   "metadata": {},
   "outputs": [],
   "source": [
    "model_NMF = NMF(\n",
    "    n_factors=20,\n",
    "    n_epochs=20,\n",
    "    lr_bu=0.005,\n",
    "    # reg_all=0.02\n",
    ")"
   ]
  },
  {
   "cell_type": "code",
   "execution_count": 155,
   "id": "99f62288",
   "metadata": {},
   "outputs": [
    {
     "data": {
      "text/plain": [
       "<surprise.prediction_algorithms.matrix_factorization.NMF at 0x73f8a7582a20>"
      ]
     },
     "execution_count": 155,
     "metadata": {},
     "output_type": "execute_result"
    }
   ],
   "source": [
    "model_NMF.fit(trainset_2)"
   ]
  },
  {
   "cell_type": "code",
   "execution_count": null,
   "id": "e9c4f558",
   "metadata": {},
   "outputs": [
    {
     "name": "stdout",
     "output_type": "stream",
     "text": [
      "Movie: Godfather, The (1972), \n",
      "Pred_Rating: 5, \n",
      "True_Rating: 5.0\n",
      "user: 45         item: 127        r_ui = None   est = 5.00   {'was_impossible': False}\n"
     ]
    }
   ],
   "source": [
    "# test_user_id = np.random.choice(users[\"user_id\"])\n",
    "# test_movie_id = np.random.choice(movies[\"movie_id\"])\n",
    "# test_user_id = 45\n",
    "# test_movie_id = 127\n",
    "prediction_2 = model_NMF.predict(test_user_id, test_movie_id)\n",
    "print(\n",
    "    f\"Movie: {title_from_id(test_movie_id)}, \\n\\\n",
    "Pred_Rating: {prediction_2.est}, \\n\\\n",
    "True_Rating: {user_item_matrix.loc[test_user_id, test_movie_id]}\"\n",
    ")\n",
    "print(prediction_2)"
   ]
  },
  {
   "cell_type": "markdown",
   "id": "d407ffb4",
   "metadata": {},
   "source": [
    "### Slope One\n",
    "\n",
    "Реализуй подход Slope One (пример есть в слайдах лекции или в [статье](https://www.researchgate.net/publication/1960789_Slope_One_Predictors_for_Online_Rating-Based_Collaborative_Filtering))"
   ]
  },
  {
   "cell_type": "code",
   "execution_count": 158,
   "id": "d5923dd6",
   "metadata": {},
   "outputs": [],
   "source": [
    "from surprise import SlopeOne"
   ]
  },
  {
   "cell_type": "code",
   "execution_count": 157,
   "id": "6c040413",
   "metadata": {},
   "outputs": [],
   "source": [
    "trainset_3, testset_3 = train_test_split(data, test_size=0.25, random_state=42)"
   ]
  },
  {
   "cell_type": "code",
   "execution_count": 159,
   "id": "27474457",
   "metadata": {},
   "outputs": [
    {
     "data": {
      "text/plain": [
       "<surprise.prediction_algorithms.slope_one.SlopeOne at 0x73f8a7577f20>"
      ]
     },
     "execution_count": 159,
     "metadata": {},
     "output_type": "execute_result"
    }
   ],
   "source": [
    "model_SO = SlopeOne()\n",
    "model_SO.fit(trainset_3)"
   ]
  },
  {
   "cell_type": "code",
   "execution_count": 161,
   "id": "26eb39c6",
   "metadata": {},
   "outputs": [
    {
     "name": "stdout",
     "output_type": "stream",
     "text": [
      "Movie: Godfather, The (1972), \n",
      "Pred_Rating: 4.7007286241712025, \n",
      "True_Rating: 5.0\n",
      "user: 45         item: 127        r_ui = None   est = 4.70   {'was_impossible': False}\n"
     ]
    }
   ],
   "source": [
    "prediction_3 = model_SO.predict(test_user_id, test_movie_id)\n",
    "print(\n",
    "    f\"Movie: {title_from_id(test_movie_id)}, \\n\\\n",
    "Pred_Rating: {prediction_3.est}, \\n\\\n",
    "True_Rating: {user_item_matrix.loc[test_user_id, test_movie_id]}\"\n",
    ")\n",
    "print(prediction_3)"
   ]
  },
  {
   "cell_type": "code",
   "execution_count": null,
   "id": "4d600b97",
   "metadata": {},
   "outputs": [],
   "source": [
    "# def slope_one(user_id, item_id):\n",
    "\n",
    "#     return pred_rating"
   ]
  },
  {
   "cell_type": "code",
   "execution_count": 167,
   "id": "bc29cd60",
   "metadata": {},
   "outputs": [],
   "source": [
    "def compare_models_on_sample(\n",
    "    testset, model_svd=model_svd, model_NMF=model_NMF, model_SO=model_SO, n=15, seed=42\n",
    "):\n",
    "    \"\"\"\n",
    "    Выбирает n случайных наблюдений из testset, делает предсказания\n",
    "    с тремя моделями и возвращает таблицу с результатами.\n",
    "\n",
    "    Parameters\n",
    "    ----------\n",
    "    testset : list\n",
    "        Список троек (user, item, real_rating), полученных от Surprise (train_test_split).\n",
    "    model_svd : surprise.AlgoBase\n",
    "        Обученная модель SVD.\n",
    "    model_NMF : surprise.AlgoBase\n",
    "        Обученная модель NMF.\n",
    "    model_SO : surprise.AlgoBase\n",
    "        Обученная модель SlopeOne.\n",
    "    n : int\n",
    "        Количество случайных примеров (по умолчанию 15).\n",
    "    seed : int\n",
    "        Фиксированный seed для воспроизводимости.\n",
    "    \"\"\"\n",
    "\n",
    "    np.random.seed(seed)\n",
    "    idx = np.random.choice(len(testset), size=min(n, len(testset)), replace=False)\n",
    "    sample = [testset[i] for i in idx]\n",
    "\n",
    "    results = []\n",
    "    for uid, iid, true_r in sample:\n",
    "        svd_pred = model_svd.predict(uid, iid).est\n",
    "        nmf_pred = model_NMF.predict(uid, iid).est\n",
    "        so_pred = model_SO.predict(uid, iid).est\n",
    "\n",
    "        results.append(\n",
    "            {\n",
    "                \"user_id\": uid,\n",
    "                \"item_id\": iid,\n",
    "                \"title\": title_from_id(iid),\n",
    "                \"real_rating\": true_r,\n",
    "                \"svd_pred\": svd_pred,\n",
    "                \"nmf_pred\": nmf_pred,\n",
    "                \"slopeone_pred\": so_pred,\n",
    "            }\n",
    "        )\n",
    "    df = pd.DataFrame(results)\n",
    "    metrics = {}\n",
    "    for model in [\"svd_pred\", \"nmf_pred\", \"slopeone_pred\"]:\n",
    "        errors = df[model] - df[\"real_rating\"]\n",
    "        mae = np.mean(np.abs(errors))\n",
    "        rmse = np.sqrt(np.mean(errors**2))\n",
    "        metrics[model] = {\"MAE\": mae, \"RMSE\": rmse}\n",
    "\n",
    "    return df, metrics"
   ]
  },
  {
   "cell_type": "code",
   "execution_count": 169,
   "id": "8f55366b",
   "metadata": {},
   "outputs": [
    {
     "data": {
      "text/html": [
       "<div>\n",
       "<style scoped>\n",
       "    .dataframe tbody tr th:only-of-type {\n",
       "        vertical-align: middle;\n",
       "    }\n",
       "\n",
       "    .dataframe tbody tr th {\n",
       "        vertical-align: top;\n",
       "    }\n",
       "\n",
       "    .dataframe thead th {\n",
       "        text-align: right;\n",
       "    }\n",
       "</style>\n",
       "<table border=\"1\" class=\"dataframe\">\n",
       "  <thead>\n",
       "    <tr style=\"text-align: right;\">\n",
       "      <th></th>\n",
       "      <th>user_id</th>\n",
       "      <th>item_id</th>\n",
       "      <th>title</th>\n",
       "      <th>real_rating</th>\n",
       "      <th>svd_pred</th>\n",
       "      <th>nmf_pred</th>\n",
       "      <th>slopeone_pred</th>\n",
       "    </tr>\n",
       "  </thead>\n",
       "  <tbody>\n",
       "    <tr>\n",
       "      <th>0</th>\n",
       "      <td>293</td>\n",
       "      <td>657</td>\n",
       "      <td>Manchurian Candidate, The (1962)</td>\n",
       "      <td>4.0</td>\n",
       "      <td>3.936547</td>\n",
       "      <td>4.557290</td>\n",
       "      <td>3.838454</td>\n",
       "    </tr>\n",
       "    <tr>\n",
       "      <th>1</th>\n",
       "      <td>221</td>\n",
       "      <td>358</td>\n",
       "      <td>Spawn (1997)</td>\n",
       "      <td>3.0</td>\n",
       "      <td>2.750319</td>\n",
       "      <td>3.636582</td>\n",
       "      <td>2.821254</td>\n",
       "    </tr>\n",
       "    <tr>\n",
       "      <th>2</th>\n",
       "      <td>587</td>\n",
       "      <td>875</td>\n",
       "      <td>She's So Lovely (1997)</td>\n",
       "      <td>1.0</td>\n",
       "      <td>2.501020</td>\n",
       "      <td>2.806274</td>\n",
       "      <td>2.593047</td>\n",
       "    </tr>\n",
       "    <tr>\n",
       "      <th>3</th>\n",
       "      <td>648</td>\n",
       "      <td>177</td>\n",
       "      <td>Good, The Bad and The Ugly, The (1966)</td>\n",
       "      <td>5.0</td>\n",
       "      <td>3.512336</td>\n",
       "      <td>4.016320</td>\n",
       "      <td>3.775982</td>\n",
       "    </tr>\n",
       "    <tr>\n",
       "      <th>4</th>\n",
       "      <td>343</td>\n",
       "      <td>89</td>\n",
       "      <td>Blade Runner (1982)</td>\n",
       "      <td>3.0</td>\n",
       "      <td>4.572941</td>\n",
       "      <td>5.000000</td>\n",
       "      <td>4.449186</td>\n",
       "    </tr>\n",
       "    <tr>\n",
       "      <th>5</th>\n",
       "      <td>943</td>\n",
       "      <td>24</td>\n",
       "      <td>Rumble in the Bronx (1995)</td>\n",
       "      <td>4.0</td>\n",
       "      <td>3.461032</td>\n",
       "      <td>3.684580</td>\n",
       "      <td>3.533147</td>\n",
       "    </tr>\n",
       "    <tr>\n",
       "      <th>6</th>\n",
       "      <td>815</td>\n",
       "      <td>87</td>\n",
       "      <td>Searching for Bobby Fischer (1993)</td>\n",
       "      <td>5.0</td>\n",
       "      <td>4.162396</td>\n",
       "      <td>4.620847</td>\n",
       "      <td>4.012277</td>\n",
       "    </tr>\n",
       "    <tr>\n",
       "      <th>7</th>\n",
       "      <td>894</td>\n",
       "      <td>16</td>\n",
       "      <td>French Twist (Gazon maudit) (1995)</td>\n",
       "      <td>3.0</td>\n",
       "      <td>3.291812</td>\n",
       "      <td>4.063164</td>\n",
       "      <td>3.383193</td>\n",
       "    </tr>\n",
       "    <tr>\n",
       "      <th>8</th>\n",
       "      <td>883</td>\n",
       "      <td>319</td>\n",
       "      <td>Everyone Says I Love You (1996)</td>\n",
       "      <td>3.0</td>\n",
       "      <td>3.750421</td>\n",
       "      <td>4.003301</td>\n",
       "      <td>3.690117</td>\n",
       "    </tr>\n",
       "    <tr>\n",
       "      <th>9</th>\n",
       "      <td>64</td>\n",
       "      <td>381</td>\n",
       "      <td>Muriel's Wedding (1994)</td>\n",
       "      <td>4.0</td>\n",
       "      <td>3.499042</td>\n",
       "      <td>4.315577</td>\n",
       "      <td>3.516758</td>\n",
       "    </tr>\n",
       "    <tr>\n",
       "      <th>10</th>\n",
       "      <td>592</td>\n",
       "      <td>619</td>\n",
       "      <td>Extreme Measures (1996)</td>\n",
       "      <td>1.0</td>\n",
       "      <td>3.677952</td>\n",
       "      <td>4.165028</td>\n",
       "      <td>3.642000</td>\n",
       "    </tr>\n",
       "    <tr>\n",
       "      <th>11</th>\n",
       "      <td>892</td>\n",
       "      <td>684</td>\n",
       "      <td>In the Line of Fire (1993)</td>\n",
       "      <td>5.0</td>\n",
       "      <td>4.144085</td>\n",
       "      <td>4.800230</td>\n",
       "      <td>4.141648</td>\n",
       "    </tr>\n",
       "    <tr>\n",
       "      <th>12</th>\n",
       "      <td>708</td>\n",
       "      <td>405</td>\n",
       "      <td>Mission: Impossible (1996)</td>\n",
       "      <td>4.0</td>\n",
       "      <td>3.402427</td>\n",
       "      <td>3.539688</td>\n",
       "      <td>3.391544</td>\n",
       "    </tr>\n",
       "    <tr>\n",
       "      <th>13</th>\n",
       "      <td>942</td>\n",
       "      <td>315</td>\n",
       "      <td>Apt Pupil (1998)</td>\n",
       "      <td>4.0</td>\n",
       "      <td>4.689280</td>\n",
       "      <td>4.949595</td>\n",
       "      <td>4.588699</td>\n",
       "    </tr>\n",
       "    <tr>\n",
       "      <th>14</th>\n",
       "      <td>647</td>\n",
       "      <td>604</td>\n",
       "      <td>It Happened One Night (1934)</td>\n",
       "      <td>4.0</td>\n",
       "      <td>4.267519</td>\n",
       "      <td>4.948950</td>\n",
       "      <td>4.197653</td>\n",
       "    </tr>\n",
       "  </tbody>\n",
       "</table>\n",
       "</div>"
      ],
      "text/plain": [
       "    user_id  item_id                                   title  real_rating  \\\n",
       "0       293      657        Manchurian Candidate, The (1962)          4.0   \n",
       "1       221      358                            Spawn (1997)          3.0   \n",
       "2       587      875                  She's So Lovely (1997)          1.0   \n",
       "3       648      177  Good, The Bad and The Ugly, The (1966)          5.0   \n",
       "4       343       89                     Blade Runner (1982)          3.0   \n",
       "5       943       24              Rumble in the Bronx (1995)          4.0   \n",
       "6       815       87      Searching for Bobby Fischer (1993)          5.0   \n",
       "7       894       16      French Twist (Gazon maudit) (1995)          3.0   \n",
       "8       883      319         Everyone Says I Love You (1996)          3.0   \n",
       "9        64      381                 Muriel's Wedding (1994)          4.0   \n",
       "10      592      619                 Extreme Measures (1996)          1.0   \n",
       "11      892      684              In the Line of Fire (1993)          5.0   \n",
       "12      708      405              Mission: Impossible (1996)          4.0   \n",
       "13      942      315                        Apt Pupil (1998)          4.0   \n",
       "14      647      604            It Happened One Night (1934)          4.0   \n",
       "\n",
       "    svd_pred  nmf_pred  slopeone_pred  \n",
       "0   3.936547  4.557290       3.838454  \n",
       "1   2.750319  3.636582       2.821254  \n",
       "2   2.501020  2.806274       2.593047  \n",
       "3   3.512336  4.016320       3.775982  \n",
       "4   4.572941  5.000000       4.449186  \n",
       "5   3.461032  3.684580       3.533147  \n",
       "6   4.162396  4.620847       4.012277  \n",
       "7   3.291812  4.063164       3.383193  \n",
       "8   3.750421  4.003301       3.690117  \n",
       "9   3.499042  4.315577       3.516758  \n",
       "10  3.677952  4.165028       3.642000  \n",
       "11  4.144085  4.800230       4.141648  \n",
       "12  3.402427  3.539688       3.391544  \n",
       "13  4.689280  4.949595       4.588699  \n",
       "14  4.267519  4.948950       4.197653  "
      ]
     },
     "execution_count": 169,
     "metadata": {},
     "output_type": "execute_result"
    }
   ],
   "source": [
    "results, metrics = compare_models_on_sample(testset=testset)\n",
    "results"
   ]
  },
  {
   "cell_type": "code",
   "execution_count": 170,
   "id": "ebc736a7",
   "metadata": {},
   "outputs": [
    {
     "data": {
      "text/plain": [
       "{'svd_pred': {'MAE': 0.8588507270516116, 'RMSE': 1.0864563505791502},\n",
       " 'nmf_pred': {'MAE': 0.9856063643460412, 'RMSE': 1.2515926172415197},\n",
       " 'slopeone_pred': {'MAE': 0.8341885904854729, 'RMSE': 1.055687941650403}}"
      ]
     },
     "execution_count": 170,
     "metadata": {},
     "output_type": "execute_result"
    }
   ],
   "source": [
    "metrics"
   ]
  },
  {
   "cell_type": "markdown",
   "id": "6cc223a7-f955-4122-ac09-b0d23cfbc887",
   "metadata": {},
   "source": [
    "<img src=\"https://icons.iconarchive.com/icons/icons8/windows-8/256/Programming-Github-icon.png\" width=32 /> Сделай `commit + push` на  __github__. "
   ]
  },
  {
   "cell_type": "code",
   "execution_count": 123,
   "id": "12a5f2f4-edc1-42fe-b58d-1f10bf5b8819",
   "metadata": {},
   "outputs": [],
   "source": [
    "# code"
   ]
  }
 ],
 "metadata": {
  "kernelspec": {
   "display_name": ".venv (3.12.10)",
   "language": "python",
   "name": "python3"
  },
  "language_info": {
   "codemirror_mode": {
    "name": "ipython",
    "version": 3
   },
   "file_extension": ".py",
   "mimetype": "text/x-python",
   "name": "python",
   "nbconvert_exporter": "python",
   "pygments_lexer": "ipython3",
   "version": "3.12.10"
  }
 },
 "nbformat": 4,
 "nbformat_minor": 5
}
