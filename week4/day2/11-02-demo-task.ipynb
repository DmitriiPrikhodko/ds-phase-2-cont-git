{
  "cells": [
    {
      "cell_type": "markdown",
      "metadata": {},
      "source": [
        "# Фаза 2. Неделя 11\n",
        "## Рекомендательные системы\n",
        "### Базовый нейросетевой подход "
      ]
    },
    {
      "cell_type": "code",
      "execution_count": 1,
      "metadata": {
        "colab": {
          "base_uri": "https://localhost:8080/"
        },
        "id": "tjPXnTcLoW3_",
        "outputId": "acfb283b-b826-4130-b2fc-e54035b2b1ce"
      },
      "outputs": [],
      "source": [
        "# !wget -P https://files.grouplens.org/datasets/movielens/ml-100k.zip\n",
        "# !unzip -qq aux/ml-100k.zip"
      ]
    },
    {
      "cell_type": "code",
      "execution_count": 2,
      "metadata": {},
      "outputs": [],
      "source": [
        "%load_ext autoreload\n",
        "%autoreload 2"
      ]
    },
    {
      "cell_type": "code",
      "execution_count": 3,
      "metadata": {
        "id": "746sTp6kohEn"
      },
      "outputs": [],
      "source": [
        "import pandas as pd\n",
        "import numpy as np\n",
        "import matplotlib.pyplot as plt\n",
        "import torch\n",
        "from torch import nn\n",
        "from torch import optim\n",
        "from torch.utils.data import Dataset, DataLoader\n",
        "import torch.nn.functional as F\n",
        "from tqdm import tqdm\n",
        "import torchutils as tu\n",
        "\n",
        "# from surprise import\n",
        "from sklearn.model_selection import train_test_split\n",
        "\n",
        "torch.manual_seed(666)\n",
        "import os\n",
        "import time\n",
        "import mlflow\n",
        "import multiprocessing as mp\n",
        "\n",
        "\n",
        "# эта строка закомментирована, потому что эти\n",
        "# функции вам предстоит реализовать в сегодняшнем задании\n",
        "from aux.recommend import *\n",
        "from aux.dataset_class import MovieLensDataset"
      ]
    },
    {
      "cell_type": "code",
      "execution_count": 4,
      "metadata": {},
      "outputs": [
        {
          "data": {
            "text/plain": [
              "''"
            ]
          },
          "execution_count": 4,
          "metadata": {},
          "output_type": "execute_result"
        }
      ],
      "source": [
        "if __name__ == \"__main__\":\n",
        "    mp.set_start_method(\"spawn\", force=True)\n",
        "DEVICE = \"cuda\" if torch.cuda.is_available() else \"cpu\"\n",
        "CURR_DIR = os.path.dirname(\"__name__\")\n",
        "CURR_DIR"
      ]
    },
    {
      "cell_type": "code",
      "execution_count": 5,
      "metadata": {
        "id": "NDE325RIoqTQ"
      },
      "outputs": [],
      "source": [
        "col_names = [\"user_id\", \"item_id\", \"rating\", \"timestamp\"]\n",
        "train_df = pd.read_csv(\"data/u1.base\", sep=\"\\t\", header=None, names=col_names)\n",
        "valid_df = pd.read_csv(\"data/u1.test\", sep=\"\\t\", header=None, names=col_names)"
      ]
    },
    {
      "cell_type": "code",
      "execution_count": 6,
      "metadata": {},
      "outputs": [],
      "source": [
        "movie_id = pd.read_csv(\"data/u.item\", sep=\"|\", encoding=\"iso-8859-1\", header=None).iloc[\n",
        "    :, 0:2\n",
        "]\n",
        "movie_id.columns = [\"id\", \"title\"]\n",
        "movie_id[\"id\"] = movie_id[\"id\"]\n",
        "id_to_movie = dict(zip(movie_id[\"id\"], movie_id[\"title\"]))"
      ]
    },
    {
      "cell_type": "code",
      "execution_count": 7,
      "metadata": {
        "id": "A8a9lwSQp0Yg"
      },
      "outputs": [],
      "source": [
        "train_df[[\"user_id\", \"item_id\"]] = train_df[[\"user_id\", \"item_id\"]]\n",
        "valid_df[[\"user_id\", \"item_id\"]] = valid_df[[\"user_id\", \"item_id\"]]"
      ]
    },
    {
      "cell_type": "code",
      "execution_count": 8,
      "metadata": {},
      "outputs": [
        {
          "data": {
            "text/html": [
              "<div>\n",
              "<style scoped>\n",
              "    .dataframe tbody tr th:only-of-type {\n",
              "        vertical-align: middle;\n",
              "    }\n",
              "\n",
              "    .dataframe tbody tr th {\n",
              "        vertical-align: top;\n",
              "    }\n",
              "\n",
              "    .dataframe thead th {\n",
              "        text-align: right;\n",
              "    }\n",
              "</style>\n",
              "<table border=\"1\" class=\"dataframe\">\n",
              "  <thead>\n",
              "    <tr style=\"text-align: right;\">\n",
              "      <th></th>\n",
              "      <th>user_id</th>\n",
              "      <th>item_id</th>\n",
              "      <th>rating</th>\n",
              "      <th>timestamp</th>\n",
              "    </tr>\n",
              "  </thead>\n",
              "  <tbody>\n",
              "    <tr>\n",
              "      <th>0</th>\n",
              "      <td>1</td>\n",
              "      <td>1</td>\n",
              "      <td>5</td>\n",
              "      <td>874965758</td>\n",
              "    </tr>\n",
              "    <tr>\n",
              "      <th>1</th>\n",
              "      <td>1</td>\n",
              "      <td>2</td>\n",
              "      <td>3</td>\n",
              "      <td>876893171</td>\n",
              "    </tr>\n",
              "    <tr>\n",
              "      <th>2</th>\n",
              "      <td>1</td>\n",
              "      <td>3</td>\n",
              "      <td>4</td>\n",
              "      <td>878542960</td>\n",
              "    </tr>\n",
              "    <tr>\n",
              "      <th>3</th>\n",
              "      <td>1</td>\n",
              "      <td>4</td>\n",
              "      <td>3</td>\n",
              "      <td>876893119</td>\n",
              "    </tr>\n",
              "    <tr>\n",
              "      <th>4</th>\n",
              "      <td>1</td>\n",
              "      <td>5</td>\n",
              "      <td>3</td>\n",
              "      <td>889751712</td>\n",
              "    </tr>\n",
              "    <tr>\n",
              "      <th>...</th>\n",
              "      <td>...</td>\n",
              "      <td>...</td>\n",
              "      <td>...</td>\n",
              "      <td>...</td>\n",
              "    </tr>\n",
              "    <tr>\n",
              "      <th>79995</th>\n",
              "      <td>943</td>\n",
              "      <td>1067</td>\n",
              "      <td>2</td>\n",
              "      <td>875501756</td>\n",
              "    </tr>\n",
              "    <tr>\n",
              "      <th>79996</th>\n",
              "      <td>943</td>\n",
              "      <td>1074</td>\n",
              "      <td>4</td>\n",
              "      <td>888640250</td>\n",
              "    </tr>\n",
              "    <tr>\n",
              "      <th>79997</th>\n",
              "      <td>943</td>\n",
              "      <td>1188</td>\n",
              "      <td>3</td>\n",
              "      <td>888640250</td>\n",
              "    </tr>\n",
              "    <tr>\n",
              "      <th>79998</th>\n",
              "      <td>943</td>\n",
              "      <td>1228</td>\n",
              "      <td>3</td>\n",
              "      <td>888640275</td>\n",
              "    </tr>\n",
              "    <tr>\n",
              "      <th>79999</th>\n",
              "      <td>943</td>\n",
              "      <td>1330</td>\n",
              "      <td>3</td>\n",
              "      <td>888692465</td>\n",
              "    </tr>\n",
              "  </tbody>\n",
              "</table>\n",
              "<p>80000 rows × 4 columns</p>\n",
              "</div>"
            ],
            "text/plain": [
              "       user_id  item_id  rating  timestamp\n",
              "0            1        1       5  874965758\n",
              "1            1        2       3  876893171\n",
              "2            1        3       4  878542960\n",
              "3            1        4       3  876893119\n",
              "4            1        5       3  889751712\n",
              "...        ...      ...     ...        ...\n",
              "79995      943     1067       2  875501756\n",
              "79996      943     1074       4  888640250\n",
              "79997      943     1188       3  888640250\n",
              "79998      943     1228       3  888640275\n",
              "79999      943     1330       3  888692465\n",
              "\n",
              "[80000 rows x 4 columns]"
            ]
          },
          "execution_count": 8,
          "metadata": {},
          "output_type": "execute_result"
        }
      ],
      "source": [
        "train_df"
      ]
    },
    {
      "cell_type": "code",
      "execution_count": 9,
      "metadata": {},
      "outputs": [
        {
          "data": {
            "text/plain": [
              "943"
            ]
          },
          "execution_count": 9,
          "metadata": {},
          "output_type": "execute_result"
        }
      ],
      "source": [
        "train_df[\"user_id\"].nunique()"
      ]
    },
    {
      "cell_type": "code",
      "execution_count": 10,
      "metadata": {
        "id": "PVhZ203LqR3b"
      },
      "outputs": [
        {
          "name": "stdout",
          "output_type": "stream",
          "text": [
            "Unique users: 944, unique movies: 1683\n"
          ]
        }
      ],
      "source": [
        "# Эти данные нужны для эмбеддинг слоев\n",
        "UNIQUE_USERS = train_df[\"user_id\"].nunique() + 1  # Для слоя Embedding\n",
        "UNIQUE_MOVIES = len(id_to_movie.items()) + 1  # Для слоя Embedding\n",
        "print(f\"Unique users: {UNIQUE_USERS}, unique movies: {UNIQUE_MOVIES}\")"
      ]
    },
    {
      "cell_type": "code",
      "execution_count": 11,
      "metadata": {},
      "outputs": [
        {
          "data": {
            "text/html": [
              "<div>\n",
              "<style scoped>\n",
              "    .dataframe tbody tr th:only-of-type {\n",
              "        vertical-align: middle;\n",
              "    }\n",
              "\n",
              "    .dataframe tbody tr th {\n",
              "        vertical-align: top;\n",
              "    }\n",
              "\n",
              "    .dataframe thead th {\n",
              "        text-align: right;\n",
              "    }\n",
              "</style>\n",
              "<table border=\"1\" class=\"dataframe\">\n",
              "  <thead>\n",
              "    <tr style=\"text-align: right;\">\n",
              "      <th></th>\n",
              "      <th>user_id</th>\n",
              "      <th>item_id</th>\n",
              "      <th>rating</th>\n",
              "      <th>timestamp</th>\n",
              "    </tr>\n",
              "  </thead>\n",
              "  <tbody>\n",
              "    <tr>\n",
              "      <th>0</th>\n",
              "      <td>1</td>\n",
              "      <td>1</td>\n",
              "      <td>5</td>\n",
              "      <td>874965758</td>\n",
              "    </tr>\n",
              "    <tr>\n",
              "      <th>1</th>\n",
              "      <td>1</td>\n",
              "      <td>2</td>\n",
              "      <td>3</td>\n",
              "      <td>876893171</td>\n",
              "    </tr>\n",
              "    <tr>\n",
              "      <th>2</th>\n",
              "      <td>1</td>\n",
              "      <td>3</td>\n",
              "      <td>4</td>\n",
              "      <td>878542960</td>\n",
              "    </tr>\n",
              "    <tr>\n",
              "      <th>3</th>\n",
              "      <td>1</td>\n",
              "      <td>4</td>\n",
              "      <td>3</td>\n",
              "      <td>876893119</td>\n",
              "    </tr>\n",
              "    <tr>\n",
              "      <th>4</th>\n",
              "      <td>1</td>\n",
              "      <td>5</td>\n",
              "      <td>3</td>\n",
              "      <td>889751712</td>\n",
              "    </tr>\n",
              "    <tr>\n",
              "      <th>...</th>\n",
              "      <td>...</td>\n",
              "      <td>...</td>\n",
              "      <td>...</td>\n",
              "      <td>...</td>\n",
              "    </tr>\n",
              "    <tr>\n",
              "      <th>79995</th>\n",
              "      <td>943</td>\n",
              "      <td>1067</td>\n",
              "      <td>2</td>\n",
              "      <td>875501756</td>\n",
              "    </tr>\n",
              "    <tr>\n",
              "      <th>79996</th>\n",
              "      <td>943</td>\n",
              "      <td>1074</td>\n",
              "      <td>4</td>\n",
              "      <td>888640250</td>\n",
              "    </tr>\n",
              "    <tr>\n",
              "      <th>79997</th>\n",
              "      <td>943</td>\n",
              "      <td>1188</td>\n",
              "      <td>3</td>\n",
              "      <td>888640250</td>\n",
              "    </tr>\n",
              "    <tr>\n",
              "      <th>79998</th>\n",
              "      <td>943</td>\n",
              "      <td>1228</td>\n",
              "      <td>3</td>\n",
              "      <td>888640275</td>\n",
              "    </tr>\n",
              "    <tr>\n",
              "      <th>79999</th>\n",
              "      <td>943</td>\n",
              "      <td>1330</td>\n",
              "      <td>3</td>\n",
              "      <td>888692465</td>\n",
              "    </tr>\n",
              "  </tbody>\n",
              "</table>\n",
              "<p>80000 rows × 4 columns</p>\n",
              "</div>"
            ],
            "text/plain": [
              "       user_id  item_id  rating  timestamp\n",
              "0            1        1       5  874965758\n",
              "1            1        2       3  876893171\n",
              "2            1        3       4  878542960\n",
              "3            1        4       3  876893119\n",
              "4            1        5       3  889751712\n",
              "...        ...      ...     ...        ...\n",
              "79995      943     1067       2  875501756\n",
              "79996      943     1074       4  888640250\n",
              "79997      943     1188       3  888640250\n",
              "79998      943     1228       3  888640275\n",
              "79999      943     1330       3  888692465\n",
              "\n",
              "[80000 rows x 4 columns]"
            ]
          },
          "metadata": {},
          "output_type": "display_data"
        },
        {
          "data": {
            "text/html": [
              "<div>\n",
              "<style scoped>\n",
              "    .dataframe tbody tr th:only-of-type {\n",
              "        vertical-align: middle;\n",
              "    }\n",
              "\n",
              "    .dataframe tbody tr th {\n",
              "        vertical-align: top;\n",
              "    }\n",
              "\n",
              "    .dataframe thead th {\n",
              "        text-align: right;\n",
              "    }\n",
              "</style>\n",
              "<table border=\"1\" class=\"dataframe\">\n",
              "  <thead>\n",
              "    <tr style=\"text-align: right;\">\n",
              "      <th></th>\n",
              "      <th>user_id</th>\n",
              "      <th>item_id</th>\n",
              "      <th>rating</th>\n",
              "      <th>timestamp</th>\n",
              "    </tr>\n",
              "  </thead>\n",
              "  <tbody>\n",
              "    <tr>\n",
              "      <th>0</th>\n",
              "      <td>1</td>\n",
              "      <td>6</td>\n",
              "      <td>5</td>\n",
              "      <td>887431973</td>\n",
              "    </tr>\n",
              "    <tr>\n",
              "      <th>1</th>\n",
              "      <td>1</td>\n",
              "      <td>10</td>\n",
              "      <td>3</td>\n",
              "      <td>875693118</td>\n",
              "    </tr>\n",
              "    <tr>\n",
              "      <th>2</th>\n",
              "      <td>1</td>\n",
              "      <td>12</td>\n",
              "      <td>5</td>\n",
              "      <td>878542960</td>\n",
              "    </tr>\n",
              "    <tr>\n",
              "      <th>3</th>\n",
              "      <td>1</td>\n",
              "      <td>14</td>\n",
              "      <td>5</td>\n",
              "      <td>874965706</td>\n",
              "    </tr>\n",
              "    <tr>\n",
              "      <th>4</th>\n",
              "      <td>1</td>\n",
              "      <td>17</td>\n",
              "      <td>3</td>\n",
              "      <td>875073198</td>\n",
              "    </tr>\n",
              "    <tr>\n",
              "      <th>...</th>\n",
              "      <td>...</td>\n",
              "      <td>...</td>\n",
              "      <td>...</td>\n",
              "      <td>...</td>\n",
              "    </tr>\n",
              "    <tr>\n",
              "      <th>19995</th>\n",
              "      <td>458</td>\n",
              "      <td>648</td>\n",
              "      <td>4</td>\n",
              "      <td>886395899</td>\n",
              "    </tr>\n",
              "    <tr>\n",
              "      <th>19996</th>\n",
              "      <td>458</td>\n",
              "      <td>1101</td>\n",
              "      <td>4</td>\n",
              "      <td>886397931</td>\n",
              "    </tr>\n",
              "    <tr>\n",
              "      <th>19997</th>\n",
              "      <td>459</td>\n",
              "      <td>934</td>\n",
              "      <td>3</td>\n",
              "      <td>879563639</td>\n",
              "    </tr>\n",
              "    <tr>\n",
              "      <th>19998</th>\n",
              "      <td>460</td>\n",
              "      <td>10</td>\n",
              "      <td>3</td>\n",
              "      <td>882912371</td>\n",
              "    </tr>\n",
              "    <tr>\n",
              "      <th>19999</th>\n",
              "      <td>462</td>\n",
              "      <td>682</td>\n",
              "      <td>5</td>\n",
              "      <td>886365231</td>\n",
              "    </tr>\n",
              "  </tbody>\n",
              "</table>\n",
              "<p>20000 rows × 4 columns</p>\n",
              "</div>"
            ],
            "text/plain": [
              "       user_id  item_id  rating  timestamp\n",
              "0            1        6       5  887431973\n",
              "1            1       10       3  875693118\n",
              "2            1       12       5  878542960\n",
              "3            1       14       5  874965706\n",
              "4            1       17       3  875073198\n",
              "...        ...      ...     ...        ...\n",
              "19995      458      648       4  886395899\n",
              "19996      458     1101       4  886397931\n",
              "19997      459      934       3  879563639\n",
              "19998      460       10       3  882912371\n",
              "19999      462      682       5  886365231\n",
              "\n",
              "[20000 rows x 4 columns]"
            ]
          },
          "metadata": {},
          "output_type": "display_data"
        }
      ],
      "source": [
        "display(train_df)\n",
        "display(valid_df)"
      ]
    },
    {
      "cell_type": "code",
      "execution_count": 12,
      "metadata": {},
      "outputs": [],
      "source": [
        "# class MovieLensDataset(Dataset):\n",
        "#     def __init__(\n",
        "#         self,\n",
        "#         df: pd.DataFrame,\n",
        "#         user_col: int = 0,\n",
        "#         item_col: int = 1,\n",
        "#         rating_col: int = 2,\n",
        "#     ):\n",
        "\n",
        "#         self.df = df\n",
        "\n",
        "#         self.user_tensor = torch.tensor(\n",
        "#             self.df.iloc[:, user_col].to_numpy(), dtype=torch.long, device=DEVICE\n",
        "#         )\n",
        "#         self.item_tensor = torch.tensor(\n",
        "#             self.df.iloc[:, item_col].to_numpy(), dtype=torch.long, device=DEVICE\n",
        "#         )\n",
        "#         self.trgt_tensor = torch.tensor(\n",
        "#             self.df.iloc[:, rating_col].to_numpy(), dtype=torch.float32, device=DEVICE\n",
        "#         )\n",
        "\n",
        "#     def __len__(self):\n",
        "#         return self.user_tensor.shape[0]\n",
        "#         # return len(self.df)\n",
        "\n",
        "#     def __getitem__(self, index):\n",
        "#         return (\n",
        "#             self.user_tensor[index],\n",
        "#             self.item_tensor[index],\n",
        "#             self.trgt_tensor[index],\n",
        "#         )\n",
        "\n",
        "\n",
        "BATCH_SIZE = 128\n",
        "train_dataset = MovieLensDataset(train_df)\n",
        "train_loader = DataLoader(train_dataset, batch_size=BATCH_SIZE, shuffle=True)\n",
        "valid_dataset = MovieLensDataset(valid_df)\n",
        "valid_loader = DataLoader(valid_dataset, batch_size=BATCH_SIZE, shuffle=True)"
      ]
    },
    {
      "cell_type": "code",
      "execution_count": 13,
      "metadata": {},
      "outputs": [],
      "source": [
        "class BaseRecNet(nn.Module):\n",
        "    def __init__(self, config):\n",
        "        super().__init__()\n",
        "        # параметры сети\n",
        "        self.config = config\n",
        "        self.num_users = config[\"num_users\"]\n",
        "        self.num_items = config[\"num_items\"]\n",
        "        self.emb_size = config[\"emb_size\"]\n",
        "        self.emb_droupout = config[\"emb_drop\"]\n",
        "        self.dropout = config[\"lin_drop\"]\n",
        "        self.out_range = config[\"out_range\"]\n",
        "\n",
        "        # embedding-слои\n",
        "        self.emb_user = nn.Sequential(\n",
        "            nn.Embedding(num_embeddings=self.num_users, embedding_dim=self.emb_size),\n",
        "            nn.Dropout(p=self.emb_droupout),\n",
        "        )\n",
        "        self.emb_item = nn.Sequential(\n",
        "            nn.Embedding(num_embeddings=self.num_items, embedding_dim=self.emb_size),\n",
        "            nn.Dropout(p=self.emb_droupout),\n",
        "        )\n",
        "\n",
        "        self.lin_user = nn.Linear(self.emb_size, self.emb_size)\n",
        "        self.lin_item = nn.Linear(self.emb_size, self.emb_size)\n",
        "\n",
        "        # финальный полносвязный слой для пронгоза оценки\n",
        "        self.head = nn.Sequential(\n",
        "            nn.Linear(self.emb_size * 2, 512),\n",
        "            nn.Dropout(self.dropout),\n",
        "            nn.ReLU(),\n",
        "            nn.Linear(512, 1),\n",
        "        )\n",
        "\n",
        "    def forward(self, user_idx, item_idx):\n",
        "        user_emb = F.sigmoid(self.lin_user(self.emb_user(user_idx)))\n",
        "        item_emb = F.sigmoid(self.lin_item(self.emb_item(item_idx)))\n",
        "        x = torch.cat([user_emb, item_emb], dim=1)\n",
        "        # print(x)\n",
        "        x = torch.sigmoid(self.head(x))  # [0, 1]\n",
        "        x = x * (self.out_range[1] - self.out_range[0]) + self.out_range[0]\n",
        "        # x = 1 -> 1 * (5 - 1) + 1 = 5\n",
        "        # x = 0.1 -> .1 * 4 + 1 = 1.4.int() -> 1\n",
        "        return x\n",
        "\n",
        "\n",
        "config = {\n",
        "    \"num_users\": UNIQUE_USERS,  # число уникальных пользователей\n",
        "    \"num_items\": UNIQUE_MOVIES,  # число уникальных филмьов\n",
        "    \"emb_size\": 16,  # размер эмбеддинга\n",
        "    \"emb_drop\": 0.05,  # параметр для слоя эмбеддинга\n",
        "    \"lin_drop\": 0.5,  # dropout head layer\n",
        "    \"out_range\": [1.0, 5.0],  # для нормировки выходных оценок\n",
        "}\n",
        "model = BaseRecNet(config)"
      ]
    },
    {
      "cell_type": "code",
      "execution_count": 14,
      "metadata": {},
      "outputs": [],
      "source": [
        "# посмотрим, что нам возвращает data loader\n",
        "# test_batch = next(iter(train_loader))\n",
        "# print(\n",
        "#     f\"\"\"test_batch content:\n",
        "# [user_id, user_id, ...]   -> {test_batch[0]}\n",
        "# [movie_id, movie_id, ...] -> {test_batch[1]}\n",
        "# [rating, rating, ...]     -> {test_batch[2]}\n",
        "# \"\"\"\n",
        "# )\n",
        "\n",
        "# # отправим в модель и посмотрим на выход\n",
        "# model.to(DEVICE)(test_batch[0].to(DEVICE), test_batch[1].to(DEVICE))[:10]"
      ]
    },
    {
      "cell_type": "code",
      "execution_count": 15,
      "metadata": {},
      "outputs": [],
      "source": [
        "# tu.get_model_summary(model, user_idx=test_batch[0], item_idx=test_batch[1])"
      ]
    },
    {
      "cell_type": "code",
      "execution_count": 16,
      "metadata": {},
      "outputs": [],
      "source": [
        "criterion = lambda preds, target: F.smooth_l1_loss(preds, target, beta=0.5)\n",
        "optimizer = optim.Adam(model.parameters(), lr=0.001)"
      ]
    },
    {
      "cell_type": "code",
      "execution_count": 17,
      "metadata": {},
      "outputs": [],
      "source": [
        "history = {\"epoch_train_losses\": [], \"epoch_valid_losses\": []}"
      ]
    },
    {
      "cell_type": "code",
      "execution_count": 18,
      "metadata": {},
      "outputs": [],
      "source": [
        "def fit_model(n_epochs: int = 10, history: dict = history, model=model) -> dict:\n",
        "\n",
        "    history = history or {\"epoch_train_losses\": [], \"epoch_valid_losses\": []}\n",
        "\n",
        "    for i in tqdm(range(n_epochs)):\n",
        "        batch_losses = []\n",
        "        model.train()\n",
        "        for user, item, rating in train_loader:\n",
        "            preds = model(user, item)\n",
        "            loss = criterion(preds.squeeze(-1), rating)\n",
        "            optimizer.zero_grad()\n",
        "            loss.backward()\n",
        "            optimizer.step()\n",
        "\n",
        "            batch_losses.append(loss.item())\n",
        "\n",
        "        history[\"epoch_train_losses\"].append(np.mean(batch_losses))\n",
        "\n",
        "        model.eval()\n",
        "\n",
        "        batch_losses = []\n",
        "        for user, item, rating in valid_loader:\n",
        "            preds = model(user, item)\n",
        "            loss = criterion(preds.squeeze(-1), rating)\n",
        "            batch_losses.append(loss.item())\n",
        "\n",
        "        history[\"epoch_valid_losses\"].append(np.mean(batch_losses))\n",
        "    return history"
      ]
    },
    {
      "cell_type": "code",
      "execution_count": 19,
      "metadata": {},
      "outputs": [],
      "source": [
        "# %%time\n",
        "# log = fit_model(50, history)\n",
        "# plt.plot(history['epoch_train_losses'])\n",
        "# plt.plot(history['epoch_valid_losses'])"
      ]
    },
    {
      "cell_type": "markdown",
      "metadata": {},
      "source": [
        "### Задание 1"
      ]
    },
    {
      "attachments": {},
      "cell_type": "markdown",
      "metadata": {},
      "source": [
        "\n",
        "Создай файл `recommend.py` в папке `aux` и реализуй в нем 2 функции: \n",
        "   \n",
        "1. __recommend_for_user_id_from_valid__\n",
        "\n",
        "    Функция принимает на вход идентификатор пользователя, делает по нему выборку из валидационной части, \n",
        "    затем прогнозирует рейтинги для тех фильмов, которым пользователь поставил оценку. \n",
        "    Результат работы функции – датафрейм: \n",
        "\n",
        "    | movie_id | title | pred_rating | true_rating | \n",
        "    |----------|-------|-------------|-------------|\n",
        "\n",
        "\n",
        "    ```python\n",
        "    (function) def recommend_for_user_id_from_valid\n",
        "\n",
        "    Returns dataframe top n movies, true and pred ratings \n",
        "\n",
        "        Args:\n",
        "            user_id (int): user_id for predictions\n",
        "            valid_df (pd.DataFrame): valid dataframe\n",
        "            model (torch.nn.Module): neural net\n",
        "            n (int, optional): top_n movies will be returned. Defaults to 10..\n",
        "\n",
        "        Returns:\n",
        "            pd.DataFrame: with 4 cols: movie_id, title, pred_rating, true_rating\n",
        "            shape(n, 4)\n",
        "        \n",
        "    ```\n",
        "\n"
      ]
    },
    {
      "cell_type": "code",
      "execution_count": 20,
      "metadata": {},
      "outputs": [
        {
          "data": {
            "text/html": [
              "<div>\n",
              "<style scoped>\n",
              "    .dataframe tbody tr th:only-of-type {\n",
              "        vertical-align: middle;\n",
              "    }\n",
              "\n",
              "    .dataframe tbody tr th {\n",
              "        vertical-align: top;\n",
              "    }\n",
              "\n",
              "    .dataframe thead th {\n",
              "        text-align: right;\n",
              "    }\n",
              "</style>\n",
              "<table border=\"1\" class=\"dataframe\">\n",
              "  <thead>\n",
              "    <tr style=\"text-align: right;\">\n",
              "      <th></th>\n",
              "      <th>user_id</th>\n",
              "      <th>item_id</th>\n",
              "      <th>rating</th>\n",
              "      <th>timestamp</th>\n",
              "    </tr>\n",
              "  </thead>\n",
              "  <tbody>\n",
              "    <tr>\n",
              "      <th>0</th>\n",
              "      <td>1</td>\n",
              "      <td>6</td>\n",
              "      <td>5</td>\n",
              "      <td>887431973</td>\n",
              "    </tr>\n",
              "    <tr>\n",
              "      <th>1</th>\n",
              "      <td>1</td>\n",
              "      <td>10</td>\n",
              "      <td>3</td>\n",
              "      <td>875693118</td>\n",
              "    </tr>\n",
              "    <tr>\n",
              "      <th>2</th>\n",
              "      <td>1</td>\n",
              "      <td>12</td>\n",
              "      <td>5</td>\n",
              "      <td>878542960</td>\n",
              "    </tr>\n",
              "    <tr>\n",
              "      <th>3</th>\n",
              "      <td>1</td>\n",
              "      <td>14</td>\n",
              "      <td>5</td>\n",
              "      <td>874965706</td>\n",
              "    </tr>\n",
              "    <tr>\n",
              "      <th>4</th>\n",
              "      <td>1</td>\n",
              "      <td>17</td>\n",
              "      <td>3</td>\n",
              "      <td>875073198</td>\n",
              "    </tr>\n",
              "    <tr>\n",
              "      <th>...</th>\n",
              "      <td>...</td>\n",
              "      <td>...</td>\n",
              "      <td>...</td>\n",
              "      <td>...</td>\n",
              "    </tr>\n",
              "    <tr>\n",
              "      <th>19995</th>\n",
              "      <td>458</td>\n",
              "      <td>648</td>\n",
              "      <td>4</td>\n",
              "      <td>886395899</td>\n",
              "    </tr>\n",
              "    <tr>\n",
              "      <th>19996</th>\n",
              "      <td>458</td>\n",
              "      <td>1101</td>\n",
              "      <td>4</td>\n",
              "      <td>886397931</td>\n",
              "    </tr>\n",
              "    <tr>\n",
              "      <th>19997</th>\n",
              "      <td>459</td>\n",
              "      <td>934</td>\n",
              "      <td>3</td>\n",
              "      <td>879563639</td>\n",
              "    </tr>\n",
              "    <tr>\n",
              "      <th>19998</th>\n",
              "      <td>460</td>\n",
              "      <td>10</td>\n",
              "      <td>3</td>\n",
              "      <td>882912371</td>\n",
              "    </tr>\n",
              "    <tr>\n",
              "      <th>19999</th>\n",
              "      <td>462</td>\n",
              "      <td>682</td>\n",
              "      <td>5</td>\n",
              "      <td>886365231</td>\n",
              "    </tr>\n",
              "  </tbody>\n",
              "</table>\n",
              "<p>20000 rows × 4 columns</p>\n",
              "</div>"
            ],
            "text/plain": [
              "       user_id  item_id  rating  timestamp\n",
              "0            1        6       5  887431973\n",
              "1            1       10       3  875693118\n",
              "2            1       12       5  878542960\n",
              "3            1       14       5  874965706\n",
              "4            1       17       3  875073198\n",
              "...        ...      ...     ...        ...\n",
              "19995      458      648       4  886395899\n",
              "19996      458     1101       4  886397931\n",
              "19997      459      934       3  879563639\n",
              "19998      460       10       3  882912371\n",
              "19999      462      682       5  886365231\n",
              "\n",
              "[20000 rows x 4 columns]"
            ]
          },
          "metadata": {},
          "output_type": "display_data"
        }
      ],
      "source": [
        "display(valid_df)"
      ]
    },
    {
      "cell_type": "code",
      "execution_count": 21,
      "metadata": {},
      "outputs": [
        {
          "data": {
            "text/html": [
              "<div>\n",
              "<style scoped>\n",
              "    .dataframe tbody tr th:only-of-type {\n",
              "        vertical-align: middle;\n",
              "    }\n",
              "\n",
              "    .dataframe tbody tr th {\n",
              "        vertical-align: top;\n",
              "    }\n",
              "\n",
              "    .dataframe thead th {\n",
              "        text-align: right;\n",
              "    }\n",
              "</style>\n",
              "<table border=\"1\" class=\"dataframe\">\n",
              "  <thead>\n",
              "    <tr style=\"text-align: right;\">\n",
              "      <th></th>\n",
              "      <th>movie_id</th>\n",
              "      <th>title</th>\n",
              "      <th>pred_rating</th>\n",
              "      <th>rating</th>\n",
              "    </tr>\n",
              "  </thead>\n",
              "  <tbody>\n",
              "    <tr>\n",
              "      <th>5041</th>\n",
              "      <td>268</td>\n",
              "      <td>Chasing Amy (1997)</td>\n",
              "      <td>2.956048</td>\n",
              "      <td>3</td>\n",
              "    </tr>\n",
              "    <tr>\n",
              "      <th>5043</th>\n",
              "      <td>289</td>\n",
              "      <td>Evita (1996)</td>\n",
              "      <td>2.955639</td>\n",
              "      <td>3</td>\n",
              "    </tr>\n",
              "    <tr>\n",
              "      <th>5042</th>\n",
              "      <td>288</td>\n",
              "      <td>Scream (1996)</td>\n",
              "      <td>2.945518</td>\n",
              "      <td>2</td>\n",
              "    </tr>\n",
              "    <tr>\n",
              "      <th>5061</th>\n",
              "      <td>905</td>\n",
              "      <td>Great Expectations (1998)</td>\n",
              "      <td>2.937534</td>\n",
              "      <td>3</td>\n",
              "    </tr>\n",
              "    <tr>\n",
              "      <th>5050</th>\n",
              "      <td>333</td>\n",
              "      <td>Game, The (1997)</td>\n",
              "      <td>2.926019</td>\n",
              "      <td>3</td>\n",
              "    </tr>\n",
              "    <tr>\n",
              "      <th>5046</th>\n",
              "      <td>313</td>\n",
              "      <td>Titanic (1997)</td>\n",
              "      <td>2.925988</td>\n",
              "      <td>5</td>\n",
              "    </tr>\n",
              "    <tr>\n",
              "      <th>5045</th>\n",
              "      <td>302</td>\n",
              "      <td>L.A. Confidential (1997)</td>\n",
              "      <td>2.921194</td>\n",
              "      <td>4</td>\n",
              "    </tr>\n",
              "    <tr>\n",
              "      <th>5040</th>\n",
              "      <td>266</td>\n",
              "      <td>Kull the Conqueror (1997)</td>\n",
              "      <td>2.913097</td>\n",
              "      <td>2</td>\n",
              "    </tr>\n",
              "    <tr>\n",
              "      <th>5058</th>\n",
              "      <td>691</td>\n",
              "      <td>Dark City (1998)</td>\n",
              "      <td>2.912787</td>\n",
              "      <td>4</td>\n",
              "    </tr>\n",
              "    <tr>\n",
              "      <th>5049</th>\n",
              "      <td>323</td>\n",
              "      <td>Dante's Peak (1997)</td>\n",
              "      <td>2.911422</td>\n",
              "      <td>3</td>\n",
              "    </tr>\n",
              "    <tr>\n",
              "      <th>5055</th>\n",
              "      <td>354</td>\n",
              "      <td>Wedding Singer, The (1998)</td>\n",
              "      <td>2.910939</td>\n",
              "      <td>2</td>\n",
              "    </tr>\n",
              "    <tr>\n",
              "      <th>5064</th>\n",
              "      <td>1238</td>\n",
              "      <td>Full Speed (1996)</td>\n",
              "      <td>2.910275</td>\n",
              "      <td>2</td>\n",
              "    </tr>\n",
              "    <tr>\n",
              "      <th>5051</th>\n",
              "      <td>340</td>\n",
              "      <td>Boogie Nights (1997)</td>\n",
              "      <td>2.908737</td>\n",
              "      <td>3</td>\n",
              "    </tr>\n",
              "    <tr>\n",
              "      <th>5048</th>\n",
              "      <td>321</td>\n",
              "      <td>Mother (1996)</td>\n",
              "      <td>2.908328</td>\n",
              "      <td>1</td>\n",
              "    </tr>\n",
              "    <tr>\n",
              "      <th>5056</th>\n",
              "      <td>355</td>\n",
              "      <td>Sphere (1998)</td>\n",
              "      <td>2.907417</td>\n",
              "      <td>4</td>\n",
              "    </tr>\n",
              "    <tr>\n",
              "      <th>5044</th>\n",
              "      <td>292</td>\n",
              "      <td>Rosewood (1997)</td>\n",
              "      <td>2.899171</td>\n",
              "      <td>2</td>\n",
              "    </tr>\n",
              "    <tr>\n",
              "      <th>5054</th>\n",
              "      <td>348</td>\n",
              "      <td>Desperate Measures (1998)</td>\n",
              "      <td>2.896292</td>\n",
              "      <td>3</td>\n",
              "    </tr>\n",
              "    <tr>\n",
              "      <th>5057</th>\n",
              "      <td>689</td>\n",
              "      <td>Jackal, The (1997)</td>\n",
              "      <td>2.895894</td>\n",
              "      <td>3</td>\n",
              "    </tr>\n",
              "    <tr>\n",
              "      <th>5062</th>\n",
              "      <td>990</td>\n",
              "      <td>Anna Karenina (1997)</td>\n",
              "      <td>2.893905</td>\n",
              "      <td>3</td>\n",
              "    </tr>\n",
              "    <tr>\n",
              "      <th>5047</th>\n",
              "      <td>316</td>\n",
              "      <td>As Good As It Gets (1997)</td>\n",
              "      <td>2.892455</td>\n",
              "      <td>5</td>\n",
              "    </tr>\n",
              "    <tr>\n",
              "      <th>5053</th>\n",
              "      <td>344</td>\n",
              "      <td>Apostle, The (1997)</td>\n",
              "      <td>2.890996</td>\n",
              "      <td>4</td>\n",
              "    </tr>\n",
              "    <tr>\n",
              "      <th>5060</th>\n",
              "      <td>752</td>\n",
              "      <td>Replacement Killers, The (1998)</td>\n",
              "      <td>2.883989</td>\n",
              "      <td>4</td>\n",
              "    </tr>\n",
              "    <tr>\n",
              "      <th>5063</th>\n",
              "      <td>1236</td>\n",
              "      <td>Other Voices, Other Rooms (1997)</td>\n",
              "      <td>2.875565</td>\n",
              "      <td>3</td>\n",
              "    </tr>\n",
              "    <tr>\n",
              "      <th>5059</th>\n",
              "      <td>750</td>\n",
              "      <td>Amistad (1997)</td>\n",
              "      <td>2.867864</td>\n",
              "      <td>4</td>\n",
              "    </tr>\n",
              "    <tr>\n",
              "      <th>5052</th>\n",
              "      <td>342</td>\n",
              "      <td>Man Who Knew Too Little, The (1997)</td>\n",
              "      <td>2.848073</td>\n",
              "      <td>3</td>\n",
              "    </tr>\n",
              "  </tbody>\n",
              "</table>\n",
              "</div>"
            ],
            "text/plain": [
              "      movie_id                                title  pred_rating  rating\n",
              "5041       268                   Chasing Amy (1997)     2.956048       3\n",
              "5043       289                         Evita (1996)     2.955639       3\n",
              "5042       288                        Scream (1996)     2.945518       2\n",
              "5061       905            Great Expectations (1998)     2.937534       3\n",
              "5050       333                     Game, The (1997)     2.926019       3\n",
              "5046       313                       Titanic (1997)     2.925988       5\n",
              "5045       302             L.A. Confidential (1997)     2.921194       4\n",
              "5040       266            Kull the Conqueror (1997)     2.913097       2\n",
              "5058       691                     Dark City (1998)     2.912787       4\n",
              "5049       323                  Dante's Peak (1997)     2.911422       3\n",
              "5055       354           Wedding Singer, The (1998)     2.910939       2\n",
              "5064      1238                    Full Speed (1996)     2.910275       2\n",
              "5051       340                 Boogie Nights (1997)     2.908737       3\n",
              "5048       321                        Mother (1996)     2.908328       1\n",
              "5056       355                        Sphere (1998)     2.907417       4\n",
              "5044       292                      Rosewood (1997)     2.899171       2\n",
              "5054       348            Desperate Measures (1998)     2.896292       3\n",
              "5057       689                   Jackal, The (1997)     2.895894       3\n",
              "5062       990                 Anna Karenina (1997)     2.893905       3\n",
              "5047       316            As Good As It Gets (1997)     2.892455       5\n",
              "5053       344                  Apostle, The (1997)     2.890996       4\n",
              "5060       752      Replacement Killers, The (1998)     2.883989       4\n",
              "5063      1236     Other Voices, Other Rooms (1997)     2.875565       3\n",
              "5059       750                       Amistad (1997)     2.867864       4\n",
              "5052       342  Man Who Knew Too Little, The (1997)     2.848073       3"
            ]
          },
          "execution_count": 21,
          "metadata": {},
          "output_type": "execute_result"
        }
      ],
      "source": [
        "recs = recommend_for_user_id_from_valid(100, valid_df, model, DEVICE, id_to_movie, -1)\n",
        "recs"
      ]
    },
    {
      "cell_type": "markdown",
      "metadata": {},
      "source": [
        "2. __recommend_for_user_id_unwatched__\n",
        "\n",
        "\n",
        "    ```python\n",
        "    (function) recommend_for_user_id_unwatched\n",
        "\n",
        "    Return DataFrame with sorted by pred_rating among unwatched films\n",
        "\n",
        "        Args:\n",
        "            user_id (int): user_id for recommedations \n",
        "            full_df (pd.DataFrame): full dataframe\n",
        "            id_to_movie (dict): dict with id and corresponding movie title\n",
        "\n",
        "        Returns:\n",
        "            pd.DataFrame: shape (n_unwatched_movies, 2) with predicted rating and movie title\n",
        "    ```"
      ]
    },
    {
      "cell_type": "code",
      "execution_count": 22,
      "metadata": {},
      "outputs": [
        {
          "data": {
            "text/html": [
              "<div>\n",
              "<style scoped>\n",
              "    .dataframe tbody tr th:only-of-type {\n",
              "        vertical-align: middle;\n",
              "    }\n",
              "\n",
              "    .dataframe tbody tr th {\n",
              "        vertical-align: top;\n",
              "    }\n",
              "\n",
              "    .dataframe thead th {\n",
              "        text-align: right;\n",
              "    }\n",
              "</style>\n",
              "<table border=\"1\" class=\"dataframe\">\n",
              "  <thead>\n",
              "    <tr style=\"text-align: right;\">\n",
              "      <th></th>\n",
              "      <th>user_id</th>\n",
              "      <th>item_id</th>\n",
              "      <th>rating</th>\n",
              "      <th>timestamp</th>\n",
              "    </tr>\n",
              "  </thead>\n",
              "  <tbody>\n",
              "    <tr>\n",
              "      <th>0</th>\n",
              "      <td>1</td>\n",
              "      <td>1</td>\n",
              "      <td>5</td>\n",
              "      <td>874965758</td>\n",
              "    </tr>\n",
              "    <tr>\n",
              "      <th>1</th>\n",
              "      <td>1</td>\n",
              "      <td>2</td>\n",
              "      <td>3</td>\n",
              "      <td>876893171</td>\n",
              "    </tr>\n",
              "    <tr>\n",
              "      <th>2</th>\n",
              "      <td>1</td>\n",
              "      <td>3</td>\n",
              "      <td>4</td>\n",
              "      <td>878542960</td>\n",
              "    </tr>\n",
              "    <tr>\n",
              "      <th>3</th>\n",
              "      <td>1</td>\n",
              "      <td>4</td>\n",
              "      <td>3</td>\n",
              "      <td>876893119</td>\n",
              "    </tr>\n",
              "    <tr>\n",
              "      <th>4</th>\n",
              "      <td>1</td>\n",
              "      <td>5</td>\n",
              "      <td>3</td>\n",
              "      <td>889751712</td>\n",
              "    </tr>\n",
              "  </tbody>\n",
              "</table>\n",
              "</div>"
            ],
            "text/plain": [
              "   user_id  item_id  rating  timestamp\n",
              "0        1        1       5  874965758\n",
              "1        1        2       3  876893171\n",
              "2        1        3       4  878542960\n",
              "3        1        4       3  876893119\n",
              "4        1        5       3  889751712"
            ]
          },
          "metadata": {},
          "output_type": "display_data"
        },
        {
          "data": {
            "text/plain": [
              "(100000, 4)"
            ]
          },
          "metadata": {},
          "output_type": "display_data"
        }
      ],
      "source": [
        "full_df = pd.concat([train_df, valid_df], axis=0)\n",
        "display(full_df.head())\n",
        "display(full_df.shape)"
      ]
    },
    {
      "cell_type": "code",
      "execution_count": 23,
      "metadata": {},
      "outputs": [],
      "source": [
        "# tempdf = pd.DataFrame(id_to_movie)\n",
        "# tempdf"
      ]
    },
    {
      "cell_type": "code",
      "execution_count": 24,
      "metadata": {},
      "outputs": [],
      "source": [
        "# recommend_unwatched, num_watched, num_unwatched = recommend_for_user_id_unwatched(\n",
        "#     user_id=37,\n",
        "#     full_df=pd.concat([train_df, valid_df], axis=0),\n",
        "#     id_to_movie=id_to_movie,\n",
        "#     model=model,\n",
        "#     device=DEVICE,\n",
        "#     n=10,\n",
        "# )\n",
        "# display(recommend_unwatched)\n",
        "# print(num_watched, num_unwatched)"
      ]
    },
    {
      "cell_type": "markdown",
      "metadata": {},
      "source": [
        "Сохрани файл на `github`"
      ]
    },
    {
      "cell_type": "markdown",
      "metadata": {},
      "source": [
        "### Задание 2\n",
        "\n",
        "Реализуй функции для вычисления метрики **precision@k** и **recall@k**. \n",
        "https://medium.com/@m_n_malaeb/recall-and-precision-at-k-for-recommender-systems-618483226c54 "
      ]
    },
    {
      "cell_type": "code",
      "execution_count": 25,
      "metadata": {},
      "outputs": [],
      "source": [
        "def precision_k(actual_ratings, pred_ratings, k: int, y=3.5) -> float:\n",
        "    if k == 0:\n",
        "        return 0\n",
        "    df = pd.DataFrame({\"actual\": actual_ratings, \"predicted\": pred_ratings})\n",
        "    df = df.sort_values(\"predicted\", ascending=False)\n",
        "    top_k = df.iloc[:k, :]\n",
        "    n_recommended = top_k[top_k[\"predicted\"] >= y].shape[0]\n",
        "    n_relevant_and_recommended = top_k[\n",
        "        (top_k[\"predicted\"] >= y) & (top_k[\"actual\"] >= y)\n",
        "    ].shape[0]\n",
        "    precision = n_relevant_and_recommended / n_recommended if n_recommended != 0 else 0\n",
        "    return precision\n",
        "\n",
        "\n",
        "def recall_k(actual_ratings, pred_ratings, k: int, y=3.5) -> float:\n",
        "    if k == 0:\n",
        "        return 0\n",
        "    df = pd.DataFrame({\"actual\": actual_ratings, \"predicted\": pred_ratings})\n",
        "    df = df.sort_values(\"predicted\", ascending=False)\n",
        "    top_k = df.iloc[:k, :]\n",
        "    n_relevant = top_k[top_k[\"actual\"] >= y].shape[0]\n",
        "    n_relevant_and_recommended = top_k[\n",
        "        (top_k[\"predicted\"] >= y) & (top_k[\"actual\"] >= y)\n",
        "    ].shape[0]\n",
        "    recall = n_relevant_and_recommended / n_relevant if n_relevant != 0 else 0\n",
        "    return recall"
      ]
    },
    {
      "cell_type": "markdown",
      "metadata": {},
      "source": [
        "### Задание 3 \n",
        "\n",
        "Вычисли средний precision и recall для всех пользователей: присутствующих в обучающей и валидационных выборках."
      ]
    },
    {
      "cell_type": "code",
      "execution_count": 26,
      "metadata": {},
      "outputs": [
        {
          "data": {
            "text/html": [
              "<div>\n",
              "<style scoped>\n",
              "    .dataframe tbody tr th:only-of-type {\n",
              "        vertical-align: middle;\n",
              "    }\n",
              "\n",
              "    .dataframe tbody tr th {\n",
              "        vertical-align: top;\n",
              "    }\n",
              "\n",
              "    .dataframe thead th {\n",
              "        text-align: right;\n",
              "    }\n",
              "</style>\n",
              "<table border=\"1\" class=\"dataframe\">\n",
              "  <thead>\n",
              "    <tr style=\"text-align: right;\">\n",
              "      <th></th>\n",
              "      <th>user_id</th>\n",
              "      <th>item_id</th>\n",
              "      <th>rating</th>\n",
              "      <th>timestamp</th>\n",
              "    </tr>\n",
              "  </thead>\n",
              "  <tbody>\n",
              "    <tr>\n",
              "      <th>0</th>\n",
              "      <td>1</td>\n",
              "      <td>6</td>\n",
              "      <td>5</td>\n",
              "      <td>887431973</td>\n",
              "    </tr>\n",
              "    <tr>\n",
              "      <th>1</th>\n",
              "      <td>1</td>\n",
              "      <td>10</td>\n",
              "      <td>3</td>\n",
              "      <td>875693118</td>\n",
              "    </tr>\n",
              "    <tr>\n",
              "      <th>2</th>\n",
              "      <td>1</td>\n",
              "      <td>12</td>\n",
              "      <td>5</td>\n",
              "      <td>878542960</td>\n",
              "    </tr>\n",
              "    <tr>\n",
              "      <th>3</th>\n",
              "      <td>1</td>\n",
              "      <td>14</td>\n",
              "      <td>5</td>\n",
              "      <td>874965706</td>\n",
              "    </tr>\n",
              "    <tr>\n",
              "      <th>4</th>\n",
              "      <td>1</td>\n",
              "      <td>17</td>\n",
              "      <td>3</td>\n",
              "      <td>875073198</td>\n",
              "    </tr>\n",
              "    <tr>\n",
              "      <th>...</th>\n",
              "      <td>...</td>\n",
              "      <td>...</td>\n",
              "      <td>...</td>\n",
              "      <td>...</td>\n",
              "    </tr>\n",
              "    <tr>\n",
              "      <th>19995</th>\n",
              "      <td>458</td>\n",
              "      <td>648</td>\n",
              "      <td>4</td>\n",
              "      <td>886395899</td>\n",
              "    </tr>\n",
              "    <tr>\n",
              "      <th>19996</th>\n",
              "      <td>458</td>\n",
              "      <td>1101</td>\n",
              "      <td>4</td>\n",
              "      <td>886397931</td>\n",
              "    </tr>\n",
              "    <tr>\n",
              "      <th>19997</th>\n",
              "      <td>459</td>\n",
              "      <td>934</td>\n",
              "      <td>3</td>\n",
              "      <td>879563639</td>\n",
              "    </tr>\n",
              "    <tr>\n",
              "      <th>19998</th>\n",
              "      <td>460</td>\n",
              "      <td>10</td>\n",
              "      <td>3</td>\n",
              "      <td>882912371</td>\n",
              "    </tr>\n",
              "    <tr>\n",
              "      <th>19999</th>\n",
              "      <td>462</td>\n",
              "      <td>682</td>\n",
              "      <td>5</td>\n",
              "      <td>886365231</td>\n",
              "    </tr>\n",
              "  </tbody>\n",
              "</table>\n",
              "<p>20000 rows × 4 columns</p>\n",
              "</div>"
            ],
            "text/plain": [
              "       user_id  item_id  rating  timestamp\n",
              "0            1        6       5  887431973\n",
              "1            1       10       3  875693118\n",
              "2            1       12       5  878542960\n",
              "3            1       14       5  874965706\n",
              "4            1       17       3  875073198\n",
              "...        ...      ...     ...        ...\n",
              "19995      458      648       4  886395899\n",
              "19996      458     1101       4  886397931\n",
              "19997      459      934       3  879563639\n",
              "19998      460       10       3  882912371\n",
              "19999      462      682       5  886365231\n",
              "\n",
              "[20000 rows x 4 columns]"
            ]
          },
          "metadata": {},
          "output_type": "display_data"
        },
        {
          "data": {
            "text/html": [
              "<div>\n",
              "<style scoped>\n",
              "    .dataframe tbody tr th:only-of-type {\n",
              "        vertical-align: middle;\n",
              "    }\n",
              "\n",
              "    .dataframe tbody tr th {\n",
              "        vertical-align: top;\n",
              "    }\n",
              "\n",
              "    .dataframe thead th {\n",
              "        text-align: right;\n",
              "    }\n",
              "</style>\n",
              "<table border=\"1\" class=\"dataframe\">\n",
              "  <thead>\n",
              "    <tr style=\"text-align: right;\">\n",
              "      <th></th>\n",
              "      <th>user_id</th>\n",
              "      <th>item_id</th>\n",
              "      <th>rating</th>\n",
              "      <th>timestamp</th>\n",
              "    </tr>\n",
              "  </thead>\n",
              "  <tbody>\n",
              "    <tr>\n",
              "      <th>0</th>\n",
              "      <td>1</td>\n",
              "      <td>1</td>\n",
              "      <td>5</td>\n",
              "      <td>874965758</td>\n",
              "    </tr>\n",
              "    <tr>\n",
              "      <th>1</th>\n",
              "      <td>1</td>\n",
              "      <td>2</td>\n",
              "      <td>3</td>\n",
              "      <td>876893171</td>\n",
              "    </tr>\n",
              "    <tr>\n",
              "      <th>2</th>\n",
              "      <td>1</td>\n",
              "      <td>3</td>\n",
              "      <td>4</td>\n",
              "      <td>878542960</td>\n",
              "    </tr>\n",
              "    <tr>\n",
              "      <th>3</th>\n",
              "      <td>1</td>\n",
              "      <td>4</td>\n",
              "      <td>3</td>\n",
              "      <td>876893119</td>\n",
              "    </tr>\n",
              "    <tr>\n",
              "      <th>4</th>\n",
              "      <td>1</td>\n",
              "      <td>5</td>\n",
              "      <td>3</td>\n",
              "      <td>889751712</td>\n",
              "    </tr>\n",
              "    <tr>\n",
              "      <th>...</th>\n",
              "      <td>...</td>\n",
              "      <td>...</td>\n",
              "      <td>...</td>\n",
              "      <td>...</td>\n",
              "    </tr>\n",
              "    <tr>\n",
              "      <th>79995</th>\n",
              "      <td>943</td>\n",
              "      <td>1067</td>\n",
              "      <td>2</td>\n",
              "      <td>875501756</td>\n",
              "    </tr>\n",
              "    <tr>\n",
              "      <th>79996</th>\n",
              "      <td>943</td>\n",
              "      <td>1074</td>\n",
              "      <td>4</td>\n",
              "      <td>888640250</td>\n",
              "    </tr>\n",
              "    <tr>\n",
              "      <th>79997</th>\n",
              "      <td>943</td>\n",
              "      <td>1188</td>\n",
              "      <td>3</td>\n",
              "      <td>888640250</td>\n",
              "    </tr>\n",
              "    <tr>\n",
              "      <th>79998</th>\n",
              "      <td>943</td>\n",
              "      <td>1228</td>\n",
              "      <td>3</td>\n",
              "      <td>888640275</td>\n",
              "    </tr>\n",
              "    <tr>\n",
              "      <th>79999</th>\n",
              "      <td>943</td>\n",
              "      <td>1330</td>\n",
              "      <td>3</td>\n",
              "      <td>888692465</td>\n",
              "    </tr>\n",
              "  </tbody>\n",
              "</table>\n",
              "<p>80000 rows × 4 columns</p>\n",
              "</div>"
            ],
            "text/plain": [
              "       user_id  item_id  rating  timestamp\n",
              "0            1        1       5  874965758\n",
              "1            1        2       3  876893171\n",
              "2            1        3       4  878542960\n",
              "3            1        4       3  876893119\n",
              "4            1        5       3  889751712\n",
              "...        ...      ...     ...        ...\n",
              "79995      943     1067       2  875501756\n",
              "79996      943     1074       4  888640250\n",
              "79997      943     1188       3  888640250\n",
              "79998      943     1228       3  888640275\n",
              "79999      943     1330       3  888692465\n",
              "\n",
              "[80000 rows x 4 columns]"
            ]
          },
          "metadata": {},
          "output_type": "display_data"
        }
      ],
      "source": [
        "display(valid_df)\n",
        "display(train_df)"
      ]
    },
    {
      "cell_type": "code",
      "execution_count": 65,
      "metadata": {},
      "outputs": [],
      "source": [
        "def compute_total_metrics(val_df: pd.DataFrame, model, device, id_to_movie: dict):\n",
        "    user_ids = val_df[\"user_id\"].unique().tolist()\n",
        "    precisions = []\n",
        "    recalls = []\n",
        "    for c in user_ids:\n",
        "        user_df = recommend_for_user_id_from_valid(\n",
        "            user_id=c,\n",
        "            valid_df=val_df,\n",
        "            model=model,\n",
        "            device=device,\n",
        "            id_to_movie=id_to_movie,\n",
        "            n=-1,\n",
        "        )\n",
        "        precisions.append(\n",
        "            precision_k(user_df[\"rating\"], user_df[\"pred_rating\"], k=user_df.shape[0])\n",
        "        )\n",
        "        recalls.append(\n",
        "            recall_k(user_df[\"rating\"], user_df[\"pred_rating\"], k=user_df.shape[0])\n",
        "        )\n",
        "    total_precision = np.mean(precisions)\n",
        "    total_recall = np.mean(recalls)\n",
        "    return total_precision, total_recall"
      ]
    },
    {
      "cell_type": "code",
      "execution_count": 66,
      "metadata": {},
      "outputs": [
        {
          "name": "stdout",
          "output_type": "stream",
          "text": [
            "Train dataset: Precision = 0.000 Recall=0.000\n",
            "Valid dataset: Precision = 0.000 Recall=0.000\n"
          ]
        }
      ],
      "source": [
        "prec_t, rec_t = compute_total_metrics(\n",
        "    train_df, model=model, device=\"cpu\", id_to_movie=id_to_movie\n",
        ")\n",
        "prec_v, rec_v = compute_total_metrics(\n",
        "    valid_df, model=model, device=\"cpu\", id_to_movie=id_to_movie\n",
        ")\n",
        "print(f\"Train dataset: Precision = {prec_t:.3f} Recall={rec_t:.3f}\")\n",
        "print(f\"Valid dataset: Precision = {prec_v:.3f} Recall={rec_v:.3f}\")"
      ]
    },
    {
      "cell_type": "markdown",
      "metadata": {},
      "source": [
        "### Задание 4"
      ]
    },
    {
      "cell_type": "markdown",
      "metadata": {},
      "source": [
        "Используй увеличенную версию датасета: обучи модель, сравни метрики с получившимися выше. \n",
        "\n",
        "```\n",
        "!wget -O data/ml25.zip --no-check-certificate https://files.grouplens.org/datasets/movielens/ml-25m.zip\n",
        "!unzip -qq data/ml25.zip\n",
        "```"
      ]
    },
    {
      "cell_type": "code",
      "execution_count": null,
      "metadata": {},
      "outputs": [],
      "source": [
        "# !wget -O data/ml25.zip --no-check-certificate https://files.grouplens.org/datasets/movielens/ml-25m.zip\n",
        "# !unzip -qq data/ml25.zip"
      ]
    },
    {
      "cell_type": "code",
      "execution_count": 30,
      "metadata": {},
      "outputs": [],
      "source": [
        "DATASET_DIR = os.path.join(CURR_DIR, \"data\", \"ml-25m\")\n",
        "ratings_big = pd.read_csv(os.path.join(DATASET_DIR, \"ratings.csv\"))\n",
        "movies_big = pd.read_csv(os.path.join(DATASET_DIR, \"movies.csv\"))\n",
        "ratings_big.rename(columns={\"userId\": \"user_id\", \"movieId\": \"movie_id\"}, inplace=True)\n",
        "ratings_big.drop(\"timestamp\", inplace=True, axis=1)\n",
        "movies_big.rename(columns={\"movieId\": \"movie_id\"}, inplace=True)\n",
        "movies_big.drop(\"genres\", inplace=True, axis=1)"
      ]
    },
    {
      "cell_type": "code",
      "execution_count": 31,
      "metadata": {},
      "outputs": [
        {
          "name": "stdout",
          "output_type": "stream",
          "text": [
            "(25000095, 3)\n"
          ]
        },
        {
          "data": {
            "text/html": [
              "<div>\n",
              "<style scoped>\n",
              "    .dataframe tbody tr th:only-of-type {\n",
              "        vertical-align: middle;\n",
              "    }\n",
              "\n",
              "    .dataframe tbody tr th {\n",
              "        vertical-align: top;\n",
              "    }\n",
              "\n",
              "    .dataframe thead th {\n",
              "        text-align: right;\n",
              "    }\n",
              "</style>\n",
              "<table border=\"1\" class=\"dataframe\">\n",
              "  <thead>\n",
              "    <tr style=\"text-align: right;\">\n",
              "      <th></th>\n",
              "      <th>user_id</th>\n",
              "      <th>movie_id</th>\n",
              "      <th>rating</th>\n",
              "    </tr>\n",
              "  </thead>\n",
              "  <tbody>\n",
              "    <tr>\n",
              "      <th>0</th>\n",
              "      <td>1</td>\n",
              "      <td>296</td>\n",
              "      <td>5.0</td>\n",
              "    </tr>\n",
              "    <tr>\n",
              "      <th>1</th>\n",
              "      <td>1</td>\n",
              "      <td>306</td>\n",
              "      <td>3.5</td>\n",
              "    </tr>\n",
              "    <tr>\n",
              "      <th>2</th>\n",
              "      <td>1</td>\n",
              "      <td>307</td>\n",
              "      <td>5.0</td>\n",
              "    </tr>\n",
              "  </tbody>\n",
              "</table>\n",
              "</div>"
            ],
            "text/plain": [
              "   user_id  movie_id  rating\n",
              "0        1       296     5.0\n",
              "1        1       306     3.5\n",
              "2        1       307     5.0"
            ]
          },
          "metadata": {},
          "output_type": "display_data"
        },
        {
          "name": "stdout",
          "output_type": "stream",
          "text": [
            "(62423, 2)\n"
          ]
        },
        {
          "data": {
            "text/html": [
              "<div>\n",
              "<style scoped>\n",
              "    .dataframe tbody tr th:only-of-type {\n",
              "        vertical-align: middle;\n",
              "    }\n",
              "\n",
              "    .dataframe tbody tr th {\n",
              "        vertical-align: top;\n",
              "    }\n",
              "\n",
              "    .dataframe thead th {\n",
              "        text-align: right;\n",
              "    }\n",
              "</style>\n",
              "<table border=\"1\" class=\"dataframe\">\n",
              "  <thead>\n",
              "    <tr style=\"text-align: right;\">\n",
              "      <th></th>\n",
              "      <th>movie_id</th>\n",
              "      <th>title</th>\n",
              "    </tr>\n",
              "  </thead>\n",
              "  <tbody>\n",
              "    <tr>\n",
              "      <th>0</th>\n",
              "      <td>1</td>\n",
              "      <td>Toy Story (1995)</td>\n",
              "    </tr>\n",
              "    <tr>\n",
              "      <th>1</th>\n",
              "      <td>2</td>\n",
              "      <td>Jumanji (1995)</td>\n",
              "    </tr>\n",
              "    <tr>\n",
              "      <th>2</th>\n",
              "      <td>3</td>\n",
              "      <td>Grumpier Old Men (1995)</td>\n",
              "    </tr>\n",
              "  </tbody>\n",
              "</table>\n",
              "</div>"
            ],
            "text/plain": [
              "   movie_id                    title\n",
              "0         1         Toy Story (1995)\n",
              "1         2           Jumanji (1995)\n",
              "2         3  Grumpier Old Men (1995)"
            ]
          },
          "metadata": {},
          "output_type": "display_data"
        }
      ],
      "source": [
        "print(ratings_big.shape)\n",
        "display(ratings_big.head(3))\n",
        "print(movies_big.shape)\n",
        "display(movies_big.head(3))"
      ]
    },
    {
      "cell_type": "code",
      "execution_count": 32,
      "metadata": {},
      "outputs": [
        {
          "data": {
            "text/html": [
              "<div>\n",
              "<style scoped>\n",
              "    .dataframe tbody tr th:only-of-type {\n",
              "        vertical-align: middle;\n",
              "    }\n",
              "\n",
              "    .dataframe tbody tr th {\n",
              "        vertical-align: top;\n",
              "    }\n",
              "\n",
              "    .dataframe thead th {\n",
              "        text-align: right;\n",
              "    }\n",
              "</style>\n",
              "<table border=\"1\" class=\"dataframe\">\n",
              "  <thead>\n",
              "    <tr style=\"text-align: right;\">\n",
              "      <th></th>\n",
              "      <th>old_id</th>\n",
              "      <th>title</th>\n",
              "      <th>movie_id</th>\n",
              "    </tr>\n",
              "  </thead>\n",
              "  <tbody>\n",
              "    <tr>\n",
              "      <th>0</th>\n",
              "      <td>1</td>\n",
              "      <td>Toy Story (1995)</td>\n",
              "      <td>1</td>\n",
              "    </tr>\n",
              "    <tr>\n",
              "      <th>1</th>\n",
              "      <td>2</td>\n",
              "      <td>Jumanji (1995)</td>\n",
              "      <td>2</td>\n",
              "    </tr>\n",
              "    <tr>\n",
              "      <th>2</th>\n",
              "      <td>3</td>\n",
              "      <td>Grumpier Old Men (1995)</td>\n",
              "      <td>3</td>\n",
              "    </tr>\n",
              "    <tr>\n",
              "      <th>3</th>\n",
              "      <td>4</td>\n",
              "      <td>Waiting to Exhale (1995)</td>\n",
              "      <td>4</td>\n",
              "    </tr>\n",
              "    <tr>\n",
              "      <th>4</th>\n",
              "      <td>5</td>\n",
              "      <td>Father of the Bride Part II (1995)</td>\n",
              "      <td>5</td>\n",
              "    </tr>\n",
              "  </tbody>\n",
              "</table>\n",
              "</div>"
            ],
            "text/plain": [
              "   old_id                               title  movie_id\n",
              "0       1                    Toy Story (1995)         1\n",
              "1       2                      Jumanji (1995)         2\n",
              "2       3             Grumpier Old Men (1995)         3\n",
              "3       4            Waiting to Exhale (1995)         4\n",
              "4       5  Father of the Bride Part II (1995)         5"
            ]
          },
          "metadata": {},
          "output_type": "display_data"
        }
      ],
      "source": [
        "movies_big.reset_index(inplace=True)\n",
        "movies_big[\"new_id\"] = movies_big[\"index\"] + 1\n",
        "movies_big.drop(\"index\", inplace=True, axis=1)\n",
        "old_new_id = dict(zip(movies_big[\"movie_id\"], movies_big[\"new_id\"]))\n",
        "movies_big.rename(columns={\"movie_id\": \"old_id\", \"new_id\": \"movie_id\"}, inplace=True)\n",
        "display(movies_big.head())\n",
        "# display(movies_big[movies_big[\"movie_id\"] != movies_big[\"new_id\"]])"
      ]
    },
    {
      "cell_type": "code",
      "execution_count": 33,
      "metadata": {},
      "outputs": [],
      "source": [
        "ratings_big[\"movie_id\"] = ratings_big[\"movie_id\"].apply(lambda x: old_new_id[x])"
      ]
    },
    {
      "cell_type": "code",
      "execution_count": 34,
      "metadata": {},
      "outputs": [
        {
          "data": {
            "text/plain": [
              "62423"
            ]
          },
          "execution_count": 34,
          "metadata": {},
          "output_type": "execute_result"
        }
      ],
      "source": [
        "ratings_big[\"movie_id\"].max()"
      ]
    },
    {
      "cell_type": "code",
      "execution_count": 35,
      "metadata": {},
      "outputs": [
        {
          "data": {
            "text/plain": [
              "62423"
            ]
          },
          "execution_count": 35,
          "metadata": {},
          "output_type": "execute_result"
        }
      ],
      "source": [
        "movies_big[\"movie_id\"].nunique()"
      ]
    },
    {
      "cell_type": "code",
      "execution_count": 36,
      "metadata": {},
      "outputs": [
        {
          "data": {
            "text/plain": [
              "62423"
            ]
          },
          "execution_count": 36,
          "metadata": {},
          "output_type": "execute_result"
        }
      ],
      "source": [
        "movies_big[\"movie_id\"].max()"
      ]
    },
    {
      "cell_type": "code",
      "execution_count": 37,
      "metadata": {},
      "outputs": [],
      "source": [
        "id_to_movie_big = dict(zip(movies_big[\"movie_id\"], movies_big[\"title\"]))"
      ]
    },
    {
      "cell_type": "code",
      "execution_count": 38,
      "metadata": {},
      "outputs": [],
      "source": [
        "users = ratings_big[\"user_id\"].unique().tolist()"
      ]
    },
    {
      "cell_type": "code",
      "execution_count": 39,
      "metadata": {},
      "outputs": [],
      "source": [
        "dataset = MovieLensDataset(ratings_big)"
      ]
    },
    {
      "cell_type": "code",
      "execution_count": 40,
      "metadata": {},
      "outputs": [],
      "source": [
        "from torch.utils.data import random_split\n",
        "\n",
        "train_size = int(0.8 * len(dataset))\n",
        "valid_size = len(dataset) - train_size\n",
        "train_ds_big, valid_ds_big = random_split(dataset, [train_size, valid_size])"
      ]
    },
    {
      "cell_type": "code",
      "execution_count": 41,
      "metadata": {},
      "outputs": [],
      "source": [
        "# train_ds, valid_ds = train_test_split(dataset, test_size=0.2, random_state=42)"
      ]
    },
    {
      "cell_type": "code",
      "execution_count": 42,
      "metadata": {},
      "outputs": [
        {
          "data": {
            "text/plain": [
              "user_id    162541\n",
              "dtype: int64"
            ]
          },
          "execution_count": 42,
          "metadata": {},
          "output_type": "execute_result"
        }
      ],
      "source": [
        "train_idxs = train_ds_big.indices\n",
        "train_user_ids = ratings_big.loc[train_idxs, [\"user_id\"]]\n",
        "train_user_ids.max()"
      ]
    },
    {
      "cell_type": "code",
      "execution_count": 43,
      "metadata": {},
      "outputs": [
        {
          "data": {
            "text/plain": [
              "162541"
            ]
          },
          "execution_count": 43,
          "metadata": {},
          "output_type": "execute_result"
        }
      ],
      "source": [
        "len(users)"
      ]
    },
    {
      "cell_type": "code",
      "execution_count": 44,
      "metadata": {},
      "outputs": [
        {
          "data": {
            "text/plain": [
              "movie_id    56648\n",
              "dtype: int64"
            ]
          },
          "execution_count": 44,
          "metadata": {},
          "output_type": "execute_result"
        }
      ],
      "source": [
        "train_movie_ids = ratings_big.loc[train_idxs, [\"movie_id\"]]\n",
        "train_movie_ids.nunique()"
      ]
    },
    {
      "cell_type": "code",
      "execution_count": 45,
      "metadata": {},
      "outputs": [
        {
          "data": {
            "text/plain": [
              "62423"
            ]
          },
          "execution_count": 45,
          "metadata": {},
          "output_type": "execute_result"
        }
      ],
      "source": [
        "len(id_to_movie_big.items())"
      ]
    },
    {
      "cell_type": "code",
      "execution_count": 46,
      "metadata": {},
      "outputs": [
        {
          "data": {
            "text/plain": [
              "62423"
            ]
          },
          "execution_count": 46,
          "metadata": {},
          "output_type": "execute_result"
        }
      ],
      "source": [
        "max(id_to_movie_big.keys())"
      ]
    },
    {
      "cell_type": "code",
      "execution_count": 63,
      "metadata": {},
      "outputs": [],
      "source": [
        "UNIQUE_USERS_BIG = max(users) + 1  # Для слоя Embedding\n",
        "UNIQUE_MOVIES_BIG = max(id_to_movie_big.keys()) + 1  # Для слоя Embedding"
      ]
    },
    {
      "cell_type": "code",
      "execution_count": 64,
      "metadata": {},
      "outputs": [
        {
          "name": "stdout",
          "output_type": "stream",
          "text": [
            "Unique users: 162542, unique movies: 62424\n"
          ]
        }
      ],
      "source": [
        "print(f\"Unique users: {UNIQUE_USERS_BIG}, unique movies: {UNIQUE_MOVIES_BIG}\")"
      ]
    },
    {
      "cell_type": "code",
      "execution_count": 62,
      "metadata": {},
      "outputs": [
        {
          "name": "stdout",
          "output_type": "stream",
          "text": [
            "162541\n",
            "59047\n",
            "162541\n",
            "62423\n"
          ]
        }
      ],
      "source": [
        "print(ratings_big[\"user_id\"].nunique())\n",
        "print(ratings_big[\"movie_id\"].nunique())\n",
        "print(ratings_big[\"user_id\"].max())\n",
        "print(ratings_big[\"movie_id\"].max())"
      ]
    },
    {
      "cell_type": "code",
      "execution_count": 50,
      "metadata": {},
      "outputs": [
        {
          "data": {
            "text/plain": [
              "62423"
            ]
          },
          "execution_count": 50,
          "metadata": {},
          "output_type": "execute_result"
        }
      ],
      "source": [
        "ratings_big[\"movie_id\"].max()"
      ]
    },
    {
      "cell_type": "code",
      "execution_count": 51,
      "metadata": {},
      "outputs": [],
      "source": [
        "config_big = {\n",
        "    \"num_users\": UNIQUE_USERS_BIG,  # число уникальных пользователей\n",
        "    \"num_items\": UNIQUE_MOVIES_BIG,  # число уникальных филмьов\n",
        "    \"emb_size\": 16,  # размер эмбеддинга\n",
        "    \"emb_drop\": 0.05,  # параметр для слоя эмбеддинга\n",
        "    \"lin_drop\": 0.5,  # dropout head layer\n",
        "    \"out_range\": [1.0, 5.0],  # для нормировки выходных оценок\n",
        "}"
      ]
    },
    {
      "cell_type": "code",
      "execution_count": 52,
      "metadata": {},
      "outputs": [
        {
          "data": {
            "text/plain": [
              "BaseRecNet(\n",
              "  (emb_user): Sequential(\n",
              "    (0): Embedding(162542, 16)\n",
              "    (1): Dropout(p=0.05, inplace=False)\n",
              "  )\n",
              "  (emb_item): Sequential(\n",
              "    (0): Embedding(62424, 16)\n",
              "    (1): Dropout(p=0.05, inplace=False)\n",
              "  )\n",
              "  (lin_user): Linear(in_features=16, out_features=16, bias=True)\n",
              "  (lin_item): Linear(in_features=16, out_features=16, bias=True)\n",
              "  (head): Sequential(\n",
              "    (0): Linear(in_features=32, out_features=512, bias=True)\n",
              "    (1): Dropout(p=0.5, inplace=False)\n",
              "    (2): ReLU()\n",
              "    (3): Linear(in_features=512, out_features=1, bias=True)\n",
              "  )\n",
              ")"
            ]
          },
          "execution_count": 52,
          "metadata": {},
          "output_type": "execute_result"
        }
      ],
      "source": [
        "model_big = BaseRecNet(config_big)\n",
        "model_big.to(DEVICE)"
      ]
    },
    {
      "cell_type": "code",
      "execution_count": 53,
      "metadata": {},
      "outputs": [],
      "source": [
        "criterion_big = lambda preds, target: F.smooth_l1_loss(preds, target, beta=0.5)\n",
        "optimizer_big = optim.Adam(model_big.parameters(), lr=1e-4)"
      ]
    },
    {
      "cell_type": "code",
      "execution_count": 54,
      "metadata": {},
      "outputs": [],
      "source": [
        "BATCH_SIZE_BIG = 512\n",
        "train_loader_big = DataLoader(\n",
        "    train_ds_big,\n",
        "    batch_size=BATCH_SIZE_BIG,\n",
        "    shuffle=False,\n",
        "    num_workers=4,\n",
        "    pin_memory=True,\n",
        ")\n",
        "valid_loader_big = DataLoader(\n",
        "    valid_ds_big,\n",
        "    batch_size=BATCH_SIZE_BIG,\n",
        "    shuffle=False,\n",
        "    num_workers=4,\n",
        "    pin_memory=True,\n",
        ")"
      ]
    },
    {
      "cell_type": "code",
      "execution_count": 55,
      "metadata": {},
      "outputs": [],
      "source": [
        "# history_big = {\"epoch_train_losses\": [], \"epoch_valid_losses\": []}"
      ]
    },
    {
      "cell_type": "code",
      "execution_count": 56,
      "metadata": {},
      "outputs": [],
      "source": [
        "def fit_model_big(\n",
        "    n_epochs: int = 10,\n",
        "    model=model_big,\n",
        "    train_loader=train_loader_big,\n",
        "    valid_loader=valid_loader_big,\n",
        ") -> dict:\n",
        "\n",
        "    history = {\"epoch_train_losses\": [], \"epoch_valid_losses\": []}\n",
        "\n",
        "    start_epoch = len(history[\"epoch_train_losses\"])\n",
        "    for epoch in range(start_epoch + 1, start_epoch + n_epochs + 1):\n",
        "        train_pbar = tqdm(\n",
        "            train_loader, desc=f\"Epoch {epoch}/{n_epochs} [Train]\", leave=True\n",
        "        )\n",
        "\n",
        "        batch_losses = []\n",
        "        model.train()\n",
        "        for user, item, rating in train_pbar:\n",
        "            user = user.to(DEVICE)\n",
        "            item = item.to(DEVICE)\n",
        "            rating = rating.to(DEVICE)\n",
        "            preds = model(user, item)\n",
        "            loss = criterion(preds.squeeze(-1), rating)\n",
        "            optimizer.zero_grad()\n",
        "            loss.backward()\n",
        "            optimizer.step()\n",
        "\n",
        "            batch_losses.append(loss.item())\n",
        "\n",
        "        history[\"epoch_train_losses\"].append(np.mean(batch_losses))\n",
        "        train_pbar.set_postfix(\n",
        "            {\n",
        "                \"Loss\": loss,\n",
        "            }\n",
        "        )\n",
        "\n",
        "        model.eval()\n",
        "        valid_pbar = tqdm(\n",
        "            valid_loader, desc=f\"Epoch {epoch}/{n_epochs} [Test]\", leave=True\n",
        "        )\n",
        "        batch_losses = []\n",
        "        for user, item, rating in valid_pbar:\n",
        "            user = user.to(DEVICE)\n",
        "            item = item.to(DEVICE)\n",
        "            rating = rating.to(DEVICE)\n",
        "            preds = model(user, item)\n",
        "            loss = criterion(preds.squeeze(-1), rating)\n",
        "            batch_losses.append(loss.item())\n",
        "\n",
        "        history[\"epoch_valid_losses\"].append(np.mean(batch_losses))\n",
        "        valid_pbar.set_postfix(\n",
        "            {\n",
        "                \"Loss\": loss,\n",
        "            }\n",
        "        )\n",
        "        print(f\"Train stage: \" f\"loss: {history['epoch_train_losses'][-1]:>6.3f}  \")\n",
        "\n",
        "        # Valid stage\n",
        "        print(f\"Valid stage: \" f\"loss: {history['epoch_valid_losses'][-1]:>6.3f}  \")\n",
        "    return history"
      ]
    },
    {
      "cell_type": "code",
      "execution_count": 57,
      "metadata": {},
      "outputs": [
        {
          "name": "stderr",
          "output_type": "stream",
          "text": [
            "Epoch 1/3 [Train]:   0%|          | 0/39063 [00:00<?, ?it/s]"
          ]
        },
        {
          "name": "stderr",
          "output_type": "stream",
          "text": [
            "Epoch 1/3 [Train]: 100%|██████████| 39063/39063 [01:46<00:00, 367.44it/s]\n",
            "Epoch 1/3 [Test]: 100%|██████████| 9766/9766 [00:25<00:00, 380.64it/s]\n"
          ]
        },
        {
          "name": "stdout",
          "output_type": "stream",
          "text": [
            "Train stage: loss:  0.791  \n",
            "Valid stage: loss:  0.786  \n"
          ]
        },
        {
          "name": "stderr",
          "output_type": "stream",
          "text": [
            "Epoch 2/3 [Train]: 100%|██████████| 39063/39063 [01:45<00:00, 371.80it/s]\n",
            "Epoch 2/3 [Test]: 100%|██████████| 9766/9766 [00:24<00:00, 405.38it/s]\n"
          ]
        },
        {
          "name": "stdout",
          "output_type": "stream",
          "text": [
            "Train stage: loss:  0.791  \n",
            "Valid stage: loss:  0.786  \n"
          ]
        },
        {
          "name": "stderr",
          "output_type": "stream",
          "text": [
            "Epoch 3/3 [Train]: 100%|██████████| 39063/39063 [01:35<00:00, 406.94it/s]\n",
            "Epoch 3/3 [Test]: 100%|██████████| 9766/9766 [00:23<00:00, 420.82it/s]"
          ]
        },
        {
          "name": "stdout",
          "output_type": "stream",
          "text": [
            "Train stage: loss:  0.791  \n",
            "Valid stage: loss:  0.786  \n",
            "CPU times: user 4min 55s, sys: 53 s, total: 5min 48s\n",
            "Wall time: 6min 20s\n"
          ]
        },
        {
          "name": "stderr",
          "output_type": "stream",
          "text": [
            "\n"
          ]
        },
        {
          "data": {
            "text/plain": [
              "[<matplotlib.lines.Line2D at 0x722dd2985f40>]"
            ]
          },
          "execution_count": 57,
          "metadata": {},
          "output_type": "execute_result"
        },
        {
          "data": {
            "image/png": "[encoded data removed]",
            "text/plain": [
              "<Figure size 640x480 with 1 Axes>"
            ]
          },
          "metadata": {},
          "output_type": "display_data"
        }
      ],
      "source": [
        "%%time\n",
        "log_big = fit_model_big(3, model=model_big)\n",
        "plt.plot(log_big['epoch_train_losses'])\n",
        "plt.plot(log_big['epoch_valid_losses'])"
      ]
    },
    {
      "cell_type": "code",
      "execution_count": null,
      "metadata": {},
      "outputs": [],
      "source": [
        "# torch.save(model_big.state_dict(), \"weights/big_model_3_epochs.pth\")"
      ]
    },
    {
      "cell_type": "code",
      "execution_count": 59,
      "metadata": {},
      "outputs": [],
      "source": [
        "train_idxs = list(train_ds_big.indices)\n",
        "valid_idxs = list(valid_ds_big.indices)\n",
        "train_df_big = ratings_big.loc[train_idxs, :]\n",
        "valid_df_big = ratings_big.loc[valid_idxs, :]\n",
        "train_df_big.rename(columns={\"movie_id\": \"item_id\"}, inplace=True)\n",
        "valid_df_big.rename(columns={\"movie_id\": \"item_id\"}, inplace=True)"
      ]
    },
    {
      "cell_type": "code",
      "execution_count": 68,
      "metadata": {},
      "outputs": [
        {
          "ename": "KeyboardInterrupt",
          "evalue": "",
          "output_type": "error",
          "traceback": [
            "\u001b[31m---------------------------------------------------------------------------\u001b[39m",
            "\u001b[31mKeyboardInterrupt\u001b[39m                         Traceback (most recent call last)",
            "\u001b[36mCell\u001b[39m\u001b[36m \u001b[39m\u001b[32mIn[68]\u001b[39m\u001b[32m, line 1\u001b[39m\n\u001b[32m----> \u001b[39m\u001b[32m1\u001b[39m prec_t_big, rec_t_big = \u001b[43mcompute_total_metrics\u001b[49m\u001b[43m(\u001b[49m\n\u001b[32m      2\u001b[39m \u001b[43m    \u001b[49m\u001b[43mtrain_df_big\u001b[49m\u001b[43m,\u001b[49m\u001b[43m \u001b[49m\u001b[43mmodel\u001b[49m\u001b[43m=\u001b[49m\u001b[43mmodel_big\u001b[49m\u001b[43m,\u001b[49m\u001b[43m \u001b[49m\u001b[43mdevice\u001b[49m\u001b[43m=\u001b[49m\u001b[33;43m\"\u001b[39;49m\u001b[33;43mcpu\u001b[39;49m\u001b[33;43m\"\u001b[39;49m\u001b[43m,\u001b[49m\u001b[43m \u001b[49m\u001b[43mid_to_movie\u001b[49m\u001b[43m=\u001b[49m\u001b[43mid_to_movie_big\u001b[49m\n\u001b[32m      3\u001b[39m \u001b[43m)\u001b[49m\n\u001b[32m      4\u001b[39m prec_v_big, rec_v_big = compute_total_metrics(\n\u001b[32m      5\u001b[39m     valid_df_big, model=model_big, device=\u001b[33m\"\u001b[39m\u001b[33mcpu\u001b[39m\u001b[33m\"\u001b[39m, id_to_movie=id_to_movie_big\n\u001b[32m      6\u001b[39m )\n\u001b[32m      7\u001b[39m \u001b[38;5;28mprint\u001b[39m(\u001b[33mf\u001b[39m\u001b[33m\"\u001b[39m\u001b[33mTrain dataset: Precision = \u001b[39m\u001b[38;5;132;01m{\u001b[39;00mprec_t\u001b[38;5;132;01m:\u001b[39;00m\u001b[33m.3f\u001b[39m\u001b[38;5;132;01m}\u001b[39;00m\u001b[33m Recall=\u001b[39m\u001b[38;5;132;01m{\u001b[39;00mrec_t\u001b[38;5;132;01m:\u001b[39;00m\u001b[33m.3f\u001b[39m\u001b[38;5;132;01m}\u001b[39;00m\u001b[33m\"\u001b[39m)\n",
            "\u001b[36mCell\u001b[39m\u001b[36m \u001b[39m\u001b[32mIn[65]\u001b[39m\u001b[32m, line 6\u001b[39m, in \u001b[36mcompute_total_metrics\u001b[39m\u001b[34m(val_df, model, device, id_to_movie)\u001b[39m\n\u001b[32m      4\u001b[39m recalls = []\n\u001b[32m      5\u001b[39m \u001b[38;5;28;01mfor\u001b[39;00m c \u001b[38;5;129;01min\u001b[39;00m user_ids:\n\u001b[32m----> \u001b[39m\u001b[32m6\u001b[39m     user_df = \u001b[43mrecommend_for_user_id_from_valid\u001b[49m\u001b[43m(\u001b[49m\n\u001b[32m      7\u001b[39m \u001b[43m        \u001b[49m\u001b[43muser_id\u001b[49m\u001b[43m=\u001b[49m\u001b[43mc\u001b[49m\u001b[43m,\u001b[49m\n\u001b[32m      8\u001b[39m \u001b[43m        \u001b[49m\u001b[43mvalid_df\u001b[49m\u001b[43m=\u001b[49m\u001b[43mval_df\u001b[49m\u001b[43m,\u001b[49m\n\u001b[32m      9\u001b[39m \u001b[43m        \u001b[49m\u001b[43mmodel\u001b[49m\u001b[43m=\u001b[49m\u001b[43mmodel\u001b[49m\u001b[43m,\u001b[49m\n\u001b[32m     10\u001b[39m \u001b[43m        \u001b[49m\u001b[43mdevice\u001b[49m\u001b[43m=\u001b[49m\u001b[43mdevice\u001b[49m\u001b[43m,\u001b[49m\n\u001b[32m     11\u001b[39m \u001b[43m        \u001b[49m\u001b[43mid_to_movie\u001b[49m\u001b[43m=\u001b[49m\u001b[43mid_to_movie\u001b[49m\u001b[43m,\u001b[49m\n\u001b[32m     12\u001b[39m \u001b[43m        \u001b[49m\u001b[43mn\u001b[49m\u001b[43m=\u001b[49m\u001b[43m-\u001b[49m\u001b[32;43m1\u001b[39;49m\u001b[43m,\u001b[49m\n\u001b[32m     13\u001b[39m \u001b[43m    \u001b[49m\u001b[43m)\u001b[49m\n\u001b[32m     14\u001b[39m     precisions.append(\n\u001b[32m     15\u001b[39m         precision_k(user_df[\u001b[33m\"\u001b[39m\u001b[33mrating\u001b[39m\u001b[33m\"\u001b[39m], user_df[\u001b[33m\"\u001b[39m\u001b[33mpred_rating\u001b[39m\u001b[33m\"\u001b[39m], k=user_df.shape[\u001b[32m0\u001b[39m])\n\u001b[32m     16\u001b[39m     )\n\u001b[32m     17\u001b[39m     recalls.append(\n\u001b[32m     18\u001b[39m         recall_k(user_df[\u001b[33m\"\u001b[39m\u001b[33mrating\u001b[39m\u001b[33m\"\u001b[39m], user_df[\u001b[33m\"\u001b[39m\u001b[33mpred_rating\u001b[39m\u001b[33m\"\u001b[39m], k=user_df.shape[\u001b[32m0\u001b[39m])\n\u001b[32m     19\u001b[39m     )\n",
            "\u001b[36mFile \u001b[39m\u001b[32m/mnt/data/elbrus/Phase2_continue/ds-phase-2-cont-git/week4/day2/aux/recommend.py:19\u001b[39m, in \u001b[36mrecommend_for_user_id_from_valid\u001b[39m\u001b[34m(user_id, valid_df, model, device, id_to_movie, n)\u001b[39m\n\u001b[32m     10\u001b[39m \u001b[38;5;28;01mdef\u001b[39;00m\u001b[38;5;250m \u001b[39m\u001b[34mrecommend_for_user_id_from_valid\u001b[39m(\n\u001b[32m     11\u001b[39m     user_id: \u001b[38;5;28mint\u001b[39m,\n\u001b[32m     12\u001b[39m     valid_df: pd.DataFrame,  \u001b[38;5;66;03m# type: ignore\u001b[39;00m\n\u001b[32m   (...)\u001b[39m\u001b[32m     16\u001b[39m     n=-\u001b[32m1\u001b[39m,\n\u001b[32m     17\u001b[39m ):\n\u001b[32m---> \u001b[39m\u001b[32m19\u001b[39m     user_df = valid_df[\u001b[43mvalid_df\u001b[49m\u001b[43m[\u001b[49m\u001b[33;43m\"\u001b[39;49m\u001b[33;43muser_id\u001b[39;49m\u001b[33;43m\"\u001b[39;49m\u001b[43m]\u001b[49m\u001b[43m \u001b[49m\u001b[43m==\u001b[49m\u001b[43m \u001b[49m\u001b[43muser_id\u001b[49m].copy()\n\u001b[32m     20\u001b[39m     \u001b[38;5;66;03m# print(user_df.head(3))\u001b[39;00m\n\u001b[32m     21\u001b[39m     \u001b[38;5;28;01mif\u001b[39;00m user_df.shape[\u001b[32m0\u001b[39m] == \u001b[32m0\u001b[39m:\n",
            "\u001b[36mFile \u001b[39m\u001b[32m/mnt/data/elbrus/Phase2_continue/ds-phase-2-cont-git/week4/.venv/lib/python3.12/site-packages/pandas/core/ops/common.py:76\u001b[39m, in \u001b[36m_unpack_zerodim_and_defer.<locals>.new_method\u001b[39m\u001b[34m(self, other)\u001b[39m\n\u001b[32m     72\u001b[39m             \u001b[38;5;28;01mreturn\u001b[39;00m \u001b[38;5;28mNotImplemented\u001b[39m\n\u001b[32m     74\u001b[39m other = item_from_zerodim(other)\n\u001b[32m---> \u001b[39m\u001b[32m76\u001b[39m \u001b[38;5;28;01mreturn\u001b[39;00m \u001b[43mmethod\u001b[49m\u001b[43m(\u001b[49m\u001b[38;5;28;43mself\u001b[39;49m\u001b[43m,\u001b[49m\u001b[43m \u001b[49m\u001b[43mother\u001b[49m\u001b[43m)\u001b[49m\n",
            "\u001b[36mFile \u001b[39m\u001b[32m/mnt/data/elbrus/Phase2_continue/ds-phase-2-cont-git/week4/.venv/lib/python3.12/site-packages/pandas/core/arraylike.py:40\u001b[39m, in \u001b[36mOpsMixin.__eq__\u001b[39m\u001b[34m(self, other)\u001b[39m\n\u001b[32m     38\u001b[39m \u001b[38;5;129m@unpack_zerodim_and_defer\u001b[39m(\u001b[33m\"\u001b[39m\u001b[33m__eq__\u001b[39m\u001b[33m\"\u001b[39m)\n\u001b[32m     39\u001b[39m \u001b[38;5;28;01mdef\u001b[39;00m\u001b[38;5;250m \u001b[39m\u001b[34m__eq__\u001b[39m(\u001b[38;5;28mself\u001b[39m, other):\n\u001b[32m---> \u001b[39m\u001b[32m40\u001b[39m     \u001b[38;5;28;01mreturn\u001b[39;00m \u001b[38;5;28;43mself\u001b[39;49m\u001b[43m.\u001b[49m\u001b[43m_cmp_method\u001b[49m\u001b[43m(\u001b[49m\u001b[43mother\u001b[49m\u001b[43m,\u001b[49m\u001b[43m \u001b[49m\u001b[43moperator\u001b[49m\u001b[43m.\u001b[49m\u001b[43meq\u001b[49m\u001b[43m)\u001b[49m\n",
            "\u001b[36mFile \u001b[39m\u001b[32m/mnt/data/elbrus/Phase2_continue/ds-phase-2-cont-git/week4/.venv/lib/python3.12/site-packages/pandas/core/series.py:6130\u001b[39m, in \u001b[36mSeries._cmp_method\u001b[39m\u001b[34m(self, other, op)\u001b[39m\n\u001b[32m   6127\u001b[39m lvalues = \u001b[38;5;28mself\u001b[39m._values\n\u001b[32m   6128\u001b[39m rvalues = extract_array(other, extract_numpy=\u001b[38;5;28;01mTrue\u001b[39;00m, extract_range=\u001b[38;5;28;01mTrue\u001b[39;00m)\n\u001b[32m-> \u001b[39m\u001b[32m6130\u001b[39m res_values = \u001b[43mops\u001b[49m\u001b[43m.\u001b[49m\u001b[43mcomparison_op\u001b[49m\u001b[43m(\u001b[49m\u001b[43mlvalues\u001b[49m\u001b[43m,\u001b[49m\u001b[43m \u001b[49m\u001b[43mrvalues\u001b[49m\u001b[43m,\u001b[49m\u001b[43m \u001b[49m\u001b[43mop\u001b[49m\u001b[43m)\u001b[49m\n\u001b[32m   6132\u001b[39m \u001b[38;5;28;01mreturn\u001b[39;00m \u001b[38;5;28mself\u001b[39m._construct_result(res_values, name=res_name)\n",
            "\u001b[36mFile \u001b[39m\u001b[32m/mnt/data/elbrus/Phase2_continue/ds-phase-2-cont-git/week4/.venv/lib/python3.12/site-packages/pandas/core/ops/array_ops.py:347\u001b[39m, in \u001b[36mcomparison_op\u001b[39m\u001b[34m(left, right, op)\u001b[39m\n\u001b[32m    344\u001b[39m     res_values = comp_method_OBJECT_ARRAY(op, lvalues, rvalues)\n\u001b[32m    346\u001b[39m \u001b[38;5;28;01melse\u001b[39;00m:\n\u001b[32m--> \u001b[39m\u001b[32m347\u001b[39m     res_values = \u001b[43m_na_arithmetic_op\u001b[49m\u001b[43m(\u001b[49m\u001b[43mlvalues\u001b[49m\u001b[43m,\u001b[49m\u001b[43m \u001b[49m\u001b[43mrvalues\u001b[49m\u001b[43m,\u001b[49m\u001b[43m \u001b[49m\u001b[43mop\u001b[49m\u001b[43m,\u001b[49m\u001b[43m \u001b[49m\u001b[43mis_cmp\u001b[49m\u001b[43m=\u001b[49m\u001b[38;5;28;43;01mTrue\u001b[39;49;00m\u001b[43m)\u001b[49m\n\u001b[32m    349\u001b[39m \u001b[38;5;28;01mreturn\u001b[39;00m res_values\n",
            "\u001b[36mFile \u001b[39m\u001b[32m/mnt/data/elbrus/Phase2_continue/ds-phase-2-cont-git/week4/.venv/lib/python3.12/site-packages/pandas/core/ops/array_ops.py:218\u001b[39m, in \u001b[36m_na_arithmetic_op\u001b[39m\u001b[34m(left, right, op, is_cmp)\u001b[39m\n\u001b[32m    215\u001b[39m     func = partial(expressions.evaluate, op)\n\u001b[32m    217\u001b[39m \u001b[38;5;28;01mtry\u001b[39;00m:\n\u001b[32m--> \u001b[39m\u001b[32m218\u001b[39m     result = \u001b[43mfunc\u001b[49m\u001b[43m(\u001b[49m\u001b[43mleft\u001b[49m\u001b[43m,\u001b[49m\u001b[43m \u001b[49m\u001b[43mright\u001b[49m\u001b[43m)\u001b[49m\n\u001b[32m    219\u001b[39m \u001b[38;5;28;01mexcept\u001b[39;00m \u001b[38;5;167;01mTypeError\u001b[39;00m:\n\u001b[32m    220\u001b[39m     \u001b[38;5;28;01mif\u001b[39;00m \u001b[38;5;129;01mnot\u001b[39;00m is_cmp \u001b[38;5;129;01mand\u001b[39;00m (\n\u001b[32m    221\u001b[39m         left.dtype == \u001b[38;5;28mobject\u001b[39m \u001b[38;5;129;01mor\u001b[39;00m \u001b[38;5;28mgetattr\u001b[39m(right, \u001b[33m\"\u001b[39m\u001b[33mdtype\u001b[39m\u001b[33m\"\u001b[39m, \u001b[38;5;28;01mNone\u001b[39;00m) == \u001b[38;5;28mobject\u001b[39m\n\u001b[32m    222\u001b[39m     ):\n\u001b[32m   (...)\u001b[39m\u001b[32m    225\u001b[39m         \u001b[38;5;66;03m# Don't do this for comparisons, as that will handle complex numbers\u001b[39;00m\n\u001b[32m    226\u001b[39m         \u001b[38;5;66;03m#  incorrectly, see GH#32047\u001b[39;00m\n",
            "\u001b[36mFile \u001b[39m\u001b[32m/mnt/data/elbrus/Phase2_continue/ds-phase-2-cont-git/week4/.venv/lib/python3.12/site-packages/pandas/core/computation/expressions.py:242\u001b[39m, in \u001b[36mevaluate\u001b[39m\u001b[34m(op, a, b, use_numexpr)\u001b[39m\n\u001b[32m    239\u001b[39m \u001b[38;5;28;01mif\u001b[39;00m op_str \u001b[38;5;129;01mis\u001b[39;00m \u001b[38;5;129;01mnot\u001b[39;00m \u001b[38;5;28;01mNone\u001b[39;00m:\n\u001b[32m    240\u001b[39m     \u001b[38;5;28;01mif\u001b[39;00m use_numexpr:\n\u001b[32m    241\u001b[39m         \u001b[38;5;66;03m# error: \"None\" not callable\u001b[39;00m\n\u001b[32m--> \u001b[39m\u001b[32m242\u001b[39m         \u001b[38;5;28;01mreturn\u001b[39;00m \u001b[43m_evaluate\u001b[49m\u001b[43m(\u001b[49m\u001b[43mop\u001b[49m\u001b[43m,\u001b[49m\u001b[43m \u001b[49m\u001b[43mop_str\u001b[49m\u001b[43m,\u001b[49m\u001b[43m \u001b[49m\u001b[43ma\u001b[49m\u001b[43m,\u001b[49m\u001b[43m \u001b[49m\u001b[43mb\u001b[49m\u001b[43m)\u001b[49m  \u001b[38;5;66;03m# type: ignore[misc]\u001b[39;00m\n\u001b[32m    243\u001b[39m \u001b[38;5;28;01mreturn\u001b[39;00m _evaluate_standard(op, op_str, a, b)\n",
            "\u001b[36mFile \u001b[39m\u001b[32m/mnt/data/elbrus/Phase2_continue/ds-phase-2-cont-git/week4/.venv/lib/python3.12/site-packages/pandas/core/computation/expressions.py:73\u001b[39m, in \u001b[36m_evaluate_standard\u001b[39m\u001b[34m(op, op_str, a, b)\u001b[39m\n\u001b[32m     71\u001b[39m \u001b[38;5;28;01mif\u001b[39;00m _TEST_MODE:\n\u001b[32m     72\u001b[39m     _store_test_result(\u001b[38;5;28;01mFalse\u001b[39;00m)\n\u001b[32m---> \u001b[39m\u001b[32m73\u001b[39m \u001b[38;5;28;01mreturn\u001b[39;00m \u001b[43mop\u001b[49m\u001b[43m(\u001b[49m\u001b[43ma\u001b[49m\u001b[43m,\u001b[49m\u001b[43m \u001b[49m\u001b[43mb\u001b[49m\u001b[43m)\u001b[49m\n",
            "\u001b[31mKeyboardInterrupt\u001b[39m: "
          ]
        }
      ],
      "source": [
        "prec_t_big, rec_t_big = compute_total_metrics(\n",
        "    train_df_big, model=model_big, device=\"cpu\", id_to_movie=id_to_movie_big\n",
        ")\n",
        "prec_v_big, rec_v_big = compute_total_metrics(\n",
        "    valid_df_big, model=model_big, device=\"cpu\", id_to_movie=id_to_movie_big\n",
        ")\n",
        "print(f\"Train dataset: Precision = {prec_t:.3f} Recall={rec_t:.3f}\")\n",
        "print(f\"Valid dataset: Precision = {prec_v:.3f} Recall={rec_v:.3f}\")"
      ]
    }
  ],
  "metadata": {
    "colab": {
      "provenance": []
    },
    "kernelspec": {
      "display_name": ".venv (3.12.10)",
      "language": "python",
      "name": "python3"
    },
    "language_info": {
      "codemirror_mode": {
        "name": "ipython",
        "version": 3
      },
      "file_extension": ".py",
      "mimetype": "text/x-python",
      "name": "python",
      "nbconvert_exporter": "python",
      "pygments_lexer": "ipython3",
      "version": "3.12.10"
    }
  },
  "nbformat": 4,
  "nbformat_minor": 0
}
